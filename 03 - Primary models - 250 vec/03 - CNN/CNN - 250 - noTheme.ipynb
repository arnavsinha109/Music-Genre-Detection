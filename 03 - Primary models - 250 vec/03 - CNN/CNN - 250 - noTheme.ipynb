{
 "cells": [
  {
   "cell_type": "code",
   "execution_count": 3,
   "id": "fca4822a",
   "metadata": {
    "slideshow": {
     "slide_type": "subslide"
    }
   },
   "outputs": [],
   "source": [
    "import numpy as np\n",
    "import pandas as pd\n",
    "from tqdm import tqdm\n",
    "from sklearn.model_selection import train_test_split\n",
    "from sklearn.preprocessing import OneHotEncoder\n"
   ]
  },
  {
   "cell_type": "markdown",
   "id": "edccdae8",
   "metadata": {
    "slideshow": {
     "slide_type": "slide"
    }
   },
   "source": [
    "The main aim of this notebook is to train CNN models for 250 dimension dataset without the use of theme part.\n"
   ]
  },
  {
   "cell_type": "code",
   "execution_count": 4,
   "id": "ae38a8c3",
   "metadata": {
    "slideshow": {
     "slide_type": "subslide"
    }
   },
   "outputs": [],
   "source": [
    "musicFeatures = pd.read_pickle(\"./musicFeatures.pkl\")  "
   ]
  },
  {
   "cell_type": "code",
   "execution_count": 5,
   "id": "8213847a",
   "metadata": {
    "slideshow": {
     "slide_type": "subslide"
    }
   },
   "outputs": [
    {
     "data": {
      "text/plain": [
       "(26900, 22)"
      ]
     },
     "execution_count": 5,
     "metadata": {},
     "output_type": "execute_result"
    }
   ],
   "source": [
    "musicFeatures.shape"
   ]
  },
  {
   "cell_type": "code",
   "execution_count": 6,
   "id": "4153b47f",
   "metadata": {
    "slideshow": {
     "slide_type": "subslide"
    }
   },
   "outputs": [
    {
     "data": {
      "text/html": [
       "<div>\n",
       "<style scoped>\n",
       "    .dataframe tbody tr th:only-of-type {\n",
       "        vertical-align: middle;\n",
       "    }\n",
       "\n",
       "    .dataframe tbody tr th {\n",
       "        vertical-align: top;\n",
       "    }\n",
       "\n",
       "    .dataframe thead th {\n",
       "        text-align: right;\n",
       "    }\n",
       "</style>\n",
       "<table border=\"1\" class=\"dataframe\">\n",
       "  <thead>\n",
       "    <tr style=\"text-align: right;\">\n",
       "      <th></th>\n",
       "      <th>id</th>\n",
       "      <th>genre</th>\n",
       "      <th>mfccFeature_0</th>\n",
       "      <th>mfccFeature_1</th>\n",
       "      <th>mfccFeature_2</th>\n",
       "      <th>mfccFeature_3</th>\n",
       "      <th>mfccFeature_4</th>\n",
       "      <th>mfccFeature_5</th>\n",
       "      <th>mfccFeature_6</th>\n",
       "      <th>mfccFeature_7</th>\n",
       "      <th>...</th>\n",
       "      <th>mfccFeature_10</th>\n",
       "      <th>mfccFeature_11</th>\n",
       "      <th>mfccFeature_12</th>\n",
       "      <th>mfccFeature_13</th>\n",
       "      <th>mfccFeature_14</th>\n",
       "      <th>themeFeature_0</th>\n",
       "      <th>themeFeature_1</th>\n",
       "      <th>themeFeature_2</th>\n",
       "      <th>themeFeature_3</th>\n",
       "      <th>themeFeature_4</th>\n",
       "    </tr>\n",
       "  </thead>\n",
       "  <tbody>\n",
       "    <tr>\n",
       "      <th>0</th>\n",
       "      <td>124425_0</td>\n",
       "      <td>Folk</td>\n",
       "      <td>[-367.4169, -240.58614, -193.78488, -180.29262...</td>\n",
       "      <td>[163.79123, 170.1294, 171.51189, 161.30435, 14...</td>\n",
       "      <td>[6.0959854, -5.9718704, -3.6486344, -1.2554941...</td>\n",
       "      <td>[53.194122, 63.06723, 60.13885, 54.763412, 52....</td>\n",
       "      <td>[16.68528, 19.538809, 19.626118, 18.60508, 23....</td>\n",
       "      <td>[-23.51472, -19.84507, -16.962742, -13.548637,...</td>\n",
       "      <td>[6.3363132, -1.276854, -5.610017, -4.050003, -...</td>\n",
       "      <td>[-20.14743, -24.12778, -16.919537, -7.6289234,...</td>\n",
       "      <td>...</td>\n",
       "      <td>[3.951639, -4.166794, -8.241913, -9.794014, -1...</td>\n",
       "      <td>[5.920375, 9.249519, 8.353765, 11.909894, 14.4...</td>\n",
       "      <td>[-12.381685, -16.062777, -16.373697, -15.77498...</td>\n",
       "      <td>[-3.8526406, -3.5650363, -4.6753526, -5.407305...</td>\n",
       "      <td>[-4.4005404, -11.534243, -12.7789135, -14.0914...</td>\n",
       "      <td>[-2.81877732, 0.0170741491, -2.23746324, -1.79...</td>\n",
       "      <td>[-0.648167074, -0.260594785, -1.02404821, 2.81...</td>\n",
       "      <td>[-0.6686466, 2.7766242, -1.6993774, -3.4631765...</td>\n",
       "      <td>[-0.7302982, 1.5127099, 1.2979797, 0.65926456,...</td>\n",
       "      <td>[-2.26469612, 3.18752861, -1.83492291, 1.09744...</td>\n",
       "    </tr>\n",
       "    <tr>\n",
       "      <th>1</th>\n",
       "      <td>124425_1</td>\n",
       "      <td>Folk</td>\n",
       "      <td>[-176.67264, -169.07156, -142.83098, -116.0994...</td>\n",
       "      <td>[125.95861, 142.0693, 138.62712, 128.68915, 12...</td>\n",
       "      <td>[-42.819057, -54.282654, -64.97652, -73.68849,...</td>\n",
       "      <td>[68.79902, 82.17572, 71.34984, 73.27362, 84.63...</td>\n",
       "      <td>[15.051884, 15.13154, 15.273981, 14.384039, 15...</td>\n",
       "      <td>[-5.963161, -10.348415, -12.421081, -9.166971,...</td>\n",
       "      <td>[18.740742, 19.350863, 8.707056, 3.6187146, 1....</td>\n",
       "      <td>[-11.269847, -7.254199, 1.2921772, -1.4600475,...</td>\n",
       "      <td>...</td>\n",
       "      <td>[-5.3846745, -10.779312, -19.985872, -18.81395...</td>\n",
       "      <td>[12.694374, 11.362453, 8.072839, 4.8536325, -0...</td>\n",
       "      <td>[3.3793998, -0.6741159, -0.14108896, -5.083455...</td>\n",
       "      <td>[-19.578459, -20.371014, -11.236882, -7.421087...</td>\n",
       "      <td>[-8.606797, -10.857103, -13.955954, -13.888264...</td>\n",
       "      <td>[-2.81877732, 0.0170741491, -2.23746324, -1.79...</td>\n",
       "      <td>[-0.648167074, -0.260594785, -1.02404821, 2.81...</td>\n",
       "      <td>[-0.6686466, 2.7766242, -1.6993774, -3.4631765...</td>\n",
       "      <td>[-0.7302982, 1.5127099, 1.2979797, 0.65926456,...</td>\n",
       "      <td>[-2.26469612, 3.18752861, -1.83492291, 1.09744...</td>\n",
       "    </tr>\n",
       "    <tr>\n",
       "      <th>2</th>\n",
       "      <td>124425_2</td>\n",
       "      <td>Folk</td>\n",
       "      <td>[-112.90256, -84.587326, -92.53052, -99.84867,...</td>\n",
       "      <td>[118.598724, 102.67175, 82.80994, 73.35031, 71...</td>\n",
       "      <td>[-33.237568, -38.343197, -34.45424, -24.077305...</td>\n",
       "      <td>[50.234768, 52.99376, 56.314552, 51.52988, 53....</td>\n",
       "      <td>[18.136402, 22.863585, 18.818027, 11.438265, 8...</td>\n",
       "      <td>[-23.589928, -19.38637, -15.253525, -5.8537474...</td>\n",
       "      <td>[11.365215, 6.558339, -1.7250502, -4.8964157, ...</td>\n",
       "      <td>[-8.613762, -10.419959, -4.151663, -1.5471857,...</td>\n",
       "      <td>...</td>\n",
       "      <td>[-19.939487, -16.535833, -21.92295, -25.605438...</td>\n",
       "      <td>[12.999569, 8.9071, 3.3847241, 5.747637, 2.470...</td>\n",
       "      <td>[-5.4092526, -7.6361217, -13.698164, -13.45112...</td>\n",
       "      <td>[-0.42731082, -2.8598223, -1.4495995, 1.697975...</td>\n",
       "      <td>[-14.1753845, -20.045826, -20.387835, -21.9254...</td>\n",
       "      <td>[-2.81877732, 0.0170741491, -2.23746324, -1.79...</td>\n",
       "      <td>[-0.648167074, -0.260594785, -1.02404821, 2.81...</td>\n",
       "      <td>[-0.6686466, 2.7766242, -1.6993774, -3.4631765...</td>\n",
       "      <td>[-0.7302982, 1.5127099, 1.2979797, 0.65926456,...</td>\n",
       "      <td>[-2.26469612, 3.18752861, -1.83492291, 1.09744...</td>\n",
       "    </tr>\n",
       "  </tbody>\n",
       "</table>\n",
       "<p>3 rows × 22 columns</p>\n",
       "</div>"
      ],
      "text/plain": [
       "         id genre                                      mfccFeature_0  \\\n",
       "0  124425_0  Folk  [-367.4169, -240.58614, -193.78488, -180.29262...   \n",
       "1  124425_1  Folk  [-176.67264, -169.07156, -142.83098, -116.0994...   \n",
       "2  124425_2  Folk  [-112.90256, -84.587326, -92.53052, -99.84867,...   \n",
       "\n",
       "                                       mfccFeature_1  \\\n",
       "0  [163.79123, 170.1294, 171.51189, 161.30435, 14...   \n",
       "1  [125.95861, 142.0693, 138.62712, 128.68915, 12...   \n",
       "2  [118.598724, 102.67175, 82.80994, 73.35031, 71...   \n",
       "\n",
       "                                       mfccFeature_2  \\\n",
       "0  [6.0959854, -5.9718704, -3.6486344, -1.2554941...   \n",
       "1  [-42.819057, -54.282654, -64.97652, -73.68849,...   \n",
       "2  [-33.237568, -38.343197, -34.45424, -24.077305...   \n",
       "\n",
       "                                       mfccFeature_3  \\\n",
       "0  [53.194122, 63.06723, 60.13885, 54.763412, 52....   \n",
       "1  [68.79902, 82.17572, 71.34984, 73.27362, 84.63...   \n",
       "2  [50.234768, 52.99376, 56.314552, 51.52988, 53....   \n",
       "\n",
       "                                       mfccFeature_4  \\\n",
       "0  [16.68528, 19.538809, 19.626118, 18.60508, 23....   \n",
       "1  [15.051884, 15.13154, 15.273981, 14.384039, 15...   \n",
       "2  [18.136402, 22.863585, 18.818027, 11.438265, 8...   \n",
       "\n",
       "                                       mfccFeature_5  \\\n",
       "0  [-23.51472, -19.84507, -16.962742, -13.548637,...   \n",
       "1  [-5.963161, -10.348415, -12.421081, -9.166971,...   \n",
       "2  [-23.589928, -19.38637, -15.253525, -5.8537474...   \n",
       "\n",
       "                                       mfccFeature_6  \\\n",
       "0  [6.3363132, -1.276854, -5.610017, -4.050003, -...   \n",
       "1  [18.740742, 19.350863, 8.707056, 3.6187146, 1....   \n",
       "2  [11.365215, 6.558339, -1.7250502, -4.8964157, ...   \n",
       "\n",
       "                                       mfccFeature_7  ...  \\\n",
       "0  [-20.14743, -24.12778, -16.919537, -7.6289234,...  ...   \n",
       "1  [-11.269847, -7.254199, 1.2921772, -1.4600475,...  ...   \n",
       "2  [-8.613762, -10.419959, -4.151663, -1.5471857,...  ...   \n",
       "\n",
       "                                      mfccFeature_10  \\\n",
       "0  [3.951639, -4.166794, -8.241913, -9.794014, -1...   \n",
       "1  [-5.3846745, -10.779312, -19.985872, -18.81395...   \n",
       "2  [-19.939487, -16.535833, -21.92295, -25.605438...   \n",
       "\n",
       "                                      mfccFeature_11  \\\n",
       "0  [5.920375, 9.249519, 8.353765, 11.909894, 14.4...   \n",
       "1  [12.694374, 11.362453, 8.072839, 4.8536325, -0...   \n",
       "2  [12.999569, 8.9071, 3.3847241, 5.747637, 2.470...   \n",
       "\n",
       "                                      mfccFeature_12  \\\n",
       "0  [-12.381685, -16.062777, -16.373697, -15.77498...   \n",
       "1  [3.3793998, -0.6741159, -0.14108896, -5.083455...   \n",
       "2  [-5.4092526, -7.6361217, -13.698164, -13.45112...   \n",
       "\n",
       "                                      mfccFeature_13  \\\n",
       "0  [-3.8526406, -3.5650363, -4.6753526, -5.407305...   \n",
       "1  [-19.578459, -20.371014, -11.236882, -7.421087...   \n",
       "2  [-0.42731082, -2.8598223, -1.4495995, 1.697975...   \n",
       "\n",
       "                                      mfccFeature_14  \\\n",
       "0  [-4.4005404, -11.534243, -12.7789135, -14.0914...   \n",
       "1  [-8.606797, -10.857103, -13.955954, -13.888264...   \n",
       "2  [-14.1753845, -20.045826, -20.387835, -21.9254...   \n",
       "\n",
       "                                      themeFeature_0  \\\n",
       "0  [-2.81877732, 0.0170741491, -2.23746324, -1.79...   \n",
       "1  [-2.81877732, 0.0170741491, -2.23746324, -1.79...   \n",
       "2  [-2.81877732, 0.0170741491, -2.23746324, -1.79...   \n",
       "\n",
       "                                      themeFeature_1  \\\n",
       "0  [-0.648167074, -0.260594785, -1.02404821, 2.81...   \n",
       "1  [-0.648167074, -0.260594785, -1.02404821, 2.81...   \n",
       "2  [-0.648167074, -0.260594785, -1.02404821, 2.81...   \n",
       "\n",
       "                                      themeFeature_2  \\\n",
       "0  [-0.6686466, 2.7766242, -1.6993774, -3.4631765...   \n",
       "1  [-0.6686466, 2.7766242, -1.6993774, -3.4631765...   \n",
       "2  [-0.6686466, 2.7766242, -1.6993774, -3.4631765...   \n",
       "\n",
       "                                      themeFeature_3  \\\n",
       "0  [-0.7302982, 1.5127099, 1.2979797, 0.65926456,...   \n",
       "1  [-0.7302982, 1.5127099, 1.2979797, 0.65926456,...   \n",
       "2  [-0.7302982, 1.5127099, 1.2979797, 0.65926456,...   \n",
       "\n",
       "                                      themeFeature_4  \n",
       "0  [-2.26469612, 3.18752861, -1.83492291, 1.09744...  \n",
       "1  [-2.26469612, 3.18752861, -1.83492291, 1.09744...  \n",
       "2  [-2.26469612, 3.18752861, -1.83492291, 1.09744...  \n",
       "\n",
       "[3 rows x 22 columns]"
      ]
     },
     "execution_count": 6,
     "metadata": {},
     "output_type": "execute_result"
    }
   ],
   "source": [
    "musicFeatures.head(3)"
   ]
  },
  {
   "cell_type": "code",
   "execution_count": 7,
   "id": "19d58f09",
   "metadata": {
    "slideshow": {
     "slide_type": "subslide"
    }
   },
   "outputs": [
    {
     "name": "stdout",
     "output_type": "stream",
     "text": [
      "(26900, 22)\n",
      "MFCC Features \n",
      "\n",
      "<class 'numpy.ndarray'>\n",
      "250\n",
      "<class 'numpy.float64'>\n",
      "Theme Features \n",
      "\n",
      "<class 'numpy.ndarray'>\n",
      "250\n",
      "<class 'numpy.float64'>\n"
     ]
    }
   ],
   "source": [
    "\"\"\"\n",
    "Verifying all shapres and types of data\n",
    "\"\"\"\n",
    "print(musicFeatures.shape)\n",
    "print('MFCC Features \\n')\n",
    "print(type(musicFeatures['mfccFeature_0'].iloc[0]))\n",
    "print(len(musicFeatures['mfccFeature_0'].iloc[0]))\n",
    "print(type(musicFeatures['mfccFeature_0'].iloc[0][0]))\n",
    "\n",
    "print('Theme Features \\n')\n",
    "print(type(musicFeatures['themeFeature_0'].iloc[0]))\n",
    "print(musicFeatures['themeFeature_0'].iloc[0].size)\n",
    "print(type(musicFeatures['themeFeature_0'].iloc[0][0]))\n",
    "\n"
   ]
  },
  {
   "cell_type": "markdown",
   "id": "adbad323",
   "metadata": {
    "slideshow": {
     "slide_type": "slide"
    }
   },
   "source": [
    "We split the dataset into x and y, y having the predicting columns, we also drop the theme features as it is not needed"
   ]
  },
  {
   "cell_type": "code",
   "execution_count": 8,
   "id": "e36d993f",
   "metadata": {
    "slideshow": {
     "slide_type": "subslide"
    }
   },
   "outputs": [
    {
     "name": "stdout",
     "output_type": "stream",
     "text": [
      "(26900, 15)\n",
      "(26900,)\n"
     ]
    }
   ],
   "source": [
    "#Spliting x and y\n",
    "We split the dataset into x and y, y having the predicting columns\n",
    "y = musicFeatures['genre']\n",
    "x = musicFeatures.loc[:, musicFeatures.columns != 'genre']\n",
    "x = x.drop(['id','themeFeature_0','themeFeature_1','themeFeature_2','themeFeature_3','themeFeature_4'],axis =1)\n",
    "\n",
    "print(x.shape)\n",
    "print(y.shape)"
   ]
  },
  {
   "cell_type": "markdown",
   "id": "17efe991",
   "metadata": {
    "slideshow": {
     "slide_type": "slide"
    }
   },
   "source": [
    "Since we have an np array as in each cell, we need to reshape the data into a 3rd array for the network, we use the following function for the same."
   ]
  },
  {
   "cell_type": "code",
   "execution_count": 9,
   "id": "79abda1b",
   "metadata": {
    "slideshow": {
     "slide_type": "subslide"
    }
   },
   "outputs": [],
   "source": [
    "def convertTo3DnpArray(df):\n",
    "    new = []\n",
    "\n",
    "    for index, row in df.iterrows():\n",
    "        temp = []\n",
    "        for i in row:\n",
    "            temp.append(i)\n",
    "        temp = np.stack(temp, axis=1)\n",
    "        new.append(temp)\n",
    "    new = np.stack(new, axis=0)\n",
    "    \n",
    "    return new"
   ]
  },
  {
   "cell_type": "markdown",
   "id": "11bc7d73",
   "metadata": {
    "slideshow": {
     "slide_type": "slide"
    }
   },
   "source": [
    "We split the dataset into train,test and valid which is of the ratio 80:10:10. Each model is trained on train and tested on test, once the best model is identified, we do a final validation on valid dataset."
   ]
  },
  {
   "cell_type": "code",
   "execution_count": 10,
   "id": "ec399113",
   "metadata": {
    "slideshow": {
     "slide_type": "subslide"
    }
   },
   "outputs": [
    {
     "name": "stdout",
     "output_type": "stream",
     "text": [
      "Final Sizes of all datasets\n",
      "x_train : (21520, 250, 15)\n",
      "x_test : (2690, 250, 15)\n",
      "x_valid : (2690, 250, 15)\n",
      "y_train : (21520,)\n",
      "y_test : (2690,)\n",
      "y_valid : (2690,)\n",
      " \n",
      "\n",
      "Value counts \n",
      "y_train :\n",
      "Rock            3820\n",
      "Hip-Hop         3304\n",
      "Experimental    3228\n",
      "Folk            3224\n",
      "Electronic      3192\n",
      "Pop             2428\n",
      "Instrumental    2324\n",
      "Name: genre, dtype: int64\n",
      "y_test :\n",
      "Rock            477\n",
      "Hip-Hop         413\n",
      "Experimental    404\n",
      "Folk            403\n",
      "Electronic      399\n",
      "Pop             303\n",
      "Instrumental    291\n",
      "Name: genre, dtype: int64\n",
      "y_valid :\n",
      "Rock            478\n",
      "Hip-Hop         413\n",
      "Folk            403\n",
      "Experimental    403\n",
      "Electronic      399\n",
      "Pop             304\n",
      "Instrumental    290\n",
      "Name: genre, dtype: int64\n"
     ]
    }
   ],
   "source": [
    "#Train test valid split\n",
    "\n",
    "x_train_temp, x_valid, y_train_temp, y_valid = train_test_split(x,y,test_size=0.1,random_state=12,stratify=y)\n",
    "x_train, x_test, y_train, y_test = train_test_split(x_train_temp,y_train_temp,test_size=0.1/0.9,random_state=12,stratify=y_train_temp)\n",
    "\n",
    "\n",
    "x_train = convertTo3DnpArray(x_train)\n",
    "x_test = convertTo3DnpArray(x_test)\n",
    "x_valid = convertTo3DnpArray(x_valid)\n",
    "\n",
    "print('Final Sizes of all datasets')\n",
    "print('x_train :',x_train.shape)\n",
    "print('x_test :',x_test.shape)\n",
    "print('x_valid :',x_valid.shape)\n",
    "print('y_train :',y_train.shape)\n",
    "print('y_test :',y_test.shape)\n",
    "print('y_valid :',y_valid.shape)\n",
    "print(' \\n')\n",
    "\n",
    "print('Value counts ')\n",
    "print('y_train :')\n",
    "print(y_train.value_counts())\n",
    "print('y_test :')\n",
    "print(y_test.value_counts())\n",
    "print('y_valid :')\n",
    "print(y_valid.value_counts())\n",
    "\n"
   ]
  },
  {
   "cell_type": "markdown",
   "id": "366456e2",
   "metadata": {
    "slideshow": {
     "slide_type": "slide"
    }
   },
   "source": [
    "We convert the y values into one hot encoded values."
   ]
  },
  {
   "cell_type": "code",
   "execution_count": 11,
   "id": "976e1899",
   "metadata": {
    "slideshow": {
     "slide_type": "subslide"
    }
   },
   "outputs": [
    {
     "name": "stdout",
     "output_type": "stream",
     "text": [
      "Verifying size\n",
      "y_train : (21520, 7)\n",
      "y_test : (2690, 7)\n",
      "y_valid : (2690, 7)\n"
     ]
    }
   ],
   "source": [
    "ohe = OneHotEncoder()\n",
    "\n",
    "y_valid = ohe.fit_transform(y_valid.values.reshape(-1, 1)).toarray()\n",
    "y_train = ohe.fit_transform(y_train.values.reshape(-1, 1)).toarray()\n",
    "y_test  = ohe.fit_transform(y_test .values.reshape(-1, 1)).toarray()\n",
    "\n",
    "print('Verifying size')\n",
    "print('y_train :',y_train.shape)\n",
    "print('y_test :',y_test.shape)\n",
    "print('y_valid :',y_valid.shape)\n"
   ]
  },
  {
   "cell_type": "code",
   "execution_count": 13,
   "id": "fcbdc973",
   "metadata": {
    "slideshow": {
     "slide_type": "slide"
    }
   },
   "outputs": [],
   "source": [
    "from keras.models import Sequential\n",
    "from keras.layers import Dense\n",
    "import tensorflow as tf\n",
    "from keras import Model\n",
    "from keras.layers import Input, Dense, Bidirectional\n",
    "import matplotlib.pyplot as plt\n",
    "plt.style.use('ggplot')"
   ]
  },
  {
   "cell_type": "markdown",
   "id": "7438e80a",
   "metadata": {
    "slideshow": {
     "slide_type": "subslide"
    }
   },
   "source": [
    "The following function is used to plot the graphs for train and loss accuracy."
   ]
  },
  {
   "cell_type": "code",
   "execution_count": 14,
   "id": "4d6fd185",
   "metadata": {
    "slideshow": {
     "slide_type": "slide"
    }
   },
   "outputs": [],
   "source": [
    "def plot_history(history):\n",
    "    acc = history.history['accuracy']\n",
    "    val_acc = history.history['val_accuracy']The following function is used to plot the graphs for train and loss accuracy.\n",
    "    loss = history.history['loss']\n",
    "    val_loss = history.history['val_loss']\n",
    "    x = range(1, len(acc) + 1)\n",
    "\n",
    "    plt.figure(figsize=(12, 5))\n",
    "    plt.subplot(1, 2, 1)\n",
    "    plt.plot(x, acc, 'b', label='Training acc')\n",
    "    plt.plot(x, val_acc, 'r', label='Test acc')\n",
    "    plt.title('Training and test accuracy')\n",
    "    plt.legend()\n",
    "    plt.subplot(1, 2, 2)\n",
    "    plt.plot(x, loss, 'b', label='Training loss')\n",
    "    plt.plot(x, val_loss, 'r', label='Test loss')\n",
    "    plt.title('Training and test loss')\n",
    "    plt.legend()"
   ]
  },
  {
   "cell_type": "markdown",
   "id": "f45b7774",
   "metadata": {
    "slideshow": {
     "slide_type": "subslide"
    }
   },
   "source": [
    "The first model is a simple 3 set CNN model with the use of maxpooling and batchnormalization."
   ]
  },
  {
   "cell_type": "code",
   "execution_count": 13,
   "id": "d819051c",
   "metadata": {
    "slideshow": {
     "slide_type": "slide"
    }
   },
   "outputs": [
    {
     "name": "stdout",
     "output_type": "stream",
     "text": [
      "Model: \"sequential\"\n",
      "_________________________________________________________________\n",
      " Layer (type)                Output Shape              Param #   \n",
      "=================================================================\n",
      " conv2d (Conv2D)             (None, 248, 13, 32)       320       \n",
      "                                                                 \n",
      " max_pooling2d (MaxPooling2D  (None, 124, 7, 32)       0         \n",
      " )                                                               \n",
      "                                                                 \n",
      " batch_normalization (BatchN  (None, 124, 7, 32)       128       \n",
      " ormalization)                                                   \n",
      "                                                                 \n",
      " conv2d_1 (Conv2D)           (None, 122, 5, 32)        9248      \n",
      "                                                                 \n",
      " max_pooling2d_1 (MaxPooling  (None, 61, 3, 32)        0         \n",
      " 2D)                                                             \n",
      "                                                                 \n",
      " batch_normalization_1 (Batc  (None, 61, 3, 32)        128       \n",
      " hNormalization)                                                 \n",
      "                                                                 \n",
      " conv2d_2 (Conv2D)           (None, 60, 2, 16)         2064      \n",
      "                                                                 \n",
      " max_pooling2d_2 (MaxPooling  (None, 30, 1, 16)        0         \n",
      " 2D)                                                             \n",
      "                                                                 \n",
      " batch_normalization_2 (Batc  (None, 30, 1, 16)        64        \n",
      " hNormalization)                                                 \n",
      "                                                                 \n",
      " flatten (Flatten)           (None, 480)               0         \n",
      "                                                                 \n",
      " dense (Dense)               (None, 64)                30784     \n",
      "                                                                 \n",
      " dense_1 (Dense)             (None, 32)                2080      \n",
      "                                                                 \n",
      " dense_2 (Dense)             (None, 7)                 231       \n",
      "                                                                 \n",
      "=================================================================\n",
      "Total params: 45,047\n",
      "Trainable params: 44,887\n",
      "Non-trainable params: 160\n",
      "_________________________________________________________________\n"
     ]
    }
   ],
   "source": [
    "model1 = tf.keras.models.Sequential([\n",
    "        tf.keras.layers.Conv2D(32, (3,3), activation='relu', input_shape=(x_train.shape[1], x_train.shape[2], 1)),\n",
    "        tf.keras.layers.MaxPooling2D((3,3), strides=(2,2), padding='same'),\n",
    "        tf.keras.layers.BatchNormalization(),\n",
    "        \n",
    "        tf.keras.layers.Conv2D(32, (3,3), activation='relu'),\n",
    "        tf.keras.layers.MaxPooling2D((3,3), strides=(2,2), padding='same'),\n",
    "        tf.keras.layers.BatchNormalization(),\n",
    "\n",
    "        tf.keras.layers.Conv2D(16, (2,2), activation='relu'),\n",
    "        tf.keras.layers.MaxPooling2D((3,3), strides=(2,2), padding='same'),\n",
    "        tf.keras.layers.BatchNormalization(),\n",
    "        \n",
    "        tf.keras.layers.Flatten(),\n",
    "        tf.keras.layers.Dense(64, activation='relu'), \n",
    "        tf.keras.layers.Dense(32, activation='relu'),\n",
    "        tf.keras.layers.Dense(7, activation='softmax')\n",
    "    ])\n",
    "\n",
    "model1.compile(optimizer = 'adam',\n",
    "                     loss='categorical_crossentropy',\n",
    "                     metrics = ['accuracy']\n",
    "                     )\n",
    "model1.summary()\n"
   ]
  },
  {
   "cell_type": "code",
   "execution_count": 14,
   "id": "19357b89",
   "metadata": {
    "slideshow": {
     "slide_type": "subslide"
    }
   },
   "outputs": [
    {
     "name": "stdout",
     "output_type": "stream",
     "text": [
      "Epoch 1/50\n",
      "673/673 [==============================] - 28s 41ms/step - loss: 1.5230 - accuracy: 0.4366 - val_loss: 1.5115 - val_accuracy: 0.4316\n",
      "Epoch 2/50\n",
      "673/673 [==============================] - 28s 42ms/step - loss: 1.3575 - accuracy: 0.5036 - val_loss: 1.4115 - val_accuracy: 0.4844\n",
      "Epoch 3/50\n",
      "673/673 [==============================] - 27s 40ms/step - loss: 1.2831 - accuracy: 0.5331 - val_loss: 1.2725 - val_accuracy: 0.5442\n",
      "Epoch 4/50\n",
      "673/673 [==============================] - 24s 35ms/step - loss: 1.2180 - accuracy: 0.5571 - val_loss: 1.2477 - val_accuracy: 0.5383\n",
      "Epoch 5/50\n",
      "673/673 [==============================] - 26s 39ms/step - loss: 1.1737 - accuracy: 0.5737 - val_loss: 1.2313 - val_accuracy: 0.5509\n",
      "Epoch 6/50\n",
      "673/673 [==============================] - 27s 41ms/step - loss: 1.1309 - accuracy: 0.5895 - val_loss: 1.2633 - val_accuracy: 0.5416\n",
      "Epoch 7/50\n",
      "673/673 [==============================] - 27s 40ms/step - loss: 1.0946 - accuracy: 0.6055 - val_loss: 1.2109 - val_accuracy: 0.5732\n",
      "Epoch 8/50\n",
      "673/673 [==============================] - 25s 38ms/step - loss: 1.0605 - accuracy: 0.6160 - val_loss: 1.2322 - val_accuracy: 0.5762\n",
      "Epoch 9/50\n",
      "673/673 [==============================] - 25s 38ms/step - loss: 1.0267 - accuracy: 0.6262 - val_loss: 1.2576 - val_accuracy: 0.5613\n",
      "Epoch 10/50\n",
      "673/673 [==============================] - 24s 35ms/step - loss: 0.9884 - accuracy: 0.6424 - val_loss: 1.2871 - val_accuracy: 0.5494\n",
      "Epoch 11/50\n",
      "673/673 [==============================] - 24s 36ms/step - loss: 0.9573 - accuracy: 0.6493 - val_loss: 1.2674 - val_accuracy: 0.5509\n",
      "Epoch 12/50\n",
      "673/673 [==============================] - 24s 36ms/step - loss: 0.9246 - accuracy: 0.6605 - val_loss: 1.2510 - val_accuracy: 0.5654\n",
      "Epoch 13/50\n",
      "673/673 [==============================] - 25s 37ms/step - loss: 0.9016 - accuracy: 0.6691 - val_loss: 1.3166 - val_accuracy: 0.5565\n",
      "Epoch 14/50\n",
      "673/673 [==============================] - 26s 38ms/step - loss: 0.8641 - accuracy: 0.6854 - val_loss: 1.3079 - val_accuracy: 0.5580\n",
      "Epoch 15/50\n",
      "673/673 [==============================] - 25s 37ms/step - loss: 0.8454 - accuracy: 0.6907 - val_loss: 1.3746 - val_accuracy: 0.5543\n",
      "Epoch 16/50\n",
      "673/673 [==============================] - 25s 37ms/step - loss: 0.8189 - accuracy: 0.6994 - val_loss: 1.4040 - val_accuracy: 0.5312\n",
      "Epoch 17/50\n",
      "673/673 [==============================] - 25s 37ms/step - loss: 0.7864 - accuracy: 0.7119 - val_loss: 1.3702 - val_accuracy: 0.5558\n",
      "Epoch 18/50\n",
      "673/673 [==============================] - 25s 36ms/step - loss: 0.7694 - accuracy: 0.7188 - val_loss: 1.3943 - val_accuracy: 0.5472\n",
      "Epoch 19/50\n",
      "673/673 [==============================] - 25s 37ms/step - loss: 0.7367 - accuracy: 0.7277 - val_loss: 1.4206 - val_accuracy: 0.5439\n",
      "Epoch 20/50\n",
      "673/673 [==============================] - 25s 38ms/step - loss: 0.7220 - accuracy: 0.7394 - val_loss: 1.4737 - val_accuracy: 0.5428\n",
      "Epoch 21/50\n",
      "673/673 [==============================] - 25s 37ms/step - loss: 0.6953 - accuracy: 0.7438 - val_loss: 1.5246 - val_accuracy: 0.5546\n",
      "Epoch 22/50\n",
      "673/673 [==============================] - 25s 38ms/step - loss: 0.6813 - accuracy: 0.7499 - val_loss: 1.5522 - val_accuracy: 0.5331\n",
      "Epoch 23/50\n",
      "673/673 [==============================] - 26s 38ms/step - loss: 0.6634 - accuracy: 0.7599 - val_loss: 1.5544 - val_accuracy: 0.5401\n",
      "Epoch 24/50\n",
      "673/673 [==============================] - 25s 38ms/step - loss: 0.6365 - accuracy: 0.7690 - val_loss: 1.7156 - val_accuracy: 0.5164\n",
      "Epoch 25/50\n",
      "673/673 [==============================] - 25s 38ms/step - loss: 0.6258 - accuracy: 0.7710 - val_loss: 1.6801 - val_accuracy: 0.5405\n",
      "Epoch 26/50\n",
      "673/673 [==============================] - 25s 38ms/step - loss: 0.5993 - accuracy: 0.7797 - val_loss: 1.7008 - val_accuracy: 0.5283\n",
      "Epoch 27/50\n",
      "673/673 [==============================] - 25s 37ms/step - loss: 0.5977 - accuracy: 0.7799 - val_loss: 1.7841 - val_accuracy: 0.5238\n",
      "Epoch 28/50\n",
      "673/673 [==============================] - 25s 38ms/step - loss: 0.5805 - accuracy: 0.7862 - val_loss: 1.7539 - val_accuracy: 0.5253\n",
      "Epoch 29/50\n",
      "673/673 [==============================] - 26s 38ms/step - loss: 0.5713 - accuracy: 0.7911 - val_loss: 1.8369 - val_accuracy: 0.5156\n",
      "Epoch 30/50\n",
      "673/673 [==============================] - 26s 38ms/step - loss: 0.5516 - accuracy: 0.7956 - val_loss: 1.8264 - val_accuracy: 0.5190\n",
      "Epoch 31/50\n",
      "673/673 [==============================] - 25s 38ms/step - loss: 0.5320 - accuracy: 0.8040 - val_loss: 1.8534 - val_accuracy: 0.5193\n",
      "Epoch 32/50\n",
      "673/673 [==============================] - 25s 38ms/step - loss: 0.5311 - accuracy: 0.8071 - val_loss: 1.8933 - val_accuracy: 0.5086\n",
      "Epoch 33/50\n",
      "673/673 [==============================] - 25s 37ms/step - loss: 0.5063 - accuracy: 0.8124 - val_loss: 1.9469 - val_accuracy: 0.5045\n",
      "Epoch 34/50\n",
      "673/673 [==============================] - 26s 38ms/step - loss: 0.5119 - accuracy: 0.8079 - val_loss: 1.9672 - val_accuracy: 0.5156\n",
      "Epoch 35/50\n",
      "673/673 [==============================] - 25s 37ms/step - loss: 0.4911 - accuracy: 0.8215 - val_loss: 2.0109 - val_accuracy: 0.4959\n",
      "Epoch 36/50\n",
      "673/673 [==============================] - 26s 38ms/step - loss: 0.4784 - accuracy: 0.8240 - val_loss: 1.9858 - val_accuracy: 0.5059\n",
      "Epoch 37/50\n",
      "673/673 [==============================] - 25s 38ms/step - loss: 0.4755 - accuracy: 0.8241 - val_loss: 2.1234 - val_accuracy: 0.5089\n",
      "Epoch 38/50\n",
      "673/673 [==============================] - 25s 38ms/step - loss: 0.4666 - accuracy: 0.8315 - val_loss: 2.1074 - val_accuracy: 0.5119\n",
      "Epoch 39/50\n",
      "673/673 [==============================] - 25s 38ms/step - loss: 0.4622 - accuracy: 0.8289 - val_loss: 2.0651 - val_accuracy: 0.5152\n",
      "Epoch 40/50\n",
      "673/673 [==============================] - 25s 38ms/step - loss: 0.4469 - accuracy: 0.8392 - val_loss: 2.1941 - val_accuracy: 0.4937\n",
      "Epoch 41/50\n",
      "673/673 [==============================] - 25s 38ms/step - loss: 0.4401 - accuracy: 0.8387 - val_loss: 2.3121 - val_accuracy: 0.5089\n",
      "Epoch 42/50\n",
      "673/673 [==============================] - 25s 37ms/step - loss: 0.4368 - accuracy: 0.8418 - val_loss: 2.2263 - val_accuracy: 0.5160\n",
      "Epoch 43/50\n",
      "673/673 [==============================] - 26s 39ms/step - loss: 0.4221 - accuracy: 0.8487 - val_loss: 2.2567 - val_accuracy: 0.5145\n",
      "Epoch 44/50\n",
      "673/673 [==============================] - 25s 38ms/step - loss: 0.4256 - accuracy: 0.8434 - val_loss: 2.3013 - val_accuracy: 0.4929\n",
      "Epoch 45/50\n",
      "673/673 [==============================] - 26s 38ms/step - loss: 0.4205 - accuracy: 0.8474 - val_loss: 2.2737 - val_accuracy: 0.5186\n",
      "Epoch 46/50\n",
      "673/673 [==============================] - 25s 38ms/step - loss: 0.4071 - accuracy: 0.8513 - val_loss: 2.3313 - val_accuracy: 0.4937\n",
      "Epoch 47/50\n",
      "673/673 [==============================] - 25s 38ms/step - loss: 0.4028 - accuracy: 0.8523 - val_loss: 2.3276 - val_accuracy: 0.5108\n",
      "Epoch 48/50\n",
      "673/673 [==============================] - 25s 38ms/step - loss: 0.4139 - accuracy: 0.8482 - val_loss: 2.2894 - val_accuracy: 0.5156\n",
      "Epoch 49/50\n",
      "673/673 [==============================] - 25s 38ms/step - loss: 0.3845 - accuracy: 0.8599 - val_loss: 2.4191 - val_accuracy: 0.4985\n",
      "Epoch 50/50\n",
      "673/673 [==============================] - 26s 38ms/step - loss: 0.3894 - accuracy: 0.8600 - val_loss: 2.4751 - val_accuracy: 0.5015\n"
     ]
    },
    {
     "data": {
      "image/png": "[encoded data removed]",
      "text/plain": [
       "<Figure size 864x360 with 2 Axes>"
      ]
     },
     "metadata": {},
     "output_type": "display_data"
    }
   ],
   "source": [
    "m1 = model1.fit(x_train, y_train,validation_data=(x_test, y_test),epochs=50,batch_size=32)\n",
    "\n",
    "plot_history(m1)\n"
   ]
  },
  {
   "cell_type": "markdown",
   "id": "52713021",
   "metadata": {
    "slideshow": {
     "slide_type": "slide"
    }
   },
   "source": [
    "Model2 is a smaller model, We are trying to check if smaller model can learn better. We also dont use any batch normalization"
   ]
  },
  {
   "cell_type": "code",
   "execution_count": 15,
   "id": "885a4a3a",
   "metadata": {
    "slideshow": {
     "slide_type": "subslide"
    }
   },
   "outputs": [
    {
     "name": "stdout",
     "output_type": "stream",
     "text": [
      "Model: \"sequential_1\"\n",
      "_________________________________________________________________\n",
      " Layer (type)                Output Shape              Param #   \n",
      "=================================================================\n",
      " conv2d_3 (Conv2D)           (None, 248, 13, 32)       320       \n",
      "                                                                 \n",
      " max_pooling2d_3 (MaxPooling  (None, 124, 7, 32)       0         \n",
      " 2D)                                                             \n",
      "                                                                 \n",
      " conv2d_4 (Conv2D)           (None, 123, 6, 32)        4128      \n",
      "                                                                 \n",
      " max_pooling2d_4 (MaxPooling  (None, 62, 3, 32)        0         \n",
      " 2D)                                                             \n",
      "                                                                 \n",
      " dropout (Dropout)           (None, 62, 3, 32)         0         \n",
      "                                                                 \n",
      " flatten_1 (Flatten)         (None, 5952)              0         \n",
      "                                                                 \n",
      " dense_3 (Dense)             (None, 64)                380992    \n",
      "                                                                 \n",
      " dense_4 (Dense)             (None, 7)                 455       \n",
      "                                                                 \n",
      "=================================================================\n",
      "Total params: 385,895\n",
      "Trainable params: 385,895\n",
      "Non-trainable params: 0\n",
      "_________________________________________________________________\n"
     ]
    }
   ],
   "source": [
    "model2 = tf.keras.models.Sequential([\n",
    "        tf.keras.layers.Conv2D(32, (3,3), activation='relu', input_shape=(x_train.shape[1], x_train.shape[2], 1)),\n",
    "        tf.keras.layers.MaxPooling2D((3,3), strides=(2,2), padding='same'),\n",
    "    \n",
    "        tf.keras.layers.Conv2D(32, (2,2), activation='relu'),\n",
    "        tf.keras.layers.MaxPooling2D((3,3), strides=(2,2), padding='same'),\n",
    "        tf.keras.layers.Dropout(0.2),\n",
    "    \n",
    "        tf.keras.layers.Flatten(),\n",
    "        tf.keras.layers.Dense(64, activation='relu'), \n",
    "        tf.keras.layers.Dense(7, activation='softmax')\n",
    "    ])\n",
    "\n",
    "model2.compile(optimizer = 'adam',\n",
    "                     loss='categorical_crossentropy',\n",
    "                     metrics = ['accuracy']\n",
    "                     )\n",
    "model2.summary()\n"
   ]
  },
  {
   "cell_type": "code",
   "execution_count": 16,
   "id": "d82fe7f6",
   "metadata": {
    "slideshow": {
     "slide_type": "subslide"
    }
   },
   "outputs": [
    {
     "name": "stdout",
     "output_type": "stream",
     "text": [
      "Epoch 1/50\n",
      "1345/1345 [==============================] - 22s 17ms/step - loss: 1.8971 - accuracy: 0.3459 - val_loss: 1.5985 - val_accuracy: 0.3851\n",
      "Epoch 2/50\n",
      "1345/1345 [==============================] - 22s 17ms/step - loss: 1.5665 - accuracy: 0.4108 - val_loss: 1.5768 - val_accuracy: 0.3929\n",
      "Epoch 3/50\n",
      "1345/1345 [==============================] - 22s 17ms/step - loss: 1.5177 - accuracy: 0.4311 - val_loss: 1.5418 - val_accuracy: 0.4312\n",
      "Epoch 4/50\n",
      "1345/1345 [==============================] - 22s 16ms/step - loss: 1.4792 - accuracy: 0.4519 - val_loss: 1.5310 - val_accuracy: 0.4390\n",
      "Epoch 5/50\n",
      "1345/1345 [==============================] - 22s 17ms/step - loss: 1.4409 - accuracy: 0.4642 - val_loss: 1.5325 - val_accuracy: 0.4576\n",
      "Epoch 6/50\n",
      "1345/1345 [==============================] - 22s 16ms/step - loss: 1.3963 - accuracy: 0.4852 - val_loss: 1.5043 - val_accuracy: 0.4621\n",
      "Epoch 7/50\n",
      "1345/1345 [==============================] - 22s 16ms/step - loss: 1.3438 - accuracy: 0.5051 - val_loss: 1.5490 - val_accuracy: 0.4524\n",
      "Epoch 8/50\n",
      "1345/1345 [==============================] - 22s 17ms/step - loss: 1.2888 - accuracy: 0.5316 - val_loss: 1.6145 - val_accuracy: 0.4331\n",
      "Epoch 9/50\n",
      "1345/1345 [==============================] - 22s 16ms/step - loss: 1.2256 - accuracy: 0.5489 - val_loss: 1.5491 - val_accuracy: 0.4587\n",
      "Epoch 10/50\n",
      "1345/1345 [==============================] - 22s 17ms/step - loss: 1.1606 - accuracy: 0.5781 - val_loss: 1.6565 - val_accuracy: 0.4223\n",
      "Epoch 11/50\n",
      "1345/1345 [==============================] - 22s 17ms/step - loss: 1.0911 - accuracy: 0.6034 - val_loss: 1.6762 - val_accuracy: 0.4290\n",
      "Epoch 12/50\n",
      "1345/1345 [==============================] - 22s 17ms/step - loss: 1.0281 - accuracy: 0.6263 - val_loss: 1.7865 - val_accuracy: 0.4230\n",
      "Epoch 13/50\n",
      "1345/1345 [==============================] - 23s 17ms/step - loss: 0.9773 - accuracy: 0.6453 - val_loss: 1.7729 - val_accuracy: 0.4290\n",
      "Epoch 14/50\n",
      "1345/1345 [==============================] - 22s 16ms/step - loss: 0.9165 - accuracy: 0.6636 - val_loss: 1.8709 - val_accuracy: 0.4249\n",
      "Epoch 15/50\n",
      "1345/1345 [==============================] - 22s 16ms/step - loss: 0.8609 - accuracy: 0.6843 - val_loss: 2.1228 - val_accuracy: 0.4238\n",
      "Epoch 16/50\n",
      "1345/1345 [==============================] - 22s 17ms/step - loss: 0.8370 - accuracy: 0.6992 - val_loss: 2.0045 - val_accuracy: 0.4186\n",
      "Epoch 17/50\n",
      "1345/1345 [==============================] - 22s 16ms/step - loss: 0.7784 - accuracy: 0.7192 - val_loss: 2.1117 - val_accuracy: 0.4242\n",
      "Epoch 18/50\n",
      "1345/1345 [==============================] - 22s 16ms/step - loss: 0.7469 - accuracy: 0.7306 - val_loss: 2.1261 - val_accuracy: 0.4193\n",
      "Epoch 19/50\n",
      "1345/1345 [==============================] - 23s 17ms/step - loss: 0.7146 - accuracy: 0.7465 - val_loss: 2.2955 - val_accuracy: 0.4216\n",
      "Epoch 20/50\n",
      "1345/1345 [==============================] - 23s 17ms/step - loss: 0.6722 - accuracy: 0.7605 - val_loss: 2.4720 - val_accuracy: 0.3970\n",
      "Epoch 21/50\n",
      "1345/1345 [==============================] - 22s 16ms/step - loss: 0.6474 - accuracy: 0.7690 - val_loss: 2.4578 - val_accuracy: 0.4056\n",
      "Epoch 22/50\n",
      "1345/1345 [==============================] - 22s 16ms/step - loss: 0.6241 - accuracy: 0.7793 - val_loss: 2.4526 - val_accuracy: 0.4301\n",
      "Epoch 23/50\n",
      "1345/1345 [==============================] - 22s 17ms/step - loss: 0.5867 - accuracy: 0.7924 - val_loss: 2.7919 - val_accuracy: 0.3926\n",
      "Epoch 24/50\n",
      "1345/1345 [==============================] - 22s 17ms/step - loss: 0.5793 - accuracy: 0.7957 - val_loss: 2.8881 - val_accuracy: 0.4059\n",
      "Epoch 25/50\n",
      "1345/1345 [==============================] - 22s 17ms/step - loss: 0.5584 - accuracy: 0.8059 - val_loss: 2.4729 - val_accuracy: 0.4082\n",
      "Epoch 26/50\n",
      "1345/1345 [==============================] - 22s 17ms/step - loss: 0.5382 - accuracy: 0.8124 - val_loss: 2.8074 - val_accuracy: 0.3933\n",
      "Epoch 27/50\n",
      "1345/1345 [==============================] - 22s 17ms/step - loss: 0.5240 - accuracy: 0.8173 - val_loss: 2.8792 - val_accuracy: 0.4108\n",
      "Epoch 28/50\n",
      "1345/1345 [==============================] - 22s 17ms/step - loss: 0.5501 - accuracy: 0.8184 - val_loss: 2.7279 - val_accuracy: 0.4108\n",
      "Epoch 29/50\n",
      "1345/1345 [==============================] - 22s 16ms/step - loss: 0.5050 - accuracy: 0.8255 - val_loss: 2.7812 - val_accuracy: 0.4022\n",
      "Epoch 30/50\n",
      "1345/1345 [==============================] - 23s 17ms/step - loss: 0.4580 - accuracy: 0.8421 - val_loss: 2.8316 - val_accuracy: 0.4056\n",
      "Epoch 31/50\n",
      "1345/1345 [==============================] - 22s 16ms/step - loss: 0.4620 - accuracy: 0.8415 - val_loss: 2.9384 - val_accuracy: 0.4030\n",
      "Epoch 32/50\n",
      "1345/1345 [==============================] - 22s 16ms/step - loss: 0.4420 - accuracy: 0.8487 - val_loss: 3.4550 - val_accuracy: 0.3974\n",
      "Epoch 33/50\n",
      "1345/1345 [==============================] - 22s 17ms/step - loss: 0.4314 - accuracy: 0.8512 - val_loss: 3.2817 - val_accuracy: 0.4033\n",
      "Epoch 34/50\n",
      "1345/1345 [==============================] - 22s 16ms/step - loss: 0.4365 - accuracy: 0.8535 - val_loss: 3.4144 - val_accuracy: 0.3929\n",
      "Epoch 35/50\n",
      "1345/1345 [==============================] - 22s 16ms/step - loss: 0.4133 - accuracy: 0.8611 - val_loss: 3.5104 - val_accuracy: 0.3862\n",
      "Epoch 36/50\n",
      "1345/1345 [==============================] - 22s 17ms/step - loss: 0.4038 - accuracy: 0.8639 - val_loss: 3.5831 - val_accuracy: 0.3948\n",
      "Epoch 37/50\n",
      "1345/1345 [==============================] - 22s 17ms/step - loss: 0.3818 - accuracy: 0.8694 - val_loss: 3.5213 - val_accuracy: 0.4208\n",
      "Epoch 38/50\n",
      "1345/1345 [==============================] - 22s 17ms/step - loss: 0.3809 - accuracy: 0.8711 - val_loss: 3.8081 - val_accuracy: 0.4052\n",
      "Epoch 39/50\n",
      "1345/1345 [==============================] - 22s 16ms/step - loss: 0.3814 - accuracy: 0.8702 - val_loss: 3.3585 - val_accuracy: 0.4007\n",
      "Epoch 40/50\n",
      "1345/1345 [==============================] - 22s 16ms/step - loss: 0.3584 - accuracy: 0.8798 - val_loss: 3.6082 - val_accuracy: 0.3981\n",
      "Epoch 41/50\n",
      "1345/1345 [==============================] - 22s 17ms/step - loss: 0.3651 - accuracy: 0.8822 - val_loss: 4.0377 - val_accuracy: 0.3907\n",
      "Epoch 42/50\n",
      "1345/1345 [==============================] - 22s 16ms/step - loss: 0.3512 - accuracy: 0.8848 - val_loss: 3.7391 - val_accuracy: 0.4104\n",
      "Epoch 43/50\n",
      "1345/1345 [==============================] - 22s 16ms/step - loss: 0.3329 - accuracy: 0.8887 - val_loss: 3.8319 - val_accuracy: 0.4074\n",
      "Epoch 44/50\n",
      "1345/1345 [==============================] - 22s 16ms/step - loss: 0.3347 - accuracy: 0.8921 - val_loss: 3.6982 - val_accuracy: 0.4074\n",
      "Epoch 45/50\n",
      "1345/1345 [==============================] - 22s 16ms/step - loss: 0.3185 - accuracy: 0.8945 - val_loss: 4.0615 - val_accuracy: 0.4112\n",
      "Epoch 46/50\n",
      "1345/1345 [==============================] - 22s 17ms/step - loss: 0.3259 - accuracy: 0.8912 - val_loss: 4.2940 - val_accuracy: 0.3963\n",
      "Epoch 47/50\n",
      "1345/1345 [==============================] - 22s 16ms/step - loss: 0.2969 - accuracy: 0.9017 - val_loss: 3.8461 - val_accuracy: 0.4108\n",
      "Epoch 48/50\n",
      "1345/1345 [==============================] - 22s 16ms/step - loss: 0.3189 - accuracy: 0.8939 - val_loss: 4.6947 - val_accuracy: 0.3933\n",
      "Epoch 49/50\n",
      "1345/1345 [==============================] - 22s 16ms/step - loss: 0.3040 - accuracy: 0.9004 - val_loss: 4.2380 - val_accuracy: 0.4030\n",
      "Epoch 50/50\n",
      "1345/1345 [==============================] - 22s 16ms/step - loss: 0.2999 - accuracy: 0.9040 - val_loss: 4.0721 - val_accuracy: 0.4067\n"
     ]
    },
    {
     "data": {
      "image/png": "[encoded data removed]",
      "text/plain": [
       "<Figure size 864x360 with 2 Axes>"
      ]
     },
     "metadata": {},
     "output_type": "display_data"
    }
   ],
   "source": [
    "m2 = model2.fit(x_train, y_train,validation_data=(x_test, y_test),epochs=50,batch_size=16)\n",
    "\n",
    "plot_history(m2)"
   ]
  },
  {
   "cell_type": "markdown",
   "id": "6b0ea5de",
   "metadata": {
    "slideshow": {
     "slide_type": "slide"
    }
   },
   "source": [
    "We revert back to the bigger network and add a few regularizers, both dropout and activity regularizer"
   ]
  },
  {
   "cell_type": "code",
   "execution_count": 19,
   "id": "e75c1745",
   "metadata": {
    "slideshow": {
     "slide_type": "subslide"
    }
   },
   "outputs": [
    {
     "name": "stdout",
     "output_type": "stream",
     "text": [
      "Model: \"sequential_3\"\n",
      "_________________________________________________________________\n",
      " Layer (type)                Output Shape              Param #   \n",
      "=================================================================\n",
      " conv2d_8 (Conv2D)           (None, 248, 15, 64)       256       \n",
      "                                                                 \n",
      " max_pooling2d_8 (MaxPooling  (None, 124, 15, 64)      0         \n",
      " 2D)                                                             \n",
      "                                                                 \n",
      " conv2d_9 (Conv2D)           (None, 122, 15, 32)       6176      \n",
      "                                                                 \n",
      " max_pooling2d_9 (MaxPooling  (None, 61, 15, 32)       0         \n",
      " 2D)                                                             \n",
      "                                                                 \n",
      " dropout_3 (Dropout)         (None, 61, 15, 32)        0         \n",
      "                                                                 \n",
      " conv2d_10 (Conv2D)          (None, 60, 15, 32)        2080      \n",
      "                                                                 \n",
      " max_pooling2d_10 (MaxPoolin  (None, 30, 15, 32)       0         \n",
      " g2D)                                                            \n",
      "                                                                 \n",
      " dropout_4 (Dropout)         (None, 30, 15, 32)        0         \n",
      "                                                                 \n",
      " conv2d_11 (Conv2D)          (None, 29, 15, 32)        2080      \n",
      "                                                                 \n",
      " max_pooling2d_11 (MaxPoolin  (None, 15, 15, 32)       0         \n",
      " g2D)                                                            \n",
      "                                                                 \n",
      " dropout_5 (Dropout)         (None, 15, 15, 32)        0         \n",
      "                                                                 \n",
      " flatten_3 (Flatten)         (None, 7200)              0         \n",
      "                                                                 \n",
      " dense_9 (Dense)             (None, 64)                460864    \n",
      "                                                                 \n",
      " dense_10 (Dense)            (None, 32)                2080      \n",
      "                                                                 \n",
      " dense_11 (Dense)            (None, 16)                528       \n",
      "                                                                 \n",
      " dense_12 (Dense)            (None, 7)                 119       \n",
      "                                                                 \n",
      "=================================================================\n",
      "Total params: 474,183\n",
      "Trainable params: 474,183\n",
      "Non-trainable params: 0\n",
      "_________________________________________________________________\n"
     ]
    }
   ],
   "source": [
    "from keras.regularizers import l2\n",
    "\n",
    "\n",
    "model4 = tf.keras.models.Sequential([\n",
    "        tf.keras.layers.Conv2D(64, (3,1), activation='relu', input_shape=(x_train.shape[1], x_train.shape[2], 1)),\n",
    "        tf.keras.layers.MaxPooling2D((3,1), strides=(2,1), padding='same'),\n",
    "        \n",
    "        tf.keras.layers.Conv2D(32, (3,1), activation='relu',activity_regularizer=l2(0.001)),\n",
    "        tf.keras.layers.MaxPooling2D((3,1), strides=(2,1), padding='same'),\n",
    "        tf.keras.layers.Dropout(0.1),\n",
    "\n",
    "        tf.keras.layers.Conv2D(32, (2,1), activation='relu',activity_regularizer=l2(0.001)),\n",
    "        tf.keras.layers.MaxPooling2D((3,1), strides=(2,1), padding='same'),\n",
    "        tf.keras.layers.Dropout(0.1),\n",
    "    \n",
    "        tf.keras.layers.Conv2D(32, (2,1), activation='relu',activity_regularizer=l2(0.001)),\n",
    "        tf.keras.layers.MaxPooling2D((3,1), strides=(2,1), padding='same'),\n",
    "        tf.keras.layers.Dropout(0.1),\n",
    "        \n",
    "        tf.keras.layers.Flatten(),\n",
    "        tf.keras.layers.Dense(64, activation='relu'), \n",
    "        tf.keras.layers.Dense(32, activation='relu'),\n",
    "        tf.keras.layers.Dense(16, activation='relu'),\n",
    "        tf.keras.layers.Dense(7, activation='softmax')\n",
    "    ])\n",
    "\n",
    "model4.compile(optimizer = 'adam',\n",
    "                     loss='categorical_crossentropy',\n",
    "                     metrics = ['accuracy']\n",
    "                     )\n",
    "model4.summary()"
   ]
  },
  {
   "cell_type": "code",
   "execution_count": 20,
   "id": "f7aaa4be",
   "metadata": {
    "slideshow": {
     "slide_type": "subslide"
    }
   },
   "outputs": [
    {
     "name": "stdout",
     "output_type": "stream",
     "text": [
      "Epoch 1/50\n",
      "673/673 [==============================] - 75s 110ms/step - loss: 9.9856 - accuracy: 0.2785 - val_loss: 1.6893 - val_accuracy: 0.3766\n",
      "Epoch 2/50\n",
      "673/673 [==============================] - 76s 113ms/step - loss: 1.6216 - accuracy: 0.3999 - val_loss: 1.5634 - val_accuracy: 0.4275\n",
      "Epoch 3/50\n",
      "673/673 [==============================] - 74s 110ms/step - loss: 1.5549 - accuracy: 0.4347 - val_loss: 1.5143 - val_accuracy: 0.4639\n",
      "Epoch 4/50\n",
      "673/673 [==============================] - 74s 110ms/step - loss: 1.5024 - accuracy: 0.4634 - val_loss: 1.4940 - val_accuracy: 0.4632\n",
      "Epoch 5/50\n",
      "673/673 [==============================] - 75s 111ms/step - loss: 1.4620 - accuracy: 0.4813 - val_loss: 1.5098 - val_accuracy: 0.4454\n",
      "Epoch 6/50\n",
      "673/673 [==============================] - 75s 112ms/step - loss: 1.4333 - accuracy: 0.4908 - val_loss: 1.5212 - val_accuracy: 0.4517\n",
      "Epoch 7/50\n",
      "673/673 [==============================] - 76s 112ms/step - loss: 1.3920 - accuracy: 0.5103 - val_loss: 1.4845 - val_accuracy: 0.4747\n",
      "Epoch 8/50\n",
      "673/673 [==============================] - 75s 112ms/step - loss: 1.3540 - accuracy: 0.5241 - val_loss: 1.5167 - val_accuracy: 0.4539\n",
      "Epoch 9/50\n",
      "673/673 [==============================] - 76s 113ms/step - loss: 1.3295 - accuracy: 0.5319 - val_loss: 1.5206 - val_accuracy: 0.4636\n",
      "Epoch 10/50\n",
      "673/673 [==============================] - 76s 113ms/step - loss: 1.3013 - accuracy: 0.5446 - val_loss: 1.5251 - val_accuracy: 0.4665\n",
      "Epoch 11/50\n",
      "673/673 [==============================] - 77s 114ms/step - loss: 1.2537 - accuracy: 0.5616 - val_loss: 1.6227 - val_accuracy: 0.4193\n",
      "Epoch 12/50\n",
      "673/673 [==============================] - 77s 114ms/step - loss: 1.1960 - accuracy: 0.5859 - val_loss: 1.5599 - val_accuracy: 0.4546\n",
      "Epoch 13/50\n",
      "673/673 [==============================] - 77s 114ms/step - loss: 1.1551 - accuracy: 0.6010 - val_loss: 1.7026 - val_accuracy: 0.4197\n",
      "Epoch 14/50\n",
      "673/673 [==============================] - 77s 114ms/step - loss: 1.1031 - accuracy: 0.6265 - val_loss: 1.6765 - val_accuracy: 0.4673\n",
      "Epoch 15/50\n",
      "673/673 [==============================] - 78s 116ms/step - loss: 1.0377 - accuracy: 0.6493 - val_loss: 1.7797 - val_accuracy: 0.4413\n",
      "Epoch 16/50\n",
      "673/673 [==============================] - 78s 116ms/step - loss: 0.9787 - accuracy: 0.6717 - val_loss: 1.8069 - val_accuracy: 0.4368\n",
      "Epoch 17/50\n",
      "673/673 [==============================] - 78s 116ms/step - loss: 0.9181 - accuracy: 0.6924 - val_loss: 1.7751 - val_accuracy: 0.4283\n",
      "Epoch 18/50\n",
      "673/673 [==============================] - 78s 116ms/step - loss: 0.8911 - accuracy: 0.7078 - val_loss: 1.8148 - val_accuracy: 0.4290\n",
      "Epoch 19/50\n",
      "673/673 [==============================] - 78s 115ms/step - loss: 0.8295 - accuracy: 0.7238 - val_loss: 1.8945 - val_accuracy: 0.4375\n",
      "Epoch 20/50\n",
      "673/673 [==============================] - 78s 116ms/step - loss: 0.7961 - accuracy: 0.7397 - val_loss: 1.9407 - val_accuracy: 0.4361\n",
      "Epoch 21/50\n",
      "673/673 [==============================] - 79s 117ms/step - loss: 0.7276 - accuracy: 0.7641 - val_loss: 2.0529 - val_accuracy: 0.4357\n",
      "Epoch 22/50\n",
      "673/673 [==============================] - 78s 116ms/step - loss: 0.6962 - accuracy: 0.7756 - val_loss: 2.0912 - val_accuracy: 0.4186\n",
      "Epoch 23/50\n",
      "673/673 [==============================] - 79s 117ms/step - loss: 0.6498 - accuracy: 0.7890 - val_loss: 2.1767 - val_accuracy: 0.4164\n",
      "Epoch 24/50\n",
      "673/673 [==============================] - 78s 117ms/step - loss: 0.6170 - accuracy: 0.8009 - val_loss: 2.2156 - val_accuracy: 0.4145\n",
      "Epoch 25/50\n",
      "673/673 [==============================] - 78s 116ms/step - loss: 0.5824 - accuracy: 0.8187 - val_loss: 2.3605 - val_accuracy: 0.4011\n",
      "Epoch 26/50\n",
      "673/673 [==============================] - 78s 116ms/step - loss: 0.5688 - accuracy: 0.8211 - val_loss: 2.2982 - val_accuracy: 0.4216\n",
      "Epoch 27/50\n",
      "673/673 [==============================] - 78s 116ms/step - loss: 0.5313 - accuracy: 0.8320 - val_loss: 2.4302 - val_accuracy: 0.4156\n",
      "Epoch 28/50\n",
      "673/673 [==============================] - 78s 116ms/step - loss: 0.5129 - accuracy: 0.8390 - val_loss: 2.3810 - val_accuracy: 0.4357\n",
      "Epoch 29/50\n",
      "673/673 [==============================] - 79s 117ms/step - loss: 0.4949 - accuracy: 0.8472 - val_loss: 2.5133 - val_accuracy: 0.4271\n",
      "Epoch 30/50\n",
      "673/673 [==============================] - 78s 116ms/step - loss: 0.4784 - accuracy: 0.8530 - val_loss: 2.5287 - val_accuracy: 0.4230\n",
      "Epoch 31/50\n",
      "673/673 [==============================] - 78s 116ms/step - loss: 0.4463 - accuracy: 0.8638 - val_loss: 2.5556 - val_accuracy: 0.4286\n",
      "Epoch 32/50\n",
      "673/673 [==============================] - 78s 116ms/step - loss: 0.4593 - accuracy: 0.8575 - val_loss: 2.5541 - val_accuracy: 0.4197\n",
      "Epoch 33/50\n",
      "673/673 [==============================] - 78s 116ms/step - loss: 0.4318 - accuracy: 0.8668 - val_loss: 2.4989 - val_accuracy: 0.4186\n",
      "Epoch 34/50\n",
      "673/673 [==============================] - 78s 116ms/step - loss: 0.4118 - accuracy: 0.8764 - val_loss: 2.6924 - val_accuracy: 0.4227\n",
      "Epoch 35/50\n",
      "673/673 [==============================] - 78s 115ms/step - loss: 0.3906 - accuracy: 0.8808 - val_loss: 2.6956 - val_accuracy: 0.4171\n",
      "Epoch 36/50\n",
      "673/673 [==============================] - 78s 116ms/step - loss: 0.3864 - accuracy: 0.8821 - val_loss: 2.9050 - val_accuracy: 0.4152\n",
      "Epoch 37/50\n",
      "673/673 [==============================] - 77s 115ms/step - loss: 0.3669 - accuracy: 0.8928 - val_loss: 2.9076 - val_accuracy: 0.4216\n",
      "Epoch 38/50\n",
      "673/673 [==============================] - 77s 115ms/step - loss: 0.3659 - accuracy: 0.8935 - val_loss: 2.8648 - val_accuracy: 0.3974\n",
      "Epoch 39/50\n",
      "673/673 [==============================] - 77s 115ms/step - loss: 0.3542 - accuracy: 0.8956 - val_loss: 2.9392 - val_accuracy: 0.4249\n",
      "Epoch 40/50\n",
      "673/673 [==============================] - 77s 115ms/step - loss: 0.3617 - accuracy: 0.8930 - val_loss: 2.9768 - val_accuracy: 0.4015\n",
      "Epoch 41/50\n",
      "673/673 [==============================] - 77s 114ms/step - loss: 0.3411 - accuracy: 0.8988 - val_loss: 3.0028 - val_accuracy: 0.4048\n",
      "Epoch 42/50\n",
      "673/673 [==============================] - 77s 114ms/step - loss: 0.3309 - accuracy: 0.9040 - val_loss: 3.0341 - val_accuracy: 0.4112\n",
      "Epoch 43/50\n",
      "673/673 [==============================] - 77s 114ms/step - loss: 0.3258 - accuracy: 0.9044 - val_loss: 3.0380 - val_accuracy: 0.4056\n",
      "Epoch 44/50\n",
      "673/673 [==============================] - 77s 115ms/step - loss: 0.3029 - accuracy: 0.9129 - val_loss: 3.1588 - val_accuracy: 0.3970\n",
      "Epoch 45/50\n",
      "673/673 [==============================] - 77s 114ms/step - loss: 0.3143 - accuracy: 0.9072 - val_loss: 2.9833 - val_accuracy: 0.4123\n",
      "Epoch 46/50\n",
      "673/673 [==============================] - 77s 114ms/step - loss: 0.3125 - accuracy: 0.9101 - val_loss: 3.1317 - val_accuracy: 0.4283\n",
      "Epoch 47/50\n",
      "673/673 [==============================] - 77s 115ms/step - loss: 0.3094 - accuracy: 0.9118 - val_loss: 3.1395 - val_accuracy: 0.4037\n",
      "Epoch 48/50\n",
      "673/673 [==============================] - 77s 115ms/step - loss: 0.2936 - accuracy: 0.9177 - val_loss: 3.2017 - val_accuracy: 0.4030\n",
      "Epoch 49/50\n",
      "673/673 [==============================] - 77s 114ms/step - loss: 0.2918 - accuracy: 0.9137 - val_loss: 3.2986 - val_accuracy: 0.4004\n",
      "Epoch 50/50\n",
      "673/673 [==============================] - 78s 115ms/step - loss: 0.2994 - accuracy: 0.9139 - val_loss: 3.1418 - val_accuracy: 0.4093\n"
     ]
    },
    {
     "data": {
      "image/png": "[encoded data removed]",
      "text/plain": [
       "<Figure size 864x360 with 2 Axes>"
      ]
     },
     "metadata": {},
     "output_type": "display_data"
    }
   ],
   "source": [
    "m4 = model4.fit(x_train, y_train,validation_data=(x_test, y_test),epochs=50,batch_size=32)\n",
    "\n",
    "plot_history(m4)"
   ]
  },
  {
   "cell_type": "markdown",
   "id": "7aa62dc7",
   "metadata": {
    "slideshow": {
     "slide_type": "slide"
    }
   },
   "source": [
    "For this model, we change the regularization as well as see if how changing the window shape will affect the model."
   ]
  },
  {
   "cell_type": "code",
   "execution_count": 21,
   "id": "19371b7b",
   "metadata": {
    "slideshow": {
     "slide_type": "subslide"
    }
   },
   "outputs": [
    {
     "name": "stdout",
     "output_type": "stream",
     "text": [
      "Model: \"sequential_4\"\n",
      "_________________________________________________________________\n",
      " Layer (type)                Output Shape              Param #   \n",
      "=================================================================\n",
      " conv2d_12 (Conv2D)          (None, 248, 15, 64)       256       \n",
      "                                                                 \n",
      " max_pooling2d_12 (MaxPoolin  (None, 124, 15, 64)      0         \n",
      " g2D)                                                            \n",
      "                                                                 \n",
      " conv2d_13 (Conv2D)          (None, 122, 15, 32)       6176      \n",
      "                                                                 \n",
      " max_pooling2d_13 (MaxPoolin  (None, 61, 15, 32)       0         \n",
      " g2D)                                                            \n",
      "                                                                 \n",
      " dropout_6 (Dropout)         (None, 61, 15, 32)        0         \n",
      "                                                                 \n",
      " conv2d_14 (Conv2D)          (None, 59, 15, 32)        3104      \n",
      "                                                                 \n",
      " max_pooling2d_14 (MaxPoolin  (None, 59, 15, 32)       0         \n",
      " g2D)                                                            \n",
      "                                                                 \n",
      " dropout_7 (Dropout)         (None, 59, 15, 32)        0         \n",
      "                                                                 \n",
      " conv2d_15 (Conv2D)          (None, 58, 15, 32)        2080      \n",
      "                                                                 \n",
      " max_pooling2d_15 (MaxPoolin  (None, 58, 15, 32)       0         \n",
      " g2D)                                                            \n",
      "                                                                 \n",
      " dropout_8 (Dropout)         (None, 58, 15, 32)        0         \n",
      "                                                                 \n",
      " flatten_4 (Flatten)         (None, 27840)             0         \n",
      "                                                                 \n",
      " dense_13 (Dense)            (None, 64)                1781824   \n",
      "                                                                 \n",
      " dropout_9 (Dropout)         (None, 64)                0         \n",
      "                                                                 \n",
      " dense_14 (Dense)            (None, 32)                2080      \n",
      "                                                                 \n",
      " dense_15 (Dense)            (None, 16)                528       \n",
      "                                                                 \n",
      " dense_16 (Dense)            (None, 7)                 119       \n",
      "                                                                 \n",
      "=================================================================\n",
      "Total params: 1,796,167\n",
      "Trainable params: 1,796,167\n",
      "Non-trainable params: 0\n",
      "_________________________________________________________________\n"
     ]
    }
   ],
   "source": [
    "from keras.regularizers import l2\n",
    "\n",
    "\n",
    "model5 = tf.keras.models.Sequential([\n",
    "        tf.keras.layers.Conv2D(64, (3,1), activation='relu', input_shape=(x_train.shape[1], x_train.shape[2], 1)),\n",
    "        tf.keras.layers.MaxPooling2D((3,1), strides=(2,1), padding='same'),\n",
    "        \n",
    "        tf.keras.layers.Conv2D(32, (3,1), activation='relu',activity_regularizer=l2(0.01)),\n",
    "        tf.keras.layers.MaxPooling2D((3,1), strides=(2,1), padding='same'),\n",
    "        tf.keras.layers.Dropout(0.1),\n",
    "    \n",
    "        tf.keras.layers.Conv2D(32, (3,1), activation='relu',activity_regularizer=l2(0.01)),\n",
    "        tf.keras.layers.MaxPooling2D((2,1), strides=(1,1), padding='same'),\n",
    "        tf.keras.layers.Dropout(0.1),\n",
    "    \n",
    "        tf.keras.layers.Conv2D(32, (2,1), activation='relu',activity_regularizer=l2(0.01)),\n",
    "        tf.keras.layers.MaxPooling2D((2,1), strides=(1,1), padding='same'),\n",
    "        tf.keras.layers.Dropout(0.2),\n",
    "        \n",
    "        tf.keras.layers.Flatten(),\n",
    "        tf.keras.layers.Dense(64, activation='relu',activity_regularizer=l2(0.001)), \n",
    "        tf.keras.layers.Dropout(0.1),\n",
    "        tf.keras.layers.Dense(32, activation='relu',activity_regularizer=l2(0.001)),\n",
    "        tf.keras.layers.Dense(16, activation='relu',activity_regularizer=l2(0.001)),\n",
    "        tf.keras.layers.Dense(7, activation='softmax')\n",
    "    ])\n",
    "\n",
    "model5.compile(optimizer = 'adam',\n",
    "                     loss='categorical_crossentropy',\n",
    "                     metrics = ['accuracy']\n",
    "                     )\n",
    "model5.summary()"
   ]
  },
  {
   "cell_type": "code",
   "execution_count": 22,
   "id": "992599c1",
   "metadata": {
    "slideshow": {
     "slide_type": "subslide"
    }
   },
   "outputs": [
    {
     "name": "stdout",
     "output_type": "stream",
     "text": [
      "Epoch 1/50\n",
      "673/673 [==============================] - 88s 130ms/step - loss: 225.8764 - accuracy: 0.1745 - val_loss: 2.1846 - val_accuracy: 0.1892\n",
      "Epoch 2/50\n",
      "673/673 [==============================] - 89s 132ms/step - loss: 2.0781 - accuracy: 0.2086 - val_loss: 1.9500 - val_accuracy: 0.2472\n",
      "Epoch 3/50\n",
      "673/673 [==============================] - 88s 131ms/step - loss: 1.9161 - accuracy: 0.2527 - val_loss: 1.8645 - val_accuracy: 0.2625\n",
      "Epoch 4/50\n",
      "673/673 [==============================] - 89s 132ms/step - loss: 1.8381 - accuracy: 0.2737 - val_loss: 1.8181 - val_accuracy: 0.2725\n",
      "Epoch 5/50\n",
      "673/673 [==============================] - 89s 132ms/step - loss: 1.8006 - accuracy: 0.2890 - val_loss: 1.7906 - val_accuracy: 0.2985\n",
      "Epoch 6/50\n",
      "673/673 [==============================] - 89s 132ms/step - loss: 1.7660 - accuracy: 0.3159 - val_loss: 1.7738 - val_accuracy: 0.3230\n",
      "Epoch 7/50\n",
      "673/673 [==============================] - 89s 132ms/step - loss: 1.7298 - accuracy: 0.3362 - val_loss: 1.7842 - val_accuracy: 0.3171\n",
      "Epoch 8/50\n",
      "673/673 [==============================] - 89s 132ms/step - loss: 1.6877 - accuracy: 0.3625 - val_loss: 1.7596 - val_accuracy: 0.3234\n",
      "Epoch 9/50\n",
      "673/673 [==============================] - 88s 131ms/step - loss: 1.6432 - accuracy: 0.3832 - val_loss: 1.7130 - val_accuracy: 0.3576\n",
      "Epoch 10/50\n",
      "673/673 [==============================] - 89s 132ms/step - loss: 1.6095 - accuracy: 0.4080 - val_loss: 1.7091 - val_accuracy: 0.3651\n",
      "Epoch 11/50\n",
      "673/673 [==============================] - 88s 131ms/step - loss: 1.5738 - accuracy: 0.4231 - val_loss: 1.7045 - val_accuracy: 0.3732\n",
      "Epoch 12/50\n",
      "673/673 [==============================] - 89s 132ms/step - loss: 1.5472 - accuracy: 0.4394 - val_loss: 1.6834 - val_accuracy: 0.3844\n",
      "Epoch 13/50\n",
      "673/673 [==============================] - 89s 132ms/step - loss: 1.5650 - accuracy: 0.4369 - val_loss: 1.7035 - val_accuracy: 0.3647\n",
      "Epoch 14/50\n",
      "673/673 [==============================] - 89s 132ms/step - loss: 1.5496 - accuracy: 0.4387 - val_loss: 1.7171 - val_accuracy: 0.3729\n",
      "Epoch 15/50\n",
      "673/673 [==============================] - 89s 132ms/step - loss: 1.5319 - accuracy: 0.4486 - val_loss: 1.6901 - val_accuracy: 0.3822\n",
      "Epoch 16/50\n",
      "673/673 [==============================] - 89s 132ms/step - loss: 1.5030 - accuracy: 0.4637 - val_loss: 1.7756 - val_accuracy: 0.3751\n",
      "Epoch 17/50\n",
      "673/673 [==============================] - 89s 132ms/step - loss: 1.5110 - accuracy: 0.4641 - val_loss: 1.7333 - val_accuracy: 0.3688\n",
      "Epoch 18/50\n",
      "673/673 [==============================] - 89s 132ms/step - loss: 1.5360 - accuracy: 0.4530 - val_loss: 1.7686 - val_accuracy: 0.3706\n",
      "Epoch 19/50\n",
      "673/673 [==============================] - 89s 132ms/step - loss: 1.4823 - accuracy: 0.4832 - val_loss: 1.7395 - val_accuracy: 0.3703\n",
      "Epoch 20/50\n",
      "673/673 [==============================] - 88s 131ms/step - loss: 1.4653 - accuracy: 0.4910 - val_loss: 1.7400 - val_accuracy: 0.3885\n",
      "Epoch 21/50\n",
      "673/673 [==============================] - 88s 131ms/step - loss: 1.4126 - accuracy: 0.5069 - val_loss: 1.7832 - val_accuracy: 0.3732\n",
      "Epoch 22/50\n",
      "673/673 [==============================] - 90s 133ms/step - loss: 1.4002 - accuracy: 0.5176 - val_loss: 1.7611 - val_accuracy: 0.3862\n",
      "Epoch 23/50\n",
      "673/673 [==============================] - 89s 132ms/step - loss: 1.3326 - accuracy: 0.5454 - val_loss: 1.8978 - val_accuracy: 0.3230\n",
      "Epoch 24/50\n",
      "673/673 [==============================] - 89s 132ms/step - loss: 1.3006 - accuracy: 0.5592 - val_loss: 1.8023 - val_accuracy: 0.3799\n",
      "Epoch 25/50\n",
      "673/673 [==============================] - 88s 131ms/step - loss: 1.2564 - accuracy: 0.5785 - val_loss: 1.9309 - val_accuracy: 0.3357\n",
      "Epoch 26/50\n",
      "673/673 [==============================] - 89s 132ms/step - loss: 1.2101 - accuracy: 0.5927 - val_loss: 1.8369 - val_accuracy: 0.3721\n",
      "Epoch 27/50\n",
      "673/673 [==============================] - 89s 132ms/step - loss: 1.1510 - accuracy: 0.6209 - val_loss: 1.9406 - val_accuracy: 0.3643\n",
      "Epoch 28/50\n",
      "673/673 [==============================] - 89s 132ms/step - loss: 1.0992 - accuracy: 0.6372 - val_loss: 1.9409 - val_accuracy: 0.3468\n",
      "Epoch 29/50\n",
      "673/673 [==============================] - 89s 132ms/step - loss: 1.0601 - accuracy: 0.6510 - val_loss: 2.0042 - val_accuracy: 0.3491\n",
      "Epoch 30/50\n",
      "673/673 [==============================] - 89s 132ms/step - loss: 1.0314 - accuracy: 0.6618 - val_loss: 1.9580 - val_accuracy: 0.3509\n",
      "Epoch 31/50\n",
      "673/673 [==============================] - 89s 133ms/step - loss: 0.9793 - accuracy: 0.6842 - val_loss: 2.0833 - val_accuracy: 0.3591\n",
      "Epoch 32/50\n",
      "673/673 [==============================] - 88s 131ms/step - loss: 0.9463 - accuracy: 0.6941 - val_loss: 2.0582 - val_accuracy: 0.3520\n",
      "Epoch 33/50\n",
      "673/673 [==============================] - 88s 131ms/step - loss: 0.9140 - accuracy: 0.7047 - val_loss: 2.1887 - val_accuracy: 0.3576\n",
      "Epoch 34/50\n",
      "673/673 [==============================] - 88s 131ms/step - loss: 0.8742 - accuracy: 0.7224 - val_loss: 2.1247 - val_accuracy: 0.3439\n",
      "Epoch 35/50\n",
      "673/673 [==============================] - 88s 131ms/step - loss: 0.8345 - accuracy: 0.7362 - val_loss: 2.2179 - val_accuracy: 0.3483\n",
      "Epoch 36/50\n",
      "673/673 [==============================] - 89s 132ms/step - loss: 0.8122 - accuracy: 0.7441 - val_loss: 2.2453 - val_accuracy: 0.3561\n",
      "Epoch 37/50\n",
      "673/673 [==============================] - 89s 132ms/step - loss: 0.7888 - accuracy: 0.7532 - val_loss: 2.2636 - val_accuracy: 0.3327\n",
      "Epoch 38/50\n",
      "673/673 [==============================] - 89s 132ms/step - loss: 0.7540 - accuracy: 0.7678 - val_loss: 2.2595 - val_accuracy: 0.3480\n",
      "Epoch 39/50\n",
      "673/673 [==============================] - 89s 132ms/step - loss: 0.7250 - accuracy: 0.7754 - val_loss: 2.3523 - val_accuracy: 0.3301\n",
      "Epoch 40/50\n",
      "673/673 [==============================] - 22400s 33s/step - loss: 0.7000 - accuracy: 0.7865 - val_loss: 2.4352 - val_accuracy: 0.3435\n",
      "Epoch 41/50\n",
      "673/673 [==============================] - 96s 142ms/step - loss: 0.6789 - accuracy: 0.7948 - val_loss: 2.3723 - val_accuracy: 0.3305\n",
      "Epoch 42/50\n",
      "673/673 [==============================] - 91s 135ms/step - loss: 0.6517 - accuracy: 0.8044 - val_loss: 2.4667 - val_accuracy: 0.3294\n",
      "Epoch 43/50\n",
      "673/673 [==============================] - 92s 137ms/step - loss: 0.6203 - accuracy: 0.8125 - val_loss: 2.5036 - val_accuracy: 0.3394\n",
      "Epoch 44/50\n",
      "673/673 [==============================] - 91s 136ms/step - loss: 0.6130 - accuracy: 0.8129 - val_loss: 2.4770 - val_accuracy: 0.3357\n",
      "Epoch 45/50\n",
      "673/673 [==============================] - 91s 135ms/step - loss: 0.6002 - accuracy: 0.8190 - val_loss: 2.5868 - val_accuracy: 0.3312\n",
      "Epoch 46/50\n",
      "673/673 [==============================] - 91s 135ms/step - loss: 0.5836 - accuracy: 0.8267 - val_loss: 2.5423 - val_accuracy: 0.3468\n",
      "Epoch 47/50\n",
      "673/673 [==============================] - 91s 136ms/step - loss: 0.5580 - accuracy: 0.8349 - val_loss: 2.5099 - val_accuracy: 0.3361\n",
      "Epoch 48/50\n",
      "673/673 [==============================] - 91s 135ms/step - loss: 0.5453 - accuracy: 0.8412 - val_loss: 2.5974 - val_accuracy: 0.3494\n",
      "Epoch 49/50\n",
      "673/673 [==============================] - 91s 135ms/step - loss: 0.5524 - accuracy: 0.8360 - val_loss: 2.5843 - val_accuracy: 0.3446\n",
      "Epoch 50/50\n",
      "673/673 [==============================] - 91s 135ms/step - loss: 0.5198 - accuracy: 0.8471 - val_loss: 2.5823 - val_accuracy: 0.3212\n"
     ]
    },
    {
     "data": {
      "image/png": "[encoded data removed]",
      "text/plain": [
       "<Figure size 864x360 with 2 Axes>"
      ]
     },
     "metadata": {},
     "output_type": "display_data"
    }
   ],
   "source": [
    "m5 = model5.fit(x_train, y_train,validation_data=(x_test, y_test),epochs=50,batch_size=32)\n",
    "\n",
    "plot_history(m5)"
   ]
  },
  {
   "cell_type": "raw",
   "id": "21232160",
   "metadata": {
    "slideshow": {
     "slide_type": "slide"
    }
   },
   "source": [
    "Medium model with minimal regularization."
   ]
  },
  {
   "cell_type": "code",
   "execution_count": 15,
   "id": "2ce415ea",
   "metadata": {
    "slideshow": {
     "slide_type": "subslide"
    }
   },
   "outputs": [
    {
     "name": "stdout",
     "output_type": "stream",
     "text": [
      "Model: \"sequential\"\n",
      "_________________________________________________________________\n",
      " Layer (type)                Output Shape              Param #   \n",
      "=================================================================\n",
      " conv2d (Conv2D)             (None, 248, 13, 32)       320       \n",
      "                                                                 \n",
      " max_pooling2d (MaxPooling2D  (None, 124, 7, 32)       0         \n",
      " )                                                               \n",
      "                                                                 \n",
      " batch_normalization (BatchN  (None, 124, 7, 32)       128       \n",
      " ormalization)                                                   \n",
      "                                                                 \n",
      " conv2d_1 (Conv2D)           (None, 122, 5, 32)        9248      \n",
      "                                                                 \n",
      " max_pooling2d_1 (MaxPooling  (None, 61, 3, 32)        0         \n",
      " 2D)                                                             \n",
      "                                                                 \n",
      " batch_normalization_1 (Batc  (None, 61, 3, 32)        128       \n",
      " hNormalization)                                                 \n",
      "                                                                 \n",
      " conv2d_2 (Conv2D)           (None, 60, 2, 32)         4128      \n",
      "                                                                 \n",
      " max_pooling2d_2 (MaxPooling  (None, 30, 1, 32)        0         \n",
      " 2D)                                                             \n",
      "                                                                 \n",
      " batch_normalization_2 (Batc  (None, 30, 1, 32)        128       \n",
      " hNormalization)                                                 \n",
      "                                                                 \n",
      " dropout (Dropout)           (None, 30, 1, 32)         0         \n",
      "                                                                 \n",
      " flatten (Flatten)           (None, 960)               0         \n",
      "                                                                 \n",
      " dense (Dense)               (None, 64)                61504     \n",
      "                                                                 \n",
      " dense_1 (Dense)             (None, 7)                 455       \n",
      "                                                                 \n",
      "=================================================================\n",
      "Total params: 76,039\n",
      "Trainable params: 75,847\n",
      "Non-trainable params: 192\n",
      "_________________________________________________________________\n"
     ]
    }
   ],
   "source": [
    "from keras.regularizers import l2\n",
    "\n",
    "\n",
    "model6 = tf.keras.models.Sequential([\n",
    "        tf.keras.layers.Conv2D(32, (3,3), activation='relu', input_shape=(x_train.shape[1], x_train.shape[2], 1)),\n",
    "        tf.keras.layers.MaxPooling2D((3,3), strides=(2,2), padding='same'),\n",
    "        \n",
    "        tf.keras.layers.Conv2D(32, (3,3), activation='relu'),\n",
    "        tf.keras.layers.MaxPooling2D((3,3), strides=(2,2), padding='same'),\n",
    "        \n",
    "        tf.keras.layers.Conv2D(32, (2,2), activation='relu'),\n",
    "        tf.keras.layers.MaxPooling2D((3,3), strides=(2,2), padding='same'),\n",
    "        tf.keras.layers.BatchNormalization(),\n",
    "        tf.keras.layers.Dropout(0.3),\n",
    "        \n",
    "        tf.keras.layers.Flatten(),\n",
    "        tf.keras.layers.Dense(64, activation='relu'), \n",
    "        tf.keras.layers.Dense(7, activation='softmax')\n",
    "    ])\n",
    "\n",
    "model6.compile(optimizer = 'adam',\n",
    "                     loss='categorical_crossentropy',\n",
    "                     metrics = ['accuracy']\n",
    "                     )\n",
    "model6.summary()"
   ]
  },
  {
   "cell_type": "code",
   "execution_count": 16,
   "id": "a62e93c4",
   "metadata": {
    "slideshow": {
     "slide_type": "subslide"
    }
   },
   "outputs": [
    {
     "name": "stdout",
     "output_type": "stream",
     "text": [
      "Epoch 1/50\n",
      "673/673 [==============================] - 27s 39ms/step - loss: 1.5997 - accuracy: 0.4301 - val_loss: 1.4424 - val_accuracy: 0.4866\n",
      "Epoch 2/50\n",
      "673/673 [==============================] - 26s 39ms/step - loss: 1.3462 - accuracy: 0.5099 - val_loss: 1.4074 - val_accuracy: 0.4974\n",
      "Epoch 3/50\n",
      "673/673 [==============================] - 27s 40ms/step - loss: 1.2596 - accuracy: 0.5417 - val_loss: 1.2625 - val_accuracy: 0.5494\n",
      "Epoch 4/50\n",
      "673/673 [==============================] - 27s 39ms/step - loss: 1.2072 - accuracy: 0.5622 - val_loss: 1.2856 - val_accuracy: 0.5476\n",
      "Epoch 5/50\n",
      "673/673 [==============================] - 26s 39ms/step - loss: 1.1664 - accuracy: 0.5774 - val_loss: 1.2306 - val_accuracy: 0.5610\n",
      "Epoch 6/50\n",
      "673/673 [==============================] - 27s 40ms/step - loss: 1.1236 - accuracy: 0.5904 - val_loss: 1.2016 - val_accuracy: 0.5684\n",
      "Epoch 7/50\n",
      "673/673 [==============================] - 27s 41ms/step - loss: 1.0966 - accuracy: 0.5992 - val_loss: 1.3046 - val_accuracy: 0.5599\n",
      "Epoch 8/50\n",
      "673/673 [==============================] - 27s 41ms/step - loss: 1.0665 - accuracy: 0.6112 - val_loss: 1.2954 - val_accuracy: 0.5305\n",
      "Epoch 9/50\n",
      "673/673 [==============================] - 27s 41ms/step - loss: 1.0308 - accuracy: 0.6238 - val_loss: 1.1928 - val_accuracy: 0.5822\n",
      "Epoch 10/50\n",
      "673/673 [==============================] - 28s 41ms/step - loss: 1.0122 - accuracy: 0.6323 - val_loss: 1.2255 - val_accuracy: 0.5803\n",
      "Epoch 11/50\n",
      "673/673 [==============================] - 27s 41ms/step - loss: 0.9806 - accuracy: 0.6440 - val_loss: 1.2460 - val_accuracy: 0.5699\n",
      "Epoch 12/50\n",
      "673/673 [==============================] - 28s 41ms/step - loss: 0.9550 - accuracy: 0.6500 - val_loss: 1.2242 - val_accuracy: 0.5885\n",
      "Epoch 13/50\n",
      "673/673 [==============================] - 28s 41ms/step - loss: 0.9311 - accuracy: 0.6549 - val_loss: 1.1889 - val_accuracy: 0.5870\n",
      "Epoch 14/50\n",
      "673/673 [==============================] - 27s 41ms/step - loss: 0.9073 - accuracy: 0.6668 - val_loss: 1.2058 - val_accuracy: 0.5981\n",
      "Epoch 15/50\n",
      "673/673 [==============================] - 27s 41ms/step - loss: 0.8826 - accuracy: 0.6747 - val_loss: 1.2224 - val_accuracy: 0.5703\n",
      "Epoch 16/50\n",
      "673/673 [==============================] - 27s 40ms/step - loss: 0.8687 - accuracy: 0.6829 - val_loss: 1.1996 - val_accuracy: 0.5833\n",
      "Epoch 17/50\n",
      "673/673 [==============================] - 28s 41ms/step - loss: 0.8424 - accuracy: 0.6929 - val_loss: 1.2048 - val_accuracy: 0.5877\n",
      "Epoch 18/50\n",
      "673/673 [==============================] - 28s 41ms/step - loss: 0.8321 - accuracy: 0.6967 - val_loss: 1.2265 - val_accuracy: 0.5874\n",
      "Epoch 19/50\n",
      "673/673 [==============================] - 27s 40ms/step - loss: 0.8110 - accuracy: 0.7041 - val_loss: 1.3152 - val_accuracy: 0.5662\n",
      "Epoch 20/50\n",
      "673/673 [==============================] - 27s 41ms/step - loss: 0.7940 - accuracy: 0.7102 - val_loss: 1.2604 - val_accuracy: 0.5636\n",
      "Epoch 21/50\n",
      "673/673 [==============================] - 27s 41ms/step - loss: 0.7772 - accuracy: 0.7118 - val_loss: 1.3492 - val_accuracy: 0.5595\n",
      "Epoch 22/50\n",
      "673/673 [==============================] - 28s 41ms/step - loss: 0.7644 - accuracy: 0.7201 - val_loss: 1.2669 - val_accuracy: 0.5792\n",
      "Epoch 23/50\n",
      "673/673 [==============================] - 28s 41ms/step - loss: 0.7572 - accuracy: 0.7234 - val_loss: 1.2415 - val_accuracy: 0.5822\n",
      "Epoch 24/50\n",
      "673/673 [==============================] - 28s 41ms/step - loss: 0.7383 - accuracy: 0.7285 - val_loss: 1.2876 - val_accuracy: 0.5717\n",
      "Epoch 25/50\n",
      "673/673 [==============================] - 28s 41ms/step - loss: 0.7210 - accuracy: 0.7340 - val_loss: 1.3266 - val_accuracy: 0.5706\n",
      "Epoch 26/50\n",
      "673/673 [==============================] - 28s 41ms/step - loss: 0.7193 - accuracy: 0.7397 - val_loss: 1.3981 - val_accuracy: 0.5636\n",
      "Epoch 27/50\n",
      "673/673 [==============================] - 28s 41ms/step - loss: 0.7099 - accuracy: 0.7390 - val_loss: 1.3146 - val_accuracy: 0.5732\n",
      "Epoch 28/50\n",
      "673/673 [==============================] - 28s 41ms/step - loss: 0.7001 - accuracy: 0.7428 - val_loss: 1.2961 - val_accuracy: 0.5725\n",
      "Epoch 29/50\n",
      "673/673 [==============================] - 28s 41ms/step - loss: 0.6800 - accuracy: 0.7488 - val_loss: 1.3206 - val_accuracy: 0.5903\n",
      "Epoch 30/50\n",
      "673/673 [==============================] - 27s 41ms/step - loss: 0.6757 - accuracy: 0.7518 - val_loss: 1.4020 - val_accuracy: 0.5836\n",
      "Epoch 31/50\n",
      "673/673 [==============================] - 28s 41ms/step - loss: 0.6672 - accuracy: 0.7534 - val_loss: 1.3655 - val_accuracy: 0.5680\n",
      "Epoch 32/50\n",
      "673/673 [==============================] - 28s 41ms/step - loss: 0.6647 - accuracy: 0.7570 - val_loss: 1.4331 - val_accuracy: 0.5885\n",
      "Epoch 33/50\n",
      "673/673 [==============================] - 28s 41ms/step - loss: 0.6541 - accuracy: 0.7608 - val_loss: 1.3221 - val_accuracy: 0.5714\n",
      "Epoch 34/50\n",
      "673/673 [==============================] - 28s 41ms/step - loss: 0.6517 - accuracy: 0.7600 - val_loss: 1.3240 - val_accuracy: 0.5844\n",
      "Epoch 35/50\n",
      "673/673 [==============================] - 28s 41ms/step - loss: 0.6306 - accuracy: 0.7685 - val_loss: 1.3202 - val_accuracy: 0.5643\n",
      "Epoch 36/50\n",
      "673/673 [==============================] - 28s 41ms/step - loss: 0.6272 - accuracy: 0.7709 - val_loss: 1.4208 - val_accuracy: 0.5803\n",
      "Epoch 37/50\n",
      "673/673 [==============================] - 28s 41ms/step - loss: 0.6267 - accuracy: 0.7724 - val_loss: 1.4805 - val_accuracy: 0.5691\n",
      "Epoch 38/50\n",
      "673/673 [==============================] - 28s 42ms/step - loss: 0.6247 - accuracy: 0.7727 - val_loss: 1.3859 - val_accuracy: 0.5784\n",
      "Epoch 39/50\n",
      "673/673 [==============================] - 28s 42ms/step - loss: 0.6158 - accuracy: 0.7743 - val_loss: 1.3684 - val_accuracy: 0.5740\n",
      "Epoch 40/50\n",
      "673/673 [==============================] - 28s 42ms/step - loss: 0.6129 - accuracy: 0.7753 - val_loss: 1.3958 - val_accuracy: 0.5829\n",
      "Epoch 41/50\n",
      "673/673 [==============================] - 28s 42ms/step - loss: 0.6085 - accuracy: 0.7739 - val_loss: 1.3934 - val_accuracy: 0.5565\n",
      "Epoch 42/50\n",
      "673/673 [==============================] - 28s 42ms/step - loss: 0.5981 - accuracy: 0.7824 - val_loss: 1.4012 - val_accuracy: 0.5807\n",
      "Epoch 43/50\n",
      "673/673 [==============================] - 28s 42ms/step - loss: 0.5933 - accuracy: 0.7825 - val_loss: 1.4909 - val_accuracy: 0.5747\n",
      "Epoch 44/50\n",
      "673/673 [==============================] - 29s 42ms/step - loss: 0.5923 - accuracy: 0.7790 - val_loss: 1.4377 - val_accuracy: 0.5822\n",
      "Epoch 45/50\n",
      "673/673 [==============================] - 28s 42ms/step - loss: 0.5785 - accuracy: 0.7877 - val_loss: 1.4108 - val_accuracy: 0.5703\n",
      "Epoch 46/50\n",
      "673/673 [==============================] - 28s 42ms/step - loss: 0.5739 - accuracy: 0.7895 - val_loss: 1.4112 - val_accuracy: 0.5792\n",
      "Epoch 47/50\n",
      "673/673 [==============================] - 28s 42ms/step - loss: 0.5754 - accuracy: 0.7895 - val_loss: 1.4352 - val_accuracy: 0.5654\n",
      "Epoch 48/50\n",
      "673/673 [==============================] - 28s 42ms/step - loss: 0.5710 - accuracy: 0.7898 - val_loss: 1.4285 - val_accuracy: 0.5695\n",
      "Epoch 49/50\n",
      "673/673 [==============================] - 28s 42ms/step - loss: 0.5639 - accuracy: 0.7937 - val_loss: 1.5235 - val_accuracy: 0.5781\n",
      "Epoch 50/50\n",
      "673/673 [==============================] - 28s 42ms/step - loss: 0.5553 - accuracy: 0.7972 - val_loss: 1.5052 - val_accuracy: 0.5688\n"
     ]
    },
    {
     "data": {
      "image/png": "[encoded data removed]",
      "text/plain": [
       "<Figure size 864x360 with 2 Axes>"
      ]
     },
     "metadata": {},
     "output_type": "display_data"
    }
   ],
   "source": [
    "m6 = model6.fit(x_train, y_train,validation_data=(x_test, y_test),epochs=50,batch_size=32)\n",
    "\n",
    "plot_history(m6)"
   ]
  },
  {
   "cell_type": "markdown",
   "id": "ecbf8abd",
   "metadata": {
    "slideshow": {
     "slide_type": "slide"
    }
   },
   "source": [
    "Final validation - Model 6 seems to provide the best results.\n"
   ]
  },
  {
   "cell_type": "code",
   "execution_count": 17,
   "id": "9666f30d",
   "metadata": {
    "slideshow": {
     "slide_type": "subslide"
    }
   },
   "outputs": [
    {
     "name": "stdout",
     "output_type": "stream",
     "text": [
      "85/85 [==============================] - 1s 10ms/step - loss: 1.6151 - accuracy: 0.5543\n"
     ]
    },
    {
     "data": {
      "text/plain": [
       "[1.6151304244995117, 0.5542750954627991]"
      ]
     },
     "execution_count": 17,
     "metadata": {},
     "output_type": "execute_result"
    }
   ],
   "source": [
    "\n",
    "\n",
    "model6.evaluate(x=x_valid,y= y_valid)\n"
   ]
  },
  {
   "cell_type": "code",
   "execution_count": null,
   "id": "61c2ccca",
   "metadata": {},
   "outputs": [],
   "source": []
  }
 ],
 "metadata": {
  "celltoolbar": "Slideshow",
  "kernelspec": {
   "display_name": "Python 3 (ipykernel)",
   "language": "python",
   "name": "python3"
  },
  "language_info": {
   "codemirror_mode": {
    "name": "ipython",
    "version": 3
   },
   "file_extension": ".py",
   "mimetype": "text/x-python",
   "name": "python",
   "nbconvert_exporter": "python",
   "pygments_lexer": "ipython3",
   "version": "3.9.7"
  }
 },
 "nbformat": 4,
 "nbformat_minor": 5
}
