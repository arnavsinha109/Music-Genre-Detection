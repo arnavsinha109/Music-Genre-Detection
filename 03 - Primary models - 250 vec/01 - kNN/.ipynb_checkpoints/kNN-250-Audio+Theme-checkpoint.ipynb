{
 "cells": [
  {
   "cell_type": "markdown",
   "metadata": {
    "slideshow": {
     "slide_type": "slide"
    }
   },
   "source": [
    "### We're building a kNN model to get a feeling for the performance of classical Machine Leaning methods for the purpose of music genre detection\n",
    "### This model is built using both Audio and Theme features. The Audio features were extracted from the FMA dataset using Librosa while the Theme features were extracted from the Lyrics dataset using Word2Vec and NLTK"
   ]
  },
  {
   "cell_type": "code",
   "execution_count": 2,
   "metadata": {
    "slideshow": {
     "slide_type": "subslide"
    }
   },
   "outputs": [],
   "source": [
    "import numpy as np\n",
    "import pandas as pd\n",
    "from tqdm import tqdm\n",
    "from sklearn.model_selection import train_test_split\n",
    "from sklearn.preprocessing import OneHotEncoder"
   ]
  },
  {
   "cell_type": "markdown",
   "metadata": {
    "slideshow": {
     "slide_type": "slide"
    }
   },
   "source": [
    "Importing the data and verifying its shape"
   ]
  },
  {
   "cell_type": "code",
   "execution_count": 3,
   "metadata": {
    "slideshow": {
     "slide_type": "subslide"
    }
   },
   "outputs": [
    {
     "data": {
      "text/plain": [
       "(26900, 22)"
      ]
     },
     "execution_count": 3,
     "metadata": {},
     "output_type": "execute_result"
    }
   ],
   "source": [
    "musicFeatures = pd.read_pickle(\"./musicFeatures_med_250/musicFeatures.pkl\")\n",
    "musicFeatures.shape"
   ]
  },
  {
   "cell_type": "code",
   "execution_count": 4,
   "metadata": {
    "slideshow": {
     "slide_type": "subslide"
    }
   },
   "outputs": [
    {
     "data": {
      "text/html": [
       "<div>\n",
       "<style scoped>\n",
       "    .dataframe tbody tr th:only-of-type {\n",
       "        vertical-align: middle;\n",
       "    }\n",
       "\n",
       "    .dataframe tbody tr th {\n",
       "        vertical-align: top;\n",
       "    }\n",
       "\n",
       "    .dataframe thead th {\n",
       "        text-align: right;\n",
       "    }\n",
       "</style>\n",
       "<table border=\"1\" class=\"dataframe\">\n",
       "  <thead>\n",
       "    <tr style=\"text-align: right;\">\n",
       "      <th></th>\n",
       "      <th>id</th>\n",
       "      <th>genre</th>\n",
       "      <th>mfccFeature_0</th>\n",
       "      <th>mfccFeature_1</th>\n",
       "      <th>mfccFeature_2</th>\n",
       "      <th>mfccFeature_3</th>\n",
       "      <th>mfccFeature_4</th>\n",
       "      <th>mfccFeature_5</th>\n",
       "      <th>mfccFeature_6</th>\n",
       "      <th>mfccFeature_7</th>\n",
       "      <th>...</th>\n",
       "      <th>mfccFeature_10</th>\n",
       "      <th>mfccFeature_11</th>\n",
       "      <th>mfccFeature_12</th>\n",
       "      <th>mfccFeature_13</th>\n",
       "      <th>mfccFeature_14</th>\n",
       "      <th>themeFeature_0</th>\n",
       "      <th>themeFeature_1</th>\n",
       "      <th>themeFeature_2</th>\n",
       "      <th>themeFeature_3</th>\n",
       "      <th>themeFeature_4</th>\n",
       "    </tr>\n",
       "  </thead>\n",
       "  <tbody>\n",
       "    <tr>\n",
       "      <th>0</th>\n",
       "      <td>124425_0</td>\n",
       "      <td>Folk</td>\n",
       "      <td>[-367.4169, -240.58614, -193.78488, -180.29262...</td>\n",
       "      <td>[163.79123, 170.1294, 171.51189, 161.30435, 14...</td>\n",
       "      <td>[6.0959854, -5.9718704, -3.6486344, -1.2554941...</td>\n",
       "      <td>[53.194122, 63.06723, 60.13885, 54.763412, 52....</td>\n",
       "      <td>[16.68528, 19.538809, 19.626118, 18.60508, 23....</td>\n",
       "      <td>[-23.51472, -19.84507, -16.962742, -13.548637,...</td>\n",
       "      <td>[6.3363132, -1.276854, -5.610017, -4.050003, -...</td>\n",
       "      <td>[-20.14743, -24.12778, -16.919537, -7.6289234,...</td>\n",
       "      <td>...</td>\n",
       "      <td>[3.951639, -4.166794, -8.241913, -9.794014, -1...</td>\n",
       "      <td>[5.920375, 9.249519, 8.353765, 11.909894, 14.4...</td>\n",
       "      <td>[-12.381685, -16.062777, -16.373697, -15.77498...</td>\n",
       "      <td>[-3.8526406, -3.5650363, -4.6753526, -5.407305...</td>\n",
       "      <td>[-4.4005404, -11.534243, -12.7789135, -14.0914...</td>\n",
       "      <td>[-2.81877732, 0.0170741491, -2.23746324, -1.79...</td>\n",
       "      <td>[-0.648167074, -0.260594785, -1.02404821, 2.81...</td>\n",
       "      <td>[-0.6686466, 2.7766242, -1.6993774, -3.4631765...</td>\n",
       "      <td>[-0.7302982, 1.5127099, 1.2979797, 0.65926456,...</td>\n",
       "      <td>[-2.26469612, 3.18752861, -1.83492291, 1.09744...</td>\n",
       "    </tr>\n",
       "    <tr>\n",
       "      <th>1</th>\n",
       "      <td>124425_1</td>\n",
       "      <td>Folk</td>\n",
       "      <td>[-176.67264, -169.07156, -142.83098, -116.0994...</td>\n",
       "      <td>[125.95861, 142.0693, 138.62712, 128.68915, 12...</td>\n",
       "      <td>[-42.819057, -54.282654, -64.97652, -73.68849,...</td>\n",
       "      <td>[68.79902, 82.17572, 71.34984, 73.27362, 84.63...</td>\n",
       "      <td>[15.051884, 15.13154, 15.273981, 14.384039, 15...</td>\n",
       "      <td>[-5.963161, -10.348415, -12.421081, -9.166971,...</td>\n",
       "      <td>[18.740742, 19.350863, 8.707056, 3.6187146, 1....</td>\n",
       "      <td>[-11.269847, -7.254199, 1.2921772, -1.4600475,...</td>\n",
       "      <td>...</td>\n",
       "      <td>[-5.3846745, -10.779312, -19.985872, -18.81395...</td>\n",
       "      <td>[12.694374, 11.362453, 8.072839, 4.8536325, -0...</td>\n",
       "      <td>[3.3793998, -0.6741159, -0.14108896, -5.083455...</td>\n",
       "      <td>[-19.578459, -20.371014, -11.236882, -7.421087...</td>\n",
       "      <td>[-8.606797, -10.857103, -13.955954, -13.888264...</td>\n",
       "      <td>[-2.81877732, 0.0170741491, -2.23746324, -1.79...</td>\n",
       "      <td>[-0.648167074, -0.260594785, -1.02404821, 2.81...</td>\n",
       "      <td>[-0.6686466, 2.7766242, -1.6993774, -3.4631765...</td>\n",
       "      <td>[-0.7302982, 1.5127099, 1.2979797, 0.65926456,...</td>\n",
       "      <td>[-2.26469612, 3.18752861, -1.83492291, 1.09744...</td>\n",
       "    </tr>\n",
       "    <tr>\n",
       "      <th>2</th>\n",
       "      <td>124425_2</td>\n",
       "      <td>Folk</td>\n",
       "      <td>[-112.90256, -84.587326, -92.53052, -99.84867,...</td>\n",
       "      <td>[118.598724, 102.67175, 82.80994, 73.35031, 71...</td>\n",
       "      <td>[-33.237568, -38.343197, -34.45424, -24.077305...</td>\n",
       "      <td>[50.234768, 52.99376, 56.314552, 51.52988, 53....</td>\n",
       "      <td>[18.136402, 22.863585, 18.818027, 11.438265, 8...</td>\n",
       "      <td>[-23.589928, -19.38637, -15.253525, -5.8537474...</td>\n",
       "      <td>[11.365215, 6.558339, -1.7250502, -4.8964157, ...</td>\n",
       "      <td>[-8.613762, -10.419959, -4.151663, -1.5471857,...</td>\n",
       "      <td>...</td>\n",
       "      <td>[-19.939487, -16.535833, -21.92295, -25.605438...</td>\n",
       "      <td>[12.999569, 8.9071, 3.3847241, 5.747637, 2.470...</td>\n",
       "      <td>[-5.4092526, -7.6361217, -13.698164, -13.45112...</td>\n",
       "      <td>[-0.42731082, -2.8598223, -1.4495995, 1.697975...</td>\n",
       "      <td>[-14.1753845, -20.045826, -20.387835, -21.9254...</td>\n",
       "      <td>[-2.81877732, 0.0170741491, -2.23746324, -1.79...</td>\n",
       "      <td>[-0.648167074, -0.260594785, -1.02404821, 2.81...</td>\n",
       "      <td>[-0.6686466, 2.7766242, -1.6993774, -3.4631765...</td>\n",
       "      <td>[-0.7302982, 1.5127099, 1.2979797, 0.65926456,...</td>\n",
       "      <td>[-2.26469612, 3.18752861, -1.83492291, 1.09744...</td>\n",
       "    </tr>\n",
       "  </tbody>\n",
       "</table>\n",
       "<p>3 rows × 22 columns</p>\n",
       "</div>"
      ],
      "text/plain": [
       "         id genre                                      mfccFeature_0  \\\n",
       "0  124425_0  Folk  [-367.4169, -240.58614, -193.78488, -180.29262...   \n",
       "1  124425_1  Folk  [-176.67264, -169.07156, -142.83098, -116.0994...   \n",
       "2  124425_2  Folk  [-112.90256, -84.587326, -92.53052, -99.84867,...   \n",
       "\n",
       "                                       mfccFeature_1  \\\n",
       "0  [163.79123, 170.1294, 171.51189, 161.30435, 14...   \n",
       "1  [125.95861, 142.0693, 138.62712, 128.68915, 12...   \n",
       "2  [118.598724, 102.67175, 82.80994, 73.35031, 71...   \n",
       "\n",
       "                                       mfccFeature_2  \\\n",
       "0  [6.0959854, -5.9718704, -3.6486344, -1.2554941...   \n",
       "1  [-42.819057, -54.282654, -64.97652, -73.68849,...   \n",
       "2  [-33.237568, -38.343197, -34.45424, -24.077305...   \n",
       "\n",
       "                                       mfccFeature_3  \\\n",
       "0  [53.194122, 63.06723, 60.13885, 54.763412, 52....   \n",
       "1  [68.79902, 82.17572, 71.34984, 73.27362, 84.63...   \n",
       "2  [50.234768, 52.99376, 56.314552, 51.52988, 53....   \n",
       "\n",
       "                                       mfccFeature_4  \\\n",
       "0  [16.68528, 19.538809, 19.626118, 18.60508, 23....   \n",
       "1  [15.051884, 15.13154, 15.273981, 14.384039, 15...   \n",
       "2  [18.136402, 22.863585, 18.818027, 11.438265, 8...   \n",
       "\n",
       "                                       mfccFeature_5  \\\n",
       "0  [-23.51472, -19.84507, -16.962742, -13.548637,...   \n",
       "1  [-5.963161, -10.348415, -12.421081, -9.166971,...   \n",
       "2  [-23.589928, -19.38637, -15.253525, -5.8537474...   \n",
       "\n",
       "                                       mfccFeature_6  \\\n",
       "0  [6.3363132, -1.276854, -5.610017, -4.050003, -...   \n",
       "1  [18.740742, 19.350863, 8.707056, 3.6187146, 1....   \n",
       "2  [11.365215, 6.558339, -1.7250502, -4.8964157, ...   \n",
       "\n",
       "                                       mfccFeature_7  ...  \\\n",
       "0  [-20.14743, -24.12778, -16.919537, -7.6289234,...  ...   \n",
       "1  [-11.269847, -7.254199, 1.2921772, -1.4600475,...  ...   \n",
       "2  [-8.613762, -10.419959, -4.151663, -1.5471857,...  ...   \n",
       "\n",
       "                                      mfccFeature_10  \\\n",
       "0  [3.951639, -4.166794, -8.241913, -9.794014, -1...   \n",
       "1  [-5.3846745, -10.779312, -19.985872, -18.81395...   \n",
       "2  [-19.939487, -16.535833, -21.92295, -25.605438...   \n",
       "\n",
       "                                      mfccFeature_11  \\\n",
       "0  [5.920375, 9.249519, 8.353765, 11.909894, 14.4...   \n",
       "1  [12.694374, 11.362453, 8.072839, 4.8536325, -0...   \n",
       "2  [12.999569, 8.9071, 3.3847241, 5.747637, 2.470...   \n",
       "\n",
       "                                      mfccFeature_12  \\\n",
       "0  [-12.381685, -16.062777, -16.373697, -15.77498...   \n",
       "1  [3.3793998, -0.6741159, -0.14108896, -5.083455...   \n",
       "2  [-5.4092526, -7.6361217, -13.698164, -13.45112...   \n",
       "\n",
       "                                      mfccFeature_13  \\\n",
       "0  [-3.8526406, -3.5650363, -4.6753526, -5.407305...   \n",
       "1  [-19.578459, -20.371014, -11.236882, -7.421087...   \n",
       "2  [-0.42731082, -2.8598223, -1.4495995, 1.697975...   \n",
       "\n",
       "                                      mfccFeature_14  \\\n",
       "0  [-4.4005404, -11.534243, -12.7789135, -14.0914...   \n",
       "1  [-8.606797, -10.857103, -13.955954, -13.888264...   \n",
       "2  [-14.1753845, -20.045826, -20.387835, -21.9254...   \n",
       "\n",
       "                                      themeFeature_0  \\\n",
       "0  [-2.81877732, 0.0170741491, -2.23746324, -1.79...   \n",
       "1  [-2.81877732, 0.0170741491, -2.23746324, -1.79...   \n",
       "2  [-2.81877732, 0.0170741491, -2.23746324, -1.79...   \n",
       "\n",
       "                                      themeFeature_1  \\\n",
       "0  [-0.648167074, -0.260594785, -1.02404821, 2.81...   \n",
       "1  [-0.648167074, -0.260594785, -1.02404821, 2.81...   \n",
       "2  [-0.648167074, -0.260594785, -1.02404821, 2.81...   \n",
       "\n",
       "                                      themeFeature_2  \\\n",
       "0  [-0.6686466, 2.7766242, -1.6993774, -3.4631765...   \n",
       "1  [-0.6686466, 2.7766242, -1.6993774, -3.4631765...   \n",
       "2  [-0.6686466, 2.7766242, -1.6993774, -3.4631765...   \n",
       "\n",
       "                                      themeFeature_3  \\\n",
       "0  [-0.7302982, 1.5127099, 1.2979797, 0.65926456,...   \n",
       "1  [-0.7302982, 1.5127099, 1.2979797, 0.65926456,...   \n",
       "2  [-0.7302982, 1.5127099, 1.2979797, 0.65926456,...   \n",
       "\n",
       "                                      themeFeature_4  \n",
       "0  [-2.26469612, 3.18752861, -1.83492291, 1.09744...  \n",
       "1  [-2.26469612, 3.18752861, -1.83492291, 1.09744...  \n",
       "2  [-2.26469612, 3.18752861, -1.83492291, 1.09744...  \n",
       "\n",
       "[3 rows x 22 columns]"
      ]
     },
     "execution_count": 4,
     "metadata": {},
     "output_type": "execute_result"
    }
   ],
   "source": [
    "musicFeatures.head(3)"
   ]
  },
  {
   "cell_type": "code",
   "execution_count": 5,
   "metadata": {
    "slideshow": {
     "slide_type": "subslide"
    }
   },
   "outputs": [
    {
     "name": "stdout",
     "output_type": "stream",
     "text": [
      "(26900, 22)\n",
      "MFCC Features \n",
      "\n",
      "<class 'numpy.ndarray'>\n",
      "250\n",
      "<class 'numpy.float64'>\n",
      "Theme Features \n",
      "\n",
      "<class 'numpy.ndarray'>\n",
      "250\n",
      "<class 'numpy.float64'>\n"
     ]
    }
   ],
   "source": [
    "\"\"\"\n",
    "Verifying all shapes and types of data\n",
    "\"\"\"\n",
    "print(musicFeatures.shape)\n",
    "print('MFCC Features \\n')\n",
    "print(type(musicFeatures['mfccFeature_0'].iloc[0]))\n",
    "print(len(musicFeatures['mfccFeature_0'].iloc[0]))\n",
    "print(type(musicFeatures['mfccFeature_0'].iloc[0][0]))\n",
    "\n",
    "print('Theme Features \\n')\n",
    "print(type(musicFeatures['themeFeature_0'].iloc[0]))\n",
    "print(musicFeatures['themeFeature_0'].iloc[0].size)\n",
    "print(type(musicFeatures['themeFeature_0'].iloc[0][0]))\n",
    "\n"
   ]
  },
  {
   "cell_type": "markdown",
   "metadata": {
    "slideshow": {
     "slide_type": "slide"
    }
   },
   "source": [
    "Preprocessing to split X and y datasets\n",
    "\n",
    "Also removing 'id' from the X dataset to retain only the Audio and Theme features"
   ]
  },
  {
   "cell_type": "code",
   "execution_count": 6,
   "metadata": {
    "slideshow": {
     "slide_type": "subslide"
    }
   },
   "outputs": [
    {
     "name": "stdout",
     "output_type": "stream",
     "text": [
      "(26900, 20)\n",
      "(26900,)\n"
     ]
    }
   ],
   "source": [
    "#Spliting x and y\n",
    "\n",
    "y = musicFeatures['genre']\n",
    "x = musicFeatures.loc[:, musicFeatures.columns != 'genre']\n",
    "x = x.drop(['id'],axis =1)\n",
    "\n",
    "print(x.shape)\n",
    "print(y.shape)"
   ]
  },
  {
   "cell_type": "markdown",
   "metadata": {
    "slideshow": {
     "slide_type": "slide"
    }
   },
   "source": [
    "The convertTo3DnpArray() function in the cell below is used to reshape the data. \n",
    "\n",
    "The data is currently in tabular form where each cell is 250 length numpy vector. We're reshaping the data 4 dimensions to 3 dimensions for our use case."
   ]
  },
  {
   "cell_type": "code",
   "execution_count": 7,
   "metadata": {
    "slideshow": {
     "slide_type": "subslide"
    }
   },
   "outputs": [],
   "source": [
    "# Reshape the dataset for our use case\n",
    "def convertTo3DnpArray(df):\n",
    "    new = []\n",
    "\n",
    "    for index, row in df.iterrows():\n",
    "        temp = []\n",
    "        for i in row:\n",
    "            temp.append(i)\n",
    "        temp = np.stack(temp, axis=1)\n",
    "        new.append(temp)\n",
    "    new = np.stack(new, axis=0)\n",
    "    \n",
    "    return new"
   ]
  },
  {
   "cell_type": "code",
   "execution_count": 8,
   "metadata": {
    "slideshow": {
     "slide_type": "subslide"
    }
   },
   "outputs": [
    {
     "name": "stdout",
     "output_type": "stream",
     "text": [
      "Final Sizes of all datasets\n",
      "x_train : (21520, 250, 20)\n",
      "x_test : (2690, 250, 20)\n",
      "x_valid : (2690, 250, 20)\n",
      "y_train : (21520,)\n",
      "y_test : (2690,)\n",
      "y_valid : (2690,)\n",
      " \n",
      "\n",
      "Value counts \n",
      "y_train :\n",
      "Rock            3820\n",
      "Hip-Hop         3304\n",
      "Experimental    3228\n",
      "Folk            3224\n",
      "Electronic      3192\n",
      "Pop             2428\n",
      "Instrumental    2324\n",
      "Name: genre, dtype: int64\n",
      "y_test :\n",
      "Rock            477\n",
      "Hip-Hop         413\n",
      "Experimental    404\n",
      "Folk            403\n",
      "Electronic      399\n",
      "Pop             303\n",
      "Instrumental    291\n",
      "Name: genre, dtype: int64\n",
      "y_valid :\n",
      "Rock            478\n",
      "Hip-Hop         413\n",
      "Folk            403\n",
      "Experimental    403\n",
      "Electronic      399\n",
      "Pop             304\n",
      "Instrumental    290\n",
      "Name: genre, dtype: int64\n"
     ]
    }
   ],
   "source": [
    "#Train test valid split\n",
    "\n",
    "x_train_temp, x_valid, y_train_temp, y_valid = train_test_split(x,y,test_size=0.1,random_state=12,stratify=y)\n",
    "x_train, x_test, y_train, y_test = train_test_split(x_train_temp,y_train_temp,test_size=0.1/0.9,random_state=12,stratify=y_train_temp)\n",
    "\n",
    "\n",
    "x_train = convertTo3DnpArray(x_train)\n",
    "x_test = convertTo3DnpArray(x_test)\n",
    "x_valid = convertTo3DnpArray(x_valid)\n",
    "\n",
    "print('Final Sizes of all datasets')\n",
    "print('x_train :',x_train.shape)\n",
    "print('x_test :',x_test.shape)\n",
    "print('x_valid :',x_valid.shape)\n",
    "print('y_train :',y_train.shape)\n",
    "print('y_test :',y_test.shape)\n",
    "print('y_valid :',y_valid.shape)\n",
    "print(' \\n')\n",
    "\n",
    "print('Value counts ')\n",
    "print('y_train :')\n",
    "print(y_train.value_counts())\n",
    "print('y_test :')\n",
    "print(y_test.value_counts())\n",
    "print('y_valid :')\n",
    "print(y_valid.value_counts())\n",
    "\n"
   ]
  },
  {
   "cell_type": "markdown",
   "metadata": {
    "slideshow": {
     "slide_type": "slide"
    }
   },
   "source": [
    "The data is currently in a 3D format. The kNN algorithm needs it to be changed into a 2D/1D format, hence it is being reshaped in the following cell"
   ]
  },
  {
   "cell_type": "code",
   "execution_count": 9,
   "metadata": {
    "slideshow": {
     "slide_type": "subslide"
    }
   },
   "outputs": [],
   "source": [
    "x_train = np.reshape(x_train,(21520, 5000))\n",
    "x_test = np.reshape(x_test,(2690, 5000))\n",
    "x_valid = np.reshape(x_valid,(2690, 5000))"
   ]
  },
  {
   "cell_type": "markdown",
   "metadata": {
    "slideshow": {
     "slide_type": "slide"
    }
   },
   "source": [
    "Buiding the model using scikit-learn's KNeighborsClassifier module for k = 5"
   ]
  },
  {
   "cell_type": "code",
   "execution_count": 10,
   "metadata": {
    "slideshow": {
     "slide_type": "subslide"
    }
   },
   "outputs": [],
   "source": [
    "from sklearn.neighbors import KNeighborsClassifier\n",
    "\n",
    "knn_model = KNeighborsClassifier(n_neighbors=5)\n"
   ]
  },
  {
   "cell_type": "code",
   "execution_count": 11,
   "metadata": {
    "slideshow": {
     "slide_type": "subslide"
    }
   },
   "outputs": [
    {
     "data": {
      "text/html": [
       "<style>#sk-container-id-1 {color: black;background-color: white;}#sk-container-id-1 pre{padding: 0;}#sk-container-id-1 div.sk-toggleable {background-color: white;}#sk-container-id-1 label.sk-toggleable__label {cursor: pointer;display: block;width: 100%;margin-bottom: 0;padding: 0.3em;box-sizing: border-box;text-align: center;}#sk-container-id-1 label.sk-toggleable__label-arrow:before {content: \"▸\";float: left;margin-right: 0.25em;color: #696969;}#sk-container-id-1 label.sk-toggleable__label-arrow:hover:before {color: black;}#sk-container-id-1 div.sk-estimator:hover label.sk-toggleable__label-arrow:before {color: black;}#sk-container-id-1 div.sk-toggleable__content {max-height: 0;max-width: 0;overflow: hidden;text-align: left;background-color: #f0f8ff;}#sk-container-id-1 div.sk-toggleable__content pre {margin: 0.2em;color: black;border-radius: 0.25em;background-color: #f0f8ff;}#sk-container-id-1 input.sk-toggleable__control:checked~div.sk-toggleable__content {max-height: 200px;max-width: 100%;overflow: auto;}#sk-container-id-1 input.sk-toggleable__control:checked~label.sk-toggleable__label-arrow:before {content: \"▾\";}#sk-container-id-1 div.sk-estimator input.sk-toggleable__control:checked~label.sk-toggleable__label {background-color: #d4ebff;}#sk-container-id-1 div.sk-label input.sk-toggleable__control:checked~label.sk-toggleable__label {background-color: #d4ebff;}#sk-container-id-1 input.sk-hidden--visually {border: 0;clip: rect(1px 1px 1px 1px);clip: rect(1px, 1px, 1px, 1px);height: 1px;margin: -1px;overflow: hidden;padding: 0;position: absolute;width: 1px;}#sk-container-id-1 div.sk-estimator {font-family: monospace;background-color: #f0f8ff;border: 1px dotted black;border-radius: 0.25em;box-sizing: border-box;margin-bottom: 0.5em;}#sk-container-id-1 div.sk-estimator:hover {background-color: #d4ebff;}#sk-container-id-1 div.sk-parallel-item::after {content: \"\";width: 100%;border-bottom: 1px solid gray;flex-grow: 1;}#sk-container-id-1 div.sk-label:hover label.sk-toggleable__label {background-color: #d4ebff;}#sk-container-id-1 div.sk-serial::before {content: \"\";position: absolute;border-left: 1px solid gray;box-sizing: border-box;top: 0;bottom: 0;left: 50%;z-index: 0;}#sk-container-id-1 div.sk-serial {display: flex;flex-direction: column;align-items: center;background-color: white;padding-right: 0.2em;padding-left: 0.2em;position: relative;}#sk-container-id-1 div.sk-item {position: relative;z-index: 1;}#sk-container-id-1 div.sk-parallel {display: flex;align-items: stretch;justify-content: center;background-color: white;position: relative;}#sk-container-id-1 div.sk-item::before, #sk-container-id-1 div.sk-parallel-item::before {content: \"\";position: absolute;border-left: 1px solid gray;box-sizing: border-box;top: 0;bottom: 0;left: 50%;z-index: -1;}#sk-container-id-1 div.sk-parallel-item {display: flex;flex-direction: column;z-index: 1;position: relative;background-color: white;}#sk-container-id-1 div.sk-parallel-item:first-child::after {align-self: flex-end;width: 50%;}#sk-container-id-1 div.sk-parallel-item:last-child::after {align-self: flex-start;width: 50%;}#sk-container-id-1 div.sk-parallel-item:only-child::after {width: 0;}#sk-container-id-1 div.sk-dashed-wrapped {border: 1px dashed gray;margin: 0 0.4em 0.5em 0.4em;box-sizing: border-box;padding-bottom: 0.4em;background-color: white;}#sk-container-id-1 div.sk-label label {font-family: monospace;font-weight: bold;display: inline-block;line-height: 1.2em;}#sk-container-id-1 div.sk-label-container {text-align: center;}#sk-container-id-1 div.sk-container {/* jupyter's `normalize.less` sets `[hidden] { display: none; }` but bootstrap.min.css set `[hidden] { display: none !important; }` so we also need the `!important` here to be able to override the default hidden behavior on the sphinx rendered scikit-learn.org. See: https://github.com/scikit-learn/scikit-learn/issues/21755 */display: inline-block !important;position: relative;}#sk-container-id-1 div.sk-text-repr-fallback {display: none;}</style><div id=\"sk-container-id-1\" class=\"sk-top-container\"><div class=\"sk-text-repr-fallback\"><pre>KNeighborsClassifier()</pre><b>In a Jupyter environment, please rerun this cell to show the HTML representation or trust the notebook. <br />On GitHub, the HTML representation is unable to render, please try loading this page with nbviewer.org.</b></div><div class=\"sk-container\" hidden><div class=\"sk-item\"><div class=\"sk-estimator sk-toggleable\"><input class=\"sk-toggleable__control sk-hidden--visually\" id=\"sk-estimator-id-1\" type=\"checkbox\" checked><label for=\"sk-estimator-id-1\" class=\"sk-toggleable__label sk-toggleable__label-arrow\">KNeighborsClassifier</label><div class=\"sk-toggleable__content\"><pre>KNeighborsClassifier()</pre></div></div></div></div></div>"
      ],
      "text/plain": [
       "KNeighborsClassifier()"
      ]
     },
     "execution_count": 11,
     "metadata": {},
     "output_type": "execute_result"
    }
   ],
   "source": [
    "knn_model.fit(x_train,y_train)"
   ]
  },
  {
   "cell_type": "code",
   "execution_count": 12,
   "metadata": {
    "slideshow": {
     "slide_type": "subslide"
    }
   },
   "outputs": [
    {
     "data": {
      "text/plain": [
       "0.45227695167286247"
      ]
     },
     "execution_count": 12,
     "metadata": {},
     "output_type": "execute_result"
    }
   ],
   "source": [
    "# getting the training accuracy using 5 nearest neighbors\n",
    "knn_model.score(X=x_train, y=y_train)\n"
   ]
  },
  {
   "cell_type": "code",
   "execution_count": 13,
   "metadata": {
    "slideshow": {
     "slide_type": "subslide"
    }
   },
   "outputs": [
    {
     "data": {
      "text/plain": [
       "0.3137546468401487"
      ]
     },
     "execution_count": 13,
     "metadata": {},
     "output_type": "execute_result"
    }
   ],
   "source": [
    "# getting the testing accuracy using 5 nearest neighbors\n",
    "knn_model.score(X=x_test, y=y_test)\n"
   ]
  },
  {
   "cell_type": "code",
   "execution_count": 14,
   "metadata": {
    "slideshow": {
     "slide_type": "subslide"
    }
   },
   "outputs": [
    {
     "data": {
      "text/plain": [
       "0.33011152416356876"
      ]
     },
     "execution_count": 14,
     "metadata": {},
     "output_type": "execute_result"
    }
   ],
   "source": [
    "# getting the validation accuracy using 5 nearest neighbors\n",
    "knn_model.score(X=x_valid, y=y_valid)"
   ]
  },
  {
   "cell_type": "markdown",
   "metadata": {
    "slideshow": {
     "slide_type": "slide"
    }
   },
   "source": [
    "Save the model"
   ]
  },
  {
   "cell_type": "code",
   "execution_count": 15,
   "metadata": {
    "slideshow": {
     "slide_type": "subslide"
    }
   },
   "outputs": [],
   "source": [
    "import joblib"
   ]
  },
  {
   "cell_type": "code",
   "execution_count": 16,
   "metadata": {
    "slideshow": {
     "slide_type": "subslide"
    }
   },
   "outputs": [],
   "source": [
    "filename = './saved_model/knn_250_audio+theme.sav'"
   ]
  },
  {
   "cell_type": "code",
   "execution_count": 17,
   "metadata": {
    "slideshow": {
     "slide_type": "subslide"
    }
   },
   "outputs": [
    {
     "data": {
      "text/plain": [
       "['./saved_model/knn_250_audio+theme.sav']"
      ]
     },
     "execution_count": 17,
     "metadata": {},
     "output_type": "execute_result"
    }
   ],
   "source": [
    "joblib.dump(knn_model, filename)"
   ]
  },
  {
   "cell_type": "code",
   "execution_count": 18,
   "metadata": {
    "slideshow": {
     "slide_type": "skip"
    }
   },
   "outputs": [],
   "source": [
    "loaded_model = joblib.load(filename)"
   ]
  },
  {
   "cell_type": "code",
   "execution_count": 19,
   "metadata": {
    "slideshow": {
     "slide_type": "skip"
    }
   },
   "outputs": [
    {
     "data": {
      "text/plain": [
       "0.33011152416356876"
      ]
     },
     "execution_count": 19,
     "metadata": {},
     "output_type": "execute_result"
    }
   ],
   "source": [
    "loaded_model.score(x_valid, y_valid)"
   ]
  },
  {
   "cell_type": "markdown",
   "metadata": {
    "slideshow": {
     "slide_type": "slide"
    }
   },
   "source": [
    "The poor performance of the model is expected and the purpose of this model is to get a baseline when using classical ML methods for our use case \n",
    "\n",
    "Going forward we'll be utilizing a variety of neural networks - DNNs, CNNs, RNNs and Hybrid networks to find the best models for music genre prediction"
   ]
  }
 ],
 "metadata": {
  "celltoolbar": "Slideshow",
  "kernelspec": {
   "display_name": "Python 3 (ipykernel)",
   "language": "python",
   "name": "python3"
  },
  "language_info": {
   "codemirror_mode": {
    "name": "ipython",
    "version": 3
   },
   "file_extension": ".py",
   "mimetype": "text/x-python",
   "name": "python",
   "nbconvert_exporter": "python",
   "pygments_lexer": "ipython3",
   "version": "3.9.7"
  },
  "vscode": {
   "interpreter": {
    "hash": "4699a25f376d65a513f5cdbbe338e0837a12cbc5eae8a3725f0e413f2e7c51eb"
   }
  }
 },
 "nbformat": 4,
 "nbformat_minor": 2
}
