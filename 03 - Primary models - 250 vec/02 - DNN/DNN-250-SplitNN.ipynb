{
 "cells": [
  {
   "cell_type": "markdown",
   "metadata": {
    "slideshow": {
     "slide_type": "slide"
    }
   },
   "source": [
    "### In this notebook, we create split Deep Neural Networks for Genre prediction using both Audio and Theme features\n",
    "### The initial network would be split in two with each split working on either the Audio or the Theme features and then getting combined before the Output layer"
   ]
  },
  {
   "cell_type": "code",
   "execution_count": 1,
   "metadata": {
    "slideshow": {
     "slide_type": "subslide"
    }
   },
   "outputs": [],
   "source": [
    "import numpy as np\n",
    "import pandas as pd\n",
    "from tqdm import tqdm\n",
    "from sklearn.model_selection import train_test_split\n",
    "from sklearn.preprocessing import OneHotEncoder\n",
    "import os\n",
    "\n",
    "os.environ['TF_CPP_MIN_LOG_LEVEL'] = '2'"
   ]
  },
  {
   "cell_type": "markdown",
   "metadata": {
    "slideshow": {
     "slide_type": "slide"
    }
   },
   "source": [
    "\n",
    "Load the data and verify the shape"
   ]
  },
  {
   "cell_type": "code",
   "execution_count": 2,
   "metadata": {
    "slideshow": {
     "slide_type": "subslide"
    }
   },
   "outputs": [],
   "source": [
    "musicFeatures = pd.read_pickle(\"./musicFeatures_med_250/musicFeatures.pkl\")  "
   ]
  },
  {
   "cell_type": "code",
   "execution_count": 3,
   "metadata": {
    "slideshow": {
     "slide_type": "subslide"
    }
   },
   "outputs": [
    {
     "name": "stdout",
     "output_type": "stream",
     "text": [
      "shape of dataset: (26900, 22)\n",
      "\n"
     ]
    },
    {
     "data": {
      "text/html": [
       "<div>\n",
       "<style scoped>\n",
       "    .dataframe tbody tr th:only-of-type {\n",
       "        vertical-align: middle;\n",
       "    }\n",
       "\n",
       "    .dataframe tbody tr th {\n",
       "        vertical-align: top;\n",
       "    }\n",
       "\n",
       "    .dataframe thead th {\n",
       "        text-align: right;\n",
       "    }\n",
       "</style>\n",
       "<table border=\"1\" class=\"dataframe\">\n",
       "  <thead>\n",
       "    <tr style=\"text-align: right;\">\n",
       "      <th></th>\n",
       "      <th>id</th>\n",
       "      <th>genre</th>\n",
       "      <th>mfccFeature_0</th>\n",
       "      <th>mfccFeature_1</th>\n",
       "      <th>mfccFeature_2</th>\n",
       "      <th>mfccFeature_3</th>\n",
       "      <th>mfccFeature_4</th>\n",
       "      <th>mfccFeature_5</th>\n",
       "      <th>mfccFeature_6</th>\n",
       "      <th>mfccFeature_7</th>\n",
       "      <th>...</th>\n",
       "      <th>mfccFeature_10</th>\n",
       "      <th>mfccFeature_11</th>\n",
       "      <th>mfccFeature_12</th>\n",
       "      <th>mfccFeature_13</th>\n",
       "      <th>mfccFeature_14</th>\n",
       "      <th>themeFeature_0</th>\n",
       "      <th>themeFeature_1</th>\n",
       "      <th>themeFeature_2</th>\n",
       "      <th>themeFeature_3</th>\n",
       "      <th>themeFeature_4</th>\n",
       "    </tr>\n",
       "  </thead>\n",
       "  <tbody>\n",
       "    <tr>\n",
       "      <th>0</th>\n",
       "      <td>124425_0</td>\n",
       "      <td>Folk</td>\n",
       "      <td>[-367.4169, -240.58614, -193.78488, -180.29262...</td>\n",
       "      <td>[163.79123, 170.1294, 171.51189, 161.30435, 14...</td>\n",
       "      <td>[6.0959854, -5.9718704, -3.6486344, -1.2554941...</td>\n",
       "      <td>[53.194122, 63.06723, 60.13885, 54.763412, 52....</td>\n",
       "      <td>[16.68528, 19.538809, 19.626118, 18.60508, 23....</td>\n",
       "      <td>[-23.51472, -19.84507, -16.962742, -13.548637,...</td>\n",
       "      <td>[6.3363132, -1.276854, -5.610017, -4.050003, -...</td>\n",
       "      <td>[-20.14743, -24.12778, -16.919537, -7.6289234,...</td>\n",
       "      <td>...</td>\n",
       "      <td>[3.951639, -4.166794, -8.241913, -9.794014, -1...</td>\n",
       "      <td>[5.920375, 9.249519, 8.353765, 11.909894, 14.4...</td>\n",
       "      <td>[-12.381685, -16.062777, -16.373697, -15.77498...</td>\n",
       "      <td>[-3.8526406, -3.5650363, -4.6753526, -5.407305...</td>\n",
       "      <td>[-4.4005404, -11.534243, -12.7789135, -14.0914...</td>\n",
       "      <td>[-2.81877732, 0.0170741491, -2.23746324, -1.79...</td>\n",
       "      <td>[-0.648167074, -0.260594785, -1.02404821, 2.81...</td>\n",
       "      <td>[-0.6686466, 2.7766242, -1.6993774, -3.4631765...</td>\n",
       "      <td>[-0.7302982, 1.5127099, 1.2979797, 0.65926456,...</td>\n",
       "      <td>[-2.26469612, 3.18752861, -1.83492291, 1.09744...</td>\n",
       "    </tr>\n",
       "    <tr>\n",
       "      <th>1</th>\n",
       "      <td>124425_1</td>\n",
       "      <td>Folk</td>\n",
       "      <td>[-176.67264, -169.07156, -142.83098, -116.0994...</td>\n",
       "      <td>[125.95861, 142.0693, 138.62712, 128.68915, 12...</td>\n",
       "      <td>[-42.819057, -54.282654, -64.97652, -73.68849,...</td>\n",
       "      <td>[68.79902, 82.17572, 71.34984, 73.27362, 84.63...</td>\n",
       "      <td>[15.051884, 15.13154, 15.273981, 14.384039, 15...</td>\n",
       "      <td>[-5.963161, -10.348415, -12.421081, -9.166971,...</td>\n",
       "      <td>[18.740742, 19.350863, 8.707056, 3.6187146, 1....</td>\n",
       "      <td>[-11.269847, -7.254199, 1.2921772, -1.4600475,...</td>\n",
       "      <td>...</td>\n",
       "      <td>[-5.3846745, -10.779312, -19.985872, -18.81395...</td>\n",
       "      <td>[12.694374, 11.362453, 8.072839, 4.8536325, -0...</td>\n",
       "      <td>[3.3793998, -0.6741159, -0.14108896, -5.083455...</td>\n",
       "      <td>[-19.578459, -20.371014, -11.236882, -7.421087...</td>\n",
       "      <td>[-8.606797, -10.857103, -13.955954, -13.888264...</td>\n",
       "      <td>[-2.81877732, 0.0170741491, -2.23746324, -1.79...</td>\n",
       "      <td>[-0.648167074, -0.260594785, -1.02404821, 2.81...</td>\n",
       "      <td>[-0.6686466, 2.7766242, -1.6993774, -3.4631765...</td>\n",
       "      <td>[-0.7302982, 1.5127099, 1.2979797, 0.65926456,...</td>\n",
       "      <td>[-2.26469612, 3.18752861, -1.83492291, 1.09744...</td>\n",
       "    </tr>\n",
       "    <tr>\n",
       "      <th>2</th>\n",
       "      <td>124425_2</td>\n",
       "      <td>Folk</td>\n",
       "      <td>[-112.90256, -84.587326, -92.53052, -99.84867,...</td>\n",
       "      <td>[118.598724, 102.67175, 82.80994, 73.35031, 71...</td>\n",
       "      <td>[-33.237568, -38.343197, -34.45424, -24.077305...</td>\n",
       "      <td>[50.234768, 52.99376, 56.314552, 51.52988, 53....</td>\n",
       "      <td>[18.136402, 22.863585, 18.818027, 11.438265, 8...</td>\n",
       "      <td>[-23.589928, -19.38637, -15.253525, -5.8537474...</td>\n",
       "      <td>[11.365215, 6.558339, -1.7250502, -4.8964157, ...</td>\n",
       "      <td>[-8.613762, -10.419959, -4.151663, -1.5471857,...</td>\n",
       "      <td>...</td>\n",
       "      <td>[-19.939487, -16.535833, -21.92295, -25.605438...</td>\n",
       "      <td>[12.999569, 8.9071, 3.3847241, 5.747637, 2.470...</td>\n",
       "      <td>[-5.4092526, -7.6361217, -13.698164, -13.45112...</td>\n",
       "      <td>[-0.42731082, -2.8598223, -1.4495995, 1.697975...</td>\n",
       "      <td>[-14.1753845, -20.045826, -20.387835, -21.9254...</td>\n",
       "      <td>[-2.81877732, 0.0170741491, -2.23746324, -1.79...</td>\n",
       "      <td>[-0.648167074, -0.260594785, -1.02404821, 2.81...</td>\n",
       "      <td>[-0.6686466, 2.7766242, -1.6993774, -3.4631765...</td>\n",
       "      <td>[-0.7302982, 1.5127099, 1.2979797, 0.65926456,...</td>\n",
       "      <td>[-2.26469612, 3.18752861, -1.83492291, 1.09744...</td>\n",
       "    </tr>\n",
       "  </tbody>\n",
       "</table>\n",
       "<p>3 rows × 22 columns</p>\n",
       "</div>"
      ],
      "text/plain": [
       "         id genre                                      mfccFeature_0  \\\n",
       "0  124425_0  Folk  [-367.4169, -240.58614, -193.78488, -180.29262...   \n",
       "1  124425_1  Folk  [-176.67264, -169.07156, -142.83098, -116.0994...   \n",
       "2  124425_2  Folk  [-112.90256, -84.587326, -92.53052, -99.84867,...   \n",
       "\n",
       "                                       mfccFeature_1  \\\n",
       "0  [163.79123, 170.1294, 171.51189, 161.30435, 14...   \n",
       "1  [125.95861, 142.0693, 138.62712, 128.68915, 12...   \n",
       "2  [118.598724, 102.67175, 82.80994, 73.35031, 71...   \n",
       "\n",
       "                                       mfccFeature_2  \\\n",
       "0  [6.0959854, -5.9718704, -3.6486344, -1.2554941...   \n",
       "1  [-42.819057, -54.282654, -64.97652, -73.68849,...   \n",
       "2  [-33.237568, -38.343197, -34.45424, -24.077305...   \n",
       "\n",
       "                                       mfccFeature_3  \\\n",
       "0  [53.194122, 63.06723, 60.13885, 54.763412, 52....   \n",
       "1  [68.79902, 82.17572, 71.34984, 73.27362, 84.63...   \n",
       "2  [50.234768, 52.99376, 56.314552, 51.52988, 53....   \n",
       "\n",
       "                                       mfccFeature_4  \\\n",
       "0  [16.68528, 19.538809, 19.626118, 18.60508, 23....   \n",
       "1  [15.051884, 15.13154, 15.273981, 14.384039, 15...   \n",
       "2  [18.136402, 22.863585, 18.818027, 11.438265, 8...   \n",
       "\n",
       "                                       mfccFeature_5  \\\n",
       "0  [-23.51472, -19.84507, -16.962742, -13.548637,...   \n",
       "1  [-5.963161, -10.348415, -12.421081, -9.166971,...   \n",
       "2  [-23.589928, -19.38637, -15.253525, -5.8537474...   \n",
       "\n",
       "                                       mfccFeature_6  \\\n",
       "0  [6.3363132, -1.276854, -5.610017, -4.050003, -...   \n",
       "1  [18.740742, 19.350863, 8.707056, 3.6187146, 1....   \n",
       "2  [11.365215, 6.558339, -1.7250502, -4.8964157, ...   \n",
       "\n",
       "                                       mfccFeature_7  ...  \\\n",
       "0  [-20.14743, -24.12778, -16.919537, -7.6289234,...  ...   \n",
       "1  [-11.269847, -7.254199, 1.2921772, -1.4600475,...  ...   \n",
       "2  [-8.613762, -10.419959, -4.151663, -1.5471857,...  ...   \n",
       "\n",
       "                                      mfccFeature_10  \\\n",
       "0  [3.951639, -4.166794, -8.241913, -9.794014, -1...   \n",
       "1  [-5.3846745, -10.779312, -19.985872, -18.81395...   \n",
       "2  [-19.939487, -16.535833, -21.92295, -25.605438...   \n",
       "\n",
       "                                      mfccFeature_11  \\\n",
       "0  [5.920375, 9.249519, 8.353765, 11.909894, 14.4...   \n",
       "1  [12.694374, 11.362453, 8.072839, 4.8536325, -0...   \n",
       "2  [12.999569, 8.9071, 3.3847241, 5.747637, 2.470...   \n",
       "\n",
       "                                      mfccFeature_12  \\\n",
       "0  [-12.381685, -16.062777, -16.373697, -15.77498...   \n",
       "1  [3.3793998, -0.6741159, -0.14108896, -5.083455...   \n",
       "2  [-5.4092526, -7.6361217, -13.698164, -13.45112...   \n",
       "\n",
       "                                      mfccFeature_13  \\\n",
       "0  [-3.8526406, -3.5650363, -4.6753526, -5.407305...   \n",
       "1  [-19.578459, -20.371014, -11.236882, -7.421087...   \n",
       "2  [-0.42731082, -2.8598223, -1.4495995, 1.697975...   \n",
       "\n",
       "                                      mfccFeature_14  \\\n",
       "0  [-4.4005404, -11.534243, -12.7789135, -14.0914...   \n",
       "1  [-8.606797, -10.857103, -13.955954, -13.888264...   \n",
       "2  [-14.1753845, -20.045826, -20.387835, -21.9254...   \n",
       "\n",
       "                                      themeFeature_0  \\\n",
       "0  [-2.81877732, 0.0170741491, -2.23746324, -1.79...   \n",
       "1  [-2.81877732, 0.0170741491, -2.23746324, -1.79...   \n",
       "2  [-2.81877732, 0.0170741491, -2.23746324, -1.79...   \n",
       "\n",
       "                                      themeFeature_1  \\\n",
       "0  [-0.648167074, -0.260594785, -1.02404821, 2.81...   \n",
       "1  [-0.648167074, -0.260594785, -1.02404821, 2.81...   \n",
       "2  [-0.648167074, -0.260594785, -1.02404821, 2.81...   \n",
       "\n",
       "                                      themeFeature_2  \\\n",
       "0  [-0.6686466, 2.7766242, -1.6993774, -3.4631765...   \n",
       "1  [-0.6686466, 2.7766242, -1.6993774, -3.4631765...   \n",
       "2  [-0.6686466, 2.7766242, -1.6993774, -3.4631765...   \n",
       "\n",
       "                                      themeFeature_3  \\\n",
       "0  [-0.7302982, 1.5127099, 1.2979797, 0.65926456,...   \n",
       "1  [-0.7302982, 1.5127099, 1.2979797, 0.65926456,...   \n",
       "2  [-0.7302982, 1.5127099, 1.2979797, 0.65926456,...   \n",
       "\n",
       "                                      themeFeature_4  \n",
       "0  [-2.26469612, 3.18752861, -1.83492291, 1.09744...  \n",
       "1  [-2.26469612, 3.18752861, -1.83492291, 1.09744...  \n",
       "2  [-2.26469612, 3.18752861, -1.83492291, 1.09744...  \n",
       "\n",
       "[3 rows x 22 columns]"
      ]
     },
     "execution_count": 3,
     "metadata": {},
     "output_type": "execute_result"
    }
   ],
   "source": [
    "print(f\"shape of dataset: {musicFeatures.shape}\\n\")\n",
    "\n",
    "musicFeatures.head(3)"
   ]
  },
  {
   "cell_type": "code",
   "execution_count": 4,
   "metadata": {
    "slideshow": {
     "slide_type": "subslide"
    }
   },
   "outputs": [
    {
     "name": "stdout",
     "output_type": "stream",
     "text": [
      "(26900, 22)\n",
      "MFCC Features \n",
      "\n",
      "<class 'numpy.ndarray'>\n",
      "250\n",
      "<class 'numpy.float64'>\n",
      "Theme Features \n",
      "\n",
      "<class 'numpy.ndarray'>\n",
      "250\n",
      "<class 'numpy.float64'>\n"
     ]
    }
   ],
   "source": [
    "\"\"\"\n",
    "Verifying all shapres and types of data\n",
    "\"\"\"\n",
    "print(musicFeatures.shape)\n",
    "print('MFCC Features \\n')\n",
    "print(type(musicFeatures['mfccFeature_0'].iloc[0]))\n",
    "print(len(musicFeatures['mfccFeature_0'].iloc[0]))\n",
    "print(type(musicFeatures['mfccFeature_0'].iloc[0][0]))\n",
    "\n",
    "print('Theme Features \\n')\n",
    "print(type(musicFeatures['themeFeature_0'].iloc[0]))\n",
    "print(musicFeatures['themeFeature_0'].iloc[0].size)\n",
    "print(type(musicFeatures['themeFeature_0'].iloc[0][0]))\n",
    "\n"
   ]
  },
  {
   "cell_type": "markdown",
   "metadata": {
    "slideshow": {
     "slide_type": "slide"
    }
   },
   "source": [
    "\n",
    "Split data in X and y datasets and dropping 'id' from the X dataset"
   ]
  },
  {
   "cell_type": "code",
   "execution_count": 5,
   "metadata": {
    "slideshow": {
     "slide_type": "subslide"
    }
   },
   "outputs": [
    {
     "name": "stdout",
     "output_type": "stream",
     "text": [
      "(26900, 20)\n",
      "(26900,)\n"
     ]
    }
   ],
   "source": [
    "#Spliting x and y\n",
    "\n",
    "y = musicFeatures['genre']\n",
    "x = musicFeatures.loc[:, musicFeatures.columns != 'genre']\n",
    "x = x.drop(['id'],axis =1)\n",
    "\n",
    "print(x.shape)\n",
    "print(y.shape)"
   ]
  },
  {
   "cell_type": "markdown",
   "metadata": {
    "slideshow": {
     "slide_type": "slide"
    }
   },
   "source": [
    "The convertTo3DnpArray() function in the cell below is used to reshape the data. \n",
    "\n",
    "The data is currently in tabular form where each cell is 250 length numpy vector. We're reshaping the data from 4 dimensions to 3 dimensions for our use case."
   ]
  },
  {
   "cell_type": "code",
   "execution_count": 6,
   "metadata": {
    "slideshow": {
     "slide_type": "subslide"
    }
   },
   "outputs": [],
   "source": [
    "def convertTo3DnpArray(df):\n",
    "    new = []\n",
    "\n",
    "    for index, row in df.iterrows():\n",
    "        temp = []\n",
    "        for i in row:\n",
    "            temp.append(i)\n",
    "        temp = np.stack(temp, axis=1)\n",
    "        new.append(temp)\n",
    "    new = np.stack(new, axis=0)\n",
    "    \n",
    "    return new"
   ]
  },
  {
   "cell_type": "markdown",
   "metadata": {
    "slideshow": {
     "slide_type": "slide"
    }
   },
   "source": [
    "We split the dataset into train,test and valid which is of the ratio 80:10:10. Each model is trained on train and tested on test, once the best model is identified, we do a final validation on valid dataset."
   ]
  },
  {
   "cell_type": "code",
   "execution_count": 7,
   "metadata": {
    "slideshow": {
     "slide_type": "subslide"
    }
   },
   "outputs": [
    {
     "name": "stdout",
     "output_type": "stream",
     "text": [
      "Final Sizes of all datasets\n",
      "x_train : (21520, 20)\n",
      "x_test : (2690, 20)\n",
      "x_valid : (2690, 20)\n",
      "y_train : (21520,)\n",
      "y_test : (2690,)\n",
      "y_valid : (2690,)\n",
      " \n",
      "\n",
      "Value counts \n",
      "y_train :\n",
      "Rock            3820\n",
      "Hip-Hop         3304\n",
      "Experimental    3228\n",
      "Folk            3224\n",
      "Electronic      3192\n",
      "Pop             2428\n",
      "Instrumental    2324\n",
      "Name: genre, dtype: int64\n",
      "y_test :\n",
      "Rock            477\n",
      "Hip-Hop         413\n",
      "Experimental    404\n",
      "Folk            403\n",
      "Electronic      399\n",
      "Pop             303\n",
      "Instrumental    291\n",
      "Name: genre, dtype: int64\n",
      "y_valid :\n",
      "Rock            478\n",
      "Hip-Hop         413\n",
      "Folk            403\n",
      "Experimental    403\n",
      "Electronic      399\n",
      "Pop             304\n",
      "Instrumental    290\n",
      "Name: genre, dtype: int64\n"
     ]
    }
   ],
   "source": [
    "#Train test valid split\n",
    "\n",
    "x_train_temp, x_valid, y_train_temp, y_valid = train_test_split(x,y,test_size=0.1,random_state=12,stratify=y)\n",
    "x_train, x_test, y_train, y_test = train_test_split(x_train_temp,y_train_temp,test_size=0.1/0.9,random_state=12,stratify=y_train_temp)\n",
    "\n",
    "print('Final Sizes of all datasets')\n",
    "print('x_train :',x_train.shape)\n",
    "print('x_test :',x_test.shape)\n",
    "print('x_valid :',x_valid.shape)\n",
    "print('y_train :',y_train.shape)\n",
    "print('y_test :',y_test.shape)\n",
    "print('y_valid :',y_valid.shape)\n",
    "print(' \\n')\n",
    "\n",
    "print('Value counts ')\n",
    "print('y_train :')\n",
    "print(y_train.value_counts())\n",
    "print('y_test :')\n",
    "print(y_test.value_counts())\n",
    "print('y_valid :')\n",
    "print(y_valid.value_counts())\n",
    "\n",
    "\n"
   ]
  },
  {
   "cell_type": "markdown",
   "metadata": {
    "slideshow": {
     "slide_type": "slide"
    }
   },
   "source": [
    "\n",
    "Calling the convertTo3DnpArray() function to convert the X datasets to 3D numpy arrays"
   ]
  },
  {
   "cell_type": "code",
   "execution_count": 8,
   "metadata": {
    "slideshow": {
     "slide_type": "subslide"
    }
   },
   "outputs": [
    {
     "name": "stdout",
     "output_type": "stream",
     "text": [
      "(21520, 250, 15) (21520, 250, 5)\n"
     ]
    }
   ],
   "source": [
    "x_train_audio = convertTo3DnpArray(x_train.iloc[:,0:15])\n",
    "x_test_audio = convertTo3DnpArray(x_test.iloc[:,0:15])\n",
    "x_valid_audio = convertTo3DnpArray(x_valid.iloc[:,0:15])\n",
    "\n",
    "x_train_theme = convertTo3DnpArray(x_train.iloc[:,15:])\n",
    "x_test_theme = convertTo3DnpArray(x_test.iloc[:,15:])\n",
    "x_valid_theme = convertTo3DnpArray(x_valid.iloc[:,15:])\n",
    "\n",
    "print(x_train_audio.shape,x_train_theme.shape)"
   ]
  },
  {
   "cell_type": "code",
   "execution_count": 9,
   "metadata": {
    "slideshow": {
     "slide_type": "subslide"
    }
   },
   "outputs": [
    {
     "data": {
      "text/html": [
       "<div>\n",
       "<style scoped>\n",
       "    .dataframe tbody tr th:only-of-type {\n",
       "        vertical-align: middle;\n",
       "    }\n",
       "\n",
       "    .dataframe tbody tr th {\n",
       "        vertical-align: top;\n",
       "    }\n",
       "\n",
       "    .dataframe thead th {\n",
       "        text-align: right;\n",
       "    }\n",
       "</style>\n",
       "<table border=\"1\" class=\"dataframe\">\n",
       "  <thead>\n",
       "    <tr style=\"text-align: right;\">\n",
       "      <th></th>\n",
       "      <th>mfccFeature_0</th>\n",
       "      <th>mfccFeature_1</th>\n",
       "      <th>mfccFeature_2</th>\n",
       "      <th>mfccFeature_3</th>\n",
       "      <th>mfccFeature_4</th>\n",
       "      <th>mfccFeature_5</th>\n",
       "      <th>mfccFeature_6</th>\n",
       "      <th>mfccFeature_7</th>\n",
       "      <th>mfccFeature_8</th>\n",
       "      <th>mfccFeature_9</th>\n",
       "      <th>mfccFeature_10</th>\n",
       "      <th>mfccFeature_11</th>\n",
       "      <th>mfccFeature_12</th>\n",
       "      <th>mfccFeature_13</th>\n",
       "      <th>mfccFeature_14</th>\n",
       "      <th>themeFeature_0</th>\n",
       "      <th>themeFeature_1</th>\n",
       "      <th>themeFeature_2</th>\n",
       "      <th>themeFeature_3</th>\n",
       "      <th>themeFeature_4</th>\n",
       "    </tr>\n",
       "  </thead>\n",
       "  <tbody>\n",
       "    <tr>\n",
       "      <th>35394</th>\n",
       "      <td>[-259.05927, -239.89516, -210.36134, -191.0854...</td>\n",
       "      <td>[95.85247, 89.139465, 100.31354, 114.44683, 12...</td>\n",
       "      <td>[-37.76436, -62.810684, -82.836006, -89.18021,...</td>\n",
       "      <td>[35.43055, 31.09402, 16.134083, 23.663452, 24....</td>\n",
       "      <td>[-3.8478534, -3.804813, -18.247433, -21.18354,...</td>\n",
       "      <td>[-5.8638554, -8.563865, -5.0026045, -3.563768,...</td>\n",
       "      <td>[-29.522072, -30.139166, -25.777792, -18.43643...</td>\n",
       "      <td>[-15.362446, -16.980038, -18.577564, -19.80409...</td>\n",
       "      <td>[-17.15803, -18.717222, -12.115081, -13.080694...</td>\n",
       "      <td>[4.9135947, 0.48395002, -2.3608677, -8.914128,...</td>\n",
       "      <td>[-6.845843, -8.657402, -8.819773, -13.005529, ...</td>\n",
       "      <td>[-7.297282, -4.4590926, -4.291797, -10.961505,...</td>\n",
       "      <td>[-8.618434, -8.838449, -20.322239, -25.85178, ...</td>\n",
       "      <td>[8.280407, 6.65845, -3.0541248, -7.157876, -7....</td>\n",
       "      <td>[8.006058, 4.326626, -4.908849, -5.9096045, -3...</td>\n",
       "      <td>[-0.57956219, -1.3161349, -1.4930314, -0.30448...</td>\n",
       "      <td>[-0.20024246, 0.31636077, -0.13792521, 0.34155...</td>\n",
       "      <td>[0.102461852, 1.33361864, 0.808948457, 0.14505...</td>\n",
       "      <td>[-0.112898998, 2.01885247, 0.449525505, -0.111...</td>\n",
       "      <td>[0.166869998, 0.532795727, -0.366118819, -0.09...</td>\n",
       "    </tr>\n",
       "  </tbody>\n",
       "</table>\n",
       "</div>"
      ],
      "text/plain": [
       "                                           mfccFeature_0  \\\n",
       "35394  [-259.05927, -239.89516, -210.36134, -191.0854...   \n",
       "\n",
       "                                           mfccFeature_1  \\\n",
       "35394  [95.85247, 89.139465, 100.31354, 114.44683, 12...   \n",
       "\n",
       "                                           mfccFeature_2  \\\n",
       "35394  [-37.76436, -62.810684, -82.836006, -89.18021,...   \n",
       "\n",
       "                                           mfccFeature_3  \\\n",
       "35394  [35.43055, 31.09402, 16.134083, 23.663452, 24....   \n",
       "\n",
       "                                           mfccFeature_4  \\\n",
       "35394  [-3.8478534, -3.804813, -18.247433, -21.18354,...   \n",
       "\n",
       "                                           mfccFeature_5  \\\n",
       "35394  [-5.8638554, -8.563865, -5.0026045, -3.563768,...   \n",
       "\n",
       "                                           mfccFeature_6  \\\n",
       "35394  [-29.522072, -30.139166, -25.777792, -18.43643...   \n",
       "\n",
       "                                           mfccFeature_7  \\\n",
       "35394  [-15.362446, -16.980038, -18.577564, -19.80409...   \n",
       "\n",
       "                                           mfccFeature_8  \\\n",
       "35394  [-17.15803, -18.717222, -12.115081, -13.080694...   \n",
       "\n",
       "                                           mfccFeature_9  \\\n",
       "35394  [4.9135947, 0.48395002, -2.3608677, -8.914128,...   \n",
       "\n",
       "                                          mfccFeature_10  \\\n",
       "35394  [-6.845843, -8.657402, -8.819773, -13.005529, ...   \n",
       "\n",
       "                                          mfccFeature_11  \\\n",
       "35394  [-7.297282, -4.4590926, -4.291797, -10.961505,...   \n",
       "\n",
       "                                          mfccFeature_12  \\\n",
       "35394  [-8.618434, -8.838449, -20.322239, -25.85178, ...   \n",
       "\n",
       "                                          mfccFeature_13  \\\n",
       "35394  [8.280407, 6.65845, -3.0541248, -7.157876, -7....   \n",
       "\n",
       "                                          mfccFeature_14  \\\n",
       "35394  [8.006058, 4.326626, -4.908849, -5.9096045, -3...   \n",
       "\n",
       "                                          themeFeature_0  \\\n",
       "35394  [-0.57956219, -1.3161349, -1.4930314, -0.30448...   \n",
       "\n",
       "                                          themeFeature_1  \\\n",
       "35394  [-0.20024246, 0.31636077, -0.13792521, 0.34155...   \n",
       "\n",
       "                                          themeFeature_2  \\\n",
       "35394  [0.102461852, 1.33361864, 0.808948457, 0.14505...   \n",
       "\n",
       "                                          themeFeature_3  \\\n",
       "35394  [-0.112898998, 2.01885247, 0.449525505, -0.111...   \n",
       "\n",
       "                                          themeFeature_4  \n",
       "35394  [0.166869998, 0.532795727, -0.366118819, -0.09...  "
      ]
     },
     "execution_count": 9,
     "metadata": {},
     "output_type": "execute_result"
    }
   ],
   "source": [
    "x_train.head(1)"
   ]
  },
  {
   "cell_type": "code",
   "execution_count": 10,
   "metadata": {
    "slideshow": {
     "slide_type": "subslide"
    }
   },
   "outputs": [
    {
     "data": {
      "text/plain": [
       "array([[-259.05927  ,   95.85247  ,  -37.76436  , ...,   -8.618434 ,\n",
       "           8.280407 ,    8.006058 ],\n",
       "       [-239.89516  ,   89.139465 ,  -62.810684 , ...,   -8.838449 ,\n",
       "           6.65845  ,    4.326626 ],\n",
       "       [-210.36134  ,  100.31354  ,  -82.836006 , ...,  -20.322239 ,\n",
       "          -3.0541248,   -4.908849 ],\n",
       "       ...,\n",
       "       [-182.94981  ,  120.72073  ,  -85.98944  , ...,   -1.5049229,\n",
       "           9.046647 ,   -1.6847326],\n",
       "       [-187.19707  ,  120.872055 ,  -91.68822  , ...,   -3.742847 ,\n",
       "          10.664489 ,   -1.2330422],\n",
       "       [-167.26155  ,  112.43954  ,  -79.86094  , ...,   -1.5469837,\n",
       "           5.7602296,   -0.8215298]])"
      ]
     },
     "execution_count": 10,
     "metadata": {},
     "output_type": "execute_result"
    }
   ],
   "source": [
    "x_train_audio[0]"
   ]
  },
  {
   "cell_type": "code",
   "execution_count": 11,
   "metadata": {
    "slideshow": {
     "slide_type": "subslide"
    }
   },
   "outputs": [
    {
     "data": {
      "text/plain": [
       "array([[-0.57956219, -0.20024246,  0.10246185, -0.112899  ,  0.16687   ],\n",
       "       [-1.3161349 ,  0.31636077,  1.33361864,  2.01885247,  0.53279573],\n",
       "       [-1.4930314 , -0.13792521,  0.80894846,  0.4495255 , -0.36611882],\n",
       "       ...,\n",
       "       [-0.44611067,  0.25067163,  1.03777754, -0.06099889,  0.13932191],\n",
       "       [ 0.381179  , -0.54777294,  0.01222116, -0.22107522,  0.05415928],\n",
       "       [-2.0929253 , -0.1568368 , -0.64494044, -0.87756592, -0.36996612]])"
      ]
     },
     "execution_count": 11,
     "metadata": {},
     "output_type": "execute_result"
    }
   ],
   "source": [
    "x_train_theme[0]"
   ]
  },
  {
   "cell_type": "code",
   "execution_count": 12,
   "metadata": {
    "slideshow": {
     "slide_type": "subslide"
    }
   },
   "outputs": [
    {
     "name": "stdout",
     "output_type": "stream",
     "text": [
      "Verifying size\n",
      "y_train : (21520, 7)\n",
      "y_test : (2690, 7)\n",
      "y_valid : (2690, 7)\n"
     ]
    }
   ],
   "source": [
    "ohe = OneHotEncoder()\n",
    "\n",
    "y_valid = ohe.fit_transform(y_valid.values.reshape(-1, 1)).toarray()\n",
    "y_train = ohe.fit_transform(y_train.values.reshape(-1, 1)).toarray()\n",
    "y_test  = ohe.fit_transform(y_test .values.reshape(-1, 1)).toarray()\n",
    "\n",
    "print('Verifying size')\n",
    "print('y_train :',y_train.shape)\n",
    "print('y_test :',y_test.shape)\n",
    "print('y_valid :',y_valid.shape)\n"
   ]
  },
  {
   "cell_type": "markdown",
   "metadata": {
    "slideshow": {
     "slide_type": "slide"
    }
   },
   "source": [
    "\n",
    "Load keras and TensorFlow modules to start building the RNN's"
   ]
  },
  {
   "cell_type": "code",
   "execution_count": 13,
   "metadata": {
    "slideshow": {
     "slide_type": "subslide"
    }
   },
   "outputs": [],
   "source": [
    "from keras.models import Sequential,load_model\n",
    "from keras.layers import Dense,GRU,Flatten,concatenate,Dropout,LSTM,Conv2D,MaxPooling2D,BatchNormalization,Dropout,Flatten\n",
    "import tensorflow as tf\n",
    "from keras import Model\n",
    "from keras.layers import Input, Dense, Bidirectional\n",
    "import matplotlib.pyplot as plt\n",
    "plt.style.use('ggplot')"
   ]
  },
  {
   "cell_type": "markdown",
   "metadata": {
    "slideshow": {
     "slide_type": "slide"
    }
   },
   "source": [
    "\n",
    "The plot_history() functions helps plot the training vs validation accuracy and training vs validation loss across all epochs of the model training process"
   ]
  },
  {
   "cell_type": "code",
   "execution_count": 14,
   "metadata": {
    "slideshow": {
     "slide_type": "subslide"
    }
   },
   "outputs": [],
   "source": [
    "def plot_history(history):\n",
    "    acc = history.history['accuracy']\n",
    "    val_acc = history.history['val_accuracy']\n",
    "    loss = history.history['loss']\n",
    "    val_loss = history.history['val_loss']\n",
    "    x = range(1, len(acc) + 1)\n",
    "\n",
    "    plt.figure(figsize=(12, 5))\n",
    "    plt.subplot(1, 2, 1)\n",
    "    plt.plot(x, acc, 'b', label='Training acc')\n",
    "    plt.plot(x, val_acc, 'r', label='Test acc')\n",
    "    plt.title('Training and test accuracy')\n",
    "    plt.legend()\n",
    "    plt.subplot(1, 2, 2)\n",
    "    plt.plot(x, loss, 'b', label='Training loss')\n",
    "    plt.plot(x, val_loss, 'r', label='Test loss')\n",
    "    plt.title('Training and test loss')\n",
    "    plt.legend()"
   ]
  },
  {
   "cell_type": "markdown",
   "metadata": {
    "slideshow": {
     "slide_type": "slide"
    }
   },
   "source": [
    "accuracy_score() function calls the model.evaluate() for train, test and validation dataset and get their respective accuracy scores"
   ]
  },
  {
   "cell_type": "code",
   "execution_count": 15,
   "metadata": {
    "slideshow": {
     "slide_type": "subslide"
    }
   },
   "outputs": [],
   "source": [
    "def accuracy_score(model_path):\n",
    "    model = load_model(model_path)\n",
    "    model_train = model.evaluate({'audio_in': x_train_audio, 'theme_in': x_train_theme},{'op': y_train})\n",
    "    model_test = model.evaluate({'audio_in': x_test_audio, 'theme_in': x_test_theme},{'op': y_test})\n",
    "    model_valid = model.evaluate({'audio_in': x_valid_audio, 'theme_in': x_valid_theme},{'op': y_valid})\n",
    "    print(f\"train accuracy : {model_train[1]} | valid accuracy : {model_test[1]} | test accuracy : {model_valid[1]}\")"
   ]
  },
  {
   "cell_type": "markdown",
   "metadata": {
    "slideshow": {
     "slide_type": "slide"
    }
   },
   "source": [
    "Simple Split DNN models for both audio and theme features\n",
    "\n",
    "Tha base model flattens the input from the get go and parses the audio features through more dense layers than theme features with no regularization"
   ]
  },
  {
   "cell_type": "code",
   "execution_count": 22,
   "metadata": {
    "slideshow": {
     "slide_type": "subslide"
    }
   },
   "outputs": [
    {
     "name": "stdout",
     "output_type": "stream",
     "text": [
      "Model: \"model_1\"\n",
      "__________________________________________________________________________________________________\n",
      " Layer (type)                   Output Shape         Param #     Connected to                     \n",
      "==================================================================================================\n",
      " audio_in (InputLayer)          [(None, 250, 15)]    0           []                               \n",
      "                                                                                                  \n",
      " flatten_2 (Flatten)            (None, 3750)         0           ['audio_in[0][0]']               \n",
      "                                                                                                  \n",
      " dense_9 (Dense)                (None, 256)          960256      ['flatten_2[0][0]']              \n",
      "                                                                                                  \n",
      " theme_in (InputLayer)          [(None, 250, 5)]     0           []                               \n",
      "                                                                                                  \n",
      " dense_10 (Dense)               (None, 128)          32896       ['dense_9[0][0]']                \n",
      "                                                                                                  \n",
      " flatten_3 (Flatten)            (None, 1250)         0           ['theme_in[0][0]']               \n",
      "                                                                                                  \n",
      " dense_11 (Dense)               (None, 64)           8256        ['dense_10[0][0]']               \n",
      "                                                                                                  \n",
      " dense_12 (Dense)               (None, 64)           80064       ['flatten_3[0][0]']              \n",
      "                                                                                                  \n",
      " concatenate_1 (Concatenate)    (None, 128)          0           ['dense_11[0][0]',               \n",
      "                                                                  'dense_12[0][0]']               \n",
      "                                                                                                  \n",
      " dense_13 (Dense)               (None, 128)          16512       ['concatenate_1[0][0]']          \n",
      "                                                                                                  \n",
      " dense_14 (Dense)               (None, 128)          16512       ['dense_13[0][0]']               \n",
      "                                                                                                  \n",
      " dense_15 (Dense)               (None, 64)           8256        ['dense_14[0][0]']               \n",
      "                                                                                                  \n",
      " dense_16 (Dense)               (None, 32)           2080        ['dense_15[0][0]']               \n",
      "                                                                                                  \n",
      " dense_17 (Dense)               (None, 16)           528         ['dense_16[0][0]']               \n",
      "                                                                                                  \n",
      " op (Dense)                     (None, 7)            119         ['dense_17[0][0]']               \n",
      "                                                                                                  \n",
      "==================================================================================================\n",
      "Total params: 1,125,479\n",
      "Trainable params: 1,125,479\n",
      "Non-trainable params: 0\n",
      "__________________________________________________________________________________________________\n"
     ]
    }
   ],
   "source": [
    "# Input layers\n",
    "audio_in = Input(shape=(x_train_audio.shape[1], x_train_audio.shape[2]), name='audio_in')\n",
    "theme_in = Input(shape=(x_train_theme.shape[1], x_train_theme.shape[2]), name='theme_in')\n",
    "\n",
    "# Audio layer\n",
    "audio_flat = Flatten()(audio_in) \n",
    "audio_dense1 = Dense(256, activation='relu')(audio_flat)\n",
    "audio_dense2 = Dense(128, activation='relu')(audio_dense1)\n",
    "audio_dense3 = Dense(64, activation='relu')(audio_dense2)\n",
    "\n",
    "\n",
    "# Theme layer\n",
    "theme_flat = Flatten()(theme_in)\n",
    "theme_dense1 = Dense(64, activation='relu')(theme_flat)\n",
    "\n",
    "# Concatenate\n",
    "concat = concatenate([audio_dense3, theme_dense1])\n",
    "dense1 = Dense(128, activation='relu')(concat)\n",
    "dense2 = Dense(128, activation='relu')(dense1)\n",
    "dense3 = Dense(64, activation='relu')(dense2)\n",
    "dense4 = Dense(32, activation='relu')(dense3)\n",
    "dense5 = Dense(16, activation='relu')(dense4)\n",
    "op = Dense(7, activation='softmax',name='op')(dense5)\n",
    "\n",
    "\n",
    "model1 = Model(inputs=[audio_in, theme_in], outputs=[op])\n",
    "\n",
    "model1.summary()"
   ]
  },
  {
   "cell_type": "markdown",
   "metadata": {
    "slideshow": {
     "slide_type": "slide"
    }
   },
   "source": [
    "the model performs well but validation accuracy stagnates around ~85% with training accuracy of around ~95%\n",
    "\n",
    "training the model for longer might yield better validation accuracy and generalization"
   ]
  },
  {
   "cell_type": "code",
   "execution_count": 23,
   "metadata": {
    "slideshow": {
     "slide_type": "subslide"
    }
   },
   "outputs": [
    {
     "name": "stdout",
     "output_type": "stream",
     "text": [
      "Epoch 1/50\n",
      "667/673 [============================>.] - ETA: 0s - loss: 1.9010 - accuracy: 0.2910"
     ]
    },
    {
     "name": "stderr",
     "output_type": "stream",
     "text": [
      "WARNING:absl:Found untraced functions such as _update_step_xla while saving (showing 1 of 1). These functions will not be directly callable after loading.\n"
     ]
    },
    {
     "name": "stdout",
     "output_type": "stream",
     "text": [
      "INFO:tensorflow:Assets written to: ./model1_chkpnt_20221129/Split_DNN_checkpoint_01-0.34/assets\n"
     ]
    },
    {
     "name": "stderr",
     "output_type": "stream",
     "text": [
      "INFO:tensorflow:Assets written to: ./model1_chkpnt_20221129/Split_DNN_checkpoint_01-0.34/assets\n"
     ]
    },
    {
     "name": "stdout",
     "output_type": "stream",
     "text": [
      "673/673 [==============================] - 9s 11ms/step - loss: 1.8993 - accuracy: 0.2912 - val_loss: 1.6971 - val_accuracy: 0.3446\n",
      "Epoch 2/50\n",
      "672/673 [============================>.] - ETA: 0s - loss: 1.5989 - accuracy: 0.3810"
     ]
    },
    {
     "name": "stderr",
     "output_type": "stream",
     "text": [
      "WARNING:absl:Found untraced functions such as _update_step_xla while saving (showing 1 of 1). These functions will not be directly callable after loading.\n"
     ]
    },
    {
     "name": "stdout",
     "output_type": "stream",
     "text": [
      "INFO:tensorflow:Assets written to: ./model1_chkpnt_20221129/Split_DNN_checkpoint_02-0.41/assets\n"
     ]
    },
    {
     "name": "stderr",
     "output_type": "stream",
     "text": [
      "INFO:tensorflow:Assets written to: ./model1_chkpnt_20221129/Split_DNN_checkpoint_02-0.41/assets\n"
     ]
    },
    {
     "name": "stdout",
     "output_type": "stream",
     "text": [
      "673/673 [==============================] - 7s 10ms/step - loss: 1.5991 - accuracy: 0.3808 - val_loss: 1.5620 - val_accuracy: 0.4086\n",
      "Epoch 3/50\n",
      "668/673 [============================>.] - ETA: 0s - loss: 1.4100 - accuracy: 0.4694"
     ]
    },
    {
     "name": "stderr",
     "output_type": "stream",
     "text": [
      "WARNING:absl:Found untraced functions such as _update_step_xla while saving (showing 1 of 1). These functions will not be directly callable after loading.\n"
     ]
    },
    {
     "name": "stdout",
     "output_type": "stream",
     "text": [
      "INFO:tensorflow:Assets written to: ./model1_chkpnt_20221129/Split_DNN_checkpoint_03-0.52/assets\n"
     ]
    },
    {
     "name": "stderr",
     "output_type": "stream",
     "text": [
      "INFO:tensorflow:Assets written to: ./model1_chkpnt_20221129/Split_DNN_checkpoint_03-0.52/assets\n"
     ]
    },
    {
     "name": "stdout",
     "output_type": "stream",
     "text": [
      "673/673 [==============================] - 8s 11ms/step - loss: 1.4100 - accuracy: 0.4693 - val_loss: 1.3127 - val_accuracy: 0.5178\n",
      "Epoch 4/50\n",
      "668/673 [============================>.] - ETA: 0s - loss: 1.2332 - accuracy: 0.5454"
     ]
    },
    {
     "name": "stderr",
     "output_type": "stream",
     "text": [
      "WARNING:absl:Found untraced functions such as _update_step_xla while saving (showing 1 of 1). These functions will not be directly callable after loading.\n"
     ]
    },
    {
     "name": "stdout",
     "output_type": "stream",
     "text": [
      "INFO:tensorflow:Assets written to: ./model1_chkpnt_20221129/Split_DNN_checkpoint_04-0.56/assets\n"
     ]
    },
    {
     "name": "stderr",
     "output_type": "stream",
     "text": [
      "INFO:tensorflow:Assets written to: ./model1_chkpnt_20221129/Split_DNN_checkpoint_04-0.56/assets\n"
     ]
    },
    {
     "name": "stdout",
     "output_type": "stream",
     "text": [
      "673/673 [==============================] - 7s 10ms/step - loss: 1.2338 - accuracy: 0.5453 - val_loss: 1.2180 - val_accuracy: 0.5606\n",
      "Epoch 5/50\n",
      "669/673 [============================>.] - ETA: 0s - loss: 1.0715 - accuracy: 0.6136"
     ]
    },
    {
     "name": "stderr",
     "output_type": "stream",
     "text": [
      "WARNING:absl:Found untraced functions such as _update_step_xla while saving (showing 1 of 1). These functions will not be directly callable after loading.\n"
     ]
    },
    {
     "name": "stdout",
     "output_type": "stream",
     "text": [
      "INFO:tensorflow:Assets written to: ./model1_chkpnt_20221129/Split_DNN_checkpoint_05-0.62/assets\n"
     ]
    },
    {
     "name": "stderr",
     "output_type": "stream",
     "text": [
      "INFO:tensorflow:Assets written to: ./model1_chkpnt_20221129/Split_DNN_checkpoint_05-0.62/assets\n"
     ]
    },
    {
     "name": "stdout",
     "output_type": "stream",
     "text": [
      "673/673 [==============================] - 7s 10ms/step - loss: 1.0712 - accuracy: 0.6136 - val_loss: 1.0728 - val_accuracy: 0.6201\n",
      "Epoch 6/50\n",
      "671/673 [============================>.] - ETA: 0s - loss: 0.9358 - accuracy: 0.6671"
     ]
    },
    {
     "name": "stderr",
     "output_type": "stream",
     "text": [
      "WARNING:absl:Found untraced functions such as _update_step_xla while saving (showing 1 of 1). These functions will not be directly callable after loading.\n"
     ]
    },
    {
     "name": "stdout",
     "output_type": "stream",
     "text": [
      "INFO:tensorflow:Assets written to: ./model1_chkpnt_20221129/Split_DNN_checkpoint_06-0.67/assets\n"
     ]
    },
    {
     "name": "stderr",
     "output_type": "stream",
     "text": [
      "INFO:tensorflow:Assets written to: ./model1_chkpnt_20221129/Split_DNN_checkpoint_06-0.67/assets\n"
     ]
    },
    {
     "name": "stdout",
     "output_type": "stream",
     "text": [
      "673/673 [==============================] - 7s 11ms/step - loss: 0.9352 - accuracy: 0.6674 - val_loss: 0.9313 - val_accuracy: 0.6747\n",
      "Epoch 7/50\n",
      "671/673 [============================>.] - ETA: 0s - loss: 0.8030 - accuracy: 0.7204"
     ]
    },
    {
     "name": "stderr",
     "output_type": "stream",
     "text": [
      "WARNING:absl:Found untraced functions such as _update_step_xla while saving (showing 1 of 1). These functions will not be directly callable after loading.\n"
     ]
    },
    {
     "name": "stdout",
     "output_type": "stream",
     "text": [
      "INFO:tensorflow:Assets written to: ./model1_chkpnt_20221129/Split_DNN_checkpoint_07-0.70/assets\n"
     ]
    },
    {
     "name": "stderr",
     "output_type": "stream",
     "text": [
      "INFO:tensorflow:Assets written to: ./model1_chkpnt_20221129/Split_DNN_checkpoint_07-0.70/assets\n"
     ]
    },
    {
     "name": "stdout",
     "output_type": "stream",
     "text": [
      "673/673 [==============================] - 7s 10ms/step - loss: 0.8029 - accuracy: 0.7206 - val_loss: 0.8859 - val_accuracy: 0.7033\n",
      "Epoch 8/50\n",
      "670/673 [============================>.] - ETA: 0s - loss: 0.6985 - accuracy: 0.7561"
     ]
    },
    {
     "name": "stderr",
     "output_type": "stream",
     "text": [
      "WARNING:absl:Found untraced functions such as _update_step_xla while saving (showing 1 of 1). These functions will not be directly callable after loading.\n"
     ]
    },
    {
     "name": "stdout",
     "output_type": "stream",
     "text": [
      "INFO:tensorflow:Assets written to: ./model1_chkpnt_20221129/Split_DNN_checkpoint_08-0.72/assets\n"
     ]
    },
    {
     "name": "stderr",
     "output_type": "stream",
     "text": [
      "INFO:tensorflow:Assets written to: ./model1_chkpnt_20221129/Split_DNN_checkpoint_08-0.72/assets\n"
     ]
    },
    {
     "name": "stdout",
     "output_type": "stream",
     "text": [
      "673/673 [==============================] - 7s 10ms/step - loss: 0.6993 - accuracy: 0.7557 - val_loss: 0.8098 - val_accuracy: 0.7208\n",
      "Epoch 9/50\n",
      "668/673 [============================>.] - ETA: 0s - loss: 0.6396 - accuracy: 0.7754"
     ]
    },
    {
     "name": "stderr",
     "output_type": "stream",
     "text": [
      "WARNING:absl:Found untraced functions such as _update_step_xla while saving (showing 1 of 1). These functions will not be directly callable after loading.\n"
     ]
    },
    {
     "name": "stdout",
     "output_type": "stream",
     "text": [
      "INFO:tensorflow:Assets written to: ./model1_chkpnt_20221129/Split_DNN_checkpoint_09-0.75/assets\n"
     ]
    },
    {
     "name": "stderr",
     "output_type": "stream",
     "text": [
      "INFO:tensorflow:Assets written to: ./model1_chkpnt_20221129/Split_DNN_checkpoint_09-0.75/assets\n"
     ]
    },
    {
     "name": "stdout",
     "output_type": "stream",
     "text": [
      "673/673 [==============================] - 7s 10ms/step - loss: 0.6383 - accuracy: 0.7760 - val_loss: 0.7341 - val_accuracy: 0.7543\n",
      "Epoch 10/50\n",
      "673/673 [==============================] - 6s 9ms/step - loss: 0.5755 - accuracy: 0.7974 - val_loss: 0.7380 - val_accuracy: 0.7494\n",
      "Epoch 11/50\n",
      "670/673 [============================>.] - ETA: 0s - loss: 0.5395 - accuracy: 0.8096"
     ]
    },
    {
     "name": "stderr",
     "output_type": "stream",
     "text": [
      "WARNING:absl:Found untraced functions such as _update_step_xla while saving (showing 1 of 1). These functions will not be directly callable after loading.\n"
     ]
    },
    {
     "name": "stdout",
     "output_type": "stream",
     "text": [
      "INFO:tensorflow:Assets written to: ./model1_chkpnt_20221129/Split_DNN_checkpoint_11-0.76/assets\n"
     ]
    },
    {
     "name": "stderr",
     "output_type": "stream",
     "text": [
      "INFO:tensorflow:Assets written to: ./model1_chkpnt_20221129/Split_DNN_checkpoint_11-0.76/assets\n"
     ]
    },
    {
     "name": "stdout",
     "output_type": "stream",
     "text": [
      "673/673 [==============================] - 7s 10ms/step - loss: 0.5397 - accuracy: 0.8095 - val_loss: 0.6702 - val_accuracy: 0.7572\n",
      "Epoch 12/50\n",
      "673/673 [==============================] - 6s 8ms/step - loss: 0.5027 - accuracy: 0.8232 - val_loss: 0.7147 - val_accuracy: 0.7461\n",
      "Epoch 13/50\n",
      "669/673 [============================>.] - ETA: 0s - loss: 0.4815 - accuracy: 0.8307"
     ]
    },
    {
     "name": "stderr",
     "output_type": "stream",
     "text": [
      "WARNING:absl:Found untraced functions such as _update_step_xla while saving (showing 1 of 1). These functions will not be directly callable after loading.\n"
     ]
    },
    {
     "name": "stdout",
     "output_type": "stream",
     "text": [
      "INFO:tensorflow:Assets written to: ./model1_chkpnt_20221129/Split_DNN_checkpoint_13-0.78/assets\n"
     ]
    },
    {
     "name": "stderr",
     "output_type": "stream",
     "text": [
      "INFO:tensorflow:Assets written to: ./model1_chkpnt_20221129/Split_DNN_checkpoint_13-0.78/assets\n"
     ]
    },
    {
     "name": "stdout",
     "output_type": "stream",
     "text": [
      "673/673 [==============================] - 7s 10ms/step - loss: 0.4822 - accuracy: 0.8305 - val_loss: 0.6741 - val_accuracy: 0.7773\n",
      "Epoch 14/50\n",
      "668/673 [============================>.] - ETA: 0s - loss: 0.4625 - accuracy: 0.8354"
     ]
    },
    {
     "name": "stderr",
     "output_type": "stream",
     "text": [
      "WARNING:absl:Found untraced functions such as _update_step_xla while saving (showing 1 of 1). These functions will not be directly callable after loading.\n"
     ]
    },
    {
     "name": "stdout",
     "output_type": "stream",
     "text": [
      "INFO:tensorflow:Assets written to: ./model1_chkpnt_20221129/Split_DNN_checkpoint_14-0.78/assets\n"
     ]
    },
    {
     "name": "stderr",
     "output_type": "stream",
     "text": [
      "INFO:tensorflow:Assets written to: ./model1_chkpnt_20221129/Split_DNN_checkpoint_14-0.78/assets\n"
     ]
    },
    {
     "name": "stdout",
     "output_type": "stream",
     "text": [
      "673/673 [==============================] - 7s 10ms/step - loss: 0.4631 - accuracy: 0.8352 - val_loss: 0.6501 - val_accuracy: 0.7807\n",
      "Epoch 15/50\n",
      "668/673 [============================>.] - ETA: 0s - loss: 0.4535 - accuracy: 0.8393"
     ]
    },
    {
     "name": "stderr",
     "output_type": "stream",
     "text": [
      "WARNING:absl:Found untraced functions such as _update_step_xla while saving (showing 1 of 1). These functions will not be directly callable after loading.\n"
     ]
    },
    {
     "name": "stdout",
     "output_type": "stream",
     "text": [
      "INFO:tensorflow:Assets written to: ./model1_chkpnt_20221129/Split_DNN_checkpoint_15-0.79/assets\n"
     ]
    },
    {
     "name": "stderr",
     "output_type": "stream",
     "text": [
      "INFO:tensorflow:Assets written to: ./model1_chkpnt_20221129/Split_DNN_checkpoint_15-0.79/assets\n"
     ]
    },
    {
     "name": "stdout",
     "output_type": "stream",
     "text": [
      "673/673 [==============================] - 7s 10ms/step - loss: 0.4530 - accuracy: 0.8393 - val_loss: 0.6242 - val_accuracy: 0.7918\n",
      "Epoch 16/50\n",
      "672/673 [============================>.] - ETA: 0s - loss: 0.4099 - accuracy: 0.8559"
     ]
    },
    {
     "name": "stderr",
     "output_type": "stream",
     "text": [
      "WARNING:absl:Found untraced functions such as _update_step_xla while saving (showing 1 of 1). These functions will not be directly callable after loading.\n"
     ]
    },
    {
     "name": "stdout",
     "output_type": "stream",
     "text": [
      "INFO:tensorflow:Assets written to: ./model1_chkpnt_20221129/Split_DNN_checkpoint_16-0.80/assets\n"
     ]
    },
    {
     "name": "stderr",
     "output_type": "stream",
     "text": [
      "INFO:tensorflow:Assets written to: ./model1_chkpnt_20221129/Split_DNN_checkpoint_16-0.80/assets\n"
     ]
    },
    {
     "name": "stdout",
     "output_type": "stream",
     "text": [
      "673/673 [==============================] - 8s 12ms/step - loss: 0.4100 - accuracy: 0.8558 - val_loss: 0.6044 - val_accuracy: 0.7989\n",
      "Epoch 17/50\n",
      "671/673 [============================>.] - ETA: 0s - loss: 0.4042 - accuracy: 0.8581"
     ]
    },
    {
     "name": "stderr",
     "output_type": "stream",
     "text": [
      "WARNING:absl:Found untraced functions such as _update_step_xla while saving (showing 1 of 1). These functions will not be directly callable after loading.\n"
     ]
    },
    {
     "name": "stdout",
     "output_type": "stream",
     "text": [
      "INFO:tensorflow:Assets written to: ./model1_chkpnt_20221129/Split_DNN_checkpoint_17-0.81/assets\n"
     ]
    },
    {
     "name": "stderr",
     "output_type": "stream",
     "text": [
      "INFO:tensorflow:Assets written to: ./model1_chkpnt_20221129/Split_DNN_checkpoint_17-0.81/assets\n"
     ]
    },
    {
     "name": "stdout",
     "output_type": "stream",
     "text": [
      "673/673 [==============================] - 7s 10ms/step - loss: 0.4040 - accuracy: 0.8581 - val_loss: 0.5986 - val_accuracy: 0.8059\n",
      "Epoch 18/50\n",
      "673/673 [==============================] - 5s 8ms/step - loss: 0.3899 - accuracy: 0.8580 - val_loss: 0.6501 - val_accuracy: 0.7955\n",
      "Epoch 19/50\n",
      "673/673 [==============================] - ETA: 0s - loss: 0.3787 - accuracy: 0.8645"
     ]
    },
    {
     "name": "stderr",
     "output_type": "stream",
     "text": [
      "WARNING:absl:Found untraced functions such as _update_step_xla while saving (showing 1 of 1). These functions will not be directly callable after loading.\n"
     ]
    },
    {
     "name": "stdout",
     "output_type": "stream",
     "text": [
      "INFO:tensorflow:Assets written to: ./model1_chkpnt_20221129/Split_DNN_checkpoint_19-0.82/assets\n"
     ]
    },
    {
     "name": "stderr",
     "output_type": "stream",
     "text": [
      "INFO:tensorflow:Assets written to: ./model1_chkpnt_20221129/Split_DNN_checkpoint_19-0.82/assets\n"
     ]
    },
    {
     "name": "stdout",
     "output_type": "stream",
     "text": [
      "673/673 [==============================] - 7s 10ms/step - loss: 0.3787 - accuracy: 0.8645 - val_loss: 0.5663 - val_accuracy: 0.8160\n",
      "Epoch 20/50\n",
      "670/673 [============================>.] - ETA: 0s - loss: 0.3515 - accuracy: 0.8740"
     ]
    },
    {
     "name": "stderr",
     "output_type": "stream",
     "text": [
      "WARNING:absl:Found untraced functions such as _update_step_xla while saving (showing 1 of 1). These functions will not be directly callable after loading.\n"
     ]
    },
    {
     "name": "stdout",
     "output_type": "stream",
     "text": [
      "INFO:tensorflow:Assets written to: ./model1_chkpnt_20221129/Split_DNN_checkpoint_20-0.83/assets\n"
     ]
    },
    {
     "name": "stderr",
     "output_type": "stream",
     "text": [
      "INFO:tensorflow:Assets written to: ./model1_chkpnt_20221129/Split_DNN_checkpoint_20-0.83/assets\n"
     ]
    },
    {
     "name": "stdout",
     "output_type": "stream",
     "text": [
      "673/673 [==============================] - 7s 10ms/step - loss: 0.3515 - accuracy: 0.8740 - val_loss: 0.5591 - val_accuracy: 0.8260\n",
      "Epoch 21/50\n",
      "673/673 [==============================] - 6s 9ms/step - loss: 0.3538 - accuracy: 0.8743 - val_loss: 0.5693 - val_accuracy: 0.8197\n",
      "Epoch 22/50\n",
      "671/673 [============================>.] - ETA: 0s - loss: 0.3336 - accuracy: 0.8807"
     ]
    },
    {
     "name": "stderr",
     "output_type": "stream",
     "text": [
      "WARNING:absl:Found untraced functions such as _update_step_xla while saving (showing 1 of 1). These functions will not be directly callable after loading.\n"
     ]
    },
    {
     "name": "stdout",
     "output_type": "stream",
     "text": [
      "INFO:tensorflow:Assets written to: ./model1_chkpnt_20221129/Split_DNN_checkpoint_22-0.83/assets\n"
     ]
    },
    {
     "name": "stderr",
     "output_type": "stream",
     "text": [
      "INFO:tensorflow:Assets written to: ./model1_chkpnt_20221129/Split_DNN_checkpoint_22-0.83/assets\n"
     ]
    },
    {
     "name": "stdout",
     "output_type": "stream",
     "text": [
      "673/673 [==============================] - 7s 11ms/step - loss: 0.3334 - accuracy: 0.8807 - val_loss: 0.5488 - val_accuracy: 0.8283\n",
      "Epoch 23/50\n",
      "670/673 [============================>.] - ETA: 0s - loss: 0.3335 - accuracy: 0.8823"
     ]
    },
    {
     "name": "stderr",
     "output_type": "stream",
     "text": [
      "WARNING:absl:Found untraced functions such as _update_step_xla while saving (showing 1 of 1). These functions will not be directly callable after loading.\n"
     ]
    },
    {
     "name": "stdout",
     "output_type": "stream",
     "text": [
      "INFO:tensorflow:Assets written to: ./model1_chkpnt_20221129/Split_DNN_checkpoint_23-0.83/assets\n"
     ]
    },
    {
     "name": "stderr",
     "output_type": "stream",
     "text": [
      "INFO:tensorflow:Assets written to: ./model1_chkpnt_20221129/Split_DNN_checkpoint_23-0.83/assets\n"
     ]
    },
    {
     "name": "stdout",
     "output_type": "stream",
     "text": [
      "673/673 [==============================] - 7s 10ms/step - loss: 0.3334 - accuracy: 0.8822 - val_loss: 0.5378 - val_accuracy: 0.8294\n",
      "Epoch 24/50\n",
      "671/673 [============================>.] - ETA: 0s - loss: 0.3118 - accuracy: 0.8866"
     ]
    },
    {
     "name": "stderr",
     "output_type": "stream",
     "text": [
      "WARNING:absl:Found untraced functions such as _update_step_xla while saving (showing 1 of 1). These functions will not be directly callable after loading.\n"
     ]
    },
    {
     "name": "stdout",
     "output_type": "stream",
     "text": [
      "INFO:tensorflow:Assets written to: ./model1_chkpnt_20221129/Split_DNN_checkpoint_24-0.84/assets\n"
     ]
    },
    {
     "name": "stderr",
     "output_type": "stream",
     "text": [
      "INFO:tensorflow:Assets written to: ./model1_chkpnt_20221129/Split_DNN_checkpoint_24-0.84/assets\n"
     ]
    },
    {
     "name": "stdout",
     "output_type": "stream",
     "text": [
      "673/673 [==============================] - 7s 10ms/step - loss: 0.3118 - accuracy: 0.8866 - val_loss: 0.5120 - val_accuracy: 0.8394\n",
      "Epoch 25/50\n",
      "673/673 [==============================] - 6s 9ms/step - loss: 0.2995 - accuracy: 0.8959 - val_loss: 0.5196 - val_accuracy: 0.8357\n",
      "Epoch 26/50\n",
      "673/673 [==============================] - 6s 8ms/step - loss: 0.2973 - accuracy: 0.8940 - val_loss: 0.5694 - val_accuracy: 0.8309\n",
      "Epoch 27/50\n",
      "673/673 [==============================] - 6s 8ms/step - loss: 0.2940 - accuracy: 0.8963 - val_loss: 0.5481 - val_accuracy: 0.8335\n",
      "Epoch 28/50\n",
      "670/673 [============================>.] - ETA: 0s - loss: 0.2658 - accuracy: 0.9047"
     ]
    },
    {
     "name": "stderr",
     "output_type": "stream",
     "text": [
      "WARNING:absl:Found untraced functions such as _update_step_xla while saving (showing 1 of 1). These functions will not be directly callable after loading.\n"
     ]
    },
    {
     "name": "stdout",
     "output_type": "stream",
     "text": [
      "INFO:tensorflow:Assets written to: ./model1_chkpnt_20221129/Split_DNN_checkpoint_28-0.84/assets\n"
     ]
    },
    {
     "name": "stderr",
     "output_type": "stream",
     "text": [
      "INFO:tensorflow:Assets written to: ./model1_chkpnt_20221129/Split_DNN_checkpoint_28-0.84/assets\n"
     ]
    },
    {
     "name": "stdout",
     "output_type": "stream",
     "text": [
      "673/673 [==============================] - 7s 10ms/step - loss: 0.2655 - accuracy: 0.9047 - val_loss: 0.5523 - val_accuracy: 0.8428\n",
      "Epoch 29/50\n",
      "669/673 [============================>.] - ETA: 0s - loss: 0.2716 - accuracy: 0.9046"
     ]
    },
    {
     "name": "stderr",
     "output_type": "stream",
     "text": [
      "WARNING:absl:Found untraced functions such as _update_step_xla while saving (showing 1 of 1). These functions will not be directly callable after loading.\n"
     ]
    },
    {
     "name": "stdout",
     "output_type": "stream",
     "text": [
      "INFO:tensorflow:Assets written to: ./model1_chkpnt_20221129/Split_DNN_checkpoint_29-0.84/assets\n"
     ]
    },
    {
     "name": "stderr",
     "output_type": "stream",
     "text": [
      "INFO:tensorflow:Assets written to: ./model1_chkpnt_20221129/Split_DNN_checkpoint_29-0.84/assets\n"
     ]
    },
    {
     "name": "stdout",
     "output_type": "stream",
     "text": [
      "673/673 [==============================] - 7s 10ms/step - loss: 0.2711 - accuracy: 0.9047 - val_loss: 0.5375 - val_accuracy: 0.8442\n",
      "Epoch 30/50\n",
      "673/673 [==============================] - 6s 9ms/step - loss: 0.2599 - accuracy: 0.9100 - val_loss: 0.5290 - val_accuracy: 0.8420\n",
      "Epoch 31/50\n",
      "673/673 [==============================] - 6s 9ms/step - loss: 0.2495 - accuracy: 0.9129 - val_loss: 0.6119 - val_accuracy: 0.8375\n",
      "Epoch 32/50\n",
      "667/673 [============================>.] - ETA: 0s - loss: 0.2475 - accuracy: 0.9136"
     ]
    },
    {
     "name": "stderr",
     "output_type": "stream",
     "text": [
      "WARNING:absl:Found untraced functions such as _update_step_xla while saving (showing 1 of 1). These functions will not be directly callable after loading.\n"
     ]
    },
    {
     "name": "stdout",
     "output_type": "stream",
     "text": [
      "INFO:tensorflow:Assets written to: ./model1_chkpnt_20221129/Split_DNN_checkpoint_32-0.85/assets\n"
     ]
    },
    {
     "name": "stderr",
     "output_type": "stream",
     "text": [
      "INFO:tensorflow:Assets written to: ./model1_chkpnt_20221129/Split_DNN_checkpoint_32-0.85/assets\n"
     ]
    },
    {
     "name": "stdout",
     "output_type": "stream",
     "text": [
      "673/673 [==============================] - 7s 10ms/step - loss: 0.2479 - accuracy: 0.9135 - val_loss: 0.5483 - val_accuracy: 0.8502\n",
      "Epoch 33/50\n",
      "673/673 [==============================] - 6s 8ms/step - loss: 0.2382 - accuracy: 0.9169 - val_loss: 0.5600 - val_accuracy: 0.8420\n",
      "Epoch 34/50\n",
      "673/673 [==============================] - 6s 8ms/step - loss: 0.2292 - accuracy: 0.9206 - val_loss: 0.6060 - val_accuracy: 0.8283\n",
      "Epoch 35/50\n",
      "672/673 [============================>.] - ETA: 0s - loss: 0.2324 - accuracy: 0.9189"
     ]
    },
    {
     "name": "stderr",
     "output_type": "stream",
     "text": [
      "WARNING:absl:Found untraced functions such as _update_step_xla while saving (showing 1 of 1). These functions will not be directly callable after loading.\n"
     ]
    },
    {
     "name": "stdout",
     "output_type": "stream",
     "text": [
      "INFO:tensorflow:Assets written to: ./model1_chkpnt_20221129/Split_DNN_checkpoint_35-0.85/assets\n"
     ]
    },
    {
     "name": "stderr",
     "output_type": "stream",
     "text": [
      "INFO:tensorflow:Assets written to: ./model1_chkpnt_20221129/Split_DNN_checkpoint_35-0.85/assets\n"
     ]
    },
    {
     "name": "stdout",
     "output_type": "stream",
     "text": [
      "673/673 [==============================] - 7s 10ms/step - loss: 0.2325 - accuracy: 0.9189 - val_loss: 0.5401 - val_accuracy: 0.8517\n",
      "Epoch 36/50\n",
      "673/673 [==============================] - 6s 8ms/step - loss: 0.2195 - accuracy: 0.9224 - val_loss: 0.6263 - val_accuracy: 0.8387\n",
      "Epoch 37/50\n",
      "673/673 [==============================] - 6s 8ms/step - loss: 0.2230 - accuracy: 0.9210 - val_loss: 0.5871 - val_accuracy: 0.8454\n",
      "Epoch 38/50\n",
      "673/673 [==============================] - 6s 9ms/step - loss: 0.2201 - accuracy: 0.9258 - val_loss: 0.5769 - val_accuracy: 0.8476\n",
      "Epoch 39/50\n",
      "673/673 [==============================] - 6s 8ms/step - loss: 0.2016 - accuracy: 0.9294 - val_loss: 0.5842 - val_accuracy: 0.8494\n",
      "Epoch 40/50\n",
      "673/673 [==============================] - 6s 8ms/step - loss: 0.2077 - accuracy: 0.9256 - val_loss: 0.5909 - val_accuracy: 0.8405\n",
      "Epoch 41/50\n",
      "673/673 [==============================] - 6s 8ms/step - loss: 0.2050 - accuracy: 0.9288 - val_loss: 0.5817 - val_accuracy: 0.8420\n",
      "Epoch 42/50\n",
      "673/673 [==============================] - 6s 8ms/step - loss: 0.1944 - accuracy: 0.9302 - val_loss: 0.6114 - val_accuracy: 0.8465\n",
      "Epoch 43/50\n",
      "673/673 [==============================] - 6s 8ms/step - loss: 0.1910 - accuracy: 0.9324 - val_loss: 0.7202 - val_accuracy: 0.8242\n",
      "Epoch 44/50\n",
      "672/673 [============================>.] - ETA: 0s - loss: 0.2195 - accuracy: 0.9241"
     ]
    },
    {
     "name": "stderr",
     "output_type": "stream",
     "text": [
      "WARNING:absl:Found untraced functions such as _update_step_xla while saving (showing 1 of 1). These functions will not be directly callable after loading.\n"
     ]
    },
    {
     "name": "stdout",
     "output_type": "stream",
     "text": [
      "INFO:tensorflow:Assets written to: ./model1_chkpnt_20221129/Split_DNN_checkpoint_44-0.86/assets\n"
     ]
    },
    {
     "name": "stderr",
     "output_type": "stream",
     "text": [
      "INFO:tensorflow:Assets written to: ./model1_chkpnt_20221129/Split_DNN_checkpoint_44-0.86/assets\n"
     ]
    },
    {
     "name": "stdout",
     "output_type": "stream",
     "text": [
      "673/673 [==============================] - 8s 11ms/step - loss: 0.2198 - accuracy: 0.9241 - val_loss: 0.5607 - val_accuracy: 0.8550\n",
      "Epoch 45/50\n",
      "669/673 [============================>.] - ETA: 0s - loss: 0.1874 - accuracy: 0.9339"
     ]
    },
    {
     "name": "stderr",
     "output_type": "stream",
     "text": [
      "WARNING:absl:Found untraced functions such as _update_step_xla while saving (showing 1 of 1). These functions will not be directly callable after loading.\n"
     ]
    },
    {
     "name": "stdout",
     "output_type": "stream",
     "text": [
      "INFO:tensorflow:Assets written to: ./model1_chkpnt_20221129/Split_DNN_checkpoint_45-0.86/assets\n"
     ]
    },
    {
     "name": "stderr",
     "output_type": "stream",
     "text": [
      "INFO:tensorflow:Assets written to: ./model1_chkpnt_20221129/Split_DNN_checkpoint_45-0.86/assets\n"
     ]
    },
    {
     "name": "stdout",
     "output_type": "stream",
     "text": [
      "673/673 [==============================] - 7s 11ms/step - loss: 0.1867 - accuracy: 0.9342 - val_loss: 0.5777 - val_accuracy: 0.8580\n",
      "Epoch 46/50\n",
      "672/673 [============================>.] - ETA: 0s - loss: 0.1726 - accuracy: 0.9397"
     ]
    },
    {
     "name": "stderr",
     "output_type": "stream",
     "text": [
      "WARNING:absl:Found untraced functions such as _update_step_xla while saving (showing 1 of 1). These functions will not be directly callable after loading.\n"
     ]
    },
    {
     "name": "stdout",
     "output_type": "stream",
     "text": [
      "INFO:tensorflow:Assets written to: ./model1_chkpnt_20221129/Split_DNN_checkpoint_46-0.86/assets\n"
     ]
    },
    {
     "name": "stderr",
     "output_type": "stream",
     "text": [
      "INFO:tensorflow:Assets written to: ./model1_chkpnt_20221129/Split_DNN_checkpoint_46-0.86/assets\n"
     ]
    },
    {
     "name": "stdout",
     "output_type": "stream",
     "text": [
      "673/673 [==============================] - 7s 11ms/step - loss: 0.1726 - accuracy: 0.9397 - val_loss: 0.5946 - val_accuracy: 0.8610\n",
      "Epoch 47/50\n",
      "673/673 [==============================] - 6s 8ms/step - loss: 0.1831 - accuracy: 0.9349 - val_loss: 0.6394 - val_accuracy: 0.8454\n",
      "Epoch 48/50\n",
      "673/673 [==============================] - 6s 9ms/step - loss: 0.1771 - accuracy: 0.9401 - val_loss: 0.6247 - val_accuracy: 0.8424\n",
      "Epoch 49/50\n",
      "673/673 [==============================] - 6s 8ms/step - loss: 0.1745 - accuracy: 0.9386 - val_loss: 0.6589 - val_accuracy: 0.8498\n",
      "Epoch 50/50\n",
      "673/673 [==============================] - 6s 8ms/step - loss: 0.1721 - accuracy: 0.9405 - val_loss: 0.5445 - val_accuracy: 0.8591\n"
     ]
    },
    {
     "name": "stderr",
     "output_type": "stream",
     "text": [
      "WARNING:absl:Found untraced functions such as _update_step_xla while saving (showing 1 of 1). These functions will not be directly callable after loading.\n"
     ]
    },
    {
     "name": "stdout",
     "output_type": "stream",
     "text": [
      "INFO:tensorflow:Assets written to: ./model1_chkpnt_20221129/simple_dnn_model_final_model/assets\n"
     ]
    },
    {
     "name": "stderr",
     "output_type": "stream",
     "text": [
      "INFO:tensorflow:Assets written to: ./model1_chkpnt_20221129/simple_dnn_model_final_model/assets\n"
     ]
    }
   ],
   "source": [
    "# Split DNN model with flatten in the beginning and no regularization/dropout\n",
    "\n",
    "model1.compile(optimizer = 'adam',\n",
    "                     loss='categorical_crossentropy',\n",
    "                     metrics = ['accuracy']\n",
    "                     )\n",
    "\n",
    "checkpoint_filepath = './model1_chkpnt_20221129/Split_DNN_checkpoint_{epoch:02d}-{val_accuracy:.2f}'\n",
    "\n",
    "model_checkpoint_callback = tf.keras.callbacks.ModelCheckpoint(\n",
    "    filepath=checkpoint_filepath,\n",
    "    save_weights_only=False,\n",
    "    monitor='val_accuracy',\n",
    "    mode='max',\n",
    "    save_best_only=True)\n",
    "\n",
    "h1 = model1.fit({'audio_in': x_train_audio, 'theme_in': x_train_theme},{'op': y_train},\n",
    "              epochs=50, batch_size=32,\n",
    "            validation_data=({'audio_in': x_test_audio, 'theme_in': x_test_theme},{'op': y_test}),\n",
    "            callbacks=[model_checkpoint_callback])\n",
    "\n",
    "\n",
    "model1.save('./model1_chkpnt_20221129/simple_dnn_model_final_model')"
   ]
  },
  {
   "cell_type": "code",
   "execution_count": 24,
   "metadata": {
    "slideshow": {
     "slide_type": "subslide"
    }
   },
   "outputs": [
    {
     "data": {
      "image/png": "[encoded data removed]",
      "text/plain": [
       "<Figure size 1200x500 with 2 Axes>"
      ]
     },
     "metadata": {},
     "output_type": "display_data"
    }
   ],
   "source": [
    "plot_history(h1)"
   ]
  },
  {
   "cell_type": "code",
   "execution_count": 27,
   "metadata": {
    "slideshow": {
     "slide_type": "subslide"
    },
    "tags": []
   },
   "outputs": [
    {
     "name": "stdout",
     "output_type": "stream",
     "text": [
      "673/673 [==============================] - 2s 2ms/step - loss: 0.1287 - accuracy: 0.9586\n",
      "85/85 [==============================] - 0s 2ms/step - loss: 0.5445 - accuracy: 0.8591\n",
      "85/85 [==============================] - 0s 2ms/step - loss: 0.6094 - accuracy: 0.8498\n",
      "train accuracy : 0.9585966467857361 | valid accuracy : 0.8591077923774719 | test accuracy : 0.8498141169548035\n"
     ]
    }
   ],
   "source": [
    "accuracy_score('model1_chkpnt_20221129/simple_dnn_model_final_model')"
   ]
  },
  {
   "cell_type": "markdown",
   "metadata": {
    "slideshow": {
     "slide_type": "slide"
    }
   },
   "source": [
    "Building the model2 same as model1 for higher epochs"
   ]
  },
  {
   "cell_type": "code",
   "execution_count": 28,
   "metadata": {
    "slideshow": {
     "slide_type": "subslide"
    }
   },
   "outputs": [
    {
     "name": "stdout",
     "output_type": "stream",
     "text": [
      "Model: \"model_2\"\n",
      "__________________________________________________________________________________________________\n",
      " Layer (type)                   Output Shape         Param #     Connected to                     \n",
      "==================================================================================================\n",
      " audio_in (InputLayer)          [(None, 250, 15)]    0           []                               \n",
      "                                                                                                  \n",
      " flatten_4 (Flatten)            (None, 3750)         0           ['audio_in[0][0]']               \n",
      "                                                                                                  \n",
      " dense_18 (Dense)               (None, 256)          960256      ['flatten_4[0][0]']              \n",
      "                                                                                                  \n",
      " theme_in (InputLayer)          [(None, 250, 5)]     0           []                               \n",
      "                                                                                                  \n",
      " dense_19 (Dense)               (None, 128)          32896       ['dense_18[0][0]']               \n",
      "                                                                                                  \n",
      " flatten_5 (Flatten)            (None, 1250)         0           ['theme_in[0][0]']               \n",
      "                                                                                                  \n",
      " dense_20 (Dense)               (None, 64)           8256        ['dense_19[0][0]']               \n",
      "                                                                                                  \n",
      " dense_21 (Dense)               (None, 64)           80064       ['flatten_5[0][0]']              \n",
      "                                                                                                  \n",
      " concatenate_2 (Concatenate)    (None, 128)          0           ['dense_20[0][0]',               \n",
      "                                                                  'dense_21[0][0]']               \n",
      "                                                                                                  \n",
      " dense_22 (Dense)               (None, 128)          16512       ['concatenate_2[0][0]']          \n",
      "                                                                                                  \n",
      " dense_23 (Dense)               (None, 128)          16512       ['dense_22[0][0]']               \n",
      "                                                                                                  \n",
      " dense_24 (Dense)               (None, 64)           8256        ['dense_23[0][0]']               \n",
      "                                                                                                  \n",
      " dense_25 (Dense)               (None, 32)           2080        ['dense_24[0][0]']               \n",
      "                                                                                                  \n",
      " dense_26 (Dense)               (None, 16)           528         ['dense_25[0][0]']               \n",
      "                                                                                                  \n",
      " op (Dense)                     (None, 7)            119         ['dense_26[0][0]']               \n",
      "                                                                                                  \n",
      "==================================================================================================\n",
      "Total params: 1,125,479\n",
      "Trainable params: 1,125,479\n",
      "Non-trainable params: 0\n",
      "__________________________________________________________________________________________________\n"
     ]
    }
   ],
   "source": [
    "# Input layers\n",
    "audio_in = Input(shape=(x_train_audio.shape[1], x_train_audio.shape[2]), name='audio_in')\n",
    "theme_in = Input(shape=(x_train_theme.shape[1], x_train_theme.shape[2]), name='theme_in')\n",
    "\n",
    "# Audio layer\n",
    "audio_flat = Flatten()(audio_in) \n",
    "audio_dense1 = Dense(256, activation='relu')(audio_flat)\n",
    "audio_dense2 = Dense(128, activation='relu')(audio_dense1)\n",
    "audio_dense3 = Dense(64, activation='relu')(audio_dense2)\n",
    "\n",
    "\n",
    "# Theme layer\n",
    "theme_flat = Flatten()(theme_in)\n",
    "theme_dense1 = Dense(64, activation='relu')(theme_flat)\n",
    "\n",
    "# Concatenate\n",
    "concat = concatenate([audio_dense3, theme_dense1])\n",
    "dense1 = Dense(128, activation='relu')(concat)\n",
    "dense2 = Dense(128, activation='relu')(dense1)\n",
    "dense3 = Dense(64, activation='relu')(dense2)\n",
    "dense4 = Dense(32, activation='relu')(dense3)\n",
    "dense5 = Dense(16, activation='relu')(dense4)\n",
    "op = Dense(7, activation='softmax',name='op')(dense5)\n",
    "\n",
    "\n",
    "model2 = Model(inputs=[audio_in, theme_in], outputs=[op])\n",
    "\n",
    "model2.summary()"
   ]
  },
  {
   "cell_type": "markdown",
   "metadata": {
    "slideshow": {
     "slide_type": "slide"
    }
   },
   "source": [
    "Training the earlier model for 200 epochs shows clear signs of overfitting with training accuracy reach ~98% but the validation accuracy remaining at ~86%"
   ]
  },
  {
   "cell_type": "code",
   "execution_count": 29,
   "metadata": {
    "slideshow": {
     "slide_type": "subslide"
    }
   },
   "outputs": [
    {
     "name": "stdout",
     "output_type": "stream",
     "text": [
      "Epoch 1/200\n",
      "671/673 [============================>.] - ETA: 0s - loss: 1.8093 - accuracy: 0.3224"
     ]
    },
    {
     "name": "stderr",
     "output_type": "stream",
     "text": [
      "WARNING:absl:Found untraced functions such as _update_step_xla while saving (showing 1 of 1). These functions will not be directly callable after loading.\n"
     ]
    },
    {
     "name": "stdout",
     "output_type": "stream",
     "text": [
      "INFO:tensorflow:Assets written to: ./model2_chkpnt_20221129/Split_DNN_model2_checkpoint_001-0.37/assets\n"
     ]
    },
    {
     "name": "stderr",
     "output_type": "stream",
     "text": [
      "INFO:tensorflow:Assets written to: ./model2_chkpnt_20221129/Split_DNN_model2_checkpoint_001-0.37/assets\n"
     ]
    },
    {
     "name": "stdout",
     "output_type": "stream",
     "text": [
      "673/673 [==============================] - 9s 11ms/step - loss: 1.8089 - accuracy: 0.3226 - val_loss: 1.6544 - val_accuracy: 0.3732\n",
      "Epoch 2/200\n",
      "672/673 [============================>.] - ETA: 0s - loss: 1.5269 - accuracy: 0.4255"
     ]
    },
    {
     "name": "stderr",
     "output_type": "stream",
     "text": [
      "WARNING:absl:Found untraced functions such as _update_step_xla while saving (showing 1 of 1). These functions will not be directly callable after loading.\n"
     ]
    },
    {
     "name": "stdout",
     "output_type": "stream",
     "text": [
      "INFO:tensorflow:Assets written to: ./model2_chkpnt_20221129/Split_DNN_model2_checkpoint_002-0.48/assets\n"
     ]
    },
    {
     "name": "stderr",
     "output_type": "stream",
     "text": [
      "INFO:tensorflow:Assets written to: ./model2_chkpnt_20221129/Split_DNN_model2_checkpoint_002-0.48/assets\n"
     ]
    },
    {
     "name": "stdout",
     "output_type": "stream",
     "text": [
      "673/673 [==============================] - 7s 10ms/step - loss: 1.5271 - accuracy: 0.4254 - val_loss: 1.4370 - val_accuracy: 0.4762\n",
      "Epoch 3/200\n",
      "668/673 [============================>.] - ETA: 0s - loss: 1.3176 - accuracy: 0.5152"
     ]
    },
    {
     "name": "stderr",
     "output_type": "stream",
     "text": [
      "WARNING:absl:Found untraced functions such as _update_step_xla while saving (showing 1 of 1). These functions will not be directly callable after loading.\n"
     ]
    },
    {
     "name": "stdout",
     "output_type": "stream",
     "text": [
      "INFO:tensorflow:Assets written to: ./model2_chkpnt_20221129/Split_DNN_model2_checkpoint_003-0.55/assets\n"
     ]
    },
    {
     "name": "stderr",
     "output_type": "stream",
     "text": [
      "INFO:tensorflow:Assets written to: ./model2_chkpnt_20221129/Split_DNN_model2_checkpoint_003-0.55/assets\n"
     ]
    },
    {
     "name": "stdout",
     "output_type": "stream",
     "text": [
      "673/673 [==============================] - 7s 10ms/step - loss: 1.3163 - accuracy: 0.5157 - val_loss: 1.2392 - val_accuracy: 0.5539\n",
      "Epoch 4/200\n",
      "669/673 [============================>.] - ETA: 0s - loss: 1.1058 - accuracy: 0.6046"
     ]
    },
    {
     "name": "stderr",
     "output_type": "stream",
     "text": [
      "WARNING:absl:Found untraced functions such as _update_step_xla while saving (showing 1 of 1). These functions will not be directly callable after loading.\n"
     ]
    },
    {
     "name": "stdout",
     "output_type": "stream",
     "text": [
      "INFO:tensorflow:Assets written to: ./model2_chkpnt_20221129/Split_DNN_model2_checkpoint_004-0.61/assets\n"
     ]
    },
    {
     "name": "stderr",
     "output_type": "stream",
     "text": [
      "INFO:tensorflow:Assets written to: ./model2_chkpnt_20221129/Split_DNN_model2_checkpoint_004-0.61/assets\n"
     ]
    },
    {
     "name": "stdout",
     "output_type": "stream",
     "text": [
      "673/673 [==============================] - 7s 10ms/step - loss: 1.1052 - accuracy: 0.6051 - val_loss: 1.1137 - val_accuracy: 0.6056\n",
      "Epoch 5/200\n",
      "668/673 [============================>.] - ETA: 0s - loss: 0.9400 - accuracy: 0.6725"
     ]
    },
    {
     "name": "stderr",
     "output_type": "stream",
     "text": [
      "WARNING:absl:Found untraced functions such as _update_step_xla while saving (showing 1 of 1). These functions will not be directly callable after loading.\n"
     ]
    },
    {
     "name": "stdout",
     "output_type": "stream",
     "text": [
      "INFO:tensorflow:Assets written to: ./model2_chkpnt_20221129/Split_DNN_model2_checkpoint_005-0.65/assets\n"
     ]
    },
    {
     "name": "stderr",
     "output_type": "stream",
     "text": [
      "INFO:tensorflow:Assets written to: ./model2_chkpnt_20221129/Split_DNN_model2_checkpoint_005-0.65/assets\n"
     ]
    },
    {
     "name": "stdout",
     "output_type": "stream",
     "text": [
      "673/673 [==============================] - 7s 10ms/step - loss: 0.9394 - accuracy: 0.6728 - val_loss: 1.0140 - val_accuracy: 0.6480\n",
      "Epoch 6/200\n",
      "671/673 [============================>.] - ETA: 0s - loss: 0.8121 - accuracy: 0.7196"
     ]
    },
    {
     "name": "stderr",
     "output_type": "stream",
     "text": [
      "WARNING:absl:Found untraced functions such as _update_step_xla while saving (showing 1 of 1). These functions will not be directly callable after loading.\n"
     ]
    },
    {
     "name": "stdout",
     "output_type": "stream",
     "text": [
      "INFO:tensorflow:Assets written to: ./model2_chkpnt_20221129/Split_DNN_model2_checkpoint_006-0.70/assets\n"
     ]
    },
    {
     "name": "stderr",
     "output_type": "stream",
     "text": [
      "INFO:tensorflow:Assets written to: ./model2_chkpnt_20221129/Split_DNN_model2_checkpoint_006-0.70/assets\n"
     ]
    },
    {
     "name": "stdout",
     "output_type": "stream",
     "text": [
      "673/673 [==============================] - 8s 12ms/step - loss: 0.8115 - accuracy: 0.7199 - val_loss: 0.8651 - val_accuracy: 0.7000\n",
      "Epoch 7/200\n",
      "668/673 [============================>.] - ETA: 0s - loss: 0.7272 - accuracy: 0.7490"
     ]
    },
    {
     "name": "stderr",
     "output_type": "stream",
     "text": [
      "WARNING:absl:Found untraced functions such as _update_step_xla while saving (showing 1 of 1). These functions will not be directly callable after loading.\n"
     ]
    },
    {
     "name": "stdout",
     "output_type": "stream",
     "text": [
      "INFO:tensorflow:Assets written to: ./model2_chkpnt_20221129/Split_DNN_model2_checkpoint_007-0.72/assets\n"
     ]
    },
    {
     "name": "stderr",
     "output_type": "stream",
     "text": [
      "INFO:tensorflow:Assets written to: ./model2_chkpnt_20221129/Split_DNN_model2_checkpoint_007-0.72/assets\n"
     ]
    },
    {
     "name": "stdout",
     "output_type": "stream",
     "text": [
      "673/673 [==============================] - 7s 10ms/step - loss: 0.7278 - accuracy: 0.7488 - val_loss: 0.8233 - val_accuracy: 0.7216\n",
      "Epoch 8/200\n",
      "670/673 [============================>.] - ETA: 0s - loss: 0.6670 - accuracy: 0.7709"
     ]
    },
    {
     "name": "stderr",
     "output_type": "stream",
     "text": [
      "WARNING:absl:Found untraced functions such as _update_step_xla while saving (showing 1 of 1). These functions will not be directly callable after loading.\n"
     ]
    },
    {
     "name": "stdout",
     "output_type": "stream",
     "text": [
      "INFO:tensorflow:Assets written to: ./model2_chkpnt_20221129/Split_DNN_model2_checkpoint_008-0.75/assets\n"
     ]
    },
    {
     "name": "stderr",
     "output_type": "stream",
     "text": [
      "INFO:tensorflow:Assets written to: ./model2_chkpnt_20221129/Split_DNN_model2_checkpoint_008-0.75/assets\n"
     ]
    },
    {
     "name": "stdout",
     "output_type": "stream",
     "text": [
      "673/673 [==============================] - 7s 10ms/step - loss: 0.6659 - accuracy: 0.7714 - val_loss: 0.7495 - val_accuracy: 0.7487\n",
      "Epoch 9/200\n",
      "673/673 [==============================] - 6s 8ms/step - loss: 0.6074 - accuracy: 0.7889 - val_loss: 0.7326 - val_accuracy: 0.7468\n",
      "Epoch 10/200\n",
      "673/673 [==============================] - 6s 8ms/step - loss: 0.5658 - accuracy: 0.8042 - val_loss: 0.7656 - val_accuracy: 0.7454\n",
      "Epoch 11/200\n",
      "670/673 [============================>.] - ETA: 0s - loss: 0.5326 - accuracy: 0.8137"
     ]
    },
    {
     "name": "stderr",
     "output_type": "stream",
     "text": [
      "WARNING:absl:Found untraced functions such as _update_step_xla while saving (showing 1 of 1). These functions will not be directly callable after loading.\n"
     ]
    },
    {
     "name": "stdout",
     "output_type": "stream",
     "text": [
      "INFO:tensorflow:Assets written to: ./model2_chkpnt_20221129/Split_DNN_model2_checkpoint_011-0.79/assets\n"
     ]
    },
    {
     "name": "stderr",
     "output_type": "stream",
     "text": [
      "INFO:tensorflow:Assets written to: ./model2_chkpnt_20221129/Split_DNN_model2_checkpoint_011-0.79/assets\n"
     ]
    },
    {
     "name": "stdout",
     "output_type": "stream",
     "text": [
      "673/673 [==============================] - 7s 10ms/step - loss: 0.5321 - accuracy: 0.8139 - val_loss: 0.6344 - val_accuracy: 0.7896\n",
      "Epoch 12/200\n",
      "673/673 [==============================] - 6s 8ms/step - loss: 0.4946 - accuracy: 0.8242 - val_loss: 0.6398 - val_accuracy: 0.7851\n",
      "Epoch 13/200\n",
      "667/673 [============================>.] - ETA: 0s - loss: 0.4621 - accuracy: 0.8387"
     ]
    },
    {
     "name": "stderr",
     "output_type": "stream",
     "text": [
      "WARNING:absl:Found untraced functions such as _update_step_xla while saving (showing 1 of 1). These functions will not be directly callable after loading.\n"
     ]
    },
    {
     "name": "stdout",
     "output_type": "stream",
     "text": [
      "INFO:tensorflow:Assets written to: ./model2_chkpnt_20221129/Split_DNN_model2_checkpoint_013-0.81/assets\n"
     ]
    },
    {
     "name": "stderr",
     "output_type": "stream",
     "text": [
      "INFO:tensorflow:Assets written to: ./model2_chkpnt_20221129/Split_DNN_model2_checkpoint_013-0.81/assets\n"
     ]
    },
    {
     "name": "stdout",
     "output_type": "stream",
     "text": [
      "673/673 [==============================] - 7s 10ms/step - loss: 0.4621 - accuracy: 0.8387 - val_loss: 0.5770 - val_accuracy: 0.8056\n",
      "Epoch 14/200\n",
      "673/673 [==============================] - 6s 8ms/step - loss: 0.4376 - accuracy: 0.8444 - val_loss: 0.6235 - val_accuracy: 0.7978\n",
      "Epoch 15/200\n",
      "673/673 [==============================] - 5s 8ms/step - loss: 0.4183 - accuracy: 0.8534 - val_loss: 0.6913 - val_accuracy: 0.7766\n",
      "Epoch 16/200\n",
      "673/673 [==============================] - 6s 8ms/step - loss: 0.4002 - accuracy: 0.8604 - val_loss: 0.6110 - val_accuracy: 0.7922\n",
      "Epoch 17/200\n",
      "668/673 [============================>.] - ETA: 0s - loss: 0.3823 - accuracy: 0.8659"
     ]
    },
    {
     "name": "stderr",
     "output_type": "stream",
     "text": [
      "WARNING:absl:Found untraced functions such as _update_step_xla while saving (showing 1 of 1). These functions will not be directly callable after loading.\n"
     ]
    },
    {
     "name": "stdout",
     "output_type": "stream",
     "text": [
      "INFO:tensorflow:Assets written to: ./model2_chkpnt_20221129/Split_DNN_model2_checkpoint_017-0.81/assets\n"
     ]
    },
    {
     "name": "stderr",
     "output_type": "stream",
     "text": [
      "INFO:tensorflow:Assets written to: ./model2_chkpnt_20221129/Split_DNN_model2_checkpoint_017-0.81/assets\n"
     ]
    },
    {
     "name": "stdout",
     "output_type": "stream",
     "text": [
      "673/673 [==============================] - 7s 10ms/step - loss: 0.3823 - accuracy: 0.8659 - val_loss: 0.6198 - val_accuracy: 0.8086\n",
      "Epoch 18/200\n",
      "668/673 [============================>.] - ETA: 0s - loss: 0.3637 - accuracy: 0.8703"
     ]
    },
    {
     "name": "stderr",
     "output_type": "stream",
     "text": [
      "WARNING:absl:Found untraced functions such as _update_step_xla while saving (showing 1 of 1). These functions will not be directly callable after loading.\n"
     ]
    },
    {
     "name": "stdout",
     "output_type": "stream",
     "text": [
      "INFO:tensorflow:Assets written to: ./model2_chkpnt_20221129/Split_DNN_model2_checkpoint_018-0.81/assets\n"
     ]
    },
    {
     "name": "stderr",
     "output_type": "stream",
     "text": [
      "INFO:tensorflow:Assets written to: ./model2_chkpnt_20221129/Split_DNN_model2_checkpoint_018-0.81/assets\n"
     ]
    },
    {
     "name": "stdout",
     "output_type": "stream",
     "text": [
      "673/673 [==============================] - 7s 11ms/step - loss: 0.3636 - accuracy: 0.8703 - val_loss: 0.5755 - val_accuracy: 0.8119\n",
      "Epoch 19/200\n",
      "669/673 [============================>.] - ETA: 0s - loss: 0.3240 - accuracy: 0.8858"
     ]
    },
    {
     "name": "stderr",
     "output_type": "stream",
     "text": [
      "WARNING:absl:Found untraced functions such as _update_step_xla while saving (showing 1 of 1). These functions will not be directly callable after loading.\n"
     ]
    },
    {
     "name": "stdout",
     "output_type": "stream",
     "text": [
      "INFO:tensorflow:Assets written to: ./model2_chkpnt_20221129/Split_DNN_model2_checkpoint_019-0.82/assets\n"
     ]
    },
    {
     "name": "stderr",
     "output_type": "stream",
     "text": [
      "INFO:tensorflow:Assets written to: ./model2_chkpnt_20221129/Split_DNN_model2_checkpoint_019-0.82/assets\n"
     ]
    },
    {
     "name": "stdout",
     "output_type": "stream",
     "text": [
      "673/673 [==============================] - 7s 11ms/step - loss: 0.3245 - accuracy: 0.8856 - val_loss: 0.5450 - val_accuracy: 0.8197\n",
      "Epoch 20/200\n",
      "673/673 [==============================] - 6s 9ms/step - loss: 0.3290 - accuracy: 0.8844 - val_loss: 0.5630 - val_accuracy: 0.8167\n",
      "Epoch 21/200\n",
      "670/673 [============================>.] - ETA: 0s - loss: 0.3058 - accuracy: 0.8939"
     ]
    },
    {
     "name": "stderr",
     "output_type": "stream",
     "text": [
      "WARNING:absl:Found untraced functions such as _update_step_xla while saving (showing 1 of 1). These functions will not be directly callable after loading.\n"
     ]
    },
    {
     "name": "stdout",
     "output_type": "stream",
     "text": [
      "INFO:tensorflow:Assets written to: ./model2_chkpnt_20221129/Split_DNN_model2_checkpoint_021-0.83/assets\n"
     ]
    },
    {
     "name": "stderr",
     "output_type": "stream",
     "text": [
      "INFO:tensorflow:Assets written to: ./model2_chkpnt_20221129/Split_DNN_model2_checkpoint_021-0.83/assets\n"
     ]
    },
    {
     "name": "stdout",
     "output_type": "stream",
     "text": [
      "673/673 [==============================] - 7s 11ms/step - loss: 0.3059 - accuracy: 0.8938 - val_loss: 0.5411 - val_accuracy: 0.8268\n",
      "Epoch 22/200\n",
      "673/673 [==============================] - 6s 9ms/step - loss: 0.3043 - accuracy: 0.8924 - val_loss: 0.6330 - val_accuracy: 0.8082\n",
      "Epoch 23/200\n",
      "671/673 [============================>.] - ETA: 0s - loss: 0.2945 - accuracy: 0.8937"
     ]
    },
    {
     "name": "stderr",
     "output_type": "stream",
     "text": [
      "WARNING:absl:Found untraced functions such as _update_step_xla while saving (showing 1 of 1). These functions will not be directly callable after loading.\n"
     ]
    },
    {
     "name": "stdout",
     "output_type": "stream",
     "text": [
      "INFO:tensorflow:Assets written to: ./model2_chkpnt_20221129/Split_DNN_model2_checkpoint_023-0.84/assets\n"
     ]
    },
    {
     "name": "stderr",
     "output_type": "stream",
     "text": [
      "INFO:tensorflow:Assets written to: ./model2_chkpnt_20221129/Split_DNN_model2_checkpoint_023-0.84/assets\n"
     ]
    },
    {
     "name": "stdout",
     "output_type": "stream",
     "text": [
      "673/673 [==============================] - 7s 11ms/step - loss: 0.2947 - accuracy: 0.8937 - val_loss: 0.5398 - val_accuracy: 0.8390\n",
      "Epoch 24/200\n",
      "673/673 [==============================] - 6s 9ms/step - loss: 0.2719 - accuracy: 0.9041 - val_loss: 0.5405 - val_accuracy: 0.8353\n",
      "Epoch 25/200\n",
      "673/673 [==============================] - 6s 9ms/step - loss: 0.2733 - accuracy: 0.9044 - val_loss: 0.5166 - val_accuracy: 0.8335\n",
      "Epoch 26/200\n",
      "673/673 [==============================] - 6s 9ms/step - loss: 0.2460 - accuracy: 0.9128 - val_loss: 0.5592 - val_accuracy: 0.8249\n",
      "Epoch 27/200\n",
      "673/673 [==============================] - 6s 9ms/step - loss: 0.2428 - accuracy: 0.9138 - val_loss: 0.5761 - val_accuracy: 0.8283\n",
      "Epoch 28/200\n",
      "667/673 [============================>.] - ETA: 0s - loss: 0.2422 - accuracy: 0.9153"
     ]
    },
    {
     "name": "stderr",
     "output_type": "stream",
     "text": [
      "WARNING:absl:Found untraced functions such as _update_step_xla while saving (showing 1 of 1). These functions will not be directly callable after loading.\n"
     ]
    },
    {
     "name": "stdout",
     "output_type": "stream",
     "text": [
      "INFO:tensorflow:Assets written to: ./model2_chkpnt_20221129/Split_DNN_model2_checkpoint_028-0.84/assets\n"
     ]
    },
    {
     "name": "stderr",
     "output_type": "stream",
     "text": [
      "INFO:tensorflow:Assets written to: ./model2_chkpnt_20221129/Split_DNN_model2_checkpoint_028-0.84/assets\n"
     ]
    },
    {
     "name": "stdout",
     "output_type": "stream",
     "text": [
      "673/673 [==============================] - 7s 11ms/step - loss: 0.2419 - accuracy: 0.9155 - val_loss: 0.5370 - val_accuracy: 0.8420\n",
      "Epoch 29/200\n",
      "673/673 [==============================] - 6s 9ms/step - loss: 0.2377 - accuracy: 0.9156 - val_loss: 0.5279 - val_accuracy: 0.8372\n",
      "Epoch 30/200\n",
      "673/673 [==============================] - ETA: 0s - loss: 0.2271 - accuracy: 0.9203"
     ]
    },
    {
     "name": "stderr",
     "output_type": "stream",
     "text": [
      "WARNING:absl:Found untraced functions such as _update_step_xla while saving (showing 1 of 1). These functions will not be directly callable after loading.\n"
     ]
    },
    {
     "name": "stdout",
     "output_type": "stream",
     "text": [
      "INFO:tensorflow:Assets written to: ./model2_chkpnt_20221129/Split_DNN_model2_checkpoint_030-0.85/assets\n"
     ]
    },
    {
     "name": "stderr",
     "output_type": "stream",
     "text": [
      "INFO:tensorflow:Assets written to: ./model2_chkpnt_20221129/Split_DNN_model2_checkpoint_030-0.85/assets\n"
     ]
    },
    {
     "name": "stdout",
     "output_type": "stream",
     "text": [
      "673/673 [==============================] - 8s 12ms/step - loss: 0.2271 - accuracy: 0.9203 - val_loss: 0.5099 - val_accuracy: 0.8498\n",
      "Epoch 31/200\n",
      "672/673 [============================>.] - ETA: 0s - loss: 0.2208 - accuracy: 0.9241"
     ]
    },
    {
     "name": "stderr",
     "output_type": "stream",
     "text": [
      "WARNING:absl:Found untraced functions such as _update_step_xla while saving (showing 1 of 1). These functions will not be directly callable after loading.\n"
     ]
    },
    {
     "name": "stdout",
     "output_type": "stream",
     "text": [
      "INFO:tensorflow:Assets written to: ./model2_chkpnt_20221129/Split_DNN_model2_checkpoint_031-0.85/assets\n"
     ]
    },
    {
     "name": "stderr",
     "output_type": "stream",
     "text": [
      "INFO:tensorflow:Assets written to: ./model2_chkpnt_20221129/Split_DNN_model2_checkpoint_031-0.85/assets\n"
     ]
    },
    {
     "name": "stdout",
     "output_type": "stream",
     "text": [
      "673/673 [==============================] - 7s 11ms/step - loss: 0.2208 - accuracy: 0.9241 - val_loss: 0.5435 - val_accuracy: 0.8502\n",
      "Epoch 32/200\n",
      "673/673 [==============================] - 6s 9ms/step - loss: 0.2180 - accuracy: 0.9246 - val_loss: 0.5891 - val_accuracy: 0.8301\n",
      "Epoch 33/200\n",
      "672/673 [============================>.] - ETA: 0s - loss: 0.2180 - accuracy: 0.9237"
     ]
    },
    {
     "name": "stderr",
     "output_type": "stream",
     "text": [
      "WARNING:absl:Found untraced functions such as _update_step_xla while saving (showing 1 of 1). These functions will not be directly callable after loading.\n"
     ]
    },
    {
     "name": "stdout",
     "output_type": "stream",
     "text": [
      "INFO:tensorflow:Assets written to: ./model2_chkpnt_20221129/Split_DNN_model2_checkpoint_033-0.85/assets\n"
     ]
    },
    {
     "name": "stderr",
     "output_type": "stream",
     "text": [
      "INFO:tensorflow:Assets written to: ./model2_chkpnt_20221129/Split_DNN_model2_checkpoint_033-0.85/assets\n"
     ]
    },
    {
     "name": "stdout",
     "output_type": "stream",
     "text": [
      "673/673 [==============================] - 7s 10ms/step - loss: 0.2179 - accuracy: 0.9237 - val_loss: 0.5092 - val_accuracy: 0.8528\n",
      "Epoch 34/200\n",
      "673/673 [==============================] - 6s 8ms/step - loss: 0.2032 - accuracy: 0.9288 - val_loss: 0.5205 - val_accuracy: 0.8517\n",
      "Epoch 35/200\n",
      "673/673 [==============================] - 6s 8ms/step - loss: 0.2146 - accuracy: 0.9241 - val_loss: 0.5466 - val_accuracy: 0.8480\n",
      "Epoch 36/200\n",
      "670/673 [============================>.] - ETA: 0s - loss: 0.1900 - accuracy: 0.9346"
     ]
    },
    {
     "name": "stderr",
     "output_type": "stream",
     "text": [
      "WARNING:absl:Found untraced functions such as _update_step_xla while saving (showing 1 of 1). These functions will not be directly callable after loading.\n"
     ]
    },
    {
     "name": "stdout",
     "output_type": "stream",
     "text": [
      "INFO:tensorflow:Assets written to: ./model2_chkpnt_20221129/Split_DNN_model2_checkpoint_036-0.85/assets\n"
     ]
    },
    {
     "name": "stderr",
     "output_type": "stream",
     "text": [
      "INFO:tensorflow:Assets written to: ./model2_chkpnt_20221129/Split_DNN_model2_checkpoint_036-0.85/assets\n"
     ]
    },
    {
     "name": "stdout",
     "output_type": "stream",
     "text": [
      "673/673 [==============================] - 7s 10ms/step - loss: 0.1899 - accuracy: 0.9345 - val_loss: 0.5234 - val_accuracy: 0.8535\n",
      "Epoch 37/200\n",
      "673/673 [==============================] - 6s 8ms/step - loss: 0.1917 - accuracy: 0.9333 - val_loss: 0.5327 - val_accuracy: 0.8517\n",
      "Epoch 38/200\n",
      "673/673 [==============================] - 6s 8ms/step - loss: 0.1808 - accuracy: 0.9346 - val_loss: 0.5451 - val_accuracy: 0.8528\n",
      "Epoch 39/200\n",
      "673/673 [==============================] - 6s 8ms/step - loss: 0.1805 - accuracy: 0.9368 - val_loss: 0.5447 - val_accuracy: 0.8457\n",
      "Epoch 40/200\n",
      "673/673 [==============================] - ETA: 0s - loss: 0.1794 - accuracy: 0.9371"
     ]
    },
    {
     "name": "stderr",
     "output_type": "stream",
     "text": [
      "WARNING:absl:Found untraced functions such as _update_step_xla while saving (showing 1 of 1). These functions will not be directly callable after loading.\n"
     ]
    },
    {
     "name": "stdout",
     "output_type": "stream",
     "text": [
      "INFO:tensorflow:Assets written to: ./model2_chkpnt_20221129/Split_DNN_model2_checkpoint_040-0.86/assets\n"
     ]
    },
    {
     "name": "stderr",
     "output_type": "stream",
     "text": [
      "INFO:tensorflow:Assets written to: ./model2_chkpnt_20221129/Split_DNN_model2_checkpoint_040-0.86/assets\n"
     ]
    },
    {
     "name": "stdout",
     "output_type": "stream",
     "text": [
      "673/673 [==============================] - 7s 10ms/step - loss: 0.1794 - accuracy: 0.9371 - val_loss: 0.5020 - val_accuracy: 0.8636\n",
      "Epoch 41/200\n",
      "673/673 [==============================] - 6s 8ms/step - loss: 0.1616 - accuracy: 0.9438 - val_loss: 0.5446 - val_accuracy: 0.8524\n",
      "Epoch 42/200\n",
      "673/673 [==============================] - 6s 8ms/step - loss: 0.1611 - accuracy: 0.9453 - val_loss: 0.5471 - val_accuracy: 0.8532\n",
      "Epoch 43/200\n",
      "673/673 [==============================] - 5s 8ms/step - loss: 0.1808 - accuracy: 0.9373 - val_loss: 0.5389 - val_accuracy: 0.8572\n",
      "Epoch 44/200\n",
      "669/673 [============================>.] - ETA: 0s - loss: 0.1563 - accuracy: 0.9473"
     ]
    },
    {
     "name": "stderr",
     "output_type": "stream",
     "text": [
      "WARNING:absl:Found untraced functions such as _update_step_xla while saving (showing 1 of 1). These functions will not be directly callable after loading.\n"
     ]
    },
    {
     "name": "stdout",
     "output_type": "stream",
     "text": [
      "INFO:tensorflow:Assets written to: ./model2_chkpnt_20221129/Split_DNN_model2_checkpoint_044-0.87/assets\n"
     ]
    },
    {
     "name": "stderr",
     "output_type": "stream",
     "text": [
      "INFO:tensorflow:Assets written to: ./model2_chkpnt_20221129/Split_DNN_model2_checkpoint_044-0.87/assets\n"
     ]
    },
    {
     "name": "stdout",
     "output_type": "stream",
     "text": [
      "673/673 [==============================] - 7s 10ms/step - loss: 0.1565 - accuracy: 0.9472 - val_loss: 0.4982 - val_accuracy: 0.8665\n",
      "Epoch 45/200\n",
      "673/673 [==============================] - 5s 8ms/step - loss: 0.1541 - accuracy: 0.9485 - val_loss: 0.5609 - val_accuracy: 0.8591\n",
      "Epoch 46/200\n",
      "673/673 [==============================] - 6s 8ms/step - loss: 0.1545 - accuracy: 0.9481 - val_loss: 0.5546 - val_accuracy: 0.8602\n",
      "Epoch 47/200\n",
      "673/673 [==============================] - 6s 8ms/step - loss: 0.1579 - accuracy: 0.9462 - val_loss: 0.5463 - val_accuracy: 0.8558\n",
      "Epoch 48/200\n",
      "670/673 [============================>.] - ETA: 0s - loss: 0.1395 - accuracy: 0.9534"
     ]
    },
    {
     "name": "stderr",
     "output_type": "stream",
     "text": [
      "WARNING:absl:Found untraced functions such as _update_step_xla while saving (showing 1 of 1). These functions will not be directly callable after loading.\n"
     ]
    },
    {
     "name": "stdout",
     "output_type": "stream",
     "text": [
      "INFO:tensorflow:Assets written to: ./model2_chkpnt_20221129/Split_DNN_model2_checkpoint_048-0.87/assets\n"
     ]
    },
    {
     "name": "stderr",
     "output_type": "stream",
     "text": [
      "INFO:tensorflow:Assets written to: ./model2_chkpnt_20221129/Split_DNN_model2_checkpoint_048-0.87/assets\n"
     ]
    },
    {
     "name": "stdout",
     "output_type": "stream",
     "text": [
      "673/673 [==============================] - 7s 10ms/step - loss: 0.1396 - accuracy: 0.9533 - val_loss: 0.5548 - val_accuracy: 0.8691\n",
      "Epoch 49/200\n",
      "673/673 [==============================] - 6s 9ms/step - loss: 0.1484 - accuracy: 0.9494 - val_loss: 0.5548 - val_accuracy: 0.8569\n",
      "Epoch 50/200\n",
      "673/673 [==============================] - 5s 8ms/step - loss: 0.1414 - accuracy: 0.9521 - val_loss: 0.5116 - val_accuracy: 0.8651\n",
      "Epoch 51/200\n",
      "673/673 [==============================] - 6s 8ms/step - loss: 0.1517 - accuracy: 0.9477 - val_loss: 0.5306 - val_accuracy: 0.8599\n",
      "Epoch 52/200\n",
      "673/673 [==============================] - 6s 8ms/step - loss: 0.1413 - accuracy: 0.9521 - val_loss: 0.5736 - val_accuracy: 0.8587\n",
      "Epoch 53/200\n",
      "673/673 [==============================] - 6s 8ms/step - loss: 0.1360 - accuracy: 0.9555 - val_loss: 0.5489 - val_accuracy: 0.8654\n",
      "Epoch 54/200\n",
      "673/673 [==============================] - 6s 8ms/step - loss: 0.1175 - accuracy: 0.9586 - val_loss: 0.5785 - val_accuracy: 0.8651\n",
      "Epoch 55/200\n",
      "673/673 [==============================] - 5s 8ms/step - loss: 0.1273 - accuracy: 0.9566 - val_loss: 0.5941 - val_accuracy: 0.8658\n",
      "Epoch 56/200\n",
      "673/673 [==============================] - 6s 8ms/step - loss: 0.1323 - accuracy: 0.9553 - val_loss: 0.5717 - val_accuracy: 0.8520\n",
      "Epoch 57/200\n",
      "673/673 [==============================] - 5s 8ms/step - loss: 0.1173 - accuracy: 0.9597 - val_loss: 0.5793 - val_accuracy: 0.8561\n",
      "Epoch 58/200\n",
      "673/673 [==============================] - 6s 8ms/step - loss: 0.1413 - accuracy: 0.9530 - val_loss: 0.5841 - val_accuracy: 0.8610\n",
      "Epoch 59/200\n",
      "673/673 [==============================] - 5s 8ms/step - loss: 0.1269 - accuracy: 0.9574 - val_loss: 0.6130 - val_accuracy: 0.8572\n",
      "Epoch 60/200\n",
      "673/673 [==============================] - 6s 8ms/step - loss: 0.1274 - accuracy: 0.9575 - val_loss: 0.6969 - val_accuracy: 0.8454\n",
      "Epoch 61/200\n",
      "673/673 [==============================] - 5s 8ms/step - loss: 0.1175 - accuracy: 0.9601 - val_loss: 0.6273 - val_accuracy: 0.8599\n",
      "Epoch 62/200\n",
      "671/673 [============================>.] - ETA: 0s - loss: 0.1089 - accuracy: 0.9626"
     ]
    },
    {
     "name": "stderr",
     "output_type": "stream",
     "text": [
      "WARNING:absl:Found untraced functions such as _update_step_xla while saving (showing 1 of 1). These functions will not be directly callable after loading.\n"
     ]
    },
    {
     "name": "stdout",
     "output_type": "stream",
     "text": [
      "INFO:tensorflow:Assets written to: ./model2_chkpnt_20221129/Split_DNN_model2_checkpoint_062-0.87/assets\n"
     ]
    },
    {
     "name": "stderr",
     "output_type": "stream",
     "text": [
      "INFO:tensorflow:Assets written to: ./model2_chkpnt_20221129/Split_DNN_model2_checkpoint_062-0.87/assets\n"
     ]
    },
    {
     "name": "stdout",
     "output_type": "stream",
     "text": [
      "673/673 [==============================] - 7s 10ms/step - loss: 0.1091 - accuracy: 0.9626 - val_loss: 0.5331 - val_accuracy: 0.8703\n",
      "Epoch 63/200\n",
      "673/673 [==============================] - 6s 8ms/step - loss: 0.1197 - accuracy: 0.9613 - val_loss: 0.6406 - val_accuracy: 0.8517\n",
      "Epoch 64/200\n",
      "673/673 [==============================] - 5s 8ms/step - loss: 0.1054 - accuracy: 0.9651 - val_loss: 0.6193 - val_accuracy: 0.8565\n",
      "Epoch 65/200\n",
      "673/673 [==============================] - 5s 8ms/step - loss: 0.1197 - accuracy: 0.9602 - val_loss: 0.6094 - val_accuracy: 0.8647\n",
      "Epoch 66/200\n",
      "673/673 [==============================] - 5s 8ms/step - loss: 0.1113 - accuracy: 0.9631 - val_loss: 0.5878 - val_accuracy: 0.8643\n",
      "Epoch 67/200\n",
      "670/673 [============================>.] - ETA: 0s - loss: 0.1034 - accuracy: 0.9652"
     ]
    },
    {
     "name": "stderr",
     "output_type": "stream",
     "text": [
      "WARNING:absl:Found untraced functions such as _update_step_xla while saving (showing 1 of 1). These functions will not be directly callable after loading.\n"
     ]
    },
    {
     "name": "stdout",
     "output_type": "stream",
     "text": [
      "INFO:tensorflow:Assets written to: ./model2_chkpnt_20221129/Split_DNN_model2_checkpoint_067-0.88/assets\n"
     ]
    },
    {
     "name": "stderr",
     "output_type": "stream",
     "text": [
      "INFO:tensorflow:Assets written to: ./model2_chkpnt_20221129/Split_DNN_model2_checkpoint_067-0.88/assets\n"
     ]
    },
    {
     "name": "stdout",
     "output_type": "stream",
     "text": [
      "673/673 [==============================] - 7s 10ms/step - loss: 0.1036 - accuracy: 0.9651 - val_loss: 0.5509 - val_accuracy: 0.8758\n",
      "Epoch 68/200\n",
      "673/673 [==============================] - 6s 8ms/step - loss: 0.1110 - accuracy: 0.9638 - val_loss: 0.6116 - val_accuracy: 0.8665\n",
      "Epoch 69/200\n",
      "673/673 [==============================] - 5s 8ms/step - loss: 0.1045 - accuracy: 0.9653 - val_loss: 0.6356 - val_accuracy: 0.8580\n",
      "Epoch 70/200\n",
      "673/673 [==============================] - 6s 8ms/step - loss: 0.1025 - accuracy: 0.9650 - val_loss: 0.6344 - val_accuracy: 0.8628\n",
      "Epoch 71/200\n",
      "673/673 [==============================] - 5s 8ms/step - loss: 0.1186 - accuracy: 0.9622 - val_loss: 0.6960 - val_accuracy: 0.8535\n",
      "Epoch 72/200\n",
      "673/673 [==============================] - 5s 8ms/step - loss: 0.0958 - accuracy: 0.9684 - val_loss: 0.5602 - val_accuracy: 0.8717\n",
      "Epoch 73/200\n",
      "673/673 [==============================] - 6s 8ms/step - loss: 0.0890 - accuracy: 0.9719 - val_loss: 0.6351 - val_accuracy: 0.8554\n",
      "Epoch 74/200\n",
      "673/673 [==============================] - 6s 8ms/step - loss: 0.1109 - accuracy: 0.9651 - val_loss: 0.7043 - val_accuracy: 0.8595\n",
      "Epoch 75/200\n",
      "673/673 [==============================] - 5s 8ms/step - loss: 0.0924 - accuracy: 0.9684 - val_loss: 0.6397 - val_accuracy: 0.8621\n",
      "Epoch 76/200\n",
      "673/673 [==============================] - 5s 8ms/step - loss: 0.1011 - accuracy: 0.9678 - val_loss: 0.6900 - val_accuracy: 0.8606\n",
      "Epoch 77/200\n",
      "673/673 [==============================] - 5s 8ms/step - loss: 0.0977 - accuracy: 0.9674 - val_loss: 0.5980 - val_accuracy: 0.8747\n",
      "Epoch 78/200\n",
      "673/673 [==============================] - 6s 8ms/step - loss: 0.0949 - accuracy: 0.9689 - val_loss: 0.7468 - val_accuracy: 0.8498\n",
      "Epoch 79/200\n",
      "673/673 [==============================] - 6s 8ms/step - loss: 0.0933 - accuracy: 0.9707 - val_loss: 0.6408 - val_accuracy: 0.8606\n",
      "Epoch 80/200\n",
      "673/673 [==============================] - 5s 8ms/step - loss: 0.1006 - accuracy: 0.9671 - val_loss: 0.7393 - val_accuracy: 0.8383\n",
      "Epoch 81/200\n",
      "673/673 [==============================] - 6s 8ms/step - loss: 0.0885 - accuracy: 0.9712 - val_loss: 0.6294 - val_accuracy: 0.8651\n",
      "Epoch 82/200\n",
      "673/673 [==============================] - 6s 8ms/step - loss: 0.0869 - accuracy: 0.9712 - val_loss: 0.6084 - val_accuracy: 0.8699\n",
      "Epoch 83/200\n",
      "673/673 [==============================] - 6s 8ms/step - loss: 0.0809 - accuracy: 0.9744 - val_loss: 0.6332 - val_accuracy: 0.8695\n",
      "Epoch 84/200\n",
      "673/673 [==============================] - 6s 8ms/step - loss: 0.1045 - accuracy: 0.9679 - val_loss: 0.6301 - val_accuracy: 0.8621\n",
      "Epoch 85/200\n",
      "673/673 [==============================] - 6s 8ms/step - loss: 0.0872 - accuracy: 0.9730 - val_loss: 0.6333 - val_accuracy: 0.8688\n",
      "Epoch 86/200\n",
      "673/673 [==============================] - 6s 8ms/step - loss: 0.0820 - accuracy: 0.9734 - val_loss: 0.7238 - val_accuracy: 0.8509\n",
      "Epoch 87/200\n",
      "673/673 [==============================] - 6s 8ms/step - loss: 0.0810 - accuracy: 0.9732 - val_loss: 0.6816 - val_accuracy: 0.8613\n",
      "Epoch 88/200\n",
      "673/673 [==============================] - 6s 8ms/step - loss: 0.0948 - accuracy: 0.9713 - val_loss: 0.6230 - val_accuracy: 0.8721\n",
      "Epoch 89/200\n",
      "673/673 [==============================] - 5s 8ms/step - loss: 0.0890 - accuracy: 0.9727 - val_loss: 0.5928 - val_accuracy: 0.8732\n",
      "Epoch 90/200\n",
      "673/673 [==============================] - 5s 8ms/step - loss: 0.0683 - accuracy: 0.9783 - val_loss: 0.6238 - val_accuracy: 0.8747\n",
      "Epoch 91/200\n",
      "673/673 [==============================] - 5s 8ms/step - loss: 0.0878 - accuracy: 0.9735 - val_loss: 0.6929 - val_accuracy: 0.8502\n",
      "Epoch 92/200\n",
      "673/673 [==============================] - 6s 8ms/step - loss: 0.0951 - accuracy: 0.9699 - val_loss: 0.6258 - val_accuracy: 0.8736\n",
      "Epoch 93/200\n",
      "673/673 [==============================] - 5s 8ms/step - loss: 0.0813 - accuracy: 0.9730 - val_loss: 0.6171 - val_accuracy: 0.8729\n",
      "Epoch 94/200\n",
      "673/673 [==============================] - 6s 8ms/step - loss: 0.0930 - accuracy: 0.9685 - val_loss: 0.6868 - val_accuracy: 0.8509\n",
      "Epoch 95/200\n",
      "673/673 [==============================] - 5s 8ms/step - loss: 0.0797 - accuracy: 0.9734 - val_loss: 0.7266 - val_accuracy: 0.8680\n",
      "Epoch 96/200\n",
      "673/673 [==============================] - 6s 8ms/step - loss: 0.0690 - accuracy: 0.9779 - val_loss: 0.7244 - val_accuracy: 0.8580\n",
      "Epoch 97/200\n",
      "673/673 [==============================] - 6s 8ms/step - loss: 0.0829 - accuracy: 0.9745 - val_loss: 0.6634 - val_accuracy: 0.8695\n",
      "Epoch 98/200\n",
      "673/673 [==============================] - 5s 8ms/step - loss: 0.0898 - accuracy: 0.9714 - val_loss: 0.7348 - val_accuracy: 0.8520\n",
      "Epoch 99/200\n",
      "673/673 [==============================] - 6s 8ms/step - loss: 0.0883 - accuracy: 0.9733 - val_loss: 0.5997 - val_accuracy: 0.8747\n",
      "Epoch 100/200\n",
      "673/673 [==============================] - 5s 8ms/step - loss: 0.0688 - accuracy: 0.9773 - val_loss: 0.6812 - val_accuracy: 0.8747\n",
      "Epoch 101/200\n",
      "673/673 [==============================] - 6s 8ms/step - loss: 0.0792 - accuracy: 0.9753 - val_loss: 0.6525 - val_accuracy: 0.8621\n",
      "Epoch 102/200\n",
      "673/673 [==============================] - 6s 8ms/step - loss: 0.0755 - accuracy: 0.9772 - val_loss: 0.6582 - val_accuracy: 0.8636\n",
      "Epoch 103/200\n",
      "673/673 [==============================] - 6s 8ms/step - loss: 0.0713 - accuracy: 0.9779 - val_loss: 0.7088 - val_accuracy: 0.8576\n",
      "Epoch 104/200\n",
      "673/673 [==============================] - 6s 8ms/step - loss: 0.0952 - accuracy: 0.9704 - val_loss: 0.7091 - val_accuracy: 0.8595\n",
      "Epoch 105/200\n",
      "673/673 [==============================] - 6s 8ms/step - loss: 0.0760 - accuracy: 0.9756 - val_loss: 0.6828 - val_accuracy: 0.8665\n",
      "Epoch 106/200\n",
      "673/673 [==============================] - 6s 8ms/step - loss: 0.0670 - accuracy: 0.9783 - val_loss: 0.7959 - val_accuracy: 0.8576\n",
      "Epoch 107/200\n",
      "673/673 [==============================] - 5s 8ms/step - loss: 0.0676 - accuracy: 0.9789 - val_loss: 0.6223 - val_accuracy: 0.8740\n",
      "Epoch 108/200\n",
      "673/673 [==============================] - 6s 8ms/step - loss: 0.0869 - accuracy: 0.9730 - val_loss: 0.6539 - val_accuracy: 0.8665\n",
      "Epoch 109/200\n",
      "673/673 [==============================] - 6s 8ms/step - loss: 0.0553 - accuracy: 0.9832 - val_loss: 0.7323 - val_accuracy: 0.8628\n",
      "Epoch 110/200\n",
      "673/673 [==============================] - 6s 8ms/step - loss: 0.0788 - accuracy: 0.9761 - val_loss: 0.6843 - val_accuracy: 0.8595\n",
      "Epoch 111/200\n",
      "673/673 [==============================] - 6s 8ms/step - loss: 0.0659 - accuracy: 0.9785 - val_loss: 0.7592 - val_accuracy: 0.8561\n",
      "Epoch 112/200\n",
      "673/673 [==============================] - 5s 8ms/step - loss: 0.0828 - accuracy: 0.9743 - val_loss: 0.6880 - val_accuracy: 0.8755\n",
      "Epoch 113/200\n",
      "668/673 [============================>.] - ETA: 0s - loss: 0.0611 - accuracy: 0.9814"
     ]
    },
    {
     "name": "stderr",
     "output_type": "stream",
     "text": [
      "WARNING:absl:Found untraced functions such as _update_step_xla while saving (showing 1 of 1). These functions will not be directly callable after loading.\n"
     ]
    },
    {
     "name": "stdout",
     "output_type": "stream",
     "text": [
      "INFO:tensorflow:Assets written to: ./model2_chkpnt_20221129/Split_DNN_model2_checkpoint_113-0.88/assets\n"
     ]
    },
    {
     "name": "stderr",
     "output_type": "stream",
     "text": [
      "INFO:tensorflow:Assets written to: ./model2_chkpnt_20221129/Split_DNN_model2_checkpoint_113-0.88/assets\n"
     ]
    },
    {
     "name": "stdout",
     "output_type": "stream",
     "text": [
      "673/673 [==============================] - 7s 10ms/step - loss: 0.0609 - accuracy: 0.9815 - val_loss: 0.6159 - val_accuracy: 0.8799\n",
      "Epoch 114/200\n",
      "673/673 [==============================] - 6s 8ms/step - loss: 0.0648 - accuracy: 0.9796 - val_loss: 0.7000 - val_accuracy: 0.8617\n",
      "Epoch 115/200\n",
      "673/673 [==============================] - 6s 8ms/step - loss: 0.0651 - accuracy: 0.9802 - val_loss: 0.6780 - val_accuracy: 0.8651\n",
      "Epoch 116/200\n",
      "673/673 [==============================] - 5s 8ms/step - loss: 0.0717 - accuracy: 0.9789 - val_loss: 0.6235 - val_accuracy: 0.8658\n",
      "Epoch 117/200\n",
      "673/673 [==============================] - 6s 8ms/step - loss: 0.0760 - accuracy: 0.9765 - val_loss: 0.6517 - val_accuracy: 0.8710\n",
      "Epoch 118/200\n",
      "673/673 [==============================] - 6s 8ms/step - loss: 0.0637 - accuracy: 0.9798 - val_loss: 0.6600 - val_accuracy: 0.8792\n",
      "Epoch 119/200\n",
      "673/673 [==============================] - 6s 8ms/step - loss: 0.0696 - accuracy: 0.9786 - val_loss: 0.6572 - val_accuracy: 0.8688\n",
      "Epoch 120/200\n",
      "673/673 [==============================] - 5s 8ms/step - loss: 0.0689 - accuracy: 0.9792 - val_loss: 0.6651 - val_accuracy: 0.8740\n",
      "Epoch 121/200\n",
      "673/673 [==============================] - 6s 8ms/step - loss: 0.0581 - accuracy: 0.9818 - val_loss: 0.7864 - val_accuracy: 0.8599\n",
      "Epoch 122/200\n",
      "673/673 [==============================] - 5s 8ms/step - loss: 0.0595 - accuracy: 0.9825 - val_loss: 0.6829 - val_accuracy: 0.8710\n",
      "Epoch 123/200\n",
      "673/673 [==============================] - 6s 8ms/step - loss: 0.0731 - accuracy: 0.9777 - val_loss: 0.6831 - val_accuracy: 0.8625\n",
      "Epoch 124/200\n",
      "673/673 [==============================] - 6s 8ms/step - loss: 0.0683 - accuracy: 0.9784 - val_loss: 0.7088 - val_accuracy: 0.8669\n",
      "Epoch 125/200\n",
      "673/673 [==============================] - 6s 8ms/step - loss: 0.0646 - accuracy: 0.9809 - val_loss: 0.6818 - val_accuracy: 0.8673\n",
      "Epoch 126/200\n",
      "673/673 [==============================] - 6s 8ms/step - loss: 0.0580 - accuracy: 0.9822 - val_loss: 0.7023 - val_accuracy: 0.8669\n",
      "Epoch 127/200\n",
      "673/673 [==============================] - 5s 8ms/step - loss: 0.0653 - accuracy: 0.9816 - val_loss: 0.6659 - val_accuracy: 0.8736\n",
      "Epoch 128/200\n",
      "673/673 [==============================] - 6s 8ms/step - loss: 0.0486 - accuracy: 0.9843 - val_loss: 0.8753 - val_accuracy: 0.8509\n",
      "Epoch 129/200\n",
      "673/673 [==============================] - 6s 8ms/step - loss: 0.0721 - accuracy: 0.9776 - val_loss: 0.6360 - val_accuracy: 0.8684\n",
      "Epoch 130/200\n",
      "673/673 [==============================] - 6s 8ms/step - loss: 0.0683 - accuracy: 0.9789 - val_loss: 0.7960 - val_accuracy: 0.8658\n",
      "Epoch 131/200\n",
      "673/673 [==============================] - 6s 8ms/step - loss: 0.0589 - accuracy: 0.9825 - val_loss: 0.6805 - val_accuracy: 0.8703\n",
      "Epoch 132/200\n",
      "673/673 [==============================] - 6s 8ms/step - loss: 0.0587 - accuracy: 0.9814 - val_loss: 0.7337 - val_accuracy: 0.8743\n",
      "Epoch 133/200\n",
      "667/673 [============================>.] - ETA: 0s - loss: 0.0497 - accuracy: 0.9851"
     ]
    },
    {
     "name": "stderr",
     "output_type": "stream",
     "text": [
      "WARNING:absl:Found untraced functions such as _update_step_xla while saving (showing 1 of 1). These functions will not be directly callable after loading.\n"
     ]
    },
    {
     "name": "stdout",
     "output_type": "stream",
     "text": [
      "INFO:tensorflow:Assets written to: ./model2_chkpnt_20221129/Split_DNN_model2_checkpoint_133-0.88/assets\n"
     ]
    },
    {
     "name": "stderr",
     "output_type": "stream",
     "text": [
      "INFO:tensorflow:Assets written to: ./model2_chkpnt_20221129/Split_DNN_model2_checkpoint_133-0.88/assets\n"
     ]
    },
    {
     "name": "stdout",
     "output_type": "stream",
     "text": [
      "673/673 [==============================] - 8s 11ms/step - loss: 0.0496 - accuracy: 0.9851 - val_loss: 0.6763 - val_accuracy: 0.8818\n",
      "Epoch 134/200\n",
      "673/673 [==============================] - 5s 8ms/step - loss: 0.0592 - accuracy: 0.9817 - val_loss: 0.7239 - val_accuracy: 0.8762\n",
      "Epoch 135/200\n",
      "673/673 [==============================] - 6s 8ms/step - loss: 0.0571 - accuracy: 0.9836 - val_loss: 0.7425 - val_accuracy: 0.8628\n",
      "Epoch 136/200\n",
      "673/673 [==============================] - 6s 8ms/step - loss: 0.0687 - accuracy: 0.9794 - val_loss: 0.6883 - val_accuracy: 0.8576\n",
      "Epoch 137/200\n",
      "673/673 [==============================] - 6s 8ms/step - loss: 0.0590 - accuracy: 0.9830 - val_loss: 0.7038 - val_accuracy: 0.8784\n",
      "Epoch 138/200\n",
      "673/673 [==============================] - 6s 8ms/step - loss: 0.0689 - accuracy: 0.9806 - val_loss: 0.6003 - val_accuracy: 0.8710\n",
      "Epoch 139/200\n",
      "673/673 [==============================] - 6s 8ms/step - loss: 0.0548 - accuracy: 0.9831 - val_loss: 0.6614 - val_accuracy: 0.8706\n",
      "Epoch 140/200\n",
      "673/673 [==============================] - 6s 8ms/step - loss: 0.0654 - accuracy: 0.9813 - val_loss: 0.8165 - val_accuracy: 0.8409\n",
      "Epoch 141/200\n",
      "673/673 [==============================] - 5s 8ms/step - loss: 0.0712 - accuracy: 0.9814 - val_loss: 0.6582 - val_accuracy: 0.8747\n",
      "Epoch 142/200\n",
      "673/673 [==============================] - 6s 8ms/step - loss: 0.0607 - accuracy: 0.9815 - val_loss: 0.7323 - val_accuracy: 0.8717\n",
      "Epoch 143/200\n",
      "673/673 [==============================] - 5s 8ms/step - loss: 0.0506 - accuracy: 0.9843 - val_loss: 0.7144 - val_accuracy: 0.8706\n",
      "Epoch 144/200\n",
      "673/673 [==============================] - 5s 8ms/step - loss: 0.0547 - accuracy: 0.9835 - val_loss: 0.7138 - val_accuracy: 0.8747\n",
      "Epoch 145/200\n",
      "673/673 [==============================] - 5s 8ms/step - loss: 0.0769 - accuracy: 0.9788 - val_loss: 0.6661 - val_accuracy: 0.8621\n",
      "Epoch 146/200\n",
      "673/673 [==============================] - 5s 8ms/step - loss: 0.0583 - accuracy: 0.9822 - val_loss: 0.7031 - val_accuracy: 0.8688\n",
      "Epoch 147/200\n",
      "673/673 [==============================] - 6s 8ms/step - loss: 0.0628 - accuracy: 0.9822 - val_loss: 0.7517 - val_accuracy: 0.8665\n",
      "Epoch 148/200\n",
      "673/673 [==============================] - 5s 8ms/step - loss: 0.0581 - accuracy: 0.9824 - val_loss: 0.6649 - val_accuracy: 0.8706\n",
      "Epoch 149/200\n",
      "668/673 [============================>.] - ETA: 0s - loss: 0.0628 - accuracy: 0.9813"
     ]
    },
    {
     "name": "stderr",
     "output_type": "stream",
     "text": [
      "WARNING:absl:Found untraced functions such as _update_step_xla while saving (showing 1 of 1). These functions will not be directly callable after loading.\n"
     ]
    },
    {
     "name": "stdout",
     "output_type": "stream",
     "text": [
      "INFO:tensorflow:Assets written to: ./model2_chkpnt_20221129/Split_DNN_model2_checkpoint_149-0.88/assets\n"
     ]
    },
    {
     "name": "stderr",
     "output_type": "stream",
     "text": [
      "INFO:tensorflow:Assets written to: ./model2_chkpnt_20221129/Split_DNN_model2_checkpoint_149-0.88/assets\n"
     ]
    },
    {
     "name": "stdout",
     "output_type": "stream",
     "text": [
      "673/673 [==============================] - 7s 10ms/step - loss: 0.0625 - accuracy: 0.9815 - val_loss: 0.6603 - val_accuracy: 0.8825\n",
      "Epoch 150/200\n",
      "673/673 [==============================] - 6s 9ms/step - loss: 0.0456 - accuracy: 0.9862 - val_loss: 0.7384 - val_accuracy: 0.8691\n",
      "Epoch 151/200\n",
      "673/673 [==============================] - 6s 9ms/step - loss: 0.0673 - accuracy: 0.9803 - val_loss: 0.6288 - val_accuracy: 0.8691\n",
      "Epoch 152/200\n",
      "673/673 [==============================] - 6s 9ms/step - loss: 0.0609 - accuracy: 0.9817 - val_loss: 0.6418 - val_accuracy: 0.8747\n",
      "Epoch 153/200\n",
      "673/673 [==============================] - 6s 9ms/step - loss: 0.0513 - accuracy: 0.9862 - val_loss: 0.6996 - val_accuracy: 0.8680\n",
      "Epoch 154/200\n",
      "673/673 [==============================] - 6s 9ms/step - loss: 0.0621 - accuracy: 0.9811 - val_loss: 0.6551 - val_accuracy: 0.8732\n",
      "Epoch 155/200\n",
      "673/673 [==============================] - 6s 9ms/step - loss: 0.0576 - accuracy: 0.9826 - val_loss: 0.7792 - val_accuracy: 0.8695\n",
      "Epoch 156/200\n",
      "673/673 [==============================] - 6s 9ms/step - loss: 0.0553 - accuracy: 0.9826 - val_loss: 0.7890 - val_accuracy: 0.8732\n",
      "Epoch 157/200\n",
      "673/673 [==============================] - 6s 9ms/step - loss: 0.0484 - accuracy: 0.9846 - val_loss: 0.6933 - val_accuracy: 0.8732\n",
      "Epoch 158/200\n",
      "673/673 [==============================] - 6s 9ms/step - loss: 0.0698 - accuracy: 0.9804 - val_loss: 0.7297 - val_accuracy: 0.8442\n",
      "Epoch 159/200\n",
      "673/673 [==============================] - 6s 9ms/step - loss: 0.0665 - accuracy: 0.9801 - val_loss: 0.6510 - val_accuracy: 0.8781\n",
      "Epoch 160/200\n",
      "673/673 [==============================] - 6s 9ms/step - loss: 0.0503 - accuracy: 0.9852 - val_loss: 0.8117 - val_accuracy: 0.8732\n",
      "Epoch 161/200\n",
      "673/673 [==============================] - 6s 9ms/step - loss: 0.0534 - accuracy: 0.9840 - val_loss: 0.8168 - val_accuracy: 0.8695\n",
      "Epoch 162/200\n",
      "673/673 [==============================] - 6s 9ms/step - loss: 0.0502 - accuracy: 0.9850 - val_loss: 0.6568 - val_accuracy: 0.8721\n",
      "Epoch 163/200\n",
      "673/673 [==============================] - 6s 9ms/step - loss: 0.0587 - accuracy: 0.9841 - val_loss: 0.6920 - val_accuracy: 0.8580\n",
      "Epoch 164/200\n",
      "673/673 [==============================] - 6s 9ms/step - loss: 0.0589 - accuracy: 0.9824 - val_loss: 0.7573 - val_accuracy: 0.8625\n",
      "Epoch 165/200\n",
      "673/673 [==============================] - 6s 9ms/step - loss: 0.0631 - accuracy: 0.9820 - val_loss: 0.7093 - val_accuracy: 0.8714\n",
      "Epoch 166/200\n",
      "673/673 [==============================] - 6s 9ms/step - loss: 0.0509 - accuracy: 0.9855 - val_loss: 0.7172 - val_accuracy: 0.8762\n",
      "Epoch 167/200\n",
      "673/673 [==============================] - 6s 9ms/step - loss: 0.0527 - accuracy: 0.9842 - val_loss: 0.7518 - val_accuracy: 0.8699\n",
      "Epoch 168/200\n",
      "673/673 [==============================] - 6s 9ms/step - loss: 0.0483 - accuracy: 0.9858 - val_loss: 0.7608 - val_accuracy: 0.8703\n",
      "Epoch 169/200\n",
      "673/673 [==============================] - 6s 9ms/step - loss: 0.0450 - accuracy: 0.9872 - val_loss: 0.8136 - val_accuracy: 0.8647\n",
      "Epoch 170/200\n",
      "673/673 [==============================] - 6s 9ms/step - loss: 0.0529 - accuracy: 0.9846 - val_loss: 0.7212 - val_accuracy: 0.8706\n",
      "Epoch 171/200\n",
      "673/673 [==============================] - 6s 9ms/step - loss: 0.0579 - accuracy: 0.9844 - val_loss: 0.7264 - val_accuracy: 0.8788\n",
      "Epoch 172/200\n",
      "673/673 [==============================] - 6s 9ms/step - loss: 0.0728 - accuracy: 0.9811 - val_loss: 0.6923 - val_accuracy: 0.8699\n",
      "Epoch 173/200\n",
      "673/673 [==============================] - 6s 9ms/step - loss: 0.0492 - accuracy: 0.9851 - val_loss: 0.7284 - val_accuracy: 0.8758\n",
      "Epoch 174/200\n",
      "673/673 [==============================] - 6s 9ms/step - loss: 0.0704 - accuracy: 0.9816 - val_loss: 0.6639 - val_accuracy: 0.8796\n",
      "Epoch 175/200\n",
      "673/673 [==============================] - 6s 9ms/step - loss: 0.0438 - accuracy: 0.9878 - val_loss: 0.7760 - val_accuracy: 0.8684\n",
      "Epoch 176/200\n",
      "673/673 [==============================] - 6s 9ms/step - loss: 0.0530 - accuracy: 0.9858 - val_loss: 0.7593 - val_accuracy: 0.8587\n",
      "Epoch 177/200\n",
      "673/673 [==============================] - 6s 9ms/step - loss: 0.0487 - accuracy: 0.9870 - val_loss: 0.7418 - val_accuracy: 0.8807\n",
      "Epoch 178/200\n",
      "673/673 [==============================] - 6s 9ms/step - loss: 0.0493 - accuracy: 0.9862 - val_loss: 0.6863 - val_accuracy: 0.8673\n",
      "Epoch 179/200\n",
      "673/673 [==============================] - 6s 9ms/step - loss: 0.0554 - accuracy: 0.9834 - val_loss: 0.7137 - val_accuracy: 0.8758\n",
      "Epoch 180/200\n",
      "673/673 [==============================] - 6s 9ms/step - loss: 0.0503 - accuracy: 0.9852 - val_loss: 0.7690 - val_accuracy: 0.8706\n",
      "Epoch 181/200\n",
      "673/673 [==============================] - 6s 9ms/step - loss: 0.0452 - accuracy: 0.9867 - val_loss: 0.7398 - val_accuracy: 0.8740\n",
      "Epoch 182/200\n",
      "673/673 [==============================] - 6s 9ms/step - loss: 0.0482 - accuracy: 0.9863 - val_loss: 0.7749 - val_accuracy: 0.8569\n",
      "Epoch 183/200\n",
      "673/673 [==============================] - 6s 9ms/step - loss: 0.0473 - accuracy: 0.9858 - val_loss: 0.8763 - val_accuracy: 0.8572\n",
      "Epoch 184/200\n",
      "673/673 [==============================] - 6s 9ms/step - loss: 0.0426 - accuracy: 0.9881 - val_loss: 0.8311 - val_accuracy: 0.8677\n",
      "Epoch 185/200\n",
      "673/673 [==============================] - 6s 9ms/step - loss: 0.0579 - accuracy: 0.9849 - val_loss: 0.8349 - val_accuracy: 0.8550\n",
      "Epoch 186/200\n",
      "673/673 [==============================] - 6s 9ms/step - loss: 0.0700 - accuracy: 0.9809 - val_loss: 0.7322 - val_accuracy: 0.8736\n",
      "Epoch 187/200\n",
      "673/673 [==============================] - 6s 9ms/step - loss: 0.0510 - accuracy: 0.9850 - val_loss: 0.7756 - val_accuracy: 0.8792\n",
      "Epoch 188/200\n",
      "673/673 [==============================] - 6s 9ms/step - loss: 0.0463 - accuracy: 0.9868 - val_loss: 0.7506 - val_accuracy: 0.8770\n",
      "Epoch 189/200\n",
      "673/673 [==============================] - 6s 9ms/step - loss: 0.0520 - accuracy: 0.9855 - val_loss: 0.8186 - val_accuracy: 0.8651\n",
      "Epoch 190/200\n",
      "673/673 [==============================] - 6s 9ms/step - loss: 0.0423 - accuracy: 0.9883 - val_loss: 0.7677 - val_accuracy: 0.8613\n",
      "Epoch 191/200\n",
      "673/673 [==============================] - 6s 9ms/step - loss: 0.0558 - accuracy: 0.9847 - val_loss: 0.8146 - val_accuracy: 0.8680\n",
      "Epoch 192/200\n",
      "673/673 [==============================] - 6s 9ms/step - loss: 0.0523 - accuracy: 0.9855 - val_loss: 0.7897 - val_accuracy: 0.8673\n",
      "Epoch 193/200\n",
      "673/673 [==============================] - 6s 9ms/step - loss: 0.0473 - accuracy: 0.9873 - val_loss: 0.7292 - val_accuracy: 0.8725\n",
      "Epoch 194/200\n",
      "673/673 [==============================] - 6s 9ms/step - loss: 0.0355 - accuracy: 0.9897 - val_loss: 0.8428 - val_accuracy: 0.8669\n",
      "Epoch 195/200\n",
      "673/673 [==============================] - 6s 9ms/step - loss: 0.0523 - accuracy: 0.9842 - val_loss: 0.7338 - val_accuracy: 0.8758\n",
      "Epoch 196/200\n",
      "673/673 [==============================] - 6s 9ms/step - loss: 0.0449 - accuracy: 0.9880 - val_loss: 0.8335 - val_accuracy: 0.8439\n",
      "Epoch 197/200\n",
      "673/673 [==============================] - 6s 9ms/step - loss: 0.0585 - accuracy: 0.9839 - val_loss: 0.8144 - val_accuracy: 0.8773\n",
      "Epoch 198/200\n",
      "673/673 [==============================] - 6s 9ms/step - loss: 0.0360 - accuracy: 0.9891 - val_loss: 0.8752 - val_accuracy: 0.8517\n",
      "Epoch 199/200\n",
      "673/673 [==============================] - 6s 9ms/step - loss: 0.0481 - accuracy: 0.9860 - val_loss: 0.8229 - val_accuracy: 0.8669\n",
      "Epoch 200/200\n",
      "673/673 [==============================] - 6s 9ms/step - loss: 0.0782 - accuracy: 0.9789 - val_loss: 0.7000 - val_accuracy: 0.8643\n"
     ]
    },
    {
     "name": "stderr",
     "output_type": "stream",
     "text": [
      "WARNING:absl:Found untraced functions such as _update_step_xla while saving (showing 1 of 1). These functions will not be directly callable after loading.\n"
     ]
    },
    {
     "name": "stdout",
     "output_type": "stream",
     "text": [
      "INFO:tensorflow:Assets written to: ./model2_chkpnt_20221129/simple_dnn_model_v2_higher_epochs/assets\n"
     ]
    },
    {
     "name": "stderr",
     "output_type": "stream",
     "text": [
      "INFO:tensorflow:Assets written to: ./model2_chkpnt_20221129/simple_dnn_model_v2_higher_epochs/assets\n"
     ]
    }
   ],
   "source": [
    "# Split DNN model with flatten in the beginning and no regularization/dropout\n",
    "\n",
    "model2.compile(optimizer = 'adam',\n",
    "                     loss='categorical_crossentropy',\n",
    "                     metrics = ['accuracy']\n",
    "                     )\n",
    "\n",
    "checkpoint_filepath = './model2_chkpnt_20221129/Split_DNN_model2_checkpoint_{epoch:03d}-{val_accuracy:.2f}'\n",
    "\n",
    "model_checkpoint_callback = tf.keras.callbacks.ModelCheckpoint(\n",
    "    filepath=checkpoint_filepath,\n",
    "    save_weights_only=False,\n",
    "    monitor='val_accuracy',\n",
    "    mode='max',\n",
    "    save_best_only=True)\n",
    "\n",
    "h2 = model2.fit({'audio_in': x_train_audio, 'theme_in': x_train_theme},{'op': y_train},\n",
    "              epochs=200, batch_size=32,\n",
    "            validation_data=({'audio_in': x_test_audio, 'theme_in': x_test_theme},{'op': y_test}),\n",
    "            callbacks=[model_checkpoint_callback])\n",
    "\n",
    "\n",
    "model2.save('./model2_chkpnt_20221129/simple_dnn_model_v2_higher_epochs')\n"
   ]
  },
  {
   "cell_type": "code",
   "execution_count": 30,
   "metadata": {
    "slideshow": {
     "slide_type": "subslide"
    }
   },
   "outputs": [
    {
     "data": {
      "image/png": "[encoded data removed]",
      "text/plain": [
       "<Figure size 1200x500 with 2 Axes>"
      ]
     },
     "metadata": {},
     "output_type": "display_data"
    }
   ],
   "source": [
    "plot_history(h2)"
   ]
  },
  {
   "cell_type": "code",
   "execution_count": 31,
   "metadata": {
    "slideshow": {
     "slide_type": "subslide"
    }
   },
   "outputs": [
    {
     "name": "stdout",
     "output_type": "stream",
     "text": [
      "673/673 [==============================] - 2s 3ms/step - loss: 0.0517 - accuracy: 0.9849\n",
      "85/85 [==============================] - 0s 3ms/step - loss: 0.7000 - accuracy: 0.8643\n",
      "85/85 [==============================] - 0s 3ms/step - loss: 0.8013 - accuracy: 0.8535\n",
      "train accuracy : 0.984944224357605 | valid accuracy : 0.8643122911453247 | test accuracy : 0.8535315990447998\n"
     ]
    }
   ],
   "source": [
    "accuracy_score('./model2_chkpnt_20221129/simple_dnn_model_v2_higher_epochs')"
   ]
  },
  {
   "cell_type": "markdown",
   "metadata": {
    "slideshow": {
     "slide_type": "slide"
    }
   },
   "source": [
    "The previous architecture seems to be giving good results in 50 epochs itself. When we train longer for 200 epochs, the model shows signs of overfitting.\n",
    "\n",
    "In both shorter and longer training models, the validation and test accuracy remains arounds 85% &pm; 1% - 2%\n",
    "\n",
    "It would be recommended to try similar architecture with some regularization to see if we can cross the 90% validation/test accuracy barrier"
   ]
  },
  {
   "cell_type": "markdown",
   "metadata": {
    "slideshow": {
     "slide_type": "slide"
    }
   },
   "source": [
    "Creating the next model with greater height and width and no regularization to see if it yields better results\n",
    "\n",
    "Increasing dense layer processing for both audio and theme data splits as well as for the concatenated data"
   ]
  },
  {
   "cell_type": "code",
   "execution_count": 36,
   "metadata": {
    "slideshow": {
     "slide_type": "subslide"
    }
   },
   "outputs": [
    {
     "name": "stdout",
     "output_type": "stream",
     "text": [
      "Model: \"model_4\"\n",
      "__________________________________________________________________________________________________\n",
      " Layer (type)                   Output Shape         Param #     Connected to                     \n",
      "==================================================================================================\n",
      " audio_in (InputLayer)          [(None, 250, 15)]    0           []                               \n",
      "                                                                                                  \n",
      " flatten_8 (Flatten)            (None, 3750)         0           ['audio_in[0][0]']               \n",
      "                                                                                                  \n",
      " dense_38 (Dense)               (None, 512)          1920512     ['flatten_8[0][0]']              \n",
      "                                                                                                  \n",
      " theme_in (InputLayer)          [(None, 250, 5)]     0           []                               \n",
      "                                                                                                  \n",
      " dense_39 (Dense)               (None, 256)          131328      ['dense_38[0][0]']               \n",
      "                                                                                                  \n",
      " flatten_9 (Flatten)            (None, 1250)         0           ['theme_in[0][0]']               \n",
      "                                                                                                  \n",
      " dense_40 (Dense)               (None, 128)          32896       ['dense_39[0][0]']               \n",
      "                                                                                                  \n",
      " dense_42 (Dense)               (None, 128)          160128      ['flatten_9[0][0]']              \n",
      "                                                                                                  \n",
      " dense_41 (Dense)               (None, 64)           8256        ['dense_40[0][0]']               \n",
      "                                                                                                  \n",
      " dense_43 (Dense)               (None, 64)           8256        ['dense_42[0][0]']               \n",
      "                                                                                                  \n",
      " concatenate_4 (Concatenate)    (None, 128)          0           ['dense_41[0][0]',               \n",
      "                                                                  'dense_43[0][0]']               \n",
      "                                                                                                  \n",
      " dense_44 (Dense)               (None, 128)          16512       ['concatenate_4[0][0]']          \n",
      "                                                                                                  \n",
      " dense_45 (Dense)               (None, 128)          16512       ['dense_44[0][0]']               \n",
      "                                                                                                  \n",
      " dense_46 (Dense)               (None, 64)           8256        ['dense_45[0][0]']               \n",
      "                                                                                                  \n",
      " dense_47 (Dense)               (None, 32)           2080        ['dense_46[0][0]']               \n",
      "                                                                                                  \n",
      " dense_48 (Dense)               (None, 16)           528         ['dense_47[0][0]']               \n",
      "                                                                                                  \n",
      " op (Dense)                     (None, 7)            119         ['dense_48[0][0]']               \n",
      "                                                                                                  \n",
      "==================================================================================================\n",
      "Total params: 2,305,383\n",
      "Trainable params: 2,305,383\n",
      "Non-trainable params: 0\n",
      "__________________________________________________________________________________________________\n"
     ]
    }
   ],
   "source": [
    "# Input layers\n",
    "audio_in = Input(shape=(x_train_audio.shape[1], x_train_audio.shape[2]), name='audio_in')\n",
    "theme_in = Input(shape=(x_train_theme.shape[1], x_train_theme.shape[2]), name='theme_in')\n",
    "\n",
    "# Audio layer\n",
    "audio_flat = Flatten()(audio_in) \n",
    "audio_dense1 = Dense(512, activation='relu')(audio_flat)\n",
    "audio_dense2 = Dense(256, activation='relu')(audio_dense1)\n",
    "audio_dense3 = Dense(128, activation='relu')(audio_dense2)\n",
    "audio_dense4 = Dense(64, activation='relu')(audio_dense3)\n",
    "\n",
    "\n",
    "# Theme layer\n",
    "theme_flat = Flatten()(theme_in)\n",
    "theme_dense1 = Dense(128, activation='relu')(theme_flat)\n",
    "theme_dense2 = Dense(64, activation='relu')(theme_dense1)\n",
    "\n",
    "# Concatenate\n",
    "concat = concatenate([audio_dense4, theme_dense2])\n",
    "dense1 = Dense(128, activation='relu')(concat)\n",
    "dense2 = Dense(128, activation='relu')(dense1)\n",
    "dense3 = Dense(64, activation='relu')(dense2)\n",
    "dense4 = Dense(32, activation='relu')(dense3)\n",
    "dense5 = Dense(16, activation='relu')(dense4)\n",
    "op = Dense(7, activation='softmax',name='op')(dense5)\n",
    "\n",
    "\n",
    "model3 = Model(inputs=[audio_in, theme_in], outputs=[op])\n",
    "\n",
    "model3.summary()"
   ]
  },
  {
   "cell_type": "markdown",
   "metadata": {
    "slideshow": {
     "slide_type": "slide"
    }
   },
   "source": [
    "Similar to the previous models, we get a model with ~95% test acccuracy and ~86% validation accuracy\n",
    "\n"
   ]
  },
  {
   "cell_type": "code",
   "execution_count": 37,
   "metadata": {
    "slideshow": {
     "slide_type": "subslide"
    }
   },
   "outputs": [
    {
     "name": "stdout",
     "output_type": "stream",
     "text": [
      "Epoch 1/50\n",
      "673/673 [==============================] - ETA: 0s - loss: 1.7797 - accuracy: 0.3255"
     ]
    },
    {
     "name": "stderr",
     "output_type": "stream",
     "text": [
      "WARNING:absl:Found untraced functions such as _update_step_xla while saving (showing 1 of 1). These functions will not be directly callable after loading.\n"
     ]
    },
    {
     "name": "stdout",
     "output_type": "stream",
     "text": [
      "INFO:tensorflow:Assets written to: ./model3_chkpnt_20221129/Split_DNN_model3_checkpoint_01-0.43/assets\n"
     ]
    },
    {
     "name": "stderr",
     "output_type": "stream",
     "text": [
      "INFO:tensorflow:Assets written to: ./model3_chkpnt_20221129/Split_DNN_model3_checkpoint_01-0.43/assets\n"
     ]
    },
    {
     "name": "stdout",
     "output_type": "stream",
     "text": [
      "673/673 [==============================] - 14s 18ms/step - loss: 1.7797 - accuracy: 0.3255 - val_loss: 1.5555 - val_accuracy: 0.4279\n",
      "Epoch 2/50\n",
      "671/673 [============================>.] - ETA: 0s - loss: 1.4201 - accuracy: 0.4755"
     ]
    },
    {
     "name": "stderr",
     "output_type": "stream",
     "text": [
      "WARNING:absl:Found untraced functions such as _update_step_xla while saving (showing 1 of 1). These functions will not be directly callable after loading.\n"
     ]
    },
    {
     "name": "stdout",
     "output_type": "stream",
     "text": [
      "INFO:tensorflow:Assets written to: ./model3_chkpnt_20221129/Split_DNN_model3_checkpoint_02-0.52/assets\n"
     ]
    },
    {
     "name": "stderr",
     "output_type": "stream",
     "text": [
      "INFO:tensorflow:Assets written to: ./model3_chkpnt_20221129/Split_DNN_model3_checkpoint_02-0.52/assets\n"
     ]
    },
    {
     "name": "stdout",
     "output_type": "stream",
     "text": [
      "673/673 [==============================] - 12s 18ms/step - loss: 1.4197 - accuracy: 0.4757 - val_loss: 1.3242 - val_accuracy: 0.5201\n",
      "Epoch 3/50\n",
      "670/673 [============================>.] - ETA: 0s - loss: 1.1463 - accuracy: 0.5919"
     ]
    },
    {
     "name": "stderr",
     "output_type": "stream",
     "text": [
      "WARNING:absl:Found untraced functions such as _update_step_xla while saving (showing 1 of 1). These functions will not be directly callable after loading.\n"
     ]
    },
    {
     "name": "stdout",
     "output_type": "stream",
     "text": [
      "INFO:tensorflow:Assets written to: ./model3_chkpnt_20221129/Split_DNN_model3_checkpoint_03-0.62/assets\n"
     ]
    },
    {
     "name": "stderr",
     "output_type": "stream",
     "text": [
      "INFO:tensorflow:Assets written to: ./model3_chkpnt_20221129/Split_DNN_model3_checkpoint_03-0.62/assets\n"
     ]
    },
    {
     "name": "stdout",
     "output_type": "stream",
     "text": [
      "673/673 [==============================] - 13s 19ms/step - loss: 1.1466 - accuracy: 0.5918 - val_loss: 1.0701 - val_accuracy: 0.6186\n",
      "Epoch 4/50\n",
      "672/673 [============================>.] - ETA: 0s - loss: 0.9375 - accuracy: 0.6725"
     ]
    },
    {
     "name": "stderr",
     "output_type": "stream",
     "text": [
      "WARNING:absl:Found untraced functions such as _update_step_xla while saving (showing 1 of 1). These functions will not be directly callable after loading.\n"
     ]
    },
    {
     "name": "stdout",
     "output_type": "stream",
     "text": [
      "INFO:tensorflow:Assets written to: ./model3_chkpnt_20221129/Split_DNN_model3_checkpoint_04-0.69/assets\n"
     ]
    },
    {
     "name": "stderr",
     "output_type": "stream",
     "text": [
      "INFO:tensorflow:Assets written to: ./model3_chkpnt_20221129/Split_DNN_model3_checkpoint_04-0.69/assets\n"
     ]
    },
    {
     "name": "stdout",
     "output_type": "stream",
     "text": [
      "673/673 [==============================] - 12s 18ms/step - loss: 0.9373 - accuracy: 0.6726 - val_loss: 0.8951 - val_accuracy: 0.6941\n",
      "Epoch 5/50\n",
      "671/673 [============================>.] - ETA: 0s - loss: 0.7779 - accuracy: 0.7294"
     ]
    },
    {
     "name": "stderr",
     "output_type": "stream",
     "text": [
      "WARNING:absl:Found untraced functions such as _update_step_xla while saving (showing 1 of 1). These functions will not be directly callable after loading.\n"
     ]
    },
    {
     "name": "stdout",
     "output_type": "stream",
     "text": [
      "INFO:tensorflow:Assets written to: ./model3_chkpnt_20221129/Split_DNN_model3_checkpoint_05-0.71/assets\n"
     ]
    },
    {
     "name": "stderr",
     "output_type": "stream",
     "text": [
      "INFO:tensorflow:Assets written to: ./model3_chkpnt_20221129/Split_DNN_model3_checkpoint_05-0.71/assets\n"
     ]
    },
    {
     "name": "stdout",
     "output_type": "stream",
     "text": [
      "673/673 [==============================] - 12s 18ms/step - loss: 0.7776 - accuracy: 0.7295 - val_loss: 0.8493 - val_accuracy: 0.7108\n",
      "Epoch 6/50\n",
      "670/673 [============================>.] - ETA: 0s - loss: 0.6857 - accuracy: 0.7609"
     ]
    },
    {
     "name": "stderr",
     "output_type": "stream",
     "text": [
      "WARNING:absl:Found untraced functions such as _update_step_xla while saving (showing 1 of 1). These functions will not be directly callable after loading.\n"
     ]
    },
    {
     "name": "stdout",
     "output_type": "stream",
     "text": [
      "INFO:tensorflow:Assets written to: ./model3_chkpnt_20221129/Split_DNN_model3_checkpoint_06-0.74/assets\n"
     ]
    },
    {
     "name": "stderr",
     "output_type": "stream",
     "text": [
      "INFO:tensorflow:Assets written to: ./model3_chkpnt_20221129/Split_DNN_model3_checkpoint_06-0.74/assets\n"
     ]
    },
    {
     "name": "stdout",
     "output_type": "stream",
     "text": [
      "673/673 [==============================] - 12s 18ms/step - loss: 0.6866 - accuracy: 0.7606 - val_loss: 0.7544 - val_accuracy: 0.7428\n",
      "Epoch 7/50\n",
      "672/673 [============================>.] - ETA: 0s - loss: 0.6200 - accuracy: 0.7828"
     ]
    },
    {
     "name": "stderr",
     "output_type": "stream",
     "text": [
      "WARNING:absl:Found untraced functions such as _update_step_xla while saving (showing 1 of 1). These functions will not be directly callable after loading.\n"
     ]
    },
    {
     "name": "stdout",
     "output_type": "stream",
     "text": [
      "INFO:tensorflow:Assets written to: ./model3_chkpnt_20221129/Split_DNN_model3_checkpoint_07-0.76/assets\n"
     ]
    },
    {
     "name": "stderr",
     "output_type": "stream",
     "text": [
      "INFO:tensorflow:Assets written to: ./model3_chkpnt_20221129/Split_DNN_model3_checkpoint_07-0.76/assets\n"
     ]
    },
    {
     "name": "stdout",
     "output_type": "stream",
     "text": [
      "673/673 [==============================] - 12s 18ms/step - loss: 0.6197 - accuracy: 0.7829 - val_loss: 0.6894 - val_accuracy: 0.7595\n",
      "Epoch 8/50\n",
      "671/673 [============================>.] - ETA: 0s - loss: 0.5901 - accuracy: 0.7916"
     ]
    },
    {
     "name": "stderr",
     "output_type": "stream",
     "text": [
      "WARNING:absl:Found untraced functions such as _update_step_xla while saving (showing 1 of 1). These functions will not be directly callable after loading.\n"
     ]
    },
    {
     "name": "stdout",
     "output_type": "stream",
     "text": [
      "INFO:tensorflow:Assets written to: ./model3_chkpnt_20221129/Split_DNN_model3_checkpoint_08-0.77/assets\n"
     ]
    },
    {
     "name": "stderr",
     "output_type": "stream",
     "text": [
      "INFO:tensorflow:Assets written to: ./model3_chkpnt_20221129/Split_DNN_model3_checkpoint_08-0.77/assets\n"
     ]
    },
    {
     "name": "stdout",
     "output_type": "stream",
     "text": [
      "673/673 [==============================] - 12s 18ms/step - loss: 0.5904 - accuracy: 0.7915 - val_loss: 0.6679 - val_accuracy: 0.7677\n",
      "Epoch 9/50\n",
      "672/673 [============================>.] - ETA: 0s - loss: 0.5455 - accuracy: 0.8094"
     ]
    },
    {
     "name": "stderr",
     "output_type": "stream",
     "text": [
      "WARNING:absl:Found untraced functions such as _update_step_xla while saving (showing 1 of 1). These functions will not be directly callable after loading.\n"
     ]
    },
    {
     "name": "stdout",
     "output_type": "stream",
     "text": [
      "INFO:tensorflow:Assets written to: ./model3_chkpnt_20221129/Split_DNN_model3_checkpoint_09-0.78/assets\n"
     ]
    },
    {
     "name": "stderr",
     "output_type": "stream",
     "text": [
      "INFO:tensorflow:Assets written to: ./model3_chkpnt_20221129/Split_DNN_model3_checkpoint_09-0.78/assets\n"
     ]
    },
    {
     "name": "stdout",
     "output_type": "stream",
     "text": [
      "673/673 [==============================] - 12s 17ms/step - loss: 0.5456 - accuracy: 0.8094 - val_loss: 0.6331 - val_accuracy: 0.7833\n",
      "Epoch 10/50\n",
      "673/673 [==============================] - 10s 15ms/step - loss: 0.5224 - accuracy: 0.8151 - val_loss: 0.6293 - val_accuracy: 0.7777\n",
      "Epoch 11/50\n",
      "673/673 [==============================] - ETA: 0s - loss: 0.4883 - accuracy: 0.8283"
     ]
    },
    {
     "name": "stderr",
     "output_type": "stream",
     "text": [
      "WARNING:absl:Found untraced functions such as _update_step_xla while saving (showing 1 of 1). These functions will not be directly callable after loading.\n"
     ]
    },
    {
     "name": "stdout",
     "output_type": "stream",
     "text": [
      "INFO:tensorflow:Assets written to: ./model3_chkpnt_20221129/Split_DNN_model3_checkpoint_11-0.79/assets\n"
     ]
    },
    {
     "name": "stderr",
     "output_type": "stream",
     "text": [
      "INFO:tensorflow:Assets written to: ./model3_chkpnt_20221129/Split_DNN_model3_checkpoint_11-0.79/assets\n"
     ]
    },
    {
     "name": "stdout",
     "output_type": "stream",
     "text": [
      "673/673 [==============================] - 12s 17ms/step - loss: 0.4883 - accuracy: 0.8283 - val_loss: 0.6203 - val_accuracy: 0.7903\n",
      "Epoch 12/50\n",
      "672/673 [============================>.] - ETA: 0s - loss: 0.4657 - accuracy: 0.8352"
     ]
    },
    {
     "name": "stderr",
     "output_type": "stream",
     "text": [
      "WARNING:absl:Found untraced functions such as _update_step_xla while saving (showing 1 of 1). These functions will not be directly callable after loading.\n"
     ]
    },
    {
     "name": "stdout",
     "output_type": "stream",
     "text": [
      "INFO:tensorflow:Assets written to: ./model3_chkpnt_20221129/Split_DNN_model3_checkpoint_12-0.80/assets\n"
     ]
    },
    {
     "name": "stderr",
     "output_type": "stream",
     "text": [
      "INFO:tensorflow:Assets written to: ./model3_chkpnt_20221129/Split_DNN_model3_checkpoint_12-0.80/assets\n"
     ]
    },
    {
     "name": "stdout",
     "output_type": "stream",
     "text": [
      "673/673 [==============================] - 12s 17ms/step - loss: 0.4655 - accuracy: 0.8353 - val_loss: 0.6113 - val_accuracy: 0.7981\n",
      "Epoch 13/50\n",
      "670/673 [============================>.] - ETA: 0s - loss: 0.4332 - accuracy: 0.8439"
     ]
    },
    {
     "name": "stderr",
     "output_type": "stream",
     "text": [
      "WARNING:absl:Found untraced functions such as _update_step_xla while saving (showing 1 of 1). These functions will not be directly callable after loading.\n"
     ]
    },
    {
     "name": "stdout",
     "output_type": "stream",
     "text": [
      "INFO:tensorflow:Assets written to: ./model3_chkpnt_20221129/Split_DNN_model3_checkpoint_13-0.80/assets\n"
     ]
    },
    {
     "name": "stderr",
     "output_type": "stream",
     "text": [
      "INFO:tensorflow:Assets written to: ./model3_chkpnt_20221129/Split_DNN_model3_checkpoint_13-0.80/assets\n"
     ]
    },
    {
     "name": "stdout",
     "output_type": "stream",
     "text": [
      "673/673 [==============================] - 13s 19ms/step - loss: 0.4331 - accuracy: 0.8440 - val_loss: 0.5780 - val_accuracy: 0.8030\n",
      "Epoch 14/50\n",
      "673/673 [==============================] - ETA: 0s - loss: 0.4211 - accuracy: 0.8511"
     ]
    },
    {
     "name": "stderr",
     "output_type": "stream",
     "text": [
      "WARNING:absl:Found untraced functions such as _update_step_xla while saving (showing 1 of 1). These functions will not be directly callable after loading.\n"
     ]
    },
    {
     "name": "stdout",
     "output_type": "stream",
     "text": [
      "INFO:tensorflow:Assets written to: ./model3_chkpnt_20221129/Split_DNN_model3_checkpoint_14-0.81/assets\n"
     ]
    },
    {
     "name": "stderr",
     "output_type": "stream",
     "text": [
      "INFO:tensorflow:Assets written to: ./model3_chkpnt_20221129/Split_DNN_model3_checkpoint_14-0.81/assets\n"
     ]
    },
    {
     "name": "stdout",
     "output_type": "stream",
     "text": [
      "673/673 [==============================] - 12s 18ms/step - loss: 0.4211 - accuracy: 0.8511 - val_loss: 0.5678 - val_accuracy: 0.8130\n",
      "Epoch 15/50\n",
      "673/673 [==============================] - 10s 15ms/step - loss: 0.4047 - accuracy: 0.8587 - val_loss: 0.5501 - val_accuracy: 0.8123\n",
      "Epoch 16/50\n",
      "670/673 [============================>.] - ETA: 0s - loss: 0.3833 - accuracy: 0.8655"
     ]
    },
    {
     "name": "stderr",
     "output_type": "stream",
     "text": [
      "WARNING:absl:Found untraced functions such as _update_step_xla while saving (showing 1 of 1). These functions will not be directly callable after loading.\n"
     ]
    },
    {
     "name": "stdout",
     "output_type": "stream",
     "text": [
      "INFO:tensorflow:Assets written to: ./model3_chkpnt_20221129/Split_DNN_model3_checkpoint_16-0.81/assets\n"
     ]
    },
    {
     "name": "stderr",
     "output_type": "stream",
     "text": [
      "INFO:tensorflow:Assets written to: ./model3_chkpnt_20221129/Split_DNN_model3_checkpoint_16-0.81/assets\n"
     ]
    },
    {
     "name": "stdout",
     "output_type": "stream",
     "text": [
      "673/673 [==============================] - 12s 18ms/step - loss: 0.3836 - accuracy: 0.8654 - val_loss: 0.5839 - val_accuracy: 0.8134\n",
      "Epoch 17/50\n",
      "672/673 [============================>.] - ETA: 0s - loss: 0.3555 - accuracy: 0.8730"
     ]
    },
    {
     "name": "stderr",
     "output_type": "stream",
     "text": [
      "WARNING:absl:Found untraced functions such as _update_step_xla while saving (showing 1 of 1). These functions will not be directly callable after loading.\n"
     ]
    },
    {
     "name": "stdout",
     "output_type": "stream",
     "text": [
      "INFO:tensorflow:Assets written to: ./model3_chkpnt_20221129/Split_DNN_model3_checkpoint_17-0.82/assets\n"
     ]
    },
    {
     "name": "stderr",
     "output_type": "stream",
     "text": [
      "INFO:tensorflow:Assets written to: ./model3_chkpnt_20221129/Split_DNN_model3_checkpoint_17-0.82/assets\n"
     ]
    },
    {
     "name": "stdout",
     "output_type": "stream",
     "text": [
      "673/673 [==============================] - 12s 18ms/step - loss: 0.3559 - accuracy: 0.8728 - val_loss: 0.5291 - val_accuracy: 0.8212\n",
      "Epoch 18/50\n",
      "673/673 [==============================] - 10s 15ms/step - loss: 0.3510 - accuracy: 0.8740 - val_loss: 0.5598 - val_accuracy: 0.8201\n",
      "Epoch 19/50\n",
      "673/673 [==============================] - 10s 15ms/step - loss: 0.3331 - accuracy: 0.8808 - val_loss: 0.5804 - val_accuracy: 0.8190\n",
      "Epoch 20/50\n",
      "673/673 [==============================] - ETA: 0s - loss: 0.3154 - accuracy: 0.8871"
     ]
    },
    {
     "name": "stderr",
     "output_type": "stream",
     "text": [
      "WARNING:absl:Found untraced functions such as _update_step_xla while saving (showing 1 of 1). These functions will not be directly callable after loading.\n"
     ]
    },
    {
     "name": "stdout",
     "output_type": "stream",
     "text": [
      "INFO:tensorflow:Assets written to: ./model3_chkpnt_20221129/Split_DNN_model3_checkpoint_20-0.83/assets\n"
     ]
    },
    {
     "name": "stderr",
     "output_type": "stream",
     "text": [
      "INFO:tensorflow:Assets written to: ./model3_chkpnt_20221129/Split_DNN_model3_checkpoint_20-0.83/assets\n"
     ]
    },
    {
     "name": "stdout",
     "output_type": "stream",
     "text": [
      "673/673 [==============================] - 12s 17ms/step - loss: 0.3154 - accuracy: 0.8871 - val_loss: 0.5173 - val_accuracy: 0.8338\n",
      "Epoch 21/50\n",
      "673/673 [==============================] - 10s 15ms/step - loss: 0.3226 - accuracy: 0.8833 - val_loss: 0.5780 - val_accuracy: 0.8178\n",
      "Epoch 22/50\n",
      "673/673 [==============================] - ETA: 0s - loss: 0.2926 - accuracy: 0.8979"
     ]
    },
    {
     "name": "stderr",
     "output_type": "stream",
     "text": [
      "WARNING:absl:Found untraced functions such as _update_step_xla while saving (showing 1 of 1). These functions will not be directly callable after loading.\n"
     ]
    },
    {
     "name": "stdout",
     "output_type": "stream",
     "text": [
      "INFO:tensorflow:Assets written to: ./model3_chkpnt_20221129/Split_DNN_model3_checkpoint_22-0.84/assets\n"
     ]
    },
    {
     "name": "stderr",
     "output_type": "stream",
     "text": [
      "INFO:tensorflow:Assets written to: ./model3_chkpnt_20221129/Split_DNN_model3_checkpoint_22-0.84/assets\n"
     ]
    },
    {
     "name": "stdout",
     "output_type": "stream",
     "text": [
      "673/673 [==============================] - 12s 17ms/step - loss: 0.2926 - accuracy: 0.8979 - val_loss: 0.4933 - val_accuracy: 0.8428\n",
      "Epoch 23/50\n",
      "673/673 [==============================] - ETA: 0s - loss: 0.2785 - accuracy: 0.9009"
     ]
    },
    {
     "name": "stderr",
     "output_type": "stream",
     "text": [
      "WARNING:absl:Found untraced functions such as _update_step_xla while saving (showing 1 of 1). These functions will not be directly callable after loading.\n"
     ]
    },
    {
     "name": "stdout",
     "output_type": "stream",
     "text": [
      "INFO:tensorflow:Assets written to: ./model3_chkpnt_20221129/Split_DNN_model3_checkpoint_23-0.85/assets\n"
     ]
    },
    {
     "name": "stderr",
     "output_type": "stream",
     "text": [
      "INFO:tensorflow:Assets written to: ./model3_chkpnt_20221129/Split_DNN_model3_checkpoint_23-0.85/assets\n"
     ]
    },
    {
     "name": "stdout",
     "output_type": "stream",
     "text": [
      "673/673 [==============================] - 12s 18ms/step - loss: 0.2785 - accuracy: 0.9009 - val_loss: 0.5152 - val_accuracy: 0.8457\n",
      "Epoch 24/50\n",
      "673/673 [==============================] - 11s 16ms/step - loss: 0.2709 - accuracy: 0.9046 - val_loss: 0.5741 - val_accuracy: 0.8375\n",
      "Epoch 25/50\n",
      "673/673 [==============================] - 10s 15ms/step - loss: 0.2739 - accuracy: 0.9035 - val_loss: 0.5189 - val_accuracy: 0.8431\n",
      "Epoch 26/50\n",
      "672/673 [============================>.] - ETA: 0s - loss: 0.2527 - accuracy: 0.9125"
     ]
    },
    {
     "name": "stderr",
     "output_type": "stream",
     "text": [
      "WARNING:absl:Found untraced functions such as _update_step_xla while saving (showing 1 of 1). These functions will not be directly callable after loading.\n"
     ]
    },
    {
     "name": "stdout",
     "output_type": "stream",
     "text": [
      "INFO:tensorflow:Assets written to: ./model3_chkpnt_20221129/Split_DNN_model3_checkpoint_26-0.85/assets\n"
     ]
    },
    {
     "name": "stderr",
     "output_type": "stream",
     "text": [
      "INFO:tensorflow:Assets written to: ./model3_chkpnt_20221129/Split_DNN_model3_checkpoint_26-0.85/assets\n"
     ]
    },
    {
     "name": "stdout",
     "output_type": "stream",
     "text": [
      "673/673 [==============================] - 12s 18ms/step - loss: 0.2527 - accuracy: 0.9125 - val_loss: 0.5325 - val_accuracy: 0.8472\n",
      "Epoch 27/50\n",
      "673/673 [==============================] - 10s 15ms/step - loss: 0.2438 - accuracy: 0.9152 - val_loss: 0.5455 - val_accuracy: 0.8323\n",
      "Epoch 28/50\n",
      "673/673 [==============================] - 10s 15ms/step - loss: 0.2468 - accuracy: 0.9119 - val_loss: 0.5715 - val_accuracy: 0.8409\n",
      "Epoch 29/50\n",
      "671/673 [============================>.] - ETA: 0s - loss: 0.2243 - accuracy: 0.9219"
     ]
    },
    {
     "name": "stderr",
     "output_type": "stream",
     "text": [
      "WARNING:absl:Found untraced functions such as _update_step_xla while saving (showing 1 of 1). These functions will not be directly callable after loading.\n"
     ]
    },
    {
     "name": "stdout",
     "output_type": "stream",
     "text": [
      "INFO:tensorflow:Assets written to: ./model3_chkpnt_20221129/Split_DNN_model3_checkpoint_29-0.86/assets\n"
     ]
    },
    {
     "name": "stderr",
     "output_type": "stream",
     "text": [
      "INFO:tensorflow:Assets written to: ./model3_chkpnt_20221129/Split_DNN_model3_checkpoint_29-0.86/assets\n"
     ]
    },
    {
     "name": "stdout",
     "output_type": "stream",
     "text": [
      "673/673 [==============================] - 12s 18ms/step - loss: 0.2240 - accuracy: 0.9219 - val_loss: 0.5189 - val_accuracy: 0.8550\n",
      "Epoch 30/50\n",
      "673/673 [==============================] - 10s 15ms/step - loss: 0.2275 - accuracy: 0.9199 - val_loss: 0.5179 - val_accuracy: 0.8442\n",
      "Epoch 31/50\n",
      "671/673 [============================>.] - ETA: 0s - loss: 0.2262 - accuracy: 0.9198"
     ]
    },
    {
     "name": "stderr",
     "output_type": "stream",
     "text": [
      "WARNING:absl:Found untraced functions such as _update_step_xla while saving (showing 1 of 1). These functions will not be directly callable after loading.\n"
     ]
    },
    {
     "name": "stdout",
     "output_type": "stream",
     "text": [
      "INFO:tensorflow:Assets written to: ./model3_chkpnt_20221129/Split_DNN_model3_checkpoint_31-0.87/assets\n"
     ]
    },
    {
     "name": "stderr",
     "output_type": "stream",
     "text": [
      "INFO:tensorflow:Assets written to: ./model3_chkpnt_20221129/Split_DNN_model3_checkpoint_31-0.87/assets\n"
     ]
    },
    {
     "name": "stdout",
     "output_type": "stream",
     "text": [
      "673/673 [==============================] - 12s 17ms/step - loss: 0.2260 - accuracy: 0.9199 - val_loss: 0.5056 - val_accuracy: 0.8695\n",
      "Epoch 32/50\n",
      "673/673 [==============================] - 10s 16ms/step - loss: 0.1979 - accuracy: 0.9314 - val_loss: 0.5635 - val_accuracy: 0.8509\n",
      "Epoch 33/50\n",
      "673/673 [==============================] - 10s 16ms/step - loss: 0.2015 - accuracy: 0.9294 - val_loss: 0.5439 - val_accuracy: 0.8558\n",
      "Epoch 34/50\n",
      "673/673 [==============================] - 10s 16ms/step - loss: 0.2056 - accuracy: 0.9291 - val_loss: 0.5077 - val_accuracy: 0.8558\n",
      "Epoch 35/50\n",
      "673/673 [==============================] - 10s 15ms/step - loss: 0.1900 - accuracy: 0.9338 - val_loss: 0.5556 - val_accuracy: 0.8595\n",
      "Epoch 36/50\n",
      "673/673 [==============================] - 10s 15ms/step - loss: 0.1878 - accuracy: 0.9357 - val_loss: 0.5297 - val_accuracy: 0.8561\n",
      "Epoch 37/50\n",
      "673/673 [==============================] - 10s 15ms/step - loss: 0.1821 - accuracy: 0.9368 - val_loss: 0.5599 - val_accuracy: 0.8428\n",
      "Epoch 38/50\n",
      "673/673 [==============================] - 10s 15ms/step - loss: 0.1815 - accuracy: 0.9363 - val_loss: 0.5254 - val_accuracy: 0.8539\n",
      "Epoch 39/50\n",
      "673/673 [==============================] - 10s 15ms/step - loss: 0.1690 - accuracy: 0.9414 - val_loss: 0.5734 - val_accuracy: 0.8606\n",
      "Epoch 40/50\n",
      "673/673 [==============================] - 10s 15ms/step - loss: 0.1725 - accuracy: 0.9415 - val_loss: 0.5330 - val_accuracy: 0.8658\n",
      "Epoch 41/50\n",
      "673/673 [==============================] - 10s 15ms/step - loss: 0.1701 - accuracy: 0.9426 - val_loss: 0.5211 - val_accuracy: 0.8539\n",
      "Epoch 42/50\n",
      "673/673 [==============================] - 10s 15ms/step - loss: 0.1681 - accuracy: 0.9441 - val_loss: 0.6071 - val_accuracy: 0.8390\n",
      "Epoch 43/50\n",
      "673/673 [==============================] - 10s 15ms/step - loss: 0.1617 - accuracy: 0.9440 - val_loss: 0.5409 - val_accuracy: 0.8628\n",
      "Epoch 44/50\n",
      "671/673 [============================>.] - ETA: 0s - loss: 0.1491 - accuracy: 0.9508"
     ]
    },
    {
     "name": "stderr",
     "output_type": "stream",
     "text": [
      "WARNING:absl:Found untraced functions such as _update_step_xla while saving (showing 1 of 1). These functions will not be directly callable after loading.\n"
     ]
    },
    {
     "name": "stdout",
     "output_type": "stream",
     "text": [
      "INFO:tensorflow:Assets written to: ./model3_chkpnt_20221129/Split_DNN_model3_checkpoint_44-0.87/assets\n"
     ]
    },
    {
     "name": "stderr",
     "output_type": "stream",
     "text": [
      "INFO:tensorflow:Assets written to: ./model3_chkpnt_20221129/Split_DNN_model3_checkpoint_44-0.87/assets\n"
     ]
    },
    {
     "name": "stdout",
     "output_type": "stream",
     "text": [
      "673/673 [==============================] - 13s 19ms/step - loss: 0.1492 - accuracy: 0.9507 - val_loss: 0.5016 - val_accuracy: 0.8714\n",
      "Epoch 45/50\n",
      "673/673 [==============================] - 11s 16ms/step - loss: 0.1567 - accuracy: 0.9468 - val_loss: 0.5716 - val_accuracy: 0.8595\n",
      "Epoch 46/50\n",
      "673/673 [==============================] - 10s 15ms/step - loss: 0.1554 - accuracy: 0.9486 - val_loss: 0.5263 - val_accuracy: 0.8561\n",
      "Epoch 47/50\n",
      "672/673 [============================>.] - ETA: 0s - loss: 0.1631 - accuracy: 0.9462"
     ]
    },
    {
     "name": "stderr",
     "output_type": "stream",
     "text": [
      "WARNING:absl:Found untraced functions such as _update_step_xla while saving (showing 1 of 1). These functions will not be directly callable after loading.\n"
     ]
    },
    {
     "name": "stdout",
     "output_type": "stream",
     "text": [
      "INFO:tensorflow:Assets written to: ./model3_chkpnt_20221129/Split_DNN_model3_checkpoint_47-0.87/assets\n"
     ]
    },
    {
     "name": "stderr",
     "output_type": "stream",
     "text": [
      "INFO:tensorflow:Assets written to: ./model3_chkpnt_20221129/Split_DNN_model3_checkpoint_47-0.87/assets\n"
     ]
    },
    {
     "name": "stdout",
     "output_type": "stream",
     "text": [
      "673/673 [==============================] - 12s 18ms/step - loss: 0.1631 - accuracy: 0.9462 - val_loss: 0.5064 - val_accuracy: 0.8747\n",
      "Epoch 48/50\n",
      "673/673 [==============================] - 10s 15ms/step - loss: 0.1385 - accuracy: 0.9526 - val_loss: 0.4988 - val_accuracy: 0.8743\n",
      "Epoch 49/50\n",
      "673/673 [==============================] - 10s 15ms/step - loss: 0.1387 - accuracy: 0.9539 - val_loss: 0.5391 - val_accuracy: 0.8729\n",
      "Epoch 50/50\n",
      "673/673 [==============================] - 10s 15ms/step - loss: 0.1520 - accuracy: 0.9479 - val_loss: 0.5672 - val_accuracy: 0.8602\n"
     ]
    },
    {
     "name": "stderr",
     "output_type": "stream",
     "text": [
      "WARNING:absl:Found untraced functions such as _update_step_xla while saving (showing 1 of 1). These functions will not be directly callable after loading.\n"
     ]
    },
    {
     "name": "stdout",
     "output_type": "stream",
     "text": [
      "INFO:tensorflow:Assets written to: ./model3_chkpnt_20221129/simple_dnn_model_v3_higher_epochs/assets\n"
     ]
    },
    {
     "name": "stderr",
     "output_type": "stream",
     "text": [
      "INFO:tensorflow:Assets written to: ./model3_chkpnt_20221129/simple_dnn_model_v3_higher_epochs/assets\n"
     ]
    }
   ],
   "source": [
    "# Split DNN model with flatten in the beginning and no regularization/dropout\n",
    "\n",
    "model3.compile(optimizer = 'adam',\n",
    "                     loss='categorical_crossentropy',\n",
    "                     metrics = ['accuracy']\n",
    "                     )\n",
    "\n",
    "checkpoint_filepath = './model3_chkpnt_20221129/Split_DNN_model3_checkpoint_{epoch:02d}-{val_accuracy:.2f}'\n",
    "\n",
    "model_checkpoint_callback = tf.keras.callbacks.ModelCheckpoint(\n",
    "    filepath=checkpoint_filepath,\n",
    "    save_weights_only=False,\n",
    "    monitor='val_accuracy',\n",
    "    mode='max',\n",
    "    save_best_only=True)\n",
    "\n",
    "h3 = model3.fit({'audio_in': x_train_audio, 'theme_in': x_train_theme},{'op': y_train},\n",
    "              epochs=50, batch_size=32,\n",
    "            validation_data=({'audio_in': x_test_audio, 'theme_in': x_test_theme},{'op': y_test}),\n",
    "            callbacks=[model_checkpoint_callback])\n",
    "\n",
    "\n",
    "model3.save('./model3_chkpnt_20221129/simple_dnn_model_v3_higher_epochs')\n"
   ]
  },
  {
   "cell_type": "code",
   "execution_count": 38,
   "metadata": {
    "slideshow": {
     "slide_type": "subslide"
    }
   },
   "outputs": [
    {
     "data": {
      "image/png": "[encoded data removed]",
      "text/plain": [
       "<Figure size 1200x500 with 2 Axes>"
      ]
     },
     "metadata": {},
     "output_type": "display_data"
    }
   ],
   "source": [
    "plot_history(h3)"
   ]
  },
  {
   "cell_type": "code",
   "execution_count": 39,
   "metadata": {
    "slideshow": {
     "slide_type": "subslide"
    }
   },
   "outputs": [
    {
     "name": "stdout",
     "output_type": "stream",
     "text": [
      "673/673 [==============================] - 2s 3ms/step - loss: 0.1562 - accuracy: 0.9507\n",
      "85/85 [==============================] - 0s 3ms/step - loss: 0.5672 - accuracy: 0.8602\n",
      "85/85 [==============================] - 0s 3ms/step - loss: 0.5891 - accuracy: 0.8480\n",
      "train accuracy : 0.9506505727767944 | valid accuracy : 0.8602230548858643 | test accuracy : 0.8479554057121277\n"
     ]
    }
   ],
   "source": [
    "accuracy_score('./model3_chkpnt_20221129/simple_dnn_model_v3_higher_epochs')"
   ]
  },
  {
   "cell_type": "markdown",
   "metadata": {
    "slideshow": {
     "slide_type": "slide"
    }
   },
   "source": [
    "Introducing regularization in the 'model3' might help improve the generalization"
   ]
  },
  {
   "cell_type": "markdown",
   "metadata": {
    "slideshow": {
     "slide_type": "slide"
    }
   },
   "source": [
    "'model4' - Adding dropouts to 'model3' iteratively to determine the best degree / location of regularization \n",
    "\n",
    "It seems that adding regularization to the Audio split or the concatenated split does not drive as much impact as regularization in the Theme split. This was heuristically found out by adding dropout regularization in different data splits"
   ]
  },
  {
   "cell_type": "code",
   "execution_count": 16,
   "metadata": {
    "slideshow": {
     "slide_type": "subslide"
    }
   },
   "outputs": [
    {
     "name": "stdout",
     "output_type": "stream",
     "text": [
      "Model: \"model\"\n",
      "__________________________________________________________________________________________________\n",
      " Layer (type)                   Output Shape         Param #     Connected to                     \n",
      "==================================================================================================\n",
      " audio_in (InputLayer)          [(None, 250, 15)]    0           []                               \n",
      "                                                                                                  \n",
      " flatten (Flatten)              (None, 3750)         0           ['audio_in[0][0]']               \n",
      "                                                                                                  \n",
      " theme_in (InputLayer)          [(None, 250, 5)]     0           []                               \n",
      "                                                                                                  \n",
      " dense (Dense)                  (None, 512)          1920512     ['flatten[0][0]']                \n",
      "                                                                                                  \n",
      " flatten_1 (Flatten)            (None, 1250)         0           ['theme_in[0][0]']               \n",
      "                                                                                                  \n",
      " dense_1 (Dense)                (None, 256)          131328      ['dense[0][0]']                  \n",
      "                                                                                                  \n",
      " dense_4 (Dense)                (None, 128)          160128      ['flatten_1[0][0]']              \n",
      "                                                                                                  \n",
      " dense_2 (Dense)                (None, 128)          32896       ['dense_1[0][0]']                \n",
      "                                                                                                  \n",
      " dropout (Dropout)              (None, 128)          0           ['dense_4[0][0]']                \n",
      "                                                                                                  \n",
      " dense_3 (Dense)                (None, 64)           8256        ['dense_2[0][0]']                \n",
      "                                                                                                  \n",
      " dense_5 (Dense)                (None, 64)           8256        ['dropout[0][0]']                \n",
      "                                                                                                  \n",
      " concatenate (Concatenate)      (None, 128)          0           ['dense_3[0][0]',                \n",
      "                                                                  'dense_5[0][0]']                \n",
      "                                                                                                  \n",
      " dense_6 (Dense)                (None, 128)          16512       ['concatenate[0][0]']            \n",
      "                                                                                                  \n",
      " dense_7 (Dense)                (None, 128)          16512       ['dense_6[0][0]']                \n",
      "                                                                                                  \n",
      " dense_8 (Dense)                (None, 64)           8256        ['dense_7[0][0]']                \n",
      "                                                                                                  \n",
      " dense_9 (Dense)                (None, 32)           2080        ['dense_8[0][0]']                \n",
      "                                                                                                  \n",
      " dense_10 (Dense)               (None, 16)           528         ['dense_9[0][0]']                \n",
      "                                                                                                  \n",
      " op (Dense)                     (None, 7)            119         ['dense_10[0][0]']               \n",
      "                                                                                                  \n",
      "==================================================================================================\n",
      "Total params: 2,305,383\n",
      "Trainable params: 2,305,383\n",
      "Non-trainable params: 0\n",
      "__________________________________________________________________________________________________\n"
     ]
    }
   ],
   "source": [
    "## best model model4 part 4 \n",
    "## architecture is given below\n",
    "# Input layers\n",
    "audio_in = Input(shape=(x_train_audio.shape[1], x_train_audio.shape[2]), name='audio_in')\n",
    "theme_in = Input(shape=(x_train_theme.shape[1], x_train_theme.shape[2]), name='theme_in')\n",
    "\n",
    "# Audio layer\n",
    "audio_flat = Flatten()(audio_in) \n",
    "audio_dense1 = Dense(512, activation='relu')(audio_flat)\n",
    "audio_dense2 = Dense(256, activation='relu')(audio_dense1)\n",
    "audio_dense3 = Dense(128, activation='relu')(audio_dense2)\n",
    "# audio_dropout = Dropout(0.05)(audio_dense3)\n",
    "audio_dense4 = Dense(64, activation='relu')(audio_dense3)\n",
    "\n",
    "\n",
    "# Theme layer\n",
    "theme_flat = Flatten()(theme_in)\n",
    "theme_dense1 = Dense(128, activation='relu')(theme_flat)\n",
    "theme_dropout = Dropout(0.05)(theme_dense1)\n",
    "theme_dense2 = Dense(64, activation='relu')(theme_dropout)\n",
    "\n",
    "# Concatenate\n",
    "concat = concatenate([audio_dense4, theme_dense2])\n",
    "dense1 = Dense(128, activation='relu')(concat)\n",
    "dense2 = Dense(128, activation='relu')(dense1)\n",
    "# dropout1 = Dropout(0.1)(dense2)\n",
    "dense3 = Dense(64, activation='relu')(dense2)\n",
    "dense4 = Dense(32, activation='relu')(dense3)\n",
    "dense5 = Dense(16, activation='relu')(dense4)\n",
    "op = Dense(7, activation='softmax',name='op')(dense5)\n",
    "\n",
    "\n",
    "model4 = Model(inputs=[audio_in, theme_in], outputs=[op])\n",
    "\n",
    "model4.summary()"
   ]
  },
  {
   "cell_type": "markdown",
   "metadata": {
    "slideshow": {
     "slide_type": "slide"
    }
   },
   "source": [
    "The best model performance was found for split DNN with regularization of 0.05 in the Theme split(model4 part 4).\n",
    "\n",
    "It gives a training, testing and validation accuracy of 98%, 87% and 85% respectively"
   ]
  },
  {
   "cell_type": "code",
   "execution_count": 17,
   "metadata": {
    "slideshow": {
     "slide_type": "subslide"
    }
   },
   "outputs": [
    {
     "name": "stdout",
     "output_type": "stream",
     "text": [
      "Epoch 1/100\n",
      "671/673 [============================>.] - ETA: 0s - loss: 1.7739 - accuracy: 0.3589"
     ]
    },
    {
     "name": "stderr",
     "output_type": "stream",
     "text": [
      "WARNING:absl:Found untraced functions such as _update_step_xla while saving (showing 1 of 1). These functions will not be directly callable after loading.\n"
     ]
    },
    {
     "name": "stdout",
     "output_type": "stream",
     "text": [
      "INFO:tensorflow:Assets written to: ./model4_chkpnt_20221129/Split_DNN_model4_checkpoint_001-0.45/assets\n"
     ]
    },
    {
     "name": "stderr",
     "output_type": "stream",
     "text": [
      "INFO:tensorflow:Assets written to: ./model4_chkpnt_20221129/Split_DNN_model4_checkpoint_001-0.45/assets\n"
     ]
    },
    {
     "name": "stdout",
     "output_type": "stream",
     "text": [
      "673/673 [==============================] - 16s 21ms/step - loss: 1.7736 - accuracy: 0.3590 - val_loss: 1.4869 - val_accuracy: 0.4476\n",
      "Epoch 2/100\n",
      "672/673 [============================>.] - ETA: 0s - loss: 1.3462 - accuracy: 0.5149"
     ]
    },
    {
     "name": "stderr",
     "output_type": "stream",
     "text": [
      "WARNING:absl:Found untraced functions such as _update_step_xla while saving (showing 1 of 1). These functions will not be directly callable after loading.\n"
     ]
    },
    {
     "name": "stdout",
     "output_type": "stream",
     "text": [
      "INFO:tensorflow:Assets written to: ./model4_chkpnt_20221129/Split_DNN_model4_checkpoint_002-0.59/assets\n"
     ]
    },
    {
     "name": "stderr",
     "output_type": "stream",
     "text": [
      "INFO:tensorflow:Assets written to: ./model4_chkpnt_20221129/Split_DNN_model4_checkpoint_002-0.59/assets\n"
     ]
    },
    {
     "name": "stdout",
     "output_type": "stream",
     "text": [
      "673/673 [==============================] - 13s 20ms/step - loss: 1.3458 - accuracy: 0.5150 - val_loss: 1.1759 - val_accuracy: 0.5914\n",
      "Epoch 3/100\n",
      "670/673 [============================>.] - ETA: 0s - loss: 1.0476 - accuracy: 0.6343"
     ]
    },
    {
     "name": "stderr",
     "output_type": "stream",
     "text": [
      "WARNING:absl:Found untraced functions such as _update_step_xla while saving (showing 1 of 1). These functions will not be directly callable after loading.\n"
     ]
    },
    {
     "name": "stdout",
     "output_type": "stream",
     "text": [
      "INFO:tensorflow:Assets written to: ./model4_chkpnt_20221129/Split_DNN_model4_checkpoint_003-0.66/assets\n"
     ]
    },
    {
     "name": "stderr",
     "output_type": "stream",
     "text": [
      "INFO:tensorflow:Assets written to: ./model4_chkpnt_20221129/Split_DNN_model4_checkpoint_003-0.66/assets\n"
     ]
    },
    {
     "name": "stdout",
     "output_type": "stream",
     "text": [
      "673/673 [==============================] - 13s 19ms/step - loss: 1.0471 - accuracy: 0.6346 - val_loss: 0.9813 - val_accuracy: 0.6617\n",
      "Epoch 4/100\n",
      "672/673 [============================>.] - ETA: 0s - loss: 0.8619 - accuracy: 0.7027"
     ]
    },
    {
     "name": "stderr",
     "output_type": "stream",
     "text": [
      "WARNING:absl:Found untraced functions such as _update_step_xla while saving (showing 1 of 1). These functions will not be directly callable after loading.\n"
     ]
    },
    {
     "name": "stdout",
     "output_type": "stream",
     "text": [
      "INFO:tensorflow:Assets written to: ./model4_chkpnt_20221129/Split_DNN_model4_checkpoint_004-0.69/assets\n"
     ]
    },
    {
     "name": "stderr",
     "output_type": "stream",
     "text": [
      "INFO:tensorflow:Assets written to: ./model4_chkpnt_20221129/Split_DNN_model4_checkpoint_004-0.69/assets\n"
     ]
    },
    {
     "name": "stdout",
     "output_type": "stream",
     "text": [
      "673/673 [==============================] - 12s 19ms/step - loss: 0.8621 - accuracy: 0.7026 - val_loss: 0.8921 - val_accuracy: 0.6941\n",
      "Epoch 5/100\n",
      "673/673 [==============================] - ETA: 0s - loss: 0.7328 - accuracy: 0.7461"
     ]
    },
    {
     "name": "stderr",
     "output_type": "stream",
     "text": [
      "WARNING:absl:Found untraced functions such as _update_step_xla while saving (showing 1 of 1). These functions will not be directly callable after loading.\n"
     ]
    },
    {
     "name": "stdout",
     "output_type": "stream",
     "text": [
      "INFO:tensorflow:Assets written to: ./model4_chkpnt_20221129/Split_DNN_model4_checkpoint_005-0.72/assets\n"
     ]
    },
    {
     "name": "stderr",
     "output_type": "stream",
     "text": [
      "INFO:tensorflow:Assets written to: ./model4_chkpnt_20221129/Split_DNN_model4_checkpoint_005-0.72/assets\n"
     ]
    },
    {
     "name": "stdout",
     "output_type": "stream",
     "text": [
      "673/673 [==============================] - 13s 19ms/step - loss: 0.7328 - accuracy: 0.7461 - val_loss: 0.8205 - val_accuracy: 0.7175\n",
      "Epoch 6/100\n",
      "673/673 [==============================] - ETA: 0s - loss: 0.6749 - accuracy: 0.7647"
     ]
    },
    {
     "name": "stderr",
     "output_type": "stream",
     "text": [
      "WARNING:absl:Found untraced functions such as _update_step_xla while saving (showing 1 of 1). These functions will not be directly callable after loading.\n"
     ]
    },
    {
     "name": "stdout",
     "output_type": "stream",
     "text": [
      "INFO:tensorflow:Assets written to: ./model4_chkpnt_20221129/Split_DNN_model4_checkpoint_006-0.74/assets\n"
     ]
    },
    {
     "name": "stderr",
     "output_type": "stream",
     "text": [
      "INFO:tensorflow:Assets written to: ./model4_chkpnt_20221129/Split_DNN_model4_checkpoint_006-0.74/assets\n"
     ]
    },
    {
     "name": "stdout",
     "output_type": "stream",
     "text": [
      "673/673 [==============================] - 13s 19ms/step - loss: 0.6749 - accuracy: 0.7647 - val_loss: 0.7575 - val_accuracy: 0.7379\n",
      "Epoch 7/100\n",
      "671/673 [============================>.] - ETA: 0s - loss: 0.6134 - accuracy: 0.7839"
     ]
    },
    {
     "name": "stderr",
     "output_type": "stream",
     "text": [
      "WARNING:absl:Found untraced functions such as _update_step_xla while saving (showing 1 of 1). These functions will not be directly callable after loading.\n"
     ]
    },
    {
     "name": "stdout",
     "output_type": "stream",
     "text": [
      "INFO:tensorflow:Assets written to: ./model4_chkpnt_20221129/Split_DNN_model4_checkpoint_007-0.77/assets\n"
     ]
    },
    {
     "name": "stderr",
     "output_type": "stream",
     "text": [
      "INFO:tensorflow:Assets written to: ./model4_chkpnt_20221129/Split_DNN_model4_checkpoint_007-0.77/assets\n"
     ]
    },
    {
     "name": "stdout",
     "output_type": "stream",
     "text": [
      "673/673 [==============================] - 13s 20ms/step - loss: 0.6130 - accuracy: 0.7841 - val_loss: 0.6725 - val_accuracy: 0.7673\n",
      "Epoch 8/100\n",
      "671/673 [============================>.] - ETA: 0s - loss: 0.5719 - accuracy: 0.7999"
     ]
    },
    {
     "name": "stderr",
     "output_type": "stream",
     "text": [
      "WARNING:absl:Found untraced functions such as _update_step_xla while saving (showing 1 of 1). These functions will not be directly callable after loading.\n"
     ]
    },
    {
     "name": "stdout",
     "output_type": "stream",
     "text": [
      "INFO:tensorflow:Assets written to: ./model4_chkpnt_20221129/Split_DNN_model4_checkpoint_008-0.79/assets\n"
     ]
    },
    {
     "name": "stderr",
     "output_type": "stream",
     "text": [
      "INFO:tensorflow:Assets written to: ./model4_chkpnt_20221129/Split_DNN_model4_checkpoint_008-0.79/assets\n"
     ]
    },
    {
     "name": "stdout",
     "output_type": "stream",
     "text": [
      "673/673 [==============================] - 13s 19ms/step - loss: 0.5721 - accuracy: 0.7998 - val_loss: 0.6299 - val_accuracy: 0.7870\n",
      "Epoch 9/100\n",
      "673/673 [==============================] - 11s 17ms/step - loss: 0.5514 - accuracy: 0.8026 - val_loss: 0.6342 - val_accuracy: 0.7743\n",
      "Epoch 10/100\n",
      "673/673 [==============================] - 11s 17ms/step - loss: 0.5137 - accuracy: 0.8171 - val_loss: 0.6329 - val_accuracy: 0.7840\n",
      "Epoch 11/100\n",
      "670/673 [============================>.] - ETA: 0s - loss: 0.5067 - accuracy: 0.8201"
     ]
    },
    {
     "name": "stderr",
     "output_type": "stream",
     "text": [
      "WARNING:absl:Found untraced functions such as _update_step_xla while saving (showing 1 of 1). These functions will not be directly callable after loading.\n"
     ]
    },
    {
     "name": "stdout",
     "output_type": "stream",
     "text": [
      "INFO:tensorflow:Assets written to: ./model4_chkpnt_20221129/Split_DNN_model4_checkpoint_011-0.79/assets\n"
     ]
    },
    {
     "name": "stderr",
     "output_type": "stream",
     "text": [
      "INFO:tensorflow:Assets written to: ./model4_chkpnt_20221129/Split_DNN_model4_checkpoint_011-0.79/assets\n"
     ]
    },
    {
     "name": "stdout",
     "output_type": "stream",
     "text": [
      "673/673 [==============================] - 13s 19ms/step - loss: 0.5067 - accuracy: 0.8201 - val_loss: 0.5971 - val_accuracy: 0.7907\n",
      "Epoch 12/100\n",
      "671/673 [============================>.] - ETA: 0s - loss: 0.4865 - accuracy: 0.8250"
     ]
    },
    {
     "name": "stderr",
     "output_type": "stream",
     "text": [
      "WARNING:absl:Found untraced functions such as _update_step_xla while saving (showing 1 of 1). These functions will not be directly callable after loading.\n"
     ]
    },
    {
     "name": "stdout",
     "output_type": "stream",
     "text": [
      "INFO:tensorflow:Assets written to: ./model4_chkpnt_20221129/Split_DNN_model4_checkpoint_012-0.80/assets\n"
     ]
    },
    {
     "name": "stderr",
     "output_type": "stream",
     "text": [
      "INFO:tensorflow:Assets written to: ./model4_chkpnt_20221129/Split_DNN_model4_checkpoint_012-0.80/assets\n"
     ]
    },
    {
     "name": "stdout",
     "output_type": "stream",
     "text": [
      "673/673 [==============================] - 13s 19ms/step - loss: 0.4867 - accuracy: 0.8249 - val_loss: 0.5904 - val_accuracy: 0.7981\n",
      "Epoch 13/100\n",
      "673/673 [==============================] - 11s 17ms/step - loss: 0.4480 - accuracy: 0.8397 - val_loss: 0.6277 - val_accuracy: 0.7844\n",
      "Epoch 14/100\n",
      "670/673 [============================>.] - ETA: 0s - loss: 0.4382 - accuracy: 0.8425"
     ]
    },
    {
     "name": "stderr",
     "output_type": "stream",
     "text": [
      "WARNING:absl:Found untraced functions such as _update_step_xla while saving (showing 1 of 1). These functions will not be directly callable after loading.\n"
     ]
    },
    {
     "name": "stdout",
     "output_type": "stream",
     "text": [
      "INFO:tensorflow:Assets written to: ./model4_chkpnt_20221129/Split_DNN_model4_checkpoint_014-0.80/assets\n"
     ]
    },
    {
     "name": "stderr",
     "output_type": "stream",
     "text": [
      "INFO:tensorflow:Assets written to: ./model4_chkpnt_20221129/Split_DNN_model4_checkpoint_014-0.80/assets\n"
     ]
    },
    {
     "name": "stdout",
     "output_type": "stream",
     "text": [
      "673/673 [==============================] - 13s 19ms/step - loss: 0.4379 - accuracy: 0.8426 - val_loss: 0.5692 - val_accuracy: 0.8015\n",
      "Epoch 15/100\n",
      "670/673 [============================>.] - ETA: 0s - loss: 0.4081 - accuracy: 0.8528"
     ]
    },
    {
     "name": "stderr",
     "output_type": "stream",
     "text": [
      "WARNING:absl:Found untraced functions such as _update_step_xla while saving (showing 1 of 1). These functions will not be directly callable after loading.\n"
     ]
    },
    {
     "name": "stdout",
     "output_type": "stream",
     "text": [
      "INFO:tensorflow:Assets written to: ./model4_chkpnt_20221129/Split_DNN_model4_checkpoint_015-0.81/assets\n"
     ]
    },
    {
     "name": "stderr",
     "output_type": "stream",
     "text": [
      "INFO:tensorflow:Assets written to: ./model4_chkpnt_20221129/Split_DNN_model4_checkpoint_015-0.81/assets\n"
     ]
    },
    {
     "name": "stdout",
     "output_type": "stream",
     "text": [
      "673/673 [==============================] - 13s 19ms/step - loss: 0.4078 - accuracy: 0.8530 - val_loss: 0.5713 - val_accuracy: 0.8112\n",
      "Epoch 16/100\n",
      "673/673 [==============================] - 11s 16ms/step - loss: 0.3947 - accuracy: 0.8566 - val_loss: 0.5870 - val_accuracy: 0.8022\n",
      "Epoch 17/100\n",
      "673/673 [==============================] - 11s 16ms/step - loss: 0.3871 - accuracy: 0.8613 - val_loss: 0.5878 - val_accuracy: 0.8033\n",
      "Epoch 18/100\n",
      "673/673 [==============================] - 11s 16ms/step - loss: 0.3611 - accuracy: 0.8681 - val_loss: 0.5861 - val_accuracy: 0.8059\n",
      "Epoch 19/100\n",
      "670/673 [============================>.] - ETA: 0s - loss: 0.3459 - accuracy: 0.8762"
     ]
    },
    {
     "name": "stderr",
     "output_type": "stream",
     "text": [
      "WARNING:absl:Found untraced functions such as _update_step_xla while saving (showing 1 of 1). These functions will not be directly callable after loading.\n"
     ]
    },
    {
     "name": "stdout",
     "output_type": "stream",
     "text": [
      "INFO:tensorflow:Assets written to: ./model4_chkpnt_20221129/Split_DNN_model4_checkpoint_019-0.82/assets\n"
     ]
    },
    {
     "name": "stderr",
     "output_type": "stream",
     "text": [
      "INFO:tensorflow:Assets written to: ./model4_chkpnt_20221129/Split_DNN_model4_checkpoint_019-0.82/assets\n"
     ]
    },
    {
     "name": "stdout",
     "output_type": "stream",
     "text": [
      "673/673 [==============================] - 12s 18ms/step - loss: 0.3459 - accuracy: 0.8762 - val_loss: 0.5526 - val_accuracy: 0.8219\n",
      "Epoch 20/100\n",
      "673/673 [==============================] - 11s 16ms/step - loss: 0.3522 - accuracy: 0.8720 - val_loss: 0.5836 - val_accuracy: 0.8149\n",
      "Epoch 21/100\n",
      "673/673 [==============================] - ETA: 0s - loss: 0.3272 - accuracy: 0.8816"
     ]
    },
    {
     "name": "stderr",
     "output_type": "stream",
     "text": [
      "WARNING:absl:Found untraced functions such as _update_step_xla while saving (showing 1 of 1). These functions will not be directly callable after loading.\n"
     ]
    },
    {
     "name": "stdout",
     "output_type": "stream",
     "text": [
      "INFO:tensorflow:Assets written to: ./model4_chkpnt_20221129/Split_DNN_model4_checkpoint_021-0.82/assets\n"
     ]
    },
    {
     "name": "stderr",
     "output_type": "stream",
     "text": [
      "INFO:tensorflow:Assets written to: ./model4_chkpnt_20221129/Split_DNN_model4_checkpoint_021-0.82/assets\n"
     ]
    },
    {
     "name": "stdout",
     "output_type": "stream",
     "text": [
      "673/673 [==============================] - 12s 18ms/step - loss: 0.3272 - accuracy: 0.8816 - val_loss: 0.5526 - val_accuracy: 0.8249\n",
      "Epoch 22/100\n",
      "670/673 [============================>.] - ETA: 0s - loss: 0.3153 - accuracy: 0.8863"
     ]
    },
    {
     "name": "stderr",
     "output_type": "stream",
     "text": [
      "WARNING:absl:Found untraced functions such as _update_step_xla while saving (showing 1 of 1). These functions will not be directly callable after loading.\n"
     ]
    },
    {
     "name": "stdout",
     "output_type": "stream",
     "text": [
      "INFO:tensorflow:Assets written to: ./model4_chkpnt_20221129/Split_DNN_model4_checkpoint_022-0.83/assets\n"
     ]
    },
    {
     "name": "stderr",
     "output_type": "stream",
     "text": [
      "INFO:tensorflow:Assets written to: ./model4_chkpnt_20221129/Split_DNN_model4_checkpoint_022-0.83/assets\n"
     ]
    },
    {
     "name": "stdout",
     "output_type": "stream",
     "text": [
      "673/673 [==============================] - 13s 19ms/step - loss: 0.3155 - accuracy: 0.8862 - val_loss: 0.5555 - val_accuracy: 0.8327\n",
      "Epoch 23/100\n",
      "671/673 [============================>.] - ETA: 0s - loss: 0.3037 - accuracy: 0.8914"
     ]
    },
    {
     "name": "stderr",
     "output_type": "stream",
     "text": [
      "WARNING:absl:Found untraced functions such as _update_step_xla while saving (showing 1 of 1). These functions will not be directly callable after loading.\n"
     ]
    },
    {
     "name": "stdout",
     "output_type": "stream",
     "text": [
      "INFO:tensorflow:Assets written to: ./model4_chkpnt_20221129/Split_DNN_model4_checkpoint_023-0.84/assets\n"
     ]
    },
    {
     "name": "stderr",
     "output_type": "stream",
     "text": [
      "INFO:tensorflow:Assets written to: ./model4_chkpnt_20221129/Split_DNN_model4_checkpoint_023-0.84/assets\n"
     ]
    },
    {
     "name": "stdout",
     "output_type": "stream",
     "text": [
      "673/673 [==============================] - 13s 20ms/step - loss: 0.3037 - accuracy: 0.8913 - val_loss: 0.5178 - val_accuracy: 0.8390\n",
      "Epoch 24/100\n",
      "673/673 [==============================] - 11s 17ms/step - loss: 0.3056 - accuracy: 0.8885 - val_loss: 0.5241 - val_accuracy: 0.8312\n",
      "Epoch 25/100\n",
      "673/673 [==============================] - 11s 17ms/step - loss: 0.2855 - accuracy: 0.8990 - val_loss: 0.5467 - val_accuracy: 0.8357\n",
      "Epoch 26/100\n",
      "673/673 [==============================] - 11s 17ms/step - loss: 0.2728 - accuracy: 0.9041 - val_loss: 0.5843 - val_accuracy: 0.8338\n",
      "Epoch 27/100\n",
      "673/673 [==============================] - 11s 17ms/step - loss: 0.2623 - accuracy: 0.9056 - val_loss: 0.5327 - val_accuracy: 0.8372\n",
      "Epoch 28/100\n",
      "673/673 [==============================] - 11s 17ms/step - loss: 0.2530 - accuracy: 0.9090 - val_loss: 0.5783 - val_accuracy: 0.8368\n",
      "Epoch 29/100\n",
      "673/673 [==============================] - 12s 17ms/step - loss: 0.2680 - accuracy: 0.9042 - val_loss: 0.5526 - val_accuracy: 0.8327\n",
      "Epoch 30/100\n",
      "673/673 [==============================] - 11s 17ms/step - loss: 0.2535 - accuracy: 0.9089 - val_loss: 0.5709 - val_accuracy: 0.8361\n",
      "Epoch 31/100\n",
      "673/673 [==============================] - 11s 17ms/step - loss: 0.2493 - accuracy: 0.9100 - val_loss: 0.5553 - val_accuracy: 0.8387\n",
      "Epoch 32/100\n",
      "672/673 [============================>.] - ETA: 0s - loss: 0.2299 - accuracy: 0.9161"
     ]
    },
    {
     "name": "stderr",
     "output_type": "stream",
     "text": [
      "WARNING:absl:Found untraced functions such as _update_step_xla while saving (showing 1 of 1). These functions will not be directly callable after loading.\n"
     ]
    },
    {
     "name": "stdout",
     "output_type": "stream",
     "text": [
      "INFO:tensorflow:Assets written to: ./model4_chkpnt_20221129/Split_DNN_model4_checkpoint_032-0.85/assets\n"
     ]
    },
    {
     "name": "stderr",
     "output_type": "stream",
     "text": [
      "INFO:tensorflow:Assets written to: ./model4_chkpnt_20221129/Split_DNN_model4_checkpoint_032-0.85/assets\n"
     ]
    },
    {
     "name": "stdout",
     "output_type": "stream",
     "text": [
      "673/673 [==============================] - 13s 19ms/step - loss: 0.2299 - accuracy: 0.9161 - val_loss: 0.5477 - val_accuracy: 0.8483\n",
      "Epoch 33/100\n",
      "673/673 [==============================] - 11s 17ms/step - loss: 0.2251 - accuracy: 0.9201 - val_loss: 0.5244 - val_accuracy: 0.8431\n",
      "Epoch 34/100\n",
      "673/673 [==============================] - 11s 17ms/step - loss: 0.2222 - accuracy: 0.9203 - val_loss: 0.5403 - val_accuracy: 0.8483\n",
      "Epoch 35/100\n",
      "673/673 [==============================] - 11s 17ms/step - loss: 0.2220 - accuracy: 0.9230 - val_loss: 0.5682 - val_accuracy: 0.8472\n",
      "Epoch 36/100\n",
      "672/673 [============================>.] - ETA: 0s - loss: 0.2049 - accuracy: 0.9277"
     ]
    },
    {
     "name": "stderr",
     "output_type": "stream",
     "text": [
      "WARNING:absl:Found untraced functions such as _update_step_xla while saving (showing 1 of 1). These functions will not be directly callable after loading.\n"
     ]
    },
    {
     "name": "stdout",
     "output_type": "stream",
     "text": [
      "INFO:tensorflow:Assets written to: ./model4_chkpnt_20221129/Split_DNN_model4_checkpoint_036-0.85/assets\n"
     ]
    },
    {
     "name": "stderr",
     "output_type": "stream",
     "text": [
      "INFO:tensorflow:Assets written to: ./model4_chkpnt_20221129/Split_DNN_model4_checkpoint_036-0.85/assets\n"
     ]
    },
    {
     "name": "stdout",
     "output_type": "stream",
     "text": [
      "673/673 [==============================] - 13s 19ms/step - loss: 0.2049 - accuracy: 0.9277 - val_loss: 0.5509 - val_accuracy: 0.8494\n",
      "Epoch 37/100\n",
      "673/673 [==============================] - 11s 17ms/step - loss: 0.2028 - accuracy: 0.9283 - val_loss: 0.5536 - val_accuracy: 0.8416\n",
      "Epoch 38/100\n",
      "673/673 [==============================] - 11s 16ms/step - loss: 0.1944 - accuracy: 0.9303 - val_loss: 0.5523 - val_accuracy: 0.8476\n",
      "Epoch 39/100\n",
      "673/673 [==============================] - 11s 17ms/step - loss: 0.1929 - accuracy: 0.9329 - val_loss: 0.5302 - val_accuracy: 0.8468\n",
      "Epoch 40/100\n",
      "670/673 [============================>.] - ETA: 0s - loss: 0.2014 - accuracy: 0.9278"
     ]
    },
    {
     "name": "stderr",
     "output_type": "stream",
     "text": [
      "WARNING:absl:Found untraced functions such as _update_step_xla while saving (showing 1 of 1). These functions will not be directly callable after loading.\n"
     ]
    },
    {
     "name": "stdout",
     "output_type": "stream",
     "text": [
      "INFO:tensorflow:Assets written to: ./model4_chkpnt_20221129/Split_DNN_model4_checkpoint_040-0.85/assets\n"
     ]
    },
    {
     "name": "stderr",
     "output_type": "stream",
     "text": [
      "INFO:tensorflow:Assets written to: ./model4_chkpnt_20221129/Split_DNN_model4_checkpoint_040-0.85/assets\n"
     ]
    },
    {
     "name": "stdout",
     "output_type": "stream",
     "text": [
      "673/673 [==============================] - 13s 19ms/step - loss: 0.2013 - accuracy: 0.9278 - val_loss: 0.5386 - val_accuracy: 0.8520\n",
      "Epoch 41/100\n",
      "673/673 [==============================] - 11s 17ms/step - loss: 0.1956 - accuracy: 0.9316 - val_loss: 0.5911 - val_accuracy: 0.8398\n",
      "Epoch 42/100\n",
      "673/673 [==============================] - 11s 17ms/step - loss: 0.1973 - accuracy: 0.9318 - val_loss: 0.5647 - val_accuracy: 0.8483\n",
      "Epoch 43/100\n",
      "673/673 [==============================] - 11s 17ms/step - loss: 0.1734 - accuracy: 0.9384 - val_loss: 0.5936 - val_accuracy: 0.8520\n",
      "Epoch 44/100\n",
      "673/673 [==============================] - 11s 17ms/step - loss: 0.1775 - accuracy: 0.9384 - val_loss: 0.6303 - val_accuracy: 0.8431\n",
      "Epoch 45/100\n",
      "673/673 [==============================] - ETA: 0s - loss: 0.1749 - accuracy: 0.9394"
     ]
    },
    {
     "name": "stderr",
     "output_type": "stream",
     "text": [
      "WARNING:absl:Found untraced functions such as _update_step_xla while saving (showing 1 of 1). These functions will not be directly callable after loading.\n"
     ]
    },
    {
     "name": "stdout",
     "output_type": "stream",
     "text": [
      "INFO:tensorflow:Assets written to: ./model4_chkpnt_20221129/Split_DNN_model4_checkpoint_045-0.86/assets\n"
     ]
    },
    {
     "name": "stderr",
     "output_type": "stream",
     "text": [
      "INFO:tensorflow:Assets written to: ./model4_chkpnt_20221129/Split_DNN_model4_checkpoint_045-0.86/assets\n"
     ]
    },
    {
     "name": "stdout",
     "output_type": "stream",
     "text": [
      "673/673 [==============================] - 13s 19ms/step - loss: 0.1749 - accuracy: 0.9394 - val_loss: 0.5376 - val_accuracy: 0.8628\n",
      "Epoch 46/100\n",
      "673/673 [==============================] - 11s 17ms/step - loss: 0.1767 - accuracy: 0.9388 - val_loss: 0.5602 - val_accuracy: 0.8487\n",
      "Epoch 47/100\n",
      "673/673 [==============================] - 11s 17ms/step - loss: 0.1726 - accuracy: 0.9411 - val_loss: 0.5551 - val_accuracy: 0.8625\n",
      "Epoch 48/100\n",
      "673/673 [==============================] - 11s 16ms/step - loss: 0.1643 - accuracy: 0.9434 - val_loss: 0.5933 - val_accuracy: 0.8480\n",
      "Epoch 49/100\n",
      "673/673 [==============================] - 11s 17ms/step - loss: 0.1568 - accuracy: 0.9444 - val_loss: 0.6336 - val_accuracy: 0.8487\n",
      "Epoch 50/100\n",
      "673/673 [==============================] - 11s 17ms/step - loss: 0.1632 - accuracy: 0.9416 - val_loss: 0.6989 - val_accuracy: 0.8498\n",
      "Epoch 51/100\n",
      "673/673 [==============================] - 11s 17ms/step - loss: 0.1522 - accuracy: 0.9478 - val_loss: 0.5677 - val_accuracy: 0.8621\n",
      "Epoch 52/100\n",
      "673/673 [==============================] - 11s 17ms/step - loss: 0.1617 - accuracy: 0.9415 - val_loss: 0.5441 - val_accuracy: 0.8565\n",
      "Epoch 53/100\n",
      "673/673 [==============================] - 11s 17ms/step - loss: 0.1539 - accuracy: 0.9484 - val_loss: 0.6172 - val_accuracy: 0.8561\n",
      "Epoch 54/100\n",
      "673/673 [==============================] - 11s 17ms/step - loss: 0.1498 - accuracy: 0.9474 - val_loss: 0.6461 - val_accuracy: 0.8506\n",
      "Epoch 55/100\n",
      "673/673 [==============================] - 11s 17ms/step - loss: 0.1421 - accuracy: 0.9503 - val_loss: 0.5894 - val_accuracy: 0.8569\n",
      "Epoch 56/100\n",
      "673/673 [==============================] - 11s 16ms/step - loss: 0.1422 - accuracy: 0.9515 - val_loss: 0.5984 - val_accuracy: 0.8569\n",
      "Epoch 57/100\n",
      "673/673 [==============================] - 11s 16ms/step - loss: 0.1546 - accuracy: 0.9477 - val_loss: 0.5739 - val_accuracy: 0.8599\n",
      "Epoch 58/100\n",
      "673/673 [==============================] - 11s 17ms/step - loss: 0.1368 - accuracy: 0.9549 - val_loss: 0.5769 - val_accuracy: 0.8599\n",
      "Epoch 59/100\n",
      "673/673 [==============================] - 11s 16ms/step - loss: 0.1351 - accuracy: 0.9541 - val_loss: 0.6031 - val_accuracy: 0.8532\n",
      "Epoch 60/100\n",
      "673/673 [==============================] - 11s 17ms/step - loss: 0.1370 - accuracy: 0.9549 - val_loss: 0.6484 - val_accuracy: 0.8487\n",
      "Epoch 61/100\n",
      "673/673 [==============================] - 11s 17ms/step - loss: 0.1419 - accuracy: 0.9524 - val_loss: 0.5794 - val_accuracy: 0.8584\n",
      "Epoch 62/100\n",
      "673/673 [==============================] - 11s 17ms/step - loss: 0.1352 - accuracy: 0.9540 - val_loss: 0.6398 - val_accuracy: 0.8494\n",
      "Epoch 63/100\n",
      "673/673 [==============================] - 11s 17ms/step - loss: 0.1297 - accuracy: 0.9561 - val_loss: 0.6122 - val_accuracy: 0.8606\n",
      "Epoch 64/100\n",
      "673/673 [==============================] - 11s 17ms/step - loss: 0.1330 - accuracy: 0.9566 - val_loss: 0.5981 - val_accuracy: 0.8513\n",
      "Epoch 65/100\n",
      "673/673 [==============================] - ETA: 0s - loss: 0.1267 - accuracy: 0.9576"
     ]
    },
    {
     "name": "stderr",
     "output_type": "stream",
     "text": [
      "WARNING:absl:Found untraced functions such as _update_step_xla while saving (showing 1 of 1). These functions will not be directly callable after loading.\n"
     ]
    },
    {
     "name": "stdout",
     "output_type": "stream",
     "text": [
      "INFO:tensorflow:Assets written to: ./model4_chkpnt_20221129/Split_DNN_model4_checkpoint_065-0.86/assets\n"
     ]
    },
    {
     "name": "stderr",
     "output_type": "stream",
     "text": [
      "INFO:tensorflow:Assets written to: ./model4_chkpnt_20221129/Split_DNN_model4_checkpoint_065-0.86/assets\n"
     ]
    },
    {
     "name": "stdout",
     "output_type": "stream",
     "text": [
      "673/673 [==============================] - 13s 19ms/step - loss: 0.1267 - accuracy: 0.9576 - val_loss: 0.5673 - val_accuracy: 0.8639\n",
      "Epoch 66/100\n",
      "672/673 [============================>.] - ETA: 0s - loss: 0.1389 - accuracy: 0.9529"
     ]
    },
    {
     "name": "stderr",
     "output_type": "stream",
     "text": [
      "WARNING:absl:Found untraced functions such as _update_step_xla while saving (showing 1 of 1). These functions will not be directly callable after loading.\n"
     ]
    },
    {
     "name": "stdout",
     "output_type": "stream",
     "text": [
      "INFO:tensorflow:Assets written to: ./model4_chkpnt_20221129/Split_DNN_model4_checkpoint_066-0.87/assets\n"
     ]
    },
    {
     "name": "stderr",
     "output_type": "stream",
     "text": [
      "INFO:tensorflow:Assets written to: ./model4_chkpnt_20221129/Split_DNN_model4_checkpoint_066-0.87/assets\n"
     ]
    },
    {
     "name": "stdout",
     "output_type": "stream",
     "text": [
      "673/673 [==============================] - 13s 19ms/step - loss: 0.1389 - accuracy: 0.9529 - val_loss: 0.5992 - val_accuracy: 0.8654\n",
      "Epoch 67/100\n",
      "673/673 [==============================] - 11s 17ms/step - loss: 0.1166 - accuracy: 0.9609 - val_loss: 0.6087 - val_accuracy: 0.8643\n",
      "Epoch 68/100\n",
      "673/673 [==============================] - 11s 17ms/step - loss: 0.1307 - accuracy: 0.9566 - val_loss: 0.5606 - val_accuracy: 0.8610\n",
      "Epoch 69/100\n",
      "670/673 [============================>.] - ETA: 0s - loss: 0.1077 - accuracy: 0.9646"
     ]
    },
    {
     "name": "stderr",
     "output_type": "stream",
     "text": [
      "WARNING:absl:Found untraced functions such as _update_step_xla while saving (showing 1 of 1). These functions will not be directly callable after loading.\n"
     ]
    },
    {
     "name": "stdout",
     "output_type": "stream",
     "text": [
      "INFO:tensorflow:Assets written to: ./model4_chkpnt_20221129/Split_DNN_model4_checkpoint_069-0.87/assets\n"
     ]
    },
    {
     "name": "stderr",
     "output_type": "stream",
     "text": [
      "INFO:tensorflow:Assets written to: ./model4_chkpnt_20221129/Split_DNN_model4_checkpoint_069-0.87/assets\n"
     ]
    },
    {
     "name": "stdout",
     "output_type": "stream",
     "text": [
      "673/673 [==============================] - 13s 19ms/step - loss: 0.1075 - accuracy: 0.9647 - val_loss: 0.6320 - val_accuracy: 0.8662\n",
      "Epoch 70/100\n",
      "673/673 [==============================] - 11s 17ms/step - loss: 0.1170 - accuracy: 0.9621 - val_loss: 0.5944 - val_accuracy: 0.8602\n",
      "Epoch 71/100\n",
      "673/673 [==============================] - 11s 17ms/step - loss: 0.1276 - accuracy: 0.9582 - val_loss: 0.6255 - val_accuracy: 0.8465\n",
      "Epoch 72/100\n",
      "671/673 [============================>.] - ETA: 0s - loss: 0.1170 - accuracy: 0.9601"
     ]
    },
    {
     "name": "stderr",
     "output_type": "stream",
     "text": [
      "WARNING:absl:Found untraced functions such as _update_step_xla while saving (showing 1 of 1). These functions will not be directly callable after loading.\n"
     ]
    },
    {
     "name": "stdout",
     "output_type": "stream",
     "text": [
      "INFO:tensorflow:Assets written to: ./model4_chkpnt_20221129/Split_DNN_model4_checkpoint_072-0.87/assets\n"
     ]
    },
    {
     "name": "stderr",
     "output_type": "stream",
     "text": [
      "INFO:tensorflow:Assets written to: ./model4_chkpnt_20221129/Split_DNN_model4_checkpoint_072-0.87/assets\n"
     ]
    },
    {
     "name": "stdout",
     "output_type": "stream",
     "text": [
      "673/673 [==============================] - 14s 20ms/step - loss: 0.1173 - accuracy: 0.9600 - val_loss: 0.5783 - val_accuracy: 0.8665\n",
      "Epoch 73/100\n",
      "673/673 [==============================] - 11s 17ms/step - loss: 0.1256 - accuracy: 0.9594 - val_loss: 0.5909 - val_accuracy: 0.8639\n",
      "Epoch 74/100\n",
      "673/673 [==============================] - 11s 17ms/step - loss: 0.1257 - accuracy: 0.9591 - val_loss: 0.6458 - val_accuracy: 0.8584\n",
      "Epoch 75/100\n",
      "673/673 [==============================] - 11s 17ms/step - loss: 0.1082 - accuracy: 0.9629 - val_loss: 0.6328 - val_accuracy: 0.8647\n",
      "Epoch 76/100\n",
      "673/673 [==============================] - 11s 17ms/step - loss: 0.1094 - accuracy: 0.9633 - val_loss: 0.6688 - val_accuracy: 0.8543\n",
      "Epoch 77/100\n",
      "673/673 [==============================] - 11s 16ms/step - loss: 0.1088 - accuracy: 0.9655 - val_loss: 0.5907 - val_accuracy: 0.8599\n",
      "Epoch 78/100\n",
      "673/673 [==============================] - ETA: 0s - loss: 0.0972 - accuracy: 0.9682"
     ]
    },
    {
     "name": "stderr",
     "output_type": "stream",
     "text": [
      "WARNING:absl:Found untraced functions such as _update_step_xla while saving (showing 1 of 1). These functions will not be directly callable after loading.\n"
     ]
    },
    {
     "name": "stdout",
     "output_type": "stream",
     "text": [
      "INFO:tensorflow:Assets written to: ./model4_chkpnt_20221129/Split_DNN_model4_checkpoint_078-0.87/assets\n"
     ]
    },
    {
     "name": "stderr",
     "output_type": "stream",
     "text": [
      "INFO:tensorflow:Assets written to: ./model4_chkpnt_20221129/Split_DNN_model4_checkpoint_078-0.87/assets\n"
     ]
    },
    {
     "name": "stdout",
     "output_type": "stream",
     "text": [
      "673/673 [==============================] - 13s 19ms/step - loss: 0.0972 - accuracy: 0.9682 - val_loss: 0.6085 - val_accuracy: 0.8680\n",
      "Epoch 79/100\n",
      "673/673 [==============================] - 11s 17ms/step - loss: 0.1141 - accuracy: 0.9636 - val_loss: 0.6266 - val_accuracy: 0.8602\n",
      "Epoch 80/100\n",
      "673/673 [==============================] - ETA: 0s - loss: 0.1035 - accuracy: 0.9664"
     ]
    },
    {
     "name": "stderr",
     "output_type": "stream",
     "text": [
      "WARNING:absl:Found untraced functions such as _update_step_xla while saving (showing 1 of 1). These functions will not be directly callable after loading.\n"
     ]
    },
    {
     "name": "stdout",
     "output_type": "stream",
     "text": [
      "INFO:tensorflow:Assets written to: ./model4_chkpnt_20221129/Split_DNN_model4_checkpoint_080-0.87/assets\n"
     ]
    },
    {
     "name": "stderr",
     "output_type": "stream",
     "text": [
      "INFO:tensorflow:Assets written to: ./model4_chkpnt_20221129/Split_DNN_model4_checkpoint_080-0.87/assets\n"
     ]
    },
    {
     "name": "stdout",
     "output_type": "stream",
     "text": [
      "673/673 [==============================] - 13s 19ms/step - loss: 0.1035 - accuracy: 0.9664 - val_loss: 0.6347 - val_accuracy: 0.8714\n",
      "Epoch 81/100\n",
      "673/673 [==============================] - 11s 17ms/step - loss: 0.0959 - accuracy: 0.9692 - val_loss: 0.7212 - val_accuracy: 0.8606\n",
      "Epoch 82/100\n",
      "673/673 [==============================] - 11s 16ms/step - loss: 0.1202 - accuracy: 0.9610 - val_loss: 0.6615 - val_accuracy: 0.8632\n",
      "Epoch 83/100\n",
      "673/673 [==============================] - 11s 17ms/step - loss: 0.1054 - accuracy: 0.9670 - val_loss: 0.6500 - val_accuracy: 0.8535\n",
      "Epoch 84/100\n",
      "673/673 [==============================] - 11s 17ms/step - loss: 0.1063 - accuracy: 0.9656 - val_loss: 0.6315 - val_accuracy: 0.8662\n",
      "Epoch 85/100\n",
      "673/673 [==============================] - 11s 16ms/step - loss: 0.0932 - accuracy: 0.9703 - val_loss: 0.6720 - val_accuracy: 0.8599\n",
      "Epoch 86/100\n",
      "673/673 [==============================] - 11s 17ms/step - loss: 0.1048 - accuracy: 0.9648 - val_loss: 0.6414 - val_accuracy: 0.8613\n",
      "Epoch 87/100\n",
      "673/673 [==============================] - 11s 17ms/step - loss: 0.1079 - accuracy: 0.9664 - val_loss: 0.7102 - val_accuracy: 0.8628\n",
      "Epoch 88/100\n",
      "673/673 [==============================] - 11s 17ms/step - loss: 0.1011 - accuracy: 0.9681 - val_loss: 0.6542 - val_accuracy: 0.8580\n",
      "Epoch 89/100\n",
      "671/673 [============================>.] - ETA: 0s - loss: 0.0865 - accuracy: 0.9708"
     ]
    },
    {
     "name": "stderr",
     "output_type": "stream",
     "text": [
      "WARNING:absl:Found untraced functions such as _update_step_xla while saving (showing 1 of 1). These functions will not be directly callable after loading.\n"
     ]
    },
    {
     "name": "stdout",
     "output_type": "stream",
     "text": [
      "INFO:tensorflow:Assets written to: ./model4_chkpnt_20221129/Split_DNN_model4_checkpoint_089-0.87/assets\n"
     ]
    },
    {
     "name": "stderr",
     "output_type": "stream",
     "text": [
      "INFO:tensorflow:Assets written to: ./model4_chkpnt_20221129/Split_DNN_model4_checkpoint_089-0.87/assets\n"
     ]
    },
    {
     "name": "stdout",
     "output_type": "stream",
     "text": [
      "673/673 [==============================] - 13s 19ms/step - loss: 0.0864 - accuracy: 0.9709 - val_loss: 0.6078 - val_accuracy: 0.8725\n",
      "Epoch 90/100\n",
      "673/673 [==============================] - 11s 16ms/step - loss: 0.0894 - accuracy: 0.9711 - val_loss: 0.6617 - val_accuracy: 0.8628\n",
      "Epoch 91/100\n",
      "673/673 [==============================] - 11s 16ms/step - loss: 0.1074 - accuracy: 0.9671 - val_loss: 0.6168 - val_accuracy: 0.8639\n",
      "Epoch 92/100\n",
      "673/673 [==============================] - 11s 17ms/step - loss: 0.0907 - accuracy: 0.9710 - val_loss: 0.7322 - val_accuracy: 0.8613\n",
      "Epoch 93/100\n",
      "673/673 [==============================] - ETA: 0s - loss: 0.0888 - accuracy: 0.9718"
     ]
    },
    {
     "name": "stderr",
     "output_type": "stream",
     "text": [
      "WARNING:absl:Found untraced functions such as _update_step_xla while saving (showing 1 of 1). These functions will not be directly callable after loading.\n"
     ]
    },
    {
     "name": "stdout",
     "output_type": "stream",
     "text": [
      "INFO:tensorflow:Assets written to: ./model4_chkpnt_20221129/Split_DNN_model4_checkpoint_093-0.87/assets\n"
     ]
    },
    {
     "name": "stderr",
     "output_type": "stream",
     "text": [
      "INFO:tensorflow:Assets written to: ./model4_chkpnt_20221129/Split_DNN_model4_checkpoint_093-0.87/assets\n"
     ]
    },
    {
     "name": "stdout",
     "output_type": "stream",
     "text": [
      "673/673 [==============================] - 13s 19ms/step - loss: 0.0888 - accuracy: 0.9718 - val_loss: 0.6251 - val_accuracy: 0.8729\n",
      "Epoch 94/100\n",
      "673/673 [==============================] - 11s 17ms/step - loss: 0.0785 - accuracy: 0.9749 - val_loss: 0.6659 - val_accuracy: 0.8651\n",
      "Epoch 95/100\n",
      "673/673 [==============================] - 11s 17ms/step - loss: 0.1065 - accuracy: 0.9671 - val_loss: 0.6130 - val_accuracy: 0.8621\n",
      "Epoch 96/100\n",
      "673/673 [==============================] - 11s 16ms/step - loss: 0.0879 - accuracy: 0.9731 - val_loss: 0.6935 - val_accuracy: 0.8680\n",
      "Epoch 97/100\n",
      "673/673 [==============================] - 11s 16ms/step - loss: 0.1027 - accuracy: 0.9687 - val_loss: 0.6473 - val_accuracy: 0.8691\n",
      "Epoch 98/100\n",
      "673/673 [==============================] - 11s 17ms/step - loss: 0.0975 - accuracy: 0.9710 - val_loss: 0.6313 - val_accuracy: 0.8710\n",
      "Epoch 99/100\n",
      "673/673 [==============================] - 11s 16ms/step - loss: 0.0851 - accuracy: 0.9729 - val_loss: 0.6216 - val_accuracy: 0.8703\n",
      "Epoch 100/100\n",
      "672/673 [============================>.] - ETA: 0s - loss: 0.0772 - accuracy: 0.9746"
     ]
    },
    {
     "name": "stderr",
     "output_type": "stream",
     "text": [
      "WARNING:absl:Found untraced functions such as _update_step_xla while saving (showing 1 of 1). These functions will not be directly callable after loading.\n"
     ]
    },
    {
     "name": "stdout",
     "output_type": "stream",
     "text": [
      "INFO:tensorflow:Assets written to: ./model4_chkpnt_20221129/Split_DNN_model4_checkpoint_100-0.88/assets\n"
     ]
    },
    {
     "name": "stderr",
     "output_type": "stream",
     "text": [
      "INFO:tensorflow:Assets written to: ./model4_chkpnt_20221129/Split_DNN_model4_checkpoint_100-0.88/assets\n"
     ]
    },
    {
     "name": "stdout",
     "output_type": "stream",
     "text": [
      "673/673 [==============================] - 13s 19ms/step - loss: 0.0772 - accuracy: 0.9746 - val_loss: 0.6656 - val_accuracy: 0.8755\n"
     ]
    },
    {
     "name": "stderr",
     "output_type": "stream",
     "text": [
      "WARNING:absl:Found untraced functions such as _update_step_xla while saving (showing 1 of 1). These functions will not be directly callable after loading.\n"
     ]
    },
    {
     "name": "stdout",
     "output_type": "stream",
     "text": [
      "INFO:tensorflow:Assets written to: ./model4_chkpnt_20221129/dnn_model_v4_with_dropout_final_model_100epochs/assets\n"
     ]
    },
    {
     "name": "stderr",
     "output_type": "stream",
     "text": [
      "INFO:tensorflow:Assets written to: ./model4_chkpnt_20221129/dnn_model_v4_with_dropout_final_model_100epochs/assets\n"
     ]
    }
   ],
   "source": [
    "# Split DNN model with flatten in the beginning and light regularization in theme split\n",
    "\n",
    "model4.compile(optimizer = 'adam',\n",
    "                     loss='categorical_crossentropy',\n",
    "                     metrics = ['accuracy']\n",
    "                     )\n",
    "\n",
    "checkpoint_filepath = './model4_chkpnt_20221129/Split_DNN_model4_checkpoint_{epoch:03d}-{val_accuracy:.2f}'\n",
    "\n",
    "model_checkpoint_callback = tf.keras.callbacks.ModelCheckpoint(\n",
    "    filepath=checkpoint_filepath,\n",
    "    save_weights_only=False,\n",
    "    monitor='val_accuracy',\n",
    "    mode='max',\n",
    "    save_best_only=True)\n",
    "\n",
    "h4 = model4.fit({'audio_in': x_train_audio, 'theme_in': x_train_theme},{'op': y_train},\n",
    "              epochs=100, batch_size=32,\n",
    "            validation_data=({'audio_in': x_test_audio, 'theme_in': x_test_theme},{'op': y_test}),\n",
    "            callbacks=[model_checkpoint_callback])\n",
    "\n",
    "\n",
    "model4.save('./model4_chkpnt_20221129/dnn_model_v4_with_dropout_final_model_100epochs')"
   ]
  },
  {
   "cell_type": "code",
   "execution_count": 18,
   "metadata": {
    "slideshow": {
     "slide_type": "subslide"
    }
   },
   "outputs": [
    {
     "data": {
      "image/png": "[encoded data removed]",
      "text/plain": [
       "<Figure size 1200x500 with 2 Axes>"
      ]
     },
     "metadata": {},
     "output_type": "display_data"
    }
   ],
   "source": [
    "plot_history(h4)"
   ]
  },
  {
   "cell_type": "code",
   "execution_count": 19,
   "metadata": {
    "slideshow": {
     "slide_type": "subslide"
    }
   },
   "outputs": [
    {
     "name": "stdout",
     "output_type": "stream",
     "text": [
      "673/673 [==============================] - 3s 3ms/step - loss: 0.0444 - accuracy: 0.9865\n",
      "85/85 [==============================] - 0s 3ms/step - loss: 0.6656 - accuracy: 0.8755\n",
      "85/85 [==============================] - 0s 4ms/step - loss: 0.7895 - accuracy: 0.8580\n",
      "train accuracy : 0.9864776730537415 | valid accuracy : 0.875464677810669 | test accuracy : 0.8579925894737244\n"
     ]
    }
   ],
   "source": [
    "accuracy_score('./model4_chkpnt_20221129/dnn_model_v4_with_dropout_final_model_100epochs')"
   ]
  },
  {
   "cell_type": "markdown",
   "metadata": {
    "slideshow": {
     "slide_type": "subslide"
    }
   },
   "source": [
    "Best model"
   ]
  },
  {
   "cell_type": "markdown",
   "metadata": {
    "slideshow": {
     "slide_type": "slide"
    }
   },
   "source": [
    "\n",
    "The best architecture for split DNN is model 4 given below-\n",
    "\n",
    "Audio Split - 1 Flatten layer, 4 dense layers and no regularization\n",
    "\n",
    "Theme Split - 1 Flatten layer, 2 dense layer with dropout regularization of 0.05\n",
    "\n",
    "Concatenated split - 1 concatenated layer, 4 dense layers and regularization \n",
    "\n",
    "It yields training, testing and validation accuracy of 98%, 87% and 85% respectively"
   ]
  }
 ],
 "metadata": {
  "celltoolbar": "Slideshow",
  "kernelspec": {
   "display_name": "Python 3 (ipykernel)",
   "language": "python",
   "name": "python3"
  },
  "language_info": {
   "codemirror_mode": {
    "name": "ipython",
    "version": 3
   },
   "file_extension": ".py",
   "mimetype": "text/x-python",
   "name": "python",
   "nbconvert_exporter": "python",
   "pygments_lexer": "ipython3",
   "version": "3.9.7"
  },
  "vscode": {
   "interpreter": {
    "hash": "4699a25f376d65a513f5cdbbe338e0837a12cbc5eae8a3725f0e413f2e7c51eb"
   }
  }
 },
 "nbformat": 4,
 "nbformat_minor": 4
}
