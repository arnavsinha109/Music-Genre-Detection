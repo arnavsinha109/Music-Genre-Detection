{
 "cells": [
  {
   "cell_type": "markdown",
   "id": "09ec4a65",
   "metadata": {
    "slideshow": {
     "slide_type": "slide"
    }
   },
   "source": [
    "# Extraction of Audio Features\n"
   ]
  },
  {
   "cell_type": "code",
   "execution_count": 1,
   "id": "42f715fc",
   "metadata": {
    "slideshow": {
     "slide_type": "subslide"
    }
   },
   "outputs": [],
   "source": [
    "import pandas as pd\n",
    "import math\n",
    "import os\n",
    "import librosa\n",
    "from tqdm import tqdm\n",
    "import warnings\n",
    "warnings.filterwarnings(\"ignore\")"
   ]
  },
  {
   "cell_type": "markdown",
   "id": "edc6775c",
   "metadata": {
    "slideshow": {
     "slide_type": "slide"
    }
   },
   "source": [
    "The main aim of this notebook is to extract the mfcc features i.e. the audio data from the files. In this notebook we extract features of length 125. It does the same thing as Audio_FeatureExtraction_250 notebook except here we split the songs into 10 parts and we have mfcc features of length 125.\n",
    "\n",
    "Disclaimer - Some of the cells here have used 150 to name the files, please ignore that, it is supposed to be 125 but we realised it too late to make any change. Any 150 you see here, please replace with 125. This has only affected naming of datasets and not actual datasets which are of length 125 only.\n",
    "\n"
   ]
  },
  {
   "cell_type": "code",
   "execution_count": 2,
   "id": "04b8539f",
   "metadata": {
    "slideshow": {
     "slide_type": "subslide"
    }
   },
   "outputs": [],
   "source": [
    "musicLocation = './fma_medium_tracks'\n",
    "tracksMetaData = pd.read_csv('./tracksMetaData.csv')"
   ]
  },
  {
   "cell_type": "code",
   "execution_count": 3,
   "id": "377c670e",
   "metadata": {
    "slideshow": {
     "slide_type": "subslide"
    }
   },
   "outputs": [
    {
     "data": {
      "text/html": [
       "<div>\n",
       "<style scoped>\n",
       "    .dataframe tbody tr th:only-of-type {\n",
       "        vertical-align: middle;\n",
       "    }\n",
       "\n",
       "    .dataframe tbody tr th {\n",
       "        vertical-align: top;\n",
       "    }\n",
       "\n",
       "    .dataframe thead th {\n",
       "        text-align: right;\n",
       "    }\n",
       "</style>\n",
       "<table border=\"1\" class=\"dataframe\">\n",
       "  <thead>\n",
       "    <tr style=\"text-align: right;\">\n",
       "      <th></th>\n",
       "      <th>id</th>\n",
       "      <th>trackName</th>\n",
       "      <th>genre</th>\n",
       "      <th>trackArtist</th>\n",
       "    </tr>\n",
       "  </thead>\n",
       "  <tbody>\n",
       "    <tr>\n",
       "      <th>0</th>\n",
       "      <td>2</td>\n",
       "      <td>Food</td>\n",
       "      <td>Hip-Hop</td>\n",
       "      <td>AWOL</td>\n",
       "    </tr>\n",
       "    <tr>\n",
       "      <th>1</th>\n",
       "      <td>3</td>\n",
       "      <td>Electric Ave</td>\n",
       "      <td>Hip-Hop</td>\n",
       "      <td>AWOL</td>\n",
       "    </tr>\n",
       "    <tr>\n",
       "      <th>2</th>\n",
       "      <td>5</td>\n",
       "      <td>This World</td>\n",
       "      <td>Hip-Hop</td>\n",
       "      <td>AWOL</td>\n",
       "    </tr>\n",
       "    <tr>\n",
       "      <th>3</th>\n",
       "      <td>10</td>\n",
       "      <td>Freeway</td>\n",
       "      <td>Pop</td>\n",
       "      <td>Kurt Vile</td>\n",
       "    </tr>\n",
       "    <tr>\n",
       "      <th>4</th>\n",
       "      <td>134</td>\n",
       "      <td>Street Music</td>\n",
       "      <td>Hip-Hop</td>\n",
       "      <td>AWOL</td>\n",
       "    </tr>\n",
       "    <tr>\n",
       "      <th>...</th>\n",
       "      <td>...</td>\n",
       "      <td>...</td>\n",
       "      <td>...</td>\n",
       "      <td>...</td>\n",
       "    </tr>\n",
       "    <tr>\n",
       "      <th>24995</th>\n",
       "      <td>155297</td>\n",
       "      <td>Nebula Reborn</td>\n",
       "      <td>Instrumental</td>\n",
       "      <td>Alex Mason/BlackSunAeon Music</td>\n",
       "    </tr>\n",
       "    <tr>\n",
       "      <th>24996</th>\n",
       "      <td>155298</td>\n",
       "      <td>An Idiot Abroad</td>\n",
       "      <td>Folk</td>\n",
       "      <td>Greg Atkinson</td>\n",
       "    </tr>\n",
       "    <tr>\n",
       "      <th>24997</th>\n",
       "      <td>155306</td>\n",
       "      <td>Tiny Man</td>\n",
       "      <td>Folk</td>\n",
       "      <td>Greg Atkinson</td>\n",
       "    </tr>\n",
       "    <tr>\n",
       "      <th>24998</th>\n",
       "      <td>155307</td>\n",
       "      <td>Kolka</td>\n",
       "      <td>Experimental</td>\n",
       "      <td>AWOTT</td>\n",
       "    </tr>\n",
       "    <tr>\n",
       "      <th>24999</th>\n",
       "      <td>155314</td>\n",
       "      <td>Miracle Grow</td>\n",
       "      <td>Rock</td>\n",
       "      <td>Spowder</td>\n",
       "    </tr>\n",
       "  </tbody>\n",
       "</table>\n",
       "<p>25000 rows × 4 columns</p>\n",
       "</div>"
      ],
      "text/plain": [
       "           id        trackName         genre                    trackArtist\n",
       "0           2             Food       Hip-Hop                           AWOL\n",
       "1           3     Electric Ave       Hip-Hop                           AWOL\n",
       "2           5       This World       Hip-Hop                           AWOL\n",
       "3          10          Freeway           Pop                      Kurt Vile\n",
       "4         134     Street Music       Hip-Hop                           AWOL\n",
       "...       ...              ...           ...                            ...\n",
       "24995  155297    Nebula Reborn  Instrumental  Alex Mason/BlackSunAeon Music\n",
       "24996  155298  An Idiot Abroad          Folk                  Greg Atkinson\n",
       "24997  155306         Tiny Man          Folk                  Greg Atkinson\n",
       "24998  155307            Kolka  Experimental                          AWOTT\n",
       "24999  155314     Miracle Grow          Rock                        Spowder\n",
       "\n",
       "[25000 rows x 4 columns]"
      ]
     },
     "execution_count": 3,
     "metadata": {},
     "output_type": "execute_result"
    }
   ],
   "source": [
    "tracksMetaData"
   ]
  },
  {
   "cell_type": "markdown",
   "id": "2d552af4",
   "metadata": {
    "slideshow": {
     "slide_type": "slide"
    }
   },
   "source": [
    "In order to extract the MFCC features, we use the librosa library. This library can help us read the audio file and extract the mfcc feature from it. What MFcc features are and how they work is explained in depth in the report and Powerpoint slides. In total we had around 25,000 songs each 30 seconds long, for which we will read and extract the features."
   ]
  },
  {
   "cell_type": "markdown",
   "id": "66a6e447",
   "metadata": {
    "slideshow": {
     "slide_type": "subslide"
    }
   },
   "source": [
    "Since we also need to get lyrics for each song, we expected a lot of songs to be eliminated due to lack of lyrics or issues with reading the audio files. In order to compensate for that, we divide each song into 10 segments here, that is a song that is of 30 seconds gets divided into 10 songs of 3 seconds length, this is done through samples per segment. Then for each broken song we extract the mfcc featus which is of [125 * 15] shape. The extracted features are placed a Dataframe along with its id and genre. Any songs that are broken due to any issue is ignored and placed in a seperate dataframe."
   ]
  },
  {
   "cell_type": "code",
   "execution_count": 4,
   "id": "cbdfa161",
   "metadata": {
    "slideshow": {
     "slide_type": "subslide"
    }
   },
   "outputs": [],
   "source": [
    "def extractFeatures(musicPath,seg1,seg2):\n",
    "    \n",
    "    sampleRate = 22050\n",
    "    numSegment=10\n",
    "    numMfcc=15\n",
    "    \n",
    "    data = pd.DataFrame()\n",
    "    broken = pd.DataFrame()\n",
    "    cnt = 0\n",
    "    totalCnt = 0\n",
    "    samples_per_segment = int(sampleRate * 29 / numSegment)\n",
    "    filenames = os.listdir(musicPath)\n",
    "    for f in tqdm(filenames[seg1:seg2]):\n",
    "        try:\n",
    "            file_path = musicPath +\"/\" + \"/\" + str(f)\n",
    "            y, sr = librosa.load(file_path, sr = sampleRate)\n",
    "            for n in range(numSegment):\n",
    "                totalCnt = totalCnt + 1\n",
    "                start = samples_per_segment * n\n",
    "                finish = start + samples_per_segment\n",
    "\n",
    "                mfcc = librosa.feature.mfcc(y[start:finish], \n",
    "                       sampleRate, n_mfcc = numMfcc, \n",
    "                   n_fft = 2048, hop_length = 512)   \n",
    "                idd = str(int(f.split('.')[0]))\n",
    "                df = pd.DataFrame()\n",
    "                df['id'] = [idd+'_'+str(n)]\n",
    "                df['genre'] = tracksMetaData.loc[tracksMetaData['id'] == int(idd)]['genre'].values\n",
    "                for i in range(numMfcc):\n",
    "                    df['mfccFeature_'+str(i)] = [list(mfcc[i])]\n",
    "                data = pd.concat([data,df])\n",
    "                cnt = cnt + 1\n",
    "        except Exception as e:\n",
    "            df = pd.DataFrame()\n",
    "            df['filename'] = [f]\n",
    "            print('Broke at '+ f,e)\n",
    "            broken = pd.concat([broken,df])\n",
    "            continue\n",
    "                \n",
    "    print(totalCnt,cnt)\n",
    "    return data,broken\n",
    "    "
   ]
  },
  {
   "cell_type": "markdown",
   "id": "2594383f",
   "metadata": {
    "slideshow": {
     "slide_type": "slide"
    }
   },
   "source": [
    "While the function \"extractFeatures\" does the actual extraction, we need a efficient way of calling it on all the songs, for that we use \"saveFiles\", This takes start and end of a segment where the start and end are multiplied by 1000.\n",
    "\n",
    "Eg: Startpart = 0 and endPart = 5 results in songs from 0 to 5000.\n",
    "\n",
    "We give each segment a unique name, by doing it this way we get a check point system to save at every step so that if anything happens, we do not lose all progress."
   ]
  },
  {
   "cell_type": "code",
   "execution_count": 5,
   "id": "3aabe3fd",
   "metadata": {
    "slideshow": {
     "slide_type": "subslide"
    }
   },
   "outputs": [],
   "source": [
    "for i in range(startPart,endPart):\n",
    "        print('Starting Part '+ str(i) +' from '+str(i*1000) +' to ' + str((i+1)*1000))\n",
    "        data,broken = extractFeatures(musicLocation,i*1000,(i+1)*1000)\n",
    "        data.to_csv('tracksAudioFeatures_150/tracksAudioFeatures_150_'+segmentName+'_part_'+str(i)+'.csv')\n",
    "        if len(broken) >0:\n",
    "            print('Broken Part saved '+ str(i))\n",
    "            print('Length of broken ',len(broken))\n",
    "            broken.to_csv('tracksAudioFeatures_150/broken_tracksAudioFeatures_150_'+segmentName+'_part_'+str(i)+'.csv')\n",
    "        print('Finished Part '+ str(i))\n",
    "        print('Saved as '+ 'tracksAudioFeatures_150/tracksAudioFeatures_150_'+segmentName+'_part_'+str(i)+'.csv')\n",
    "        "
   ]
  },
  {
   "cell_type": "markdown",
   "id": "a637e30c",
   "metadata": {
    "slideshow": {
     "slide_type": "slide"
    }
   },
   "source": [
    "Following cells call saveFiles() and creates five unique segments each of 5000 songs. Each segment is then broken in to parts of 1000 songs, which on average took 11 mins so in total it us 250*11 mins to complete all songs"
   ]
  },
  {
   "cell_type": "code",
   "execution_count": 6,
   "id": "30e15203",
   "metadata": {
    "slideshow": {
     "slide_type": "subslide"
    }
   },
   "outputs": [
    {
     "name": "stdout",
     "output_type": "stream",
     "text": [
      "Starting Part 0 from 0 to 1000\n"
     ]
    },
    {
     "name": "stderr",
     "output_type": "stream",
     "text": [
      " 32%|████████████████████████▉                                                      | 316/1000 [03:37<07:52,  1.45it/s]"
     ]
    },
    {
     "name": "stdout",
     "output_type": "stream",
     "text": [
      "Broke at 001486.mp3 \n"
     ]
    },
    {
     "name": "stderr",
     "output_type": "stream",
     "text": [
      " 98%|█████████████████████████████████████████████████████████████████████████████▏ | 977/1000 [11:32<00:16,  1.43it/s]"
     ]
    },
    {
     "name": "stdout",
     "output_type": "stream",
     "text": [
      "Broke at 005574.mp3 \n"
     ]
    },
    {
     "name": "stderr",
     "output_type": "stream",
     "text": [
      "100%|██████████████████████████████████████████████████████████████████████████████| 1000/1000 [11:48<00:00,  1.41it/s]\n"
     ]
    },
    {
     "name": "stdout",
     "output_type": "stream",
     "text": [
      "9980 9980\n",
      "Broken Part saved 0\n",
      "Length of broken  2\n",
      "Finished Part 0\n",
      "Saved as tracksAudioFeatures_150/tracksAudioFeatures_150_firstSegment_part_0.csv\n",
      "Starting Part 1 from 1000 to 2000\n"
     ]
    },
    {
     "name": "stderr",
     "output_type": "stream",
     "text": [
      "100%|██████████████████████████████████████████████████████████████████████████████| 1000/1000 [11:56<00:00,  1.39it/s]\n"
     ]
    },
    {
     "name": "stdout",
     "output_type": "stream",
     "text": [
      "10000 10000\n",
      "Finished Part 1\n",
      "Saved as tracksAudioFeatures_150/tracksAudioFeatures_150_firstSegment_part_1.csv\n",
      "Starting Part 2 from 2000 to 3000\n"
     ]
    },
    {
     "name": "stderr",
     "output_type": "stream",
     "text": [
      "100%|██████████████████████████████████████████████████████████████████████████████| 1000/1000 [11:43<00:00,  1.42it/s]\n"
     ]
    },
    {
     "name": "stdout",
     "output_type": "stream",
     "text": [
      "10000 10000\n",
      "Finished Part 2\n",
      "Saved as tracksAudioFeatures_150/tracksAudioFeatures_150_firstSegment_part_2.csv\n",
      "Starting Part 3 from 3000 to 4000\n"
     ]
    },
    {
     "name": "stderr",
     "output_type": "stream",
     "text": [
      "100%|██████████████████████████████████████████████████████████████████████████████| 1000/1000 [11:42<00:00,  1.42it/s]\n"
     ]
    },
    {
     "name": "stdout",
     "output_type": "stream",
     "text": [
      "10000 10000\n",
      "Finished Part 3\n",
      "Saved as tracksAudioFeatures_150/tracksAudioFeatures_150_firstSegment_part_3.csv\n",
      "Starting Part 4 from 4000 to 5000\n"
     ]
    },
    {
     "name": "stderr",
     "output_type": "stream",
     "text": [
      "100%|██████████████████████████████████████████████████████████████████████████████| 1000/1000 [11:37<00:00,  1.43it/s]\n"
     ]
    },
    {
     "name": "stdout",
     "output_type": "stream",
     "text": [
      "10000 10000\n",
      "Finished Part 4\n",
      "Saved as tracksAudioFeatures_150/tracksAudioFeatures_150_firstSegment_part_4.csv\n"
     ]
    }
   ],
   "source": [
    "saveFiles(0,5,'firstSegment')"
   ]
  },
  {
   "cell_type": "code",
   "execution_count": 7,
   "id": "6be8d36c",
   "metadata": {
    "slideshow": {
     "slide_type": "subslide"
    }
   },
   "outputs": [
    {
     "name": "stdout",
     "output_type": "stream",
     "text": [
      "Starting Part 5 from 5000 to 6000\n"
     ]
    },
    {
     "name": "stderr",
     "output_type": "stream",
     "text": [
      "100%|██████████████████████████████████████████████████████████████████████████████| 1000/1000 [11:38<00:00,  1.43it/s]\n"
     ]
    },
    {
     "name": "stdout",
     "output_type": "stream",
     "text": [
      "10000 10000\n",
      "Finished Part 5\n",
      "Saved as tracksAudioFeatures_150/tracksAudioFeatures_150_secondSegment_part_5.csv\n",
      "Starting Part 6 from 6000 to 7000\n"
     ]
    },
    {
     "name": "stderr",
     "output_type": "stream",
     "text": [
      "100%|██████████████████████████████████████████████████████████████████████████████| 1000/1000 [11:59<00:00,  1.39it/s]\n"
     ]
    },
    {
     "name": "stdout",
     "output_type": "stream",
     "text": [
      "10000 10000\n",
      "Finished Part 6\n",
      "Saved as tracksAudioFeatures_150/tracksAudioFeatures_150_secondSegment_part_6.csv\n",
      "Starting Part 7 from 7000 to 8000\n"
     ]
    },
    {
     "name": "stderr",
     "output_type": "stream",
     "text": [
      "100%|██████████████████████████████████████████████████████████████████████████████| 1000/1000 [11:41<00:00,  1.42it/s]\n"
     ]
    },
    {
     "name": "stdout",
     "output_type": "stream",
     "text": [
      "10000 10000\n",
      "Finished Part 7\n",
      "Saved as tracksAudioFeatures_150/tracksAudioFeatures_150_secondSegment_part_7.csv\n",
      "Starting Part 8 from 8000 to 9000\n"
     ]
    },
    {
     "name": "stderr",
     "output_type": "stream",
     "text": [
      "100%|██████████████████████████████████████████████████████████████████████████████| 1000/1000 [11:47<00:00,  1.41it/s]\n"
     ]
    },
    {
     "name": "stdout",
     "output_type": "stream",
     "text": [
      "10000 10000\n",
      "Finished Part 8\n",
      "Saved as tracksAudioFeatures_150/tracksAudioFeatures_150_secondSegment_part_8.csv\n",
      "Starting Part 9 from 9000 to 10000\n"
     ]
    },
    {
     "name": "stderr",
     "output_type": "stream",
     "text": [
      "100%|██████████████████████████████████████████████████████████████████████████████| 1000/1000 [11:44<00:00,  1.42it/s]\n"
     ]
    },
    {
     "name": "stdout",
     "output_type": "stream",
     "text": [
      "10000 10000\n",
      "Finished Part 9\n",
      "Saved as tracksAudioFeatures_150/tracksAudioFeatures_150_secondSegment_part_9.csv\n"
     ]
    }
   ],
   "source": [
    "saveFiles(5,10,'secondSegment')"
   ]
  },
  {
   "cell_type": "code",
   "execution_count": 8,
   "id": "73496c67",
   "metadata": {
    "slideshow": {
     "slide_type": "subslide"
    }
   },
   "outputs": [
    {
     "name": "stdout",
     "output_type": "stream",
     "text": [
      "Starting Part 10 from 10000 to 11000\n"
     ]
    },
    {
     "name": "stderr",
     "output_type": "stream",
     "text": [
      " 68%|█████████████████████████████████████████████████████▎                         | 675/1000 [08:00<03:59,  1.36it/s]"
     ]
    },
    {
     "name": "stdout",
     "output_type": "stream",
     "text": [
      "Broke at 065753.mp3 \n"
     ]
    },
    {
     "name": "stderr",
     "output_type": "stream",
     "text": [
      "100%|██████████████████████████████████████████████████████████████████████████████| 1000/1000 [11:51<00:00,  1.40it/s]\n"
     ]
    },
    {
     "name": "stdout",
     "output_type": "stream",
     "text": [
      "9990 9990\n",
      "Broken Part saved 10\n",
      "Length of broken  1\n",
      "Finished Part 10\n",
      "Saved as tracksAudioFeatures_150/tracksAudioFeatures_150_thirdSegment_part_10.csv\n",
      "Starting Part 11 from 11000 to 12000\n"
     ]
    },
    {
     "name": "stderr",
     "output_type": "stream",
     "text": [
      "100%|██████████████████████████████████████████████████████████████████████████████| 1000/1000 [12:34<00:00,  1.33it/s]\n"
     ]
    },
    {
     "name": "stdout",
     "output_type": "stream",
     "text": [
      "10000 10000\n",
      "Finished Part 11\n",
      "Saved as tracksAudioFeatures_150/tracksAudioFeatures_150_thirdSegment_part_11.csv\n",
      "Starting Part 12 from 12000 to 13000\n"
     ]
    },
    {
     "name": "stderr",
     "output_type": "stream",
     "text": [
      "100%|██████████████████████████████████████████████████████████████████████████████| 1000/1000 [12:34<00:00,  1.33it/s]\n"
     ]
    },
    {
     "name": "stdout",
     "output_type": "stream",
     "text": [
      "10000 10000\n",
      "Finished Part 12\n",
      "Saved as tracksAudioFeatures_150/tracksAudioFeatures_150_thirdSegment_part_12.csv\n",
      "Starting Part 13 from 13000 to 14000\n"
     ]
    },
    {
     "name": "stderr",
     "output_type": "stream",
     "text": [
      " 15%|███████████▌                                                                   | 146/1000 [01:47<09:37,  1.48it/s]"
     ]
    },
    {
     "name": "stdout",
     "output_type": "stream",
     "text": [
      "Broke at 080391.mp3 \n"
     ]
    },
    {
     "name": "stderr",
     "output_type": "stream",
     "text": [
      "100%|██████████████████████████████████████████████████████████████████████████████| 1000/1000 [11:53<00:00,  1.40it/s]\n"
     ]
    },
    {
     "name": "stdout",
     "output_type": "stream",
     "text": [
      "9990 9990\n",
      "Broken Part saved 13\n",
      "Length of broken  1\n",
      "Finished Part 13\n",
      "Saved as tracksAudioFeatures_150/tracksAudioFeatures_150_thirdSegment_part_13.csv\n",
      "Starting Part 14 from 14000 to 15000\n"
     ]
    },
    {
     "name": "stderr",
     "output_type": "stream",
     "text": [
      "100%|██████████████████████████████████████████████████████████████████████████████| 1000/1000 [11:44<00:00,  1.42it/s]\n"
     ]
    },
    {
     "name": "stdout",
     "output_type": "stream",
     "text": [
      "10000 10000\n",
      "Finished Part 14\n",
      "Saved as tracksAudioFeatures_150/tracksAudioFeatures_150_thirdSegment_part_14.csv\n"
     ]
    }
   ],
   "source": [
    "saveFiles(10,15,'thirdSegment')"
   ]
  },
  {
   "cell_type": "code",
   "execution_count": 9,
   "id": "52157b91",
   "metadata": {
    "slideshow": {
     "slide_type": "subslide"
    }
   },
   "outputs": [
    {
     "name": "stdout",
     "output_type": "stream",
     "text": [
      "Starting Part 15 from 15000 to 16000\n"
     ]
    },
    {
     "name": "stderr",
     "output_type": "stream",
     "text": [
      " 63%|█████████████████████████████████████████████████▍                             | 626/1000 [07:28<04:25,  1.41it/s]"
     ]
    },
    {
     "name": "stdout",
     "output_type": "stream",
     "text": [
      "Broke at 098558.mp3 \n",
      "Broke at 098559.mp3 \n",
      "Broke at 098560.mp3 \n",
      "Broke at 098565.mp3 \n",
      "Broke at 098566.mp3 \n",
      "Broke at 098567.mp3 \n",
      "Broke at 098568.mp3 \n",
      "Broke at 098569.mp3 \n",
      "Broke at 098571.mp3 \n"
     ]
    },
    {
     "name": "stderr",
     "output_type": "stream",
     "text": [
      " 84%|██████████████████████████████████████████████████████████████████             | 836/1000 [09:53<01:56,  1.41it/s]"
     ]
    },
    {
     "name": "stdout",
     "output_type": "stream",
     "text": [
      "Broke at 099134.mp3 \n"
     ]
    },
    {
     "name": "stderr",
     "output_type": "stream",
     "text": [
      "100%|██████████████████████████████████████████████████████████████████████████████| 1000/1000 [11:50<00:00,  1.41it/s]\n"
     ]
    },
    {
     "name": "stdout",
     "output_type": "stream",
     "text": [
      "9900 9900\n",
      "Broken Part saved 15\n",
      "Length of broken  10\n",
      "Finished Part 15\n",
      "Saved as tracksAudioFeatures_150/tracksAudioFeatures_150_fourthSegment_part_15.csv\n",
      "Starting Part 16 from 16000 to 17000\n"
     ]
    },
    {
     "name": "stderr",
     "output_type": "stream",
     "text": [
      " 30%|████████████████████████                                                       | 305/1000 [03:35<08:00,  1.45it/s]"
     ]
    },
    {
     "name": "stdout",
     "output_type": "stream",
     "text": [
      "Broke at 105247.mp3 \n"
     ]
    },
    {
     "name": "stderr",
     "output_type": "stream",
     "text": [
      " 96%|███████████████████████████████████████████████████████████████████████████▋   | 958/1000 [11:21<00:29,  1.44it/s]"
     ]
    },
    {
     "name": "stdout",
     "output_type": "stream",
     "text": [
      "Broke at 108924.mp3 Input signal length=0 is too small to resample from 44100->22050\n",
      "Broke at 108925.mp3 \n"
     ]
    },
    {
     "name": "stderr",
     "output_type": "stream",
     "text": [
      "100%|██████████████████████████████████████████████████████████████████████████████| 1000/1000 [11:49<00:00,  1.41it/s]\n"
     ]
    },
    {
     "name": "stdout",
     "output_type": "stream",
     "text": [
      "9970 9970\n",
      "Broken Part saved 16\n",
      "Length of broken  3\n",
      "Finished Part 16\n",
      "Saved as tracksAudioFeatures_150/tracksAudioFeatures_150_fourthSegment_part_16.csv\n",
      "Starting Part 17 from 17000 to 18000\n"
     ]
    },
    {
     "name": "stderr",
     "output_type": "stream",
     "text": [
      "100%|██████████████████████████████████████████████████████████████████████████████| 1000/1000 [11:40<00:00,  1.43it/s]\n"
     ]
    },
    {
     "name": "stdout",
     "output_type": "stream",
     "text": [
      "10000 10000\n",
      "Finished Part 17\n",
      "Saved as tracksAudioFeatures_150/tracksAudioFeatures_150_fourthSegment_part_17.csv\n",
      "Starting Part 18 from 18000 to 19000\n"
     ]
    },
    {
     "name": "stderr",
     "output_type": "stream",
     "text": [
      "100%|██████████████████████████████████████████████████████████████████████████████| 1000/1000 [11:54<00:00,  1.40it/s]\n"
     ]
    },
    {
     "name": "stdout",
     "output_type": "stream",
     "text": [
      "10000 10000\n",
      "Finished Part 18\n",
      "Saved as tracksAudioFeatures_150/tracksAudioFeatures_150_fourthSegment_part_18.csv\n",
      "Starting Part 19 from 19000 to 20000\n"
     ]
    },
    {
     "name": "stderr",
     "output_type": "stream",
     "text": [
      "100%|██████████████████████████████████████████████████████████████████████████████| 1000/1000 [11:43<00:00,  1.42it/s]\n"
     ]
    },
    {
     "name": "stdout",
     "output_type": "stream",
     "text": [
      "10000 10000\n",
      "Finished Part 19\n",
      "Saved as tracksAudioFeatures_150/tracksAudioFeatures_150_fourthSegment_part_19.csv\n"
     ]
    }
   ],
   "source": [
    "saveFiles(15,20,'fourthSegment')"
   ]
  },
  {
   "cell_type": "code",
   "execution_count": 10,
   "id": "7900de51",
   "metadata": {
    "slideshow": {
     "slide_type": "subslide"
    }
   },
   "outputs": [
    {
     "name": "stdout",
     "output_type": "stream",
     "text": [
      "Starting Part 20 from 20000 to 21000\n"
     ]
    },
    {
     "name": "stderr",
     "output_type": "stream",
     "text": [
      " 62%|█████████████████████████████████████████████████                              | 621/1000 [07:24<04:11,  1.50it/s]"
     ]
    },
    {
     "name": "stdout",
     "output_type": "stream",
     "text": [
      "Broke at 126981.mp3 \n"
     ]
    },
    {
     "name": "stderr",
     "output_type": "stream",
     "text": [
      " 78%|█████████████████████████████████████████████████████████████▌                 | 780/1000 [09:12<02:26,  1.50it/s]"
     ]
    },
    {
     "name": "stdout",
     "output_type": "stream",
     "text": [
      "Broke at 127336.mp3 \n"
     ]
    },
    {
     "name": "stderr",
     "output_type": "stream",
     "text": [
      "100%|██████████████████████████████████████████████████████████████████████████████| 1000/1000 [11:44<00:00,  1.42it/s]\n"
     ]
    },
    {
     "name": "stdout",
     "output_type": "stream",
     "text": [
      "9980 9980\n",
      "Broken Part saved 20\n",
      "Length of broken  2\n",
      "Finished Part 20\n",
      "Saved as tracksAudioFeatures_150/tracksAudioFeatures_150_fifthSegment_part_20.csv\n",
      "Starting Part 21 from 21000 to 22000\n"
     ]
    },
    {
     "name": "stderr",
     "output_type": "stream",
     "text": [
      " 99%|██████████████████████████████████████████████████████████████████████████████ | 988/1000 [11:24<00:08,  1.47it/s]"
     ]
    },
    {
     "name": "stdout",
     "output_type": "stream",
     "text": [
      "Broke at 133297.mp3 \n"
     ]
    },
    {
     "name": "stderr",
     "output_type": "stream",
     "text": [
      "100%|██████████████████████████████████████████████████████████████████████████████| 1000/1000 [11:31<00:00,  1.45it/s]\n"
     ]
    },
    {
     "name": "stdout",
     "output_type": "stream",
     "text": [
      "9990 9990\n",
      "Broken Part saved 21\n",
      "Length of broken  1\n",
      "Finished Part 21\n",
      "Saved as tracksAudioFeatures_150/tracksAudioFeatures_150_fifthSegment_part_21.csv\n",
      "Starting Part 22 from 22000 to 23000\n"
     ]
    },
    {
     "name": "stderr",
     "output_type": "stream",
     "text": [
      "100%|██████████████████████████████████████████████████████████████████████████████| 1000/1000 [11:36<00:00,  1.44it/s]\n"
     ]
    },
    {
     "name": "stdout",
     "output_type": "stream",
     "text": [
      "10000 10000\n",
      "Finished Part 22\n",
      "Saved as tracksAudioFeatures_150/tracksAudioFeatures_150_fifthSegment_part_22.csv\n",
      "Starting Part 23 from 23000 to 24000\n"
     ]
    },
    {
     "name": "stderr",
     "output_type": "stream",
     "text": [
      " 62%|████████████████████████████████████████████████▉                              | 620/1000 [06:59<04:14,  1.49it/s]"
     ]
    },
    {
     "name": "stdout",
     "output_type": "stream",
     "text": [
      "Broke at 143992.mp3 \n"
     ]
    },
    {
     "name": "stderr",
     "output_type": "stream",
     "text": [
      "100%|██████████████████████████████████████████████████████████████████████████████| 1000/1000 [11:21<00:00,  1.47it/s]\n"
     ]
    },
    {
     "name": "stdout",
     "output_type": "stream",
     "text": [
      "9990 9990\n",
      "Broken Part saved 23\n",
      "Length of broken  1\n",
      "Finished Part 23\n",
      "Saved as tracksAudioFeatures_150/tracksAudioFeatures_150_fifthSegment_part_23.csv\n",
      "Starting Part 24 from 24000 to 25000\n"
     ]
    },
    {
     "name": "stderr",
     "output_type": "stream",
     "text": [
      "100%|██████████████████████████████████████████████████████████████████████████████| 1000/1000 [10:30<00:00,  1.59it/s]\n"
     ]
    },
    {
     "name": "stdout",
     "output_type": "stream",
     "text": [
      "10000 10000\n",
      "Finished Part 24\n",
      "Saved as tracksAudioFeatures_150/tracksAudioFeatures_150_fifthSegment_part_24.csv\n"
     ]
    }
   ],
   "source": [
    "saveFiles(20,25,'fifthSegment')"
   ]
  },
  {
   "cell_type": "markdown",
   "id": "6bbe9155",
   "metadata": {
    "slideshow": {
     "slide_type": "slide"
    }
   },
   "source": [
    "After we have all the datasets parts, we need to merge them, we merge broken into a single dataset too."
   ]
  },
  {
   "cell_type": "code",
   "execution_count": 11,
   "id": "b5026315",
   "metadata": {
    "slideshow": {
     "slide_type": "subslide"
    }
   },
   "outputs": [],
   "source": [
    "datasets = os.listdir('./tracksAudioFeatures_150')"
   ]
  },
  {
   "cell_type": "code",
   "execution_count": 12,
   "id": "1ead84dd",
   "metadata": {
    "slideshow": {
     "slide_type": "subslide"
    }
   },
   "outputs": [
    {
     "name": "stderr",
     "output_type": "stream",
     "text": [
      " 27%|██████████████████████▋                                                            | 9/33 [00:01<00:03,  6.40it/s]"
     ]
    },
    {
     "name": "stdout",
     "output_type": "stream",
     "text": [
      "tracksAudioFeatures_150_fifthSegment_part_20.csv\n",
      "<class 'str'>\n",
      "1466\n",
      "125\n"
     ]
    },
    {
     "name": "stderr",
     "output_type": "stream",
     "text": [
      "\r",
      " 30%|████████████████████████▊                                                         | 10/33 [00:02<00:07,  3.07it/s]"
     ]
    },
    {
     "name": "stdout",
     "output_type": "stream",
     "text": [
      "tracksAudioFeatures_150_fifthSegment_part_21.csv\n",
      "<class 'str'>\n",
      "1432\n",
      "125\n"
     ]
    },
    {
     "name": "stderr",
     "output_type": "stream",
     "text": [
      "\r",
      " 33%|███████████████████████████▎                                                      | 11/33 [00:04<00:11,  1.98it/s]"
     ]
    },
    {
     "name": "stdout",
     "output_type": "stream",
     "text": [
      "tracksAudioFeatures_150_fifthSegment_part_22.csv\n",
      "<class 'str'>\n",
      "1456\n",
      "125\n"
     ]
    },
    {
     "name": "stderr",
     "output_type": "stream",
     "text": [
      "\r",
      " 36%|█████████████████████████████▊                                                    | 12/33 [00:05<00:14,  1.47it/s]"
     ]
    },
    {
     "name": "stdout",
     "output_type": "stream",
     "text": [
      "tracksAudioFeatures_150_fifthSegment_part_23.csv\n",
      "<class 'str'>\n",
      "1429\n",
      "125\n"
     ]
    },
    {
     "name": "stderr",
     "output_type": "stream",
     "text": [
      "\r",
      " 39%|████████████████████████████████▎                                                 | 13/33 [00:07<00:16,  1.19it/s]"
     ]
    },
    {
     "name": "stdout",
     "output_type": "stream",
     "text": [
      "tracksAudioFeatures_150_fifthSegment_part_24.csv\n",
      "<class 'str'>\n",
      "1453\n",
      "125\n"
     ]
    },
    {
     "name": "stderr",
     "output_type": "stream",
     "text": [
      "\r",
      " 42%|██████████████████████████████████▊                                               | 14/33 [00:08<00:18,  1.02it/s]"
     ]
    },
    {
     "name": "stdout",
     "output_type": "stream",
     "text": [
      "tracksAudioFeatures_150_firstSegment_part_0.csv\n",
      "<class 'str'>\n",
      "1460\n",
      "125\n"
     ]
    },
    {
     "name": "stderr",
     "output_type": "stream",
     "text": [
      "\r",
      " 45%|█████████████████████████████████████▎                                            | 15/33 [00:10<00:20,  1.12s/it]"
     ]
    },
    {
     "name": "stdout",
     "output_type": "stream",
     "text": [
      "tracksAudioFeatures_150_firstSegment_part_1.csv\n",
      "<class 'str'>\n",
      "1477\n",
      "125\n"
     ]
    },
    {
     "name": "stderr",
     "output_type": "stream",
     "text": [
      "\r",
      " 48%|███████████████████████████████████████▊                                          | 16/33 [00:11<00:20,  1.20s/it]"
     ]
    },
    {
     "name": "stdout",
     "output_type": "stream",
     "text": [
      "tracksAudioFeatures_150_firstSegment_part_2.csv\n",
      "<class 'str'>\n",
      "1459\n",
      "125\n"
     ]
    },
    {
     "name": "stderr",
     "output_type": "stream",
     "text": [
      "\r",
      " 52%|██████████████████████████████████████████▏                                       | 17/33 [00:13<00:20,  1.31s/it]"
     ]
    },
    {
     "name": "stdout",
     "output_type": "stream",
     "text": [
      "tracksAudioFeatures_150_firstSegment_part_3.csv\n",
      "<class 'str'>\n",
      "1471\n",
      "125\n"
     ]
    },
    {
     "name": "stderr",
     "output_type": "stream",
     "text": [
      "\r",
      " 55%|████████████████████████████████████████████▋                                     | 18/33 [00:14<00:20,  1.36s/it]"
     ]
    },
    {
     "name": "stdout",
     "output_type": "stream",
     "text": [
      "tracksAudioFeatures_150_firstSegment_part_4.csv\n",
      "<class 'str'>\n",
      "1463\n",
      "125\n"
     ]
    },
    {
     "name": "stderr",
     "output_type": "stream",
     "text": [
      "\r",
      " 58%|███████████████████████████████████████████████▏                                  | 19/33 [00:16<00:19,  1.39s/it]"
     ]
    },
    {
     "name": "stdout",
     "output_type": "stream",
     "text": [
      "tracksAudioFeatures_150_fourthSegment_part_15.csv\n",
      "<class 'str'>\n",
      "1378\n",
      "125\n"
     ]
    },
    {
     "name": "stderr",
     "output_type": "stream",
     "text": [
      "\r",
      " 61%|█████████████████████████████████████████████████▋                                | 20/33 [00:17<00:18,  1.41s/it]"
     ]
    },
    {
     "name": "stdout",
     "output_type": "stream",
     "text": [
      "tracksAudioFeatures_150_fourthSegment_part_16.csv\n",
      "<class 'str'>\n",
      "1475\n",
      "125\n"
     ]
    },
    {
     "name": "stderr",
     "output_type": "stream",
     "text": [
      "\r",
      " 64%|████████████████████████████████████████████████████▏                             | 21/33 [00:18<00:16,  1.42s/it]"
     ]
    },
    {
     "name": "stdout",
     "output_type": "stream",
     "text": [
      "tracksAudioFeatures_150_fourthSegment_part_17.csv\n",
      "<class 'str'>\n",
      "1461\n",
      "125\n"
     ]
    },
    {
     "name": "stderr",
     "output_type": "stream",
     "text": [
      "\r",
      " 67%|██████████████████████████████████████████████████████▋                           | 22/33 [00:20<00:15,  1.43s/it]"
     ]
    },
    {
     "name": "stdout",
     "output_type": "stream",
     "text": [
      "tracksAudioFeatures_150_fourthSegment_part_18.csv\n",
      "<class 'str'>\n",
      "1464\n",
      "125\n"
     ]
    },
    {
     "name": "stderr",
     "output_type": "stream",
     "text": [
      "\r",
      " 70%|█████████████████████████████████████████████████████████▏                        | 23/33 [00:21<00:14,  1.43s/it]"
     ]
    },
    {
     "name": "stdout",
     "output_type": "stream",
     "text": [
      "tracksAudioFeatures_150_fourthSegment_part_19.csv\n",
      "<class 'str'>\n",
      "1457\n",
      "125\n"
     ]
    },
    {
     "name": "stderr",
     "output_type": "stream",
     "text": [
      "\r",
      " 73%|███████████████████████████████████████████████████████████▋                      | 24/33 [00:23<00:12,  1.44s/it]"
     ]
    },
    {
     "name": "stdout",
     "output_type": "stream",
     "text": [
      "tracksAudioFeatures_150_secondSegment_part_5.csv\n",
      "<class 'str'>\n",
      "1448\n",
      "125\n",
      "tracksAudioFeatures_150_secondSegment_part_6.csv\n",
      "<class 'str'>\n",
      "1471\n",
      "125\n"
     ]
    },
    {
     "name": "stderr",
     "output_type": "stream",
     "text": [
      " 79%|████████████████████████████████████████████████████████████████▌                 | 26/33 [00:27<00:11,  1.67s/it]"
     ]
    },
    {
     "name": "stdout",
     "output_type": "stream",
     "text": [
      "tracksAudioFeatures_150_secondSegment_part_7.csv\n",
      "<class 'str'>\n",
      "1339\n",
      "125\n",
      "tracksAudioFeatures_150_secondSegment_part_8.csv\n",
      "<class 'str'>\n",
      "1461\n",
      "125\n"
     ]
    },
    {
     "name": "stderr",
     "output_type": "stream",
     "text": [
      "\r",
      " 82%|███████████████████████████████████████████████████████████████████               | 27/33 [00:30<00:12,  2.04s/it]"
     ]
    },
    {
     "name": "stdout",
     "output_type": "stream",
     "text": [
      "tracksAudioFeatures_150_secondSegment_part_9.csv\n",
      "<class 'str'>\n",
      "1317\n",
      "125\n"
     ]
    },
    {
     "name": "stderr",
     "output_type": "stream",
     "text": [
      "\r",
      " 85%|█████████████████████████████████████████████████████████████████████▌            | 28/33 [00:33<00:12,  2.43s/it]"
     ]
    },
    {
     "name": "stdout",
     "output_type": "stream",
     "text": [
      "tracksAudioFeatures_150_thirdSegment_part_10.csv\n",
      "<class 'str'>\n",
      "1447\n",
      "125\n"
     ]
    },
    {
     "name": "stderr",
     "output_type": "stream",
     "text": [
      "\r",
      " 88%|████████████████████████████████████████████████████████████████████████          | 29/33 [00:37<00:11,  2.99s/it]"
     ]
    },
    {
     "name": "stdout",
     "output_type": "stream",
     "text": [
      "tracksAudioFeatures_150_thirdSegment_part_11.csv\n",
      "<class 'str'>\n",
      "1475\n",
      "125\n"
     ]
    },
    {
     "name": "stderr",
     "output_type": "stream",
     "text": [
      " 94%|█████████████████████████████████████████████████████████████████████████████     | 31/33 [00:41<00:04,  2.48s/it]"
     ]
    },
    {
     "name": "stdout",
     "output_type": "stream",
     "text": [
      "tracksAudioFeatures_150_thirdSegment_part_12.csv\n",
      "<class 'str'>\n",
      "1476\n",
      "125\n",
      "tracksAudioFeatures_150_thirdSegment_part_13.csv\n",
      "<class 'str'>\n",
      "1458\n",
      "125\n"
     ]
    },
    {
     "name": "stderr",
     "output_type": "stream",
     "text": [
      "100%|██████████████████████████████████████████████████████████████████████████████████| 33/33 [00:46<00:00,  1.42s/it]"
     ]
    },
    {
     "name": "stdout",
     "output_type": "stream",
     "text": [
      "tracksAudioFeatures_150_thirdSegment_part_14.csv\n",
      "<class 'str'>\n",
      "1469\n",
      "125\n"
     ]
    },
    {
     "name": "stderr",
     "output_type": "stream",
     "text": [
      "\n"
     ]
    }
   ],
   "source": [
    "tracksAudioFeatures_complete = pd.DataFrame()\n",
    "broken_tracksAudioFeatures_complete = pd.DataFrame()\n",
    "\n",
    "for i in tqdm(datasets):\n",
    "    x = pd.read_csv('./tracksAudioFeatures_150/' + i)\n",
    "    if 'broken' not in i:\n",
    "        print(i)\n",
    "        print(type(x['mfccFeature_0'].iloc[0]))\n",
    "        print(len(x['mfccFeature_0'].iloc[0]))\n",
    "        print(len(x['mfccFeature_0'].iloc[0].split(',')))\n",
    "        tracksAudioFeatures_complete = pd.concat([tracksAudioFeatures_complete,x])\n",
    "    else:\n",
    "        broken_tracksAudioFeatures_complete = pd.concat([broken_tracksAudioFeatures_complete,x])\n",
    "        \n",
    "tracksAudioFeatures_complete = tracksAudioFeatures_complete.drop(['Unnamed: 0'], axis=1)\n",
    "broken_tracksAudioFeatures_complete = broken_tracksAudioFeatures_complete.drop(['Unnamed: 0'], axis=1)\n",
    "       "
   ]
  },
  {
   "cell_type": "markdown",
   "id": "d17e9c39",
   "metadata": {
    "slideshow": {
     "slide_type": "slide"
    }
   },
   "source": [
    "Finally we have a total number of 249790 to be 124895 and 21 broken tracks. We explore the dataset to further to verify if all the shapes and types are correct."
   ]
  },
  {
   "cell_type": "code",
   "execution_count": 13,
   "id": "f4956755",
   "metadata": {
    "slideshow": {
     "slide_type": "subslide"
    }
   },
   "outputs": [
    {
     "data": {
      "text/html": [
       "<div>\n",
       "<style scoped>\n",
       "    .dataframe tbody tr th:only-of-type {\n",
       "        vertical-align: middle;\n",
       "    }\n",
       "\n",
       "    .dataframe tbody tr th {\n",
       "        vertical-align: top;\n",
       "    }\n",
       "\n",
       "    .dataframe thead th {\n",
       "        text-align: right;\n",
       "    }\n",
       "</style>\n",
       "<table border=\"1\" class=\"dataframe\">\n",
       "  <thead>\n",
       "    <tr style=\"text-align: right;\">\n",
       "      <th></th>\n",
       "      <th>id</th>\n",
       "      <th>genre</th>\n",
       "      <th>mfccFeature_0</th>\n",
       "      <th>mfccFeature_1</th>\n",
       "      <th>mfccFeature_2</th>\n",
       "      <th>mfccFeature_3</th>\n",
       "      <th>mfccFeature_4</th>\n",
       "      <th>mfccFeature_5</th>\n",
       "      <th>mfccFeature_6</th>\n",
       "      <th>mfccFeature_7</th>\n",
       "      <th>mfccFeature_8</th>\n",
       "      <th>mfccFeature_9</th>\n",
       "      <th>mfccFeature_10</th>\n",
       "      <th>mfccFeature_11</th>\n",
       "      <th>mfccFeature_12</th>\n",
       "      <th>mfccFeature_13</th>\n",
       "      <th>mfccFeature_14</th>\n",
       "    </tr>\n",
       "  </thead>\n",
       "  <tbody>\n",
       "    <tr>\n",
       "      <th>0</th>\n",
       "      <td>124423_0</td>\n",
       "      <td>Old-Time / Historic</td>\n",
       "      <td>[-331.76343, -206.83507, -150.79898, -144.4678...</td>\n",
       "      <td>[136.35646, 151.65372, 144.99507, 141.45316, 1...</td>\n",
       "      <td>[-92.903046, -127.679794, -140.80212, -139.403...</td>\n",
       "      <td>[-62.66017, -49.059425, -51.346558, -52.181923...</td>\n",
       "      <td>[-38.805756, -47.862038, -51.127518, -48.02935...</td>\n",
       "      <td>[-56.836433, -61.2565, -52.826473, -51.1662, -...</td>\n",
       "      <td>[-17.287859, -34.948433, -40.68494, -42.830673...</td>\n",
       "      <td>[-3.4888515, -4.506544, -0.52261865, 0.2448553...</td>\n",
       "      <td>[-16.90616, -24.62344, -23.808636, -21.55201, ...</td>\n",
       "      <td>[-1.4969412, -6.315495, -2.0328617, 5.059345, ...</td>\n",
       "      <td>[-17.040787, -17.715935, -17.042439, -9.658015...</td>\n",
       "      <td>[-28.81857, -30.039116, -20.462616, -15.730592...</td>\n",
       "      <td>[8.894039, 8.015279, 1.41698, -6.1483583, -11....</td>\n",
       "      <td>[9.8792515, 10.081762, 19.26508, 17.607117, 9....</td>\n",
       "      <td>[-4.434949, -3.4882398, 6.579256, 11.005165, 5...</td>\n",
       "    </tr>\n",
       "    <tr>\n",
       "      <th>1</th>\n",
       "      <td>124423_1</td>\n",
       "      <td>Old-Time / Historic</td>\n",
       "      <td>[-141.70447, -151.02011, -204.6398, -219.88483...</td>\n",
       "      <td>[70.76153, 69.304504, 54.755623, 62.831505, 70...</td>\n",
       "      <td>[-69.07377, -96.71388, -131.54568, -131.25073,...</td>\n",
       "      <td>[-2.5633497, -6.4746003, -19.870838, -15.17943...</td>\n",
       "      <td>[-10.86871, -12.382185, -22.568533, -15.358562...</td>\n",
       "      <td>[-53.357117, -58.777496, -64.76073, -66.34716,...</td>\n",
       "      <td>[-30.973467, -42.006577, -52.474915, -52.40824...</td>\n",
       "      <td>[14.31975, 16.98157, 23.953087, 23.335302, 18....</td>\n",
       "      <td>[-11.362137, -24.974201, -46.38675, -46.458347...</td>\n",
       "      <td>[-13.941832, -9.682327, -2.2792099, -0.9318579...</td>\n",
       "      <td>[11.06698, 18.50761, 18.23468, 19.086136, 18.4...</td>\n",
       "      <td>[0.7836997, -5.3090725, -9.245029, -15.167604,...</td>\n",
       "      <td>[-2.434061, 11.934198, 29.585491, 28.20034, 28...</td>\n",
       "      <td>[-0.4299671, 3.6665812, 6.398292, 3.2390728, -...</td>\n",
       "      <td>[2.2310064, -1.6334496, -8.868323, -8.320509, ...</td>\n",
       "    </tr>\n",
       "    <tr>\n",
       "      <th>2</th>\n",
       "      <td>124423_2</td>\n",
       "      <td>Old-Time / Historic</td>\n",
       "      <td>[-236.76901, -204.88608, -202.79424, -211.7985...</td>\n",
       "      <td>[164.211, 161.77617, 139.38297, 140.27386, 161...</td>\n",
       "      <td>[-85.3822, -120.07537, -146.21246, -147.70352,...</td>\n",
       "      <td>[-32.252678, -34.46131, -51.14087, -54.568718,...</td>\n",
       "      <td>[-7.4214034, -23.076878, -40.924683, -43.25477...</td>\n",
       "      <td>[-31.144537, -41.805965, -56.76655, -58.119328...</td>\n",
       "      <td>[-14.987923, -26.094719, -46.611755, -49.33288...</td>\n",
       "      <td>[4.4418592, 6.2212133, -7.901986, -11.970848, ...</td>\n",
       "      <td>[-12.005516, -27.454962, -43.98812, -42.64355,...</td>\n",
       "      <td>[-5.6790867, 3.272326, -2.2846823, -5.917389, ...</td>\n",
       "      <td>[-6.2902756, -5.854392, -6.686449, -6.7126894,...</td>\n",
       "      <td>[-5.6098385, -6.0516605, -5.2029867, -0.692430...</td>\n",
       "      <td>[7.336014, 12.688293, 12.705888, 18.635963, 14...</td>\n",
       "      <td>[2.09269, 1.3645461, 0.6684495, 1.5747235, 1.6...</td>\n",
       "      <td>[-4.1928773, -4.8164897, -5.367966, -6.704213,...</td>\n",
       "    </tr>\n",
       "    <tr>\n",
       "      <th>3</th>\n",
       "      <td>124423_3</td>\n",
       "      <td>Old-Time / Historic</td>\n",
       "      <td>[-270.1199, -205.64766, -187.19708, -196.86424...</td>\n",
       "      <td>[132.28531, 125.65335, 118.08946, 109.44469, 1...</td>\n",
       "      <td>[-109.53642, -122.49601, -123.42473, -127.4861...</td>\n",
       "      <td>[-33.72352, -29.988556, -31.954174, -41.72948,...</td>\n",
       "      <td>[-19.570417, -19.239956, -17.20611, -22.123035...</td>\n",
       "      <td>[-69.30449, -66.40855, -59.141136, -52.02983, ...</td>\n",
       "      <td>[-46.290672, -56.59155, -51.76654, -42.49778, ...</td>\n",
       "      <td>[7.9393797, 9.805471, 5.3692656, 4.1625504, 2....</td>\n",
       "      <td>[-21.933971, -32.40931, -30.753263, -21.176008...</td>\n",
       "      <td>[-10.03478, -6.5470505, 2.297513, 11.649738, 6...</td>\n",
       "      <td>[-7.3654776, -8.952282, -1.9247813, 1.6845284,...</td>\n",
       "      <td>[-17.044058, -15.736282, -6.0419655, -5.505317...</td>\n",
       "      <td>[24.518562, 24.02679, 13.123839, -2.288925, -4...</td>\n",
       "      <td>[2.2488708, -2.7423797, -3.6004543, -4.172913,...</td>\n",
       "      <td>[-22.445217, -25.029558, -21.466507, -17.66163...</td>\n",
       "    </tr>\n",
       "    <tr>\n",
       "      <th>4</th>\n",
       "      <td>124423_4</td>\n",
       "      <td>Old-Time / Historic</td>\n",
       "      <td>[-390.48816, -339.31622, -317.2405, -326.96646...</td>\n",
       "      <td>[97.122345, 115.60747, 127.4955, 128.93234, 14...</td>\n",
       "      <td>[-84.24397, -109.15258, -110.69359, -99.36203,...</td>\n",
       "      <td>[-40.43964, -44.553093, -47.186836, -41.452816...</td>\n",
       "      <td>[0.28208655, -1.2433429, -6.5626597, -0.983691...</td>\n",
       "      <td>[-36.504112, -43.72944, -42.5904, -35.0524, -4...</td>\n",
       "      <td>[-22.552574, -24.396482, -21.35398, -15.982605...</td>\n",
       "      <td>[1.2889054, 0.24470624, -1.0263059, 3.6228871,...</td>\n",
       "      <td>[-9.089966, -12.901368, -15.339406, -10.585323...</td>\n",
       "      <td>[-9.621838, -6.8267345, -4.4633904, -3.513043,...</td>\n",
       "      <td>[-6.904684, -6.3937654, -4.0830145, -0.6454271...</td>\n",
       "      <td>[-2.2965891, -8.502451, -8.448065, -3.9730012,...</td>\n",
       "      <td>[11.558136, 10.830755, 6.7897396, 8.929026, 13...</td>\n",
       "      <td>[5.913314, 5.5654097, 1.5172951, 0.10546613, 2...</td>\n",
       "      <td>[-6.5406847, -3.1975913, -1.6860085, -6.242577...</td>\n",
       "    </tr>\n",
       "  </tbody>\n",
       "</table>\n",
       "</div>"
      ],
      "text/plain": [
       "         id                genre  \\\n",
       "0  124423_0  Old-Time / Historic   \n",
       "1  124423_1  Old-Time / Historic   \n",
       "2  124423_2  Old-Time / Historic   \n",
       "3  124423_3  Old-Time / Historic   \n",
       "4  124423_4  Old-Time / Historic   \n",
       "\n",
       "                                       mfccFeature_0  \\\n",
       "0  [-331.76343, -206.83507, -150.79898, -144.4678...   \n",
       "1  [-141.70447, -151.02011, -204.6398, -219.88483...   \n",
       "2  [-236.76901, -204.88608, -202.79424, -211.7985...   \n",
       "3  [-270.1199, -205.64766, -187.19708, -196.86424...   \n",
       "4  [-390.48816, -339.31622, -317.2405, -326.96646...   \n",
       "\n",
       "                                       mfccFeature_1  \\\n",
       "0  [136.35646, 151.65372, 144.99507, 141.45316, 1...   \n",
       "1  [70.76153, 69.304504, 54.755623, 62.831505, 70...   \n",
       "2  [164.211, 161.77617, 139.38297, 140.27386, 161...   \n",
       "3  [132.28531, 125.65335, 118.08946, 109.44469, 1...   \n",
       "4  [97.122345, 115.60747, 127.4955, 128.93234, 14...   \n",
       "\n",
       "                                       mfccFeature_2  \\\n",
       "0  [-92.903046, -127.679794, -140.80212, -139.403...   \n",
       "1  [-69.07377, -96.71388, -131.54568, -131.25073,...   \n",
       "2  [-85.3822, -120.07537, -146.21246, -147.70352,...   \n",
       "3  [-109.53642, -122.49601, -123.42473, -127.4861...   \n",
       "4  [-84.24397, -109.15258, -110.69359, -99.36203,...   \n",
       "\n",
       "                                       mfccFeature_3  \\\n",
       "0  [-62.66017, -49.059425, -51.346558, -52.181923...   \n",
       "1  [-2.5633497, -6.4746003, -19.870838, -15.17943...   \n",
       "2  [-32.252678, -34.46131, -51.14087, -54.568718,...   \n",
       "3  [-33.72352, -29.988556, -31.954174, -41.72948,...   \n",
       "4  [-40.43964, -44.553093, -47.186836, -41.452816...   \n",
       "\n",
       "                                       mfccFeature_4  \\\n",
       "0  [-38.805756, -47.862038, -51.127518, -48.02935...   \n",
       "1  [-10.86871, -12.382185, -22.568533, -15.358562...   \n",
       "2  [-7.4214034, -23.076878, -40.924683, -43.25477...   \n",
       "3  [-19.570417, -19.239956, -17.20611, -22.123035...   \n",
       "4  [0.28208655, -1.2433429, -6.5626597, -0.983691...   \n",
       "\n",
       "                                       mfccFeature_5  \\\n",
       "0  [-56.836433, -61.2565, -52.826473, -51.1662, -...   \n",
       "1  [-53.357117, -58.777496, -64.76073, -66.34716,...   \n",
       "2  [-31.144537, -41.805965, -56.76655, -58.119328...   \n",
       "3  [-69.30449, -66.40855, -59.141136, -52.02983, ...   \n",
       "4  [-36.504112, -43.72944, -42.5904, -35.0524, -4...   \n",
       "\n",
       "                                       mfccFeature_6  \\\n",
       "0  [-17.287859, -34.948433, -40.68494, -42.830673...   \n",
       "1  [-30.973467, -42.006577, -52.474915, -52.40824...   \n",
       "2  [-14.987923, -26.094719, -46.611755, -49.33288...   \n",
       "3  [-46.290672, -56.59155, -51.76654, -42.49778, ...   \n",
       "4  [-22.552574, -24.396482, -21.35398, -15.982605...   \n",
       "\n",
       "                                       mfccFeature_7  \\\n",
       "0  [-3.4888515, -4.506544, -0.52261865, 0.2448553...   \n",
       "1  [14.31975, 16.98157, 23.953087, 23.335302, 18....   \n",
       "2  [4.4418592, 6.2212133, -7.901986, -11.970848, ...   \n",
       "3  [7.9393797, 9.805471, 5.3692656, 4.1625504, 2....   \n",
       "4  [1.2889054, 0.24470624, -1.0263059, 3.6228871,...   \n",
       "\n",
       "                                       mfccFeature_8  \\\n",
       "0  [-16.90616, -24.62344, -23.808636, -21.55201, ...   \n",
       "1  [-11.362137, -24.974201, -46.38675, -46.458347...   \n",
       "2  [-12.005516, -27.454962, -43.98812, -42.64355,...   \n",
       "3  [-21.933971, -32.40931, -30.753263, -21.176008...   \n",
       "4  [-9.089966, -12.901368, -15.339406, -10.585323...   \n",
       "\n",
       "                                       mfccFeature_9  \\\n",
       "0  [-1.4969412, -6.315495, -2.0328617, 5.059345, ...   \n",
       "1  [-13.941832, -9.682327, -2.2792099, -0.9318579...   \n",
       "2  [-5.6790867, 3.272326, -2.2846823, -5.917389, ...   \n",
       "3  [-10.03478, -6.5470505, 2.297513, 11.649738, 6...   \n",
       "4  [-9.621838, -6.8267345, -4.4633904, -3.513043,...   \n",
       "\n",
       "                                      mfccFeature_10  \\\n",
       "0  [-17.040787, -17.715935, -17.042439, -9.658015...   \n",
       "1  [11.06698, 18.50761, 18.23468, 19.086136, 18.4...   \n",
       "2  [-6.2902756, -5.854392, -6.686449, -6.7126894,...   \n",
       "3  [-7.3654776, -8.952282, -1.9247813, 1.6845284,...   \n",
       "4  [-6.904684, -6.3937654, -4.0830145, -0.6454271...   \n",
       "\n",
       "                                      mfccFeature_11  \\\n",
       "0  [-28.81857, -30.039116, -20.462616, -15.730592...   \n",
       "1  [0.7836997, -5.3090725, -9.245029, -15.167604,...   \n",
       "2  [-5.6098385, -6.0516605, -5.2029867, -0.692430...   \n",
       "3  [-17.044058, -15.736282, -6.0419655, -5.505317...   \n",
       "4  [-2.2965891, -8.502451, -8.448065, -3.9730012,...   \n",
       "\n",
       "                                      mfccFeature_12  \\\n",
       "0  [8.894039, 8.015279, 1.41698, -6.1483583, -11....   \n",
       "1  [-2.434061, 11.934198, 29.585491, 28.20034, 28...   \n",
       "2  [7.336014, 12.688293, 12.705888, 18.635963, 14...   \n",
       "3  [24.518562, 24.02679, 13.123839, -2.288925, -4...   \n",
       "4  [11.558136, 10.830755, 6.7897396, 8.929026, 13...   \n",
       "\n",
       "                                      mfccFeature_13  \\\n",
       "0  [9.8792515, 10.081762, 19.26508, 17.607117, 9....   \n",
       "1  [-0.4299671, 3.6665812, 6.398292, 3.2390728, -...   \n",
       "2  [2.09269, 1.3645461, 0.6684495, 1.5747235, 1.6...   \n",
       "3  [2.2488708, -2.7423797, -3.6004543, -4.172913,...   \n",
       "4  [5.913314, 5.5654097, 1.5172951, 0.10546613, 2...   \n",
       "\n",
       "                                      mfccFeature_14  \n",
       "0  [-4.434949, -3.4882398, 6.579256, 11.005165, 5...  \n",
       "1  [2.2310064, -1.6334496, -8.868323, -8.320509, ...  \n",
       "2  [-4.1928773, -4.8164897, -5.367966, -6.704213,...  \n",
       "3  [-22.445217, -25.029558, -21.466507, -17.66163...  \n",
       "4  [-6.5406847, -3.1975913, -1.6860085, -6.242577...  "
      ]
     },
     "execution_count": 13,
     "metadata": {},
     "output_type": "execute_result"
    }
   ],
   "source": [
    "tracksAudioFeatures_complete.head(5)"
   ]
  },
  {
   "cell_type": "code",
   "execution_count": 14,
   "id": "8ec40164",
   "metadata": {
    "slideshow": {
     "slide_type": "subslide"
    }
   },
   "outputs": [
    {
     "data": {
      "text/plain": [
       "(249790, 17)"
      ]
     },
     "execution_count": 14,
     "metadata": {},
     "output_type": "execute_result"
    }
   ],
   "source": [
    "tracksAudioFeatures_complete.shape"
   ]
  },
  {
   "cell_type": "code",
   "execution_count": 15,
   "id": "382a6899",
   "metadata": {
    "slideshow": {
     "slide_type": "subslide"
    }
   },
   "outputs": [
    {
     "data": {
      "text/html": [
       "<div>\n",
       "<style scoped>\n",
       "    .dataframe tbody tr th:only-of-type {\n",
       "        vertical-align: middle;\n",
       "    }\n",
       "\n",
       "    .dataframe tbody tr th {\n",
       "        vertical-align: top;\n",
       "    }\n",
       "\n",
       "    .dataframe thead th {\n",
       "        text-align: right;\n",
       "    }\n",
       "</style>\n",
       "<table border=\"1\" class=\"dataframe\">\n",
       "  <thead>\n",
       "    <tr style=\"text-align: right;\">\n",
       "      <th></th>\n",
       "      <th>filename</th>\n",
       "    </tr>\n",
       "  </thead>\n",
       "  <tbody>\n",
       "    <tr>\n",
       "      <th>0</th>\n",
       "      <td>126981.mp3</td>\n",
       "    </tr>\n",
       "    <tr>\n",
       "      <th>1</th>\n",
       "      <td>127336.mp3</td>\n",
       "    </tr>\n",
       "    <tr>\n",
       "      <th>0</th>\n",
       "      <td>133297.mp3</td>\n",
       "    </tr>\n",
       "    <tr>\n",
       "      <th>0</th>\n",
       "      <td>143992.mp3</td>\n",
       "    </tr>\n",
       "    <tr>\n",
       "      <th>0</th>\n",
       "      <td>001486.mp3</td>\n",
       "    </tr>\n",
       "  </tbody>\n",
       "</table>\n",
       "</div>"
      ],
      "text/plain": [
       "     filename\n",
       "0  126981.mp3\n",
       "1  127336.mp3\n",
       "0  133297.mp3\n",
       "0  143992.mp3\n",
       "0  001486.mp3"
      ]
     },
     "execution_count": 15,
     "metadata": {},
     "output_type": "execute_result"
    }
   ],
   "source": [
    "broken_tracksAudioFeatures_complete.head(5)"
   ]
  },
  {
   "cell_type": "code",
   "execution_count": 16,
   "id": "6f2bf1f3",
   "metadata": {
    "slideshow": {
     "slide_type": "subslide"
    }
   },
   "outputs": [
    {
     "data": {
      "text/plain": [
       "21"
      ]
     },
     "execution_count": 16,
     "metadata": {},
     "output_type": "execute_result"
    }
   ],
   "source": [
    "len(broken_tracksAudioFeatures_complete)"
   ]
  },
  {
   "cell_type": "code",
   "execution_count": 17,
   "id": "83771d92",
   "metadata": {
    "slideshow": {
     "slide_type": "subslide"
    }
   },
   "outputs": [
    {
     "name": "stdout",
     "output_type": "stream",
     "text": [
      "<class 'str'>\n",
      "1466\n",
      "125\n"
     ]
    }
   ],
   "source": [
    "print(type(tracksAudioFeatures_complete['mfccFeature_0'].iloc[0]))\n",
    "print(len(tracksAudioFeatures_complete['mfccFeature_0'].iloc[0]))\n",
    "print(len(tracksAudioFeatures_complete['mfccFeature_0'].iloc[0].split(',')))"
   ]
  },
  {
   "cell_type": "code",
   "execution_count": 20,
   "id": "59122996",
   "metadata": {
    "slideshow": {
     "slide_type": "subslide"
    }
   },
   "outputs": [],
   "source": [
    "tracksAudioFeatures_complete.to_csv('./tracksAudioFeatures_150/tracksAudioFeatures_125_complete.csv')\n",
    "broken_tracksAudioFeatures_complete.to_csv('./tracksAudioFeatures_150/broken_tracksAudioFeatures_125_complete.csv')"
   ]
  },
  {
   "cell_type": "markdown",
   "id": "f7014dd6",
   "metadata": {
    "slideshow": {
     "slide_type": "slide"
    }
   },
   "source": [
    "The audio features will then be combined with theme features of same length to create the final dataset"
   ]
  }
 ],
 "metadata": {
  "celltoolbar": "Slideshow",
  "kernelspec": {
   "display_name": "Python 3 (ipykernel)",
   "language": "python",
   "name": "python3"
  },
  "language_info": {
   "codemirror_mode": {
    "name": "ipython",
    "version": 3
   },
   "file_extension": ".py",
   "mimetype": "text/x-python",
   "name": "python",
   "nbconvert_exporter": "python",
   "pygments_lexer": "ipython3",
   "version": "3.9.7"
  }
 },
 "nbformat": 4,
 "nbformat_minor": 5
}
