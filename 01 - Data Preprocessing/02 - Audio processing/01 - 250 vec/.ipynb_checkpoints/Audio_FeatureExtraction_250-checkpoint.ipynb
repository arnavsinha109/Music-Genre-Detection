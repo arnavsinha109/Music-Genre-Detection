{
 "cells": [
  {
   "cell_type": "markdown",
   "id": "1608e079",
   "metadata": {
    "slideshow": {
     "slide_type": "slide"
    }
   },
   "source": [
    "# Extraction of Audio Features"
   ]
  },
  {
   "cell_type": "code",
   "execution_count": 1,
   "id": "42f715fc",
   "metadata": {
    "slideshow": {
     "slide_type": "subslide"
    }
   },
   "outputs": [],
   "source": [
    "import pandas as pd\n",
    "import math\n",
    "import os\n",
    "import librosa\n",
    "from tqdm import tqdm\n",
    "import warnings\n",
    "warnings.filterwarnings(\"ignore\")"
   ]
  },
  {
   "cell_type": "markdown",
   "id": "534316a9",
   "metadata": {
    "slideshow": {
     "slide_type": "slide"
    }
   },
   "source": [
    "The main aim of this notebook is to extract the mfcc features i.e. the audio data from the files. In this notebook we extract features of length 250."
   ]
  },
  {
   "cell_type": "code",
   "execution_count": 2,
   "id": "04b8539f",
   "metadata": {
    "slideshow": {
     "slide_type": "subslide"
    }
   },
   "outputs": [],
   "source": [
    "musicLocation = './fma_medium_tracks'\n",
    "tracksMetaData = pd.read_csv('./tracksMetaData.csv')"
   ]
  },
  {
   "cell_type": "code",
   "execution_count": 3,
   "id": "377c670e",
   "metadata": {
    "slideshow": {
     "slide_type": "subslide"
    }
   },
   "outputs": [
    {
     "data": {
      "text/html": [
       "<div>\n",
       "<style scoped>\n",
       "    .dataframe tbody tr th:only-of-type {\n",
       "        vertical-align: middle;\n",
       "    }\n",
       "\n",
       "    .dataframe tbody tr th {\n",
       "        vertical-align: top;\n",
       "    }\n",
       "\n",
       "    .dataframe thead th {\n",
       "        text-align: right;\n",
       "    }\n",
       "</style>\n",
       "<table border=\"1\" class=\"dataframe\">\n",
       "  <thead>\n",
       "    <tr style=\"text-align: right;\">\n",
       "      <th></th>\n",
       "      <th>id</th>\n",
       "      <th>trackName</th>\n",
       "      <th>genre</th>\n",
       "      <th>trackArtist</th>\n",
       "    </tr>\n",
       "  </thead>\n",
       "  <tbody>\n",
       "    <tr>\n",
       "      <th>0</th>\n",
       "      <td>2</td>\n",
       "      <td>Food</td>\n",
       "      <td>Hip-Hop</td>\n",
       "      <td>AWOL</td>\n",
       "    </tr>\n",
       "    <tr>\n",
       "      <th>1</th>\n",
       "      <td>3</td>\n",
       "      <td>Electric Ave</td>\n",
       "      <td>Hip-Hop</td>\n",
       "      <td>AWOL</td>\n",
       "    </tr>\n",
       "    <tr>\n",
       "      <th>2</th>\n",
       "      <td>5</td>\n",
       "      <td>This World</td>\n",
       "      <td>Hip-Hop</td>\n",
       "      <td>AWOL</td>\n",
       "    </tr>\n",
       "    <tr>\n",
       "      <th>3</th>\n",
       "      <td>10</td>\n",
       "      <td>Freeway</td>\n",
       "      <td>Pop</td>\n",
       "      <td>Kurt Vile</td>\n",
       "    </tr>\n",
       "    <tr>\n",
       "      <th>4</th>\n",
       "      <td>134</td>\n",
       "      <td>Street Music</td>\n",
       "      <td>Hip-Hop</td>\n",
       "      <td>AWOL</td>\n",
       "    </tr>\n",
       "    <tr>\n",
       "      <th>...</th>\n",
       "      <td>...</td>\n",
       "      <td>...</td>\n",
       "      <td>...</td>\n",
       "      <td>...</td>\n",
       "    </tr>\n",
       "    <tr>\n",
       "      <th>24995</th>\n",
       "      <td>155297</td>\n",
       "      <td>Nebula Reborn</td>\n",
       "      <td>Instrumental</td>\n",
       "      <td>Alex Mason/BlackSunAeon Music</td>\n",
       "    </tr>\n",
       "    <tr>\n",
       "      <th>24996</th>\n",
       "      <td>155298</td>\n",
       "      <td>An Idiot Abroad</td>\n",
       "      <td>Folk</td>\n",
       "      <td>Greg Atkinson</td>\n",
       "    </tr>\n",
       "    <tr>\n",
       "      <th>24997</th>\n",
       "      <td>155306</td>\n",
       "      <td>Tiny Man</td>\n",
       "      <td>Folk</td>\n",
       "      <td>Greg Atkinson</td>\n",
       "    </tr>\n",
       "    <tr>\n",
       "      <th>24998</th>\n",
       "      <td>155307</td>\n",
       "      <td>Kolka</td>\n",
       "      <td>Experimental</td>\n",
       "      <td>AWOTT</td>\n",
       "    </tr>\n",
       "    <tr>\n",
       "      <th>24999</th>\n",
       "      <td>155314</td>\n",
       "      <td>Miracle Grow</td>\n",
       "      <td>Rock</td>\n",
       "      <td>Spowder</td>\n",
       "    </tr>\n",
       "  </tbody>\n",
       "</table>\n",
       "<p>25000 rows × 4 columns</p>\n",
       "</div>"
      ],
      "text/plain": [
       "           id        trackName         genre                    trackArtist\n",
       "0           2             Food       Hip-Hop                           AWOL\n",
       "1           3     Electric Ave       Hip-Hop                           AWOL\n",
       "2           5       This World       Hip-Hop                           AWOL\n",
       "3          10          Freeway           Pop                      Kurt Vile\n",
       "4         134     Street Music       Hip-Hop                           AWOL\n",
       "...       ...              ...           ...                            ...\n",
       "24995  155297    Nebula Reborn  Instrumental  Alex Mason/BlackSunAeon Music\n",
       "24996  155298  An Idiot Abroad          Folk                  Greg Atkinson\n",
       "24997  155306         Tiny Man          Folk                  Greg Atkinson\n",
       "24998  155307            Kolka  Experimental                          AWOTT\n",
       "24999  155314     Miracle Grow          Rock                        Spowder\n",
       "\n",
       "[25000 rows x 4 columns]"
      ]
     },
     "execution_count": 3,
     "metadata": {},
     "output_type": "execute_result"
    }
   ],
   "source": [
    "tracksMetaData"
   ]
  },
  {
   "cell_type": "markdown",
   "id": "0f74e3df",
   "metadata": {
    "slideshow": {
     "slide_type": "slide"
    }
   },
   "source": [
    "In order to extract the MFCC features, we use librosa library, This library can help us read the audio file and extract the mfcc feature from it. What MFcc features are and how they work is explained in depth in the report and Powerpoint slides. In total we had around 25,000 songs each 30 seconds long, for which we will read and extract the features."
   ]
  },
  {
   "cell_type": "markdown",
   "id": "d37e2090",
   "metadata": {
    "slideshow": {
     "slide_type": "subslide"
    }
   },
   "source": [
    "Since we also need to get lyrics for each song, we expected a lot of songs to be eliminated due to lack of lyrics or issues with reading the audio files. In order to compensate for that, we divide each song into 5 segments here, that is a song that is of 30 seconds gets divided into 5 songs of 6 seconds length, this is done through samples per segment. Then for each broken song we extract the mfcc featus which is of [250 * 15] shape. The extracted features are placed a Dataframe along with its id and genre. Any songs that are broken due to any issue is ignored and placed in a seperate dataframe."
   ]
  },
  {
   "cell_type": "code",
   "execution_count": 4,
   "id": "cbdfa161",
   "metadata": {
    "slideshow": {
     "slide_type": "subslide"
    }
   },
   "outputs": [],
   "source": [
    "def extractFeatures(musicPath,seg1,seg2):\n",
    "    \n",
    "    sampleRate = 22050\n",
    "    numSegment=5\n",
    "    numMfcc=15\n",
    "    \n",
    "    data = pd.DataFrame()\n",
    "    broken = pd.DataFrame()\n",
    "    cnt = 0\n",
    "    totalCnt = 0\n",
    "    samples_per_segment = int(sampleRate * 29 / numSegment)\n",
    "    filenames = os.listdir(musicPath)\n",
    "    for f in tqdm(filenames[seg1:seg2]):\n",
    "        try:\n",
    "            file_path = musicPath +\"/\" + \"/\" + str(f)\n",
    "            y, sr = librosa.load(file_path, sr = sampleRate)\n",
    "            for n in range(numSegment):\n",
    "                totalCnt = totalCnt + 1\n",
    "                start = samples_per_segment * n\n",
    "                finish = start + samples_per_segment\n",
    "\n",
    "                mfcc = librosa.feature.mfcc(y[start:finish], \n",
    "                       sampleRate, n_mfcc = numMfcc, \n",
    "                   n_fft = 2048, hop_length = 512)   \n",
    "                idd = str(int(f.split('.')[0]))\n",
    "                df = pd.DataFrame()\n",
    "                df['id'] = [idd+'_'+str(n)]\n",
    "                df['genre'] = tracksMetaData.loc[tracksMetaData['id'] == int(idd)]['genre'].values\n",
    "                for i in range(numMfcc):\n",
    "                    df['mfccFeature_'+str(i)] = [list(mfcc[i])]\n",
    "                data = pd.concat([data,df])\n",
    "                cnt = cnt + 1\n",
    "        except Exception as e:\n",
    "            df = pd.DataFrame()\n",
    "            df['filename'] = [f]\n",
    "            print('Broke at '+ f,e)\n",
    "            broken = pd.concat([broken,df])\n",
    "            continue\n",
    "                \n",
    "    print(totalCnt,cnt)\n",
    "    return data,broken\n",
    "    "
   ]
  },
  {
   "cell_type": "markdown",
   "id": "ddaacc1b",
   "metadata": {
    "slideshow": {
     "slide_type": "slide"
    }
   },
   "source": [
    "While the function \"extractFeatures\" does the actual extraction, we need a efficient way of calling it on all the songs, for that we use \"saveFiles\", This takes start and end of a segment where the start and end are multiplied by 1000.\n",
    "\n",
    "Eg: Startpart = 0 and endPart = 5 results in songs from 0 to 5000.\n",
    "\n",
    "We give each segment a unique name, by doing it this way we get a check point system to save at every step so that if anything happens ,we do not lose all progress."
   ]
  },
  {
   "cell_type": "code",
   "execution_count": 5,
   "id": "3aabe3fd",
   "metadata": {
    "slideshow": {
     "slide_type": "subslide"
    }
   },
   "outputs": [],
   "source": [
    "def saveFiles(startPart,endPart,segmentName):\n",
    "    for i in range(startPart,endPart):\n",
    "        print('Starting Part '+ str(i) +' from '+str(i*1000) +' to ' + str((i+1)*1000))\n",
    "        data,broken = extractFeatures(musicLocation,i*1000,(i+1)*1000)\n",
    "        data.to_csv('tracksAudioFeatures/tracksAudioFeatures_'+segmentName+'_part_'+str(i)+'.csv')\n",
    "        if len(broken) >0:\n",
    "            print('Broken Part saved '+ str(i))\n",
    "            print('Length of broken ',len(broken))\n",
    "            broken.to_csv('tracksAudioFeatures/broken_tracksAudioFeatures_'+segmentName+'_part_'+str(i)+'.csv')\n",
    "        print('Finished Part '+ str(i))\n",
    "        print('Saved as '+ 'tracksAudioFeatures/tracksAudioFeatures_'+segmentName+'_part_'+str(i)+'.csv')\n",
    "        \n",
    "        \n",
    "   \n",
    "    \n",
    "            \n",
    "    \n",
    "    "
   ]
  },
  {
   "cell_type": "markdown",
   "id": "a2316bba",
   "metadata": {
    "slideshow": {
     "slide_type": "slide"
    }
   },
   "source": [
    "Following cells call saveFiles and creates five unique segments each of 5000 songs. Each segement is then broken in to parts of 1000 songs, which on average took 11 mins so in total it us 250*11 mins to complete all songs"
   ]
  },
  {
   "cell_type": "code",
   "execution_count": 7,
   "id": "30e15203",
   "metadata": {
    "slideshow": {
     "slide_type": "subslide"
    }
   },
   "outputs": [
    {
     "name": "stdout",
     "output_type": "stream",
     "text": [
      "Starting Part 0 from 0 to 1000\n"
     ]
    },
    {
     "name": "stderr",
     "output_type": "stream",
     "text": [
      " 32%|████████████████████████▉                                                      | 316/1000 [03:48<08:07,  1.40it/s]"
     ]
    },
    {
     "name": "stdout",
     "output_type": "stream",
     "text": [
      "Broke at 001486.mp3 \n"
     ]
    },
    {
     "name": "stderr",
     "output_type": "stream",
     "text": [
      " 98%|█████████████████████████████████████████████████████████████████████████████▏ | 977/1000 [11:54<00:16,  1.39it/s]"
     ]
    },
    {
     "name": "stdout",
     "output_type": "stream",
     "text": [
      "Broke at 005574.mp3 \n"
     ]
    },
    {
     "name": "stderr",
     "output_type": "stream",
     "text": [
      "100%|██████████████████████████████████████████████████████████████████████████████| 1000/1000 [12:09<00:00,  1.37it/s]\n"
     ]
    },
    {
     "name": "stdout",
     "output_type": "stream",
     "text": [
      "4990 4990\n",
      "Broken Part saved 0\n",
      "Length of broken  2\n",
      "Finished Part 0\n",
      "Saved as tracksAudioFeatures/tracksAudioFeatures_firstSegment_part_0.csv\n",
      "Starting Part 1 from 1000 to 2000\n"
     ]
    },
    {
     "name": "stderr",
     "output_type": "stream",
     "text": [
      "100%|██████████████████████████████████████████████████████████████████████████████| 1000/1000 [14:37<00:00,  1.14it/s]\n"
     ]
    },
    {
     "name": "stdout",
     "output_type": "stream",
     "text": [
      "5000 5000\n",
      "Finished Part 1\n",
      "Saved as tracksAudioFeatures/tracksAudioFeatures_firstSegment_part_1.csv\n",
      "Starting Part 2 from 2000 to 3000\n"
     ]
    },
    {
     "name": "stderr",
     "output_type": "stream",
     "text": [
      "100%|██████████████████████████████████████████████████████████████████████████████| 1000/1000 [11:48<00:00,  1.41it/s]\n"
     ]
    },
    {
     "name": "stdout",
     "output_type": "stream",
     "text": [
      "5000 5000\n",
      "Finished Part 2\n",
      "Saved as tracksAudioFeatures/tracksAudioFeatures_firstSegment_part_2.csv\n",
      "Starting Part 3 from 3000 to 4000\n"
     ]
    },
    {
     "name": "stderr",
     "output_type": "stream",
     "text": [
      "100%|██████████████████████████████████████████████████████████████████████████████| 1000/1000 [12:14<00:00,  1.36it/s]\n"
     ]
    },
    {
     "name": "stdout",
     "output_type": "stream",
     "text": [
      "5000 5000\n",
      "Finished Part 3\n",
      "Saved as tracksAudioFeatures/tracksAudioFeatures_firstSegment_part_3.csv\n",
      "Starting Part 4 from 4000 to 5000\n"
     ]
    },
    {
     "name": "stderr",
     "output_type": "stream",
     "text": [
      "100%|██████████████████████████████████████████████████████████████████████████████| 1000/1000 [19:18<00:00,  1.16s/it]\n"
     ]
    },
    {
     "name": "stdout",
     "output_type": "stream",
     "text": [
      "5000 5000\n",
      "Finished Part 4\n",
      "Saved as tracksAudioFeatures/tracksAudioFeatures_firstSegment_part_4.csv\n"
     ]
    }
   ],
   "source": [
    "saveFiles(0,5,'firstSegment')"
   ]
  },
  {
   "cell_type": "code",
   "execution_count": 8,
   "id": "6be8d36c",
   "metadata": {
    "slideshow": {
     "slide_type": "subslide"
    }
   },
   "outputs": [
    {
     "name": "stdout",
     "output_type": "stream",
     "text": [
      "Starting Part 5 from 5000 to 6000\n"
     ]
    },
    {
     "name": "stderr",
     "output_type": "stream",
     "text": [
      "100%|██████████████████████████████████████████████████████████████████████████████| 1000/1000 [11:55<00:00,  1.40it/s]\n"
     ]
    },
    {
     "name": "stdout",
     "output_type": "stream",
     "text": [
      "5000 5000\n",
      "Finished Part 5\n",
      "Saved as tracksAudioFeatures/tracksAudioFeatures_secondSegment_part_5.csv\n",
      "Starting Part 6 from 6000 to 7000\n"
     ]
    },
    {
     "name": "stderr",
     "output_type": "stream",
     "text": [
      "100%|██████████████████████████████████████████████████████████████████████████████| 1000/1000 [09:46<00:00,  1.71it/s]\n"
     ]
    },
    {
     "name": "stdout",
     "output_type": "stream",
     "text": [
      "5000 5000\n",
      "Finished Part 6\n",
      "Saved as tracksAudioFeatures/tracksAudioFeatures_secondSegment_part_6.csv\n",
      "Starting Part 7 from 7000 to 8000\n"
     ]
    },
    {
     "name": "stderr",
     "output_type": "stream",
     "text": [
      "100%|██████████████████████████████████████████████████████████████████████████████| 1000/1000 [09:39<00:00,  1.73it/s]\n"
     ]
    },
    {
     "name": "stdout",
     "output_type": "stream",
     "text": [
      "5000 5000\n",
      "Finished Part 7\n",
      "Saved as tracksAudioFeatures/tracksAudioFeatures_secondSegment_part_7.csv\n",
      "Starting Part 8 from 8000 to 9000\n"
     ]
    },
    {
     "name": "stderr",
     "output_type": "stream",
     "text": [
      "100%|██████████████████████████████████████████████████████████████████████████████| 1000/1000 [09:40<00:00,  1.72it/s]\n"
     ]
    },
    {
     "name": "stdout",
     "output_type": "stream",
     "text": [
      "5000 5000\n",
      "Finished Part 8\n",
      "Saved as tracksAudioFeatures/tracksAudioFeatures_secondSegment_part_8.csv\n",
      "Starting Part 9 from 9000 to 10000\n"
     ]
    },
    {
     "name": "stderr",
     "output_type": "stream",
     "text": [
      "100%|██████████████████████████████████████████████████████████████████████████████| 1000/1000 [09:49<00:00,  1.70it/s]\n"
     ]
    },
    {
     "name": "stdout",
     "output_type": "stream",
     "text": [
      "5000 5000\n",
      "Finished Part 9\n",
      "Saved as tracksAudioFeatures/tracksAudioFeatures_secondSegment_part_9.csv\n"
     ]
    }
   ],
   "source": [
    "saveFiles(5,10,'secondSegment')"
   ]
  },
  {
   "cell_type": "code",
   "execution_count": 9,
   "id": "73496c67",
   "metadata": {
    "slideshow": {
     "slide_type": "subslide"
    }
   },
   "outputs": [
    {
     "name": "stdout",
     "output_type": "stream",
     "text": [
      "Starting Part 10 from 10000 to 11000\n"
     ]
    },
    {
     "name": "stderr",
     "output_type": "stream",
     "text": [
      " 68%|█████████████████████████████████████████████████████▎                         | 675/1000 [06:26<03:13,  1.68it/s]"
     ]
    },
    {
     "name": "stdout",
     "output_type": "stream",
     "text": [
      "Broke at 065753.mp3 \n"
     ]
    },
    {
     "name": "stderr",
     "output_type": "stream",
     "text": [
      "100%|██████████████████████████████████████████████████████████████████████████████| 1000/1000 [09:34<00:00,  1.74it/s]\n"
     ]
    },
    {
     "name": "stdout",
     "output_type": "stream",
     "text": [
      "4995 4995\n",
      "Broken Part saved 10\n",
      "Length of broken  1\n",
      "Finished Part 10\n",
      "Saved as tracksAudioFeatures/tracksAudioFeatures_thirdSegment_part_10.csv\n",
      "Starting Part 11 from 11000 to 12000\n"
     ]
    },
    {
     "name": "stderr",
     "output_type": "stream",
     "text": [
      "100%|██████████████████████████████████████████████████████████████████████████████| 1000/1000 [09:45<00:00,  1.71it/s]\n"
     ]
    },
    {
     "name": "stdout",
     "output_type": "stream",
     "text": [
      "5000 5000\n",
      "Finished Part 11\n",
      "Saved as tracksAudioFeatures/tracksAudioFeatures_thirdSegment_part_11.csv\n",
      "Starting Part 12 from 12000 to 13000\n"
     ]
    },
    {
     "name": "stderr",
     "output_type": "stream",
     "text": [
      "100%|██████████████████████████████████████████████████████████████████████████████| 1000/1000 [09:33<00:00,  1.74it/s]\n"
     ]
    },
    {
     "name": "stdout",
     "output_type": "stream",
     "text": [
      "5000 5000\n",
      "Finished Part 12\n",
      "Saved as tracksAudioFeatures/tracksAudioFeatures_thirdSegment_part_12.csv\n",
      "Starting Part 13 from 13000 to 14000\n"
     ]
    },
    {
     "name": "stderr",
     "output_type": "stream",
     "text": [
      " 15%|███████████▌                                                                   | 146/1000 [01:25<08:00,  1.78it/s]"
     ]
    },
    {
     "name": "stdout",
     "output_type": "stream",
     "text": [
      "Broke at 080391.mp3 \n"
     ]
    },
    {
     "name": "stderr",
     "output_type": "stream",
     "text": [
      "100%|██████████████████████████████████████████████████████████████████████████████| 1000/1000 [09:43<00:00,  1.71it/s]\n"
     ]
    },
    {
     "name": "stdout",
     "output_type": "stream",
     "text": [
      "4995 4995\n",
      "Broken Part saved 13\n",
      "Length of broken  1\n",
      "Finished Part 13\n",
      "Saved as tracksAudioFeatures/tracksAudioFeatures_thirdSegment_part_13.csv\n",
      "Starting Part 14 from 14000 to 15000\n"
     ]
    },
    {
     "name": "stderr",
     "output_type": "stream",
     "text": [
      "100%|██████████████████████████████████████████████████████████████████████████████| 1000/1000 [09:35<00:00,  1.74it/s]\n"
     ]
    },
    {
     "name": "stdout",
     "output_type": "stream",
     "text": [
      "5000 5000\n",
      "Finished Part 14\n",
      "Saved as tracksAudioFeatures/tracksAudioFeatures_thirdSegment_part_14.csv\n"
     ]
    }
   ],
   "source": [
    "saveFiles(10,15,'thirdSegment')"
   ]
  },
  {
   "cell_type": "code",
   "execution_count": 10,
   "id": "52157b91",
   "metadata": {
    "slideshow": {
     "slide_type": "subslide"
    }
   },
   "outputs": [
    {
     "name": "stdout",
     "output_type": "stream",
     "text": [
      "Starting Part 15 from 15000 to 16000\n"
     ]
    },
    {
     "name": "stderr",
     "output_type": "stream",
     "text": [
      " 63%|█████████████████████████████████████████████████▍                             | 626/1000 [06:05<03:31,  1.77it/s]"
     ]
    },
    {
     "name": "stdout",
     "output_type": "stream",
     "text": [
      "Broke at 098558.mp3 \n",
      "Broke at 098559.mp3 \n",
      "Broke at 098560.mp3 \n",
      "Broke at 098565.mp3 \n",
      "Broke at 098566.mp3 \n",
      "Broke at 098567.mp3 \n",
      "Broke at 098568.mp3 \n",
      "Broke at 098569.mp3 \n",
      "Broke at 098571.mp3 \n"
     ]
    },
    {
     "name": "stderr",
     "output_type": "stream",
     "text": [
      " 84%|██████████████████████████████████████████████████████████████████             | 836/1000 [08:01<01:37,  1.69it/s]"
     ]
    },
    {
     "name": "stdout",
     "output_type": "stream",
     "text": [
      "Broke at 099134.mp3 \n"
     ]
    },
    {
     "name": "stderr",
     "output_type": "stream",
     "text": [
      "100%|██████████████████████████████████████████████████████████████████████████████| 1000/1000 [09:36<00:00,  1.74it/s]\n"
     ]
    },
    {
     "name": "stdout",
     "output_type": "stream",
     "text": [
      "4950 4950\n",
      "Broken Part saved 15\n",
      "Length of broken  10\n",
      "Finished Part 15\n",
      "Saved as tracksAudioFeatures/tracksAudioFeatures_fourthSegment_part_15.csv\n",
      "Starting Part 16 from 16000 to 17000\n"
     ]
    },
    {
     "name": "stderr",
     "output_type": "stream",
     "text": [
      " 30%|████████████████████████                                                       | 305/1000 [02:54<06:32,  1.77it/s]"
     ]
    },
    {
     "name": "stdout",
     "output_type": "stream",
     "text": [
      "Broke at 105247.mp3 \n"
     ]
    },
    {
     "name": "stderr",
     "output_type": "stream",
     "text": [
      " 96%|███████████████████████████████████████████████████████████████████████████▋   | 958/1000 [09:14<00:24,  1.72it/s]"
     ]
    },
    {
     "name": "stdout",
     "output_type": "stream",
     "text": [
      "Broke at 108924.mp3 Input signal length=0 is too small to resample from 44100->22050\n",
      "Broke at 108925.mp3 \n"
     ]
    },
    {
     "name": "stderr",
     "output_type": "stream",
     "text": [
      "100%|██████████████████████████████████████████████████████████████████████████████| 1000/1000 [09:37<00:00,  1.73it/s]\n"
     ]
    },
    {
     "name": "stdout",
     "output_type": "stream",
     "text": [
      "4985 4985\n",
      "Broken Part saved 16\n",
      "Length of broken  3\n",
      "Finished Part 16\n",
      "Saved as tracksAudioFeatures/tracksAudioFeatures_fourthSegment_part_16.csv\n",
      "Starting Part 17 from 17000 to 18000\n"
     ]
    },
    {
     "name": "stderr",
     "output_type": "stream",
     "text": [
      "100%|██████████████████████████████████████████████████████████████████████████████| 1000/1000 [09:33<00:00,  1.74it/s]\n"
     ]
    },
    {
     "name": "stdout",
     "output_type": "stream",
     "text": [
      "5000 5000\n",
      "Finished Part 17\n",
      "Saved as tracksAudioFeatures/tracksAudioFeatures_fourthSegment_part_17.csv\n",
      "Starting Part 18 from 18000 to 19000\n"
     ]
    },
    {
     "name": "stderr",
     "output_type": "stream",
     "text": [
      "100%|██████████████████████████████████████████████████████████████████████████████| 1000/1000 [09:45<00:00,  1.71it/s]\n"
     ]
    },
    {
     "name": "stdout",
     "output_type": "stream",
     "text": [
      "5000 5000\n",
      "Finished Part 18\n",
      "Saved as tracksAudioFeatures/tracksAudioFeatures_fourthSegment_part_18.csv\n",
      "Starting Part 19 from 19000 to 20000\n"
     ]
    },
    {
     "name": "stderr",
     "output_type": "stream",
     "text": [
      "100%|██████████████████████████████████████████████████████████████████████████████| 1000/1000 [09:36<00:00,  1.74it/s]\n"
     ]
    },
    {
     "name": "stdout",
     "output_type": "stream",
     "text": [
      "5000 5000\n",
      "Finished Part 19\n",
      "Saved as tracksAudioFeatures/tracksAudioFeatures_fourthSegment_part_19.csv\n"
     ]
    }
   ],
   "source": [
    "saveFiles(15,20,'fourthSegment')"
   ]
  },
  {
   "cell_type": "code",
   "execution_count": 11,
   "id": "7900de51",
   "metadata": {
    "scrolled": true,
    "slideshow": {
     "slide_type": "subslide"
    }
   },
   "outputs": [
    {
     "name": "stdout",
     "output_type": "stream",
     "text": [
      "Starting Part 20 from 20000 to 21000\n"
     ]
    },
    {
     "name": "stderr",
     "output_type": "stream",
     "text": [
      " 62%|█████████████████████████████████████████████████                              | 621/1000 [05:55<03:30,  1.80it/s]"
     ]
    },
    {
     "name": "stdout",
     "output_type": "stream",
     "text": [
      "Broke at 126981.mp3 \n"
     ]
    },
    {
     "name": "stderr",
     "output_type": "stream",
     "text": [
      " 78%|█████████████████████████████████████████████████████████████▌                 | 780/1000 [07:26<02:10,  1.68it/s]"
     ]
    },
    {
     "name": "stdout",
     "output_type": "stream",
     "text": [
      "Broke at 127336.mp3 \n"
     ]
    },
    {
     "name": "stderr",
     "output_type": "stream",
     "text": [
      "100%|██████████████████████████████████████████████████████████████████████████████| 1000/1000 [09:33<00:00,  1.74it/s]\n"
     ]
    },
    {
     "name": "stdout",
     "output_type": "stream",
     "text": [
      "4990 4990\n",
      "Broken Part saved 20\n",
      "Length of broken  2\n",
      "Finished Part 20\n",
      "Saved as tracksAudioFeatures/tracksAudioFeatures_fifthSegment_part_20.csv\n",
      "Starting Part 21 from 21000 to 22000\n"
     ]
    },
    {
     "name": "stderr",
     "output_type": "stream",
     "text": [
      " 99%|██████████████████████████████████████████████████████████████████████████████ | 988/1000 [09:44<00:07,  1.71it/s]"
     ]
    },
    {
     "name": "stdout",
     "output_type": "stream",
     "text": [
      "Broke at 133297.mp3 \n"
     ]
    },
    {
     "name": "stderr",
     "output_type": "stream",
     "text": [
      "100%|██████████████████████████████████████████████████████████████████████████████| 1000/1000 [09:50<00:00,  1.69it/s]\n"
     ]
    },
    {
     "name": "stdout",
     "output_type": "stream",
     "text": [
      "4995 4995\n",
      "Broken Part saved 21\n",
      "Length of broken  1\n",
      "Finished Part 21\n",
      "Saved as tracksAudioFeatures/tracksAudioFeatures_fifthSegment_part_21.csv\n",
      "Starting Part 22 from 22000 to 23000\n"
     ]
    },
    {
     "name": "stderr",
     "output_type": "stream",
     "text": [
      "100%|██████████████████████████████████████████████████████████████████████████████| 1000/1000 [09:41<00:00,  1.72it/s]\n"
     ]
    },
    {
     "name": "stdout",
     "output_type": "stream",
     "text": [
      "5000 5000\n",
      "Finished Part 22\n",
      "Saved as tracksAudioFeatures/tracksAudioFeatures_fifthSegment_part_22.csv\n",
      "Starting Part 23 from 23000 to 24000\n"
     ]
    },
    {
     "name": "stderr",
     "output_type": "stream",
     "text": [
      " 62%|████████████████████████████████████████████████▉                              | 620/1000 [06:01<03:37,  1.74it/s]"
     ]
    },
    {
     "name": "stdout",
     "output_type": "stream",
     "text": [
      "Broke at 143992.mp3 \n"
     ]
    },
    {
     "name": "stderr",
     "output_type": "stream",
     "text": [
      "100%|██████████████████████████████████████████████████████████████████████████████| 1000/1000 [09:43<00:00,  1.71it/s]\n"
     ]
    },
    {
     "name": "stdout",
     "output_type": "stream",
     "text": [
      "4995 4995\n",
      "Broken Part saved 23\n",
      "Length of broken  1\n",
      "Finished Part 23\n",
      "Saved as tracksAudioFeatures/tracksAudioFeatures_fifthSegment_part_23.csv\n",
      "Starting Part 24 from 24000 to 25000\n"
     ]
    },
    {
     "name": "stderr",
     "output_type": "stream",
     "text": [
      "100%|██████████████████████████████████████████████████████████████████████████████| 1000/1000 [09:39<00:00,  1.73it/s]\n"
     ]
    },
    {
     "name": "stdout",
     "output_type": "stream",
     "text": [
      "5000 5000\n",
      "Finished Part 24\n",
      "Saved as tracksAudioFeatures/tracksAudioFeatures_fifthSegment_part_24.csv\n"
     ]
    }
   ],
   "source": [
    "saveFiles(20,25,'fifthSegment')"
   ]
  },
  {
   "cell_type": "code",
   "execution_count": 3,
   "id": "b5026315",
   "metadata": {
    "slideshow": {
     "slide_type": "subslide"
    }
   },
   "outputs": [],
   "source": [
    "datasets = os.listdir('./tracksAudioFeatures')"
   ]
  },
  {
   "cell_type": "markdown",
   "id": "8c4512ca",
   "metadata": {
    "slideshow": {
     "slide_type": "slide"
    }
   },
   "source": [
    "After we have all the datasets parts, we need to merge them, we merge broken into a single dataset too."
   ]
  },
  {
   "cell_type": "code",
   "execution_count": 4,
   "id": "1ead84dd",
   "metadata": {
    "slideshow": {
     "slide_type": "subslide"
    }
   },
   "outputs": [
    {
     "name": "stderr",
     "output_type": "stream",
     "text": [
      " 27%|██████████████████████▋                                                            | 9/33 [00:01<00:03,  6.71it/s]"
     ]
    },
    {
     "name": "stdout",
     "output_type": "stream",
     "text": [
      "tracksAudioFeatures_fifthSegment_part_20.csv\n",
      "<class 'str'>\n",
      "2940\n",
      "250\n"
     ]
    },
    {
     "name": "stderr",
     "output_type": "stream",
     "text": [
      "\r",
      " 30%|████████████████████████▊                                                         | 10/33 [00:02<00:07,  3.22it/s]"
     ]
    },
    {
     "name": "stdout",
     "output_type": "stream",
     "text": [
      "tracksAudioFeatures_fifthSegment_part_21.csv\n",
      "<class 'str'>\n",
      "2858\n",
      "250\n"
     ]
    },
    {
     "name": "stderr",
     "output_type": "stream",
     "text": [
      "\r",
      " 33%|███████████████████████████▎                                                      | 11/33 [00:04<00:10,  2.09it/s]"
     ]
    },
    {
     "name": "stdout",
     "output_type": "stream",
     "text": [
      "tracksAudioFeatures_fifthSegment_part_22.csv\n",
      "<class 'str'>\n",
      "2905\n",
      "250\n"
     ]
    },
    {
     "name": "stderr",
     "output_type": "stream",
     "text": [
      "\r",
      " 36%|█████████████████████████████▊                                                    | 12/33 [00:05<00:13,  1.53it/s]"
     ]
    },
    {
     "name": "stdout",
     "output_type": "stream",
     "text": [
      "tracksAudioFeatures_fifthSegment_part_23.csv\n",
      "<class 'str'>\n",
      "2802\n",
      "250\n"
     ]
    },
    {
     "name": "stderr",
     "output_type": "stream",
     "text": [
      "\r",
      " 39%|████████████████████████████████▎                                                 | 13/33 [00:06<00:16,  1.21it/s]"
     ]
    },
    {
     "name": "stdout",
     "output_type": "stream",
     "text": [
      "tracksAudioFeatures_fifthSegment_part_24.csv\n",
      "<class 'str'>\n",
      "2893\n",
      "250\n"
     ]
    },
    {
     "name": "stderr",
     "output_type": "stream",
     "text": [
      "\r",
      " 42%|██████████████████████████████████▊                                               | 14/33 [00:08<00:18,  1.02it/s]"
     ]
    },
    {
     "name": "stdout",
     "output_type": "stream",
     "text": [
      "tracksAudioFeatures_firstSegment_part_0.csv\n",
      "<class 'str'>\n",
      "2895\n",
      "250\n"
     ]
    },
    {
     "name": "stderr",
     "output_type": "stream",
     "text": [
      "\r",
      " 45%|█████████████████████████████████████▎                                            | 15/33 [00:09<00:19,  1.10s/it]"
     ]
    },
    {
     "name": "stdout",
     "output_type": "stream",
     "text": [
      "tracksAudioFeatures_firstSegment_part_1.csv\n",
      "<class 'str'>\n",
      "2956\n",
      "250\n"
     ]
    },
    {
     "name": "stderr",
     "output_type": "stream",
     "text": [
      "\r",
      " 48%|███████████████████████████████████████▊                                          | 16/33 [00:11<00:20,  1.21s/it]"
     ]
    },
    {
     "name": "stdout",
     "output_type": "stream",
     "text": [
      "tracksAudioFeatures_firstSegment_part_2.csv\n",
      "<class 'str'>\n",
      "2925\n",
      "250\n"
     ]
    },
    {
     "name": "stderr",
     "output_type": "stream",
     "text": [
      "\r",
      " 52%|██████████████████████████████████████████▏                                       | 17/33 [00:12<00:20,  1.29s/it]"
     ]
    },
    {
     "name": "stdout",
     "output_type": "stream",
     "text": [
      "tracksAudioFeatures_firstSegment_part_3.csv\n",
      "<class 'str'>\n",
      "2947\n",
      "250\n"
     ]
    },
    {
     "name": "stderr",
     "output_type": "stream",
     "text": [
      "\r",
      " 55%|████████████████████████████████████████████▋                                     | 18/33 [00:14<00:20,  1.34s/it]"
     ]
    },
    {
     "name": "stdout",
     "output_type": "stream",
     "text": [
      "tracksAudioFeatures_firstSegment_part_4.csv\n",
      "<class 'str'>\n",
      "2937\n",
      "250\n"
     ]
    },
    {
     "name": "stderr",
     "output_type": "stream",
     "text": [
      "\r",
      " 58%|███████████████████████████████████████████████▏                                  | 19/33 [00:15<00:19,  1.38s/it]"
     ]
    },
    {
     "name": "stdout",
     "output_type": "stream",
     "text": [
      "tracksAudioFeatures_fourthSegment_part_15.csv\n",
      "<class 'str'>\n",
      "2749\n",
      "250\n"
     ]
    },
    {
     "name": "stderr",
     "output_type": "stream",
     "text": [
      "\r",
      " 61%|█████████████████████████████████████████████████▋                                | 20/33 [00:17<00:18,  1.40s/it]"
     ]
    },
    {
     "name": "stdout",
     "output_type": "stream",
     "text": [
      "tracksAudioFeatures_fourthSegment_part_16.csv\n",
      "<class 'str'>\n",
      "2965\n",
      "250\n"
     ]
    },
    {
     "name": "stderr",
     "output_type": "stream",
     "text": [
      "\r",
      " 64%|████████████████████████████████████████████████████▏                             | 21/33 [00:18<00:17,  1.43s/it]"
     ]
    },
    {
     "name": "stdout",
     "output_type": "stream",
     "text": [
      "tracksAudioFeatures_fourthSegment_part_17.csv\n",
      "<class 'str'>\n",
      "2937\n",
      "250\n"
     ]
    },
    {
     "name": "stderr",
     "output_type": "stream",
     "text": [
      "\r",
      " 67%|██████████████████████████████████████████████████████▋                           | 22/33 [00:20<00:15,  1.44s/it]"
     ]
    },
    {
     "name": "stdout",
     "output_type": "stream",
     "text": [
      "tracksAudioFeatures_fourthSegment_part_18.csv\n",
      "<class 'str'>\n",
      "2934\n",
      "250\n"
     ]
    },
    {
     "name": "stderr",
     "output_type": "stream",
     "text": [
      "\r",
      " 70%|█████████████████████████████████████████████████████████▏                        | 23/33 [00:21<00:14,  1.46s/it]"
     ]
    },
    {
     "name": "stdout",
     "output_type": "stream",
     "text": [
      "tracksAudioFeatures_fourthSegment_part_19.csv\n",
      "<class 'str'>\n",
      "2915\n",
      "250\n"
     ]
    },
    {
     "name": "stderr",
     "output_type": "stream",
     "text": [
      "\r",
      " 73%|███████████████████████████████████████████████████████████▋                      | 24/33 [00:23<00:13,  1.48s/it]"
     ]
    },
    {
     "name": "stdout",
     "output_type": "stream",
     "text": [
      "tracksAudioFeatures_secondSegment_part_5.csv\n",
      "<class 'str'>\n",
      "2882\n",
      "250\n"
     ]
    },
    {
     "name": "stderr",
     "output_type": "stream",
     "text": [
      "\r",
      " 76%|██████████████████████████████████████████████████████████████                    | 25/33 [00:24<00:11,  1.49s/it]"
     ]
    },
    {
     "name": "stdout",
     "output_type": "stream",
     "text": [
      "tracksAudioFeatures_secondSegment_part_6.csv\n",
      "<class 'str'>\n",
      "2928\n",
      "250\n"
     ]
    },
    {
     "name": "stderr",
     "output_type": "stream",
     "text": [
      "\r",
      " 79%|████████████████████████████████████████████████████████████████▌                 | 26/33 [00:26<00:10,  1.50s/it]"
     ]
    },
    {
     "name": "stdout",
     "output_type": "stream",
     "text": [
      "tracksAudioFeatures_secondSegment_part_7.csv\n",
      "<class 'str'>\n",
      "2668\n",
      "250\n"
     ]
    },
    {
     "name": "stderr",
     "output_type": "stream",
     "text": [
      "\r",
      " 82%|███████████████████████████████████████████████████████████████████               | 27/33 [00:27<00:08,  1.49s/it]"
     ]
    },
    {
     "name": "stdout",
     "output_type": "stream",
     "text": [
      "tracksAudioFeatures_secondSegment_part_8.csv\n",
      "<class 'str'>\n",
      "2935\n",
      "250\n"
     ]
    },
    {
     "name": "stderr",
     "output_type": "stream",
     "text": [
      "\r",
      " 85%|█████████████████████████████████████████████████████████████████████▌            | 28/33 [00:29<00:07,  1.50s/it]"
     ]
    },
    {
     "name": "stdout",
     "output_type": "stream",
     "text": [
      "tracksAudioFeatures_secondSegment_part_9.csv\n",
      "<class 'str'>\n",
      "2639\n",
      "250\n"
     ]
    },
    {
     "name": "stderr",
     "output_type": "stream",
     "text": [
      "\r",
      " 88%|████████████████████████████████████████████████████████████████████████          | 29/33 [00:30<00:05,  1.48s/it]"
     ]
    },
    {
     "name": "stdout",
     "output_type": "stream",
     "text": [
      "tracksAudioFeatures_thirdSegment_part_10.csv\n",
      "<class 'str'>\n",
      "2884\n",
      "250\n"
     ]
    },
    {
     "name": "stderr",
     "output_type": "stream",
     "text": [
      "\r",
      " 91%|██████████████████████████████████████████████████████████████████████████▌       | 30/33 [00:32<00:04,  1.47s/it]"
     ]
    },
    {
     "name": "stdout",
     "output_type": "stream",
     "text": [
      "tracksAudioFeatures_thirdSegment_part_11.csv\n",
      "<class 'str'>\n",
      "2942\n",
      "250\n"
     ]
    },
    {
     "name": "stderr",
     "output_type": "stream",
     "text": [
      "\r",
      " 94%|█████████████████████████████████████████████████████████████████████████████     | 31/33 [00:33<00:02,  1.46s/it]"
     ]
    },
    {
     "name": "stdout",
     "output_type": "stream",
     "text": [
      "tracksAudioFeatures_thirdSegment_part_12.csv\n",
      "<class 'str'>\n",
      "2951\n",
      "250\n"
     ]
    },
    {
     "name": "stderr",
     "output_type": "stream",
     "text": [
      "\r",
      " 97%|███████████████████████████████████████████████████████████████████████████████▌  | 32/33 [00:35<00:01,  1.47s/it]"
     ]
    },
    {
     "name": "stdout",
     "output_type": "stream",
     "text": [
      "tracksAudioFeatures_thirdSegment_part_13.csv\n",
      "<class 'str'>\n",
      "2904\n",
      "250\n"
     ]
    },
    {
     "name": "stderr",
     "output_type": "stream",
     "text": [
      "100%|██████████████████████████████████████████████████████████████████████████████████| 33/33 [00:36<00:00,  1.11s/it]"
     ]
    },
    {
     "name": "stdout",
     "output_type": "stream",
     "text": [
      "tracksAudioFeatures_thirdSegment_part_14.csv\n",
      "<class 'str'>\n",
      "2941\n",
      "250\n"
     ]
    },
    {
     "name": "stderr",
     "output_type": "stream",
     "text": [
      "\n"
     ]
    }
   ],
   "source": [
    "tracksAudioFeatures_complete = pd.DataFrame()\n",
    "broken_tracksAudioFeatures_complete = pd.DataFrame()\n",
    "\n",
    "for i in tqdm(datasets):\n",
    "    x = pd.read_csv('./tracksAudioFeatures/' + i)\n",
    "    if 'broken' not in i:\n",
    "        print(i)\n",
    "        print(type(x['mfccFeature_0'].iloc[0]))\n",
    "        print(len(x['mfccFeature_0'].iloc[0]))\n",
    "        print(len(x['mfccFeature_0'].iloc[0].split(',')))\n",
    "        tracksAudioFeatures_complete = pd.concat([tracksAudioFeatures_complete,x])\n",
    "    else:\n",
    "        broken_tracksAudioFeatures_complete = pd.concat([broken_tracksAudioFeatures_complete,x])\n",
    "        \n",
    "tracksAudioFeatures_complete = tracksAudioFeatures_complete.drop(['Unnamed: 0'], axis=1)\n",
    "broken_tracksAudioFeatures_complete = broken_tracksAudioFeatures_complete.drop(['Unnamed: 0'], axis=1)\n",
    "       "
   ]
  },
  {
   "cell_type": "markdown",
   "id": "758fa8bc",
   "metadata": {
    "slideshow": {
     "slide_type": "slide"
    }
   },
   "source": [
    "Fianlly we have total number of tracks to be 124895 and 21 broken tracks. We explore the dataset to further to verify if all the shapes and types are correct."
   ]
  },
  {
   "cell_type": "code",
   "execution_count": 5,
   "id": "f4956755",
   "metadata": {
    "slideshow": {
     "slide_type": "subslide"
    }
   },
   "outputs": [
    {
     "data": {
      "text/html": [
       "<div>\n",
       "<style scoped>\n",
       "    .dataframe tbody tr th:only-of-type {\n",
       "        vertical-align: middle;\n",
       "    }\n",
       "\n",
       "    .dataframe tbody tr th {\n",
       "        vertical-align: top;\n",
       "    }\n",
       "\n",
       "    .dataframe thead th {\n",
       "        text-align: right;\n",
       "    }\n",
       "</style>\n",
       "<table border=\"1\" class=\"dataframe\">\n",
       "  <thead>\n",
       "    <tr style=\"text-align: right;\">\n",
       "      <th></th>\n",
       "      <th>id</th>\n",
       "      <th>genre</th>\n",
       "      <th>mfccFeature_0</th>\n",
       "      <th>mfccFeature_1</th>\n",
       "      <th>mfccFeature_2</th>\n",
       "      <th>mfccFeature_3</th>\n",
       "      <th>mfccFeature_4</th>\n",
       "      <th>mfccFeature_5</th>\n",
       "      <th>mfccFeature_6</th>\n",
       "      <th>mfccFeature_7</th>\n",
       "      <th>mfccFeature_8</th>\n",
       "      <th>mfccFeature_9</th>\n",
       "      <th>mfccFeature_10</th>\n",
       "      <th>mfccFeature_11</th>\n",
       "      <th>mfccFeature_12</th>\n",
       "      <th>mfccFeature_13</th>\n",
       "      <th>mfccFeature_14</th>\n",
       "    </tr>\n",
       "  </thead>\n",
       "  <tbody>\n",
       "    <tr>\n",
       "      <th>0</th>\n",
       "      <td>124423_0</td>\n",
       "      <td>Old-Time / Historic</td>\n",
       "      <td>[-328.7624, -206.09636, -150.4038, -144.09038,...</td>\n",
       "      <td>[132.91347, 150.61551, 144.43718, 140.92017, 1...</td>\n",
       "      <td>[-90.37503, -126.661026, -140.2472, -138.8731,...</td>\n",
       "      <td>[-63.457577, -50.04628, -51.89651, -52.70818, ...</td>\n",
       "      <td>[-38.716564, -46.91884, -50.58444, -47.508934,...</td>\n",
       "      <td>[-56.29294, -62.14529, -53.36077, -51.67916, -...</td>\n",
       "      <td>[-17.247395, -34.123608, -40.161243, -42.32673...</td>\n",
       "      <td>[-3.6903424, -5.2592907, -1.0339475, -0.248538...</td>\n",
       "      <td>[-16.171959, -23.949322, -23.311352, -21.07062...</td>\n",
       "      <td>[-1.7130346, -6.9061756, -2.5145044, 4.5913672...</td>\n",
       "      <td>[-17.067202, -17.211754, -16.577923, -9.204768...</td>\n",
       "      <td>[-27.971401, -30.455574, -20.908623, -16.16786...</td>\n",
       "      <td>[8.152201, 8.3445635, 1.8432193, -5.7282104, -...</td>\n",
       "      <td>[10.642556, 9.837347, 18.859747, 17.205154, 8....</td>\n",
       "      <td>[-4.3580694, -3.3247807, 6.962681, 11.387974, ...</td>\n",
       "    </tr>\n",
       "    <tr>\n",
       "      <th>1</th>\n",
       "      <td>124423_1</td>\n",
       "      <td>Old-Time / Historic</td>\n",
       "      <td>[-236.76901, -203.01874, -200.4282, -208.92003...</td>\n",
       "      <td>[164.211, 159.14294, 136.04929, 136.82301, 156...</td>\n",
       "      <td>[-85.3822, -117.465, -142.91583, -143.71155, -...</td>\n",
       "      <td>[-32.252678, -37.033913, -54.37635, -57.882896...</td>\n",
       "      <td>[-7.4214034, -20.556595, -37.773483, -39.49316...</td>\n",
       "      <td>[-31.144537, -44.259975, -59.811573, -61.17159...</td>\n",
       "      <td>[-14.987923, -23.720203, -43.693214, -45.93542...</td>\n",
       "      <td>[4.4418592, 3.9385574, -10.675606, -14.657623,...</td>\n",
       "      <td>[-12.005516, -25.275543, -41.375755, -39.71647...</td>\n",
       "      <td>[-5.6790867, 1.2063706, -4.721801, -8.164688, ...</td>\n",
       "      <td>[-6.2902756, -3.91095, -4.4361215, -4.327603, ...</td>\n",
       "      <td>[-5.6098385, -7.864852, -7.2575703, -2.4607427...</td>\n",
       "      <td>[7.336014, 14.364861, 14.558414, 20.445679, 16...</td>\n",
       "      <td>[2.09269, -0.17045055, -0.978363, 0.28908974, ...</td>\n",
       "      <td>[-4.1928773, -3.4265738, -3.9279053, -5.465062...</td>\n",
       "    </tr>\n",
       "    <tr>\n",
       "      <th>2</th>\n",
       "      <td>124423_2</td>\n",
       "      <td>Old-Time / Historic</td>\n",
       "      <td>[-390.48816, -339.31622, -317.2405, -326.96646...</td>\n",
       "      <td>[97.122345, 115.60747, 127.4955, 128.93234, 14...</td>\n",
       "      <td>[-84.24397, -109.15258, -110.69359, -99.36203,...</td>\n",
       "      <td>[-40.43964, -44.553093, -47.186836, -41.452816...</td>\n",
       "      <td>[0.28208655, -1.2433429, -6.5626597, -0.983691...</td>\n",
       "      <td>[-36.504112, -43.72944, -42.5904, -35.0524, -4...</td>\n",
       "      <td>[-22.552574, -24.396482, -21.35398, -15.982605...</td>\n",
       "      <td>[1.2889054, 0.24470624, -1.0263059, 3.6228871,...</td>\n",
       "      <td>[-9.089966, -12.901368, -15.339406, -10.585323...</td>\n",
       "      <td>[-9.621838, -6.8267345, -4.4633904, -3.513043,...</td>\n",
       "      <td>[-6.904684, -6.3937654, -4.0830145, -0.6454271...</td>\n",
       "      <td>[-2.2965891, -8.502451, -8.448065, -3.9730012,...</td>\n",
       "      <td>[11.558136, 10.830755, 6.7897396, 8.929026, 13...</td>\n",
       "      <td>[5.913314, 5.5654097, 1.5172951, 0.10546613, 2...</td>\n",
       "      <td>[-6.5406847, -3.1975913, -1.6860085, -6.242577...</td>\n",
       "    </tr>\n",
       "    <tr>\n",
       "      <th>3</th>\n",
       "      <td>124423_3</td>\n",
       "      <td>Old-Time / Historic</td>\n",
       "      <td>[-352.81958, -337.61414, -345.47974, -343.2563...</td>\n",
       "      <td>[142.35503, 135.62234, 113.44443, 108.335236, ...</td>\n",
       "      <td>[-43.732452, -74.83505, -103.43189, -107.36707...</td>\n",
       "      <td>[-15.263801, -28.205692, -44.415802, -39.63460...</td>\n",
       "      <td>[9.44633, 6.6091423, -2.8628724, 1.0015795, 3....</td>\n",
       "      <td>[-31.255424, -38.347614, -47.272774, -40.84847...</td>\n",
       "      <td>[-19.78806, -21.916473, -29.354237, -18.958858...</td>\n",
       "      <td>[-6.792322, -5.6661687, -13.356573, -5.396633,...</td>\n",
       "      <td>[-20.756138, -21.027271, -25.952667, -26.81138...</td>\n",
       "      <td>[-11.619511, -10.518908, -14.541344, -15.04974...</td>\n",
       "      <td>[-2.953545, -3.8872366, -10.412258, -8.673106,...</td>\n",
       "      <td>[-2.9083943, -5.7381706, -7.6637254, -6.109688...</td>\n",
       "      <td>[5.6500626, 5.615141, 9.0784645, 14.550588, 17...</td>\n",
       "      <td>[3.5961199, 5.6481404, 5.7618313, 4.961307, 1....</td>\n",
       "      <td>[-0.0033575296, 1.9707386, -0.80081874, -2.087...</td>\n",
       "    </tr>\n",
       "    <tr>\n",
       "      <th>4</th>\n",
       "      <td>124423_4</td>\n",
       "      <td>Old-Time / Historic</td>\n",
       "      <td>[-298.37216, -311.58813, -341.85043, -346.8217...</td>\n",
       "      <td>[143.62546, 148.77249, 137.96545, 133.75113, 1...</td>\n",
       "      <td>[-61.373726, -84.11337, -84.06207, -85.60765, ...</td>\n",
       "      <td>[-43.16261, -43.88006, -47.562035, -44.25102, ...</td>\n",
       "      <td>[-34.505463, -32.188267, -25.248846, -13.07193...</td>\n",
       "      <td>[-53.48815, -64.33479, -62.00576, -53.099655, ...</td>\n",
       "      <td>[-34.04146, -38.559437, -35.13096, -35.746147,...</td>\n",
       "      <td>[-5.90814, -7.9788213, -15.199701, -14.585123,...</td>\n",
       "      <td>[-15.080654, -18.701542, -19.008532, -15.62354...</td>\n",
       "      <td>[-21.62012, -18.04889, -8.216867, -7.8816576, ...</td>\n",
       "      <td>[-12.881039, -12.1749, -11.892162, -13.694319,...</td>\n",
       "      <td>[-4.0920386, -6.83904, -6.9548445, -9.170607, ...</td>\n",
       "      <td>[4.849468, 10.788048, 11.474641, 9.209568, 10....</td>\n",
       "      <td>[5.5359507, 4.742424, 4.962161, 5.2920237, 6.5...</td>\n",
       "      <td>[1.0970776, 2.4824529, 0.74116087, -1.4359027,...</td>\n",
       "    </tr>\n",
       "  </tbody>\n",
       "</table>\n",
       "</div>"
      ],
      "text/plain": [
       "         id                genre  \\\n",
       "0  124423_0  Old-Time / Historic   \n",
       "1  124423_1  Old-Time / Historic   \n",
       "2  124423_2  Old-Time / Historic   \n",
       "3  124423_3  Old-Time / Historic   \n",
       "4  124423_4  Old-Time / Historic   \n",
       "\n",
       "                                       mfccFeature_0  \\\n",
       "0  [-328.7624, -206.09636, -150.4038, -144.09038,...   \n",
       "1  [-236.76901, -203.01874, -200.4282, -208.92003...   \n",
       "2  [-390.48816, -339.31622, -317.2405, -326.96646...   \n",
       "3  [-352.81958, -337.61414, -345.47974, -343.2563...   \n",
       "4  [-298.37216, -311.58813, -341.85043, -346.8217...   \n",
       "\n",
       "                                       mfccFeature_1  \\\n",
       "0  [132.91347, 150.61551, 144.43718, 140.92017, 1...   \n",
       "1  [164.211, 159.14294, 136.04929, 136.82301, 156...   \n",
       "2  [97.122345, 115.60747, 127.4955, 128.93234, 14...   \n",
       "3  [142.35503, 135.62234, 113.44443, 108.335236, ...   \n",
       "4  [143.62546, 148.77249, 137.96545, 133.75113, 1...   \n",
       "\n",
       "                                       mfccFeature_2  \\\n",
       "0  [-90.37503, -126.661026, -140.2472, -138.8731,...   \n",
       "1  [-85.3822, -117.465, -142.91583, -143.71155, -...   \n",
       "2  [-84.24397, -109.15258, -110.69359, -99.36203,...   \n",
       "3  [-43.732452, -74.83505, -103.43189, -107.36707...   \n",
       "4  [-61.373726, -84.11337, -84.06207, -85.60765, ...   \n",
       "\n",
       "                                       mfccFeature_3  \\\n",
       "0  [-63.457577, -50.04628, -51.89651, -52.70818, ...   \n",
       "1  [-32.252678, -37.033913, -54.37635, -57.882896...   \n",
       "2  [-40.43964, -44.553093, -47.186836, -41.452816...   \n",
       "3  [-15.263801, -28.205692, -44.415802, -39.63460...   \n",
       "4  [-43.16261, -43.88006, -47.562035, -44.25102, ...   \n",
       "\n",
       "                                       mfccFeature_4  \\\n",
       "0  [-38.716564, -46.91884, -50.58444, -47.508934,...   \n",
       "1  [-7.4214034, -20.556595, -37.773483, -39.49316...   \n",
       "2  [0.28208655, -1.2433429, -6.5626597, -0.983691...   \n",
       "3  [9.44633, 6.6091423, -2.8628724, 1.0015795, 3....   \n",
       "4  [-34.505463, -32.188267, -25.248846, -13.07193...   \n",
       "\n",
       "                                       mfccFeature_5  \\\n",
       "0  [-56.29294, -62.14529, -53.36077, -51.67916, -...   \n",
       "1  [-31.144537, -44.259975, -59.811573, -61.17159...   \n",
       "2  [-36.504112, -43.72944, -42.5904, -35.0524, -4...   \n",
       "3  [-31.255424, -38.347614, -47.272774, -40.84847...   \n",
       "4  [-53.48815, -64.33479, -62.00576, -53.099655, ...   \n",
       "\n",
       "                                       mfccFeature_6  \\\n",
       "0  [-17.247395, -34.123608, -40.161243, -42.32673...   \n",
       "1  [-14.987923, -23.720203, -43.693214, -45.93542...   \n",
       "2  [-22.552574, -24.396482, -21.35398, -15.982605...   \n",
       "3  [-19.78806, -21.916473, -29.354237, -18.958858...   \n",
       "4  [-34.04146, -38.559437, -35.13096, -35.746147,...   \n",
       "\n",
       "                                       mfccFeature_7  \\\n",
       "0  [-3.6903424, -5.2592907, -1.0339475, -0.248538...   \n",
       "1  [4.4418592, 3.9385574, -10.675606, -14.657623,...   \n",
       "2  [1.2889054, 0.24470624, -1.0263059, 3.6228871,...   \n",
       "3  [-6.792322, -5.6661687, -13.356573, -5.396633,...   \n",
       "4  [-5.90814, -7.9788213, -15.199701, -14.585123,...   \n",
       "\n",
       "                                       mfccFeature_8  \\\n",
       "0  [-16.171959, -23.949322, -23.311352, -21.07062...   \n",
       "1  [-12.005516, -25.275543, -41.375755, -39.71647...   \n",
       "2  [-9.089966, -12.901368, -15.339406, -10.585323...   \n",
       "3  [-20.756138, -21.027271, -25.952667, -26.81138...   \n",
       "4  [-15.080654, -18.701542, -19.008532, -15.62354...   \n",
       "\n",
       "                                       mfccFeature_9  \\\n",
       "0  [-1.7130346, -6.9061756, -2.5145044, 4.5913672...   \n",
       "1  [-5.6790867, 1.2063706, -4.721801, -8.164688, ...   \n",
       "2  [-9.621838, -6.8267345, -4.4633904, -3.513043,...   \n",
       "3  [-11.619511, -10.518908, -14.541344, -15.04974...   \n",
       "4  [-21.62012, -18.04889, -8.216867, -7.8816576, ...   \n",
       "\n",
       "                                      mfccFeature_10  \\\n",
       "0  [-17.067202, -17.211754, -16.577923, -9.204768...   \n",
       "1  [-6.2902756, -3.91095, -4.4361215, -4.327603, ...   \n",
       "2  [-6.904684, -6.3937654, -4.0830145, -0.6454271...   \n",
       "3  [-2.953545, -3.8872366, -10.412258, -8.673106,...   \n",
       "4  [-12.881039, -12.1749, -11.892162, -13.694319,...   \n",
       "\n",
       "                                      mfccFeature_11  \\\n",
       "0  [-27.971401, -30.455574, -20.908623, -16.16786...   \n",
       "1  [-5.6098385, -7.864852, -7.2575703, -2.4607427...   \n",
       "2  [-2.2965891, -8.502451, -8.448065, -3.9730012,...   \n",
       "3  [-2.9083943, -5.7381706, -7.6637254, -6.109688...   \n",
       "4  [-4.0920386, -6.83904, -6.9548445, -9.170607, ...   \n",
       "\n",
       "                                      mfccFeature_12  \\\n",
       "0  [8.152201, 8.3445635, 1.8432193, -5.7282104, -...   \n",
       "1  [7.336014, 14.364861, 14.558414, 20.445679, 16...   \n",
       "2  [11.558136, 10.830755, 6.7897396, 8.929026, 13...   \n",
       "3  [5.6500626, 5.615141, 9.0784645, 14.550588, 17...   \n",
       "4  [4.849468, 10.788048, 11.474641, 9.209568, 10....   \n",
       "\n",
       "                                      mfccFeature_13  \\\n",
       "0  [10.642556, 9.837347, 18.859747, 17.205154, 8....   \n",
       "1  [2.09269, -0.17045055, -0.978363, 0.28908974, ...   \n",
       "2  [5.913314, 5.5654097, 1.5172951, 0.10546613, 2...   \n",
       "3  [3.5961199, 5.6481404, 5.7618313, 4.961307, 1....   \n",
       "4  [5.5359507, 4.742424, 4.962161, 5.2920237, 6.5...   \n",
       "\n",
       "                                      mfccFeature_14  \n",
       "0  [-4.3580694, -3.3247807, 6.962681, 11.387974, ...  \n",
       "1  [-4.1928773, -3.4265738, -3.9279053, -5.465062...  \n",
       "2  [-6.5406847, -3.1975913, -1.6860085, -6.242577...  \n",
       "3  [-0.0033575296, 1.9707386, -0.80081874, -2.087...  \n",
       "4  [1.0970776, 2.4824529, 0.74116087, -1.4359027,...  "
      ]
     },
     "execution_count": 5,
     "metadata": {},
     "output_type": "execute_result"
    }
   ],
   "source": [
    "tracksAudioFeatures_complete.head(5)"
   ]
  },
  {
   "cell_type": "code",
   "execution_count": 6,
   "id": "8ec40164",
   "metadata": {
    "slideshow": {
     "slide_type": "subslide"
    }
   },
   "outputs": [
    {
     "data": {
      "text/plain": [
       "(124895, 17)"
      ]
     },
     "execution_count": 6,
     "metadata": {},
     "output_type": "execute_result"
    }
   ],
   "source": [
    "tracksAudioFeatures_complete.shape"
   ]
  },
  {
   "cell_type": "code",
   "execution_count": 7,
   "id": "382a6899",
   "metadata": {
    "slideshow": {
     "slide_type": "subslide"
    }
   },
   "outputs": [
    {
     "data": {
      "text/html": [
       "<div>\n",
       "<style scoped>\n",
       "    .dataframe tbody tr th:only-of-type {\n",
       "        vertical-align: middle;\n",
       "    }\n",
       "\n",
       "    .dataframe tbody tr th {\n",
       "        vertical-align: top;\n",
       "    }\n",
       "\n",
       "    .dataframe thead th {\n",
       "        text-align: right;\n",
       "    }\n",
       "</style>\n",
       "<table border=\"1\" class=\"dataframe\">\n",
       "  <thead>\n",
       "    <tr style=\"text-align: right;\">\n",
       "      <th></th>\n",
       "      <th>filename</th>\n",
       "    </tr>\n",
       "  </thead>\n",
       "  <tbody>\n",
       "    <tr>\n",
       "      <th>0</th>\n",
       "      <td>126981.mp3</td>\n",
       "    </tr>\n",
       "    <tr>\n",
       "      <th>1</th>\n",
       "      <td>127336.mp3</td>\n",
       "    </tr>\n",
       "    <tr>\n",
       "      <th>0</th>\n",
       "      <td>133297.mp3</td>\n",
       "    </tr>\n",
       "    <tr>\n",
       "      <th>0</th>\n",
       "      <td>143992.mp3</td>\n",
       "    </tr>\n",
       "    <tr>\n",
       "      <th>0</th>\n",
       "      <td>001486.mp3</td>\n",
       "    </tr>\n",
       "  </tbody>\n",
       "</table>\n",
       "</div>"
      ],
      "text/plain": [
       "     filename\n",
       "0  126981.mp3\n",
       "1  127336.mp3\n",
       "0  133297.mp3\n",
       "0  143992.mp3\n",
       "0  001486.mp3"
      ]
     },
     "execution_count": 7,
     "metadata": {},
     "output_type": "execute_result"
    }
   ],
   "source": [
    "broken_tracksAudioFeatures_complete.head(5)"
   ]
  },
  {
   "cell_type": "code",
   "execution_count": 8,
   "id": "6f2bf1f3",
   "metadata": {
    "slideshow": {
     "slide_type": "subslide"
    }
   },
   "outputs": [
    {
     "data": {
      "text/plain": [
       "21"
      ]
     },
     "execution_count": 8,
     "metadata": {},
     "output_type": "execute_result"
    }
   ],
   "source": [
    "len(broken_tracksAudioFeatures_complete)"
   ]
  },
  {
   "cell_type": "code",
   "execution_count": 9,
   "id": "83771d92",
   "metadata": {
    "slideshow": {
     "slide_type": "subslide"
    }
   },
   "outputs": [
    {
     "name": "stdout",
     "output_type": "stream",
     "text": [
      "<class 'str'>\n",
      "2940\n",
      "250\n"
     ]
    }
   ],
   "source": [
    "print(type(tracksAudioFeatures_complete['mfccFeature_0'].iloc[0]))\n",
    "print(len(tracksAudioFeatures_complete['mfccFeature_0'].iloc[0]))\n",
    "print(len(tracksAudioFeatures_complete['mfccFeature_0'].iloc[0].split(',')))"
   ]
  },
  {
   "cell_type": "markdown",
   "id": "ba42b8a2",
   "metadata": {
    "slideshow": {
     "slide_type": "slide"
    }
   },
   "source": [
    "Final Audio Features Dataset is saved"
   ]
  },
  {
   "cell_type": "code",
   "execution_count": 10,
   "id": "59122996",
   "metadata": {
    "slideshow": {
     "slide_type": "subslide"
    }
   },
   "outputs": [],
   "source": [
    "tracksAudioFeatures_complete.to_csv('./tracksAudioFeatures/tracksAudioFeatures_complete.csv')\n",
    "broken_tracksAudioFeatures_complete.to_csv('./tracksAudioFeatures/broken_tracksAudioFeatures_complete.csv')"
   ]
  },
  {
   "cell_type": "markdown",
   "id": "f12c1bb2",
   "metadata": {
    "slideshow": {
     "slide_type": "slide"
    }
   },
   "source": [
    "The audio features will then be combined with theme features of same length to create the final dataset"
   ]
  }
 ],
 "metadata": {
  "celltoolbar": "Slideshow",
  "kernelspec": {
   "display_name": "Python 3 (ipykernel)",
   "language": "python",
   "name": "python3"
  },
  "language_info": {
   "codemirror_mode": {
    "name": "ipython",
    "version": 3
   },
   "file_extension": ".py",
   "mimetype": "text/x-python",
   "name": "python",
   "nbconvert_exporter": "python",
   "pygments_lexer": "ipython3",
   "version": "3.9.7"
  }
 },
 "nbformat": 4,
 "nbformat_minor": 5
}
