{
 "cells": [
  {
   "cell_type": "markdown",
   "id": "2b5806b2",
   "metadata": {
    "slideshow": {
     "slide_type": "slide"
    }
   },
   "source": [
    "# Final Dataset Creation\n"
   ]
  },
  {
   "cell_type": "code",
   "execution_count": 1,
   "id": "8ab96b6a",
   "metadata": {
    "slideshow": {
     "slide_type": "subslide"
    }
   },
   "outputs": [],
   "source": [
    "import pandas as pd\n",
    "from tqdm import tqdm\n",
    "from ast import literal_eval\n",
    "import numpy as np\n",
    "import random\n",
    "\n",
    "random.seed(10)"
   ]
  },
  {
   "cell_type": "markdown",
   "id": "0e465b93",
   "metadata": {
    "slideshow": {
     "slide_type": "slide"
    }
   },
   "source": [
    "The main aim of this notebook is to create the final dataset by merging both audio and lyric i.e. theme features."
   ]
  },
  {
   "cell_type": "code",
   "execution_count": 2,
   "id": "30ae817d",
   "metadata": {
    "slideshow": {
     "slide_type": "subslide"
    }
   },
   "outputs": [],
   "source": [
    "audioFeatures = pd.read_csv('tracksAudioFeatures/tracksAudioFeatures_complete.csv')\n",
    "lyricFeatures = pd.read_csv('tracksLyricFeatures/tracksLyricThemeVectorized.csv')\n",
    "\n"
   ]
  },
  {
   "cell_type": "code",
   "execution_count": 3,
   "id": "03f45a24",
   "metadata": {
    "slideshow": {
     "slide_type": "subslide"
    }
   },
   "outputs": [],
   "source": [
    "#Droping extra columns before merging\n",
    "audioFeatures = audioFeatures.drop(['Unnamed: 0'], axis=1)\n",
    "lyricFeatures = lyricFeatures.drop(['Unnamed: 0','track', 'trackArtist', 'genre', 'lyrics', 'top_lang_identified',\n",
    "       'top_lang_identified_prob', 'regex_cleaned_lyrics', 'tokenized_lyrics',\n",
    "       'tokenized_lyrics_no_stop', 'tokenized_lyrics_top5_tokens',\n",
    "       'theme_token_1', 'theme_token_2', 'theme_token_3', 'theme_token_4',\n",
    "       'theme_token_5'], axis=1)\n"
   ]
  },
  {
   "cell_type": "code",
   "execution_count": 4,
   "id": "77be723a",
   "metadata": {
    "slideshow": {
     "slide_type": "subslide"
    }
   },
   "outputs": [
    {
     "data": {
      "text/html": [
       "<div>\n",
       "<style scoped>\n",
       "    .dataframe tbody tr th:only-of-type {\n",
       "        vertical-align: middle;\n",
       "    }\n",
       "\n",
       "    .dataframe tbody tr th {\n",
       "        vertical-align: top;\n",
       "    }\n",
       "\n",
       "    .dataframe thead th {\n",
       "        text-align: right;\n",
       "    }\n",
       "</style>\n",
       "<table border=\"1\" class=\"dataframe\">\n",
       "  <thead>\n",
       "    <tr style=\"text-align: right;\">\n",
       "      <th></th>\n",
       "      <th>id</th>\n",
       "      <th>theme_token_1_vec</th>\n",
       "      <th>theme_token_2_vec</th>\n",
       "      <th>theme_token_3_vec</th>\n",
       "      <th>theme_token_4_vec</th>\n",
       "      <th>theme_token_5_vec</th>\n",
       "    </tr>\n",
       "  </thead>\n",
       "  <tbody>\n",
       "    <tr>\n",
       "      <th>0</th>\n",
       "      <td>127936</td>\n",
       "      <td>[-0.39857802 -0.7149435   0.19870338 -2.165562...</td>\n",
       "      <td>[ 0.54379386 -0.78404784  2.5348065  -1.979363...</td>\n",
       "      <td>[-1.9840902   0.6029517  -1.0292802   0.835790...</td>\n",
       "      <td>[-2.85954309e+00  1.30950487e+00 -2.08809757e+...</td>\n",
       "      <td>[-2.55218768e+00  8.12104702e-01  9.09771979e-...</td>\n",
       "    </tr>\n",
       "    <tr>\n",
       "      <th>1</th>\n",
       "      <td>52632</td>\n",
       "      <td>[-0.7222719  -1.1852437   1.3600969  -1.510474...</td>\n",
       "      <td>[ 9.34379041e-01 -1.20123565e+00 -3.79777968e-...</td>\n",
       "      <td>[-0.90332586 -1.1629791  -0.06437027 -1.990405...</td>\n",
       "      <td>[ 1.18106747e+00 -1.30691707e-01  3.56504321e-...</td>\n",
       "      <td>[-1.2248039   0.6531294  -0.6717697   0.065949...</td>\n",
       "    </tr>\n",
       "    <tr>\n",
       "      <th>2</th>\n",
       "      <td>99309</td>\n",
       "      <td>[-2.36634517e+00  1.00017858e+00 -6.03607595e-...</td>\n",
       "      <td>[-0.6021649  -2.528206    1.8324572   1.667492...</td>\n",
       "      <td>[-1.6888599e+00 -2.9139459e+00 -6.6858500e-01 ...</td>\n",
       "      <td>[-0.6582515  -0.3084944   1.4986044  -0.150477...</td>\n",
       "      <td>[ 1.9839271   2.0191925  -1.479551   -0.654519...</td>\n",
       "    </tr>\n",
       "  </tbody>\n",
       "</table>\n",
       "</div>"
      ],
      "text/plain": [
       "       id                                  theme_token_1_vec  \\\n",
       "0  127936  [-0.39857802 -0.7149435   0.19870338 -2.165562...   \n",
       "1   52632  [-0.7222719  -1.1852437   1.3600969  -1.510474...   \n",
       "2   99309  [-2.36634517e+00  1.00017858e+00 -6.03607595e-...   \n",
       "\n",
       "                                   theme_token_2_vec  \\\n",
       "0  [ 0.54379386 -0.78404784  2.5348065  -1.979363...   \n",
       "1  [ 9.34379041e-01 -1.20123565e+00 -3.79777968e-...   \n",
       "2  [-0.6021649  -2.528206    1.8324572   1.667492...   \n",
       "\n",
       "                                   theme_token_3_vec  \\\n",
       "0  [-1.9840902   0.6029517  -1.0292802   0.835790...   \n",
       "1  [-0.90332586 -1.1629791  -0.06437027 -1.990405...   \n",
       "2  [-1.6888599e+00 -2.9139459e+00 -6.6858500e-01 ...   \n",
       "\n",
       "                                   theme_token_4_vec  \\\n",
       "0  [-2.85954309e+00  1.30950487e+00 -2.08809757e+...   \n",
       "1  [ 1.18106747e+00 -1.30691707e-01  3.56504321e-...   \n",
       "2  [-0.6582515  -0.3084944   1.4986044  -0.150477...   \n",
       "\n",
       "                                   theme_token_5_vec  \n",
       "0  [-2.55218768e+00  8.12104702e-01  9.09771979e-...  \n",
       "1  [-1.2248039   0.6531294  -0.6717697   0.065949...  \n",
       "2  [ 1.9839271   2.0191925  -1.479551   -0.654519...  "
      ]
     },
     "execution_count": 4,
     "metadata": {},
     "output_type": "execute_result"
    }
   ],
   "source": [
    "lyricFeatures.head(3)\n"
   ]
  },
  {
   "cell_type": "code",
   "execution_count": 5,
   "id": "3326152e",
   "metadata": {
    "scrolled": true,
    "slideshow": {
     "slide_type": "subslide"
    }
   },
   "outputs": [
    {
     "data": {
      "text/html": [
       "<div>\n",
       "<style scoped>\n",
       "    .dataframe tbody tr th:only-of-type {\n",
       "        vertical-align: middle;\n",
       "    }\n",
       "\n",
       "    .dataframe tbody tr th {\n",
       "        vertical-align: top;\n",
       "    }\n",
       "\n",
       "    .dataframe thead th {\n",
       "        text-align: right;\n",
       "    }\n",
       "</style>\n",
       "<table border=\"1\" class=\"dataframe\">\n",
       "  <thead>\n",
       "    <tr style=\"text-align: right;\">\n",
       "      <th></th>\n",
       "      <th>id</th>\n",
       "      <th>genre</th>\n",
       "      <th>mfccFeature_0</th>\n",
       "      <th>mfccFeature_1</th>\n",
       "      <th>mfccFeature_2</th>\n",
       "      <th>mfccFeature_3</th>\n",
       "      <th>mfccFeature_4</th>\n",
       "      <th>mfccFeature_5</th>\n",
       "      <th>mfccFeature_6</th>\n",
       "      <th>mfccFeature_7</th>\n",
       "      <th>mfccFeature_8</th>\n",
       "      <th>mfccFeature_9</th>\n",
       "      <th>mfccFeature_10</th>\n",
       "      <th>mfccFeature_11</th>\n",
       "      <th>mfccFeature_12</th>\n",
       "      <th>mfccFeature_13</th>\n",
       "      <th>mfccFeature_14</th>\n",
       "    </tr>\n",
       "  </thead>\n",
       "  <tbody>\n",
       "    <tr>\n",
       "      <th>0</th>\n",
       "      <td>124423_0</td>\n",
       "      <td>Old-Time / Historic</td>\n",
       "      <td>[-328.7624, -206.09636, -150.4038, -144.09038,...</td>\n",
       "      <td>[132.91347, 150.61551, 144.43718, 140.92017, 1...</td>\n",
       "      <td>[-90.37503, -126.661026, -140.2472, -138.8731,...</td>\n",
       "      <td>[-63.457577, -50.04628, -51.89651, -52.70818, ...</td>\n",
       "      <td>[-38.716564, -46.91884, -50.58444, -47.508934,...</td>\n",
       "      <td>[-56.29294, -62.14529, -53.36077, -51.67916, -...</td>\n",
       "      <td>[-17.247395, -34.123608, -40.161243, -42.32673...</td>\n",
       "      <td>[-3.6903424, -5.2592907, -1.0339475, -0.248538...</td>\n",
       "      <td>[-16.171959, -23.949322, -23.311352, -21.07062...</td>\n",
       "      <td>[-1.7130346, -6.9061756, -2.5145044, 4.5913672...</td>\n",
       "      <td>[-17.067202, -17.211754, -16.577923, -9.204768...</td>\n",
       "      <td>[-27.971401, -30.455574, -20.908623, -16.16786...</td>\n",
       "      <td>[8.152201, 8.3445635, 1.8432193, -5.7282104, -...</td>\n",
       "      <td>[10.642556, 9.837347, 18.859747, 17.205154, 8....</td>\n",
       "      <td>[-4.3580694, -3.3247807, 6.962681, 11.387974, ...</td>\n",
       "    </tr>\n",
       "    <tr>\n",
       "      <th>1</th>\n",
       "      <td>124423_1</td>\n",
       "      <td>Old-Time / Historic</td>\n",
       "      <td>[-236.76901, -203.01874, -200.4282, -208.92003...</td>\n",
       "      <td>[164.211, 159.14294, 136.04929, 136.82301, 156...</td>\n",
       "      <td>[-85.3822, -117.465, -142.91583, -143.71155, -...</td>\n",
       "      <td>[-32.252678, -37.033913, -54.37635, -57.882896...</td>\n",
       "      <td>[-7.4214034, -20.556595, -37.773483, -39.49316...</td>\n",
       "      <td>[-31.144537, -44.259975, -59.811573, -61.17159...</td>\n",
       "      <td>[-14.987923, -23.720203, -43.693214, -45.93542...</td>\n",
       "      <td>[4.4418592, 3.9385574, -10.675606, -14.657623,...</td>\n",
       "      <td>[-12.005516, -25.275543, -41.375755, -39.71647...</td>\n",
       "      <td>[-5.6790867, 1.2063706, -4.721801, -8.164688, ...</td>\n",
       "      <td>[-6.2902756, -3.91095, -4.4361215, -4.327603, ...</td>\n",
       "      <td>[-5.6098385, -7.864852, -7.2575703, -2.4607427...</td>\n",
       "      <td>[7.336014, 14.364861, 14.558414, 20.445679, 16...</td>\n",
       "      <td>[2.09269, -0.17045055, -0.978363, 0.28908974, ...</td>\n",
       "      <td>[-4.1928773, -3.4265738, -3.9279053, -5.465062...</td>\n",
       "    </tr>\n",
       "    <tr>\n",
       "      <th>2</th>\n",
       "      <td>124423_2</td>\n",
       "      <td>Old-Time / Historic</td>\n",
       "      <td>[-390.48816, -339.31622, -317.2405, -326.96646...</td>\n",
       "      <td>[97.122345, 115.60747, 127.4955, 128.93234, 14...</td>\n",
       "      <td>[-84.24397, -109.15258, -110.69359, -99.36203,...</td>\n",
       "      <td>[-40.43964, -44.553093, -47.186836, -41.452816...</td>\n",
       "      <td>[0.28208655, -1.2433429, -6.5626597, -0.983691...</td>\n",
       "      <td>[-36.504112, -43.72944, -42.5904, -35.0524, -4...</td>\n",
       "      <td>[-22.552574, -24.396482, -21.35398, -15.982605...</td>\n",
       "      <td>[1.2889054, 0.24470624, -1.0263059, 3.6228871,...</td>\n",
       "      <td>[-9.089966, -12.901368, -15.339406, -10.585323...</td>\n",
       "      <td>[-9.621838, -6.8267345, -4.4633904, -3.513043,...</td>\n",
       "      <td>[-6.904684, -6.3937654, -4.0830145, -0.6454271...</td>\n",
       "      <td>[-2.2965891, -8.502451, -8.448065, -3.9730012,...</td>\n",
       "      <td>[11.558136, 10.830755, 6.7897396, 8.929026, 13...</td>\n",
       "      <td>[5.913314, 5.5654097, 1.5172951, 0.10546613, 2...</td>\n",
       "      <td>[-6.5406847, -3.1975913, -1.6860085, -6.242577...</td>\n",
       "    </tr>\n",
       "  </tbody>\n",
       "</table>\n",
       "</div>"
      ],
      "text/plain": [
       "         id                genre  \\\n",
       "0  124423_0  Old-Time / Historic   \n",
       "1  124423_1  Old-Time / Historic   \n",
       "2  124423_2  Old-Time / Historic   \n",
       "\n",
       "                                       mfccFeature_0  \\\n",
       "0  [-328.7624, -206.09636, -150.4038, -144.09038,...   \n",
       "1  [-236.76901, -203.01874, -200.4282, -208.92003...   \n",
       "2  [-390.48816, -339.31622, -317.2405, -326.96646...   \n",
       "\n",
       "                                       mfccFeature_1  \\\n",
       "0  [132.91347, 150.61551, 144.43718, 140.92017, 1...   \n",
       "1  [164.211, 159.14294, 136.04929, 136.82301, 156...   \n",
       "2  [97.122345, 115.60747, 127.4955, 128.93234, 14...   \n",
       "\n",
       "                                       mfccFeature_2  \\\n",
       "0  [-90.37503, -126.661026, -140.2472, -138.8731,...   \n",
       "1  [-85.3822, -117.465, -142.91583, -143.71155, -...   \n",
       "2  [-84.24397, -109.15258, -110.69359, -99.36203,...   \n",
       "\n",
       "                                       mfccFeature_3  \\\n",
       "0  [-63.457577, -50.04628, -51.89651, -52.70818, ...   \n",
       "1  [-32.252678, -37.033913, -54.37635, -57.882896...   \n",
       "2  [-40.43964, -44.553093, -47.186836, -41.452816...   \n",
       "\n",
       "                                       mfccFeature_4  \\\n",
       "0  [-38.716564, -46.91884, -50.58444, -47.508934,...   \n",
       "1  [-7.4214034, -20.556595, -37.773483, -39.49316...   \n",
       "2  [0.28208655, -1.2433429, -6.5626597, -0.983691...   \n",
       "\n",
       "                                       mfccFeature_5  \\\n",
       "0  [-56.29294, -62.14529, -53.36077, -51.67916, -...   \n",
       "1  [-31.144537, -44.259975, -59.811573, -61.17159...   \n",
       "2  [-36.504112, -43.72944, -42.5904, -35.0524, -4...   \n",
       "\n",
       "                                       mfccFeature_6  \\\n",
       "0  [-17.247395, -34.123608, -40.161243, -42.32673...   \n",
       "1  [-14.987923, -23.720203, -43.693214, -45.93542...   \n",
       "2  [-22.552574, -24.396482, -21.35398, -15.982605...   \n",
       "\n",
       "                                       mfccFeature_7  \\\n",
       "0  [-3.6903424, -5.2592907, -1.0339475, -0.248538...   \n",
       "1  [4.4418592, 3.9385574, -10.675606, -14.657623,...   \n",
       "2  [1.2889054, 0.24470624, -1.0263059, 3.6228871,...   \n",
       "\n",
       "                                       mfccFeature_8  \\\n",
       "0  [-16.171959, -23.949322, -23.311352, -21.07062...   \n",
       "1  [-12.005516, -25.275543, -41.375755, -39.71647...   \n",
       "2  [-9.089966, -12.901368, -15.339406, -10.585323...   \n",
       "\n",
       "                                       mfccFeature_9  \\\n",
       "0  [-1.7130346, -6.9061756, -2.5145044, 4.5913672...   \n",
       "1  [-5.6790867, 1.2063706, -4.721801, -8.164688, ...   \n",
       "2  [-9.621838, -6.8267345, -4.4633904, -3.513043,...   \n",
       "\n",
       "                                      mfccFeature_10  \\\n",
       "0  [-17.067202, -17.211754, -16.577923, -9.204768...   \n",
       "1  [-6.2902756, -3.91095, -4.4361215, -4.327603, ...   \n",
       "2  [-6.904684, -6.3937654, -4.0830145, -0.6454271...   \n",
       "\n",
       "                                      mfccFeature_11  \\\n",
       "0  [-27.971401, -30.455574, -20.908623, -16.16786...   \n",
       "1  [-5.6098385, -7.864852, -7.2575703, -2.4607427...   \n",
       "2  [-2.2965891, -8.502451, -8.448065, -3.9730012,...   \n",
       "\n",
       "                                      mfccFeature_12  \\\n",
       "0  [8.152201, 8.3445635, 1.8432193, -5.7282104, -...   \n",
       "1  [7.336014, 14.364861, 14.558414, 20.445679, 16...   \n",
       "2  [11.558136, 10.830755, 6.7897396, 8.929026, 13...   \n",
       "\n",
       "                                      mfccFeature_13  \\\n",
       "0  [10.642556, 9.837347, 18.859747, 17.205154, 8....   \n",
       "1  [2.09269, -0.17045055, -0.978363, 0.28908974, ...   \n",
       "2  [5.913314, 5.5654097, 1.5172951, 0.10546613, 2...   \n",
       "\n",
       "                                      mfccFeature_14  \n",
       "0  [-4.3580694, -3.3247807, 6.962681, 11.387974, ...  \n",
       "1  [-4.1928773, -3.4265738, -3.9279053, -5.465062...  \n",
       "2  [-6.5406847, -3.1975913, -1.6860085, -6.242577...  "
      ]
     },
     "execution_count": 5,
     "metadata": {},
     "output_type": "execute_result"
    }
   ],
   "source": [
    "audioFeatures.head(3)"
   ]
  },
  {
   "cell_type": "code",
   "execution_count": 6,
   "id": "4d422a4a",
   "metadata": {
    "slideshow": {
     "slide_type": "subslide"
    }
   },
   "outputs": [
    {
     "name": "stdout",
     "output_type": "stream",
     "text": [
      "<class 'str'>\n",
      "2940\n",
      "250\n"
     ]
    }
   ],
   "source": [
    "print(type(audioFeatures['mfccFeature_0'].iloc[0]))\n",
    "print(len(audioFeatures['mfccFeature_0'].iloc[0]))\n",
    "print(len(audioFeatures['mfccFeature_0'].iloc[0].split(',')))"
   ]
  },
  {
   "cell_type": "markdown",
   "id": "94e907b6",
   "metadata": {
    "slideshow": {
     "slide_type": "slide"
    }
   },
   "source": [
    "Since a song was divided into multiple parts ,we also duplicate the theme features for the same number of times."
   ]
  },
  {
   "cell_type": "code",
   "execution_count": 7,
   "id": "f9ff1abd",
   "metadata": {
    "slideshow": {
     "slide_type": "subslide"
    }
   },
   "outputs": [],
   "source": [
    "\n",
    "extendedLyricFeatures = pd.DataFrame()\n",
    "\n",
    "for index, row in lyricFeatures.iterrows():\n",
    "    for i in range(0,5):\n",
    "        df = pd.DataFrame()\n",
    "        newId = str(row['id'])+'_'+str(i)\n",
    "        df['id'] = [newId]\n",
    "        df['themeFeature_0'] = row['theme_token_1_vec']\n",
    "        df['themeFeature_1'] = row['theme_token_2_vec']\n",
    "        df['themeFeature_2'] = row['theme_token_3_vec']\n",
    "        df['themeFeature_3'] = row['theme_token_4_vec']\n",
    "        df['themeFeature_4'] = row['theme_token_5_vec']\n",
    "        extendedLyricFeatures = pd.concat([extendedLyricFeatures,df])\n",
    "    \n",
    "        \n",
    "        \n",
    "    "
   ]
  },
  {
   "cell_type": "code",
   "execution_count": 8,
   "id": "33d96216",
   "metadata": {
    "slideshow": {
     "slide_type": "subslide"
    }
   },
   "outputs": [
    {
     "data": {
      "text/html": [
       "<div>\n",
       "<style scoped>\n",
       "    .dataframe tbody tr th:only-of-type {\n",
       "        vertical-align: middle;\n",
       "    }\n",
       "\n",
       "    .dataframe tbody tr th {\n",
       "        vertical-align: top;\n",
       "    }\n",
       "\n",
       "    .dataframe thead th {\n",
       "        text-align: right;\n",
       "    }\n",
       "</style>\n",
       "<table border=\"1\" class=\"dataframe\">\n",
       "  <thead>\n",
       "    <tr style=\"text-align: right;\">\n",
       "      <th></th>\n",
       "      <th>id</th>\n",
       "      <th>themeFeature_0</th>\n",
       "      <th>themeFeature_1</th>\n",
       "      <th>themeFeature_2</th>\n",
       "      <th>themeFeature_3</th>\n",
       "      <th>themeFeature_4</th>\n",
       "    </tr>\n",
       "  </thead>\n",
       "  <tbody>\n",
       "    <tr>\n",
       "      <th>0</th>\n",
       "      <td>127936_0</td>\n",
       "      <td>[-0.39857802 -0.7149435   0.19870338 -2.165562...</td>\n",
       "      <td>[ 0.54379386 -0.78404784  2.5348065  -1.979363...</td>\n",
       "      <td>[-1.9840902   0.6029517  -1.0292802   0.835790...</td>\n",
       "      <td>[-2.85954309e+00  1.30950487e+00 -2.08809757e+...</td>\n",
       "      <td>[-2.55218768e+00  8.12104702e-01  9.09771979e-...</td>\n",
       "    </tr>\n",
       "    <tr>\n",
       "      <th>0</th>\n",
       "      <td>127936_1</td>\n",
       "      <td>[-0.39857802 -0.7149435   0.19870338 -2.165562...</td>\n",
       "      <td>[ 0.54379386 -0.78404784  2.5348065  -1.979363...</td>\n",
       "      <td>[-1.9840902   0.6029517  -1.0292802   0.835790...</td>\n",
       "      <td>[-2.85954309e+00  1.30950487e+00 -2.08809757e+...</td>\n",
       "      <td>[-2.55218768e+00  8.12104702e-01  9.09771979e-...</td>\n",
       "    </tr>\n",
       "    <tr>\n",
       "      <th>0</th>\n",
       "      <td>127936_2</td>\n",
       "      <td>[-0.39857802 -0.7149435   0.19870338 -2.165562...</td>\n",
       "      <td>[ 0.54379386 -0.78404784  2.5348065  -1.979363...</td>\n",
       "      <td>[-1.9840902   0.6029517  -1.0292802   0.835790...</td>\n",
       "      <td>[-2.85954309e+00  1.30950487e+00 -2.08809757e+...</td>\n",
       "      <td>[-2.55218768e+00  8.12104702e-01  9.09771979e-...</td>\n",
       "    </tr>\n",
       "    <tr>\n",
       "      <th>0</th>\n",
       "      <td>127936_3</td>\n",
       "      <td>[-0.39857802 -0.7149435   0.19870338 -2.165562...</td>\n",
       "      <td>[ 0.54379386 -0.78404784  2.5348065  -1.979363...</td>\n",
       "      <td>[-1.9840902   0.6029517  -1.0292802   0.835790...</td>\n",
       "      <td>[-2.85954309e+00  1.30950487e+00 -2.08809757e+...</td>\n",
       "      <td>[-2.55218768e+00  8.12104702e-01  9.09771979e-...</td>\n",
       "    </tr>\n",
       "    <tr>\n",
       "      <th>0</th>\n",
       "      <td>127936_4</td>\n",
       "      <td>[-0.39857802 -0.7149435   0.19870338 -2.165562...</td>\n",
       "      <td>[ 0.54379386 -0.78404784  2.5348065  -1.979363...</td>\n",
       "      <td>[-1.9840902   0.6029517  -1.0292802   0.835790...</td>\n",
       "      <td>[-2.85954309e+00  1.30950487e+00 -2.08809757e+...</td>\n",
       "      <td>[-2.55218768e+00  8.12104702e-01  9.09771979e-...</td>\n",
       "    </tr>\n",
       "    <tr>\n",
       "      <th>...</th>\n",
       "      <td>...</td>\n",
       "      <td>...</td>\n",
       "      <td>...</td>\n",
       "      <td>...</td>\n",
       "      <td>...</td>\n",
       "      <td>...</td>\n",
       "    </tr>\n",
       "    <tr>\n",
       "      <th>0</th>\n",
       "      <td>147735_0</td>\n",
       "      <td>[-1.90860951e+00  1.57677662e+00 -3.88008380e+...</td>\n",
       "      <td>[-0.93748844 -0.25881132 -1.1592864  -2.300666...</td>\n",
       "      <td>[-1.9301409  -1.756477    3.294717   -0.267101...</td>\n",
       "      <td>[-1.9625174   0.54614407  1.1446604  -2.486829...</td>\n",
       "      <td>[-2.4221561e+00 -2.4010549e-01  3.0238932e-01 ...</td>\n",
       "    </tr>\n",
       "    <tr>\n",
       "      <th>0</th>\n",
       "      <td>147735_1</td>\n",
       "      <td>[-1.90860951e+00  1.57677662e+00 -3.88008380e+...</td>\n",
       "      <td>[-0.93748844 -0.25881132 -1.1592864  -2.300666...</td>\n",
       "      <td>[-1.9301409  -1.756477    3.294717   -0.267101...</td>\n",
       "      <td>[-1.9625174   0.54614407  1.1446604  -2.486829...</td>\n",
       "      <td>[-2.4221561e+00 -2.4010549e-01  3.0238932e-01 ...</td>\n",
       "    </tr>\n",
       "    <tr>\n",
       "      <th>0</th>\n",
       "      <td>147735_2</td>\n",
       "      <td>[-1.90860951e+00  1.57677662e+00 -3.88008380e+...</td>\n",
       "      <td>[-0.93748844 -0.25881132 -1.1592864  -2.300666...</td>\n",
       "      <td>[-1.9301409  -1.756477    3.294717   -0.267101...</td>\n",
       "      <td>[-1.9625174   0.54614407  1.1446604  -2.486829...</td>\n",
       "      <td>[-2.4221561e+00 -2.4010549e-01  3.0238932e-01 ...</td>\n",
       "    </tr>\n",
       "    <tr>\n",
       "      <th>0</th>\n",
       "      <td>147735_3</td>\n",
       "      <td>[-1.90860951e+00  1.57677662e+00 -3.88008380e+...</td>\n",
       "      <td>[-0.93748844 -0.25881132 -1.1592864  -2.300666...</td>\n",
       "      <td>[-1.9301409  -1.756477    3.294717   -0.267101...</td>\n",
       "      <td>[-1.9625174   0.54614407  1.1446604  -2.486829...</td>\n",
       "      <td>[-2.4221561e+00 -2.4010549e-01  3.0238932e-01 ...</td>\n",
       "    </tr>\n",
       "    <tr>\n",
       "      <th>0</th>\n",
       "      <td>147735_4</td>\n",
       "      <td>[-1.90860951e+00  1.57677662e+00 -3.88008380e+...</td>\n",
       "      <td>[-0.93748844 -0.25881132 -1.1592864  -2.300666...</td>\n",
       "      <td>[-1.9301409  -1.756477    3.294717   -0.267101...</td>\n",
       "      <td>[-1.9625174   0.54614407  1.1446604  -2.486829...</td>\n",
       "      <td>[-2.4221561e+00 -2.4010549e-01  3.0238932e-01 ...</td>\n",
       "    </tr>\n",
       "  </tbody>\n",
       "</table>\n",
       "<p>35700 rows × 6 columns</p>\n",
       "</div>"
      ],
      "text/plain": [
       "          id                                     themeFeature_0  \\\n",
       "0   127936_0  [-0.39857802 -0.7149435   0.19870338 -2.165562...   \n",
       "0   127936_1  [-0.39857802 -0.7149435   0.19870338 -2.165562...   \n",
       "0   127936_2  [-0.39857802 -0.7149435   0.19870338 -2.165562...   \n",
       "0   127936_3  [-0.39857802 -0.7149435   0.19870338 -2.165562...   \n",
       "0   127936_4  [-0.39857802 -0.7149435   0.19870338 -2.165562...   \n",
       "..       ...                                                ...   \n",
       "0   147735_0  [-1.90860951e+00  1.57677662e+00 -3.88008380e+...   \n",
       "0   147735_1  [-1.90860951e+00  1.57677662e+00 -3.88008380e+...   \n",
       "0   147735_2  [-1.90860951e+00  1.57677662e+00 -3.88008380e+...   \n",
       "0   147735_3  [-1.90860951e+00  1.57677662e+00 -3.88008380e+...   \n",
       "0   147735_4  [-1.90860951e+00  1.57677662e+00 -3.88008380e+...   \n",
       "\n",
       "                                       themeFeature_1  \\\n",
       "0   [ 0.54379386 -0.78404784  2.5348065  -1.979363...   \n",
       "0   [ 0.54379386 -0.78404784  2.5348065  -1.979363...   \n",
       "0   [ 0.54379386 -0.78404784  2.5348065  -1.979363...   \n",
       "0   [ 0.54379386 -0.78404784  2.5348065  -1.979363...   \n",
       "0   [ 0.54379386 -0.78404784  2.5348065  -1.979363...   \n",
       "..                                                ...   \n",
       "0   [-0.93748844 -0.25881132 -1.1592864  -2.300666...   \n",
       "0   [-0.93748844 -0.25881132 -1.1592864  -2.300666...   \n",
       "0   [-0.93748844 -0.25881132 -1.1592864  -2.300666...   \n",
       "0   [-0.93748844 -0.25881132 -1.1592864  -2.300666...   \n",
       "0   [-0.93748844 -0.25881132 -1.1592864  -2.300666...   \n",
       "\n",
       "                                       themeFeature_2  \\\n",
       "0   [-1.9840902   0.6029517  -1.0292802   0.835790...   \n",
       "0   [-1.9840902   0.6029517  -1.0292802   0.835790...   \n",
       "0   [-1.9840902   0.6029517  -1.0292802   0.835790...   \n",
       "0   [-1.9840902   0.6029517  -1.0292802   0.835790...   \n",
       "0   [-1.9840902   0.6029517  -1.0292802   0.835790...   \n",
       "..                                                ...   \n",
       "0   [-1.9301409  -1.756477    3.294717   -0.267101...   \n",
       "0   [-1.9301409  -1.756477    3.294717   -0.267101...   \n",
       "0   [-1.9301409  -1.756477    3.294717   -0.267101...   \n",
       "0   [-1.9301409  -1.756477    3.294717   -0.267101...   \n",
       "0   [-1.9301409  -1.756477    3.294717   -0.267101...   \n",
       "\n",
       "                                       themeFeature_3  \\\n",
       "0   [-2.85954309e+00  1.30950487e+00 -2.08809757e+...   \n",
       "0   [-2.85954309e+00  1.30950487e+00 -2.08809757e+...   \n",
       "0   [-2.85954309e+00  1.30950487e+00 -2.08809757e+...   \n",
       "0   [-2.85954309e+00  1.30950487e+00 -2.08809757e+...   \n",
       "0   [-2.85954309e+00  1.30950487e+00 -2.08809757e+...   \n",
       "..                                                ...   \n",
       "0   [-1.9625174   0.54614407  1.1446604  -2.486829...   \n",
       "0   [-1.9625174   0.54614407  1.1446604  -2.486829...   \n",
       "0   [-1.9625174   0.54614407  1.1446604  -2.486829...   \n",
       "0   [-1.9625174   0.54614407  1.1446604  -2.486829...   \n",
       "0   [-1.9625174   0.54614407  1.1446604  -2.486829...   \n",
       "\n",
       "                                       themeFeature_4  \n",
       "0   [-2.55218768e+00  8.12104702e-01  9.09771979e-...  \n",
       "0   [-2.55218768e+00  8.12104702e-01  9.09771979e-...  \n",
       "0   [-2.55218768e+00  8.12104702e-01  9.09771979e-...  \n",
       "0   [-2.55218768e+00  8.12104702e-01  9.09771979e-...  \n",
       "0   [-2.55218768e+00  8.12104702e-01  9.09771979e-...  \n",
       "..                                                ...  \n",
       "0   [-2.4221561e+00 -2.4010549e-01  3.0238932e-01 ...  \n",
       "0   [-2.4221561e+00 -2.4010549e-01  3.0238932e-01 ...  \n",
       "0   [-2.4221561e+00 -2.4010549e-01  3.0238932e-01 ...  \n",
       "0   [-2.4221561e+00 -2.4010549e-01  3.0238932e-01 ...  \n",
       "0   [-2.4221561e+00 -2.4010549e-01  3.0238932e-01 ...  \n",
       "\n",
       "[35700 rows x 6 columns]"
      ]
     },
     "execution_count": 8,
     "metadata": {},
     "output_type": "execute_result"
    }
   ],
   "source": [
    "extendedLyricFeatures"
   ]
  },
  {
   "cell_type": "markdown",
   "id": "39e11b04",
   "metadata": {
    "slideshow": {
     "slide_type": "slide"
    }
   },
   "source": [
    "We finally merge both the datasets and check the value counts"
   ]
  },
  {
   "cell_type": "code",
   "execution_count": 9,
   "id": "0033e3ef",
   "metadata": {
    "slideshow": {
     "slide_type": "subslide"
    }
   },
   "outputs": [],
   "source": [
    "musicFeatures = pd.merge(audioFeatures, extendedLyricFeatures)"
   ]
  },
  {
   "cell_type": "code",
   "execution_count": 10,
   "id": "36943725",
   "metadata": {
    "slideshow": {
     "slide_type": "subslide"
    }
   },
   "outputs": [
    {
     "data": {
      "text/plain": [
       "(35665, 22)"
      ]
     },
     "execution_count": 10,
     "metadata": {},
     "output_type": "execute_result"
    }
   ],
   "source": [
    "musicFeatures.shape"
   ]
  },
  {
   "cell_type": "code",
   "execution_count": 11,
   "id": "4775c838",
   "metadata": {
    "slideshow": {
     "slide_type": "subslide"
    }
   },
   "outputs": [
    {
     "data": {
      "text/plain": [
       "Rock            9550\n",
       "Electronic      7980\n",
       "Hip-Hop         4130\n",
       "Experimental    4035\n",
       "Folk            4030\n",
       "Pop             3035\n",
       "Instrumental    2905\n",
       "Name: genre, dtype: int64"
      ]
     },
     "execution_count": 11,
     "metadata": {},
     "output_type": "execute_result"
    }
   ],
   "source": [
    "musicFeatures['genre'].value_counts()"
   ]
  },
  {
   "cell_type": "markdown",
   "id": "d56b0a0a",
   "metadata": {
    "slideshow": {
     "slide_type": "slide"
    }
   },
   "source": [
    "Since the classes are imbalanced, o we cut both Rock and Electronic by half."
   ]
  },
  {
   "cell_type": "code",
   "execution_count": 12,
   "id": "bd85ebd0",
   "metadata": {
    "slideshow": {
     "slide_type": "subslide"
    }
   },
   "outputs": [],
   "source": [
    "rock_indexes = musicFeatures[musicFeatures['genre'] == 'Rock'].sample(frac=0.5).index\n",
    "musicFeatures = musicFeatures.drop(rock_indexes)\n",
    "\n",
    "elec_indexes = musicFeatures[musicFeatures['genre'] == 'Electronic'].sample(frac=0.5).index\n",
    "musicFeatures = musicFeatures.drop(elec_indexes)\n"
   ]
  },
  {
   "cell_type": "code",
   "execution_count": 13,
   "id": "659ef599",
   "metadata": {
    "slideshow": {
     "slide_type": "subslide"
    }
   },
   "outputs": [
    {
     "data": {
      "text/plain": [
       "Rock            4775\n",
       "Hip-Hop         4130\n",
       "Experimental    4035\n",
       "Folk            4030\n",
       "Electronic      3990\n",
       "Pop             3035\n",
       "Instrumental    2905\n",
       "Name: genre, dtype: int64"
      ]
     },
     "execution_count": 13,
     "metadata": {},
     "output_type": "execute_result"
    }
   ],
   "source": [
    "musicFeatures['genre'].value_counts()"
   ]
  },
  {
   "cell_type": "markdown",
   "id": "0a248e31",
   "metadata": {
    "slideshow": {
     "slide_type": "slide"
    }
   },
   "source": [
    "Since we technically have a 3 dimensional csv file, we wanted to flatten it so we convert both types of features into same format where rows represents the number of songs, each column represent the feaures and the array inside represents the actual values of the features. We suse the follwing representations to do the same."
   ]
  },
  {
   "cell_type": "code",
   "execution_count": 14,
   "id": "6da753d0",
   "metadata": {
    "slideshow": {
     "slide_type": "subslide"
    }
   },
   "outputs": [],
   "source": [
    "def convertRepresentationSimple(x):\n",
    "    return np.array(literal_eval(x))\n",
    "\n",
    "def convertRepresentationNewline(x):\n",
    "    x = ','.join(x.replace('[ ', '[').split())\n",
    "    return np.array(literal_eval(x))\n",
    "\n"
   ]
  },
  {
   "cell_type": "code",
   "execution_count": 15,
   "id": "d7ac1ee1",
   "metadata": {
    "slideshow": {
     "slide_type": "subslide"
    }
   },
   "outputs": [
    {
     "name": "stderr",
     "output_type": "stream",
     "text": [
      "100%|██████████████████████████████████████████████████████████████████████████████████| 15/15 [03:57<00:00, 15.84s/it]\n",
      "100%|████████████████████████████████████████████████████████████████████████████████████| 5/5 [01:21<00:00, 16.36s/it]\n"
     ]
    }
   ],
   "source": [
    "\n",
    "cols = ['mfccFeature_0', 'mfccFeature_1', 'mfccFeature_2',\n",
    "       'mfccFeature_3', 'mfccFeature_4', 'mfccFeature_5', 'mfccFeature_6',\n",
    "       'mfccFeature_7', 'mfccFeature_8', 'mfccFeature_9', 'mfccFeature_10',\n",
    "       'mfccFeature_11', 'mfccFeature_12', 'mfccFeature_13', 'mfccFeature_14',]\n",
    "\n",
    "for i in tqdm(cols):\n",
    "    musicFeatures[i] = musicFeatures[i].apply(convertRepresentationSimple)\n",
    "    \n",
    "cols2 =  ['themeFeature_0', 'themeFeature_1', 'themeFeature_2', 'themeFeature_3',\n",
    "       'themeFeature_4']\n",
    "\n",
    "for i in tqdm(cols2):\n",
    "    musicFeatures[i] = musicFeatures[i].apply(convertRepresentationNewline)\n",
    "\n",
    "\n",
    "\n",
    "\n"
   ]
  },
  {
   "cell_type": "code",
   "execution_count": 16,
   "id": "16aa8d89",
   "metadata": {
    "slideshow": {
     "slide_type": "subslide"
    }
   },
   "outputs": [
    {
     "data": {
      "text/plain": [
       "(26900, 22)"
      ]
     },
     "execution_count": 16,
     "metadata": {},
     "output_type": "execute_result"
    }
   ],
   "source": [
    "musicFeatures.shape"
   ]
  },
  {
   "cell_type": "markdown",
   "id": "84d51cee",
   "metadata": {
    "slideshow": {
     "slide_type": "slide"
    }
   },
   "source": [
    "Final verification of the dataset."
   ]
  },
  {
   "cell_type": "code",
   "execution_count": 17,
   "id": "aef842eb",
   "metadata": {
    "slideshow": {
     "slide_type": "subslide"
    }
   },
   "outputs": [
    {
     "name": "stdout",
     "output_type": "stream",
     "text": [
      "(26900, 22)\n",
      "MFCC Features \n",
      "\n",
      "<class 'numpy.ndarray'>\n",
      "250\n",
      "<class 'numpy.float64'>\n",
      "Theme Features \n",
      "\n",
      "<class 'numpy.ndarray'>\n",
      "250\n",
      "<class 'numpy.float64'>\n"
     ]
    }
   ],
   "source": [
    "\"\"\"\n",
    "Verifying all shapres and types of data\n",
    "\"\"\"\n",
    "print(musicFeatures.shape)\n",
    "print('MFCC Features \\n')\n",
    "print(type(musicFeatures['mfccFeature_0'].iloc[0]))\n",
    "print(len(musicFeatures['mfccFeature_0'].iloc[0]))\n",
    "print(type(musicFeatures['mfccFeature_0'].iloc[0][0]))\n",
    "\n",
    "print('Theme Features \\n')\n",
    "print(type(musicFeatures['themeFeature_0'].iloc[0]))\n",
    "print(musicFeatures['themeFeature_0'].iloc[0].size)\n",
    "print(type(musicFeatures['themeFeature_0'].iloc[0][0]))\n",
    "\n"
   ]
  },
  {
   "cell_type": "code",
   "execution_count": 18,
   "id": "a5dca191",
   "metadata": {
    "slideshow": {
     "slide_type": "subslide"
    }
   },
   "outputs": [],
   "source": [
    "#Saving as pickle so that we dont lose numpy arrays\n",
    "musicFeatures.to_pickle(\"./finalDataset/musicFeatures.pkl\") \n"
   ]
  },
  {
   "cell_type": "code",
   "execution_count": 19,
   "id": "0bcb668e",
   "metadata": {
    "slideshow": {
     "slide_type": "subslide"
    }
   },
   "outputs": [],
   "source": [
    "#Saving as csv file causes arrays to be represented as string, when reading use a converter\n",
    "#https://stackoverflow.com/questions/42755214/how-to-keep-numpy-array-when-saving-pandas-dataframe-to-csv\n",
    "musicFeatures.to_csv(\"./finalDataset/musicFeatures.csv\") "
   ]
  },
  {
   "cell_type": "code",
   "execution_count": 20,
   "id": "56a848ec",
   "metadata": {
    "slideshow": {
     "slide_type": "subslide"
    }
   },
   "outputs": [],
   "source": [
    "#Saving as Json for good measure too\n",
    "musicFeatures.to_json(\"./finalDataset/musicFeatures.json\")\n",
    "\n"
   ]
  },
  {
   "cell_type": "markdown",
   "id": "37f3d670",
   "metadata": {
    "slideshow": {
     "slide_type": "slide"
    }
   },
   "source": [
    "The dataset is ready for model creation"
   ]
  }
 ],
 "metadata": {
  "celltoolbar": "Slideshow",
  "kernelspec": {
   "display_name": "Python 3 (ipykernel)",
   "language": "python",
   "name": "python3"
  },
  "language_info": {
   "codemirror_mode": {
    "name": "ipython",
    "version": 3
   },
   "file_extension": ".py",
   "mimetype": "text/x-python",
   "name": "python",
   "nbconvert_exporter": "python",
   "pygments_lexer": "ipython3",
   "version": "3.9.7"
  }
 },
 "nbformat": 4,
 "nbformat_minor": 5
}
