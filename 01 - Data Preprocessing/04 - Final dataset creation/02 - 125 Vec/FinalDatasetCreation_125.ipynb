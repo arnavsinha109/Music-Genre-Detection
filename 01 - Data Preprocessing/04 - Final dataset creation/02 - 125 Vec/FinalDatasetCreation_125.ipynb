{
 "cells": [
  {
   "cell_type": "markdown",
   "id": "be9687da",
   "metadata": {
    "slideshow": {
     "slide_type": "slide"
    }
   },
   "source": [
    "# Final Dataset Creation\n"
   ]
  },
  {
   "cell_type": "code",
   "execution_count": 1,
   "id": "8ab96b6a",
   "metadata": {
    "slideshow": {
     "slide_type": "subslide"
    }
   },
   "outputs": [],
   "source": [
    "import pandas as pd\n",
    "from tqdm import tqdm\n",
    "from ast import literal_eval\n",
    "import numpy as np\n",
    "import random\n",
    "\n",
    "random.seed(10)"
   ]
  },
  {
   "cell_type": "markdown",
   "id": "4228f453",
   "metadata": {
    "slideshow": {
     "slide_type": "slide"
    }
   },
   "source": [
    "The main aim of this notebook is to create the final dataset by merging both audio and lyric i.e. theme features. It does the same as FinalDatasetCreation_250 except for 125 dataset."
   ]
  },
  {
   "cell_type": "code",
   "execution_count": 2,
   "id": "30ae817d",
   "metadata": {
    "slideshow": {
     "slide_type": "subslide"
    }
   },
   "outputs": [],
   "source": [
    "audioFeatures = pd.read_csv('./tracksAudioFeatures_150/tracksAudioFeatures_125_complete.csv')\n",
    "lyricFeatures = pd.read_csv('tracksLyricFeatures/tracksLyricThemeVectorized_125Vec.csv')\n",
    "\n"
   ]
  },
  {
   "cell_type": "code",
   "execution_count": 3,
   "id": "03f45a24",
   "metadata": {
    "slideshow": {
     "slide_type": "subslide"
    }
   },
   "outputs": [],
   "source": [
    "\n",
    "#Droping extra columns before merging\n",
    "audioFeatures = audioFeatures.drop(['Unnamed: 0'], axis=1)\n",
    "lyricFeatures = lyricFeatures.drop(['Unnamed: 0','track', 'trackArtist', 'genre', 'lyrics', 'top_lang_identified',\n",
    "       'top_lang_identified_prob', 'regex_cleaned_lyrics', 'tokenized_lyrics',\n",
    "       'tokenized_lyrics_no_stop', 'tokenized_lyrics_top5_tokens',\n",
    "       'theme_token_1', 'theme_token_2', 'theme_token_3', 'theme_token_4',\n",
    "       'theme_token_5'], axis=1)\n"
   ]
  },
  {
   "cell_type": "code",
   "execution_count": 4,
   "id": "77be723a",
   "metadata": {
    "slideshow": {
     "slide_type": "subslide"
    }
   },
   "outputs": [
    {
     "data": {
      "text/html": [
       "<div>\n",
       "<style scoped>\n",
       "    .dataframe tbody tr th:only-of-type {\n",
       "        vertical-align: middle;\n",
       "    }\n",
       "\n",
       "    .dataframe tbody tr th {\n",
       "        vertical-align: top;\n",
       "    }\n",
       "\n",
       "    .dataframe thead th {\n",
       "        text-align: right;\n",
       "    }\n",
       "</style>\n",
       "<table border=\"1\" class=\"dataframe\">\n",
       "  <thead>\n",
       "    <tr style=\"text-align: right;\">\n",
       "      <th></th>\n",
       "      <th>id</th>\n",
       "      <th>theme_token_1_vec</th>\n",
       "      <th>theme_token_2_vec</th>\n",
       "      <th>theme_token_3_vec</th>\n",
       "      <th>theme_token_4_vec</th>\n",
       "      <th>theme_token_5_vec</th>\n",
       "    </tr>\n",
       "  </thead>\n",
       "  <tbody>\n",
       "    <tr>\n",
       "      <th>0</th>\n",
       "      <td>127936</td>\n",
       "      <td>[-1.9652761   0.6445018  -1.3887805  -3.086761...</td>\n",
       "      <td>[ 1.431664   -0.90123594 -1.5634767   2.179275...</td>\n",
       "      <td>[-0.9079328  -1.2025403  -3.5834422  -0.750469...</td>\n",
       "      <td>[ 1.3762712e+00 -1.2900664e+00 -3.1465986e+00 ...</td>\n",
       "      <td>[-0.5465541   0.11607788 -1.4494865  -2.403560...</td>\n",
       "    </tr>\n",
       "    <tr>\n",
       "      <th>1</th>\n",
       "      <td>52632</td>\n",
       "      <td>[-3.7311599e-02  2.3608482e-01 -4.1602921e+00 ...</td>\n",
       "      <td>[ 0.03288311 -0.5082019  -2.5584843   0.039277...</td>\n",
       "      <td>[-0.13665225  0.16770391 -0.48163328  0.222416...</td>\n",
       "      <td>[-1.0488834   1.0731027  -0.81171095  1.195935...</td>\n",
       "      <td>[-2.025503    1.1437821  -2.389753    0.513834...</td>\n",
       "    </tr>\n",
       "    <tr>\n",
       "      <th>2</th>\n",
       "      <td>99309</td>\n",
       "      <td>[ 1.37683094e+00  7.85528064e-01 -2.41658235e+...</td>\n",
       "      <td>[-1.2518735  -2.083192    0.32885888  3.501243...</td>\n",
       "      <td>[ 0.49967077 -0.26580024 -0.03597727 -1.835053...</td>\n",
       "      <td>[ 2.9424874e-03  2.2275622e+00 -1.6039305e+00 ...</td>\n",
       "      <td>[-0.11735259  0.96165526 -0.3212363   0.744405...</td>\n",
       "    </tr>\n",
       "  </tbody>\n",
       "</table>\n",
       "</div>"
      ],
      "text/plain": [
       "       id                                  theme_token_1_vec  \\\n",
       "0  127936  [-1.9652761   0.6445018  -1.3887805  -3.086761...   \n",
       "1   52632  [-3.7311599e-02  2.3608482e-01 -4.1602921e+00 ...   \n",
       "2   99309  [ 1.37683094e+00  7.85528064e-01 -2.41658235e+...   \n",
       "\n",
       "                                   theme_token_2_vec  \\\n",
       "0  [ 1.431664   -0.90123594 -1.5634767   2.179275...   \n",
       "1  [ 0.03288311 -0.5082019  -2.5584843   0.039277...   \n",
       "2  [-1.2518735  -2.083192    0.32885888  3.501243...   \n",
       "\n",
       "                                   theme_token_3_vec  \\\n",
       "0  [-0.9079328  -1.2025403  -3.5834422  -0.750469...   \n",
       "1  [-0.13665225  0.16770391 -0.48163328  0.222416...   \n",
       "2  [ 0.49967077 -0.26580024 -0.03597727 -1.835053...   \n",
       "\n",
       "                                   theme_token_4_vec  \\\n",
       "0  [ 1.3762712e+00 -1.2900664e+00 -3.1465986e+00 ...   \n",
       "1  [-1.0488834   1.0731027  -0.81171095  1.195935...   \n",
       "2  [ 2.9424874e-03  2.2275622e+00 -1.6039305e+00 ...   \n",
       "\n",
       "                                   theme_token_5_vec  \n",
       "0  [-0.5465541   0.11607788 -1.4494865  -2.403560...  \n",
       "1  [-2.025503    1.1437821  -2.389753    0.513834...  \n",
       "2  [-0.11735259  0.96165526 -0.3212363   0.744405...  "
      ]
     },
     "execution_count": 4,
     "metadata": {},
     "output_type": "execute_result"
    }
   ],
   "source": [
    "lyricFeatures.head(3)\n"
   ]
  },
  {
   "cell_type": "code",
   "execution_count": 5,
   "id": "3326152e",
   "metadata": {
    "scrolled": true,
    "slideshow": {
     "slide_type": "subslide"
    }
   },
   "outputs": [
    {
     "data": {
      "text/html": [
       "<div>\n",
       "<style scoped>\n",
       "    .dataframe tbody tr th:only-of-type {\n",
       "        vertical-align: middle;\n",
       "    }\n",
       "\n",
       "    .dataframe tbody tr th {\n",
       "        vertical-align: top;\n",
       "    }\n",
       "\n",
       "    .dataframe thead th {\n",
       "        text-align: right;\n",
       "    }\n",
       "</style>\n",
       "<table border=\"1\" class=\"dataframe\">\n",
       "  <thead>\n",
       "    <tr style=\"text-align: right;\">\n",
       "      <th></th>\n",
       "      <th>id</th>\n",
       "      <th>genre</th>\n",
       "      <th>mfccFeature_0</th>\n",
       "      <th>mfccFeature_1</th>\n",
       "      <th>mfccFeature_2</th>\n",
       "      <th>mfccFeature_3</th>\n",
       "      <th>mfccFeature_4</th>\n",
       "      <th>mfccFeature_5</th>\n",
       "      <th>mfccFeature_6</th>\n",
       "      <th>mfccFeature_7</th>\n",
       "      <th>mfccFeature_8</th>\n",
       "      <th>mfccFeature_9</th>\n",
       "      <th>mfccFeature_10</th>\n",
       "      <th>mfccFeature_11</th>\n",
       "      <th>mfccFeature_12</th>\n",
       "      <th>mfccFeature_13</th>\n",
       "      <th>mfccFeature_14</th>\n",
       "    </tr>\n",
       "  </thead>\n",
       "  <tbody>\n",
       "    <tr>\n",
       "      <th>0</th>\n",
       "      <td>124423_0</td>\n",
       "      <td>Old-Time / Historic</td>\n",
       "      <td>[-331.76343, -206.83507, -150.79898, -144.4678...</td>\n",
       "      <td>[136.35646, 151.65372, 144.99507, 141.45316, 1...</td>\n",
       "      <td>[-92.903046, -127.679794, -140.80212, -139.403...</td>\n",
       "      <td>[-62.66017, -49.059425, -51.346558, -52.181923...</td>\n",
       "      <td>[-38.805756, -47.862038, -51.127518, -48.02935...</td>\n",
       "      <td>[-56.836433, -61.2565, -52.826473, -51.1662, -...</td>\n",
       "      <td>[-17.287859, -34.948433, -40.68494, -42.830673...</td>\n",
       "      <td>[-3.4888515, -4.506544, -0.52261865, 0.2448553...</td>\n",
       "      <td>[-16.90616, -24.62344, -23.808636, -21.55201, ...</td>\n",
       "      <td>[-1.4969412, -6.315495, -2.0328617, 5.059345, ...</td>\n",
       "      <td>[-17.040787, -17.715935, -17.042439, -9.658015...</td>\n",
       "      <td>[-28.81857, -30.039116, -20.462616, -15.730592...</td>\n",
       "      <td>[8.894039, 8.015279, 1.41698, -6.1483583, -11....</td>\n",
       "      <td>[9.8792515, 10.081762, 19.26508, 17.607117, 9....</td>\n",
       "      <td>[-4.434949, -3.4882398, 6.579256, 11.005165, 5...</td>\n",
       "    </tr>\n",
       "    <tr>\n",
       "      <th>1</th>\n",
       "      <td>124423_1</td>\n",
       "      <td>Old-Time / Historic</td>\n",
       "      <td>[-141.70447, -151.02011, -204.6398, -219.88483...</td>\n",
       "      <td>[70.76153, 69.304504, 54.755623, 62.831505, 70...</td>\n",
       "      <td>[-69.07377, -96.71388, -131.54568, -131.25073,...</td>\n",
       "      <td>[-2.5633497, -6.4746003, -19.870838, -15.17943...</td>\n",
       "      <td>[-10.86871, -12.382185, -22.568533, -15.358562...</td>\n",
       "      <td>[-53.357117, -58.777496, -64.76073, -66.34716,...</td>\n",
       "      <td>[-30.973467, -42.006577, -52.474915, -52.40824...</td>\n",
       "      <td>[14.31975, 16.98157, 23.953087, 23.335302, 18....</td>\n",
       "      <td>[-11.362137, -24.974201, -46.38675, -46.458347...</td>\n",
       "      <td>[-13.941832, -9.682327, -2.2792099, -0.9318579...</td>\n",
       "      <td>[11.06698, 18.50761, 18.23468, 19.086136, 18.4...</td>\n",
       "      <td>[0.7836997, -5.3090725, -9.245029, -15.167604,...</td>\n",
       "      <td>[-2.434061, 11.934198, 29.585491, 28.20034, 28...</td>\n",
       "      <td>[-0.4299671, 3.6665812, 6.398292, 3.2390728, -...</td>\n",
       "      <td>[2.2310064, -1.6334496, -8.868323, -8.320509, ...</td>\n",
       "    </tr>\n",
       "    <tr>\n",
       "      <th>2</th>\n",
       "      <td>124423_2</td>\n",
       "      <td>Old-Time / Historic</td>\n",
       "      <td>[-236.76901, -204.88608, -202.79424, -211.7985...</td>\n",
       "      <td>[164.211, 161.77617, 139.38297, 140.27386, 161...</td>\n",
       "      <td>[-85.3822, -120.07537, -146.21246, -147.70352,...</td>\n",
       "      <td>[-32.252678, -34.46131, -51.14087, -54.568718,...</td>\n",
       "      <td>[-7.4214034, -23.076878, -40.924683, -43.25477...</td>\n",
       "      <td>[-31.144537, -41.805965, -56.76655, -58.119328...</td>\n",
       "      <td>[-14.987923, -26.094719, -46.611755, -49.33288...</td>\n",
       "      <td>[4.4418592, 6.2212133, -7.901986, -11.970848, ...</td>\n",
       "      <td>[-12.005516, -27.454962, -43.98812, -42.64355,...</td>\n",
       "      <td>[-5.6790867, 3.272326, -2.2846823, -5.917389, ...</td>\n",
       "      <td>[-6.2902756, -5.854392, -6.686449, -6.7126894,...</td>\n",
       "      <td>[-5.6098385, -6.0516605, -5.2029867, -0.692430...</td>\n",
       "      <td>[7.336014, 12.688293, 12.705888, 18.635963, 14...</td>\n",
       "      <td>[2.09269, 1.3645461, 0.6684495, 1.5747235, 1.6...</td>\n",
       "      <td>[-4.1928773, -4.8164897, -5.367966, -6.704213,...</td>\n",
       "    </tr>\n",
       "  </tbody>\n",
       "</table>\n",
       "</div>"
      ],
      "text/plain": [
       "         id                genre  \\\n",
       "0  124423_0  Old-Time / Historic   \n",
       "1  124423_1  Old-Time / Historic   \n",
       "2  124423_2  Old-Time / Historic   \n",
       "\n",
       "                                       mfccFeature_0  \\\n",
       "0  [-331.76343, -206.83507, -150.79898, -144.4678...   \n",
       "1  [-141.70447, -151.02011, -204.6398, -219.88483...   \n",
       "2  [-236.76901, -204.88608, -202.79424, -211.7985...   \n",
       "\n",
       "                                       mfccFeature_1  \\\n",
       "0  [136.35646, 151.65372, 144.99507, 141.45316, 1...   \n",
       "1  [70.76153, 69.304504, 54.755623, 62.831505, 70...   \n",
       "2  [164.211, 161.77617, 139.38297, 140.27386, 161...   \n",
       "\n",
       "                                       mfccFeature_2  \\\n",
       "0  [-92.903046, -127.679794, -140.80212, -139.403...   \n",
       "1  [-69.07377, -96.71388, -131.54568, -131.25073,...   \n",
       "2  [-85.3822, -120.07537, -146.21246, -147.70352,...   \n",
       "\n",
       "                                       mfccFeature_3  \\\n",
       "0  [-62.66017, -49.059425, -51.346558, -52.181923...   \n",
       "1  [-2.5633497, -6.4746003, -19.870838, -15.17943...   \n",
       "2  [-32.252678, -34.46131, -51.14087, -54.568718,...   \n",
       "\n",
       "                                       mfccFeature_4  \\\n",
       "0  [-38.805756, -47.862038, -51.127518, -48.02935...   \n",
       "1  [-10.86871, -12.382185, -22.568533, -15.358562...   \n",
       "2  [-7.4214034, -23.076878, -40.924683, -43.25477...   \n",
       "\n",
       "                                       mfccFeature_5  \\\n",
       "0  [-56.836433, -61.2565, -52.826473, -51.1662, -...   \n",
       "1  [-53.357117, -58.777496, -64.76073, -66.34716,...   \n",
       "2  [-31.144537, -41.805965, -56.76655, -58.119328...   \n",
       "\n",
       "                                       mfccFeature_6  \\\n",
       "0  [-17.287859, -34.948433, -40.68494, -42.830673...   \n",
       "1  [-30.973467, -42.006577, -52.474915, -52.40824...   \n",
       "2  [-14.987923, -26.094719, -46.611755, -49.33288...   \n",
       "\n",
       "                                       mfccFeature_7  \\\n",
       "0  [-3.4888515, -4.506544, -0.52261865, 0.2448553...   \n",
       "1  [14.31975, 16.98157, 23.953087, 23.335302, 18....   \n",
       "2  [4.4418592, 6.2212133, -7.901986, -11.970848, ...   \n",
       "\n",
       "                                       mfccFeature_8  \\\n",
       "0  [-16.90616, -24.62344, -23.808636, -21.55201, ...   \n",
       "1  [-11.362137, -24.974201, -46.38675, -46.458347...   \n",
       "2  [-12.005516, -27.454962, -43.98812, -42.64355,...   \n",
       "\n",
       "                                       mfccFeature_9  \\\n",
       "0  [-1.4969412, -6.315495, -2.0328617, 5.059345, ...   \n",
       "1  [-13.941832, -9.682327, -2.2792099, -0.9318579...   \n",
       "2  [-5.6790867, 3.272326, -2.2846823, -5.917389, ...   \n",
       "\n",
       "                                      mfccFeature_10  \\\n",
       "0  [-17.040787, -17.715935, -17.042439, -9.658015...   \n",
       "1  [11.06698, 18.50761, 18.23468, 19.086136, 18.4...   \n",
       "2  [-6.2902756, -5.854392, -6.686449, -6.7126894,...   \n",
       "\n",
       "                                      mfccFeature_11  \\\n",
       "0  [-28.81857, -30.039116, -20.462616, -15.730592...   \n",
       "1  [0.7836997, -5.3090725, -9.245029, -15.167604,...   \n",
       "2  [-5.6098385, -6.0516605, -5.2029867, -0.692430...   \n",
       "\n",
       "                                      mfccFeature_12  \\\n",
       "0  [8.894039, 8.015279, 1.41698, -6.1483583, -11....   \n",
       "1  [-2.434061, 11.934198, 29.585491, 28.20034, 28...   \n",
       "2  [7.336014, 12.688293, 12.705888, 18.635963, 14...   \n",
       "\n",
       "                                      mfccFeature_13  \\\n",
       "0  [9.8792515, 10.081762, 19.26508, 17.607117, 9....   \n",
       "1  [-0.4299671, 3.6665812, 6.398292, 3.2390728, -...   \n",
       "2  [2.09269, 1.3645461, 0.6684495, 1.5747235, 1.6...   \n",
       "\n",
       "                                      mfccFeature_14  \n",
       "0  [-4.434949, -3.4882398, 6.579256, 11.005165, 5...  \n",
       "1  [2.2310064, -1.6334496, -8.868323, -8.320509, ...  \n",
       "2  [-4.1928773, -4.8164897, -5.367966, -6.704213,...  "
      ]
     },
     "execution_count": 5,
     "metadata": {},
     "output_type": "execute_result"
    }
   ],
   "source": [
    "audioFeatures.head(3)"
   ]
  },
  {
   "cell_type": "code",
   "execution_count": 6,
   "id": "4d422a4a",
   "metadata": {
    "slideshow": {
     "slide_type": "subslide"
    }
   },
   "outputs": [
    {
     "name": "stdout",
     "output_type": "stream",
     "text": [
      "<class 'str'>\n",
      "1466\n",
      "125\n"
     ]
    }
   ],
   "source": [
    "print(type(audioFeatures['mfccFeature_0'].iloc[0]))\n",
    "print(len(audioFeatures['mfccFeature_0'].iloc[0]))\n",
    "print(len(audioFeatures['mfccFeature_0'].iloc[0].split(',')))"
   ]
  },
  {
   "cell_type": "markdown",
   "id": "2b8a73ba",
   "metadata": {
    "slideshow": {
     "slide_type": "slide"
    }
   },
   "source": [
    "Since a song was divided into multiple parts ,we also duplicate the theme features for the same number of times."
   ]
  },
  {
   "cell_type": "code",
   "execution_count": 7,
   "id": "f9ff1abd",
   "metadata": {
    "slideshow": {
     "slide_type": "subslide"
    }
   },
   "outputs": [],
   "source": [
    "\"\"\"\n",
    "Extending Theme Features for every 3 seconds of song\n",
    "\"\"\"\n",
    "\n",
    "\n",
    "extendedLyricFeatures = pd.DataFrame()\n",
    "\n",
    "for index, row in lyricFeatures.iterrows():\n",
    "    for i in range(0,10):\n",
    "        df = pd.DataFrame()\n",
    "        newId = str(row['id'])+'_'+str(i)\n",
    "        df['id'] = [newId]\n",
    "        df['themeFeature_0'] = row['theme_token_1_vec']\n",
    "        df['themeFeature_1'] = row['theme_token_2_vec']\n",
    "        df['themeFeature_2'] = row['theme_token_3_vec']\n",
    "        df['themeFeature_3'] = row['theme_token_4_vec']\n",
    "        df['themeFeature_4'] = row['theme_token_5_vec']\n",
    "        extendedLyricFeatures = pd.concat([extendedLyricFeatures,df])\n",
    "    \n",
    "        \n",
    "        \n",
    "    "
   ]
  },
  {
   "cell_type": "code",
   "execution_count": 8,
   "id": "33d96216",
   "metadata": {
    "slideshow": {
     "slide_type": "subslide"
    }
   },
   "outputs": [
    {
     "data": {
      "text/html": [
       "<div>\n",
       "<style scoped>\n",
       "    .dataframe tbody tr th:only-of-type {\n",
       "        vertical-align: middle;\n",
       "    }\n",
       "\n",
       "    .dataframe tbody tr th {\n",
       "        vertical-align: top;\n",
       "    }\n",
       "\n",
       "    .dataframe thead th {\n",
       "        text-align: right;\n",
       "    }\n",
       "</style>\n",
       "<table border=\"1\" class=\"dataframe\">\n",
       "  <thead>\n",
       "    <tr style=\"text-align: right;\">\n",
       "      <th></th>\n",
       "      <th>id</th>\n",
       "      <th>themeFeature_0</th>\n",
       "      <th>themeFeature_1</th>\n",
       "      <th>themeFeature_2</th>\n",
       "      <th>themeFeature_3</th>\n",
       "      <th>themeFeature_4</th>\n",
       "    </tr>\n",
       "  </thead>\n",
       "  <tbody>\n",
       "    <tr>\n",
       "      <th>0</th>\n",
       "      <td>127936_0</td>\n",
       "      <td>[-1.9652761   0.6445018  -1.3887805  -3.086761...</td>\n",
       "      <td>[ 1.431664   -0.90123594 -1.5634767   2.179275...</td>\n",
       "      <td>[-0.9079328  -1.2025403  -3.5834422  -0.750469...</td>\n",
       "      <td>[ 1.3762712e+00 -1.2900664e+00 -3.1465986e+00 ...</td>\n",
       "      <td>[-0.5465541   0.11607788 -1.4494865  -2.403560...</td>\n",
       "    </tr>\n",
       "    <tr>\n",
       "      <th>0</th>\n",
       "      <td>127936_1</td>\n",
       "      <td>[-1.9652761   0.6445018  -1.3887805  -3.086761...</td>\n",
       "      <td>[ 1.431664   -0.90123594 -1.5634767   2.179275...</td>\n",
       "      <td>[-0.9079328  -1.2025403  -3.5834422  -0.750469...</td>\n",
       "      <td>[ 1.3762712e+00 -1.2900664e+00 -3.1465986e+00 ...</td>\n",
       "      <td>[-0.5465541   0.11607788 -1.4494865  -2.403560...</td>\n",
       "    </tr>\n",
       "    <tr>\n",
       "      <th>0</th>\n",
       "      <td>127936_2</td>\n",
       "      <td>[-1.9652761   0.6445018  -1.3887805  -3.086761...</td>\n",
       "      <td>[ 1.431664   -0.90123594 -1.5634767   2.179275...</td>\n",
       "      <td>[-0.9079328  -1.2025403  -3.5834422  -0.750469...</td>\n",
       "      <td>[ 1.3762712e+00 -1.2900664e+00 -3.1465986e+00 ...</td>\n",
       "      <td>[-0.5465541   0.11607788 -1.4494865  -2.403560...</td>\n",
       "    </tr>\n",
       "    <tr>\n",
       "      <th>0</th>\n",
       "      <td>127936_3</td>\n",
       "      <td>[-1.9652761   0.6445018  -1.3887805  -3.086761...</td>\n",
       "      <td>[ 1.431664   -0.90123594 -1.5634767   2.179275...</td>\n",
       "      <td>[-0.9079328  -1.2025403  -3.5834422  -0.750469...</td>\n",
       "      <td>[ 1.3762712e+00 -1.2900664e+00 -3.1465986e+00 ...</td>\n",
       "      <td>[-0.5465541   0.11607788 -1.4494865  -2.403560...</td>\n",
       "    </tr>\n",
       "    <tr>\n",
       "      <th>0</th>\n",
       "      <td>127936_4</td>\n",
       "      <td>[-1.9652761   0.6445018  -1.3887805  -3.086761...</td>\n",
       "      <td>[ 1.431664   -0.90123594 -1.5634767   2.179275...</td>\n",
       "      <td>[-0.9079328  -1.2025403  -3.5834422  -0.750469...</td>\n",
       "      <td>[ 1.3762712e+00 -1.2900664e+00 -3.1465986e+00 ...</td>\n",
       "      <td>[-0.5465541   0.11607788 -1.4494865  -2.403560...</td>\n",
       "    </tr>\n",
       "    <tr>\n",
       "      <th>...</th>\n",
       "      <td>...</td>\n",
       "      <td>...</td>\n",
       "      <td>...</td>\n",
       "      <td>...</td>\n",
       "      <td>...</td>\n",
       "      <td>...</td>\n",
       "    </tr>\n",
       "    <tr>\n",
       "      <th>0</th>\n",
       "      <td>147735_5</td>\n",
       "      <td>[-1.3950216  -1.3500218  -7.4516335  -1.664571...</td>\n",
       "      <td>[-1.6833522e+00  1.9595654e+00 -3.9829519e+00 ...</td>\n",
       "      <td>[-0.5903338   2.4623108  -2.5579858  -2.203737...</td>\n",
       "      <td>[ 0.3143868  -1.4637419  -4.0782475  -2.115962...</td>\n",
       "      <td>[ 1.64889932e+00  7.66233385e-01 -3.40357304e+...</td>\n",
       "    </tr>\n",
       "    <tr>\n",
       "      <th>0</th>\n",
       "      <td>147735_6</td>\n",
       "      <td>[-1.3950216  -1.3500218  -7.4516335  -1.664571...</td>\n",
       "      <td>[-1.6833522e+00  1.9595654e+00 -3.9829519e+00 ...</td>\n",
       "      <td>[-0.5903338   2.4623108  -2.5579858  -2.203737...</td>\n",
       "      <td>[ 0.3143868  -1.4637419  -4.0782475  -2.115962...</td>\n",
       "      <td>[ 1.64889932e+00  7.66233385e-01 -3.40357304e+...</td>\n",
       "    </tr>\n",
       "    <tr>\n",
       "      <th>0</th>\n",
       "      <td>147735_7</td>\n",
       "      <td>[-1.3950216  -1.3500218  -7.4516335  -1.664571...</td>\n",
       "      <td>[-1.6833522e+00  1.9595654e+00 -3.9829519e+00 ...</td>\n",
       "      <td>[-0.5903338   2.4623108  -2.5579858  -2.203737...</td>\n",
       "      <td>[ 0.3143868  -1.4637419  -4.0782475  -2.115962...</td>\n",
       "      <td>[ 1.64889932e+00  7.66233385e-01 -3.40357304e+...</td>\n",
       "    </tr>\n",
       "    <tr>\n",
       "      <th>0</th>\n",
       "      <td>147735_8</td>\n",
       "      <td>[-1.3950216  -1.3500218  -7.4516335  -1.664571...</td>\n",
       "      <td>[-1.6833522e+00  1.9595654e+00 -3.9829519e+00 ...</td>\n",
       "      <td>[-0.5903338   2.4623108  -2.5579858  -2.203737...</td>\n",
       "      <td>[ 0.3143868  -1.4637419  -4.0782475  -2.115962...</td>\n",
       "      <td>[ 1.64889932e+00  7.66233385e-01 -3.40357304e+...</td>\n",
       "    </tr>\n",
       "    <tr>\n",
       "      <th>0</th>\n",
       "      <td>147735_9</td>\n",
       "      <td>[-1.3950216  -1.3500218  -7.4516335  -1.664571...</td>\n",
       "      <td>[-1.6833522e+00  1.9595654e+00 -3.9829519e+00 ...</td>\n",
       "      <td>[-0.5903338   2.4623108  -2.5579858  -2.203737...</td>\n",
       "      <td>[ 0.3143868  -1.4637419  -4.0782475  -2.115962...</td>\n",
       "      <td>[ 1.64889932e+00  7.66233385e-01 -3.40357304e+...</td>\n",
       "    </tr>\n",
       "  </tbody>\n",
       "</table>\n",
       "<p>71400 rows × 6 columns</p>\n",
       "</div>"
      ],
      "text/plain": [
       "          id                                     themeFeature_0  \\\n",
       "0   127936_0  [-1.9652761   0.6445018  -1.3887805  -3.086761...   \n",
       "0   127936_1  [-1.9652761   0.6445018  -1.3887805  -3.086761...   \n",
       "0   127936_2  [-1.9652761   0.6445018  -1.3887805  -3.086761...   \n",
       "0   127936_3  [-1.9652761   0.6445018  -1.3887805  -3.086761...   \n",
       "0   127936_4  [-1.9652761   0.6445018  -1.3887805  -3.086761...   \n",
       "..       ...                                                ...   \n",
       "0   147735_5  [-1.3950216  -1.3500218  -7.4516335  -1.664571...   \n",
       "0   147735_6  [-1.3950216  -1.3500218  -7.4516335  -1.664571...   \n",
       "0   147735_7  [-1.3950216  -1.3500218  -7.4516335  -1.664571...   \n",
       "0   147735_8  [-1.3950216  -1.3500218  -7.4516335  -1.664571...   \n",
       "0   147735_9  [-1.3950216  -1.3500218  -7.4516335  -1.664571...   \n",
       "\n",
       "                                       themeFeature_1  \\\n",
       "0   [ 1.431664   -0.90123594 -1.5634767   2.179275...   \n",
       "0   [ 1.431664   -0.90123594 -1.5634767   2.179275...   \n",
       "0   [ 1.431664   -0.90123594 -1.5634767   2.179275...   \n",
       "0   [ 1.431664   -0.90123594 -1.5634767   2.179275...   \n",
       "0   [ 1.431664   -0.90123594 -1.5634767   2.179275...   \n",
       "..                                                ...   \n",
       "0   [-1.6833522e+00  1.9595654e+00 -3.9829519e+00 ...   \n",
       "0   [-1.6833522e+00  1.9595654e+00 -3.9829519e+00 ...   \n",
       "0   [-1.6833522e+00  1.9595654e+00 -3.9829519e+00 ...   \n",
       "0   [-1.6833522e+00  1.9595654e+00 -3.9829519e+00 ...   \n",
       "0   [-1.6833522e+00  1.9595654e+00 -3.9829519e+00 ...   \n",
       "\n",
       "                                       themeFeature_2  \\\n",
       "0   [-0.9079328  -1.2025403  -3.5834422  -0.750469...   \n",
       "0   [-0.9079328  -1.2025403  -3.5834422  -0.750469...   \n",
       "0   [-0.9079328  -1.2025403  -3.5834422  -0.750469...   \n",
       "0   [-0.9079328  -1.2025403  -3.5834422  -0.750469...   \n",
       "0   [-0.9079328  -1.2025403  -3.5834422  -0.750469...   \n",
       "..                                                ...   \n",
       "0   [-0.5903338   2.4623108  -2.5579858  -2.203737...   \n",
       "0   [-0.5903338   2.4623108  -2.5579858  -2.203737...   \n",
       "0   [-0.5903338   2.4623108  -2.5579858  -2.203737...   \n",
       "0   [-0.5903338   2.4623108  -2.5579858  -2.203737...   \n",
       "0   [-0.5903338   2.4623108  -2.5579858  -2.203737...   \n",
       "\n",
       "                                       themeFeature_3  \\\n",
       "0   [ 1.3762712e+00 -1.2900664e+00 -3.1465986e+00 ...   \n",
       "0   [ 1.3762712e+00 -1.2900664e+00 -3.1465986e+00 ...   \n",
       "0   [ 1.3762712e+00 -1.2900664e+00 -3.1465986e+00 ...   \n",
       "0   [ 1.3762712e+00 -1.2900664e+00 -3.1465986e+00 ...   \n",
       "0   [ 1.3762712e+00 -1.2900664e+00 -3.1465986e+00 ...   \n",
       "..                                                ...   \n",
       "0   [ 0.3143868  -1.4637419  -4.0782475  -2.115962...   \n",
       "0   [ 0.3143868  -1.4637419  -4.0782475  -2.115962...   \n",
       "0   [ 0.3143868  -1.4637419  -4.0782475  -2.115962...   \n",
       "0   [ 0.3143868  -1.4637419  -4.0782475  -2.115962...   \n",
       "0   [ 0.3143868  -1.4637419  -4.0782475  -2.115962...   \n",
       "\n",
       "                                       themeFeature_4  \n",
       "0   [-0.5465541   0.11607788 -1.4494865  -2.403560...  \n",
       "0   [-0.5465541   0.11607788 -1.4494865  -2.403560...  \n",
       "0   [-0.5465541   0.11607788 -1.4494865  -2.403560...  \n",
       "0   [-0.5465541   0.11607788 -1.4494865  -2.403560...  \n",
       "0   [-0.5465541   0.11607788 -1.4494865  -2.403560...  \n",
       "..                                                ...  \n",
       "0   [ 1.64889932e+00  7.66233385e-01 -3.40357304e+...  \n",
       "0   [ 1.64889932e+00  7.66233385e-01 -3.40357304e+...  \n",
       "0   [ 1.64889932e+00  7.66233385e-01 -3.40357304e+...  \n",
       "0   [ 1.64889932e+00  7.66233385e-01 -3.40357304e+...  \n",
       "0   [ 1.64889932e+00  7.66233385e-01 -3.40357304e+...  \n",
       "\n",
       "[71400 rows x 6 columns]"
      ]
     },
     "execution_count": 8,
     "metadata": {},
     "output_type": "execute_result"
    }
   ],
   "source": [
    "extendedLyricFeatures"
   ]
  },
  {
   "cell_type": "markdown",
   "id": "1fe34230",
   "metadata": {
    "slideshow": {
     "slide_type": "slide"
    }
   },
   "source": [
    "We finally merge both the datasets and check the value counts"
   ]
  },
  {
   "cell_type": "code",
   "execution_count": 9,
   "id": "0033e3ef",
   "metadata": {
    "slideshow": {
     "slide_type": "subslide"
    }
   },
   "outputs": [],
   "source": [
    "musicFeatures = pd.merge(audioFeatures, extendedLyricFeatures)"
   ]
  },
  {
   "cell_type": "code",
   "execution_count": 10,
   "id": "36943725",
   "metadata": {
    "slideshow": {
     "slide_type": "subslide"
    }
   },
   "outputs": [
    {
     "data": {
      "text/plain": [
       "(71330, 22)"
      ]
     },
     "execution_count": 10,
     "metadata": {},
     "output_type": "execute_result"
    }
   ],
   "source": [
    "musicFeatures.shape"
   ]
  },
  {
   "cell_type": "code",
   "execution_count": 11,
   "id": "4775c838",
   "metadata": {
    "slideshow": {
     "slide_type": "subslide"
    }
   },
   "outputs": [
    {
     "data": {
      "text/plain": [
       "Rock            19100\n",
       "Electronic      15960\n",
       "Hip-Hop          8260\n",
       "Experimental     8070\n",
       "Folk             8060\n",
       "Pop              6070\n",
       "Instrumental     5810\n",
       "Name: genre, dtype: int64"
      ]
     },
     "execution_count": 11,
     "metadata": {},
     "output_type": "execute_result"
    }
   ],
   "source": [
    "musicFeatures['genre'].value_counts()"
   ]
  },
  {
   "cell_type": "markdown",
   "id": "2d0097ab",
   "metadata": {
    "slideshow": {
     "slide_type": "slide"
    }
   },
   "source": [
    "Since the classes are imbalanced, we cut both Rock and Electronic by half. We see a double in number of songs, since we split the songs more times."
   ]
  },
  {
   "cell_type": "code",
   "execution_count": 12,
   "id": "bd85ebd0",
   "metadata": {
    "slideshow": {
     "slide_type": "subslide"
    }
   },
   "outputs": [],
   "source": [
    "Since the classes are imbalanced, o we cut both Rock and Electronic by half.\n",
    "rock_indexes = musicFeatures[musicFeatures['genre'] == 'Rock'].sample(frac=0.5).index\n",
    "musicFeatures = musicFeatures.drop(rock_indexes)\n",
    "\n",
    "elec_indexes = musicFeatures[musicFeatures['genre'] == 'Electronic'].sample(frac=0.5).index\n",
    "musicFeatures = musicFeatures.drop(elec_indexes)\n"
   ]
  },
  {
   "cell_type": "code",
   "execution_count": 13,
   "id": "659ef599",
   "metadata": {
    "slideshow": {
     "slide_type": "subslide"
    }
   },
   "outputs": [
    {
     "data": {
      "text/plain": [
       "Rock            9550\n",
       "Hip-Hop         8260\n",
       "Experimental    8070\n",
       "Folk            8060\n",
       "Electronic      7980\n",
       "Pop             6070\n",
       "Instrumental    5810\n",
       "Name: genre, dtype: int64"
      ]
     },
     "execution_count": 13,
     "metadata": {},
     "output_type": "execute_result"
    }
   ],
   "source": [
    "musicFeatures['genre'].value_counts()"
   ]
  },
  {
   "cell_type": "code",
   "execution_count": 14,
   "id": "6da753d0",
   "metadata": {
    "slideshow": {
     "slide_type": "subslide"
    }
   },
   "outputs": [],
   "source": [
    "def convertRepresentationSimple(x):\n",
    "    return np.array(literal_eval(x))\n",
    "\n",
    "def convertRepresentationNewline(x):\n",
    "    x = ','.join(x.replace('[ ', '[').split())\n",
    "    return np.array(literal_eval(x))\n",
    "\n"
   ]
  },
  {
   "cell_type": "code",
   "execution_count": 15,
   "id": "d7ac1ee1",
   "metadata": {
    "slideshow": {
     "slide_type": "subslide"
    }
   },
   "outputs": [
    {
     "name": "stderr",
     "output_type": "stream",
     "text": [
      "100%|██████████████████████████████████████████████████████████████████████████████████| 15/15 [04:00<00:00, 16.05s/it]\n",
      "100%|████████████████████████████████████████████████████████████████████████████████████| 5/5 [01:35<00:00, 19.13s/it]\n"
     ]
    }
   ],
   "source": [
    "\n",
    "\n",
    "cols = ['mfccFeature_0', 'mfccFeature_1', 'mfccFeature_2',\n",
    "       'mfccFeature_3', 'mfccFeature_4', 'mfccFeature_5', 'mfccFeature_6',\n",
    "       'mfccFeature_7', 'mfccFeature_8', 'mfccFeature_9', 'mfccFeature_10',\n",
    "       'mfccFeature_11', 'mfccFeature_12', 'mfccFeature_13', 'mfccFeature_14',]\n",
    "\n",
    "for i in tqdm(cols):\n",
    "    musicFeatures[i] = musicFeatures[i].apply(convertRepresentationSimple)\n",
    "    \n",
    "cols2 =  ['themeFeature_0', 'themeFeature_1', 'themeFeature_2', 'themeFeature_3',\n",
    "       'themeFeature_4']\n",
    "\n",
    "for i in tqdm(cols2):\n",
    "    musicFeatures[i] = musicFeatures[i].apply(convertRepresentationNewline)\n",
    "\n",
    "\n",
    "\n",
    "\n"
   ]
  },
  {
   "cell_type": "code",
   "execution_count": 16,
   "id": "16aa8d89",
   "metadata": {
    "slideshow": {
     "slide_type": "subslide"
    }
   },
   "outputs": [
    {
     "data": {
      "text/plain": [
       "(53800, 22)"
      ]
     },
     "execution_count": 16,
     "metadata": {},
     "output_type": "execute_result"
    }
   ],
   "source": [
    "musicFeatures.shape"
   ]
  },
  {
   "cell_type": "markdown",
   "id": "2fb62b7f",
   "metadata": {
    "slideshow": {
     "slide_type": "slide"
    }
   },
   "source": [
    "Final verification of the dataset."
   ]
  },
  {
   "cell_type": "code",
   "execution_count": 17,
   "id": "aef842eb",
   "metadata": {
    "slideshow": {
     "slide_type": "subslide"
    }
   },
   "outputs": [
    {
     "name": "stdout",
     "output_type": "stream",
     "text": [
      "(53800, 22)\n",
      "MFCC Features \n",
      "\n",
      "<class 'numpy.ndarray'>\n",
      "125\n",
      "<class 'numpy.float64'>\n",
      "Theme Features \n",
      "\n",
      "<class 'numpy.ndarray'>\n",
      "125\n",
      "<class 'numpy.float64'>\n"
     ]
    }
   ],
   "source": [
    "Final verification of the dataset.\"\"\"\n",
    "Verifying all shapres and types of data\n",
    "\"\"\"\n",
    "print(musicFeatures.shape)\n",
    "print('MFCC Features \\n')\n",
    "print(type(musicFeatures['mfccFeature_0'].iloc[0]))\n",
    "print(len(musicFeatures['mfccFeature_0'].iloc[0]))\n",
    "print(type(musicFeatures['mfccFeature_0'].iloc[0][0]))\n",
    "\n",
    "print('Theme Features \\n')\n",
    "print(type(musicFeatures['themeFeature_0'].iloc[0]))\n",
    "print(musicFeatures['themeFeature_0'].iloc[0].size)\n",
    "print(type(musicFeatures['themeFeature_0'].iloc[0][0]))\n",
    "\n"
   ]
  },
  {
   "cell_type": "code",
   "execution_count": 18,
   "id": "a5dca191",
   "metadata": {
    "slideshow": {
     "slide_type": "subslide"
    }
   },
   "outputs": [],
   "source": [
    "#Saving as pickle so that we dont lose numpy arrays\n",
    "musicFeatures.to_pickle(\"./finalDataset/musicFeatures_125.pkl\") \n"
   ]
  },
  {
   "cell_type": "code",
   "execution_count": 19,
   "id": "0bcb668e",
   "metadata": {
    "slideshow": {
     "slide_type": "subslide"
    }
   },
   "outputs": [],
   "source": [
    "#Saving as csv file causes arrays to be represented as string, when reading use a converter\n",
    "#https://stackoverflow.com/questions/42755214/how-to-keep-numpy-array-when-saving-pandas-dataframe-to-csv\n",
    "musicFeatures.to_csv(\"./finalDataset/musicFeatures_125.csv\") "
   ]
  },
  {
   "cell_type": "code",
   "execution_count": 20,
   "id": "56a848ec",
   "metadata": {
    "slideshow": {
     "slide_type": "subslide"
    }
   },
   "outputs": [],
   "source": [
    "#Saving as Json for good measure too\n",
    "musicFeatures.to_json(\"./finalDataset/musicFeatures_125.json\")\n",
    "\n"
   ]
  },
  {
   "cell_type": "markdown",
   "id": "b77ded39",
   "metadata": {
    "slideshow": {
     "slide_type": "slide"
    }
   },
   "source": [
    "The dataset is ready for model creation"
   ]
  }
 ],
 "metadata": {
  "celltoolbar": "Slideshow",
  "kernelspec": {
   "display_name": "Python 3 (ipykernel)",
   "language": "python",
   "name": "python3"
  },
  "language_info": {
   "codemirror_mode": {
    "name": "ipython",
    "version": 3
   },
   "file_extension": ".py",
   "mimetype": "text/x-python",
   "name": "python",
   "nbconvert_exporter": "python",
   "pygments_lexer": "ipython3",
   "version": "3.9.7"
  }
 },
 "nbformat": 4,
 "nbformat_minor": 5
}
