{
 "cells": [
  {
   "cell_type": "markdown",
   "metadata": {
    "slideshow": {
     "slide_type": "slide"
    }
   },
   "source": [
    "### In this notebook we will be using the tokensized and class balanced data generated in the Basic cleaning notebook to train a Word2Vec model. The Word2Vec model will be a CBOW - Continuous Bag of Words model "
   ]
  },
  {
   "cell_type": "code",
   "execution_count": 1,
   "metadata": {
    "slideshow": {
     "slide_type": "subslide"
    }
   },
   "outputs": [],
   "source": [
    "import gensim\n",
    "import pandas as pd\n",
    "from ast import literal_eval\n"
   ]
  },
  {
   "cell_type": "markdown",
   "metadata": {
    "slideshow": {
     "slide_type": "slide"
    }
   },
   "source": [
    "Upload data with tokenized lyrics for dictionary creation"
   ]
  },
  {
   "cell_type": "code",
   "execution_count": 2,
   "metadata": {
    "slideshow": {
     "slide_type": "subslide"
    }
   },
   "outputs": [
    {
     "data": {
      "text/html": [
       "<div>\n",
       "<style scoped>\n",
       "    .dataframe tbody tr th:only-of-type {\n",
       "        vertical-align: middle;\n",
       "    }\n",
       "\n",
       "    .dataframe tbody tr th {\n",
       "        vertical-align: top;\n",
       "    }\n",
       "\n",
       "    .dataframe thead th {\n",
       "        text-align: right;\n",
       "    }\n",
       "</style>\n",
       "<table border=\"1\" class=\"dataframe\">\n",
       "  <thead>\n",
       "    <tr style=\"text-align: right;\">\n",
       "      <th></th>\n",
       "      <th>id</th>\n",
       "      <th>track</th>\n",
       "      <th>trackArtist</th>\n",
       "      <th>genre</th>\n",
       "      <th>lyrics</th>\n",
       "      <th>top_lang_identified</th>\n",
       "      <th>top_lang_identified_prob</th>\n",
       "      <th>regex_cleaned_lyrics</th>\n",
       "      <th>tokenized_lyrics</th>\n",
       "    </tr>\n",
       "  </thead>\n",
       "  <tbody>\n",
       "    <tr>\n",
       "      <th>0</th>\n",
       "      <td>127936</td>\n",
       "      <td>Armageddon</td>\n",
       "      <td>Synapsis</td>\n",
       "      <td>Electronic</td>\n",
       "      <td>Elektro Lyrics[Verse One]\\nRight from the intr...</td>\n",
       "      <td>__label__en</td>\n",
       "      <td>0.910224</td>\n",
       "      <td>\\nRight from the intro\\nThe God opens your ear...</td>\n",
       "      <td>['right', 'from', 'the', 'intro', 'the', 'god'...</td>\n",
       "    </tr>\n",
       "    <tr>\n",
       "      <th>1</th>\n",
       "      <td>52632</td>\n",
       "      <td>Boom</td>\n",
       "      <td>Jason Shaw</td>\n",
       "      <td>Electronic</td>\n",
       "      <td>Cali Shit Lyrics[Verse 1: J-Easie]\\nStay true ...</td>\n",
       "      <td>__label__en</td>\n",
       "      <td>0.927561</td>\n",
       "      <td>\\nStay true to my sound I'm just the same\\nI s...</td>\n",
       "      <td>['stay', 'true', 'to', 'my', 'sound', 'just', ...</td>\n",
       "    </tr>\n",
       "    <tr>\n",
       "      <th>2</th>\n",
       "      <td>99309</td>\n",
       "      <td>Trapped in a Single Celled Organism</td>\n",
       "      <td>Ample Mammal</td>\n",
       "      <td>Electronic</td>\n",
       "      <td>Liquid Meets Land Lyrics[Andrew Bagadounts, Il...</td>\n",
       "      <td>__label__en</td>\n",
       "      <td>0.904999</td>\n",
       "      <td>\\nFluid, raging flood\\nWrote my name in blood ...</td>\n",
       "      <td>['fluid', 'raging', 'flood', 'wrote', 'my', 'n...</td>\n",
       "    </tr>\n",
       "    <tr>\n",
       "      <th>3</th>\n",
       "      <td>97992</td>\n",
       "      <td>Through Your Chest</td>\n",
       "      <td>Ant The Symbol</td>\n",
       "      <td>Electronic</td>\n",
       "      <td>Dungeons and Dragons Lyrics[Verse 1: Slug]\\nKi...</td>\n",
       "      <td>__label__en</td>\n",
       "      <td>0.929616</td>\n",
       "      <td>\\nKinetic responses were heard frequent in the...</td>\n",
       "      <td>['kinetic', 'responses', 'were', 'heard', 'fre...</td>\n",
       "    </tr>\n",
       "    <tr>\n",
       "      <th>4</th>\n",
       "      <td>112381</td>\n",
       "      <td>Blank Letter to God</td>\n",
       "      <td>statusq</td>\n",
       "      <td>Electronic</td>\n",
       "      <td>Automatic Systematic Lyrics()\\nAutomatic syste...</td>\n",
       "      <td>__label__en</td>\n",
       "      <td>0.854843</td>\n",
       "      <td>\\nAutomatic systematic\\nI used to know the liv...</td>\n",
       "      <td>['automatic', 'systematic', 'used', 'to', 'kno...</td>\n",
       "    </tr>\n",
       "  </tbody>\n",
       "</table>\n",
       "</div>"
      ],
      "text/plain": [
       "       id                                track     trackArtist       genre  \\\n",
       "0  127936                           Armageddon        Synapsis  Electronic   \n",
       "1   52632                                 Boom      Jason Shaw  Electronic   \n",
       "2   99309  Trapped in a Single Celled Organism    Ample Mammal  Electronic   \n",
       "3   97992                   Through Your Chest  Ant The Symbol  Electronic   \n",
       "4  112381                  Blank Letter to God         statusq  Electronic   \n",
       "\n",
       "                                              lyrics top_lang_identified  \\\n",
       "0  Elektro Lyrics[Verse One]\\nRight from the intr...         __label__en   \n",
       "1  Cali Shit Lyrics[Verse 1: J-Easie]\\nStay true ...         __label__en   \n",
       "2  Liquid Meets Land Lyrics[Andrew Bagadounts, Il...         __label__en   \n",
       "3  Dungeons and Dragons Lyrics[Verse 1: Slug]\\nKi...         __label__en   \n",
       "4  Automatic Systematic Lyrics()\\nAutomatic syste...         __label__en   \n",
       "\n",
       "   top_lang_identified_prob  \\\n",
       "0                  0.910224   \n",
       "1                  0.927561   \n",
       "2                  0.904999   \n",
       "3                  0.929616   \n",
       "4                  0.854843   \n",
       "\n",
       "                                regex_cleaned_lyrics  \\\n",
       "0  \\nRight from the intro\\nThe God opens your ear...   \n",
       "1  \\nStay true to my sound I'm just the same\\nI s...   \n",
       "2  \\nFluid, raging flood\\nWrote my name in blood ...   \n",
       "3  \\nKinetic responses were heard frequent in the...   \n",
       "4  \\nAutomatic systematic\\nI used to know the liv...   \n",
       "\n",
       "                                    tokenized_lyrics  \n",
       "0  ['right', 'from', 'the', 'intro', 'the', 'god'...  \n",
       "1  ['stay', 'true', 'to', 'my', 'sound', 'just', ...  \n",
       "2  ['fluid', 'raging', 'flood', 'wrote', 'my', 'n...  \n",
       "3  ['kinetic', 'responses', 'were', 'heard', 'fre...  \n",
       "4  ['automatic', 'systematic', 'used', 'to', 'kno...  "
      ]
     },
     "execution_count": 2,
     "metadata": {},
     "output_type": "execute_result"
    }
   ],
   "source": [
    "trackLyricsFeaturesTokenized = pd.read_csv('./tracksLyricFeatures/tracksLyricFeaturesTokenzised.csv')\n",
    "trackLyricsFeaturesTokenized.head()"
   ]
  },
  {
   "cell_type": "code",
   "execution_count": 3,
   "metadata": {
    "slideshow": {
     "slide_type": "subslide"
    }
   },
   "outputs": [
    {
     "data": {
      "text/plain": [
       "(7144, 9)"
      ]
     },
     "execution_count": 3,
     "metadata": {},
     "output_type": "execute_result"
    }
   ],
   "source": [
    "trackLyricsFeaturesTokenized.shape"
   ]
  },
  {
   "cell_type": "markdown",
   "metadata": {
    "slideshow": {
     "slide_type": "slide"
    }
   },
   "source": [
    "Datatypes like Python lists when saved as a csv lose their structure information when loaded again. \n",
    "We need to revert the tokenized column to list from string using **literal_eval** to continue building the Word2Vec model"
   ]
  },
  {
   "cell_type": "code",
   "execution_count": 4,
   "metadata": {
    "slideshow": {
     "slide_type": "subslide"
    }
   },
   "outputs": [
    {
     "data": {
      "text/plain": [
       "list"
      ]
     },
     "execution_count": 4,
     "metadata": {},
     "output_type": "execute_result"
    }
   ],
   "source": [
    "trackLyricsFeaturesTokenized['tokenized_lyrics'] = trackLyricsFeaturesTokenized['tokenized_lyrics'].apply(literal_eval)\n",
    "type(trackLyricsFeaturesTokenized.iloc[0,8])"
   ]
  },
  {
   "cell_type": "markdown",
   "metadata": {
    "slideshow": {
     "slide_type": "slide"
    }
   },
   "source": [
    "Let's start with the Word2Vec CBOW model building process"
   ]
  },
  {
   "cell_type": "markdown",
   "metadata": {
    "slideshow": {
     "slide_type": "slide"
    }
   },
   "source": [
    "The first model will be created with a vector size of 250 dimensions to be comparable with the 250 vector data created for the MFCC features of the FMA songs data"
   ]
  },
  {
   "cell_type": "code",
   "execution_count": 5,
   "metadata": {
    "slideshow": {
     "slide_type": "subslide"
    }
   },
   "outputs": [],
   "source": [
    "lyrics_dictionary_model = gensim.models.Word2Vec(\n",
    "    sentences=trackLyricsFeaturesTokenized[\"tokenized_lyrics\"],\n",
    "    window=5,\n",
    "    min_count=1,\n",
    "    workers=1,\n",
    "    vector_size=250,\n",
    "    sg=0,\n",
    "    epochs=5\n",
    ")"
   ]
  },
  {
   "cell_type": "code",
   "execution_count": 6,
   "metadata": {
    "slideshow": {
     "slide_type": "slide"
    }
   },
   "outputs": [],
   "source": [
    "lyrics_dictionary_model.wv.save_word2vec_format(\"./tracksLyricFeatures/Lyrics_Dictionary_Word2Vec.bin\", binary=True)"
   ]
  },
  {
   "cell_type": "markdown",
   "metadata": {
    "slideshow": {
     "slide_type": "subslide"
    }
   },
   "source": [
    "Save the 250 dimensions model"
   ]
  },
  {
   "cell_type": "code",
   "execution_count": 7,
   "metadata": {
    "slideshow": {
     "slide_type": "slide"
    }
   },
   "outputs": [],
   "source": [
    "lyrics_dictionary_model.save(\"./tracksLyricFeatures/Lyrics_Dictionary_Word2Vec.model\")\n"
   ]
  },
  {
   "cell_type": "markdown",
   "metadata": {
    "slideshow": {
     "slide_type": "slide"
    }
   },
   "source": [
    "Test the model to find most similar words for the word \"love\""
   ]
  },
  {
   "cell_type": "code",
   "execution_count": 9,
   "metadata": {
    "slideshow": {
     "slide_type": "subslide"
    }
   },
   "outputs": [
    {
     "data": {
      "text/plain": [
       "[('passion', 0.5150929689407349),\n",
       " ('hate', 0.4149256646633148),\n",
       " ('loved', 0.41420456767082214),\n",
       " ('affection', 0.4109235107898712),\n",
       " ('loving', 0.4073731005191803),\n",
       " ('envy', 0.39163070917129517),\n",
       " ('pity', 0.38703957200050354),\n",
       " ('happiness', 0.38439705967903137),\n",
       " ('hope', 0.3827247619628906),\n",
       " ('joy', 0.3818041682243347)]"
      ]
     },
     "execution_count": 9,
     "metadata": {},
     "output_type": "execute_result"
    }
   ],
   "source": [
    "lyrics_dictionary_model.wv.most_similar(\"love\")"
   ]
  },
  {
   "cell_type": "markdown",
   "metadata": {
    "slideshow": {
     "slide_type": "slide"
    }
   },
   "source": [
    "Create a second CBOW model with vector size of 125 for the comparable MFCC feature dataset being created"
   ]
  },
  {
   "cell_type": "code",
   "execution_count": 10,
   "metadata": {
    "slideshow": {
     "slide_type": "subslide"
    }
   },
   "outputs": [],
   "source": [
    "lyrics_dictionary_model_125 = gensim.models.Word2Vec(\n",
    "    sentences=trackLyricsFeaturesTokenized[\"tokenized_lyrics\"],\n",
    "    window=5,\n",
    "    min_count=1,\n",
    "    workers=1,\n",
    "    vector_size=125,\n",
    "    sg=0,\n",
    "    epochs=5\n",
    ")"
   ]
  },
  {
   "cell_type": "code",
   "execution_count": 11,
   "metadata": {
    "slideshow": {
     "slide_type": "subslide"
    }
   },
   "outputs": [],
   "source": [
    "lyrics_dictionary_model_125.save(\"./tracksLyricFeatures/Lyrics_Dictionary_Word2Vec_125.model\")"
   ]
  },
  {
   "cell_type": "markdown",
   "metadata": {
    "slideshow": {
     "slide_type": "slide"
    }
   },
   "source": [
    "Test the 125 vector model"
   ]
  },
  {
   "cell_type": "code",
   "execution_count": 12,
   "metadata": {
    "scrolled": true,
    "slideshow": {
     "slide_type": "subslide"
    }
   },
   "outputs": [
    {
     "data": {
      "text/plain": [
       "[('passion', 0.6218207478523254),\n",
       " ('hate', 0.5335445404052734),\n",
       " ('fear', 0.5171015858650208),\n",
       " ('uncomeliness', 0.5126555562019348),\n",
       " ('heart', 0.5076101422309875),\n",
       " ('loved', 0.5032976269721985),\n",
       " ('hope', 0.5010501146316528),\n",
       " ('affection', 0.4981165826320648),\n",
       " ('soul', 0.49656733870506287),\n",
       " ('life', 0.48137032985687256)]"
      ]
     },
     "execution_count": 12,
     "metadata": {},
     "output_type": "execute_result"
    }
   ],
   "source": [
    "lyrics_dictionary_model_125.wv.most_similar(\"love\")"
   ]
  },
  {
   "cell_type": "markdown",
   "metadata": {
    "slideshow": {
     "slide_type": "slide"
    }
   },
   "source": [
    "These Word2Vec models will now be used for getting the vector representation of the theme words determined in the next notebook"
   ]
  }
 ],
 "metadata": {
  "celltoolbar": "Slideshow",
  "kernelspec": {
   "display_name": "Python 3 (ipykernel)",
   "language": "python",
   "name": "python3"
  },
  "language_info": {
   "codemirror_mode": {
    "name": "ipython",
    "version": 3
   },
   "file_extension": ".py",
   "mimetype": "text/x-python",
   "name": "python",
   "nbconvert_exporter": "python",
   "pygments_lexer": "ipython3",
   "version": "3.9.7"
  },
  "vscode": {
   "interpreter": {
    "hash": "4699a25f376d65a513f5cdbbe338e0837a12cbc5eae8a3725f0e413f2e7c51eb"
   }
  }
 },
 "nbformat": 4,
 "nbformat_minor": 2
}
