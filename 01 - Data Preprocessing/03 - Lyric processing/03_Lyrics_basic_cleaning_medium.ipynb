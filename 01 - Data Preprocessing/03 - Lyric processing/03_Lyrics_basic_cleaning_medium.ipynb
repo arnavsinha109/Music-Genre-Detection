{
 "cells": [
  {
   "cell_type": "markdown",
   "metadata": {
    "slideshow": {
     "slide_type": "slide"
    }
   },
   "source": [
    "### In this notebook we will be cleaning the text in the generated lyrics which would then be used to get the word represention using a Word2Vec CBOW model"
   ]
  },
  {
   "cell_type": "code",
   "execution_count": 1,
   "metadata": {
    "slideshow": {
     "slide_type": "subslide"
    }
   },
   "outputs": [],
   "source": [
    "import pandas as pd\n",
    "import re\n",
    "import gensim"
   ]
  },
  {
   "cell_type": "markdown",
   "metadata": {
    "slideshow": {
     "slide_type": "slide"
    }
   },
   "source": [
    "Import data with the language information"
   ]
  },
  {
   "cell_type": "code",
   "execution_count": 2,
   "metadata": {
    "slideshow": {
     "slide_type": "subslide"
    }
   },
   "outputs": [
    {
     "data": {
      "text/html": [
       "<div>\n",
       "<style scoped>\n",
       "    .dataframe tbody tr th:only-of-type {\n",
       "        vertical-align: middle;\n",
       "    }\n",
       "\n",
       "    .dataframe tbody tr th {\n",
       "        vertical-align: top;\n",
       "    }\n",
       "\n",
       "    .dataframe thead th {\n",
       "        text-align: right;\n",
       "    }\n",
       "</style>\n",
       "<table border=\"1\" class=\"dataframe\">\n",
       "  <thead>\n",
       "    <tr style=\"text-align: right;\">\n",
       "      <th></th>\n",
       "      <th>id</th>\n",
       "      <th>track</th>\n",
       "      <th>trackArtist</th>\n",
       "      <th>genre</th>\n",
       "      <th>lyrics</th>\n",
       "      <th>top_lang_identified</th>\n",
       "      <th>top_lang_identified_prob</th>\n",
       "    </tr>\n",
       "  </thead>\n",
       "  <tbody>\n",
       "    <tr>\n",
       "      <th>0</th>\n",
       "      <td>2</td>\n",
       "      <td>Food</td>\n",
       "      <td>AWOL</td>\n",
       "      <td>Hip-Hop</td>\n",
       "      <td>The Waking Blind LyricsThe waking blind, embra...</td>\n",
       "      <td>__label__en</td>\n",
       "      <td>0.932648</td>\n",
       "    </tr>\n",
       "    <tr>\n",
       "      <th>1</th>\n",
       "      <td>3</td>\n",
       "      <td>Electric Ave</td>\n",
       "      <td>AWOL</td>\n",
       "      <td>Hip-Hop</td>\n",
       "      <td>Oversikt over norske artister Lyrics*&amp;aute&amp;rom...</td>\n",
       "      <td>__label__en</td>\n",
       "      <td>0.253449</td>\n",
       "    </tr>\n",
       "    <tr>\n",
       "      <th>2</th>\n",
       "      <td>5</td>\n",
       "      <td>This World</td>\n",
       "      <td>AWOL</td>\n",
       "      <td>Hip-Hop</td>\n",
       "      <td>E.T. Lyrics[Verse One: Mickey Factz]\\nSee, I s...</td>\n",
       "      <td>__label__en</td>\n",
       "      <td>0.949876</td>\n",
       "    </tr>\n",
       "    <tr>\n",
       "      <th>3</th>\n",
       "      <td>10</td>\n",
       "      <td>Freeway</td>\n",
       "      <td>Kurt Vile</td>\n",
       "      <td>Pop</td>\n",
       "      <td>Freeway LyricsI got a freeway in mind, let go ...</td>\n",
       "      <td>__label__en</td>\n",
       "      <td>0.960411</td>\n",
       "    </tr>\n",
       "    <tr>\n",
       "      <th>4</th>\n",
       "      <td>134</td>\n",
       "      <td>Street Music</td>\n",
       "      <td>AWOL</td>\n",
       "      <td>Hip-Hop</td>\n",
       "      <td>Goin’ Down Lyrics[Intro: DJ Drama, Fabolous &amp; ...</td>\n",
       "      <td>__label__en</td>\n",
       "      <td>0.948774</td>\n",
       "    </tr>\n",
       "  </tbody>\n",
       "</table>\n",
       "</div>"
      ],
      "text/plain": [
       "    id         track trackArtist    genre  \\\n",
       "0    2          Food        AWOL  Hip-Hop   \n",
       "1    3  Electric Ave        AWOL  Hip-Hop   \n",
       "2    5    This World        AWOL  Hip-Hop   \n",
       "3   10       Freeway   Kurt Vile      Pop   \n",
       "4  134  Street Music        AWOL  Hip-Hop   \n",
       "\n",
       "                                              lyrics top_lang_identified  \\\n",
       "0  The Waking Blind LyricsThe waking blind, embra...         __label__en   \n",
       "1  Oversikt over norske artister Lyrics*&aute&rom...         __label__en   \n",
       "2  E.T. Lyrics[Verse One: Mickey Factz]\\nSee, I s...         __label__en   \n",
       "3  Freeway LyricsI got a freeway in mind, let go ...         __label__en   \n",
       "4  Goin’ Down Lyrics[Intro: DJ Drama, Fabolous & ...         __label__en   \n",
       "\n",
       "   top_lang_identified_prob  \n",
       "0                  0.932648  \n",
       "1                  0.253449  \n",
       "2                  0.949876  \n",
       "3                  0.960411  \n",
       "4                  0.948774  "
      ]
     },
     "execution_count": 2,
     "metadata": {},
     "output_type": "execute_result"
    }
   ],
   "source": [
    "tracksLyricFeatures_complete = pd.read_csv('./tracksLyricFeatures/tracksLyricFeaturesLang.csv', encoding='utf8')\n",
    "tracksLyricFeatures_complete.head()"
   ]
  },
  {
   "cell_type": "code",
   "execution_count": 3,
   "metadata": {
    "slideshow": {
     "slide_type": "subslide"
    }
   },
   "outputs": [
    {
     "data": {
      "text/plain": [
       "(25000, 7)"
      ]
     },
     "execution_count": 3,
     "metadata": {},
     "output_type": "execute_result"
    }
   ],
   "source": [
    "tracksLyricFeatures_complete.shape"
   ]
  },
  {
   "cell_type": "markdown",
   "metadata": {
    "slideshow": {
     "slide_type": "slide"
    }
   },
   "source": [
    "##### Outline of the approach\n",
    "* Do very basic cleaning\n",
    "    * removing tokens like '[chorus]' , '[verse]' - using regular expressions for this\n",
    "    * also removing the heading of the lyrics of the format - **SONG_NAME Lyrics**\n",
    "* Using gensim.utils.preprocessing for tokenizing the cleaned text\n",
    "* The tokenized data then finally will be used to create a text corpus to train a Word2Vec Dictionary"
   ]
  },
  {
   "cell_type": "code",
   "execution_count": 4,
   "metadata": {
    "slideshow": {
     "slide_type": "subslide"
    }
   },
   "outputs": [
    {
     "data": {
      "text/plain": [
       "\"The Waking Blind LyricsThe waking blind, embraced the dark\\nThey made us fight for the answers\\nThey made us they made us fight fight fight for the answers\\nThey made us fight\\n\\nTime is up the lines are drawn in sand\\nIt's like a ritual cleaning\\nFaith against them all\\nSome kind of wicked pressure growing below\\nBound to breach the surface\\nGloves are off\\nThe blinders tighten\\nMisguided hands\\nLeading the awoken\\nFood for thought\\nOnce your brothers now\\nThe wretches the dregs the scum and the bastards\\nEyes up\\nGrab your pitchforks just before the dawn\\nThey’re out of time and out of touch and out of luck\\nWith the air that we breath and the ground beneath their feet\\n\\nA mask of virtue\\nYou’ll hide behind as you feed off the lies\\nBowing down to pressure with no resolve\\nNever again\\nCan we allow this fear to hold us\\nFaith against them all\\nDesigned deny and deprive\\n\\nThe waking blind, embraced the dark\\nThey made us fight for the answers\\n\\nThe coming whipping winds\\nThe winds will blow your house of straw away\\nThey’ve built you up to tear you down\\nThey’ve built you up to tear you down\\nYou might also likeThere is no second coming\\nThey are playing with your heart\\nThere is just something about this\\nWhy won't you admit\\n\\nYour blind crusade is the birth of a dying age\\nA mask of virtue\\nYou’ll hide behind as you feed off the lies\\nBowing down to pressure with no resolve\\n\\nAnd with no resolve in our darkened heart\\nWe feel our fears come alive and it lights up the sky\\nThe sky the sky the sky is burning\\nThe sky the sky is burning\\nOut of the dark and into the light\\nThese spiteful spheres of hate got the world\\nBurning in your hands\\nIn your hands...Embed\""
      ]
     },
     "execution_count": 4,
     "metadata": {},
     "output_type": "execute_result"
    }
   ],
   "source": [
    "tracksLyricFeatures_complete.iloc[0,4]"
   ]
  },
  {
   "cell_type": "markdown",
   "metadata": {
    "slideshow": {
     "slide_type": "slide"
    }
   },
   "source": [
    "Using songs for which English was predicted at the top language with greater than 80% probability"
   ]
  },
  {
   "cell_type": "code",
   "execution_count": 5,
   "metadata": {
    "slideshow": {
     "slide_type": "subslide"
    }
   },
   "outputs": [],
   "source": [
    "# Medium Dataset - take english songs with prob > 80% only - ~10900 songs\n",
    "trackLyricsFeaturesEnglish = tracksLyricFeatures_complete[(tracksLyricFeatures_complete['top_lang_identified']==\"__label__en\") & (tracksLyricFeatures_complete['top_lang_identified_prob']>=0.8)]"
   ]
  },
  {
   "cell_type": "code",
   "execution_count": 6,
   "metadata": {
    "slideshow": {
     "slide_type": "subslide"
    }
   },
   "outputs": [
    {
     "data": {
      "text/plain": [
       "(10910, 7)"
      ]
     },
     "execution_count": 6,
     "metadata": {},
     "output_type": "execute_result"
    }
   ],
   "source": [
    "trackLyricsFeaturesEnglish.shape"
   ]
  },
  {
   "cell_type": "markdown",
   "metadata": {
    "slideshow": {
     "slide_type": "slide"
    }
   },
   "source": [
    "Doing basic cleaning using regular expressions to remove noise from the lyrics"
   ]
  },
  {
   "cell_type": "code",
   "execution_count": 7,
   "metadata": {
    "slideshow": {
     "slide_type": "subslide"
    }
   },
   "outputs": [
    {
     "name": "stderr",
     "output_type": "stream",
     "text": [
      "C:\\Users\\Arnav Sinha\\AppData\\Local\\Temp\\ipykernel_80204\\3130988347.py:1: SettingWithCopyWarning: \n",
      "A value is trying to be set on a copy of a slice from a DataFrame.\n",
      "Try using .loc[row_indexer,col_indexer] = value instead\n",
      "\n",
      "See the caveats in the documentation: https://pandas.pydata.org/pandas-docs/stable/user_guide/indexing.html#returning-a-view-versus-a-copy\n",
      "  trackLyricsFeaturesEnglish['regex_cleaned_lyrics'] = [re.sub(r'^.*?Lyrics', '', str(lyric)) for lyric in trackLyricsFeaturesEnglish['lyrics']]\n",
      "C:\\Users\\Arnav Sinha\\AppData\\Local\\Temp\\ipykernel_80204\\3130988347.py:2: SettingWithCopyWarning: \n",
      "A value is trying to be set on a copy of a slice from a DataFrame.\n",
      "Try using .loc[row_indexer,col_indexer] = value instead\n",
      "\n",
      "See the caveats in the documentation: https://pandas.pydata.org/pandas-docs/stable/user_guide/indexing.html#returning-a-view-versus-a-copy\n",
      "  trackLyricsFeaturesEnglish['regex_cleaned_lyrics'] = [re.sub(r\"[\\[].*?[\\]]\", \"\", str(lyric)) for lyric in trackLyricsFeaturesEnglish['regex_cleaned_lyrics']]\n",
      "C:\\Users\\Arnav Sinha\\AppData\\Local\\Temp\\ipykernel_80204\\3130988347.py:3: SettingWithCopyWarning: \n",
      "A value is trying to be set on a copy of a slice from a DataFrame.\n",
      "Try using .loc[row_indexer,col_indexer] = value instead\n",
      "\n",
      "See the caveats in the documentation: https://pandas.pydata.org/pandas-docs/stable/user_guide/indexing.html#returning-a-view-versus-a-copy\n",
      "  trackLyricsFeaturesEnglish['regex_cleaned_lyrics'] = [re.sub(r\"(\\().*?(\\))\", \"\", str(lyric)) for lyric in trackLyricsFeaturesEnglish['regex_cleaned_lyrics']]\n"
     ]
    },
    {
     "data": {
      "text/html": [
       "<div>\n",
       "<style scoped>\n",
       "    .dataframe tbody tr th:only-of-type {\n",
       "        vertical-align: middle;\n",
       "    }\n",
       "\n",
       "    .dataframe tbody tr th {\n",
       "        vertical-align: top;\n",
       "    }\n",
       "\n",
       "    .dataframe thead th {\n",
       "        text-align: right;\n",
       "    }\n",
       "</style>\n",
       "<table border=\"1\" class=\"dataframe\">\n",
       "  <thead>\n",
       "    <tr style=\"text-align: right;\">\n",
       "      <th></th>\n",
       "      <th>id</th>\n",
       "      <th>track</th>\n",
       "      <th>trackArtist</th>\n",
       "      <th>genre</th>\n",
       "      <th>lyrics</th>\n",
       "      <th>top_lang_identified</th>\n",
       "      <th>top_lang_identified_prob</th>\n",
       "      <th>regex_cleaned_lyrics</th>\n",
       "    </tr>\n",
       "  </thead>\n",
       "  <tbody>\n",
       "    <tr>\n",
       "      <th>0</th>\n",
       "      <td>2</td>\n",
       "      <td>Food</td>\n",
       "      <td>AWOL</td>\n",
       "      <td>Hip-Hop</td>\n",
       "      <td>The Waking Blind LyricsThe waking blind, embra...</td>\n",
       "      <td>__label__en</td>\n",
       "      <td>0.932648</td>\n",
       "      <td>The waking blind, embraced the dark\\nThey made...</td>\n",
       "    </tr>\n",
       "    <tr>\n",
       "      <th>2</th>\n",
       "      <td>5</td>\n",
       "      <td>This World</td>\n",
       "      <td>AWOL</td>\n",
       "      <td>Hip-Hop</td>\n",
       "      <td>E.T. Lyrics[Verse One: Mickey Factz]\\nSee, I s...</td>\n",
       "      <td>__label__en</td>\n",
       "      <td>0.949876</td>\n",
       "      <td>\\nSee, I seen so many faces\\nI've been to many...</td>\n",
       "    </tr>\n",
       "    <tr>\n",
       "      <th>3</th>\n",
       "      <td>10</td>\n",
       "      <td>Freeway</td>\n",
       "      <td>Kurt Vile</td>\n",
       "      <td>Pop</td>\n",
       "      <td>Freeway LyricsI got a freeway in mind, let go ...</td>\n",
       "      <td>__label__en</td>\n",
       "      <td>0.960411</td>\n",
       "      <td>I got a freeway in mind, let go of my head\\nWa...</td>\n",
       "    </tr>\n",
       "    <tr>\n",
       "      <th>4</th>\n",
       "      <td>134</td>\n",
       "      <td>Street Music</td>\n",
       "      <td>AWOL</td>\n",
       "      <td>Hip-Hop</td>\n",
       "      <td>Goin’ Down Lyrics[Intro: DJ Drama, Fabolous &amp; ...</td>\n",
       "      <td>__label__en</td>\n",
       "      <td>0.948774</td>\n",
       "      <td>\\nY'all ready?\\nThis what it's all about, righ...</td>\n",
       "    </tr>\n",
       "    <tr>\n",
       "      <th>5</th>\n",
       "      <td>136</td>\n",
       "      <td>Peel Back The Mountain Sky</td>\n",
       "      <td>Abominog</td>\n",
       "      <td>Rock</td>\n",
       "      <td>The Rape of Lucrece LyricsThe Argument\\nLucius...</td>\n",
       "      <td>__label__en</td>\n",
       "      <td>0.950529</td>\n",
       "      <td>The Argument\\nLucius Tarquinius, for his exces...</td>\n",
       "    </tr>\n",
       "  </tbody>\n",
       "</table>\n",
       "</div>"
      ],
      "text/plain": [
       "    id                       track trackArtist    genre  \\\n",
       "0    2                        Food        AWOL  Hip-Hop   \n",
       "2    5                  This World        AWOL  Hip-Hop   \n",
       "3   10                     Freeway   Kurt Vile      Pop   \n",
       "4  134                Street Music        AWOL  Hip-Hop   \n",
       "5  136  Peel Back The Mountain Sky    Abominog     Rock   \n",
       "\n",
       "                                              lyrics top_lang_identified  \\\n",
       "0  The Waking Blind LyricsThe waking blind, embra...         __label__en   \n",
       "2  E.T. Lyrics[Verse One: Mickey Factz]\\nSee, I s...         __label__en   \n",
       "3  Freeway LyricsI got a freeway in mind, let go ...         __label__en   \n",
       "4  Goin’ Down Lyrics[Intro: DJ Drama, Fabolous & ...         __label__en   \n",
       "5  The Rape of Lucrece LyricsThe Argument\\nLucius...         __label__en   \n",
       "\n",
       "   top_lang_identified_prob                               regex_cleaned_lyrics  \n",
       "0                  0.932648  The waking blind, embraced the dark\\nThey made...  \n",
       "2                  0.949876  \\nSee, I seen so many faces\\nI've been to many...  \n",
       "3                  0.960411  I got a freeway in mind, let go of my head\\nWa...  \n",
       "4                  0.948774  \\nY'all ready?\\nThis what it's all about, righ...  \n",
       "5                  0.950529  The Argument\\nLucius Tarquinius, for his exces...  "
      ]
     },
     "execution_count": 7,
     "metadata": {},
     "output_type": "execute_result"
    }
   ],
   "source": [
    "trackLyricsFeaturesEnglish['regex_cleaned_lyrics'] = [re.sub(r'^.*?Lyrics', '', str(lyric)) for lyric in trackLyricsFeaturesEnglish['lyrics']]\n",
    "trackLyricsFeaturesEnglish['regex_cleaned_lyrics'] = [re.sub(r\"[\\[].*?[\\]]\", \"\", str(lyric)) for lyric in trackLyricsFeaturesEnglish['regex_cleaned_lyrics']]\n",
    "trackLyricsFeaturesEnglish['regex_cleaned_lyrics'] = [re.sub(r\"(\\().*?(\\))\", \"\", str(lyric)) for lyric in trackLyricsFeaturesEnglish['regex_cleaned_lyrics']]\n",
    "trackLyricsFeaturesEnglish.head()"
   ]
  },
  {
   "cell_type": "markdown",
   "metadata": {
    "slideshow": {
     "slide_type": "slide"
    }
   },
   "source": [
    "We can see that the objective of basic cleaning is achieved in the above cell where unnecessary information has been removed\n",
    "\n",
    "Next step is tokenize the documents(in this case the lyrics) using gensim.utils.simple_preprocess"
   ]
  },
  {
   "cell_type": "code",
   "execution_count": 8,
   "metadata": {
    "slideshow": {
     "slide_type": "subslide"
    }
   },
   "outputs": [
    {
     "name": "stdout",
     "output_type": "stream",
     "text": [
      "<class 'pandas.core.series.Series'>\n"
     ]
    }
   ],
   "source": [
    "simple_processed_lyrics = trackLyricsFeaturesEnglish.regex_cleaned_lyrics.apply(gensim.utils.simple_preprocess)\n",
    "\n",
    "print(type(simple_processed_lyrics))"
   ]
  },
  {
   "cell_type": "markdown",
   "metadata": {
    "slideshow": {
     "slide_type": "slide"
    }
   },
   "source": [
    "Lyrics data was successfully tokenized for each song"
   ]
  },
  {
   "cell_type": "code",
   "execution_count": 9,
   "metadata": {
    "slideshow": {
     "slide_type": "subslide"
    }
   },
   "outputs": [
    {
     "data": {
      "text/plain": [
       "0        [the, waking, blind, embraced, the, dark, they...\n",
       "2        [see, seen, so, many, faces, ve, been, to, man...\n",
       "3        [got, freeway, in, mind, let, go, of, my, head...\n",
       "4        [all, ready, this, what, it, all, about, right...\n",
       "5        [the, argument, lucius, tarquinius, for, his, ...\n",
       "                               ...                        \n",
       "24984    [the, mabbot, street, entrance, of, nighttown,...\n",
       "24985    [the, mabbot, street, entrance, of, nighttown,...\n",
       "24989    [oh, shit, guess, we, re, starting, the, mic, ...\n",
       "24990    [the, american, academy, of, emergency, medici...\n",
       "24993    [do, ti, la, so, fa, mi, re, do, yu, mi, guara...\n",
       "Name: regex_cleaned_lyrics, Length: 10910, dtype: object"
      ]
     },
     "execution_count": 9,
     "metadata": {},
     "output_type": "execute_result"
    }
   ],
   "source": [
    "simple_processed_lyrics"
   ]
  },
  {
   "cell_type": "code",
   "execution_count": 10,
   "metadata": {
    "slideshow": {
     "slide_type": "subslide"
    }
   },
   "outputs": [
    {
     "data": {
      "text/html": [
       "<div>\n",
       "<style scoped>\n",
       "    .dataframe tbody tr th:only-of-type {\n",
       "        vertical-align: middle;\n",
       "    }\n",
       "\n",
       "    .dataframe tbody tr th {\n",
       "        vertical-align: top;\n",
       "    }\n",
       "\n",
       "    .dataframe thead th {\n",
       "        text-align: right;\n",
       "    }\n",
       "</style>\n",
       "<table border=\"1\" class=\"dataframe\">\n",
       "  <thead>\n",
       "    <tr style=\"text-align: right;\">\n",
       "      <th></th>\n",
       "      <th>id</th>\n",
       "      <th>track</th>\n",
       "      <th>trackArtist</th>\n",
       "      <th>genre</th>\n",
       "      <th>lyrics</th>\n",
       "      <th>top_lang_identified</th>\n",
       "      <th>top_lang_identified_prob</th>\n",
       "      <th>regex_cleaned_lyrics</th>\n",
       "      <th>tokenized_lyrics</th>\n",
       "    </tr>\n",
       "  </thead>\n",
       "  <tbody>\n",
       "    <tr>\n",
       "      <th>0</th>\n",
       "      <td>2</td>\n",
       "      <td>Food</td>\n",
       "      <td>AWOL</td>\n",
       "      <td>Hip-Hop</td>\n",
       "      <td>The Waking Blind LyricsThe waking blind, embra...</td>\n",
       "      <td>__label__en</td>\n",
       "      <td>0.932648</td>\n",
       "      <td>The waking blind, embraced the dark\\nThey made...</td>\n",
       "      <td>[the, waking, blind, embraced, the, dark, they...</td>\n",
       "    </tr>\n",
       "    <tr>\n",
       "      <th>2</th>\n",
       "      <td>5</td>\n",
       "      <td>This World</td>\n",
       "      <td>AWOL</td>\n",
       "      <td>Hip-Hop</td>\n",
       "      <td>E.T. Lyrics[Verse One: Mickey Factz]\\nSee, I s...</td>\n",
       "      <td>__label__en</td>\n",
       "      <td>0.949876</td>\n",
       "      <td>\\nSee, I seen so many faces\\nI've been to many...</td>\n",
       "      <td>[see, seen, so, many, faces, ve, been, to, man...</td>\n",
       "    </tr>\n",
       "    <tr>\n",
       "      <th>3</th>\n",
       "      <td>10</td>\n",
       "      <td>Freeway</td>\n",
       "      <td>Kurt Vile</td>\n",
       "      <td>Pop</td>\n",
       "      <td>Freeway LyricsI got a freeway in mind, let go ...</td>\n",
       "      <td>__label__en</td>\n",
       "      <td>0.960411</td>\n",
       "      <td>I got a freeway in mind, let go of my head\\nWa...</td>\n",
       "      <td>[got, freeway, in, mind, let, go, of, my, head...</td>\n",
       "    </tr>\n",
       "    <tr>\n",
       "      <th>4</th>\n",
       "      <td>134</td>\n",
       "      <td>Street Music</td>\n",
       "      <td>AWOL</td>\n",
       "      <td>Hip-Hop</td>\n",
       "      <td>Goin’ Down Lyrics[Intro: DJ Drama, Fabolous &amp; ...</td>\n",
       "      <td>__label__en</td>\n",
       "      <td>0.948774</td>\n",
       "      <td>\\nY'all ready?\\nThis what it's all about, righ...</td>\n",
       "      <td>[all, ready, this, what, it, all, about, right...</td>\n",
       "    </tr>\n",
       "    <tr>\n",
       "      <th>5</th>\n",
       "      <td>136</td>\n",
       "      <td>Peel Back The Mountain Sky</td>\n",
       "      <td>Abominog</td>\n",
       "      <td>Rock</td>\n",
       "      <td>The Rape of Lucrece LyricsThe Argument\\nLucius...</td>\n",
       "      <td>__label__en</td>\n",
       "      <td>0.950529</td>\n",
       "      <td>The Argument\\nLucius Tarquinius, for his exces...</td>\n",
       "      <td>[the, argument, lucius, tarquinius, for, his, ...</td>\n",
       "    </tr>\n",
       "  </tbody>\n",
       "</table>\n",
       "</div>"
      ],
      "text/plain": [
       "    id                       track trackArtist    genre  \\\n",
       "0    2                        Food        AWOL  Hip-Hop   \n",
       "2    5                  This World        AWOL  Hip-Hop   \n",
       "3   10                     Freeway   Kurt Vile      Pop   \n",
       "4  134                Street Music        AWOL  Hip-Hop   \n",
       "5  136  Peel Back The Mountain Sky    Abominog     Rock   \n",
       "\n",
       "                                              lyrics top_lang_identified  \\\n",
       "0  The Waking Blind LyricsThe waking blind, embra...         __label__en   \n",
       "2  E.T. Lyrics[Verse One: Mickey Factz]\\nSee, I s...         __label__en   \n",
       "3  Freeway LyricsI got a freeway in mind, let go ...         __label__en   \n",
       "4  Goin’ Down Lyrics[Intro: DJ Drama, Fabolous & ...         __label__en   \n",
       "5  The Rape of Lucrece LyricsThe Argument\\nLucius...         __label__en   \n",
       "\n",
       "   top_lang_identified_prob  \\\n",
       "0                  0.932648   \n",
       "2                  0.949876   \n",
       "3                  0.960411   \n",
       "4                  0.948774   \n",
       "5                  0.950529   \n",
       "\n",
       "                                regex_cleaned_lyrics  \\\n",
       "0  The waking blind, embraced the dark\\nThey made...   \n",
       "2  \\nSee, I seen so many faces\\nI've been to many...   \n",
       "3  I got a freeway in mind, let go of my head\\nWa...   \n",
       "4  \\nY'all ready?\\nThis what it's all about, righ...   \n",
       "5  The Argument\\nLucius Tarquinius, for his exces...   \n",
       "\n",
       "                                    tokenized_lyrics  \n",
       "0  [the, waking, blind, embraced, the, dark, they...  \n",
       "2  [see, seen, so, many, faces, ve, been, to, man...  \n",
       "3  [got, freeway, in, mind, let, go, of, my, head...  \n",
       "4  [all, ready, this, what, it, all, about, right...  \n",
       "5  [the, argument, lucius, tarquinius, for, his, ...  "
      ]
     },
     "execution_count": 10,
     "metadata": {},
     "output_type": "execute_result"
    }
   ],
   "source": [
    "simple_processed_lyrics.name = \"tokenized_lyrics\"\n",
    "trackLyricsFeaturesEnglish = pd.concat([trackLyricsFeaturesEnglish, simple_processed_lyrics], axis = 1)\n",
    "trackLyricsFeaturesEnglish.head()"
   ]
  },
  {
   "cell_type": "markdown",
   "metadata": {
    "slideshow": {
     "slide_type": "slide"
    }
   },
   "source": [
    "Saving the processed data to be used for dictionary model creation"
   ]
  },
  {
   "cell_type": "code",
   "execution_count": 11,
   "metadata": {
    "slideshow": {
     "slide_type": "subslide"
    }
   },
   "outputs": [],
   "source": [
    "# trackLyricsFeaturesEnglish.to_csv('./tracksLyricFeatures/tracksLyricFeaturesTokenzised.csv', encoding=\"utf8\", index=False)"
   ]
  },
  {
   "cell_type": "code",
   "execution_count": 12,
   "metadata": {
    "slideshow": {
     "slide_type": "subslide"
    }
   },
   "outputs": [
    {
     "data": {
      "text/plain": [
       "list"
      ]
     },
     "execution_count": 12,
     "metadata": {},
     "output_type": "execute_result"
    }
   ],
   "source": [
    "type(simple_processed_lyrics[0])"
   ]
  },
  {
   "cell_type": "code",
   "execution_count": 13,
   "metadata": {
    "slideshow": {
     "slide_type": "subslide"
    }
   },
   "outputs": [
    {
     "data": {
      "text/plain": [
       "list"
      ]
     },
     "execution_count": 13,
     "metadata": {},
     "output_type": "execute_result"
    }
   ],
   "source": [
    "type(trackLyricsFeaturesEnglish.iloc[0,8])"
   ]
  },
  {
   "cell_type": "markdown",
   "metadata": {
    "slideshow": {
     "slide_type": "slide"
    }
   },
   "source": [
    "\n",
    "Value count of all genre songs in the data"
   ]
  },
  {
   "cell_type": "code",
   "execution_count": 14,
   "metadata": {
    "slideshow": {
     "slide_type": "subslide"
    }
   },
   "outputs": [
    {
     "data": {
      "text/plain": [
       "Rock                   4411\n",
       "Electronic             2096\n",
       "Hip-Hop                 832\n",
       "Experimental            809\n",
       "Folk                    806\n",
       "Pop                     607\n",
       "Instrumental            583\n",
       "Old-Time / Historic     207\n",
       "International           153\n",
       "Jazz                     98\n",
       "Country                  87\n",
       "Spoken                   63\n",
       "Soul-RnB                 60\n",
       "Classical                56\n",
       "Blues                    39\n",
       "Easy Listening            3\n",
       "Name: genre, dtype: int64"
      ]
     },
     "execution_count": 14,
     "metadata": {},
     "output_type": "execute_result"
    }
   ],
   "source": [
    "trackLyricsFeaturesEnglish[\"genre\"].value_counts()"
   ]
  },
  {
   "cell_type": "markdown",
   "metadata": {
    "slideshow": {
     "slide_type": "slide"
    }
   },
   "source": [
    "There is great class imbalance in the data\n",
    "\n",
    "We need to drop training samples for genres below and including Old-Time / Historic in the above list\n",
    "\n",
    "Also, to improve class imbalance, we will need to drop 1500 and 500 training samples from Rock and Electronic genre based on the length of tokenized lyrics for these songs"
   ]
  },
  {
   "cell_type": "code",
   "execution_count": 15,
   "metadata": {
    "slideshow": {
     "slide_type": "subslide"
    }
   },
   "outputs": [],
   "source": [
    "label = trackLyricsFeaturesEnglish[\"genre\"]\n",
    "classes_to_retain = [\"Rock\", \"Electronic\",\"Hip-Hop\",\"Experimental\",\"Folk\",\"Pop\",\"Instrumental\"]\n",
    "classes_to_drop = [\"Old-Time / Historic\", \"International\", \"Jazz\", \"Country\", \"Spoken\", \"Soul-RnB\", \"Classical\", \"Blues\", \"Easy Listening\"]\n",
    "\n",
    "trackLyricsFeaturesEnglishTopGenre = pd.DataFrame()\n",
    "\n",
    "# Retaining only classes with majority\n",
    "for genre in classes_to_retain:\n",
    "    data = trackLyricsFeaturesEnglish[trackLyricsFeaturesEnglish[\"genre\"]==genre]\n",
    "    trackLyricsFeaturesEnglishTopGenre = pd.concat([data,trackLyricsFeaturesEnglishTopGenre])"
   ]
  },
  {
   "cell_type": "code",
   "execution_count": 16,
   "metadata": {
    "slideshow": {
     "slide_type": "subslide"
    }
   },
   "outputs": [
    {
     "data": {
      "text/html": [
       "<div>\n",
       "<style scoped>\n",
       "    .dataframe tbody tr th:only-of-type {\n",
       "        vertical-align: middle;\n",
       "    }\n",
       "\n",
       "    .dataframe tbody tr th {\n",
       "        vertical-align: top;\n",
       "    }\n",
       "\n",
       "    .dataframe thead th {\n",
       "        text-align: right;\n",
       "    }\n",
       "</style>\n",
       "<table border=\"1\" class=\"dataframe\">\n",
       "  <thead>\n",
       "    <tr style=\"text-align: right;\">\n",
       "      <th></th>\n",
       "      <th>id</th>\n",
       "      <th>track</th>\n",
       "      <th>trackArtist</th>\n",
       "      <th>genre</th>\n",
       "      <th>lyrics</th>\n",
       "      <th>top_lang_identified</th>\n",
       "      <th>top_lang_identified_prob</th>\n",
       "      <th>regex_cleaned_lyrics</th>\n",
       "      <th>tokenized_lyrics</th>\n",
       "    </tr>\n",
       "  </thead>\n",
       "  <tbody>\n",
       "    <tr>\n",
       "      <th>1492</th>\n",
       "      <td>10230</td>\n",
       "      <td>Function Boys</td>\n",
       "      <td>Lucky Dragons</td>\n",
       "      <td>Instrumental</td>\n",
       "      <td>Arabian Nights,Vol. 2 (Chap. 3) LyricsTale of ...</td>\n",
       "      <td>__label__en</td>\n",
       "      <td>0.976436</td>\n",
       "      <td>Tale of King Omar Bin Al-Nu'uman and His Sons ...</td>\n",
       "      <td>[tale, of, king, omar, bin, al, nu, uman, and,...</td>\n",
       "    </tr>\n",
       "    <tr>\n",
       "      <th>1493</th>\n",
       "      <td>10231</td>\n",
       "      <td>Feminist Short</td>\n",
       "      <td>Rock Paper Scissors</td>\n",
       "      <td>Instrumental</td>\n",
       "      <td>Pale Fire: A Poem in Four Cantos LyricsCANTO 1...</td>\n",
       "      <td>__label__en</td>\n",
       "      <td>0.956010</td>\n",
       "      <td>CANTO 1\\nI was the shadow of the waxwing slain...</td>\n",
       "      <td>[canto, was, the, shadow, of, the, waxwing, sl...</td>\n",
       "    </tr>\n",
       "    <tr>\n",
       "      <th>1494</th>\n",
       "      <td>10234</td>\n",
       "      <td>Headache</td>\n",
       "      <td>Mr. California</td>\n",
       "      <td>Instrumental</td>\n",
       "      <td>My President Lyrics[Intro: Young Jeezy]\\nYeah,...</td>\n",
       "      <td>__label__en</td>\n",
       "      <td>0.936297</td>\n",
       "      <td>\\nYeah, be the realest shit I never wrote\\nI a...</td>\n",
       "      <td>[yeah, be, the, realest, shit, never, wrote, a...</td>\n",
       "    </tr>\n",
       "    <tr>\n",
       "      <th>1498</th>\n",
       "      <td>10246</td>\n",
       "      <td>Mayan Church</td>\n",
       "      <td>Field Recorder</td>\n",
       "      <td>Instrumental</td>\n",
       "      <td>Ulysses (Chap. 12 - Cyclops) LyricsI was just ...</td>\n",
       "      <td>__label__en</td>\n",
       "      <td>0.966509</td>\n",
       "      <td>I was just passing the time of day with old Tr...</td>\n",
       "      <td>[was, just, passing, the, time, of, day, with,...</td>\n",
       "    </tr>\n",
       "    <tr>\n",
       "      <th>1501</th>\n",
       "      <td>10277</td>\n",
       "      <td>Many Hollys</td>\n",
       "      <td>Lucky Dragons</td>\n",
       "      <td>Instrumental</td>\n",
       "      <td>Ulysses (Chap. 15 - Circe) LyricsThe Mabbot st...</td>\n",
       "      <td>__label__en</td>\n",
       "      <td>0.930705</td>\n",
       "      <td>The Mabbot street entrance of nighttown, befor...</td>\n",
       "      <td>[the, mabbot, street, entrance, of, nighttown,...</td>\n",
       "    </tr>\n",
       "  </tbody>\n",
       "</table>\n",
       "</div>"
      ],
      "text/plain": [
       "         id           track          trackArtist         genre  \\\n",
       "1492  10230   Function Boys        Lucky Dragons  Instrumental   \n",
       "1493  10231  Feminist Short  Rock Paper Scissors  Instrumental   \n",
       "1494  10234        Headache       Mr. California  Instrumental   \n",
       "1498  10246    Mayan Church       Field Recorder  Instrumental   \n",
       "1501  10277     Many Hollys        Lucky Dragons  Instrumental   \n",
       "\n",
       "                                                 lyrics top_lang_identified  \\\n",
       "1492  Arabian Nights,Vol. 2 (Chap. 3) LyricsTale of ...         __label__en   \n",
       "1493  Pale Fire: A Poem in Four Cantos LyricsCANTO 1...         __label__en   \n",
       "1494  My President Lyrics[Intro: Young Jeezy]\\nYeah,...         __label__en   \n",
       "1498  Ulysses (Chap. 12 - Cyclops) LyricsI was just ...         __label__en   \n",
       "1501  Ulysses (Chap. 15 - Circe) LyricsThe Mabbot st...         __label__en   \n",
       "\n",
       "      top_lang_identified_prob  \\\n",
       "1492                  0.976436   \n",
       "1493                  0.956010   \n",
       "1494                  0.936297   \n",
       "1498                  0.966509   \n",
       "1501                  0.930705   \n",
       "\n",
       "                                   regex_cleaned_lyrics  \\\n",
       "1492  Tale of King Omar Bin Al-Nu'uman and His Sons ...   \n",
       "1493  CANTO 1\\nI was the shadow of the waxwing slain...   \n",
       "1494  \\nYeah, be the realest shit I never wrote\\nI a...   \n",
       "1498  I was just passing the time of day with old Tr...   \n",
       "1501  The Mabbot street entrance of nighttown, befor...   \n",
       "\n",
       "                                       tokenized_lyrics  \n",
       "1492  [tale, of, king, omar, bin, al, nu, uman, and,...  \n",
       "1493  [canto, was, the, shadow, of, the, waxwing, sl...  \n",
       "1494  [yeah, be, the, realest, shit, never, wrote, a...  \n",
       "1498  [was, just, passing, the, time, of, day, with,...  \n",
       "1501  [the, mabbot, street, entrance, of, nighttown,...  "
      ]
     },
     "execution_count": 16,
     "metadata": {},
     "output_type": "execute_result"
    }
   ],
   "source": [
    "trackLyricsFeaturesEnglishTopGenre.head()"
   ]
  },
  {
   "cell_type": "markdown",
   "metadata": {
    "slideshow": {
     "slide_type": "slide"
    }
   },
   "source": [
    "Only majority classes were retained\n",
    "\n",
    "Note - We will also need to reduce training samples for Rock and Electronic classes"
   ]
  },
  {
   "cell_type": "code",
   "execution_count": 17,
   "metadata": {
    "slideshow": {
     "slide_type": "subslide"
    }
   },
   "outputs": [
    {
     "data": {
      "text/plain": [
       "Rock            4411\n",
       "Electronic      2096\n",
       "Hip-Hop          832\n",
       "Experimental     809\n",
       "Folk             806\n",
       "Pop              607\n",
       "Instrumental     583\n",
       "Name: genre, dtype: int64"
      ]
     },
     "execution_count": 17,
     "metadata": {},
     "output_type": "execute_result"
    }
   ],
   "source": [
    "trackLyricsFeaturesEnglishTopGenre[\"genre\"].value_counts()"
   ]
  },
  {
   "cell_type": "markdown",
   "metadata": {
    "slideshow": {
     "slide_type": "slide"
    }
   },
   "source": [
    "Function to get token count for each song's lyrics"
   ]
  },
  {
   "cell_type": "code",
   "execution_count": 18,
   "metadata": {
    "slideshow": {
     "slide_type": "subslide"
    }
   },
   "outputs": [],
   "source": [
    "def token_list_len(lyrics_token_list):\n",
    "    if lyrics_token_list:\n",
    "        return len(lyrics_token_list)\n",
    "    else:\n",
    "        return 0"
   ]
  },
  {
   "cell_type": "markdown",
   "metadata": {
    "slideshow": {
     "slide_type": "slide"
    }
   },
   "source": [
    "Find the token count for each song"
   ]
  },
  {
   "cell_type": "code",
   "execution_count": 19,
   "metadata": {
    "slideshow": {
     "slide_type": "subslide"
    }
   },
   "outputs": [
    {
     "data": {
      "text/html": [
       "<div>\n",
       "<style scoped>\n",
       "    .dataframe tbody tr th:only-of-type {\n",
       "        vertical-align: middle;\n",
       "    }\n",
       "\n",
       "    .dataframe tbody tr th {\n",
       "        vertical-align: top;\n",
       "    }\n",
       "\n",
       "    .dataframe thead th {\n",
       "        text-align: right;\n",
       "    }\n",
       "</style>\n",
       "<table border=\"1\" class=\"dataframe\">\n",
       "  <thead>\n",
       "    <tr style=\"text-align: right;\">\n",
       "      <th></th>\n",
       "      <th>id</th>\n",
       "      <th>track</th>\n",
       "      <th>trackArtist</th>\n",
       "      <th>genre</th>\n",
       "      <th>lyrics</th>\n",
       "      <th>top_lang_identified</th>\n",
       "      <th>top_lang_identified_prob</th>\n",
       "      <th>regex_cleaned_lyrics</th>\n",
       "      <th>tokenized_lyrics</th>\n",
       "      <th>token_cnt</th>\n",
       "    </tr>\n",
       "  </thead>\n",
       "  <tbody>\n",
       "    <tr>\n",
       "      <th>1492</th>\n",
       "      <td>10230</td>\n",
       "      <td>Function Boys</td>\n",
       "      <td>Lucky Dragons</td>\n",
       "      <td>Instrumental</td>\n",
       "      <td>Arabian Nights,Vol. 2 (Chap. 3) LyricsTale of ...</td>\n",
       "      <td>__label__en</td>\n",
       "      <td>0.976436</td>\n",
       "      <td>Tale of King Omar Bin Al-Nu'uman and His Sons ...</td>\n",
       "      <td>[tale, of, king, omar, bin, al, nu, uman, and,...</td>\n",
       "      <td>92596</td>\n",
       "    </tr>\n",
       "    <tr>\n",
       "      <th>1493</th>\n",
       "      <td>10231</td>\n",
       "      <td>Feminist Short</td>\n",
       "      <td>Rock Paper Scissors</td>\n",
       "      <td>Instrumental</td>\n",
       "      <td>Pale Fire: A Poem in Four Cantos LyricsCANTO 1...</td>\n",
       "      <td>__label__en</td>\n",
       "      <td>0.956010</td>\n",
       "      <td>CANTO 1\\nI was the shadow of the waxwing slain...</td>\n",
       "      <td>[canto, was, the, shadow, of, the, waxwing, sl...</td>\n",
       "      <td>7111</td>\n",
       "    </tr>\n",
       "    <tr>\n",
       "      <th>1494</th>\n",
       "      <td>10234</td>\n",
       "      <td>Headache</td>\n",
       "      <td>Mr. California</td>\n",
       "      <td>Instrumental</td>\n",
       "      <td>My President Lyrics[Intro: Young Jeezy]\\nYeah,...</td>\n",
       "      <td>__label__en</td>\n",
       "      <td>0.936297</td>\n",
       "      <td>\\nYeah, be the realest shit I never wrote\\nI a...</td>\n",
       "      <td>[yeah, be, the, realest, shit, never, wrote, a...</td>\n",
       "      <td>946</td>\n",
       "    </tr>\n",
       "    <tr>\n",
       "      <th>1498</th>\n",
       "      <td>10246</td>\n",
       "      <td>Mayan Church</td>\n",
       "      <td>Field Recorder</td>\n",
       "      <td>Instrumental</td>\n",
       "      <td>Ulysses (Chap. 12 - Cyclops) LyricsI was just ...</td>\n",
       "      <td>__label__en</td>\n",
       "      <td>0.966509</td>\n",
       "      <td>I was just passing the time of day with old Tr...</td>\n",
       "      <td>[was, just, passing, the, time, of, day, with,...</td>\n",
       "      <td>20033</td>\n",
       "    </tr>\n",
       "    <tr>\n",
       "      <th>1501</th>\n",
       "      <td>10277</td>\n",
       "      <td>Many Hollys</td>\n",
       "      <td>Lucky Dragons</td>\n",
       "      <td>Instrumental</td>\n",
       "      <td>Ulysses (Chap. 15 - Circe) LyricsThe Mabbot st...</td>\n",
       "      <td>__label__en</td>\n",
       "      <td>0.930705</td>\n",
       "      <td>The Mabbot street entrance of nighttown, befor...</td>\n",
       "      <td>[the, mabbot, street, entrance, of, nighttown,...</td>\n",
       "      <td>21950</td>\n",
       "    </tr>\n",
       "  </tbody>\n",
       "</table>\n",
       "</div>"
      ],
      "text/plain": [
       "         id           track          trackArtist         genre  \\\n",
       "1492  10230   Function Boys        Lucky Dragons  Instrumental   \n",
       "1493  10231  Feminist Short  Rock Paper Scissors  Instrumental   \n",
       "1494  10234        Headache       Mr. California  Instrumental   \n",
       "1498  10246    Mayan Church       Field Recorder  Instrumental   \n",
       "1501  10277     Many Hollys        Lucky Dragons  Instrumental   \n",
       "\n",
       "                                                 lyrics top_lang_identified  \\\n",
       "1492  Arabian Nights,Vol. 2 (Chap. 3) LyricsTale of ...         __label__en   \n",
       "1493  Pale Fire: A Poem in Four Cantos LyricsCANTO 1...         __label__en   \n",
       "1494  My President Lyrics[Intro: Young Jeezy]\\nYeah,...         __label__en   \n",
       "1498  Ulysses (Chap. 12 - Cyclops) LyricsI was just ...         __label__en   \n",
       "1501  Ulysses (Chap. 15 - Circe) LyricsThe Mabbot st...         __label__en   \n",
       "\n",
       "      top_lang_identified_prob  \\\n",
       "1492                  0.976436   \n",
       "1493                  0.956010   \n",
       "1494                  0.936297   \n",
       "1498                  0.966509   \n",
       "1501                  0.930705   \n",
       "\n",
       "                                   regex_cleaned_lyrics  \\\n",
       "1492  Tale of King Omar Bin Al-Nu'uman and His Sons ...   \n",
       "1493  CANTO 1\\nI was the shadow of the waxwing slain...   \n",
       "1494  \\nYeah, be the realest shit I never wrote\\nI a...   \n",
       "1498  I was just passing the time of day with old Tr...   \n",
       "1501  The Mabbot street entrance of nighttown, befor...   \n",
       "\n",
       "                                       tokenized_lyrics  token_cnt  \n",
       "1492  [tale, of, king, omar, bin, al, nu, uman, and,...      92596  \n",
       "1493  [canto, was, the, shadow, of, the, waxwing, sl...       7111  \n",
       "1494  [yeah, be, the, realest, shit, never, wrote, a...        946  \n",
       "1498  [was, just, passing, the, time, of, day, with,...      20033  \n",
       "1501  [the, mabbot, street, entrance, of, nighttown,...      21950  "
      ]
     },
     "execution_count": 19,
     "metadata": {},
     "output_type": "execute_result"
    }
   ],
   "source": [
    "trackLyricsFeaturesEnglishTopGenre[\"token_cnt\"] = trackLyricsFeaturesEnglishTopGenre[\"tokenized_lyrics\"].apply(token_list_len)\n",
    "trackLyricsFeaturesEnglishTopGenre.head()"
   ]
  },
  {
   "cell_type": "markdown",
   "metadata": {
    "slideshow": {
     "slide_type": "slide"
    }
   },
   "source": [
    "Determine the amount of reduction for the majority classes of Rock and Electronic"
   ]
  },
  {
   "cell_type": "code",
   "execution_count": 20,
   "metadata": {
    "slideshow": {
     "slide_type": "subslide"
    }
   },
   "outputs": [],
   "source": [
    "classes_to_reduce = [\"Rock\",\"Electronic\"]\n",
    "classes_unchanged = [\"Hip-Hop\",\"Experimental\",\"Folk\",\"Pop\",\"Instrumental\"]\n",
    "rows_to_reduce = {\"Rock\": 2500, \"Electronic\":500}"
   ]
  },
  {
   "cell_type": "markdown",
   "metadata": {
    "slideshow": {
     "slide_type": "slide"
    }
   },
   "source": [
    "Sort the songs in ascending order of count of tokens for each genre\n",
    "\n",
    "We'll be removing the songs for which there are fewer tokens in the lyrics"
   ]
  },
  {
   "cell_type": "code",
   "execution_count": 21,
   "metadata": {
    "slideshow": {
     "slide_type": "subslide"
    }
   },
   "outputs": [
    {
     "data": {
      "text/html": [
       "<div>\n",
       "<style scoped>\n",
       "    .dataframe tbody tr th:only-of-type {\n",
       "        vertical-align: middle;\n",
       "    }\n",
       "\n",
       "    .dataframe tbody tr th {\n",
       "        vertical-align: top;\n",
       "    }\n",
       "\n",
       "    .dataframe thead th {\n",
       "        text-align: right;\n",
       "    }\n",
       "</style>\n",
       "<table border=\"1\" class=\"dataframe\">\n",
       "  <thead>\n",
       "    <tr style=\"text-align: right;\">\n",
       "      <th></th>\n",
       "      <th>id</th>\n",
       "      <th>track</th>\n",
       "      <th>trackArtist</th>\n",
       "      <th>genre</th>\n",
       "      <th>lyrics</th>\n",
       "      <th>top_lang_identified</th>\n",
       "      <th>top_lang_identified_prob</th>\n",
       "      <th>regex_cleaned_lyrics</th>\n",
       "      <th>tokenized_lyrics</th>\n",
       "      <th>token_cnt</th>\n",
       "    </tr>\n",
       "  </thead>\n",
       "  <tbody>\n",
       "    <tr>\n",
       "      <th>0</th>\n",
       "      <td>13709</td>\n",
       "      <td>Member</td>\n",
       "      <td>Goto80</td>\n",
       "      <td>Electronic</td>\n",
       "      <td>Member LyricsNo transcribedYou might also like...</td>\n",
       "      <td>__label__en</td>\n",
       "      <td>0.971269</td>\n",
       "      <td>No transcribedYou might also likeEmbed</td>\n",
       "      <td>[no, transcribedyou, might, also, likeembed]</td>\n",
       "      <td>5</td>\n",
       "    </tr>\n",
       "    <tr>\n",
       "      <th>1</th>\n",
       "      <td>29628</td>\n",
       "      <td>Robot Wars</td>\n",
       "      <td>Binärpilot</td>\n",
       "      <td>Electronic</td>\n",
       "      <td>Robot Wars LyricsNow begins the robot wars\\nKi...</td>\n",
       "      <td>__label__en</td>\n",
       "      <td>0.904678</td>\n",
       "      <td>Now begins the robot wars\\nKill all humans wit...</td>\n",
       "      <td>[now, begins, the, robot, wars, kill, all, hum...</td>\n",
       "      <td>14</td>\n",
       "    </tr>\n",
       "    <tr>\n",
       "      <th>2</th>\n",
       "      <td>3557</td>\n",
       "      <td>My Name Is Robert</td>\n",
       "      <td>Dan Deacon</td>\n",
       "      <td>Electronic</td>\n",
       "      <td>My Name Is Robert LyricsWhere is your granfath...</td>\n",
       "      <td>__label__en</td>\n",
       "      <td>0.981228</td>\n",
       "      <td>Where is your granfather?\\nI have no granfathe...</td>\n",
       "      <td>[where, is, your, granfather, have, no, granfa...</td>\n",
       "      <td>27</td>\n",
       "    </tr>\n",
       "    <tr>\n",
       "      <th>3</th>\n",
       "      <td>40373</td>\n",
       "      <td>Upghostery</td>\n",
       "      <td>Liar</td>\n",
       "      <td>Electronic</td>\n",
       "      <td>Upghostery LyricsLet's pretend\\nThat this hous...</td>\n",
       "      <td>__label__en</td>\n",
       "      <td>0.948391</td>\n",
       "      <td>Let's pretend\\nThat this house is ours\\nThat y...</td>\n",
       "      <td>[let, pretend, that, this, house, is, ours, th...</td>\n",
       "      <td>30</td>\n",
       "    </tr>\n",
       "    <tr>\n",
       "      <th>4</th>\n",
       "      <td>91941</td>\n",
       "      <td>Night Walk</td>\n",
       "      <td>Dirty Beaches</td>\n",
       "      <td>Electronic</td>\n",
       "      <td>Night Walk LyricsTrail,\\nall across the night\\...</td>\n",
       "      <td>__label__en</td>\n",
       "      <td>0.873355</td>\n",
       "      <td>Trail,\\nall across the night\\nwith the radio o...</td>\n",
       "      <td>[trail, all, across, the, night, with, the, ra...</td>\n",
       "      <td>42</td>\n",
       "    </tr>\n",
       "  </tbody>\n",
       "</table>\n",
       "</div>"
      ],
      "text/plain": [
       "      id              track    trackArtist       genre  \\\n",
       "0  13709             Member         Goto80  Electronic   \n",
       "1  29628         Robot Wars     Binärpilot  Electronic   \n",
       "2   3557  My Name Is Robert     Dan Deacon  Electronic   \n",
       "3  40373         Upghostery           Liar  Electronic   \n",
       "4  91941         Night Walk  Dirty Beaches  Electronic   \n",
       "\n",
       "                                              lyrics top_lang_identified  \\\n",
       "0  Member LyricsNo transcribedYou might also like...         __label__en   \n",
       "1  Robot Wars LyricsNow begins the robot wars\\nKi...         __label__en   \n",
       "2  My Name Is Robert LyricsWhere is your granfath...         __label__en   \n",
       "3  Upghostery LyricsLet's pretend\\nThat this hous...         __label__en   \n",
       "4  Night Walk LyricsTrail,\\nall across the night\\...         __label__en   \n",
       "\n",
       "   top_lang_identified_prob  \\\n",
       "0                  0.971269   \n",
       "1                  0.904678   \n",
       "2                  0.981228   \n",
       "3                  0.948391   \n",
       "4                  0.873355   \n",
       "\n",
       "                                regex_cleaned_lyrics  \\\n",
       "0             No transcribedYou might also likeEmbed   \n",
       "1  Now begins the robot wars\\nKill all humans wit...   \n",
       "2  Where is your granfather?\\nI have no granfathe...   \n",
       "3  Let's pretend\\nThat this house is ours\\nThat y...   \n",
       "4  Trail,\\nall across the night\\nwith the radio o...   \n",
       "\n",
       "                                    tokenized_lyrics  token_cnt  \n",
       "0       [no, transcribedyou, might, also, likeembed]          5  \n",
       "1  [now, begins, the, robot, wars, kill, all, hum...         14  \n",
       "2  [where, is, your, granfather, have, no, granfa...         27  \n",
       "3  [let, pretend, that, this, house, is, ours, th...         30  \n",
       "4  [trail, all, across, the, night, with, the, ra...         42  "
      ]
     },
     "execution_count": 21,
     "metadata": {},
     "output_type": "execute_result"
    }
   ],
   "source": [
    "trackLyricsFeaturesEnglishTopGenreSorted = trackLyricsFeaturesEnglishTopGenre.sort_values(by=[\"genre\",\"token_cnt\"], ignore_index=True)\n",
    "trackLyricsFeaturesEnglishTopGenreSorted.head()"
   ]
  },
  {
   "cell_type": "markdown",
   "metadata": {
    "slideshow": {
     "slide_type": "slide"
    }
   },
   "source": [
    "Retain the songs with greater token count for Rock and Electronic genres and all songs for the other genres"
   ]
  },
  {
   "cell_type": "code",
   "execution_count": 22,
   "metadata": {
    "slideshow": {
     "slide_type": "subslide"
    }
   },
   "outputs": [
    {
     "data": {
      "text/html": [
       "<div>\n",
       "<style scoped>\n",
       "    .dataframe tbody tr th:only-of-type {\n",
       "        vertical-align: middle;\n",
       "    }\n",
       "\n",
       "    .dataframe tbody tr th {\n",
       "        vertical-align: top;\n",
       "    }\n",
       "\n",
       "    .dataframe thead th {\n",
       "        text-align: right;\n",
       "    }\n",
       "</style>\n",
       "<table border=\"1\" class=\"dataframe\">\n",
       "  <thead>\n",
       "    <tr style=\"text-align: right;\">\n",
       "      <th></th>\n",
       "      <th>id</th>\n",
       "      <th>track</th>\n",
       "      <th>trackArtist</th>\n",
       "      <th>genre</th>\n",
       "      <th>lyrics</th>\n",
       "      <th>top_lang_identified</th>\n",
       "      <th>top_lang_identified_prob</th>\n",
       "      <th>regex_cleaned_lyrics</th>\n",
       "      <th>tokenized_lyrics</th>\n",
       "      <th>token_cnt</th>\n",
       "    </tr>\n",
       "  </thead>\n",
       "  <tbody>\n",
       "    <tr>\n",
       "      <th>0</th>\n",
       "      <td>127936</td>\n",
       "      <td>Armageddon</td>\n",
       "      <td>Synapsis</td>\n",
       "      <td>Electronic</td>\n",
       "      <td>Elektro Lyrics[Verse One]\\nRight from the intr...</td>\n",
       "      <td>__label__en</td>\n",
       "      <td>0.910224</td>\n",
       "      <td>\\nRight from the intro\\nThe God opens your ear...</td>\n",
       "      <td>[right, from, the, intro, the, god, opens, you...</td>\n",
       "      <td>637</td>\n",
       "    </tr>\n",
       "    <tr>\n",
       "      <th>1</th>\n",
       "      <td>52632</td>\n",
       "      <td>Boom</td>\n",
       "      <td>Jason Shaw</td>\n",
       "      <td>Electronic</td>\n",
       "      <td>Cali Shit Lyrics[Verse 1: J-Easie]\\nStay true ...</td>\n",
       "      <td>__label__en</td>\n",
       "      <td>0.927561</td>\n",
       "      <td>\\nStay true to my sound I'm just the same\\nI s...</td>\n",
       "      <td>[stay, true, to, my, sound, just, the, same, s...</td>\n",
       "      <td>638</td>\n",
       "    </tr>\n",
       "    <tr>\n",
       "      <th>2</th>\n",
       "      <td>99309</td>\n",
       "      <td>Trapped in a Single Celled Organism</td>\n",
       "      <td>Ample Mammal</td>\n",
       "      <td>Electronic</td>\n",
       "      <td>Liquid Meets Land Lyrics[Andrew Bagadounts, Il...</td>\n",
       "      <td>__label__en</td>\n",
       "      <td>0.904999</td>\n",
       "      <td>\\nFluid, raging flood\\nWrote my name in blood ...</td>\n",
       "      <td>[fluid, raging, flood, wrote, my, name, in, bl...</td>\n",
       "      <td>638</td>\n",
       "    </tr>\n",
       "    <tr>\n",
       "      <th>3</th>\n",
       "      <td>97992</td>\n",
       "      <td>Through Your Chest</td>\n",
       "      <td>Ant The Symbol</td>\n",
       "      <td>Electronic</td>\n",
       "      <td>Dungeons and Dragons Lyrics[Verse 1: Slug]\\nKi...</td>\n",
       "      <td>__label__en</td>\n",
       "      <td>0.929616</td>\n",
       "      <td>\\nKinetic responses were heard frequent in the...</td>\n",
       "      <td>[kinetic, responses, were, heard, frequent, in...</td>\n",
       "      <td>640</td>\n",
       "    </tr>\n",
       "    <tr>\n",
       "      <th>4</th>\n",
       "      <td>112381</td>\n",
       "      <td>Blank Letter to God</td>\n",
       "      <td>statusq</td>\n",
       "      <td>Electronic</td>\n",
       "      <td>Automatic Systematic Lyrics()\\nAutomatic syste...</td>\n",
       "      <td>__label__en</td>\n",
       "      <td>0.854843</td>\n",
       "      <td>\\nAutomatic systematic\\nI used to know the liv...</td>\n",
       "      <td>[automatic, systematic, used, to, know, the, l...</td>\n",
       "      <td>640</td>\n",
       "    </tr>\n",
       "  </tbody>\n",
       "</table>\n",
       "</div>"
      ],
      "text/plain": [
       "       id                                track     trackArtist       genre  \\\n",
       "0  127936                           Armageddon        Synapsis  Electronic   \n",
       "1   52632                                 Boom      Jason Shaw  Electronic   \n",
       "2   99309  Trapped in a Single Celled Organism    Ample Mammal  Electronic   \n",
       "3   97992                   Through Your Chest  Ant The Symbol  Electronic   \n",
       "4  112381                  Blank Letter to God         statusq  Electronic   \n",
       "\n",
       "                                              lyrics top_lang_identified  \\\n",
       "0  Elektro Lyrics[Verse One]\\nRight from the intr...         __label__en   \n",
       "1  Cali Shit Lyrics[Verse 1: J-Easie]\\nStay true ...         __label__en   \n",
       "2  Liquid Meets Land Lyrics[Andrew Bagadounts, Il...         __label__en   \n",
       "3  Dungeons and Dragons Lyrics[Verse 1: Slug]\\nKi...         __label__en   \n",
       "4  Automatic Systematic Lyrics()\\nAutomatic syste...         __label__en   \n",
       "\n",
       "   top_lang_identified_prob  \\\n",
       "0                  0.910224   \n",
       "1                  0.927561   \n",
       "2                  0.904999   \n",
       "3                  0.929616   \n",
       "4                  0.854843   \n",
       "\n",
       "                                regex_cleaned_lyrics  \\\n",
       "0  \\nRight from the intro\\nThe God opens your ear...   \n",
       "1  \\nStay true to my sound I'm just the same\\nI s...   \n",
       "2  \\nFluid, raging flood\\nWrote my name in blood ...   \n",
       "3  \\nKinetic responses were heard frequent in the...   \n",
       "4  \\nAutomatic systematic\\nI used to know the liv...   \n",
       "\n",
       "                                    tokenized_lyrics  token_cnt  \n",
       "0  [right, from, the, intro, the, god, opens, you...        637  \n",
       "1  [stay, true, to, my, sound, just, the, same, s...        638  \n",
       "2  [fluid, raging, flood, wrote, my, name, in, bl...        638  \n",
       "3  [kinetic, responses, were, heard, frequent, in...        640  \n",
       "4  [automatic, systematic, used, to, know, the, l...        640  "
      ]
     },
     "execution_count": 22,
     "metadata": {},
     "output_type": "execute_result"
    }
   ],
   "source": [
    "trackLyricsFeaturesEnglishTopGenreReduced = pd.DataFrame()\n",
    "\n",
    "for genre in classes_to_reduce:\n",
    "    data = trackLyricsFeaturesEnglishTopGenreSorted[trackLyricsFeaturesEnglishTopGenreSorted[\"genre\"]==genre]\n",
    "    data = data[rows_to_reduce[genre]:]\n",
    "    trackLyricsFeaturesEnglishTopGenreReduced = pd.concat([data,trackLyricsFeaturesEnglishTopGenreReduced])\n",
    "\n",
    "for genre in classes_unchanged:\n",
    "    data = trackLyricsFeaturesEnglishTopGenreSorted[trackLyricsFeaturesEnglishTopGenreSorted[\"genre\"]==genre]\n",
    "    trackLyricsFeaturesEnglishTopGenreReduced = pd.concat([data,trackLyricsFeaturesEnglishTopGenreReduced])\n",
    "\n",
    "trackLyricsFeaturesEnglishTopGenreReduced = trackLyricsFeaturesEnglishTopGenreReduced.sort_values(by=[\"genre\",\"token_cnt\"], ignore_index=True)\n",
    "\n",
    "trackLyricsFeaturesEnglishTopGenreReduced.head()\n",
    "        "
   ]
  },
  {
   "cell_type": "markdown",
   "metadata": {
    "slideshow": {
     "slide_type": "slide"
    }
   },
   "source": [
    "We can see that the dataset has lower levels of imbalance"
   ]
  },
  {
   "cell_type": "code",
   "execution_count": 23,
   "metadata": {
    "slideshow": {
     "slide_type": "subslide"
    }
   },
   "outputs": [
    {
     "data": {
      "text/plain": [
       "Rock            1911\n",
       "Electronic      1596\n",
       "Hip-Hop          832\n",
       "Experimental     809\n",
       "Folk             806\n",
       "Pop              607\n",
       "Instrumental     583\n",
       "Name: genre, dtype: int64"
      ]
     },
     "execution_count": 23,
     "metadata": {},
     "output_type": "execute_result"
    }
   ],
   "source": [
    "trackLyricsFeaturesEnglishTopGenreReduced[\"genre\"].value_counts()"
   ]
  },
  {
   "cell_type": "markdown",
   "metadata": {
    "slideshow": {
     "slide_type": "slide"
    }
   },
   "source": [
    "Save the data"
   ]
  },
  {
   "cell_type": "code",
   "execution_count": 26,
   "metadata": {
    "slideshow": {
     "slide_type": "subslide"
    }
   },
   "outputs": [],
   "source": [
    "trackLyricsFeaturesEnglishTopGenreReduced.iloc[:,:-1].to_csv('./tracksLyricFeatures/tracksLyricFeaturesTokenzised.csv', encoding=\"utf8\", index=False)"
   ]
  },
  {
   "cell_type": "markdown",
   "metadata": {
    "slideshow": {
     "slide_type": "slide"
    }
   },
   "source": [
    "This data will now be used to the train the Word2Vec CBOW dictionary in the next notebook"
   ]
  }
 ],
 "metadata": {
  "celltoolbar": "Slideshow",
  "kernelspec": {
   "display_name": "Python 3 (ipykernel)",
   "language": "python",
   "name": "python3"
  },
  "language_info": {
   "codemirror_mode": {
    "name": "ipython",
    "version": 3
   },
   "file_extension": ".py",
   "mimetype": "text/x-python",
   "name": "python",
   "nbconvert_exporter": "python",
   "pygments_lexer": "ipython3",
   "version": "3.9.7"
  },
  "vscode": {
   "interpreter": {
    "hash": "4699a25f376d65a513f5cdbbe338e0837a12cbc5eae8a3725f0e413f2e7c51eb"
   }
  }
 },
 "nbformat": 4,
 "nbformat_minor": 2
}
