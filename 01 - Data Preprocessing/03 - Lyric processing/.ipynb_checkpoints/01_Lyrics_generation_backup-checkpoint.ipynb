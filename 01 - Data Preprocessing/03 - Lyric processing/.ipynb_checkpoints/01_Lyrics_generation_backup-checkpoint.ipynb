{
 "cells": [
  {
   "cell_type": "markdown",
   "metadata": {
    "slideshow": {
     "slide_type": "slide"
    }
   },
   "source": [
    "# Notebook to create the lyrics dataset for the songs in the FMA music dataset using the LyricsGenius API"
   ]
  },
  {
   "cell_type": "code",
   "execution_count": 1,
   "metadata": {
    "slideshow": {
     "slide_type": "subslide"
    }
   },
   "outputs": [],
   "source": [
    "from dotenv import load_dotenv\n",
    "import os\n",
    "import spotipy\n",
    "from spotipy.oauth2 import SpotifyClientCredentials\n",
    "import pandas as pd\n",
    "import requests\n",
    "import json\n",
    "import pandas as pd\n",
    "from lyricsgenius import Genius\n",
    "from requests.exceptions import Timeout\n",
    "from tqdm import tqdm\n",
    "import time"
   ]
  },
  {
   "cell_type": "code",
   "execution_count": 2,
   "metadata": {
    "slideshow": {
     "slide_type": "subslide"
    }
   },
   "outputs": [],
   "source": [
    "#secret variables\n",
    "\n",
    "load_dotenv()\n",
    "\n",
    "SPOT_ID= os.getenv('SPOT_ID')\n",
    "SPOT_SECRET= os.getenv('SPOT_SECRET')\n",
    "LYRIC_TOKEN= os.getenv('LYRIC_TOKEN')\n"
   ]
  },
  {
   "cell_type": "code",
   "execution_count": 3,
   "metadata": {
    "slideshow": {
     "slide_type": "subslide"
    }
   },
   "outputs": [],
   "source": [
    "genius = Genius(LYRIC_TOKEN,skip_non_songs=True, excluded_terms=[\"(Remix)\", \"(Live)\"], timeout=60,retries=2, verbose=False)\n"
   ]
  },
  {
   "cell_type": "markdown",
   "metadata": {
    "slideshow": {
     "slide_type": "slide"
    }
   },
   "source": [
    "Loading songs metadata to get the name of the song and artist needed to find the lyrics using the API"
   ]
  },
  {
   "cell_type": "code",
   "execution_count": 4,
   "metadata": {
    "slideshow": {
     "slide_type": "subslide"
    }
   },
   "outputs": [],
   "source": [
    "tracksMetaData = pd.read_csv('tracksMetaData.csv')\n"
   ]
  },
  {
   "cell_type": "code",
   "execution_count": 5,
   "metadata": {
    "slideshow": {
     "slide_type": "subslide"
    }
   },
   "outputs": [
    {
     "data": {
      "text/html": [
       "<div>\n",
       "<style scoped>\n",
       "    .dataframe tbody tr th:only-of-type {\n",
       "        vertical-align: middle;\n",
       "    }\n",
       "\n",
       "    .dataframe tbody tr th {\n",
       "        vertical-align: top;\n",
       "    }\n",
       "\n",
       "    .dataframe thead th {\n",
       "        text-align: right;\n",
       "    }\n",
       "</style>\n",
       "<table border=\"1\" class=\"dataframe\">\n",
       "  <thead>\n",
       "    <tr style=\"text-align: right;\">\n",
       "      <th></th>\n",
       "      <th>id</th>\n",
       "      <th>trackName</th>\n",
       "      <th>genre</th>\n",
       "      <th>trackArtist</th>\n",
       "    </tr>\n",
       "  </thead>\n",
       "  <tbody>\n",
       "    <tr>\n",
       "      <th>0</th>\n",
       "      <td>2</td>\n",
       "      <td>Food</td>\n",
       "      <td>Hip-Hop</td>\n",
       "      <td>AWOL</td>\n",
       "    </tr>\n",
       "    <tr>\n",
       "      <th>1</th>\n",
       "      <td>5</td>\n",
       "      <td>This World</td>\n",
       "      <td>Hip-Hop</td>\n",
       "      <td>AWOL</td>\n",
       "    </tr>\n",
       "    <tr>\n",
       "      <th>2</th>\n",
       "      <td>10</td>\n",
       "      <td>Freeway</td>\n",
       "      <td>Pop</td>\n",
       "      <td>Kurt Vile</td>\n",
       "    </tr>\n",
       "    <tr>\n",
       "      <th>3</th>\n",
       "      <td>140</td>\n",
       "      <td>Queen Of The Wires</td>\n",
       "      <td>Folk</td>\n",
       "      <td>Alec K. Redfearn &amp; the Eyesores</td>\n",
       "    </tr>\n",
       "    <tr>\n",
       "      <th>4</th>\n",
       "      <td>141</td>\n",
       "      <td>Ohio</td>\n",
       "      <td>Folk</td>\n",
       "      <td>Alec K. Redfearn &amp; the Eyesores</td>\n",
       "    </tr>\n",
       "  </tbody>\n",
       "</table>\n",
       "</div>"
      ],
      "text/plain": [
       "    id           trackName    genre                      trackArtist\n",
       "0    2                Food  Hip-Hop                             AWOL\n",
       "1    5          This World  Hip-Hop                             AWOL\n",
       "2   10             Freeway      Pop                        Kurt Vile\n",
       "3  140  Queen Of The Wires     Folk  Alec K. Redfearn & the Eyesores\n",
       "4  141                Ohio     Folk  Alec K. Redfearn & the Eyesores"
      ]
     },
     "execution_count": 5,
     "metadata": {},
     "output_type": "execute_result"
    }
   ],
   "source": [
    "tracksMetaData.head()"
   ]
  },
  {
   "cell_type": "markdown",
   "metadata": {
    "slideshow": {
     "slide_type": "slide"
    }
   },
   "source": [
    "Functions to make the API calls and save the data in local\n",
    "The functions ensure that we collect the data in batches with breaks in between since this is a time taking process where the server might sever the connection if kept alive continuously for longer durations"
   ]
  },
  {
   "cell_type": "code",
   "execution_count": 4,
   "metadata": {
    "slideshow": {
     "slide_type": "subslide"
    }
   },
   "outputs": [],
   "source": [
    "def lyricExtractor(seg1,seg2):\n",
    "\n",
    "    data = pd.DataFrame()\n",
    "    cnt = 0\n",
    "    for index, row in tqdm(tracksMetaData[seg1:seg2].iterrows()):\n",
    "        df = pd.DataFrame()\n",
    "        res = genius.search_song(title=row['trackName'], artist=row['trackArtist'])\n",
    "        df['id'] = [row['id']]\n",
    "        df['track'] = row['trackName']\n",
    "        df['trackArtist'] = row['trackArtist']\n",
    "        df['genre'] = row['genre']\n",
    "        if res != None:\n",
    "            df['lyrics'] = [res.lyrics]\n",
    "        else:\n",
    "            df['lyrics'] = None\n",
    "            cnt = cnt + 1 \n",
    "        data = pd.concat([data,df])\n",
    "    print('Number of missed lyrics ',cnt)\n",
    "    return data"
   ]
  },
  {
   "cell_type": "markdown",
   "metadata": {
    "slideshow": {
     "slide_type": "slide"
    }
   },
   "source": [
    "The saveFiles() function was used with the FMA Small dataset that has ~8k songs to be queried but was modified later to include breaks between batches when working with the medium dataset which is more than 3X the size of the small datasets at 25k songs. The modified function is given further down in the notebook and is named as saveFiles_medium() function"
   ]
  },
  {
   "cell_type": "code",
   "execution_count": 7,
   "metadata": {
    "slideshow": {
     "slide_type": "subslide"
    }
   },
   "outputs": [],
   "source": [
    "def saveFiles(startPart,endPart,segmentName):\n",
    "    \n",
    "    for i in range(startPart,endPart):\n",
    "        print('Starting Part '+ str(i) +' from '+str(i*1000) +' to ' + str((i+1)*1000))\n",
    "        data = lyricExtractor(i*1000,(i+1)*1000)\n",
    "        data.to_csv('tracksLyricFeatures/tracksLyricFeatures_'+segmentName+'_part_'+str(i)+'.csv')\n",
    "        print('Finished Part '+ str(i))\n",
    "        print('Saved as '+ 'tracksLyricFeatures/tracksLyricFeatures_'+segmentName+'_part_'+str(i)+'.csv')"
   ]
  },
  {
   "cell_type": "code",
   "execution_count": 8,
   "metadata": {
    "slideshow": {
     "slide_type": "subslide"
    }
   },
   "outputs": [
    {
     "name": "stdout",
     "output_type": "stream",
     "text": [
      "Starting Part 0 from 0 to 1000\n"
     ]
    },
    {
     "name": "stderr",
     "output_type": "stream",
     "text": [
      "1000it [22:31,  1.35s/it]\n"
     ]
    },
    {
     "name": "stdout",
     "output_type": "stream",
     "text": [
      "Number of missed lyrics  409\n",
      "Finished Part 0\n",
      "Saved as tracksLyricFeatures/tracksLyricFeatures_segment01_part_0.csv\n"
     ]
    }
   ],
   "source": [
    "saveFiles(0,1,'segment01')"
   ]
  },
  {
   "cell_type": "code",
   "execution_count": 8,
   "metadata": {
    "slideshow": {
     "slide_type": "subslide"
    }
   },
   "outputs": [
    {
     "name": "stdout",
     "output_type": "stream",
     "text": [
      "Starting Part 1 from 1000 to 2000\n"
     ]
    },
    {
     "name": "stderr",
     "output_type": "stream",
     "text": [
      "1000it [17:07,  1.03s/it]\n"
     ]
    },
    {
     "name": "stdout",
     "output_type": "stream",
     "text": [
      "Number of missed lyrics  492\n",
      "Finished Part 1\n",
      "Saved as tracksLyricFeatures/tracksLyricFeatures_segment02_part_1.csv\n",
      "Starting Part 2 from 2000 to 3000\n"
     ]
    },
    {
     "name": "stderr",
     "output_type": "stream",
     "text": [
      "1000it [19:40,  1.18s/it]\n"
     ]
    },
    {
     "name": "stdout",
     "output_type": "stream",
     "text": [
      "Number of missed lyrics  480\n",
      "Finished Part 2\n",
      "Saved as tracksLyricFeatures/tracksLyricFeatures_segment02_part_2.csv\n",
      "Starting Part 3 from 3000 to 4000\n"
     ]
    },
    {
     "name": "stderr",
     "output_type": "stream",
     "text": [
      "1000it [20:06,  1.21s/it]\n"
     ]
    },
    {
     "name": "stdout",
     "output_type": "stream",
     "text": [
      "Number of missed lyrics  466\n",
      "Finished Part 3\n",
      "Saved as tracksLyricFeatures/tracksLyricFeatures_segment02_part_3.csv\n"
     ]
    }
   ],
   "source": [
    "saveFiles(1,4,'segment02')"
   ]
  },
  {
   "cell_type": "code",
   "execution_count": 9,
   "metadata": {
    "slideshow": {
     "slide_type": "subslide"
    }
   },
   "outputs": [
    {
     "name": "stdout",
     "output_type": "stream",
     "text": [
      "Starting Part 4 from 4000 to 5000\n"
     ]
    },
    {
     "name": "stderr",
     "output_type": "stream",
     "text": [
      "1000it [19:30,  1.17s/it]\n"
     ]
    },
    {
     "name": "stdout",
     "output_type": "stream",
     "text": [
      "Number of missed lyrics  477\n",
      "Finished Part 4\n",
      "Saved as tracksLyricFeatures/tracksLyricFeatures_segment03_part_4.csv\n",
      "Starting Part 5 from 5000 to 6000\n"
     ]
    },
    {
     "name": "stderr",
     "output_type": "stream",
     "text": [
      "1000it [20:27,  1.23s/it]\n"
     ]
    },
    {
     "name": "stdout",
     "output_type": "stream",
     "text": [
      "Number of missed lyrics  430\n",
      "Finished Part 5\n",
      "Saved as tracksLyricFeatures/tracksLyricFeatures_segment03_part_5.csv\n",
      "Starting Part 6 from 6000 to 7000\n"
     ]
    },
    {
     "name": "stderr",
     "output_type": "stream",
     "text": [
      "1000it [19:09,  1.15s/it]\n"
     ]
    },
    {
     "name": "stdout",
     "output_type": "stream",
     "text": [
      "Number of missed lyrics  427\n",
      "Finished Part 6\n",
      "Saved as tracksLyricFeatures/tracksLyricFeatures_segment03_part_6.csv\n",
      "Starting Part 7 from 7000 to 8000\n"
     ]
    },
    {
     "name": "stderr",
     "output_type": "stream",
     "text": [
      "1000it [18:34,  1.11s/it]\n"
     ]
    },
    {
     "name": "stdout",
     "output_type": "stream",
     "text": [
      "Number of missed lyrics  468\n",
      "Finished Part 7\n",
      "Saved as tracksLyricFeatures/tracksLyricFeatures_segment03_part_7.csv\n"
     ]
    }
   ],
   "source": [
    "saveFiles(4,8,'segment03')"
   ]
  },
  {
   "cell_type": "markdown",
   "metadata": {
    "slideshow": {
     "slide_type": "subslide"
    }
   },
   "source": [
    "Missed Lyrics - 3649/7999 = 45%"
   ]
  },
  {
   "cell_type": "markdown",
   "metadata": {
    "slideshow": {
     "slide_type": "slide"
    }
   },
   "source": [
    "This is the version of the saveFiles() function above used with considerably bigger medium dataset"
   ]
  },
  {
   "cell_type": "code",
   "execution_count": 5,
   "metadata": {
    "slideshow": {
     "slide_type": "subslide"
    }
   },
   "outputs": [],
   "source": [
    "def saveFiles_medium(startPart,endPart,segmentName):\n",
    "    \n",
    "    for i in range(startPart,endPart):\n",
    "        print('Starting Part '+ str(i) +' from '+str(i*1000) +' to ' + str((i+1)*1000))\n",
    "        data = lyricExtractor(i*1000,(i+1)*1000)\n",
    "        data.to_csv('tracksLyricFeaturesMedium/tracksLyricFeatures_'+segmentName+'_part_'+str(i)+'.csv')\n",
    "        print('Finished Part '+ str(i))\n",
    "        print('Saved as '+ 'tracksLyricFeaturesMedium/tracksLyricFeatures_'+segmentName+'_part_'+str(i)+'.csv')\n",
    "        time.sleep(600)"
   ]
  },
  {
   "cell_type": "code",
   "execution_count": 7,
   "metadata": {
    "slideshow": {
     "slide_type": "subslide"
    }
   },
   "outputs": [],
   "source": [
    "tracksMetaData = pd.read_csv('tracksMetaDataMedium.csv')"
   ]
  },
  {
   "cell_type": "code",
   "execution_count": 8,
   "metadata": {
    "slideshow": {
     "slide_type": "subslide"
    }
   },
   "outputs": [
    {
     "data": {
      "text/html": [
       "<div>\n",
       "<style scoped>\n",
       "    .dataframe tbody tr th:only-of-type {\n",
       "        vertical-align: middle;\n",
       "    }\n",
       "\n",
       "    .dataframe tbody tr th {\n",
       "        vertical-align: top;\n",
       "    }\n",
       "\n",
       "    .dataframe thead th {\n",
       "        text-align: right;\n",
       "    }\n",
       "</style>\n",
       "<table border=\"1\" class=\"dataframe\">\n",
       "  <thead>\n",
       "    <tr style=\"text-align: right;\">\n",
       "      <th></th>\n",
       "      <th>id</th>\n",
       "      <th>trackName</th>\n",
       "      <th>genre</th>\n",
       "      <th>trackArtist</th>\n",
       "    </tr>\n",
       "  </thead>\n",
       "  <tbody>\n",
       "    <tr>\n",
       "      <th>0</th>\n",
       "      <td>2</td>\n",
       "      <td>Food</td>\n",
       "      <td>Hip-Hop</td>\n",
       "      <td>AWOL</td>\n",
       "    </tr>\n",
       "    <tr>\n",
       "      <th>1</th>\n",
       "      <td>3</td>\n",
       "      <td>Electric Ave</td>\n",
       "      <td>Hip-Hop</td>\n",
       "      <td>AWOL</td>\n",
       "    </tr>\n",
       "    <tr>\n",
       "      <th>2</th>\n",
       "      <td>5</td>\n",
       "      <td>This World</td>\n",
       "      <td>Hip-Hop</td>\n",
       "      <td>AWOL</td>\n",
       "    </tr>\n",
       "    <tr>\n",
       "      <th>3</th>\n",
       "      <td>10</td>\n",
       "      <td>Freeway</td>\n",
       "      <td>Pop</td>\n",
       "      <td>Kurt Vile</td>\n",
       "    </tr>\n",
       "    <tr>\n",
       "      <th>4</th>\n",
       "      <td>134</td>\n",
       "      <td>Street Music</td>\n",
       "      <td>Hip-Hop</td>\n",
       "      <td>AWOL</td>\n",
       "    </tr>\n",
       "  </tbody>\n",
       "</table>\n",
       "</div>"
      ],
      "text/plain": [
       "    id     trackName    genre trackArtist\n",
       "0    2          Food  Hip-Hop        AWOL\n",
       "1    3  Electric Ave  Hip-Hop        AWOL\n",
       "2    5    This World  Hip-Hop        AWOL\n",
       "3   10       Freeway      Pop   Kurt Vile\n",
       "4  134  Street Music  Hip-Hop        AWOL"
      ]
     },
     "execution_count": 8,
     "metadata": {},
     "output_type": "execute_result"
    }
   ],
   "source": [
    "tracksMetaData.head()"
   ]
  },
  {
   "cell_type": "code",
   "execution_count": 9,
   "metadata": {
    "slideshow": {
     "slide_type": "subslide"
    }
   },
   "outputs": [
    {
     "data": {
      "text/plain": [
       "(25000, 4)"
      ]
     },
     "execution_count": 9,
     "metadata": {},
     "output_type": "execute_result"
    }
   ],
   "source": [
    "tracksMetaData.shape"
   ]
  },
  {
   "cell_type": "code",
   "execution_count": 20,
   "metadata": {
    "slideshow": {
     "slide_type": "subslide"
    }
   },
   "outputs": [
    {
     "name": "stdout",
     "output_type": "stream",
     "text": [
      "Starting Part 0 from 0 to 1000\n"
     ]
    },
    {
     "name": "stderr",
     "output_type": "stream",
     "text": [
      "1000it [22:55,  1.38s/it]\n"
     ]
    },
    {
     "name": "stdout",
     "output_type": "stream",
     "text": [
      "Number of missed lyrics  305\n",
      "Finished Part 0\n",
      "Saved as tracksLyricFeaturesMedium/tracksLyricFeatures_segment01_part_0.csv\n"
     ]
    }
   ],
   "source": [
    "saveFiles_medium(0,1,'segment01')"
   ]
  },
  {
   "cell_type": "code",
   "execution_count": 21,
   "metadata": {
    "slideshow": {
     "slide_type": "subslide"
    }
   },
   "outputs": [
    {
     "name": "stdout",
     "output_type": "stream",
     "text": [
      "Starting Part 1 from 1000 to 2000\n"
     ]
    },
    {
     "name": "stderr",
     "output_type": "stream",
     "text": [
      "1000it [57:49,  3.47s/it]\n"
     ]
    },
    {
     "name": "stdout",
     "output_type": "stream",
     "text": [
      "Number of missed lyrics  393\n",
      "Finished Part 1\n",
      "Saved as tracksLyricFeaturesMedium/tracksLyricFeatures_segment02_part_1.csv\n",
      "Starting Part 2 from 2000 to 3000\n"
     ]
    },
    {
     "name": "stderr",
     "output_type": "stream",
     "text": [
      "1000it [20:20,  1.22s/it]\n"
     ]
    },
    {
     "name": "stdout",
     "output_type": "stream",
     "text": [
      "Number of missed lyrics  474\n",
      "Finished Part 2\n",
      "Saved as tracksLyricFeaturesMedium/tracksLyricFeatures_segment02_part_2.csv\n",
      "Starting Part 3 from 3000 to 4000\n"
     ]
    },
    {
     "name": "stderr",
     "output_type": "stream",
     "text": [
      "1000it [19:29,  1.17s/it]\n"
     ]
    },
    {
     "name": "stdout",
     "output_type": "stream",
     "text": [
      "Number of missed lyrics  485\n",
      "Finished Part 3\n",
      "Saved as tracksLyricFeaturesMedium/tracksLyricFeatures_segment02_part_3.csv\n",
      "Starting Part 4 from 4000 to 5000\n"
     ]
    },
    {
     "name": "stderr",
     "output_type": "stream",
     "text": [
      "1000it [18:05,  1.09s/it]\n"
     ]
    },
    {
     "name": "stdout",
     "output_type": "stream",
     "text": [
      "Number of missed lyrics  552\n",
      "Finished Part 4\n",
      "Saved as tracksLyricFeaturesMedium/tracksLyricFeatures_segment02_part_4.csv\n",
      "Starting Part 5 from 5000 to 6000\n"
     ]
    },
    {
     "name": "stderr",
     "output_type": "stream",
     "text": [
      "1000it [20:04,  1.20s/it]\n"
     ]
    },
    {
     "name": "stdout",
     "output_type": "stream",
     "text": [
      "Number of missed lyrics  498\n",
      "Finished Part 5\n",
      "Saved as tracksLyricFeaturesMedium/tracksLyricFeatures_segment02_part_5.csv\n",
      "Starting Part 6 from 6000 to 7000\n"
     ]
    },
    {
     "name": "stderr",
     "output_type": "stream",
     "text": [
      "1000it [17:52,  1.07s/it]\n"
     ]
    },
    {
     "name": "stdout",
     "output_type": "stream",
     "text": [
      "Number of missed lyrics  487\n",
      "Finished Part 6\n",
      "Saved as tracksLyricFeaturesMedium/tracksLyricFeatures_segment02_part_6.csv\n",
      "Starting Part 7 from 7000 to 8000\n"
     ]
    },
    {
     "name": "stderr",
     "output_type": "stream",
     "text": [
      "1000it [19:33,  1.17s/it]\n"
     ]
    },
    {
     "name": "stdout",
     "output_type": "stream",
     "text": [
      "Number of missed lyrics  430\n",
      "Finished Part 7\n",
      "Saved as tracksLyricFeaturesMedium/tracksLyricFeatures_segment02_part_7.csv\n",
      "Starting Part 8 from 8000 to 9000\n"
     ]
    },
    {
     "name": "stderr",
     "output_type": "stream",
     "text": [
      "1000it [19:14,  1.15s/it]\n"
     ]
    },
    {
     "name": "stdout",
     "output_type": "stream",
     "text": [
      "Number of missed lyrics  421\n",
      "Finished Part 8\n",
      "Saved as tracksLyricFeaturesMedium/tracksLyricFeatures_segment02_part_8.csv\n",
      "Starting Part 9 from 9000 to 10000\n"
     ]
    },
    {
     "name": "stderr",
     "output_type": "stream",
     "text": [
      "1000it [17:15,  1.04s/it]\n"
     ]
    },
    {
     "name": "stdout",
     "output_type": "stream",
     "text": [
      "Number of missed lyrics  529\n",
      "Finished Part 9\n",
      "Saved as tracksLyricFeaturesMedium/tracksLyricFeatures_segment02_part_9.csv\n"
     ]
    }
   ],
   "source": [
    "saveFiles_medium(1,10,'segment02')"
   ]
  },
  {
   "cell_type": "code",
   "execution_count": 22,
   "metadata": {
    "slideshow": {
     "slide_type": "subslide"
    }
   },
   "outputs": [
    {
     "name": "stdout",
     "output_type": "stream",
     "text": [
      "Starting Part 10 from 10000 to 11000\n"
     ]
    },
    {
     "name": "stderr",
     "output_type": "stream",
     "text": [
      "1000it [17:14,  1.03s/it]\n"
     ]
    },
    {
     "name": "stdout",
     "output_type": "stream",
     "text": [
      "Number of missed lyrics  487\n",
      "Finished Part 10\n",
      "Saved as tracksLyricFeaturesMedium/tracksLyricFeatures_segment03_part_10.csv\n",
      "Starting Part 11 from 11000 to 12000\n"
     ]
    },
    {
     "name": "stderr",
     "output_type": "stream",
     "text": [
      "1000it [18:13,  1.09s/it]\n"
     ]
    },
    {
     "name": "stdout",
     "output_type": "stream",
     "text": [
      "Number of missed lyrics  465\n",
      "Finished Part 11\n",
      "Saved as tracksLyricFeaturesMedium/tracksLyricFeatures_segment03_part_11.csv\n",
      "Starting Part 12 from 12000 to 13000\n"
     ]
    },
    {
     "name": "stderr",
     "output_type": "stream",
     "text": [
      "1000it [18:29,  1.11s/it]\n"
     ]
    },
    {
     "name": "stdout",
     "output_type": "stream",
     "text": [
      "Number of missed lyrics  487\n",
      "Finished Part 12\n",
      "Saved as tracksLyricFeaturesMedium/tracksLyricFeatures_segment03_part_12.csv\n",
      "Starting Part 13 from 13000 to 14000\n"
     ]
    },
    {
     "name": "stderr",
     "output_type": "stream",
     "text": [
      "1000it [19:01,  1.14s/it]\n"
     ]
    },
    {
     "name": "stdout",
     "output_type": "stream",
     "text": [
      "Number of missed lyrics  470\n",
      "Finished Part 13\n",
      "Saved as tracksLyricFeaturesMedium/tracksLyricFeatures_segment03_part_13.csv\n",
      "Starting Part 14 from 14000 to 15000\n"
     ]
    },
    {
     "name": "stderr",
     "output_type": "stream",
     "text": [
      "1000it [19:44,  1.18s/it]\n"
     ]
    },
    {
     "name": "stdout",
     "output_type": "stream",
     "text": [
      "Number of missed lyrics  433\n",
      "Finished Part 14\n",
      "Saved as tracksLyricFeaturesMedium/tracksLyricFeatures_segment03_part_14.csv\n"
     ]
    }
   ],
   "source": [
    "saveFiles_medium(10,15,'segment03')"
   ]
  },
  {
   "cell_type": "code",
   "execution_count": 23,
   "metadata": {
    "slideshow": {
     "slide_type": "subslide"
    }
   },
   "outputs": [
    {
     "name": "stdout",
     "output_type": "stream",
     "text": [
      "Starting Part 15 from 15000 to 16000\n"
     ]
    },
    {
     "name": "stderr",
     "output_type": "stream",
     "text": [
      "1000it [17:18,  1.04s/it]\n"
     ]
    },
    {
     "name": "stdout",
     "output_type": "stream",
     "text": [
      "Number of missed lyrics  517\n",
      "Finished Part 15\n",
      "Saved as tracksLyricFeaturesMedium/tracksLyricFeatures_segment04_part_15.csv\n",
      "Starting Part 16 from 16000 to 17000\n"
     ]
    },
    {
     "name": "stderr",
     "output_type": "stream",
     "text": [
      "1000it [19:58,  1.20s/it]\n"
     ]
    },
    {
     "name": "stdout",
     "output_type": "stream",
     "text": [
      "Number of missed lyrics  411\n",
      "Finished Part 16\n",
      "Saved as tracksLyricFeaturesMedium/tracksLyricFeatures_segment04_part_16.csv\n",
      "Starting Part 17 from 17000 to 18000\n"
     ]
    },
    {
     "name": "stderr",
     "output_type": "stream",
     "text": [
      "1000it [18:59,  1.14s/it]\n"
     ]
    },
    {
     "name": "stdout",
     "output_type": "stream",
     "text": [
      "Number of missed lyrics  469\n",
      "Finished Part 17\n",
      "Saved as tracksLyricFeaturesMedium/tracksLyricFeatures_segment04_part_17.csv\n",
      "Starting Part 18 from 18000 to 19000\n"
     ]
    },
    {
     "name": "stderr",
     "output_type": "stream",
     "text": [
      "1000it [21:47,  1.31s/it]\n"
     ]
    },
    {
     "name": "stdout",
     "output_type": "stream",
     "text": [
      "Number of missed lyrics  357\n",
      "Finished Part 18\n",
      "Saved as tracksLyricFeaturesMedium/tracksLyricFeatures_segment04_part_18.csv\n",
      "Starting Part 19 from 19000 to 20000\n"
     ]
    },
    {
     "name": "stderr",
     "output_type": "stream",
     "text": [
      "1000it [20:32,  1.23s/it]\n"
     ]
    },
    {
     "name": "stdout",
     "output_type": "stream",
     "text": [
      "Number of missed lyrics  413\n",
      "Finished Part 19\n",
      "Saved as tracksLyricFeaturesMedium/tracksLyricFeatures_segment04_part_19.csv\n"
     ]
    }
   ],
   "source": [
    "saveFiles_medium(15,20,'segment04')"
   ]
  },
  {
   "cell_type": "code",
   "execution_count": 24,
   "metadata": {
    "slideshow": {
     "slide_type": "subslide"
    }
   },
   "outputs": [
    {
     "name": "stdout",
     "output_type": "stream",
     "text": [
      "Starting Part 20 from 20000 to 21000\n"
     ]
    },
    {
     "name": "stderr",
     "output_type": "stream",
     "text": [
      "1000it [21:02,  1.26s/it]\n"
     ]
    },
    {
     "name": "stdout",
     "output_type": "stream",
     "text": [
      "Number of missed lyrics  392\n",
      "Finished Part 20\n",
      "Saved as tracksLyricFeaturesMedium/tracksLyricFeatures_segment05_part_20.csv\n",
      "Starting Part 21 from 21000 to 22000\n"
     ]
    },
    {
     "name": "stderr",
     "output_type": "stream",
     "text": [
      "1000it [23:05,  1.39s/it]\n"
     ]
    },
    {
     "name": "stdout",
     "output_type": "stream",
     "text": [
      "Number of missed lyrics  472\n",
      "Finished Part 21\n",
      "Saved as tracksLyricFeaturesMedium/tracksLyricFeatures_segment05_part_21.csv\n",
      "Starting Part 22 from 22000 to 23000\n"
     ]
    },
    {
     "name": "stderr",
     "output_type": "stream",
     "text": [
      "1000it [21:56,  1.32s/it]\n"
     ]
    },
    {
     "name": "stdout",
     "output_type": "stream",
     "text": [
      "Number of missed lyrics  508\n",
      "Finished Part 22\n",
      "Saved as tracksLyricFeaturesMedium/tracksLyricFeatures_segment05_part_22.csv\n",
      "Starting Part 23 from 23000 to 24000\n"
     ]
    },
    {
     "name": "stderr",
     "output_type": "stream",
     "text": [
      "1000it [22:51,  1.37s/it]\n"
     ]
    },
    {
     "name": "stdout",
     "output_type": "stream",
     "text": [
      "Number of missed lyrics  421\n",
      "Finished Part 23\n",
      "Saved as tracksLyricFeaturesMedium/tracksLyricFeatures_segment05_part_23.csv\n"
     ]
    }
   ],
   "source": [
    "saveFiles_medium(20,25,'segment05')"
   ]
  },
  {
   "cell_type": "code",
   "execution_count": 10,
   "metadata": {
    "slideshow": {
     "slide_type": "subslide"
    }
   },
   "outputs": [
    {
     "name": "stdout",
     "output_type": "stream",
     "text": [
      "Starting Part 24 from 24000 to 25000\n"
     ]
    },
    {
     "name": "stderr",
     "output_type": "stream",
     "text": [
      "1000it [20:55,  1.26s/it]\n"
     ]
    },
    {
     "name": "stdout",
     "output_type": "stream",
     "text": [
      "Number of missed lyrics  442\n",
      "Finished Part 24\n",
      "Saved as tracksLyricFeaturesMedium/tracksLyricFeatures_segment06_part_24.csv\n"
     ]
    }
   ],
   "source": [
    "saveFiles_medium(24,25,'segment06')"
   ]
  },
  {
   "cell_type": "markdown",
   "metadata": {
    "slideshow": {
     "slide_type": "slide"
    }
   },
   "source": [
    "Concatenating the batches for FMA Small datasets"
   ]
  },
  {
   "cell_type": "code",
   "execution_count": 3,
   "metadata": {
    "slideshow": {
     "slide_type": "subslide"
    }
   },
   "outputs": [
    {
     "name": "stdout",
     "output_type": "stream",
     "text": [
      "filenames : ['tracksLyricFeatures_segment01_part_0.csv', 'tracksLyricFeatures_segment02_part_1.csv', 'tracksLyricFeatures_segment02_part_2.csv', 'tracksLyricFeatures_segment02_part_3.csv', 'tracksLyricFeatures_segment03_part_4.csv', 'tracksLyricFeatures_segment03_part_5.csv', 'tracksLyricFeatures_segment03_part_6.csv', 'tracksLyricFeatures_segment03_part_7.csv']\n"
     ]
    }
   ],
   "source": [
    "datasets = os.listdir('./tracksLyricFeatures')\n",
    "\n",
    "print(f\"filenames : {datasets}\")\n"
   ]
  },
  {
   "cell_type": "code",
   "execution_count": 9,
   "metadata": {
    "slideshow": {
     "slide_type": "subslide"
    }
   },
   "outputs": [],
   "source": [
    "\n",
    "tracksLyricFeatures_complete = pd.DataFrame() \n",
    "\n",
    "for i in datasets:\n",
    "    x = pd.read_csv('./tracksLyricFeatures/' + i)\n",
    "    tracksLyricFeatures_complete = pd.concat([tracksLyricFeatures_complete,x])\n",
    "    # pd.concat([broken_tracksAudioFeatures_complete,x])"
   ]
  },
  {
   "cell_type": "code",
   "execution_count": 13,
   "metadata": {
    "slideshow": {
     "slide_type": "subslide"
    }
   },
   "outputs": [
    {
     "data": {
      "text/html": [
       "<div>\n",
       "<style scoped>\n",
       "    .dataframe tbody tr th:only-of-type {\n",
       "        vertical-align: middle;\n",
       "    }\n",
       "\n",
       "    .dataframe tbody tr th {\n",
       "        vertical-align: top;\n",
       "    }\n",
       "\n",
       "    .dataframe thead th {\n",
       "        text-align: right;\n",
       "    }\n",
       "</style>\n",
       "<table border=\"1\" class=\"dataframe\">\n",
       "  <thead>\n",
       "    <tr style=\"text-align: right;\">\n",
       "      <th></th>\n",
       "      <th>Unnamed: 0</th>\n",
       "      <th>id</th>\n",
       "      <th>track</th>\n",
       "      <th>trackArtist</th>\n",
       "      <th>genre</th>\n",
       "      <th>lyrics</th>\n",
       "    </tr>\n",
       "  </thead>\n",
       "  <tbody>\n",
       "    <tr>\n",
       "      <th>0</th>\n",
       "      <td>0</td>\n",
       "      <td>2</td>\n",
       "      <td>Food</td>\n",
       "      <td>AWOL</td>\n",
       "      <td>Hip-Hop</td>\n",
       "      <td>The Waking Blind LyricsThe waking blind, embra...</td>\n",
       "    </tr>\n",
       "    <tr>\n",
       "      <th>1</th>\n",
       "      <td>0</td>\n",
       "      <td>5</td>\n",
       "      <td>This World</td>\n",
       "      <td>AWOL</td>\n",
       "      <td>Hip-Hop</td>\n",
       "      <td>E.T. Lyrics[Verse One: Mickey Factz]\\nSee, I s...</td>\n",
       "    </tr>\n",
       "    <tr>\n",
       "      <th>2</th>\n",
       "      <td>0</td>\n",
       "      <td>10</td>\n",
       "      <td>Freeway</td>\n",
       "      <td>Kurt Vile</td>\n",
       "      <td>Pop</td>\n",
       "      <td>Freeway LyricsI got a freeway in mind, let go ...</td>\n",
       "    </tr>\n",
       "    <tr>\n",
       "      <th>3</th>\n",
       "      <td>0</td>\n",
       "      <td>140</td>\n",
       "      <td>Queen Of The Wires</td>\n",
       "      <td>Alec K. Redfearn &amp; the Eyesores</td>\n",
       "      <td>Folk</td>\n",
       "      <td>NaN</td>\n",
       "    </tr>\n",
       "    <tr>\n",
       "      <th>4</th>\n",
       "      <td>0</td>\n",
       "      <td>141</td>\n",
       "      <td>Ohio</td>\n",
       "      <td>Alec K. Redfearn &amp; the Eyesores</td>\n",
       "      <td>Folk</td>\n",
       "      <td>NaN</td>\n",
       "    </tr>\n",
       "  </tbody>\n",
       "</table>\n",
       "</div>"
      ],
      "text/plain": [
       "   Unnamed: 0   id               track                      trackArtist  \\\n",
       "0           0    2                Food                             AWOL   \n",
       "1           0    5          This World                             AWOL   \n",
       "2           0   10             Freeway                        Kurt Vile   \n",
       "3           0  140  Queen Of The Wires  Alec K. Redfearn & the Eyesores   \n",
       "4           0  141                Ohio  Alec K. Redfearn & the Eyesores   \n",
       "\n",
       "     genre                                             lyrics  \n",
       "0  Hip-Hop  The Waking Blind LyricsThe waking blind, embra...  \n",
       "1  Hip-Hop  E.T. Lyrics[Verse One: Mickey Factz]\\nSee, I s...  \n",
       "2      Pop  Freeway LyricsI got a freeway in mind, let go ...  \n",
       "3     Folk                                                NaN  \n",
       "4     Folk                                                NaN  "
      ]
     },
     "execution_count": 13,
     "metadata": {},
     "output_type": "execute_result"
    }
   ],
   "source": [
    "tracksLyricFeatures_complete.head()"
   ]
  },
  {
   "cell_type": "markdown",
   "metadata": {
    "slideshow": {
     "slide_type": "slide"
    }
   },
   "source": [
    "We were not able to get lyrics for ~3.6k songs out of the 8k songs in the small dataset"
   ]
  },
  {
   "cell_type": "code",
   "execution_count": 14,
   "metadata": {
    "slideshow": {
     "slide_type": "subslide"
    }
   },
   "outputs": [
    {
     "data": {
      "text/plain": [
       "3649"
      ]
     },
     "execution_count": 14,
     "metadata": {},
     "output_type": "execute_result"
    }
   ],
   "source": [
    "tracksLyricFeatures_complete[\"lyrics\"].isna().sum()"
   ]
  },
  {
   "cell_type": "code",
   "execution_count": 15,
   "metadata": {
    "slideshow": {
     "slide_type": "subslide"
    }
   },
   "outputs": [],
   "source": [
    "tracksLyricFeatures_complete.to_csv('./tracksLyricFeatures/tracksLyricFeaturesComplete.csv', encoding='utf8')"
   ]
  },
  {
   "cell_type": "markdown",
   "metadata": {
    "slideshow": {
     "slide_type": "slide"
    }
   },
   "source": [
    "Repeating the concatenation steps for the Medium datasets"
   ]
  },
  {
   "cell_type": "code",
   "execution_count": 16,
   "metadata": {
    "slideshow": {
     "slide_type": "subslide"
    }
   },
   "outputs": [
    {
     "name": "stdout",
     "output_type": "stream",
     "text": [
      "filenames : ['tracksLyricFeatures_segment01_part_0.csv', 'tracksLyricFeatures_segment02_part_1.csv', 'tracksLyricFeatures_segment02_part_2.csv', 'tracksLyricFeatures_segment02_part_3.csv', 'tracksLyricFeatures_segment02_part_4.csv', 'tracksLyricFeatures_segment02_part_5.csv', 'tracksLyricFeatures_segment02_part_6.csv', 'tracksLyricFeatures_segment02_part_7.csv', 'tracksLyricFeatures_segment02_part_8.csv', 'tracksLyricFeatures_segment02_part_9.csv', 'tracksLyricFeatures_segment03_part_10.csv', 'tracksLyricFeatures_segment03_part_11.csv', 'tracksLyricFeatures_segment03_part_12.csv', 'tracksLyricFeatures_segment03_part_13.csv', 'tracksLyricFeatures_segment03_part_14.csv', 'tracksLyricFeatures_segment04_part_15.csv', 'tracksLyricFeatures_segment04_part_16.csv', 'tracksLyricFeatures_segment04_part_17.csv', 'tracksLyricFeatures_segment04_part_18.csv', 'tracksLyricFeatures_segment04_part_19.csv', 'tracksLyricFeatures_segment05_part_20.csv', 'tracksLyricFeatures_segment05_part_21.csv', 'tracksLyricFeatures_segment05_part_22.csv', 'tracksLyricFeatures_segment05_part_23.csv', 'tracksLyricFeatures_segment06_part_24.csv']\n"
     ]
    }
   ],
   "source": [
    "datasets = os.listdir('./tracksLyricFeaturesMedium')\n",
    "\n",
    "print(f\"filenames : {datasets}\")\n"
   ]
  },
  {
   "cell_type": "code",
   "execution_count": 18,
   "metadata": {
    "slideshow": {
     "slide_type": "subslide"
    }
   },
   "outputs": [],
   "source": [
    "\n",
    "tracksLyricFeatures_complete = pd.DataFrame() \n",
    "\n",
    "for i in datasets:\n",
    "    x = pd.read_csv('./tracksLyricFeaturesMedium/' + i)\n",
    "    tracksLyricFeatures_complete = pd.concat([tracksLyricFeatures_complete,x])\n",
    "    # pd.concat([broken_tracksAudioFeatures_complete,x])"
   ]
  },
  {
   "cell_type": "markdown",
   "metadata": {
    "slideshow": {
     "slide_type": "slide"
    }
   },
   "source": [
    "We were not able to get lyrics for ~11k songs out of the 25k songs in the medium dataset"
   ]
  },
  {
   "cell_type": "code",
   "execution_count": 20,
   "metadata": {
    "slideshow": {
     "slide_type": "subslide"
    }
   },
   "outputs": [
    {
     "data": {
      "text/plain": [
       "11318"
      ]
     },
     "execution_count": 20,
     "metadata": {},
     "output_type": "execute_result"
    }
   ],
   "source": [
    "tracksLyricFeatures_complete[\"lyrics\"].isna().sum()"
   ]
  },
  {
   "cell_type": "code",
   "execution_count": 21,
   "metadata": {
    "slideshow": {
     "slide_type": "subslide"
    }
   },
   "outputs": [],
   "source": [
    "tracksLyricFeatures_complete.to_csv('./tracksLyricFeaturesMedium/tracksLyricFeaturesComplete.csv', encoding='utf8')"
   ]
  },
  {
   "cell_type": "markdown",
   "metadata": {
    "slideshow": {
     "slide_type": "slide"
    }
   },
   "source": [
    "Preview of the lyrics data"
   ]
  },
  {
   "cell_type": "code",
   "execution_count": 34,
   "metadata": {
    "slideshow": {
     "slide_type": "subslide"
    }
   },
   "outputs": [
    {
     "data": {
      "text/plain": [
       "array([\"The Waking Blind LyricsThe waking blind, embraced the dark\\nThey made us fight for the answers\\nThey made us they made us fight fight fight for the answers\\nThey made us fight\\n\\nTime is up the lines are drawn in sand\\nIt's like a ritual cleaning\\nFaith against them all\\nSome kind of wicked pressure growing below\\nBound to breach the surface\\nGloves are off\\nThe blinders tighten\\nMisguided hands\\nLeading the awoken\\nFood for thought\\nOnce your brothers now\\nThe wretches the dregs the scum and the bastards\\nEyes up\\nGrab your pitchforks just before the dawn\\nThey’re out of time and out of touch and out of luck\\nWith the air that we breath and the ground beneath their feet\\n\\nA mask of virtue\\nYou’ll hide behind as you feed off the lies\\nBowing down to pressure with no resolve\\nNever again\\nCan we allow this fear to hold us\\nFaith against them all\\nDesigned deny and deprive\\n\\nThe waking blind, embraced the dark\\nThey made us fight for the answers\\n\\nThe coming whipping winds\\nThe winds will blow your house of straw away\\nThey’ve built you up to tear you down\\nThey’ve built you up to tear you down\\nYou might also likeThere is no second coming\\nThey are playing with your heart\\nThere is just something about this\\nWhy won't you admit\\n\\nYour blind crusade is the birth of a dying age\\nA mask of virtue\\nYou’ll hide behind as you feed off the lies\\nBowing down to pressure with no resolve\\n\\nAnd with no resolve in our darkened heart\\nWe feel our fears come alive and it lights up the sky\\nThe sky the sky the sky is burning\\nThe sky the sky is burning\\nOut of the dark and into the light\\nThese spiteful spheres of hate got the world\\nBurning in your hands\\nIn your hands...Embed\",\n",
       "       \"Oversikt over norske artister Lyrics*&aute&rom12302:45\\n06 Boys\\n1.Gir\\n114\\n129\\n1349\\n2's Day\\n2mito\\n3300\\n3 Busserulls\\n3TOS\\n3145 Malice\\n4ETG\\n40k\\n49gjeng\\n5.02\\n50urs\\n5937\\n612\\n6150\\n8lanco\\n9ercs\\n9maAa-ha\\nA-Laget\\nA-Lee\\nAbbath\\nAbbe\\nAbelone\\nAcne Studios\\nAction The Man\\nAdam Gryting\\nAddio\\nAdiz\\nAdrees\\nAdrian Johnsen\\nAdrian Jørgensen\\nAdrian Sellevoll\\nAdrian Wright\\nAdrian Aasen\\nAdz\\nAdzy\\nAestas\\nAestheticBoys\\nAeternus\\nAF1\\nAfrican Sunz\\nafricanchild\\nAfwene\\nAgabas\\nAG3\\nAGA\\nAiba\\nAida Frantzen\\nAiida\\nAj\\nAkjeft\\nAksel Rosén\\nAksel Undset\\nAL Amin\\nAlaien\\nAlan Walker\\nAlbert\\nAlbino Superstars\\nAlejandro Fuentes\\nAleks Grey\\nAleksander With\\nALEK_SO_NICE\\nAlexandra Joner\\nAlexx\\nAlfeso\\nAlf'N\\nAlfred Hall\\nAlibiet\\nAligo\\nAlley-Oop\\nAllirog\\nAlva Ravn\\nAlwaze\\nAmalie Holt Kleive\\nAmanda Delara\\nAmanda Kamara\\nAmanda Tenfjord\\nAmara\\nAmdal\\nAmeo\\nAmina Sewali\\nAmund Harboe\\nAmund Valde\\nAnders Dahlberg\\nAndivalent\\nAndrea\\nAndreas Ihlebæk\\nAndreyun [Verifisert bruker]\\nAndré Øy\\nAne.Fin\\nAngelo Reira\\nAnimal Alpha\\nANIMAVESTRA\\nAnna Kajander [Verifisert bruker]\\nAnna of the North\\nAnna Sahara\\nAnne Grete Preus\\nAnti-Lam Front\\nanton.\\nAON\\nApakosa\\nApothek\\nAraber1\\nArata\\nArchie Ellis\\nArcidi\\nArcturus\\nArdian Gomez\\nAre You Having Fun Yet\\nAreaFY [Verifisert bruker]\\nArham\\nAri Bajgora\\nArian\\nArif\\nArild Aas\\nArjunbir\\nArkia\\nArne Bendiksen\\nArshad Maimouni\\nArtini Montana\\nArtur Kiriko\\nArve Tellefsen\\nArvid Martinsen\\nAry\\nAsken\\nAskjell\\nÁsmegin\\nAspherium\\nAssaidi\\nATLANTA\\nAtle Lauve\\nAttevar?\\nAstrid S [Verifisert bruker]\\nAudrey Horne\\nAugust\\nAugust Kann\\nAugust Ubeda\\nAune Sam\\nAura Noir\\nAURORA [Verifisert bruker]\\nAutobarn\\nAVGVSTVS\\nAwesomnia\\nAwill\\nAybee\\nAyka\\nAyo RasaBB-Boy Myhre\\nB-Gjengen\\nbaard\\nBabel Fish\\nBad Dad Jones\\nBado\\nBad Spit [Verifisert bruker]\\nBae Louie\\nBajo\\nBakhjulsinspektøren\\nBakka Street-Boyz\\nBaklengs Salto\\nBallade!\\nBalli Beats\\nBALLTRE\\nBambsi\\nBand0boy\\nBane Haven\\n¡BangBang Watergun!\\nBangkok Lingo\\nBankmenn\\nBare1AK\\nBare Are\\nBare Egil Band\\nBasmo Fam\\nBastian!\\nBastian Blind\\nBautz\\nBaws\\nBAYA\\nBBartZ\\nBBR\\nBEIST\\nBelairr\\nBella Royale\\nBeltegutten\\nBearded Beats\\nBeharie\\nBeingAMonkey\\nBenby\\nBENC\\nBendik\\nBendik Baksaas\\nBendik Finborud\\nBendik HK\\nBenedikt\\nBenjamin Beats\\nBenjamin Hogseth\\nBenji\\nBenjin\\nBenji & Banden\\nBenReddik\\nBenzy\\nBeranek\\nBERG\\nBerg 4070\\nBertine Zetlitz\\nBetula\\nBewar B\\nBezmode\\nBianca\\nBiosphere\\nBig Cristo\\nBig G\\nBig Ice\\nBig JE\\nBigLux\\nBig6y\\nBikelane\\nBikkja\\nBillie Van\\nBilly Meier\\nBimz\\nBiru Baby\\nBirken Company\\nBirkknut\\nBirte Slettevoll\\nBishop Hendrick\\nBjun\\nBjørn Berge\\nBjørn Eidsvåg\\nBjørn Johan Muri\\nBjørn Tomren\\nBjøro Håland\\nBläMST\\nBlack Debbath\\nBLKSTD\\nBlodslange\\nBlomst\\n.Blomster\\nBlood Command\\nBlood Draugr\\nBloon\\nBlueboy\\nBLVCK CHILD\\nBlvck O\\nBodin\\nBoge\\nBonito Smekolini\\nBORGE\\nBorgen untd.\\nBorknagar\\nBoss Castro [Verifisert bruker]\\nBotaii\\nBoua\\nBoy made flower\\nboy pablo [Verifisert bruker]\\nBrage Hallgrimsen\\nBrage Leche\\nbrenn.\\nBreveglieri\\nBriceno\\nBright\\nBrigt\\nbriis\\nBriskeby\\nBritt-Synnøve Johansen\\nBritz\\nBroiler [Verifisert bruker]\\nBRONER CLUB\\nBror\\nBROSJEAN\\nBroskis\\nBrother Savannah\\nBru [Verifisert bruker]\\nBruvak & Mumajesi\\nBRVG\\nbrvge\\nBryggeriet\\nBulmboy$\\nBunsa\\nBurkaBoy$\\nBurzum\\nBYGDABOI$\\nByklubben\\nBøler\\nBård Berg\\nBooliagaCC-T [Verifisert bruker]\\nCaillu\\nCalvert\\nCamara Joof\\nCamilla North\\nCamilla Susann Haug\\nCapow!\\ncar.pool\\nCarina Dahl\\nCarmx\\nCarpathian Forest\\nCarter Vincent\\nCasabling\\nCASHADOX\\nCashmere Cat [Verifisert bruker]\\nCashmere Factory\\nCasi\\nCaspara\\nCASTROW\\nCC Cowboys\\nCELIIN\\nCelina da Silva\\nCeline Lyng\\nCeline Madelen\\nCezinando [Verifisert bruker]\\nChain Wallet\\nChala Teferi\\nCharla K\\nCharlie Skien\\nChicago Truls\\nChika Dole\\nChillpadde\\nChino\\nChinook\\nChirag\\nChosen\\nChris Abolade\\nChris B\\nChris Holsten\\nChris Stallion\\nChristel Alsos\\nChristian Brennhovd\\nChristian Chanel\\nChristine Sandtorv\\nChvla\\nCir.Cuz\\nClix\\nClosed Doors\\nCoconut Crab\\nCOLIN\\nColin Hagen\\nColin John\\nCOMBOS\\nCompany Ink\\nConnection K\\nContrazt\\n'Convos.Prk\\nConz\\nCopyloves\\nCorna Bros.\\nCornelius Dodd\\nCornic\\nCorolla\\nCoron\\nCrainaz\\nCrappyScrap\\nCrashville\\nCrawly\\nCreyo\\nCSN\\nCuetrek\\nCuliar\\nCULT MEMBER\\nCupid Girl\\nCurtains Don't Crack\\nCY$\\nC05DD¥CE\\nD!EGO\\nD9z\\nDaddy Jeans\\nDagny\\nDan Bravo\\nDan Lesler\\nDance With A Stranger\\nDandéleon\\nDandy Andy\\nDangerface\\nDaniel\\nDaniel Elmrhari\\nDaniel Granum\\nDaniel Holen Berg\\nDaniel Kolstad\\nDaniel Kvammen\\nDaniel Obede\\nDaniela Reyes\\nDanny Maroc [Verifisert bruker]\\nDannyD FOG\\nDano Bluu\\nDARKBOAT\\nDARKOWA\\nDark Roast\\nDarkthrone\\nDaufødt\\nDavid A. Damslora\\nDavid Grytten\\nDavid Romeo\\nDaydream Blue\\nDays of August\\nD.D.E.\\nDead Geniu$\\nDefinite [Verifisert bruker]\\nDEGO$\\nDekstra Large\\nDelavi\\ndeLillos\\nDemonaz\\nDen BB\\nDen Generelle Fuktigheten\\ndePresno\\nDERIN\\nDe Ubrukelige\\nDeuce\\nDGU\\nDia\\nDiddi\\nDidi\\nDidzi\\nDI FARLIGE\\nDig Deeper\\nDimmu Borgir\\nDin\\nDina Misund\\nDin Moris\\nDinosaurtegning\\nDio Mudara\\nDisaster In The Universe\\nDiskobeistet\\nDIVE\\nDivest\\nDivisjonen\\nDizzet\\nDJ Kålhue\\nDJ Løv\\nDj Nupastek\\nDjoy\\nDjørvy\\nDJ Øyvind\\nDjerv\\nDobbel M\\nDobe E\\nDoglover95\\nDogs Offended\\nDon Deal\\nDon Flaco\\nDoni Mula\\nDon Martin [Verifisert bruker]\\nDonkeyboy\\nDon Rivera\\nDops Gate\\nDoriansgrave\\nDrabant\\nDreamon\\nDripzz\\nDRM Klikk\\nDrongo\\ndrontn\\nDrottnar\\nDrug Salad\\n#DSG Dripzz\\nDUCKY100\\nDuestien Top Boys\\nDuggfrisk\\nDummi\\nDunderbeist\\nDunndunn\\nDuoz\\nDurag Toffer\\nDutty Dior\\nduve\\nDuvel\\nDuVet\\nDylan\\nDyrisk\\nDødheimsgard\\nDåm\\nDårlig Hjort\\nDårlig VaneEE-76\\nE-Man\\nEa Othilde\\nEben Jr.\\nEB Jetset\\nE.Ciaga\\nEda\\nEddy & Zino\\nEdeema\\nEDOT Lawrence\\nEdrizz\\nEdw!N\\nE.F\\nEGGE\\nEggi\\nEHI\\nEiken\\nEilif & Sønn\\nEinherjer\\nEIRIK\\nEirik Aas\\nEken Vega\\nEkte Fakta\\nEkte Indianere\\nEkte Mareritt\\nEl Axel\\nElectric Eye\\nElectric Harlot\\nElias Jung\\nEliasMane\\nElida\\nElijah Witt\\nElin Gaustad\\nElisabeth Andreassen\\nElise Eriksen\\nElli\\nElling [Verifisert bruker]\\nEl Papi\\nElsker\\nElvin Vranesi\\nEmeel\\nEmelie Hollow\\nEMIR\\nEmilie Adams\\nEmilie Nicolas [Verifisert bruker]\\nEmilio\\nEmil Vailer\\nEmire og Lillebror\\nEmma Steinbakken\\nEmperor\\nEmpetr3\\nEn Pose Nonstop\\nEndezzma\\nEndless\\nEndlings\\nEndre\\nEndre Gryting\\nEnkidu\\nEnslaved\\nEnvy\\nEPA SATAN\\nErik Ab\\nErika Norwich\\nErik De Torres\\nErik og Kriss\\nErik Lindstrom\\nEriksen\\nErlend Slettum\\nEspen Lind\\nESSEA\\nEster C\\nEteh\\nEttHundre\\nEv30 Esso\\nEvig Poesi\\nExeBitz\\nEzzariFFAENIHÆLVETTE\\nFAKETHIAS\\nFakken\\nFangst\\nFANNY\\nFarda\\nFarfemhundre\\nFargeblind\\nFarida\\nFatima Revne\\nFavman\\nfawlin\\nFAWN\\nFay Wildhagen\\nFEAN\\nFeber\\nFejl & Daler\\nFekadu\\nFela [Verifisert bruker]\\nFerdinand\\nF.E.S.T\\nThe Factory\\nFieh\\nFig Tape\\nFiix\\nFinding Muzyamba [Verifisert bruker]\\nFinding Neo\\nFinni\\nFinn Kalvik\\nFit Shaced\\nFixation\\nFjellheim\\nFjorden Baby!\\nFlai\\nFlammekaster\\nFlammeplaster\\nFlexi Aukan\\nFlying Furs\\nFoad Noor\\nFole\\nFolque\\nFortinbras\\nFour6Two\\nFreddy Kalas [Verifisert bruker]\\nFredrik Domaas\\nFred Fuego\\nFred Well\\nFredfades\\nFredrik Domaas\\nFredrik Høyer\\nFredrik Segelstad\\nFrego\\nFrery\\nFresh West Mafia\\nFrida Hunshammer\\nFrida Ånnevik\\nFriminutt\\nFrom Scratch\\nFrukt og Grønt\\nFuad HFB\\nfucales\\nFuture Daughter\\nFY Stackz\\nFØNIKSG_gabben_\\nG.Flow\\nG2\\nG 51\\nGaahls WYRD\\nGabba\\nGabrielle\\nGAL\\nGalexy\\nGalleri 29\\nGanezha\\nGarlimo\\nGartnerlosjen\\nGatas Parlament\\nGatekunst\\nGAUS\\nGaute Ormåsen\\nGehenna\\nGeneral S\\nGerald Ofori\\nGERILJAPOP\\nGest\\nGetaz\\nGhanaba\\nGimmik\\nGino\\ngirl in red\\nGirson\\nGJELLIS\\nGjenfødt Kultur\\nGlittertind\\nGluecifer\\nGM TROY\\nGode Ord Dør Sist [Verifisert bruker]\\nGodset\\nGolFlamingo\\nGoneo\\nGorgoroth\\nGothminister\\nGourmet G\\nGourm£t\\nGraa Sky\\nGreat News\\nGreen Carnation\\nGrim Pil\\nGringo9\\nGuccigang Bfoss City\\nGucci T\\nGulla\\nGulltann\\nGunn Marit Kvåle\\nGURLS\\nGus Polden\\nGuttelim\\nGuwapi\\nGVS\\nGyda\\nGØY\\nGåteHHa!en\\nHaasell\\nHades Almighty\\nHAGE\\nHagle\\nHaglunden\\nHajk\\nHalfkey\\nHalva Priset\\nHalvard Emil\\nHalvdan Sivertsen\\nHam4r\\nhan gaiden\\nHanna Emilie\\nHanne Hukkelberg\\nHanne Krog\\nHanne Leland\\nHanne Mjøen\\nHans-Life\\nHANSO\\nHarald Olsvik\\nHARAL STONE\\nHarlekin [Verifisert bruker]\\nHasselyra\\nHasta\\nHauk Rindal\\nHausfraus\\nHAVSUN\\nHazenG\\nHawkon\\nHeartbreak Satellite\\nHeave Blood & Die\\nHedda Mae\\nHeemugen\\nHelena Leinebø\\nHelheim\\nHella rev\\nHellbillies\\nHelven\\nHenny\\nHenrik Haukland\\nHenrik Nilsen\\nHenrik Sandstad Dalen\\nHerman\\nHerman Wildhagen\\nHernandez\\nHerreløse\\nHester V75\\nHeuch\\nhey andy\\nHighasakite\\nHilde Selvikvåg\\nHilma Nikolaisen\\nHimla\\nHJELP\\nHjemmebrent\\nHjerteslag\\nHjulspinn\\nHkeem\\nHM Surf\\nHockney\\nHogan\\nHollywood\\nHonningbarna\\nHopalong AKA\\nHopalong Knut\\nHORT3N\\nHowey\\nHrishav\\nHubbabubbaklubb\\nHugin X Munin\\nHUMA LUMA\\nHumle\\nHurragjengen\\nHvitmalt Gjerde\\nHysj\\nHævk\\nhölz\\nHøvelgang\\nHøydeforskjell\\nHÅWKII\\nísa\\niampsyencefiction\\nIben\\nIce\\nIcy Arn\\nIcy Freeze\\nIda Aasheim\\nIDAG\\nIda Jenshus\\nIffy Orbit\\nifrapluto\\niglo65\\nIhsahn\\nIkke Oss\\nI LIKE TO SLEEP\\nILJA\\nILLBK\\nIMERIKA\\nImmortal\\nIMRE\\nImsito\\nImYoung\\nIna Wroldsen\\nINDRE BLØDNING\\nIngebjørg Bratland\\nINGEBORG\\nInge Bremnes\\nIngrid Belt\\nIngrid Elise\\nIngrid Lovise\\nIngrid Olava\\nInnertier\\nInnestengt\\nInnigranskauen\\nIra Nor\\niris\\nIsac Giil\\nIsah\\nIsak\\nIsak Motorsport\\nIsak Shorty\\nIsak Ung\\nIselin\\nIsengard\\nIsland Bwoii\\nIvan Ave\\nIver Kaliber\\nIvo Lima\\nIvy Rei\\nIzabell\\nIznoJj00\\nJ-Zino\\nJ.Bayou\\nJ.Croos\\nJ.Gingerman\\nJaa9\\nJaa9 & OnklP\\nJaakob\\nJackbow\\nJae-R\\nJahn Teigen\\nJahrmann\\nJakob & Fridtjof\\nJakob Ogawa\\nJanos\\nJan Thomas Haugen\\nJango\\nJarle Skavhellen\\nJason Osis\\nJasper\\nJave\\nJawn Rice\\nJaxxxon\\nJaypea\\nJay Pena\\nJCY\\nJellybelly\\nJelsa\\nJENGO\\njens\\nJeremiah Mickson\\nJeri\\nJESPER\\nJesper Grønn\\nJesper Jenset\\nJesse Jones\\nJester\\nJiggyPanda\\nJimi Somewhere [Verifisert bruker]\\nJimmy Smash\\nJimmy XL\\nJNS\\nJoakim Eie\\nJoakim Koala\\nJoar Renolen\\nJoddski\\nJoe Achi\\nJoeytrippin\\nJOGGART\\nJOGGEDRESS\\nJohbru\\nJohan\\nJohannes\\nJohannes Holtmon\\nJohanne X\\nJohn Noir Smith\\nJohn Olav Nilsen & Nordsjøen\\nJohn Sammol\\nJohndoe\\nJohsju\\nJoKing DaBlonde\\nJonahh\\nJonas Alaska\\nJonas Benyoub\\nJonas Ess\\nJonas Farah\\nJonas Fjeld\\nJonas Hibiki\\nJonas og Petter\\nJonas V\\nJonas Øren\\nJonathan Floyd\\nJon Krem\\nJon Lotterud\\nJON OLAV\\nJonz\\nJoonas\\nJOO SUK\\nJorn\\nJouska\\nJOWST\\nJubalon\\nJudah Just Kidding\\nJulie Bergan [Verifisert bruker]\\nJulie Myhre\\nJungelen\\nJunker [Verifisert bruker]\\nJUNO\\nJust A Random\\nJust Lucid\\nJust Simon\\nJÆGER\\nJørn HoelKK A R L\\nKa2\\nKaffetorsk\\nKaizers Orchestra\\nKaja Gunnufsen\\nKakaosimon\\nKalandra\\nKald Flamme\\nKallilovemane\\nKaja Malena\\nKAMARA\\nKamelen\\nKameleon\\nKamikazi\\nKamila G\\nKampfar\\nKantona\\nKapteinen\\nKaran med varan\\nKarin Melón\\nKarlsNr1 & Bendiq\\nKarpe\\nKars\\nKasimba\\nKasket Club\\nKatastrofe\\nKaveh [Verifisert bruker]\\nKAZ\\nKCruz3\\nKEBROX\\nKeem One\\nKeep Of Kalessin\\nKenneth Engebretsen\\nKenny Bong\\nKENNY KENZO\\nKen Winjar\\nKerbelai\\nKevin\\nKevin Boine\\nKEVIN KELLETT\\nKevzta\\nKey\\nKhold\\nKholebeatz\\nKian B\\nKickslip\\nKid Devito\\nKid Enzo\\nKid klaz. [Verifisert bruker]\\nKiddo Kæsh\\nKid Tentai\\nKid $ilas\\nKikkan\\nKiller Kid Mozart\\nKILL GINGER\\nKine Nesheim\\nKing A\\nKing George VIII\\nKing Shway\\nKingSkurkOne\\nKings of Convenience\\nKingsley Anowi\\nKingss\\nKingvar\\nKiNGZ¥\\nKiplemore\\nKis.inc\\nKitboys\\nKite Safari\\nKjartan Gaulfossen\\nKjartan Lauritzen\\nKjartan Lauritzen Quartet\\nKjuus\\nKjærleik\\nKjært Barn\\nKjøtt\\nKlaus Perry\\nKlossmajor\\nKlovner I Kamp\\nKLØBB x FEED\\nKløster\\nKløversvingen\\nKnarkvold X Jon Kanon\\nKnekten Orginal\\nKnirk\\nKniv & Gaffel\\nKnugen\\nKnut Anders Sørum\\nKnut Peder\\nKNUT Roertveit\\nKnutsen & Ludvigsen\\nKode.59\\nKompaniet\\nKompass\\nKoldbrann\\nkolsta\\nKong Amf\\nKong Halvor\\nKONGEFAMILIEN\\nKongle\\nKonradsen\\nKonus\\nKorbz\\nKortreist Mat\\nKrigsskip\\nKriminell Kunst\\nKriss\\nKrissie\\nKristian Kaupang\\nKristian Torgalsen\\nKRISTIN\\nKristoffer Eikrem\\nKristoffer Nohr Unstad\\nKROKODILES\\nKropp\\nKryger\\nK Shmurda\\nKul Effekt\\nKullet\\nKunsthuset\\nkurt kodein\\nKurt Nilsen\\nKvikt og Hurtig\\nKygo\\nKyss På Halsen\\nKØBERLL.U:N.A\\nL/O/O/N\\nLace Beats\\nLangva\\nLARS\\nLars Bond\\nlars ib\\nLars Kilevold\\nLars Rubix [Verifisert bruker]\\nLars Vaular\\nLarsiveli\\nLAUREN\\nLauren & Adonis GRT\\nLaw\\nLawn Chair.\\nLaw of All\\nLazy Queen\\nLeif & Kompisane\\nLéonne\\nLeander\\nLeJamz\\nLENTI\\nLeo\\nLeon Frick\\nLEÓNxFLEIM\\nLeoparden\\nLeora\\nLeprous\\nLiam\\nLido [Verifisert bruker]\\nLiive\\nLil $torm\\nLil Aga\\nLil Buss\\nLil Concept\\nLil Crank\\nLil Drug$\\nLil Gabba\\nLil Goldfish\\nLil Halima\\nLil Hexis\\nLil Jin\\nLil Knut\\nlillemy\\nLil Omu\\nlil plug\\nLil Ramsløk\\nLil Shushi\\nLil Snipp\\nLil Snus\\nLil Tempo Gigante\\nLil Trash\\nLil Truls\\nLil Uber\\nLil Waterr\\nLil Yaas\\nLilBag\\nlille Caesar\\nLille Fer-G\\nLille Glitter\\nLille Homie\\nLille Legenden\\nLille Leon\\nLille Tee\\nLillebror\\nLillebull\\nlillejupiter\\nlillemy\\nLilyjets\\nLimbonic Art\\nLINDSJØRN\\nLings\\nLings & Morse\\nLings Laced\\nLinko\\nLinni\\nLinni Meister\\nLiving Alma\\nLogi\\nLokoy\\nLommesmør\\nLord Baka\\nLOST IN LNDN\\nLothepus\\nLouam\\nLoui & Lexus\\nLouis X Coco\\nLouis Jacoby\\nLoveless\\nLovespeake\\nLucid Dreaming\\nLudvig The Band\\nludwig.mp3\\nLufty $tunna\\nLUJONO\\nLukas Whittaker\\nLuke Ciaga\\nLuki\\nLULI\\nLumsk\\nLunde\\nLVLID\\nLydhammer\\nLyse Netter\\nLætti\\nLÖVMM.rtn\\nM!lli\\nM1kal\\nMa7\\nMabbiJ\\nMachoMayne\\nMachu Picchu\\nMaco\\nMAD-$\\nMadcon\\nMae\\nMaffew\\nMAGG\\nMaggie\\nMagnus Bechmann\\nMagnus Bokn\\nMagnus Frodahl Sand\\nMagnus Hestegrei\\nMagnus Kjølsrud\\nMagnus Winjum\\nMagnus Wærness\\nMAIH\\nMa Jester\\nMajor Parkinson\\nMakko Makeba\\nMakosir\\nMalando\\nMalekko\\nMall Girl\\nMalstrøm\\nMamo\\nMano Emanuel\\nMaraton\\nMarcel O.\\nMarcus & Martinus\\nMarcus Dale\\nMaren Emilie\\nMargaret Berger\\nMargot Moe\\nMargrete\\nMaria Arredondo\\nMaria Haukaas Mittet\\nMaria Træbakken\\nMarie Løvås\\nMarie Noreger\\nMarie Sahba\\nMarie Ulven\\nMarie Wedberg\\nMarion Raven\\nMarion Woodseth\\nMarit Holvik\\nMarit Larsen\\nMarius\\nMarius Müller\\nMarius Samuelsen\\nMarkella\\nMarley Lopes\\nMarlon\\nMARS\\nMarte Eberson\\nMartine\\nMartin Hazy\\nMartin Lepperød\\nMartinLikerKake\\nMartin Massiv\\nMartin O\\nMartzen\\nMarvico\\nMAS\\nMasåva\\nMat Duo\\nMateen\\nMathea Mari\\nMathias Gundhus\\nMathilde Alden\\nMatilde\\nMato Polo\\nMats Wava\\nMaVe\\nMaya Vik\\nMaye\\nMayhem\\nMC Frode\\nMC Magnus\\nMc Poirot\\nMDM\\nMe and the Julios\\nMela\\nMelech\\nMelina Johnsen\\nMelis\\nMentum\\nMERKD\\nMerone\\nMeso\\nMetoden\\nMia Berg\\nMiadabdi\\nMichael Augustin\\nMichael Pardalos\\nMichelle November\\nMichelle Ullestad\\nMiggu\\nMike Lookee\\nMike Parda\\nMikhael Paskalev\\nMIKKE FLU$\\nMilan\\nMille\\nMilo Bendiksen\\nMilo Orchis\\nMilton\\nMindre Begavet\\nMinkah\\nMinuGris\\nMio Min\\nMio\\nMira Craig\\nMiriam\\nMirre\\nMiss Karim\\nMiss Tati\\nMister Berg\\nMLX\\nMO\\nMo Ayn\\nModdi\\nMoe3\\nMo G\\nMoggger\\nMokri\\nMonir Baws\\nMonkibusniss\\nMorgan Sulele\\nMortem\\nMorten Harket\\nMortiis\\nMorty Beats\\nMos M\\nMotorpsycho\\nMoyka\\nMRD\\nMr.Medister\\nMSK\\nMudslide\\nMugisho\\nMULKAF\\nMunkerud Turn\\nMusadas\\nMUST\\nMy Friend Joe\\nmyks\\nMyra\\nMystère-Divin\\nMysticum\\nMåke\\nMållgudd\\nMåndagNN-Light-N\\nNaits\\nNalband\\nNani\\nNasrii\\nNational Cypher\\nNatnael\\nNatty\\nNauuda\\nNAVNLØSE\\nNawaz\\nNedja\\nNeema\\nNekromantheon\\nNelly Moar\\nNeon Apartments\\nNeon Tribe\\nNeste Planet\\nNew Jordal Swingers\\nNiat\\nNic Sky\\nNick Selvik\\nNick Sharma\\nNick Strand\\nNicnuggets\\nNico & Vinz [Verifisert bruker]\\nNico D\\nNICOLAY\\nNicole\\nNiilas\\nNik-O\\nNikey Vital\\nNikkoloken\\nNils m/Skils\\nNisi\\nNix & the Nothings\\nNO1\\nNo. 4\\nNOEMI\\nNora Brockstedt\\nNora K\\nNorah Benatia\\nNORD\\nNordjevel\\nNordlys\\ntig\\nNora Toure\\nNorah Benatia\\nnorsk tripping\\nNosizwe\\nNOT MY TIME TO DIE\\nNotorjus\\nNov3m\\nNoqh\\nNr1Martin\\nNuma Edema\\nnvm.kenny\\nNXM\\nNye Tider\\nNysether\\nnøkkenOO'jay\\nOakland Rain\\nObijan\\nObi One [Verifisert bruker]\\nOctave Higher\\nODA\\nOda Loves You\\nODD F€LLOW$\\nOdd Nordstoga\\nOdin Waage\\nOdrik\\nOffentlig Sektor\\nOhlayindigo\\nOhnesorg\\nOJ\\nOkay Kaya\\nOKEY\\nOl' Burger Beats\\nOlai LB\\nOla Reistad\\nOld Man's Child\\nOle I'Dole\\nOle Holter\\nOle Mustad Band\\nOle O\\nOls27 / Emil Olsen\\nOm3ga\\nOma Desala\\nOmar & Fabe / Omar & Nick\\nOmar Khalayli / Omar K\\nOmar Noir\\nOMVR\\nOndt Blod\\nOnge Anka\\nOnge Ash Ketchum\\nOnge $aab\\nOnklP\\nOnklP & De Fjerne Slektningene\\nOOSLOO\\nOpaque\\nOppkast ala kart\\norange XL\\nOreginal Sparks\\nORIO\\nOrmstunge [Verifisert bruker]\\nOscar A\\nOscar Blesson\\nÓsk\\nOskar Westerlin\\nOslo Ess\\nOter\\nOusu Leigh\\nOvelution\\nOVENBERG\\nOvidicio\\noyssle\\nOzias\\nOzzy BlacksPP Shark\\nP-Bomb\\nP-Flow [Verifisert bruker]\\nPaal Flaata\\nPalmface\\nPandaen\\nPaparazzi\\nPaperboys\\nPappasaft\\nParia\\nParty At the Pharmacy\\nPascal\\nPascal & Ziko\\nPasha\\nPast Tokyo\\nPatrick Granly\\nPats One [Verifisert bruker]\\nPaul Hers\\nPaul Tonning\\nPeanut Holmes\\nPearly\\nPeder Elias\\nPedram\\nPegah\\nPelicat\\nPen Gutt [Verifisert bruker]\\nPERALTA\\nPer Bergersen\\nPernille Øiestad\\nPer Oscar\\nPersisk Prins\\nPeter Jussila\\nPetter Papillon\\nPetter Pilgaard\\nPhil T. Rich\\nPhilip & The Reindeer\\nPhilip Emilio\\nPhilter\\nPicazzo\\nPikekyss\\nPiknik\\nPink Dirt\\nPinkfade\\nPinky Lorna\\nPish\\nPhreske Phred\\nPlaster På Såret\\nPLENTY\\nPlinth\\nPlooms\\nPlumbo\\nPolo X M\\nPonette\\nPonny1000lotto\\npoor rick\\nPorto Geese\\nPosterboys\\nPostgirobygget\\nPosthum\\nPotifar\\nPrettyboi L\\nPrimadanna\\nPrimz\\nPrincipal Sinner\\nPrins K\\nprins.ipp\\nPrinsen Min\\nProllyNah\\nP-Tee\\nPumba\\nPusa\\nPVCIFY\\npxrk\\nPYSH\\nPøsiQQalifa\\nQaz\\nquam\\nQuaynorRRabbagast\\nRadin\\nRadiojörn\\nRadio Manko\\nRadka Toneff\\nRafi\\nRaga Rockers\\nRagnarok\\nRambow\\nRappo\\nRapspillets Obama\\nRasmus Og Verdens Beste Band\\nRastafarouts\\nRat City\\nRavi\\nRayi$sa\\nRaylee\\nrayshimano\\nRazika\\nRebecca\\nRed Moon\\nReggie Got Beats\\nRegnvær\\nResa\\nResa Saffa Park\\nreserbil\\nReset\\nReturn\\nRex\\nRICC NIXXON\\nRich Poverty\\nRick Grove\\nRicky Major\\nRimmslim\\nRine\\nRobes House\\nRobin Stones\\nRobin T\\nRohat\\nRohey\\nRólex\\nRolf Just Nilsen\\nRomsaas\\nRomskip\\nRonny Rubin\\nRossman\\nRotlaus\\nRowland's EVIL JAZZ TRIO\\nRSP\\nRuben\\nRuben Moe\\nRubiks\\nRudi\\nRuel Angelo\\nRugbrød\\nRUKAN\\nRune Rudberg\\nRusty Rides\\nRvlph Foreign\\nrvthless\\nRvzeli\\nRytmeklubbenS$ali\\n$eilerxfishloe\\n$eventeen\\n$ilas\\n$lakke Macca\\n$LEGGEN\\n$PENNJAMIN\\nS. Sole\\nSafario\\nSaft Suse\\nsa_g\\nSaile\\nSaim\\nSaksefar\\nSakte Flyt\\nSALTI\\nSalty Crickets\\nSam\\nSamir\\nSamir Madad\\nSamkopf\\nSamordna Opptak\\nSamsaya\\nSander Meland\\nSander Scavenius\\nSandleman\\nSandra Lyng\\nSara & Arash\\nSarke\\nSasinia\\nSasha\\nSASSY 009\\nSatilmis\\nSatyricon\\nSAUS\\nSavecity\\nSAXXEMARK\\nScerri\\nSchizophora\\nScuBiDoub\\nSebastian Emes\\nSebastian hellesøy\\nSebastian Zalo\\nSebba\\nSecond Nature\\nSeed The Emcee\\nSei Selina\\nSelmer\\nSeñor Drita\\nSeptember August\\nSeverin\\nSeyem\\nSex10e Sølv\\nSHAFQAT\\nShakanaka\\nSHAQ RAW\\nSHINE\\nSHKEL\\nShikoswe\\nShitrich\\nShuffle Baby\\nSichelle\\nSiddis\\nSide Brok\\nSiDn\\nSie Gubba\\n.sienna\\nSignatur\\nSigrid [Verifisert bruker]\\nSigurd Julius\\nSigurd Og Røkla\\nSigurd Vassenden\\nSigvart Dagsland\\nSilja Sol\\nSilje Andersen\\nSilvus\\nSilly Willy\\nSime\\nSimen Holtan\\nSimen Mitlid\\nSimen Steinklev\\nSimen Vikan\\nSimon Alejandro\\nSIMONE\\nSimon Moholt\\nSINDIO\\nSindre Steig\\nSinnsyke Seler\\nSiNoRi\\nSinsenfist\\nSinsenprinsen\\nSirenia\\nSirius\\nSirkel Sag\\nSissel\\nSisi\\nSivilsvikt\\nSjakkmats\\nSjur Aarnes\\nSjøbadet\\nsjøv\\nSKAAR8*0\\nSkambankt\\nSkaterboy Rico\\nSkeez TV\\nSkinny Days\\nSkinny E\\nSkinny Elefanter\\nSklitakling\\nSkogsfyr\\nSkorstein\\nSkorsteinen\\nSkovveien\\nSkrtnes\\nSkuddet\\nSKYMERA\\nSl1mpack\\nSlaco\\nSlay\\nSli0h\\nSlopes\\nSlow is the New Fast\\nSlumpen\\nSLVMRD\\nSløtface\\nSlåppy.\\nSmalltown Emcees\\nSmeke Reven\\nSnais\\nSneip\\nSnelle\\nSnico\\nSniggis\\nSnille G\\nSnork-L\\nSnorre\\nSnow Boyz\\nSnusleppa\\nSoffe\\nSOFIA\\nSofian\\nSofie Fjellvang\\nSofie Hamre\\nSofiloud\\nSoft Punch\\nSoftcore untd.\\nSol Eline\\nSolå\\nSomeone Random\\nSondre Justad\\nSondre Lerche\\nSonema\\nSonic Løland\\nSon of Light\\nSons of Taiga\\nSoph\\nSophie Krüger\\nSoppgirobygget\\nSowdiak [Verifisert bruker]\\nSpaceboy Jimmi\\nSPACECOWBOY\\nSpacethug\\nSpar 5\\nsparkx\\nSpetakkel\\nSpicyboi Thvndx\\nSpidergawd\\nSpielbergs\\nStangen\\nStangern\\nStanley\\nStarpalace\\nStavangerkameratene\\nStefanos Yowhannes\\nSteffen Kvidahl\\nSteglet\\nStella Mwangi\\nStenersen\\nStenz\\nStenzbölBanden\\nSteve Kuling\\nSTEVEN FENDI\\nSt. Hansson\\nStian Ehi Ehiabhi Omole\\nSticky Icky\\nStockhaus\\nStoffman Pat\\nStore E\\nStore Gutter\\nStore P\\nStore Unge Sindre Mane\\nsTred [Verifisert bruker]\\nSturla\\nSuncraft\\nSunna Björk\\nSurrirealismen\\nSusanne Louise\\nSusanne Sundfør\\nSushi x Kobe\\nSuperfamily\\nSusperia\\nSussebass\\nSustained Gain\\nSval\\nSvartepetter\\nSvartland\\nSvarttjern\\nSveinman\\nSverres Ark\\nSvev\\nSvn7een\\nSVON\\nSvømmebasseng\\nSwicha Artista\\nSykSak\\nSynne Sørgjerd\\nSynne Vo\\nSændy\\nSØ\\nSølvguttene\\nSøvvhøvv\\nSånn PasseTT-Bone and Grandpa-E\\nT-Clean\\nT51\\nTabu Med Abu\\nTARAN\\nTech Rock\\nTeddy\\nTeenagers in Paradise\\nTemoor\\nTempo Gigante\\nTemur\\nTeo\\nTerje Torkellsen\\nthat guy espen\\nThe Bundy Bunch\\nThe Cumshots\\nThe Dogs\\nThe Ella Sisters\\nThe Good The Bad and The Zugly\\nThe Kids\\nThe Kovenant\\nThe Main Level\\nThe Modern Times\\nThe Other End\\nThe Rebels\\nThe Regent\\nThe Sins Of Thy Beloved\\nThe Slow Painters\\nThe Uptights\\nThea & The Wild\\nThea Marlene\\nThea Sofie\\nTheatre of Tragedy\\nTheo\\nThe Sideways\\nThe Stapes\\nThe Storlakses\\nThis Daze\\nThomas Dybdahl\\nThomassen & Berg\\nThomsn\\nThorleif Bratval\\nThree Souls\\nThulsa Doom\\nTidemann\\ntigergrut\\ntigerstate\\nTilla\\nTimbo Finna\\nTingen\\nTiril Hognestad\\nTiur\\nTIX\\nTMSD\\nTn\\nTNT\\nTobberazzi\\nTobi Duchampe\\nTobyDior\\nTodd Terje\\nToky-Yo\\nTom$i&Ikem\\nTommy Tee\\nTone Damli\\nToo Far Gone\\nT-One\\nTORA\\nTor Endresen\\nToy Savoy\\nTord\\nTore P\\nTore Pang\\nTorine\\nTOVANSKÏ\\nTramteatret\\nTrang Fødsel\\nTranspose\\nTravelle\\nTRE\\nTre Små Kinesere\\nTredjestanden\\nTrelldom\\ntrettifem\\nTrevis\\nTrevor Holidae\\nTribe Gang\\nTrine Rein\\nTripolar\\nTrippeligaen\\nTristan Evans\\nTristania\\nTrojka\\nTrollstøv\\nTrond Granlund\\nTrond Ole Paulsen\\nTrym & Laurits\\nTryminem\\nTrøkkgutta\\nTsjuder\\nTTP\\nTuba Tuba\\nTulus\\nTungtvann\\nTurab [Verifisert bruker]\\nTurbo\\nTurbonegro\\nTusmørke\\nTuzen\\nTwang Beats\\nTwisted Artistics [Verifisert bruker]\\nTyr\\nTØFL\\nTøyen Holding\\nTaakeUU9q\\nU-Sving\\nUberørt\\nUbåt\\nUggen Form\\nUkjent\\nUlle\\nUlver\\nUmp\\nUmut X HA$\\nUna Sand\\nUNDERGRUNN\\nUndr\\nUng Süss\\nUng-G\\nUnge Abbern\\nUnge Banos\\nUnge Bardu\\nUnge Beirut\\nUnge Bod\\nUnge Cappuccino\\nUnge Ca$ino\\nUnge Chræssi\\nUnge Coke\\nUnge D\\nUngedripp\\nUnge Ferrari\\nUnge Flui\\nUnge Fretex\\nUnge Funksjonell\\nUnge Ibux\\nUngekatter\\nUnge Kevz\\nUnge Kia\\nUnge Kilo\\nUnge Kondi\\nUnge Lovene\\nUnge Løve\\nUnge Mars\\nUnge Matheus\\nUnge Mo\\nUnge Moped & Tuber\\nUnge Nike\\nUnge Obi\\nUnge Panda\\nUnge Picasso\\nUnge President\\nUnge Sandbu\\nUnge Seppuku\\nUnge Solberg\\nUnge Sovende\\nUnge Svein\\nUnge T\\nUnge Ufør\\nUnge Wigum\\nUnited Five\\nUNTITLED\\nUR\\nUrgehal\\nUr Loser\\nUtakk\\nUtlandet\\nUtrop\\nUzia\\nÜber Hit BoisVV.L.Y\\nVaarin\\nVAD3R\\nValerie\\nValkyrien Allstars\\nVamp\\nVan Dan\\nVandbakk\\nVannpistol\\nVANSKABT\\nVATR\\nVassendgutane\\nVazelina Bilopphøggers\\nVegar\\nVegard & Ivar Band\\nVegard Hem Johansen\\nVegard Skrede\\nVegard Vers\\nVelan\\nVelo\\nVemund\\nVenetian Blinds\\nVENNER3000\\nVenke Knutson\\nVerdensrommet\\nVerk\\nVesle\\nVetle\\nVettche\\nVEVET\\nVibesByJungle\\nVibeto\\nVicereine\\nVicki\\nVictoria Nadine\\nVidar Busk\\nVidar Villa\\nVigan\\nVigdis\\nViktor Warholm\\nVILDE\\nVilde Franz\\nVilde Vester\\nViljar Broks\\nVillains & I\\nVillveis\\nVinni\\nVino\\nVin og Rap\\nVinskvetten\\nVi og Du\\nVirvelvind\\nVisa Magella\\nVIX\\nVIXXN\\nVndreSZN\\nVNGE HST\\nVnko\\nVNMS\\nVreid\\nVrengt\\nVulture Industries\\nVuyo\\nVVS\\nVågard\\nVågsbygd Handy\\nVårinWWaagan\\nWally\\nWanglade$h\\nWarhelo\\nWARHOLM\\nWay Down The Rainbow\\nWayra Taqui\\nwelhaven, welhaven\\nWenche Myhre\\nWhammyboy\\nwhosbenni\\nWhy Kai\\nWidmer\\nWig Wam\\nWilborn\\nWild Fauna\\nWillebo\\nWilliams War Opposition\\nWindir\\nWizardHill\\nWNDR\\nWonder The BoyXXL1\\nXXD PoloYY3ye\\nYasir Moa\\nyellowroots\\nYLG Pop\\nYNG Ghost\\nyoce\\nYodude / Heybro\\nYogisoul\\nYoguttene\\nYomi\\nYonas André\\nYoung Baller\\nYoung Bitch\\nYoung Cactus\\nYoungchaz\\nYoung Cisto\\nYoung Dreams\\nYoung E [Verifisert bruker]\\nYoung Extro\\nYoung Marcell\\nYoung Mo\\nYoung Monc\\nYoung Taylor\\nYs1\\nYung Bames\\nYung Cadence\\nYung Percs\\nYung Pung\\nYung Smul\\nYung T33\\nYung Wigz\\nYung WoodsZZakaria$\\nZamour\\nZawadi\\nZemmi\\nZeni Bois\\nZer01\\nzerok\\nZilla\\nZimmermann\\nZinf Gang\\nZitos\\nZizo\\nZoe Ofilie\\nZoo\\nZuevaÆÆlenØøyehaug\\nØyvind Mathisen\\nØyvind WeisethÅÅBB [Verifisert bruker]\\nÅge Aleksandersen\\nÅse\\nHar vi glemt noen? Legg igjen en kommentar under (Suggest an improvement or text correction to earn News IQ™), så blir det fikset ASAP!Denne teksten kommer fra Rap Genius Norge!5Embed\",\n",
       "       'E.T. Lyrics[Verse One: Mickey Factz]\\nSee, I seen so many faces\\nI\\'ve been to many places\\nSo, I get so tired of dating\\nThat, I just get tired of waiting\\nI met these species of woman\\nIt was nothing to keep me from looking\\nSo I wondered if she was from Brooklyn\\nCause she was out of this world\\nI need some info about this girl\\nLooking fabulous, pushing a Saturn\\nI hope she take me to her planet\\nIf she touch me then it\\'ll get ugly\\nIf I\\'m lucky, she will abduct me\\nOn a spaceship and tell me she want me\\nI know I got her\\nNow that\\'s what I call a close encounter\\nUhh\\n[Hook]\\nThey say I\\'m extraterrestrial\\nWhich means I\\'m out of this world\\nYour glow is oh so sexual\\nSo you should phone home to me girl\\n\\n[Verse Two: Harlem\\'s Cash]\\nThey say I got E.T.\\'s bling\\n? spaceship, red or blue pills, now we in the Matrix\\nForeign top models, yeah I stay with\\nAn illegal alien chick stuck in immigration\\nSee she from Belize\\nBut just invaded South Beach\\nAsked to be brought to her leader\\nThey directed her to me\\nThe one who bubble from the bottom like Nikes\\nNow I\\'m moon walking niggas in my Y3s\\nNot in vain/vein though, no IV\\nTwin baby boys, Siamese Tyrese\\nSo if it ain\\'t about scratch, then no flees\\nI\\'m a ? like racist, nigga please\\n(6, 5, 4, 3, 2, 1)\\nI\\'m outta this world Apollo 13\\nShe Mindy I\\'m Mork around these Earthlings\\nChampion\\n? to Earth rings\\nYou a Fo kid, he heard he had wings\\nCash, Gordon, Mickey, me\\nYou might also like[Hook](x2):\\nThey say I\\'m extraterrestrial\\nWhich means I\\'m out of this world\\nYour glow is oh so sexual\\nSo you should phone home to me girl\\n\\n[Verse Three: XV]\\nWorking at the Daily Planet, I manage to meet her\\nTook off my glasses so I could really see her\\nShe said, \"I love the Squarian demeanor\\nSo Square in the Circle, put a circle around my finger.\"\\nMust of had me confused, my name\\'s Clark Kent\\nAnd I landed in Kansas from a star ship\\nOpen up the closet in my apartment\\n\"If you ain\\'t Superman then what do you call this?\"\\nDamn\\nNow she know my secret\\n\"Now tell me what I gotta do to make you keep it.\"\\n\"Fly me around the world and buy me Victoria Secret\\nAnd I\\'ll be so tight that I could never ever leak it.\"\\n\"True dat.\" Should of knew that from jump street\\nUnder the covers and then she comes sleep\\nMix Master Ice on the process\\nThe new UTFO, you the newest object\\nPeace\\n[Hook](x2)\\nThey say I\\'m extraterrestrial\\nWhich means I\\'m out of this world\\nYour glow is oh so sexual\\nSo you should phone home to me girlEmbed',\n",
       "       ...,\n",
       "       \"#LetterOfRecognition LyricsLETTER OF RECOGNITION\\n\\nMS\\nLAURYN\\nHILL\\n\\nLetter Of Recognition-\\n\\nFirstly, I want to thank everyone who wrote letters and sent packages and books. Because of you there was not one day that I didn't receive mail while I was away. I appreciated that. Also, know that many of your letters not only touched me but continued to confirm for me what I already knew but needed to hear again: that sincere expression has a serious purpose. If one of you had been touched, picked up, encouraged, prevented from succumbing to some measure of social or Spiritual decline, then it was worth it. Folks, walk strong, seek light and Universal correction in all things. Know that man-made concerns and Universal concerns are not always in agreement. Obviously, strive to please God. Thank you again and again.\\n\\nIn Love and Freedom,\\nMs. Lauryn Hill\\n@mslaurynhill\\n__________________________________________________________________\\nMs. Hill would like to thank the following people for their words of encouragement and support:\\nJessica Lucas, Victoria, BC; Debbie J. Duncan, AL; Bessie Williams, Henderson, NC; King Solemon Kamali, Santa Clara, CA; Jahi, Oakland, CA; Candice Hughes, Las Vegas, NV; Cherisse Pittman, Alpine, AL; Joshua Curry, Benton, AR; Ana Rodriguez, Cranston, RI; Dr. Marcus Anthony Hunter, New Haven, CT; Naty Marrufo, Seaside, CA; Re Grace, Lake Forest, CA; Carter Grant, New York, NY; David Cruz, Hartford, CT; Terryl Lee Elder, Jr., Ansonia, CT; Sundiata Sadiq, Ossining, NY; Daisy, Tannersville, PA; Jerald Miller, New York, NY; Sister Souljah, New York, NY; Heidi Salcedo, Bethel, CT; Devon Young, Newark, NJ; Ralph Mitchell/Carthage Financial Group, Quincy, MA; Patrick Lanary, New York, NY; Tomeka Ramocan, Burlington, NJ; Birk Paluzzi, Elmwood Park, IL; Ms. Kirema Colbert, Hartford, CT; Derek Singletary, Astoria, NY; Steven Marcus, North Hollywood, CA; Rashad Hawkins, Alpharetta, GA; Diane L. Martin, Philadelphia, PA; Shareen Arroyo, Charlotte, NC; Mr. Daniel Aguilar, Brownsville, TX; Nadisha Postell, Bronx, NY; Claudia Bruno, Los Gatos, CA; Ms. Mamie Scott, Reading, PA; Maurad Ouazine, France; Robert D. Boyd, Maricopa, AZ; Aframerican Bookstore, Omaha, NE; Dr. Cynthia Chapman; Latisia Phillip, Virginia Beach, VA; Carl Williams, Roxbury, MA; Gerald Ludwig, Regensburg, Germany; Renee Manley, Northampton, MA; Steve Nickerson, Los Angeles, CA; Maisha Yearwood, Los Angeles, CA; Sister Nubia, Detroit, MI; Tywanda Auld, Philadelphia, PA; Sister Souljah (again), New York, NY; J.R. Castaner, New York, NY; Brenda Davis, New York, NY; John Forte’, New York, NY; Darrel Muhammad, Orangeburg, SC; Barbara Mirza, Santa Monica, CA; Patrice Tucker, Oxon Hill, MD; Haakeem Quddus, Philadelphia, PA; Casonya O’Neil, Aiken, SC; Sarah Bullard, Orlando, FL; Karen Mason, Atlanta, GA; Caroline Curran, Troy, NY; Carletta Hagins, Tampa, FL; Donelle R. Boose, Washington, DC; Reverend Frank Masso, CT; Mr. Breaux, San Jose, CA; Julia Beverly, Atlanta, GA; Shelondra Yvonne Peavy, Houston, TX; Sharon Garrett, Little Rock, AR; Tony Delgado, West Lafayette, IN; Kim ‘Soulful’ Woods, Dacula, GA; Andre Robertson, Brooklyn, NY; Jade Forest, Atlanta, GA, Ainslee Johnson, Cleveland, OH; Tom Bair, Ozone Park, NY; Ruth Brinkley, Brooklyn, NY; Dominique, Brooklyn, NY; Assary, New York, NY; Ms. Loretta Stinson, Newnan, GA; Melanie Clarke, Mt. Vernon, NY; Rondress T. Sharks, Orlando, FL; Jimmie Pierre, New Orleans, LA; Takeyah Young, Sunrise, FL; Jahi, Oakland, CA; Stacy LaDonna, Bartlett, TN; Carl Williams, Roxbury, MA; Angelina S. (Lux Prosa); Dorrian Bridges, Ft. Pierce, FL; Darlene and Caleb Fant, South Orange, NJ; Chris Danny, Rutherford, NJ; Dominique Jean-Louis, New York, NY; Ebony Epps, Bridgeport, CT; Ms. Kawanna Lyons, New Orleans, LA; Polk, Lakeville, MN; Maurad Ouazine, France (again); N. Cerise Hall, Atlanta, GA; Ayana Soyini, New York, NY; Maisha Yearwoon, Los Angeles, CA (again); Danell Alston, Washington, DC; Empress Jahleah Selassie-Aird, Newnan, GA; E. Hewong, Henderson, NV; Lance Christopher, Keene Savoy, IL; Tiffany Pollard, Atlanta, GA; Mr. Michael Taylor, Petersburg, VA; Tess Foley Kochowicz, Monroe, CT; Diane L. Martin, Philadelphia, PA; Ms. Mary Mackey, Limerick, Eire; Hannah Bleier, Roscoe, NY; Ms. Debbie J. Duncan, Eutaw, AL; RBC Ministries, Grand Rapids, MI; Joe Benjamin, Bristol, CT; Syneeda Penland, Dacula, GA; Jeremy Shea Wilson, Natchitoches, LA; Diane L. Martin, Philadelphia, PA (again); Toyia Halman, Chicago, IL; Abby A. Gonzalez, Paterson, NJ; Monesha Gethers, Fresno, CA; Wendy Ann-Clarke, Toronto, ON Canada; King Solomon, PA; Douglas Moore Sr., Belleville, NJ; Marissa Gomez, Corona, CA; Malik Abdul-Aziz, North Hollywood, CA; Davonne Breedlove, Opa-Locka, FL; Paul Major, Orleans, VT; Rosenita Delva, West Palm Beach, FL; Anna Michelle Dorn-Hogan, Madison, WI; Monroe Mallory, Cleveland, OH; Angel Redmond, Leicester, NC; Angela Taylor, Friendswood, TX; Niamh Cahill Co., Laois, Ireland; Greg Pabst, Baltimore, MD; Kris Love, Fresno, TX; Angela Baltimore, Little Rock, AR, Laretta Majors, Hollywood, FL; Jade Tamara Pat Watson, Ilford, Essex; Kyrstal Roberts, St. Petersburg, FL; Briauna Trammell, Salisbury, MD; Tammi Martin-Davis, Philadelphia, PA; Chivonne Lawson, Stone Mountain, GA; Woodley Lamousnery, Stamford, CT; Issa E*; Amanda Armas, Las Vegas, NV; Shelondra Yvonne Peavy, Houston, TX; Camille Watkin, Columbia, MD; Greg Torwalt, Humboldt, SK, Canada; Trey Cousins, Hamden, CT; Angela J. Baldwin, Mt. Pleasant, SC; Alvin Burleson Jr., Renton, WA; Cynthia Ongottaud, Congo/France; Hope Leon, Los Angeles, CA; Khalilah Abdularahim, Hamden, CT; Moira Pattinson, Edinburgh, Scotland; Brittany Blackman, Brooklyn, NY; Ms. Mary Mackey, Limerick, Eire (again); Dianthia Simon, Los Angeles, CA; Mrs. Latasha Drax, Lakeland, FL; Tonia Ogun, London, UK; Trish L’Oreal Winslow, Sandy Springs, GA; Jasmine White-Killins, Plano, TX; Joi (with an Eye) Walthamstow, London UK; Heidi Salcedo, Bethel, CT; Ms. Jaleesa Bartley, Durham, NC; Jezebel Sheba Rose, Swanee, GA; Veronica Malone, Petersburg, VA; Michael Browne, Bladensburg, MD; Mr. Thomas E. Moore, San Quentin, CA; Shepherdess Angela/The Prayer Box Community, Mountain Home, AR; Carter Grant, New York, NY (again); Shaunda C. Turner, Fairlawn, NJ; Tatiana Williams, Los Angeles, CA; Lisa Marie Betancourt, Riverside, CA; Jezebel Sheba Rose, Swanee, GA (again); Mayah Dyson, Manassas, VA; McCall Brister, Mt. Juliet, TN; Carl Williams, Roxbury, MA (again); Emilienne Gray, Roselle, NJ; Ms. Darlene Fant and Family, South Orange, NJ; Ayanna L. Benton, Stamford, CT; Karla ‘Kae’ Thomas, Parkville, MD; Matthew Akins, Hyattsville, MD; Debbie J. Duncan; Eutaw, AL; Schimeka K. Galloway, Brooklyn, NY; Joshua Curry, Benton, AR (again); The Prayer Box Community, Mountain Home, AR (again); Ms. Vanessa D. May, Sylmar, CA; Jakia Handy, Los Angeles, CA; Maisha Yearwood, Los Angeles, CA; Suzette Williams, Teaneck, NJ; Destini Jammeh, Kent, WA; Ms. Sha’Rita McClurkin, Trotwood, OH; Tina Blumenberg-Williams, Portage, IN; Mr. Ryan Jordan, Wethersfield, CT; Kristen Bettencourt, Boston, MA; Timothy Stephens, Desoto, TX; Yvette Walker, Opa-Locka, FL; Maurad Oazine, France (again); Mitchell R. Weinhandl, Calgary, AB Canada; Tajh Abdulsamad, Alpharetta, GA; Yusef Trice, Chicago, IL; Mike Williams G., Barringten, MA; Ainslee Johnson, Cleveland, OH; Maisha Yearwood, Los Angeles, CA (again); Hakim ‘Hak’ Bell, West Orange, NJ; Piper Patron, Laughlin, WV; Sydney Atkinson, Austin, TX; Bill Wright and Carroll Jrdn, Washington, DC; Candice Latrice, Denver, CO; Lavonia Jenkins, Philadelphia, PA; Carter Grant, New York, NY (again); Keka Robinson, Emeryville, CA; Emmanuel Schaeffer, France; Dr. Andrea P. Lowe, La Place, LA; Keith Swan, Levittown, PA; Carl Williams, Roxbury, MA (again); Destiny Lewis, Kissimmee, FL; Lisa S. Ridgle, Hawthorne, CA; Charles ‘Duce’ Castaneda, Aurora, CO; Sheila Moore Haddad, Cookeville, TN; Anna Michelle Dorn-Hogan, Madison, WI; Phillip C. Hogan, Sr., Portage, WI; Eden, Greg and Nicole Duncan-Smith, Brooklyn, NY; Remond Wright, Opa Locka, FL; Sonia K., Brooklyn, NY; Colleen Garza, Vallejo, CA; ‘Pretty’ Nicki, East Hartford, CT; Lana DiCostanzo, Savannah, GA; Teresa Lomax, Temple Hills, MD; Lasana M. Sekou/House of Nehesi Publishers, St. Martin, Caribbean; Carter Grant, New York, NY (again); Toni Grant, Brooklyn, NY; Lia Anderson, Lauderhill, FL; MJW, Washington, DC; Mrs. Jolie Willis, Austin, TX; Maisha Yearwood, Los Angeles, CA (again); Dylan Hunziker, Naperville, IL; DeJuan Bland, Detroit, MI; James Devlin-Braswell, Atlanta, GA; K. S. Young, Wixon, MI; Nerdy LLC, Chicago, IL; Irvens Andre, Lithonia, GA; Diane L. Martin, Philadelphia, PA (again); Deborah Jane ‘Cleopatra’ Burke & The Strange Fruit Team, Los Angeles, CA; Joyce Poitier, SC; Michael Green, Fair Bluff, NC; Verlinda Bluestone; Salt Lake City, Utah; Dericka Kalee Yah Ysrayl, Glen Carbon, IL; Temel ‘Mel’ Sinclair, Sanford, NC; Kierra Poe, Cedar Rapids, IA; David Cruz, Hartford, CT (again); Apostle Charles and Prophetess Wanda Logan, Spartanburg, SC; Ms. Mary Mackey Co., Limerick, Eire (again); Evita Colon, Shippensburg, PA; Olivia S. McClenton, Perth Amboy, NJ; Debbie J. Duncan, Eutaw, AL (again); Carl Willimas, Roxbury, MA; O’Leatha Harris, Bowling Green, KY; Karl Fields, Richton Park, IL; Brandon Laster, Calumet City, IL; Kara DJ, Whitehouse Station, NJ; Nathaniel Mitchiner, Newark, NJ; Ainslee Johnson, Cleveland, OH; Patrick/The Bookstore Columbia, SC; Luney Marcello, Charlotte, NC; Maisha Yearwood, Los Angeles, CA; Maurad, France (again); Jamillah Hatim, Richardson, TX; Brian Bowers; Nazarene Englewood, CO; Shawntavia Day, Cleveland, OH; Joseph Rodriguez, Pueblo, CO; Elizabeth Gerald Flossmoor; Mitchell Thomeycroft, England, UK; Eva Jennings, Philadelphia, PA; David Cruz, Hartford, CT (again); Lloyd Aldridge Jr., Hartford, CT; Raquel Falesbork, Brooklyn, NY; Caprice Lamor, Irvington, NJ; Tomeka Ramocan, Burlington, NJ (again); Danielle Broussard, Houston, TX; Stephanie Black, New York, NY; Stacy LaDonna, Bartlett, TN; Naoisha Postell Bronx, NY; Garrard McClendon, Ph.D, Chicago State University; Debbie J. Duncan, Eutaw, AL (again); Siewa Dewar, Mississauga, ON, Canada; Tammy Kiliona, Vallejo, CA; Diane L. Martin, Philadelphia, PA (again); Leile Akahloun, Johannesburg, South Africa; Selim Tadjiae, France; Ms. Bintou Kone’, Toulouse, France; Erin Chester, VA; Maurad, France (again); Izetta Autumn Mobley, Washington, DC; Chelsea Hargrove, Clermont, FL; Tammi Diggs, Kannapolis, NC; Carl Williams, Roxbury, MA (by way of Tellinn, Estonia); UJ, Wheaton, IL; Reverend Frank Masso/Bible Prophecy Ministry, Stratford, CT; Ariel Cavaseno. Bayside, NY; Ms. Darlene Fant and Family, South Orange, NJ; Yvette Walker, Opa-Locka, FL; Laurel Forrest, Georgetown, SC; Robert Martin, Newark, NJ; Bun Linaeus, South East London, UK; Shawn Thwaites, Martinsville, VA; Kazi Odinga, Philadelphia, PA; Debbie J. Duncan, Eutaw, AL (again); Jack Splash, Miami, FL; Ms. Erica ‘Sun Blossom Kente’ River-Pinket, Burgaw, NC; Alexis F. King; Stephanie Eze, Denmark; Atiya Judson-Saunders, Stamford, CT; Jeremy Wilson, Natchitoches, LA; Danyea Brown, Marietta, GA; Theresa Bella Mosley, Cincinnati, OH; Shaconda Magwood, Atlanta, GA; Orlando Lopez, Glen Cove, NY; Petra Almic’, Croatia; LaToya Turner, St. Louis, MO; Senece Dunlop, Erie, PA; Jade A. Mcfarland, Swartara, PA; J. Sanders, Austin, Texas; Jari Tyrel Smith, Landover, MD; Maurad, France (again); Nakia Tuh Smyrna, GA (and also Tonia, Derek, Tiffany, Nakia, Mike, Cherisse, Elena); GaBrilla Ballard, Needham, MA; Ms. Mary Mackey Co. Limerick, Erie (again); Diane L. Martin, Philadelphia, PA; Joyce Swain, West Orange, NJ; Tauheedah Shukriyyah, Elkins Park, PA; Rena ‘Antonia Perdu’, Rochester, NY; Jean Simpson, Kissimmee, FL; SPC Monique Brown, APO, AE; Michael Smith, Brooklyn, NY; Josh Lynch, Elkgrove, CA; Paula Shepherd, Houston, TX; Cherisse Pitman, Alpine, AL; Ruby LeGinel, Dover, DE; Ruby Raynor, Philadelphia, PA; Angela Taylor, Friendswood, TX (again); Simae S., Cincinnati, OH; Deborah Moher, New York, NY; Deborah Jane and the Strange Fruit Production team, Los Angeles, CA; Angela Taylor, Friendswood, TX (again); Jermaine Morris, Pomona, CA; Rosi Reed, Sherman Oaks, CA; Paul Major, Orleans, VT (again); Dianthia Simon, Los Angeles, CA; Diane L. Martin, Philadelphia, PA (again); Angela M. Wyatt, Charleston, SC; Akajou McDaniel, Los Angeles, CA, Diane L. Martin, Philadelphia, PA (again); Audrey R. Clarke, Lanham, MD; Nubia Polk, Detroit, MI; Jeffery Russell; Maurad, France; Jessica Hall, Troy, AL; Amanda Torres, Roslindale, MA; Scott and Niamh Corcoran, Scarborough WA, Australia; Christina ‘Euphrates’ Jones, Atlanta, GA; Darrick Smith, Stockton, CA; Hannah Smith, Brownsville, TN; Thomas F. Henley, Houston, TX; Debbie J. Duncan, Eutaw, AL (again); D. Sana Pate, Houston, TX; Melanie Clarke, Mt. Vernon, NY; Crystal Guidry, Stockton, CA; Jason Reese, Columbus, OH; Rachel Ritchie and Family, Mississauga, ONT; Mr. James Brooker III, Raleigh, NC; Mr. James Brooker III, Raleigh, NC (again); Maisha Yearwood, Los Angeles, CA (again); Mary Mackey Limerick, Ireland; Inslee Johnson, Cleveland, OH; Reina Noguchi Kitakatsuragi-gun, Nara, JAPAN; Naoisha Postell, Bronx, NY; Nene Gomez, Bakersfield, CA; Samantha Moore; Brian and Juliana Oliver, Sebastopol, CA; Anzania Carter, Dunwoody, GA; Maurice Lunsford, Atlanta, GA; Shavaughn Barnes, Detroit, MI; The Streets Don’t Love You Back Store, Maricopa, AZ; Brandon Jackson, Addison, TX *beautiful poetry; Daria Dorsett Nassau, Bahamas; Maisha Yearwood writing from NYC (again); Carl Williams, Roxbury, MA by way of Klaipeda, Poland; Monica Knox, McDonough, GA; Naoisha Postell, Bronx, NY (again); Paul Major, Brownington, VT; Nicole McNair, Plymouth, NC; Reba Bell East, Stroudsburg, PA; Shavaughn Barnes, Detroit, MI; Tyleshia Anderson, Oroville, CA; Luke Lambert Woking, Surrey; Diane L. Martin, Philadelphia, PA (again); Tara Michael, Scranton, PA; Greg Brantley, Indian Orchard, MA*; Scott A. Sloan, Gainsville, FL; Carl Williams, Roxbury, MA by way of Berlin, Germany; Camidroel; Maarten and Charlotte; Debbie J. Duncan Eutaw, Al (again); Keka Robinson, Emenjville, CA; Maisha Yearwood from NYC, NY (again); Ms. Darlene Fant, South Orange, NJ; Mark Bowers, Newark, NJ; Jerald Miller, New York, NY; Mr. James Booker III, Raleigh, NC (again); Ceet, Philadelphia, PA; Shawntavia Day, Cleveland, OH (again); Wilda McGugan, Barnigat, NJ; Douglas Moore Jr., Belleville, NJ; Tara Michel, Dickerson City, PA (again); Maurad Ouazine, France (again); Deshaires ‘Maty’ Mathilde, Paris, France; Eric Crume, Las Vegas, NV; John A. Pristell aka R. Logical Allah, Doraville, GA; Lisa Miller Autry, Desoto, TX; Maurad, France (again); Yolanda A. Orozco, Yakima, WA; John A. Pristell aka R. Logical Allah Doraville, GA (again); Ondrae ‘Drae Divyne’ Walker, Lexington, KY; Nikia Barber-Clark, Irvington, NJ *ETP!; Ian Luther, Southhampton, England, UK; Weusi Baraka, Victory Gardens, NJ, Sarai Memphis, TN; Ms. Vanetta Grant, Brooklyn, NY; Eric Gayles, Greensborough, NC *; Tannika Charrae Myers, Philadelphia, PA*; Miriam Banks Farrakhan, Union, NJ; Debbie J. Duncan, Eutaw, AL (again); Diane L. Martin, Philadelphia, PA (again); Maisha Yearwood writing from NYC (again); Bria Bromell. New Haven, CT; Analisa Ruiz, Houston, TX; Maurad Ouazine, France (again); Christopher Chizer, Houston, TX; Inez Bonilla, Old Bridge, NJ *; DeWayne ‘Haru’ Hendrix, Atlanta, GA; Lingaire Njie, Baltimore, MD; Jamillah Salahuddin; Brooklyn, NY; Tonja Ayers, Detroit, MI; Princess Shipley, Miami, FL; Lauren Halsey, New Haven, CT; Uno Selfe, Tonawanda, NY; Natasha Wright, Nassau, Bahamas; Ryan Josey, Miami, FL; Roconia Price, Manassas, VA; Pink Renee Norbrega, S. Spring, PA; Jimmie Pierre, New Orleans, LA; Justin Blake, Brooklyn, NY; Mr. Antoine Mikell, Hagan, GA; Mikel Irisarri, La Rioja, Spain; Sheronah Dawson, West Point, GA; Kelli ‘Shrimp 40’ Handrich, Brunswick, GA; Brittani Marie ‘Georgie’ George, Charlotte, NC (beautiful drawing); Roconia Price, Manassas, VA (again); Maurad Ouazine, France (again); Maisha Yearwood, Los Angeles, CA (again); Tershema Jackson, Pine Bluff, AR; Mr. Lyle Hickman, Scotch Plains, NJ; Hannah M. Smith, Brownsville, TN (again); Maisha Yearwood, Los Angeles, CA (again); Devon Young, Newark, NJ (again); Ms. Debbie J. Duncan, Eutaw, AL (again); Roconia Price, Manassas, VA (again); Minister Beverly Spears, Hudson, NC; Stephanie, Los Angeles, CA; Pat Reid, Footscray, VIC Australia; Sil Van Der Woerd, The Netherlands; Unknown, Atlanta, GA; Latasha Burnard, Duluth, GA; Ms.Tara Michel Watkins, Dickson City, PA (5 letters); Jazmine Green, South River, NJ; Sister Wilda McGugan, Barnegat, NJ; Johnnie Dent Jr., Cleveland, OH; Stacy LaDonna Bartlett, TN and the Fugees Online Forum (again); Starasia ‘Star’ Daniel, Duluth, GA; Nick Gilchrist, Wagram, NC; Raheem Robinson, Irvington, NJ *no panic room!; Aunt Rafeekah Sabur, Newark, NJ; Private ‘Sonny’ Harrelson B. Watson; Melanie Clarke, Mt. Vernon, NY; Jessica Lee, Canton, OH; Preston McPherson, Atlanta, GA; Claudia Bruno, Los Gatos, CA (again); Candice R. Pittman and Sister G.F., Heights, OH; Sabela Gomez Diaz Galicia, Spain; Ms. Tara Michel Watkins, Dickson City, PA (again); Shelondra Peavy, Houston, TX; Nadia Barrera, San Juan Capistrano, CA; Debbie J. Duncan, Eutaw, AL (again); Malik Allah, Atlanta, GA; Jasmine D. Sayles,  Buies Creek, NC; Laurynn Navarro, Brooklyn, NY; Maurad Ouazine, France (again); Simon Dasher, New York, NY; James Booker III, Raleigh, NC; Ms. Tara Watkins, Dickson City, PA (again); Amelia Alleman Carmichael, New Haven, CT; Deborah Jane and the Strange Fruit Team, Van Nuys, CA (again); Diane L. Martin,  Philadelphia, PA (again); Keith D. Moore, Shomari, LFL, N. Langley, Rashaan Langley, and Troy Frost, Cheshire, CT; Mama G, Conshohocken, PA; John McGuire, O’Brien, FL; Diane L. Martin, Philadelphia, PA (again); Dianthia Simon, Los Angeles, CA (again); Ms. Darlene Fant, South Orange, NJ (again); Michael Green, Fair Bluff, NC; Monita Lawing,  Concord, NC, Shelondra Peavy, Houston, TX (again), Okenzie Nwoka,  Iowa City, IA; Allen DeWane Harris, Duncanville, TX; Rashad Hawkins,  Alpharetta, GA (again); Jerroid Thomas, Washington DC; Tiffany Renee ‘Twin’ Johnson, Chicago, IL; Diane L. Martin, Philadelphia, PA (again); Paul ‘PV’ Major, Brownington, VT (again); Maisha Yearwood, Los Angeles, CA (again); Mercedes, Sacramento, CA; Angela Taylor, Friends Wood, TX (again); Ms. Tara Watkins, Dickson City, PA (again); Barbara Brown-Rivera, Miami, FL; Matthew Akins, Hyattsville, MD; Terrence Calvert, Madison, TN1Embed\",\n",
       "       'Kääntöpuoli LyricsKu vaihoin maisemii mua kohteli elämän huono puoli\\nOli paljon huolii ei kavereit ja isä kuoli\\nMut nyt ku ajattelee nii onneks olin niin nuori\\nEt selviytymisen ehton ei ollu liian mont tuoppii\\nHyvän elämän muotti särky niinku lasi\\nMut kestin vaik tiesin menetettyy ei saa takasin\\nJa takasin ittelleni et koittaisin elää hyvin\\nMut faktaa oli et siit jäi mun sydämeen jälki syvin\\nJa siit pari vuot eteenpäin en ollu itseni\\nVaan paljon hämmennyst vihaa tuskaa kulki lävitseni\\nSiihen oli monii syitä ainakin tulkitsen niin\\nMut sillon mua ei ois elämää saanu suutelee ees misteli\\nPiste i:n päälle oli ku tuli hankaluuksii\\nHogasin vuosien varrel olin muuttunu muuksi\\nOon tehny paljon turhuuksii mist mä en oo ylpee\\nOsa mitättömii osa taas niinku pisto mun kylkeen\\nSilti en päättäny sylkee itteni päälle\\nVaan otin niskasta kii ja se oli mun elämän käänne\\nEnkä tiedä miten tänne olisin muuten päätyny\\nJa näin meitsist on ainakin paljon hyvää säästyny\\nJa kun pään tyynyyn pistän tulee hymy suun pieleen\\nTulee mieleen paljon asioit jotka ei menny pieleen\\nSaan olla terve vaik paljon mun verta valu tielle\\nJa ilonen siit et viel ei ollu mun aika isän viereen\\nJoskus elämä potkii mut ei saa mennä shokkiin\\nJa vaik se on ikävää usein vaan virheistä oppii\\nOppii pitään pään ylhäällä katseen kohti taivasta\\nJa vaik kaikki ei ain onnistu pitää panna parasta\\nJoskus elämä potkii järkyttää melkein shokkiin\\nJa vaik se onki ikävää usein vaan virheistä oppii\\nMut ota siitä kans oppii on turha virheit toistaa\\nJa kaikesta voi selvii vaik aluks tuntuu ettei voiskaan\\nMeitsi muistaa ku ei tienny mikä oli oikeet mikä väärää\\nSillon skidinpän etsimäs elämälle määrän päätä\\nVälil jengi joutu säätään välil kaupast kääntään\\nLiian usein jouduttiin juosta pakoon sireenin ääntä\\nEi koskaan teitä valittu tekoja harkittu\\nPaljon kokemuksii hankittu siks muistoihin kahlittu\\n96 ku alko asiat käsist luistaan yhä vaikeempi selvitä\\nVoittajan mun omist taisteluista\\nPerjantai illan jälkeen pyyhittiin verijälkii farkuista\\nTuli tuttui kaduista tuntemittomii tutuista\\nMut vaik asiat ei pysyny samana onneks tiedän\\nEt vaikeempananki aikana tosiystävät seisoo takana\\nSiks pidän faktana yksin on vaikeet olla yhtään mitään\\nJa arvostan jokaist joka sen ansaitsee niinku pitää\\nOis pitäny kelaa mitä tekee ennenku alottaa\\nKoska on totta et elämä takuul virheistä sakottaa\\nEi osannu seurauksii odottaa ei vastuut teoist ottaa\\nMut opin vaikeudet pitää kohtaa eikä unohtaa\\nJotain asioit ei voi enää muuttaa ja se kaduttaa\\nSuututtaa ku tuntuu et kaikki puskee päin skuttaa\\nMut vaik välil voi uuvuttaa ei silti pidä luovuttaa\\nPitää pysyy pinnal eikä antaa vaikeuksien hukuttaa\\nElämä kuluttaa mut kans täyn mahdollisuuksii\\nEi pidä jäädä oottaan ihmettä vaan tarttuu tilaisuuksiin\\nJoskus elämä potkii mut ei saa mennä shokkiin\\nJa vaik se on ikävää usein vaan virheistä oppii\\nOppii pitään pään ylhäällä katseen kohti taivasta\\nJa vaik kaikki ei ain onnistu pitää panna parasta\\nJoskus elämä potkii järkyttää melkein shokkiin\\nJa vaik se onki ikävää usein vaan virheistä oppii\\nMut ota siitä kans oppii on turha virheit toistaa\\nJa kaikesta voi selvii vaik aluks tuntuu ettei voiskaan\\nMä sittaan alas avaan bissen sitten toisen\\nKelaan et vaik olis mahdollist mä pois en\\nSuostuis mitään vaihtaa en ainuttakaan kokemusta\\nHyvää tai huonoo koska ne just on tehny musta\\nSen mitä mä oon mitä ääretön tarkottaa\\nEi kukaan tai mikään este pysty meitsii rajottaa\\nOn totta että välil jotuu liikaa paskaa vastaanottaan\\nMut sen ei saa antaa laittaa sua niinku lasta konttaan\\nHyvän vastakohta saa mut avaan uuden oluen\\nMietin mis oon ollu beesis missä taas ollu en\\nOn kaikkee tullu nähtyy ja tehtyy\\nKaikkeen perehtyy jokainen meistä silloin tällöin erehtyy\\nRupee lekat ehtyy kehiin uutta six packii\\nPääs pyörii et miten kaikki nätti voi yhtäkkii olla wäkkii\\nEn tiiä ei oo hajuukaan pullo kaatu tänne se rätti\\nJoskus elämä potkii mut ei saa mennä shokkiin\\nJa vaik se on ikävää usein vaan virheistä oppii\\nOppii pitään pään ylhäällä katseen kohti taivasta\\nJa vaik kaikki ei ain onnistu pitää panna parasta\\nJoskus elämä potkii järkyttää melkein shokkiin\\nJa vaik se onki ikävää usein vaan virheistä oppii\\nMut ota siitä kans oppii on turha virheit toistaa\\nJa kaikesta voi selvii vaik aluks tuntuu ettei voiskaanYou might also likeEmbed',\n",
       "       nan], dtype=object)"
      ]
     },
     "execution_count": 34,
     "metadata": {},
     "output_type": "execute_result"
    }
   ],
   "source": [
    "tracksLyricFeatures_complete[\"lyrics\"]"
   ]
  },
  {
   "cell_type": "markdown",
   "metadata": {
    "slideshow": {
     "slide_type": "slide"
    }
   },
   "source": [
    "Comparison of the FMA Small and FMA Medium dataset"
   ]
  },
  {
   "cell_type": "code",
   "execution_count": 3,
   "metadata": {
    "slideshow": {
     "slide_type": "subslide"
    }
   },
   "outputs": [
    {
     "data": {
      "text/html": [
       "<div>\n",
       "<style scoped>\n",
       "    .dataframe tbody tr th:only-of-type {\n",
       "        vertical-align: middle;\n",
       "    }\n",
       "\n",
       "    .dataframe tbody tr th {\n",
       "        vertical-align: top;\n",
       "    }\n",
       "\n",
       "    .dataframe thead th {\n",
       "        text-align: right;\n",
       "    }\n",
       "</style>\n",
       "<table border=\"1\" class=\"dataframe\">\n",
       "  <thead>\n",
       "    <tr style=\"text-align: right;\">\n",
       "      <th></th>\n",
       "      <th>Unnamed: 0.1</th>\n",
       "      <th>Unnamed: 0</th>\n",
       "      <th>id</th>\n",
       "      <th>track</th>\n",
       "      <th>trackArtist</th>\n",
       "      <th>genre</th>\n",
       "      <th>lyrics</th>\n",
       "    </tr>\n",
       "  </thead>\n",
       "  <tbody>\n",
       "    <tr>\n",
       "      <th>0</th>\n",
       "      <td>0</td>\n",
       "      <td>0</td>\n",
       "      <td>2</td>\n",
       "      <td>Food</td>\n",
       "      <td>AWOL</td>\n",
       "      <td>Hip-Hop</td>\n",
       "      <td>The Waking Blind LyricsThe waking blind, embra...</td>\n",
       "    </tr>\n",
       "    <tr>\n",
       "      <th>1</th>\n",
       "      <td>1</td>\n",
       "      <td>0</td>\n",
       "      <td>5</td>\n",
       "      <td>This World</td>\n",
       "      <td>AWOL</td>\n",
       "      <td>Hip-Hop</td>\n",
       "      <td>E.T. Lyrics[Verse One: Mickey Factz]\\nSee, I s...</td>\n",
       "    </tr>\n",
       "    <tr>\n",
       "      <th>2</th>\n",
       "      <td>2</td>\n",
       "      <td>0</td>\n",
       "      <td>10</td>\n",
       "      <td>Freeway</td>\n",
       "      <td>Kurt Vile</td>\n",
       "      <td>Pop</td>\n",
       "      <td>Freeway LyricsI got a freeway in mind, let go ...</td>\n",
       "    </tr>\n",
       "    <tr>\n",
       "      <th>3</th>\n",
       "      <td>3</td>\n",
       "      <td>0</td>\n",
       "      <td>140</td>\n",
       "      <td>Queen Of The Wires</td>\n",
       "      <td>Alec K. Redfearn &amp; the Eyesores</td>\n",
       "      <td>Folk</td>\n",
       "      <td>NaN</td>\n",
       "    </tr>\n",
       "    <tr>\n",
       "      <th>4</th>\n",
       "      <td>4</td>\n",
       "      <td>0</td>\n",
       "      <td>141</td>\n",
       "      <td>Ohio</td>\n",
       "      <td>Alec K. Redfearn &amp; the Eyesores</td>\n",
       "      <td>Folk</td>\n",
       "      <td>NaN</td>\n",
       "    </tr>\n",
       "  </tbody>\n",
       "</table>\n",
       "</div>"
      ],
      "text/plain": [
       "   Unnamed: 0.1  Unnamed: 0   id               track  \\\n",
       "0             0           0    2                Food   \n",
       "1             1           0    5          This World   \n",
       "2             2           0   10             Freeway   \n",
       "3             3           0  140  Queen Of The Wires   \n",
       "4             4           0  141                Ohio   \n",
       "\n",
       "                       trackArtist    genre  \\\n",
       "0                             AWOL  Hip-Hop   \n",
       "1                             AWOL  Hip-Hop   \n",
       "2                        Kurt Vile      Pop   \n",
       "3  Alec K. Redfearn & the Eyesores     Folk   \n",
       "4  Alec K. Redfearn & the Eyesores     Folk   \n",
       "\n",
       "                                              lyrics  \n",
       "0  The Waking Blind LyricsThe waking blind, embra...  \n",
       "1  E.T. Lyrics[Verse One: Mickey Factz]\\nSee, I s...  \n",
       "2  Freeway LyricsI got a freeway in mind, let go ...  \n",
       "3                                                NaN  \n",
       "4                                                NaN  "
      ]
     },
     "execution_count": 3,
     "metadata": {},
     "output_type": "execute_result"
    }
   ],
   "source": [
    "small_dataset = pd.read_csv('./tracksLyricFeaturesSmall/tracksLyricFeaturesComplete.csv')\n",
    "small_dataset.head()"
   ]
  },
  {
   "cell_type": "code",
   "execution_count": 2,
   "metadata": {
    "slideshow": {
     "slide_type": "subslide"
    }
   },
   "outputs": [
    {
     "data": {
      "text/html": [
       "<div>\n",
       "<style scoped>\n",
       "    .dataframe tbody tr th:only-of-type {\n",
       "        vertical-align: middle;\n",
       "    }\n",
       "\n",
       "    .dataframe tbody tr th {\n",
       "        vertical-align: top;\n",
       "    }\n",
       "\n",
       "    .dataframe thead th {\n",
       "        text-align: right;\n",
       "    }\n",
       "</style>\n",
       "<table border=\"1\" class=\"dataframe\">\n",
       "  <thead>\n",
       "    <tr style=\"text-align: right;\">\n",
       "      <th></th>\n",
       "      <th>Unnamed: 0.1</th>\n",
       "      <th>Unnamed: 0</th>\n",
       "      <th>id</th>\n",
       "      <th>track</th>\n",
       "      <th>trackArtist</th>\n",
       "      <th>genre</th>\n",
       "      <th>lyrics</th>\n",
       "    </tr>\n",
       "  </thead>\n",
       "  <tbody>\n",
       "    <tr>\n",
       "      <th>0</th>\n",
       "      <td>0</td>\n",
       "      <td>0</td>\n",
       "      <td>2</td>\n",
       "      <td>Food</td>\n",
       "      <td>AWOL</td>\n",
       "      <td>Hip-Hop</td>\n",
       "      <td>The Waking Blind LyricsThe waking blind, embra...</td>\n",
       "    </tr>\n",
       "    <tr>\n",
       "      <th>1</th>\n",
       "      <td>1</td>\n",
       "      <td>0</td>\n",
       "      <td>3</td>\n",
       "      <td>Electric Ave</td>\n",
       "      <td>AWOL</td>\n",
       "      <td>Hip-Hop</td>\n",
       "      <td>Oversikt over norske artister Lyrics*&amp;aute&amp;rom...</td>\n",
       "    </tr>\n",
       "    <tr>\n",
       "      <th>2</th>\n",
       "      <td>2</td>\n",
       "      <td>0</td>\n",
       "      <td>5</td>\n",
       "      <td>This World</td>\n",
       "      <td>AWOL</td>\n",
       "      <td>Hip-Hop</td>\n",
       "      <td>E.T. Lyrics[Verse One: Mickey Factz]\\nSee, I s...</td>\n",
       "    </tr>\n",
       "    <tr>\n",
       "      <th>3</th>\n",
       "      <td>3</td>\n",
       "      <td>0</td>\n",
       "      <td>10</td>\n",
       "      <td>Freeway</td>\n",
       "      <td>Kurt Vile</td>\n",
       "      <td>Pop</td>\n",
       "      <td>Freeway LyricsI got a freeway in mind, let go ...</td>\n",
       "    </tr>\n",
       "    <tr>\n",
       "      <th>4</th>\n",
       "      <td>4</td>\n",
       "      <td>0</td>\n",
       "      <td>134</td>\n",
       "      <td>Street Music</td>\n",
       "      <td>AWOL</td>\n",
       "      <td>Hip-Hop</td>\n",
       "      <td>Goin’ Down Lyrics[Intro: DJ Drama, Fabolous &amp; ...</td>\n",
       "    </tr>\n",
       "  </tbody>\n",
       "</table>\n",
       "</div>"
      ],
      "text/plain": [
       "   Unnamed: 0.1  Unnamed: 0   id         track trackArtist    genre  \\\n",
       "0             0           0    2          Food        AWOL  Hip-Hop   \n",
       "1             1           0    3  Electric Ave        AWOL  Hip-Hop   \n",
       "2             2           0    5    This World        AWOL  Hip-Hop   \n",
       "3             3           0   10       Freeway   Kurt Vile      Pop   \n",
       "4             4           0  134  Street Music        AWOL  Hip-Hop   \n",
       "\n",
       "                                              lyrics  \n",
       "0  The Waking Blind LyricsThe waking blind, embra...  \n",
       "1  Oversikt over norske artister Lyrics*&aute&rom...  \n",
       "2  E.T. Lyrics[Verse One: Mickey Factz]\\nSee, I s...  \n",
       "3  Freeway LyricsI got a freeway in mind, let go ...  \n",
       "4  Goin’ Down Lyrics[Intro: DJ Drama, Fabolous & ...  "
      ]
     },
     "execution_count": 2,
     "metadata": {},
     "output_type": "execute_result"
    }
   ],
   "source": [
    "medium_dataset = pd.read_csv('./tracksLyricFeatures/tracksLyricFeaturesComplete.csv')\n",
    "medium_dataset.head()"
   ]
  },
  {
   "cell_type": "code",
   "execution_count": 5,
   "metadata": {
    "slideshow": {
     "slide_type": "subslide"
    }
   },
   "outputs": [
    {
     "data": {
      "text/plain": [
       "11318"
      ]
     },
     "execution_count": 5,
     "metadata": {},
     "output_type": "execute_result"
    }
   ],
   "source": [
    "len(medium_dataset)\n",
    "len(medium_dataset[medium_dataset[\"lyrics\"].isna()])"
   ]
  },
  {
   "cell_type": "code",
   "execution_count": 5,
   "metadata": {
    "slideshow": {
     "slide_type": "subslide"
    }
   },
   "outputs": [
    {
     "name": "stdout",
     "output_type": "stream",
     "text": [
      "small dataset shape:(8000, 7) medium dataset shape:(25000, 7)\n"
     ]
    }
   ],
   "source": [
    "print(f'small dataset shape:{small_dataset.shape} medium dataset shape:{medium_dataset.shape}')"
   ]
  },
  {
   "cell_type": "markdown",
   "metadata": {
    "slideshow": {
     "slide_type": "slide"
    }
   },
   "source": [
    "Given the greater volume of the data, we decided to go with the FMA Medium dataset for which we were able to get the lyrics for ~14k songs out of the 25k songs"
   ]
  }
 ],
 "metadata": {
  "celltoolbar": "Slideshow",
  "kernelspec": {
   "display_name": "Python 3 (ipykernel)",
   "language": "python",
   "name": "python3"
  },
  "language_info": {
   "codemirror_mode": {
    "name": "ipython",
    "version": 3
   },
   "file_extension": ".py",
   "mimetype": "text/x-python",
   "name": "python",
   "nbconvert_exporter": "python",
   "pygments_lexer": "ipython3",
   "version": "3.9.7"
  },
  "vscode": {
   "interpreter": {
    "hash": "4699a25f376d65a513f5cdbbe338e0837a12cbc5eae8a3725f0e413f2e7c51eb"
   }
  }
 },
 "nbformat": 4,
 "nbformat_minor": 2
}
