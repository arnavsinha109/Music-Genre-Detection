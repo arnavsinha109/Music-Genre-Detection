{
 "cells": [
  {
   "cell_type": "markdown",
   "metadata": {
    "slideshow": {
     "slide_type": "slide"
    }
   },
   "source": [
    "### This notebook is to detect the language of the songs using the lyrics we got from Lyrics genius. It uses pretrained FastText language identification model available at https://fasttext.cc/docs/en/language-identification.html\n",
    "\n",
    "\n",
    "The language identification model (lid.176.bin) used can directly be credited to the following papers - \n",
    "\n",
    "[1] A. Joulin, E. Grave, P. Bojanowski, T. Mikolov, [Bag of Tricks for Efficient Text Classification](https://arxiv.org/abs/1607.01759)\n",
    "\n",
    "[2] A. Joulin, E. Grave, P. Bojanowski, M. Douze, H. Jégou, T. Mikolov, [FastText.zip: Compressing text classification models](https://arxiv.org/abs/1612.03651)"
   ]
  },
  {
   "cell_type": "code",
   "execution_count": 1,
   "metadata": {
    "slideshow": {
     "slide_type": "subslide"
    }
   },
   "outputs": [],
   "source": [
    "import fasttext\n",
    "import pandas as pd"
   ]
  },
  {
   "cell_type": "markdown",
   "metadata": {
    "slideshow": {
     "slide_type": "slide"
    }
   },
   "source": [
    "The function when called loads the pretrained language identification model predicts the most probable language for each songs"
   ]
  },
  {
   "cell_type": "code",
   "execution_count": 2,
   "metadata": {
    "slideshow": {
     "slide_type": "subslide"
    }
   },
   "outputs": [],
   "source": [
    "def lang_identification(data_to_use, column_to_detect):\n",
    "    # loading the pretrained language identification model\n",
    "    pretrained_model_loc = './pre-trained-models/lid.176.bin'\n",
    "    lang_model = fasttext.load_model(pretrained_model_loc)\n",
    "    lang_identified = []\n",
    "    lang_identified_prob = []\n",
    "    for lyric in data_to_use[\"lyrics\"]:\n",
    "        lyric = str(lyric).replace(\"\\n\",\" \")\n",
    "        lang_identified.append(lang_model.predict(lyric)[0][0])\n",
    "        lang_identified_prob.append(lang_model.predict(lyric)[1][0])\n",
    "        \n",
    "    top_lang_identified = pd.Series(lang_identified, name=\"top_lang_identified\")\n",
    "    top_lang_identified_prob = pd.Series(lang_identified_prob, name=\"top_lang_identified_prob\")\n",
    "\n",
    "    data_to_use = pd.concat([data_to_use, top_lang_identified, top_lang_identified_prob], axis=1)\n",
    "\n",
    "    data_to_use.loc[data_to_use[\"lyrics\"].isna(), \"top_lang_identified\"] = None\n",
    "    data_to_use.loc[data_to_use[\"lyrics\"].isna(), \"top_lang_identified_prob\"] = None\n",
    "\n",
    "    return data_to_use\n",
    "\n",
    "  "
   ]
  },
  {
   "cell_type": "markdown",
   "metadata": {
    "slideshow": {
     "slide_type": "slide"
    }
   },
   "source": [
    "Load the lyrics data"
   ]
  },
  {
   "cell_type": "code",
   "execution_count": 3,
   "metadata": {
    "slideshow": {
     "slide_type": "subslide"
    }
   },
   "outputs": [
    {
     "data": {
      "text/html": [
       "<div>\n",
       "<style scoped>\n",
       "    .dataframe tbody tr th:only-of-type {\n",
       "        vertical-align: middle;\n",
       "    }\n",
       "\n",
       "    .dataframe tbody tr th {\n",
       "        vertical-align: top;\n",
       "    }\n",
       "\n",
       "    .dataframe thead th {\n",
       "        text-align: right;\n",
       "    }\n",
       "</style>\n",
       "<table border=\"1\" class=\"dataframe\">\n",
       "  <thead>\n",
       "    <tr style=\"text-align: right;\">\n",
       "      <th></th>\n",
       "      <th>Unnamed: 0.1</th>\n",
       "      <th>Unnamed: 0</th>\n",
       "      <th>id</th>\n",
       "      <th>track</th>\n",
       "      <th>trackArtist</th>\n",
       "      <th>genre</th>\n",
       "      <th>lyrics</th>\n",
       "    </tr>\n",
       "  </thead>\n",
       "  <tbody>\n",
       "    <tr>\n",
       "      <th>0</th>\n",
       "      <td>0</td>\n",
       "      <td>0</td>\n",
       "      <td>2</td>\n",
       "      <td>Food</td>\n",
       "      <td>AWOL</td>\n",
       "      <td>Hip-Hop</td>\n",
       "      <td>The Waking Blind LyricsThe waking blind, embra...</td>\n",
       "    </tr>\n",
       "    <tr>\n",
       "      <th>1</th>\n",
       "      <td>1</td>\n",
       "      <td>0</td>\n",
       "      <td>3</td>\n",
       "      <td>Electric Ave</td>\n",
       "      <td>AWOL</td>\n",
       "      <td>Hip-Hop</td>\n",
       "      <td>Oversikt over norske artister Lyrics*&amp;aute&amp;rom...</td>\n",
       "    </tr>\n",
       "    <tr>\n",
       "      <th>2</th>\n",
       "      <td>2</td>\n",
       "      <td>0</td>\n",
       "      <td>5</td>\n",
       "      <td>This World</td>\n",
       "      <td>AWOL</td>\n",
       "      <td>Hip-Hop</td>\n",
       "      <td>E.T. Lyrics[Verse One: Mickey Factz]\\nSee, I s...</td>\n",
       "    </tr>\n",
       "    <tr>\n",
       "      <th>3</th>\n",
       "      <td>3</td>\n",
       "      <td>0</td>\n",
       "      <td>10</td>\n",
       "      <td>Freeway</td>\n",
       "      <td>Kurt Vile</td>\n",
       "      <td>Pop</td>\n",
       "      <td>Freeway LyricsI got a freeway in mind, let go ...</td>\n",
       "    </tr>\n",
       "    <tr>\n",
       "      <th>4</th>\n",
       "      <td>4</td>\n",
       "      <td>0</td>\n",
       "      <td>134</td>\n",
       "      <td>Street Music</td>\n",
       "      <td>AWOL</td>\n",
       "      <td>Hip-Hop</td>\n",
       "      <td>Goin’ Down Lyrics[Intro: DJ Drama, Fabolous &amp; ...</td>\n",
       "    </tr>\n",
       "  </tbody>\n",
       "</table>\n",
       "</div>"
      ],
      "text/plain": [
       "   Unnamed: 0.1  Unnamed: 0   id         track trackArtist    genre  \\\n",
       "0             0           0    2          Food        AWOL  Hip-Hop   \n",
       "1             1           0    3  Electric Ave        AWOL  Hip-Hop   \n",
       "2             2           0    5    This World        AWOL  Hip-Hop   \n",
       "3             3           0   10       Freeway   Kurt Vile      Pop   \n",
       "4             4           0  134  Street Music        AWOL  Hip-Hop   \n",
       "\n",
       "                                              lyrics  \n",
       "0  The Waking Blind LyricsThe waking blind, embra...  \n",
       "1  Oversikt over norske artister Lyrics*&aute&rom...  \n",
       "2  E.T. Lyrics[Verse One: Mickey Factz]\\nSee, I s...  \n",
       "3  Freeway LyricsI got a freeway in mind, let go ...  \n",
       "4  Goin’ Down Lyrics[Intro: DJ Drama, Fabolous & ...  "
      ]
     },
     "execution_count": 3,
     "metadata": {},
     "output_type": "execute_result"
    }
   ],
   "source": [
    "tracksLyricFeatures_complete = pd.read_csv('./tracksLyricFeatures/tracksLyricFeaturesComplete.csv', encoding='utf8')\n",
    "tracksLyricFeatures_complete.head()"
   ]
  },
  {
   "cell_type": "markdown",
   "metadata": {
    "slideshow": {
     "slide_type": "slide"
    }
   },
   "source": [
    "Call the model to find the language of the lyrics"
   ]
  },
  {
   "cell_type": "code",
   "execution_count": 4,
   "metadata": {
    "slideshow": {
     "slide_type": "subslide"
    }
   },
   "outputs": [
    {
     "name": "stderr",
     "output_type": "stream",
     "text": [
      "Warning : `load_model` does not return WordVectorModel or SupervisedModel any more, but a `FastText` object which is very similar.\n"
     ]
    },
    {
     "data": {
      "text/html": [
       "<div>\n",
       "<style scoped>\n",
       "    .dataframe tbody tr th:only-of-type {\n",
       "        vertical-align: middle;\n",
       "    }\n",
       "\n",
       "    .dataframe tbody tr th {\n",
       "        vertical-align: top;\n",
       "    }\n",
       "\n",
       "    .dataframe thead th {\n",
       "        text-align: right;\n",
       "    }\n",
       "</style>\n",
       "<table border=\"1\" class=\"dataframe\">\n",
       "  <thead>\n",
       "    <tr style=\"text-align: right;\">\n",
       "      <th></th>\n",
       "      <th>Unnamed: 0.1</th>\n",
       "      <th>Unnamed: 0</th>\n",
       "      <th>id</th>\n",
       "      <th>track</th>\n",
       "      <th>trackArtist</th>\n",
       "      <th>genre</th>\n",
       "      <th>lyrics</th>\n",
       "      <th>top_lang_identified</th>\n",
       "      <th>top_lang_identified_prob</th>\n",
       "    </tr>\n",
       "  </thead>\n",
       "  <tbody>\n",
       "    <tr>\n",
       "      <th>0</th>\n",
       "      <td>0</td>\n",
       "      <td>0</td>\n",
       "      <td>2</td>\n",
       "      <td>Food</td>\n",
       "      <td>AWOL</td>\n",
       "      <td>Hip-Hop</td>\n",
       "      <td>The Waking Blind LyricsThe waking blind, embra...</td>\n",
       "      <td>__label__en</td>\n",
       "      <td>0.932648</td>\n",
       "    </tr>\n",
       "    <tr>\n",
       "      <th>1</th>\n",
       "      <td>1</td>\n",
       "      <td>0</td>\n",
       "      <td>3</td>\n",
       "      <td>Electric Ave</td>\n",
       "      <td>AWOL</td>\n",
       "      <td>Hip-Hop</td>\n",
       "      <td>Oversikt over norske artister Lyrics*&amp;aute&amp;rom...</td>\n",
       "      <td>__label__en</td>\n",
       "      <td>0.253449</td>\n",
       "    </tr>\n",
       "    <tr>\n",
       "      <th>2</th>\n",
       "      <td>2</td>\n",
       "      <td>0</td>\n",
       "      <td>5</td>\n",
       "      <td>This World</td>\n",
       "      <td>AWOL</td>\n",
       "      <td>Hip-Hop</td>\n",
       "      <td>E.T. Lyrics[Verse One: Mickey Factz]\\nSee, I s...</td>\n",
       "      <td>__label__en</td>\n",
       "      <td>0.949876</td>\n",
       "    </tr>\n",
       "    <tr>\n",
       "      <th>3</th>\n",
       "      <td>3</td>\n",
       "      <td>0</td>\n",
       "      <td>10</td>\n",
       "      <td>Freeway</td>\n",
       "      <td>Kurt Vile</td>\n",
       "      <td>Pop</td>\n",
       "      <td>Freeway LyricsI got a freeway in mind, let go ...</td>\n",
       "      <td>__label__en</td>\n",
       "      <td>0.960411</td>\n",
       "    </tr>\n",
       "    <tr>\n",
       "      <th>4</th>\n",
       "      <td>4</td>\n",
       "      <td>0</td>\n",
       "      <td>134</td>\n",
       "      <td>Street Music</td>\n",
       "      <td>AWOL</td>\n",
       "      <td>Hip-Hop</td>\n",
       "      <td>Goin’ Down Lyrics[Intro: DJ Drama, Fabolous &amp; ...</td>\n",
       "      <td>__label__en</td>\n",
       "      <td>0.948774</td>\n",
       "    </tr>\n",
       "  </tbody>\n",
       "</table>\n",
       "</div>"
      ],
      "text/plain": [
       "   Unnamed: 0.1  Unnamed: 0   id         track trackArtist    genre  \\\n",
       "0             0           0    2          Food        AWOL  Hip-Hop   \n",
       "1             1           0    3  Electric Ave        AWOL  Hip-Hop   \n",
       "2             2           0    5    This World        AWOL  Hip-Hop   \n",
       "3             3           0   10       Freeway   Kurt Vile      Pop   \n",
       "4             4           0  134  Street Music        AWOL  Hip-Hop   \n",
       "\n",
       "                                              lyrics top_lang_identified  \\\n",
       "0  The Waking Blind LyricsThe waking blind, embra...         __label__en   \n",
       "1  Oversikt over norske artister Lyrics*&aute&rom...         __label__en   \n",
       "2  E.T. Lyrics[Verse One: Mickey Factz]\\nSee, I s...         __label__en   \n",
       "3  Freeway LyricsI got a freeway in mind, let go ...         __label__en   \n",
       "4  Goin’ Down Lyrics[Intro: DJ Drama, Fabolous & ...         __label__en   \n",
       "\n",
       "   top_lang_identified_prob  \n",
       "0                  0.932648  \n",
       "1                  0.253449  \n",
       "2                  0.949876  \n",
       "3                  0.960411  \n",
       "4                  0.948774  "
      ]
     },
     "execution_count": 4,
     "metadata": {},
     "output_type": "execute_result"
    }
   ],
   "source": [
    "tracksLyricFeatures = lang_identification(tracksLyricFeatures_complete,\"lyrics\")\n",
    "tracksLyricFeatures.head()"
   ]
  },
  {
   "cell_type": "markdown",
   "metadata": {
    "slideshow": {
     "slide_type": "slide"
    }
   },
   "source": [
    "Save the data with the language information"
   ]
  },
  {
   "cell_type": "code",
   "execution_count": 5,
   "metadata": {
    "slideshow": {
     "slide_type": "subslide"
    }
   },
   "outputs": [],
   "source": [
    "tracksLyricFeatures.iloc[:,2:].to_csv('./tracksLyricFeatures/tracksLyricFeaturesLang.csv', encoding=\"utf8\", index=False)"
   ]
  },
  {
   "cell_type": "code",
   "execution_count": 2,
   "metadata": {
    "slideshow": {
     "slide_type": "subslide"
    }
   },
   "outputs": [
    {
     "data": {
      "text/html": [
       "<div>\n",
       "<style scoped>\n",
       "    .dataframe tbody tr th:only-of-type {\n",
       "        vertical-align: middle;\n",
       "    }\n",
       "\n",
       "    .dataframe tbody tr th {\n",
       "        vertical-align: top;\n",
       "    }\n",
       "\n",
       "    .dataframe thead th {\n",
       "        text-align: right;\n",
       "    }\n",
       "</style>\n",
       "<table border=\"1\" class=\"dataframe\">\n",
       "  <thead>\n",
       "    <tr style=\"text-align: right;\">\n",
       "      <th></th>\n",
       "      <th>id</th>\n",
       "      <th>track</th>\n",
       "      <th>trackArtist</th>\n",
       "      <th>genre</th>\n",
       "      <th>lyrics</th>\n",
       "      <th>top_lang_identified</th>\n",
       "      <th>top_lang_identified_prob</th>\n",
       "    </tr>\n",
       "  </thead>\n",
       "  <tbody>\n",
       "    <tr>\n",
       "      <th>0</th>\n",
       "      <td>2</td>\n",
       "      <td>Food</td>\n",
       "      <td>AWOL</td>\n",
       "      <td>Hip-Hop</td>\n",
       "      <td>The Waking Blind LyricsThe waking blind, embra...</td>\n",
       "      <td>__label__en</td>\n",
       "      <td>0.932648</td>\n",
       "    </tr>\n",
       "    <tr>\n",
       "      <th>1</th>\n",
       "      <td>3</td>\n",
       "      <td>Electric Ave</td>\n",
       "      <td>AWOL</td>\n",
       "      <td>Hip-Hop</td>\n",
       "      <td>Oversikt over norske artister Lyrics*&amp;aute&amp;rom...</td>\n",
       "      <td>__label__en</td>\n",
       "      <td>0.253449</td>\n",
       "    </tr>\n",
       "    <tr>\n",
       "      <th>2</th>\n",
       "      <td>5</td>\n",
       "      <td>This World</td>\n",
       "      <td>AWOL</td>\n",
       "      <td>Hip-Hop</td>\n",
       "      <td>E.T. Lyrics[Verse One: Mickey Factz]\\nSee, I s...</td>\n",
       "      <td>__label__en</td>\n",
       "      <td>0.949876</td>\n",
       "    </tr>\n",
       "    <tr>\n",
       "      <th>3</th>\n",
       "      <td>10</td>\n",
       "      <td>Freeway</td>\n",
       "      <td>Kurt Vile</td>\n",
       "      <td>Pop</td>\n",
       "      <td>Freeway LyricsI got a freeway in mind, let go ...</td>\n",
       "      <td>__label__en</td>\n",
       "      <td>0.960411</td>\n",
       "    </tr>\n",
       "    <tr>\n",
       "      <th>4</th>\n",
       "      <td>134</td>\n",
       "      <td>Street Music</td>\n",
       "      <td>AWOL</td>\n",
       "      <td>Hip-Hop</td>\n",
       "      <td>Goin’ Down Lyrics[Intro: DJ Drama, Fabolous &amp; ...</td>\n",
       "      <td>__label__en</td>\n",
       "      <td>0.948774</td>\n",
       "    </tr>\n",
       "  </tbody>\n",
       "</table>\n",
       "</div>"
      ],
      "text/plain": [
       "    id         track trackArtist    genre  \\\n",
       "0    2          Food        AWOL  Hip-Hop   \n",
       "1    3  Electric Ave        AWOL  Hip-Hop   \n",
       "2    5    This World        AWOL  Hip-Hop   \n",
       "3   10       Freeway   Kurt Vile      Pop   \n",
       "4  134  Street Music        AWOL  Hip-Hop   \n",
       "\n",
       "                                              lyrics top_lang_identified  \\\n",
       "0  The Waking Blind LyricsThe waking blind, embra...         __label__en   \n",
       "1  Oversikt over norske artister Lyrics*&aute&rom...         __label__en   \n",
       "2  E.T. Lyrics[Verse One: Mickey Factz]\\nSee, I s...         __label__en   \n",
       "3  Freeway LyricsI got a freeway in mind, let go ...         __label__en   \n",
       "4  Goin’ Down Lyrics[Intro: DJ Drama, Fabolous & ...         __label__en   \n",
       "\n",
       "   top_lang_identified_prob  \n",
       "0                  0.932648  \n",
       "1                  0.253449  \n",
       "2                  0.949876  \n",
       "3                  0.960411  \n",
       "4                  0.948774  "
      ]
     },
     "execution_count": 2,
     "metadata": {},
     "output_type": "execute_result"
    }
   ],
   "source": [
    "tracksLyricFeatures = pd.read_csv('./tracksLyricFeatures/tracksLyricFeaturesLang.csv')\n",
    "tracksLyricFeatures.head()"
   ]
  },
  {
   "cell_type": "markdown",
   "metadata": {
    "slideshow": {
     "slide_type": "slide"
    }
   },
   "source": [
    "Overall count of songs with English as the top language\n",
    "\n",
    "* Documents with english as the identified language = 12483 <> 50% - Medium Dataset\n",
    "* Documents with english as the identified language = 3954 <> 49% - Small Dataset"
   ]
  },
  {
   "cell_type": "code",
   "execution_count": 3,
   "metadata": {
    "slideshow": {
     "slide_type": "subslide"
    }
   },
   "outputs": [
    {
     "data": {
      "text/plain": [
       "__label__en    12483\n",
       "__label__fr      409\n",
       "__label__es      250\n",
       "__label__pt      125\n",
       "__label__de       98\n",
       "__label__it       90\n",
       "__label__pl       40\n",
       "__label__sr       29\n",
       "__label__la       16\n",
       "__label__sv       13\n",
       "__label__id       13\n",
       "__label__fi       12\n",
       "__label__ro       12\n",
       "__label__tr       11\n",
       "__label__hr       10\n",
       "__label__ru        9\n",
       "__label__da        9\n",
       "__label__hu        7\n",
       "__label__nl        6\n",
       "__label__no        6\n",
       "__label__cs        5\n",
       "__label__sq        4\n",
       "__label__ca        4\n",
       "__label__sk        3\n",
       "__label__ko        3\n",
       "__label__ja        3\n",
       "__label__et        2\n",
       "__label__sh        2\n",
       "__label__lv        2\n",
       "__label__fa        1\n",
       "__label__gd        1\n",
       "__label__ms        1\n",
       "__label__af        1\n",
       "__label__vi        1\n",
       "__label__sl        1\n",
       "Name: top_lang_identified, dtype: int64"
      ]
     },
     "execution_count": 3,
     "metadata": {},
     "output_type": "execute_result"
    }
   ],
   "source": [
    "tracksLyricFeatures[\"top_lang_identified\"].value_counts()"
   ]
  },
  {
   "cell_type": "markdown",
   "metadata": {
    "slideshow": {
     "slide_type": "slide"
    }
   },
   "source": [
    "Count of English songs in the >90% probability cut -\n",
    "\n",
    "* Documents with English as the identified language and prediction prob >90% = 9623 <> 38% - Medium Dataset\n",
    "* Documents with English as the identified language and prediction prob >90% = 2993 <> 37% - Small Dataset"
   ]
  },
  {
   "cell_type": "code",
   "execution_count": 8,
   "metadata": {
    "slideshow": {
     "slide_type": "subslide"
    }
   },
   "outputs": [
    {
     "data": {
      "text/plain": [
       "9623"
      ]
     },
     "execution_count": 8,
     "metadata": {},
     "output_type": "execute_result"
    }
   ],
   "source": [
    "len(tracksLyricFeatures[(tracksLyricFeatures['top_lang_identified_prob']>=0.9) & (tracksLyricFeatures['top_lang_identified']==\"__label__en\")])"
   ]
  },
  {
   "cell_type": "markdown",
   "metadata": {
    "slideshow": {
     "slide_type": "slide"
    }
   },
   "source": [
    "Count of English songs in the >80% probability cut -\n",
    "\n",
    "* Documents with English as the identified language and prediction prob >80% = 10910 <> 43% - Medium Dataset\n",
    "* Documents with English as the identified language and prediction prob >80% = 3395 <> 42% - Small Dataset\n"
   ]
  },
  {
   "cell_type": "code",
   "execution_count": 9,
   "metadata": {
    "slideshow": {
     "slide_type": "subslide"
    }
   },
   "outputs": [
    {
     "data": {
      "text/plain": [
       "10910"
      ]
     },
     "execution_count": 9,
     "metadata": {},
     "output_type": "execute_result"
    }
   ],
   "source": [
    "len(tracksLyricFeatures[(tracksLyricFeatures['top_lang_identified_prob']>=0.8) & (tracksLyricFeatures['top_lang_identified']==\"__label__en\")])"
   ]
  },
  {
   "cell_type": "markdown",
   "metadata": {
    "slideshow": {
     "slide_type": "slide"
    }
   },
   "source": [
    "Count of English songs in the >70% probability cut -\n",
    "\n",
    "* Documents with English as the identified language and prediction prob >70% = 11106 <> 45% - Medium Dataset\n",
    "* Documents with English as the identified language and prediction prob >70% = 3395 <> 43% - Small Dataset\n"
   ]
  },
  {
   "cell_type": "code",
   "execution_count": 10,
   "metadata": {
    "slideshow": {
     "slide_type": "subslide"
    }
   },
   "outputs": [
    {
     "data": {
      "text/plain": [
       "11106"
      ]
     },
     "execution_count": 10,
     "metadata": {},
     "output_type": "execute_result"
    }
   ],
   "source": [
    "len(tracksLyricFeatures[(tracksLyricFeatures['top_lang_identified_prob']>=0.7) & (tracksLyricFeatures['top_lang_identified']==\"__label__en\")])"
   ]
  },
  {
   "cell_type": "markdown",
   "metadata": {
    "slideshow": {
     "slide_type": "slide"
    }
   },
   "source": [
    "Count of English songs in the >60% probability cut -\n",
    "\n",
    "* Documents with English as the identified language and prediction prob >60% = 11521 <> 46% - Medium Dataset\n",
    "* Documents with English as the identified language and prediction prob >60% = 3590 <> 45% - Small Dataset\n"
   ]
  },
  {
   "cell_type": "code",
   "execution_count": 11,
   "metadata": {
    "slideshow": {
     "slide_type": "subslide"
    }
   },
   "outputs": [
    {
     "data": {
      "text/plain": [
       "11521"
      ]
     },
     "execution_count": 11,
     "metadata": {},
     "output_type": "execute_result"
    }
   ],
   "source": [
    "len(tracksLyricFeatures[(tracksLyricFeatures['top_lang_identified_prob']>=0.6) & (tracksLyricFeatures['top_lang_identified']==\"__label__en\")])"
   ]
  },
  {
   "cell_type": "code",
   "execution_count": 12,
   "metadata": {
    "slideshow": {
     "slide_type": "subslide"
    }
   },
   "outputs": [
    {
     "data": {
      "text/html": [
       "<div>\n",
       "<style scoped>\n",
       "    .dataframe tbody tr th:only-of-type {\n",
       "        vertical-align: middle;\n",
       "    }\n",
       "\n",
       "    .dataframe tbody tr th {\n",
       "        vertical-align: top;\n",
       "    }\n",
       "\n",
       "    .dataframe thead th {\n",
       "        text-align: right;\n",
       "    }\n",
       "</style>\n",
       "<table border=\"1\" class=\"dataframe\">\n",
       "  <thead>\n",
       "    <tr style=\"text-align: right;\">\n",
       "      <th></th>\n",
       "      <th>id</th>\n",
       "      <th>track</th>\n",
       "      <th>trackArtist</th>\n",
       "      <th>genre</th>\n",
       "      <th>lyrics</th>\n",
       "      <th>top_lang_identified</th>\n",
       "      <th>top_lang_identified_prob</th>\n",
       "    </tr>\n",
       "  </thead>\n",
       "  <tbody>\n",
       "    <tr>\n",
       "      <th>0</th>\n",
       "      <td>2</td>\n",
       "      <td>Food</td>\n",
       "      <td>AWOL</td>\n",
       "      <td>Hip-Hop</td>\n",
       "      <td>The Waking Blind LyricsThe waking blind, embra...</td>\n",
       "      <td>__label__en</td>\n",
       "      <td>0.932648</td>\n",
       "    </tr>\n",
       "    <tr>\n",
       "      <th>1</th>\n",
       "      <td>3</td>\n",
       "      <td>Electric Ave</td>\n",
       "      <td>AWOL</td>\n",
       "      <td>Hip-Hop</td>\n",
       "      <td>Oversikt over norske artister Lyrics*&amp;aute&amp;rom...</td>\n",
       "      <td>__label__en</td>\n",
       "      <td>0.253449</td>\n",
       "    </tr>\n",
       "    <tr>\n",
       "      <th>2</th>\n",
       "      <td>5</td>\n",
       "      <td>This World</td>\n",
       "      <td>AWOL</td>\n",
       "      <td>Hip-Hop</td>\n",
       "      <td>E.T. Lyrics[Verse One: Mickey Factz]\\nSee, I s...</td>\n",
       "      <td>__label__en</td>\n",
       "      <td>0.949876</td>\n",
       "    </tr>\n",
       "    <tr>\n",
       "      <th>3</th>\n",
       "      <td>10</td>\n",
       "      <td>Freeway</td>\n",
       "      <td>Kurt Vile</td>\n",
       "      <td>Pop</td>\n",
       "      <td>Freeway LyricsI got a freeway in mind, let go ...</td>\n",
       "      <td>__label__en</td>\n",
       "      <td>0.960411</td>\n",
       "    </tr>\n",
       "    <tr>\n",
       "      <th>4</th>\n",
       "      <td>134</td>\n",
       "      <td>Street Music</td>\n",
       "      <td>AWOL</td>\n",
       "      <td>Hip-Hop</td>\n",
       "      <td>Goin’ Down Lyrics[Intro: DJ Drama, Fabolous &amp; ...</td>\n",
       "      <td>__label__en</td>\n",
       "      <td>0.948774</td>\n",
       "    </tr>\n",
       "    <tr>\n",
       "      <th>...</th>\n",
       "      <td>...</td>\n",
       "      <td>...</td>\n",
       "      <td>...</td>\n",
       "      <td>...</td>\n",
       "      <td>...</td>\n",
       "      <td>...</td>\n",
       "      <td>...</td>\n",
       "    </tr>\n",
       "    <tr>\n",
       "      <th>24990</th>\n",
       "      <td>155292</td>\n",
       "      <td>Scarlet Sails</td>\n",
       "      <td>Alex Mason</td>\n",
       "      <td>Instrumental</td>\n",
       "      <td>Big Red Son LyricsTHE AMERICAN ACADEMY of Emer...</td>\n",
       "      <td>__label__en</td>\n",
       "      <td>0.944068</td>\n",
       "    </tr>\n",
       "    <tr>\n",
       "      <th>24992</th>\n",
       "      <td>155294</td>\n",
       "      <td>Cast Away</td>\n",
       "      <td>Alex Mason</td>\n",
       "      <td>Instrumental</td>\n",
       "      <td>March 2022 Singles Release Calendar LyricsAtte...</td>\n",
       "      <td>__label__en</td>\n",
       "      <td>0.481507</td>\n",
       "    </tr>\n",
       "    <tr>\n",
       "      <th>24993</th>\n",
       "      <td>155295</td>\n",
       "      <td>Attraction</td>\n",
       "      <td>Alex Mason/The Minor Emotion</td>\n",
       "      <td>Instrumental</td>\n",
       "      <td>Game Law: “Have Fun!” Lyrics|ABCDEFGHIJKLMNOPQ...</td>\n",
       "      <td>__label__en</td>\n",
       "      <td>0.936187</td>\n",
       "    </tr>\n",
       "    <tr>\n",
       "      <th>24994</th>\n",
       "      <td>155296</td>\n",
       "      <td>Fallen Stars</td>\n",
       "      <td>Alex Mason</td>\n",
       "      <td>Instrumental</td>\n",
       "      <td>2018 haywoodindahood Listening Log LyricsLast ...</td>\n",
       "      <td>__label__en</td>\n",
       "      <td>0.631934</td>\n",
       "    </tr>\n",
       "    <tr>\n",
       "      <th>24997</th>\n",
       "      <td>155306</td>\n",
       "      <td>Tiny Man</td>\n",
       "      <td>Greg Atkinson</td>\n",
       "      <td>Folk</td>\n",
       "      <td>#LetterOfRecognition LyricsLETTER OF RECOGNITI...</td>\n",
       "      <td>__label__en</td>\n",
       "      <td>0.680165</td>\n",
       "    </tr>\n",
       "  </tbody>\n",
       "</table>\n",
       "<p>12483 rows × 7 columns</p>\n",
       "</div>"
      ],
      "text/plain": [
       "           id          track                   trackArtist         genre  \\\n",
       "0           2           Food                          AWOL       Hip-Hop   \n",
       "1           3   Electric Ave                          AWOL       Hip-Hop   \n",
       "2           5     This World                          AWOL       Hip-Hop   \n",
       "3          10        Freeway                     Kurt Vile           Pop   \n",
       "4         134   Street Music                          AWOL       Hip-Hop   \n",
       "...       ...            ...                           ...           ...   \n",
       "24990  155292  Scarlet Sails                    Alex Mason  Instrumental   \n",
       "24992  155294      Cast Away                    Alex Mason  Instrumental   \n",
       "24993  155295     Attraction  Alex Mason/The Minor Emotion  Instrumental   \n",
       "24994  155296   Fallen Stars                    Alex Mason  Instrumental   \n",
       "24997  155306       Tiny Man                 Greg Atkinson          Folk   \n",
       "\n",
       "                                                  lyrics top_lang_identified  \\\n",
       "0      The Waking Blind LyricsThe waking blind, embra...         __label__en   \n",
       "1      Oversikt over norske artister Lyrics*&aute&rom...         __label__en   \n",
       "2      E.T. Lyrics[Verse One: Mickey Factz]\\nSee, I s...         __label__en   \n",
       "3      Freeway LyricsI got a freeway in mind, let go ...         __label__en   \n",
       "4      Goin’ Down Lyrics[Intro: DJ Drama, Fabolous & ...         __label__en   \n",
       "...                                                  ...                 ...   \n",
       "24990  Big Red Son LyricsTHE AMERICAN ACADEMY of Emer...         __label__en   \n",
       "24992  March 2022 Singles Release Calendar LyricsAtte...         __label__en   \n",
       "24993  Game Law: “Have Fun!” Lyrics|ABCDEFGHIJKLMNOPQ...         __label__en   \n",
       "24994  2018 haywoodindahood Listening Log LyricsLast ...         __label__en   \n",
       "24997  #LetterOfRecognition LyricsLETTER OF RECOGNITI...         __label__en   \n",
       "\n",
       "       top_lang_identified_prob  \n",
       "0                      0.932648  \n",
       "1                      0.253449  \n",
       "2                      0.949876  \n",
       "3                      0.960411  \n",
       "4                      0.948774  \n",
       "...                         ...  \n",
       "24990                  0.944068  \n",
       "24992                  0.481507  \n",
       "24993                  0.936187  \n",
       "24994                  0.631934  \n",
       "24997                  0.680165  \n",
       "\n",
       "[12483 rows x 7 columns]"
      ]
     },
     "execution_count": 12,
     "metadata": {},
     "output_type": "execute_result"
    }
   ],
   "source": [
    "tracksLyricFeatures[(tracksLyricFeatures['top_lang_identified']==\"__label__en\")]"
   ]
  },
  {
   "cell_type": "code",
   "execution_count": 13,
   "metadata": {
    "slideshow": {
     "slide_type": "subslide"
    }
   },
   "outputs": [
    {
     "data": {
      "text/plain": [
       "(25000, 7)"
      ]
     },
     "execution_count": 13,
     "metadata": {},
     "output_type": "execute_result"
    }
   ],
   "source": [
    "tracksLyricFeatures.shape"
   ]
  },
  {
   "cell_type": "markdown",
   "metadata": {
    "slideshow": {
     "slide_type": "slide"
    }
   },
   "source": [
    "Count of songs across all genres for different probability cuts in the medium dataset"
   ]
  },
  {
   "cell_type": "markdown",
   "metadata": {
    "slideshow": {
     "slide_type": "subslide"
    }
   },
   "source": [
    " greater than 90% probability of language prediction"
   ]
  },
  {
   "cell_type": "code",
   "execution_count": 17,
   "metadata": {
    "slideshow": {
     "slide_type": "subslide"
    }
   },
   "outputs": [
    {
     "data": {
      "text/plain": [
       "Rock                   3833\n",
       "Electronic             1860\n",
       "Experimental            744\n",
       "Folk                    728\n",
       "Hip-Hop                 696\n",
       "Instrumental            550\n",
       "Pop                     523\n",
       "Old-Time / Historic     187\n",
       "International           141\n",
       "Jazz                     85\n",
       "Country                  79\n",
       "Spoken                   61\n",
       "Classical                52\n",
       "Soul-RnB                 51\n",
       "Blues                    32\n",
       "Easy Listening            1\n",
       "Name: genre, dtype: int64"
      ]
     },
     "execution_count": 17,
     "metadata": {},
     "output_type": "execute_result"
    }
   ],
   "source": [
    "tracksLyricFeatures_end90 = tracksLyricFeatures[(tracksLyricFeatures['top_lang_identified_prob']>=0.9) & (tracksLyricFeatures['top_lang_identified']==\"__label__en\")]\n",
    "tracksLyricFeatures_end90[\"genre\"].value_counts()"
   ]
  },
  {
   "cell_type": "markdown",
   "metadata": {
    "slideshow": {
     "slide_type": "slide"
    }
   },
   "source": [
    " greater than 80% probability of language prediction"
   ]
  },
  {
   "cell_type": "code",
   "execution_count": 14,
   "metadata": {
    "slideshow": {
     "slide_type": "subslide"
    }
   },
   "outputs": [
    {
     "data": {
      "text/plain": [
       "Rock                   4411\n",
       "Electronic             2096\n",
       "Hip-Hop                 832\n",
       "Experimental            809\n",
       "Folk                    806\n",
       "Pop                     607\n",
       "Instrumental            583\n",
       "Old-Time / Historic     207\n",
       "International           153\n",
       "Jazz                     98\n",
       "Country                  87\n",
       "Spoken                   63\n",
       "Soul-RnB                 60\n",
       "Classical                56\n",
       "Blues                    39\n",
       "Easy Listening            3\n",
       "Name: genre, dtype: int64"
      ]
     },
     "execution_count": 14,
     "metadata": {},
     "output_type": "execute_result"
    }
   ],
   "source": [
    "tracksLyricFeatures_end80 = tracksLyricFeatures[(tracksLyricFeatures['top_lang_identified_prob']>=0.8) & (tracksLyricFeatures['top_lang_identified']==\"__label__en\")]\n",
    "tracksLyricFeatures_end80[\"genre\"].value_counts()"
   ]
  },
  {
   "cell_type": "markdown",
   "metadata": {
    "slideshow": {
     "slide_type": "slide"
    }
   },
   "source": [
    " greater than 70% probability of language prediction"
   ]
  },
  {
   "cell_type": "code",
   "execution_count": 15,
   "metadata": {
    "slideshow": {
     "slide_type": "subslide"
    }
   },
   "outputs": [
    {
     "data": {
      "text/plain": [
       "Rock                   4499\n",
       "Electronic             2134\n",
       "Hip-Hop                 847\n",
       "Folk                    822\n",
       "Experimental            816\n",
       "Pop                     616\n",
       "Instrumental            594\n",
       "Old-Time / Historic     207\n",
       "International           156\n",
       "Jazz                    100\n",
       "Country                  87\n",
       "Spoken                   63\n",
       "Soul-RnB                 60\n",
       "Classical                59\n",
       "Blues                    43\n",
       "Easy Listening            3\n",
       "Name: genre, dtype: int64"
      ]
     },
     "execution_count": 15,
     "metadata": {},
     "output_type": "execute_result"
    }
   ],
   "source": [
    "tracksLyricFeatures_end70 = tracksLyricFeatures[(tracksLyricFeatures['top_lang_identified_prob']>=0.7) & (tracksLyricFeatures['top_lang_identified']==\"__label__en\")]\n",
    "tracksLyricFeatures_end70[\"genre\"].value_counts()"
   ]
  },
  {
   "cell_type": "markdown",
   "metadata": {
    "slideshow": {
     "slide_type": "slide"
    }
   },
   "source": [
    "It is apparent that there is great class imbalance with Rock and Electronic genres being the majority classes. Before the model building we'll be removing some of the minority classes (Old-Time, International, Jazz, Country, Spoken, Soul-RnB, Classical, Blues, Easy Listening) from the dataset and also removing songs from the majority classes(Rock, Electronic) to treat the class imbalance\n",
    "\n",
    "Also, we will be using the songs for which English was predicted as the top langugge with greater than 80% probability"
   ]
  }
 ],
 "metadata": {
  "celltoolbar": "Slideshow",
  "kernelspec": {
   "display_name": "Python 3 (ipykernel)",
   "language": "python",
   "name": "python3"
  },
  "language_info": {
   "codemirror_mode": {
    "name": "ipython",
    "version": 3
   },
   "file_extension": ".py",
   "mimetype": "text/x-python",
   "name": "python",
   "nbconvert_exporter": "python",
   "pygments_lexer": "ipython3",
   "version": "3.9.7"
  },
  "vscode": {
   "interpreter": {
    "hash": "4699a25f376d65a513f5cdbbe338e0837a12cbc5eae8a3725f0e413f2e7c51eb"
   }
  }
 },
 "nbformat": 4,
 "nbformat_minor": 2
}
