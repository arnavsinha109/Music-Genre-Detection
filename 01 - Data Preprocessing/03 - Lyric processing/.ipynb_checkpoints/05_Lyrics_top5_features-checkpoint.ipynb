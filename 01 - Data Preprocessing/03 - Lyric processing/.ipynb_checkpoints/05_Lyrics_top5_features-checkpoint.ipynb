{
 "cells": [
  {
   "cell_type": "markdown",
   "metadata": {
    "slideshow": {
     "slide_type": "slide"
    }
   },
   "source": [
    "### In this notebook, we will determine the theme features for each song using the word representations from the Word2Vec models"
   ]
  },
  {
   "cell_type": "code",
   "execution_count": 1,
   "metadata": {
    "slideshow": {
     "slide_type": "subslide"
    }
   },
   "outputs": [],
   "source": [
    "import pandas as pd\n",
    "import gensim\n",
    "from collections import Counter\n",
    "from ast import literal_eval\n",
    "from nltk.corpus import stopwords\n",
    "stopwords=set(stopwords.words('english'))\n",
    "\n",
    "from gensim.test.utils import datapath\n",
    "from gensim.models import KeyedVectors"
   ]
  },
  {
   "cell_type": "markdown",
   "metadata": {
    "slideshow": {
     "slide_type": "slide"
    }
   },
   "source": [
    "Load the tokenized data and check its shape"
   ]
  },
  {
   "cell_type": "code",
   "execution_count": 2,
   "metadata": {
    "slideshow": {
     "slide_type": "subslide"
    }
   },
   "outputs": [
    {
     "data": {
      "text/html": [
       "<div>\n",
       "<style scoped>\n",
       "    .dataframe tbody tr th:only-of-type {\n",
       "        vertical-align: middle;\n",
       "    }\n",
       "\n",
       "    .dataframe tbody tr th {\n",
       "        vertical-align: top;\n",
       "    }\n",
       "\n",
       "    .dataframe thead th {\n",
       "        text-align: right;\n",
       "    }\n",
       "</style>\n",
       "<table border=\"1\" class=\"dataframe\">\n",
       "  <thead>\n",
       "    <tr style=\"text-align: right;\">\n",
       "      <th></th>\n",
       "      <th>id</th>\n",
       "      <th>track</th>\n",
       "      <th>trackArtist</th>\n",
       "      <th>genre</th>\n",
       "      <th>lyrics</th>\n",
       "      <th>top_lang_identified</th>\n",
       "      <th>top_lang_identified_prob</th>\n",
       "      <th>regex_cleaned_lyrics</th>\n",
       "      <th>tokenized_lyrics</th>\n",
       "    </tr>\n",
       "  </thead>\n",
       "  <tbody>\n",
       "    <tr>\n",
       "      <th>0</th>\n",
       "      <td>2</td>\n",
       "      <td>Food</td>\n",
       "      <td>AWOL</td>\n",
       "      <td>Hip-Hop</td>\n",
       "      <td>The Waking Blind LyricsThe waking blind, embra...</td>\n",
       "      <td>__label__en</td>\n",
       "      <td>0.932648</td>\n",
       "      <td>The waking blind, embraced the dark\\nThey made...</td>\n",
       "      <td>['the', 'waking', 'blind', 'embraced', 'the', ...</td>\n",
       "    </tr>\n",
       "    <tr>\n",
       "      <th>1</th>\n",
       "      <td>5</td>\n",
       "      <td>This World</td>\n",
       "      <td>AWOL</td>\n",
       "      <td>Hip-Hop</td>\n",
       "      <td>E.T. Lyrics[Verse One: Mickey Factz]\\nSee, I s...</td>\n",
       "      <td>__label__en</td>\n",
       "      <td>0.949876</td>\n",
       "      <td>\\nSee, I seen so many faces\\nI've been to many...</td>\n",
       "      <td>['see', 'seen', 'so', 'many', 'faces', 've', '...</td>\n",
       "    </tr>\n",
       "    <tr>\n",
       "      <th>2</th>\n",
       "      <td>10</td>\n",
       "      <td>Freeway</td>\n",
       "      <td>Kurt Vile</td>\n",
       "      <td>Pop</td>\n",
       "      <td>Freeway LyricsI got a freeway in mind, let go ...</td>\n",
       "      <td>__label__en</td>\n",
       "      <td>0.960411</td>\n",
       "      <td>I got a freeway in mind, let go of my head\\nWa...</td>\n",
       "      <td>['got', 'freeway', 'in', 'mind', 'let', 'go', ...</td>\n",
       "    </tr>\n",
       "    <tr>\n",
       "      <th>3</th>\n",
       "      <td>148</td>\n",
       "      <td>Blackout 2</td>\n",
       "      <td>Contradiction</td>\n",
       "      <td>Experimental</td>\n",
       "      <td>Blackout Lyrics(Verse 1: Noelz Vedere)\\nAnatom...</td>\n",
       "      <td>__label__en</td>\n",
       "      <td>0.900489</td>\n",
       "      <td>\\nAnatomic, catastrophic\\nMy profits probably ...</td>\n",
       "      <td>['anatomic', 'catastrophic', 'my', 'profits', ...</td>\n",
       "    </tr>\n",
       "    <tr>\n",
       "      <th>4</th>\n",
       "      <td>182</td>\n",
       "      <td>Jules Lost His Jewels</td>\n",
       "      <td>Ariel Pink's Haunted Graffiti</td>\n",
       "      <td>Rock</td>\n",
       "      <td>Jules Lost His Jewels Lyrics[Intro]\\nC'est la ...</td>\n",
       "      <td>__label__en</td>\n",
       "      <td>0.726533</td>\n",
       "      <td>\\nC'est la vie, c'est la vie\\nComme ci, comme ...</td>\n",
       "      <td>['est', 'la', 'vie', 'est', 'la', 'vie', 'comm...</td>\n",
       "    </tr>\n",
       "  </tbody>\n",
       "</table>\n",
       "</div>"
      ],
      "text/plain": [
       "    id                  track                    trackArtist         genre  \\\n",
       "0    2                   Food                           AWOL       Hip-Hop   \n",
       "1    5             This World                           AWOL       Hip-Hop   \n",
       "2   10                Freeway                      Kurt Vile           Pop   \n",
       "3  148             Blackout 2                  Contradiction  Experimental   \n",
       "4  182  Jules Lost His Jewels  Ariel Pink's Haunted Graffiti          Rock   \n",
       "\n",
       "                                              lyrics top_lang_identified  \\\n",
       "0  The Waking Blind LyricsThe waking blind, embra...         __label__en   \n",
       "1  E.T. Lyrics[Verse One: Mickey Factz]\\nSee, I s...         __label__en   \n",
       "2  Freeway LyricsI got a freeway in mind, let go ...         __label__en   \n",
       "3  Blackout Lyrics(Verse 1: Noelz Vedere)\\nAnatom...         __label__en   \n",
       "4  Jules Lost His Jewels Lyrics[Intro]\\nC'est la ...         __label__en   \n",
       "\n",
       "   top_lang_identified_prob  \\\n",
       "0                  0.932648   \n",
       "1                  0.949876   \n",
       "2                  0.960411   \n",
       "3                  0.900489   \n",
       "4                  0.726533   \n",
       "\n",
       "                                regex_cleaned_lyrics  \\\n",
       "0  The waking blind, embraced the dark\\nThey made...   \n",
       "1  \\nSee, I seen so many faces\\nI've been to many...   \n",
       "2  I got a freeway in mind, let go of my head\\nWa...   \n",
       "3  \\nAnatomic, catastrophic\\nMy profits probably ...   \n",
       "4  \\nC'est la vie, c'est la vie\\nComme ci, comme ...   \n",
       "\n",
       "                                    tokenized_lyrics  \n",
       "0  ['the', 'waking', 'blind', 'embraced', 'the', ...  \n",
       "1  ['see', 'seen', 'so', 'many', 'faces', 've', '...  \n",
       "2  ['got', 'freeway', 'in', 'mind', 'let', 'go', ...  \n",
       "3  ['anatomic', 'catastrophic', 'my', 'profits', ...  \n",
       "4  ['est', 'la', 'vie', 'est', 'la', 'vie', 'comm...  "
      ]
     },
     "execution_count": 2,
     "metadata": {},
     "output_type": "execute_result"
    }
   ],
   "source": [
    "trackLyricsFeaturesTokenized = pd.read_csv('./tracksLyricFeatures/tracksLyricFeaturesTokenzised.csv')\n",
    "trackLyricsFeaturesTokenized.head()"
   ]
  },
  {
   "cell_type": "code",
   "execution_count": 3,
   "metadata": {
    "slideshow": {
     "slide_type": "subslide"
    }
   },
   "outputs": [
    {
     "data": {
      "text/plain": [
       "(3954, 9)"
      ]
     },
     "execution_count": 3,
     "metadata": {},
     "output_type": "execute_result"
    }
   ],
   "source": [
    "trackLyricsFeaturesTokenized.shape"
   ]
  },
  {
   "cell_type": "code",
   "execution_count": 4,
   "metadata": {
    "slideshow": {
     "slide_type": "subslide"
    }
   },
   "outputs": [
    {
     "data": {
      "text/plain": [
       "list"
      ]
     },
     "execution_count": 4,
     "metadata": {},
     "output_type": "execute_result"
    }
   ],
   "source": [
    "trackLyricsFeaturesTokenized['tokenized_lyrics'] = trackLyricsFeaturesTokenized['tokenized_lyrics'].apply(literal_eval)\n",
    "type(trackLyricsFeaturesTokenized.iloc[0,8])"
   ]
  },
  {
   "cell_type": "markdown",
   "metadata": {
    "slideshow": {
     "slide_type": "slide"
    }
   },
   "source": [
    "The remove_stopwords() function is remove the stop words from the tokenized lyrics"
   ]
  },
  {
   "cell_type": "code",
   "execution_count": 5,
   "metadata": {
    "slideshow": {
     "slide_type": "subslide"
    }
   },
   "outputs": [],
   "source": [
    "def remove_stopwords(data):\n",
    "    temp_list = []\n",
    "    for word in data:\n",
    "        if word.lower() not in stopwords:\n",
    "            temp_list.append(word)\n",
    "    return temp_list"
   ]
  },
  {
   "cell_type": "markdown",
   "metadata": {
    "slideshow": {
     "slide_type": "slide"
    }
   },
   "source": [
    "Call remove_stopwords() on the tokenized_lyrics columns"
   ]
  },
  {
   "cell_type": "code",
   "execution_count": 8,
   "metadata": {
    "slideshow": {
     "slide_type": "subslide"
    }
   },
   "outputs": [],
   "source": [
    "trackLyricsFeaturesTokenized['tokenized_lyrics_no_stop'] = trackLyricsFeaturesTokenized['tokenized_lyrics'].apply(remove_stopwords)"
   ]
  },
  {
   "cell_type": "code",
   "execution_count": null,
   "metadata": {
    "slideshow": {
     "slide_type": "subslide"
    }
   },
   "outputs": [
    {
     "name": "stdout",
     "output_type": "stream",
     "text": [
      "['the', 'waking', 'blind', 'embraced', 'the', 'dark', 'they', 'made', 'us', 'fight', 'for', 'the', 'answers', 'they', 'made', 'us', 'they', 'made', 'us', 'fight', 'fight', 'fight', 'for', 'the', 'answers', 'they', 'made', 'us', 'fight', 'time', 'is', 'up', 'the', 'lines', 'are', 'drawn', 'in', 'sand', 'it', 'like', 'ritual', 'cleaning', 'faith', 'against', 'them', 'all', 'some', 'kind', 'of', 'wicked', 'pressure', 'growing', 'below', 'bound', 'to', 'breach', 'the', 'surface', 'gloves', 'are', 'off', 'the', 'blinders', 'tighten', 'misguided', 'hands', 'leading', 'the', 'awoken', 'food', 'for', 'thought', 'once', 'your', 'brothers', 'now', 'the', 'wretches', 'the', 'dregs', 'the', 'scum', 'and', 'the', 'bastards', 'eyes', 'up', 'grab', 'your', 'pitchforks', 'just', 'before', 'the', 'dawn', 'they', 're', 'out', 'of', 'time', 'and', 'out', 'of', 'touch', 'and', 'out', 'of', 'luck', 'with', 'the', 'air', 'that', 'we', 'breath', 'and', 'the', 'ground', 'beneath', 'their', 'feet', 'mask', 'of', 'virtue', 'you', 'll', 'hide', 'behind', 'as', 'you', 'feed', 'off', 'the', 'lies', 'bowing', 'down', 'to', 'pressure', 'with', 'no', 'resolve', 'never', 'again', 'can', 'we', 'allow', 'this', 'fear', 'to', 'hold', 'us', 'faith', 'against', 'them', 'all', 'designed', 'deny', 'and', 'deprive', 'the', 'waking', 'blind', 'embraced', 'the', 'dark', 'they', 'made', 'us', 'fight', 'for', 'the', 'answers', 'the', 'coming', 'whipping', 'winds', 'the', 'winds', 'will', 'blow', 'your', 'house', 'of', 'straw', 'away', 'they', 've', 'built', 'you', 'up', 'to', 'tear', 'you', 'down', 'they', 've', 'built', 'you', 'up', 'to', 'tear', 'you', 'down', 'you', 'might', 'also', 'likethere', 'is', 'no', 'second', 'coming', 'they', 'are', 'playing', 'with', 'your', 'heart', 'there', 'is', 'just', 'something', 'about', 'this', 'why', 'won', 'you', 'admit', 'your', 'blind', 'crusade', 'is', 'the', 'birth', 'of', 'dying', 'age', 'mask', 'of', 'virtue', 'you', 'll', 'hide', 'behind', 'as', 'you', 'feed', 'off', 'the', 'lies', 'bowing', 'down', 'to', 'pressure', 'with', 'no', 'resolve', 'and', 'with', 'no', 'resolve', 'in', 'our', 'darkened', 'heart', 'we', 'feel', 'our', 'fears', 'come', 'alive', 'and', 'it', 'lights', 'up', 'the', 'sky', 'the', 'sky', 'the', 'sky', 'the', 'sky', 'is', 'burning', 'the', 'sky', 'the', 'sky', 'is', 'burning', 'out', 'of', 'the', 'dark', 'and', 'into', 'the', 'light', 'these', 'spiteful', 'spheres', 'of', 'hate', 'got', 'the', 'world', 'burning', 'in', 'your', 'hands', 'in', 'your', 'hands', 'embed']\n"
     ]
    }
   ],
   "source": [
    "## tokenized lyrics with stopwords\n",
    "print(trackLyricsFeaturesTokenized.iloc[0,8])"
   ]
  },
  {
   "cell_type": "code",
   "execution_count": 9,
   "metadata": {
    "slideshow": {
     "slide_type": "subslide"
    }
   },
   "outputs": [
    {
     "name": "stdout",
     "output_type": "stream",
     "text": [
      "['waking', 'blind', 'embraced', 'dark', 'made', 'us', 'fight', 'answers', 'made', 'us', 'made', 'us', 'fight', 'fight', 'fight', 'answers', 'made', 'us', 'fight', 'time', 'lines', 'drawn', 'sand', 'like', 'ritual', 'cleaning', 'faith', 'kind', 'wicked', 'pressure', 'growing', 'bound', 'breach', 'surface', 'gloves', 'blinders', 'tighten', 'misguided', 'hands', 'leading', 'awoken', 'food', 'thought', 'brothers', 'wretches', 'dregs', 'scum', 'bastards', 'eyes', 'grab', 'pitchforks', 'dawn', 'time', 'touch', 'luck', 'air', 'breath', 'ground', 'beneath', 'feet', 'mask', 'virtue', 'hide', 'behind', 'feed', 'lies', 'bowing', 'pressure', 'resolve', 'never', 'allow', 'fear', 'hold', 'us', 'faith', 'designed', 'deny', 'deprive', 'waking', 'blind', 'embraced', 'dark', 'made', 'us', 'fight', 'answers', 'coming', 'whipping', 'winds', 'winds', 'blow', 'house', 'straw', 'away', 'built', 'tear', 'built', 'tear', 'might', 'also', 'likethere', 'second', 'coming', 'playing', 'heart', 'something', 'admit', 'blind', 'crusade', 'birth', 'dying', 'age', 'mask', 'virtue', 'hide', 'behind', 'feed', 'lies', 'bowing', 'pressure', 'resolve', 'resolve', 'darkened', 'heart', 'feel', 'fears', 'come', 'alive', 'lights', 'sky', 'sky', 'sky', 'sky', 'burning', 'sky', 'sky', 'burning', 'dark', 'light', 'spiteful', 'spheres', 'hate', 'got', 'world', 'burning', 'hands', 'hands', 'embed']\n"
     ]
    }
   ],
   "source": [
    "## tokenized lyrics without stopwords\n",
    "## It reduced the tokens considerably\n",
    "print(trackLyricsFeaturesTokenized.iloc[0,9])"
   ]
  },
  {
   "cell_type": "markdown",
   "metadata": {
    "slideshow": {
     "slide_type": "slide"
    }
   },
   "source": [
    "The gettop5() function is to find the 5 most frequent non-stopword words in the lyrics which will determine the theme features"
   ]
  },
  {
   "cell_type": "code",
   "execution_count": 10,
   "metadata": {
    "slideshow": {
     "slide_type": "subslide"
    }
   },
   "outputs": [],
   "source": [
    "def gettop5(lyrics):\n",
    "    x = list(Counter(lyrics).most_common())\n",
    "    result = []\n",
    "    try:\n",
    "        for i in range(0,5):\n",
    "            result.append(x[i][0])\n",
    "\n",
    "        return result\n",
    "    except:\n",
    "        print(lyrics)\n",
    "        return None"
   ]
  },
  {
   "cell_type": "markdown",
   "metadata": {
    "slideshow": {
     "slide_type": "slide"
    }
   },
   "source": [
    "Call gettop5() on the 'tokenized_lyrics_no_stop' column"
   ]
  },
  {
   "cell_type": "code",
   "execution_count": 12,
   "metadata": {
    "slideshow": {
     "slide_type": "subslide"
    }
   },
   "outputs": [
    {
     "name": "stdout",
     "output_type": "stream",
     "text": [
      "['slip', 'might', 'also', 'likeembed']\n",
      "['transcribedyou', 'might', 'also', 'likeembed']\n",
      "['embed']\n",
      "['might', 'also', 'likeembed']\n",
      "['might', 'also', 'likeembed']\n",
      "['might', 'also', 'likeembed']\n",
      "['might', 'also', 'like', 'embed']\n"
     ]
    }
   ],
   "source": [
    "trackLyricsFeaturesTokenized['tokenized_lyrics_top5_tokens'] = trackLyricsFeaturesTokenized['tokenized_lyrics_no_stop'].apply(gettop5)"
   ]
  },
  {
   "cell_type": "code",
   "execution_count": 13,
   "metadata": {
    "slideshow": {
     "slide_type": "subslide"
    }
   },
   "outputs": [
    {
     "name": "stdout",
     "output_type": "stream",
     "text": [
      "['us', 'fight', 'sky', 'made', 'blind']\n"
     ]
    }
   ],
   "source": [
    "# 'tokenized_lyrics_top5_tokens' column\n",
    "print(trackLyricsFeaturesTokenized.iloc[0,10])"
   ]
  },
  {
   "cell_type": "markdown",
   "metadata": {
    "slideshow": {
     "slide_type": "subslide"
    }
   },
   "source": [
    "Remove songs with bad lyrics i.e. lyrics with less than 5 words"
   ]
  },
  {
   "cell_type": "code",
   "execution_count": 14,
   "metadata": {
    "slideshow": {
     "slide_type": "subslide"
    }
   },
   "outputs": [
    {
     "data": {
      "text/html": [
       "<div>\n",
       "<style scoped>\n",
       "    .dataframe tbody tr th:only-of-type {\n",
       "        vertical-align: middle;\n",
       "    }\n",
       "\n",
       "    .dataframe tbody tr th {\n",
       "        vertical-align: top;\n",
       "    }\n",
       "\n",
       "    .dataframe thead th {\n",
       "        text-align: right;\n",
       "    }\n",
       "</style>\n",
       "<table border=\"1\" class=\"dataframe\">\n",
       "  <thead>\n",
       "    <tr style=\"text-align: right;\">\n",
       "      <th></th>\n",
       "      <th>id</th>\n",
       "      <th>track</th>\n",
       "      <th>trackArtist</th>\n",
       "      <th>genre</th>\n",
       "      <th>lyrics</th>\n",
       "      <th>top_lang_identified</th>\n",
       "      <th>top_lang_identified_prob</th>\n",
       "      <th>regex_cleaned_lyrics</th>\n",
       "      <th>tokenized_lyrics</th>\n",
       "      <th>tokenized_lyrics_no_stop</th>\n",
       "      <th>tokenized_lyrics_top5_tokens</th>\n",
       "    </tr>\n",
       "  </thead>\n",
       "  <tbody>\n",
       "    <tr>\n",
       "      <th>0</th>\n",
       "      <td>2</td>\n",
       "      <td>Food</td>\n",
       "      <td>AWOL</td>\n",
       "      <td>Hip-Hop</td>\n",
       "      <td>The Waking Blind LyricsThe waking blind, embra...</td>\n",
       "      <td>__label__en</td>\n",
       "      <td>0.932648</td>\n",
       "      <td>The waking blind, embraced the dark\\nThey made...</td>\n",
       "      <td>[the, waking, blind, embraced, the, dark, they...</td>\n",
       "      <td>[waking, blind, embraced, dark, made, us, figh...</td>\n",
       "      <td>[us, fight, sky, made, blind]</td>\n",
       "    </tr>\n",
       "    <tr>\n",
       "      <th>1</th>\n",
       "      <td>5</td>\n",
       "      <td>This World</td>\n",
       "      <td>AWOL</td>\n",
       "      <td>Hip-Hop</td>\n",
       "      <td>E.T. Lyrics[Verse One: Mickey Factz]\\nSee, I s...</td>\n",
       "      <td>__label__en</td>\n",
       "      <td>0.949876</td>\n",
       "      <td>\\nSee, I seen so many faces\\nI've been to many...</td>\n",
       "      <td>[see, seen, so, many, faces, ve, been, to, man...</td>\n",
       "      <td>[see, seen, many, faces, many, places, get, ti...</td>\n",
       "      <td>[world, say, see, get, girl]</td>\n",
       "    </tr>\n",
       "    <tr>\n",
       "      <th>2</th>\n",
       "      <td>10</td>\n",
       "      <td>Freeway</td>\n",
       "      <td>Kurt Vile</td>\n",
       "      <td>Pop</td>\n",
       "      <td>Freeway LyricsI got a freeway in mind, let go ...</td>\n",
       "      <td>__label__en</td>\n",
       "      <td>0.960411</td>\n",
       "      <td>I got a freeway in mind, let go of my head\\nWa...</td>\n",
       "      <td>[got, freeway, in, mind, let, go, of, my, head...</td>\n",
       "      <td>[got, freeway, mind, let, go, head, walk, line...</td>\n",
       "      <td>[got, know, go, dump, freeway]</td>\n",
       "    </tr>\n",
       "    <tr>\n",
       "      <th>3</th>\n",
       "      <td>148</td>\n",
       "      <td>Blackout 2</td>\n",
       "      <td>Contradiction</td>\n",
       "      <td>Experimental</td>\n",
       "      <td>Blackout Lyrics(Verse 1: Noelz Vedere)\\nAnatom...</td>\n",
       "      <td>__label__en</td>\n",
       "      <td>0.900489</td>\n",
       "      <td>\\nAnatomic, catastrophic\\nMy profits probably ...</td>\n",
       "      <td>[anatomic, catastrophic, my, profits, probably...</td>\n",
       "      <td>[anatomic, catastrophic, profits, probably, pa...</td>\n",
       "      <td>[better, blackout, gonna, take, never]</td>\n",
       "    </tr>\n",
       "    <tr>\n",
       "      <th>4</th>\n",
       "      <td>182</td>\n",
       "      <td>Jules Lost His Jewels</td>\n",
       "      <td>Ariel Pink's Haunted Graffiti</td>\n",
       "      <td>Rock</td>\n",
       "      <td>Jules Lost His Jewels Lyrics[Intro]\\nC'est la ...</td>\n",
       "      <td>__label__en</td>\n",
       "      <td>0.726533</td>\n",
       "      <td>\\nC'est la vie, c'est la vie\\nComme ci, comme ...</td>\n",
       "      <td>[est, la, vie, est, la, vie, comme, ci, comme,...</td>\n",
       "      <td>[est, la, vie, est, la, vie, comme, ci, comme,...</td>\n",
       "      <td>[est, la, vie, comme, ci]</td>\n",
       "    </tr>\n",
       "  </tbody>\n",
       "</table>\n",
       "</div>"
      ],
      "text/plain": [
       "    id                  track                    trackArtist         genre  \\\n",
       "0    2                   Food                           AWOL       Hip-Hop   \n",
       "1    5             This World                           AWOL       Hip-Hop   \n",
       "2   10                Freeway                      Kurt Vile           Pop   \n",
       "3  148             Blackout 2                  Contradiction  Experimental   \n",
       "4  182  Jules Lost His Jewels  Ariel Pink's Haunted Graffiti          Rock   \n",
       "\n",
       "                                              lyrics top_lang_identified  \\\n",
       "0  The Waking Blind LyricsThe waking blind, embra...         __label__en   \n",
       "1  E.T. Lyrics[Verse One: Mickey Factz]\\nSee, I s...         __label__en   \n",
       "2  Freeway LyricsI got a freeway in mind, let go ...         __label__en   \n",
       "3  Blackout Lyrics(Verse 1: Noelz Vedere)\\nAnatom...         __label__en   \n",
       "4  Jules Lost His Jewels Lyrics[Intro]\\nC'est la ...         __label__en   \n",
       "\n",
       "   top_lang_identified_prob  \\\n",
       "0                  0.932648   \n",
       "1                  0.949876   \n",
       "2                  0.960411   \n",
       "3                  0.900489   \n",
       "4                  0.726533   \n",
       "\n",
       "                                regex_cleaned_lyrics  \\\n",
       "0  The waking blind, embraced the dark\\nThey made...   \n",
       "1  \\nSee, I seen so many faces\\nI've been to many...   \n",
       "2  I got a freeway in mind, let go of my head\\nWa...   \n",
       "3  \\nAnatomic, catastrophic\\nMy profits probably ...   \n",
       "4  \\nC'est la vie, c'est la vie\\nComme ci, comme ...   \n",
       "\n",
       "                                    tokenized_lyrics  \\\n",
       "0  [the, waking, blind, embraced, the, dark, they...   \n",
       "1  [see, seen, so, many, faces, ve, been, to, man...   \n",
       "2  [got, freeway, in, mind, let, go, of, my, head...   \n",
       "3  [anatomic, catastrophic, my, profits, probably...   \n",
       "4  [est, la, vie, est, la, vie, comme, ci, comme,...   \n",
       "\n",
       "                            tokenized_lyrics_no_stop  \\\n",
       "0  [waking, blind, embraced, dark, made, us, figh...   \n",
       "1  [see, seen, many, faces, many, places, get, ti...   \n",
       "2  [got, freeway, mind, let, go, head, walk, line...   \n",
       "3  [anatomic, catastrophic, profits, probably, pa...   \n",
       "4  [est, la, vie, est, la, vie, comme, ci, comme,...   \n",
       "\n",
       "             tokenized_lyrics_top5_tokens  \n",
       "0           [us, fight, sky, made, blind]  \n",
       "1            [world, say, see, get, girl]  \n",
       "2          [got, know, go, dump, freeway]  \n",
       "3  [better, blackout, gonna, take, never]  \n",
       "4               [est, la, vie, comme, ci]  "
      ]
     },
     "execution_count": 14,
     "metadata": {},
     "output_type": "execute_result"
    }
   ],
   "source": [
    "# trackLyricsFeaturesTokenized_good_lyrics = trackLyricsFeaturesTokenized[not trackLyricsFeaturesTokenized['tokenized_lyrics_top5_tokens'].isna()]\n",
    "trackLyricsFeaturesTokenized_good_lyrics = trackLyricsFeaturesTokenized[trackLyricsFeaturesTokenized['tokenized_lyrics_top5_tokens'].notna()]\n",
    "trackLyricsFeaturesTokenized_good_lyrics.head()"
   ]
  },
  {
   "cell_type": "code",
   "execution_count": 15,
   "metadata": {
    "slideshow": {
     "slide_type": "subslide"
    }
   },
   "outputs": [
    {
     "data": {
      "text/plain": [
       "(3947, 11)"
      ]
     },
     "execution_count": 15,
     "metadata": {},
     "output_type": "execute_result"
    }
   ],
   "source": [
    "trackLyricsFeaturesTokenized_good_lyrics.shape"
   ]
  },
  {
   "cell_type": "markdown",
   "metadata": {
    "slideshow": {
     "slide_type": "slide"
    }
   },
   "source": [
    "Seperate the 5 theme words in 5 different columns"
   ]
  },
  {
   "cell_type": "code",
   "execution_count": 16,
   "metadata": {
    "slideshow": {
     "slide_type": "subslide"
    }
   },
   "outputs": [
    {
     "name": "stderr",
     "output_type": "stream",
     "text": [
      "C:\\Users\\Arnav Sinha\\AppData\\Local\\Temp\\ipykernel_60252\\3855601296.py:1: SettingWithCopyWarning: \n",
      "A value is trying to be set on a copy of a slice from a DataFrame.\n",
      "Try using .loc[row_indexer,col_indexer] = value instead\n",
      "\n",
      "See the caveats in the documentation: https://pandas.pydata.org/pandas-docs/stable/user_guide/indexing.html#returning-a-view-versus-a-copy\n",
      "  trackLyricsFeaturesTokenized_good_lyrics[['theme_token_1','theme_token_2','theme_token_3','theme_token_4','theme_token_5']] = pd.DataFrame(trackLyricsFeaturesTokenized_good_lyrics.tokenized_lyrics_top5_tokens.tolist(), index=trackLyricsFeaturesTokenized_good_lyrics.index)\n",
      "C:\\Users\\Arnav Sinha\\AppData\\Local\\Temp\\ipykernel_60252\\3855601296.py:1: SettingWithCopyWarning: \n",
      "A value is trying to be set on a copy of a slice from a DataFrame.\n",
      "Try using .loc[row_indexer,col_indexer] = value instead\n",
      "\n",
      "See the caveats in the documentation: https://pandas.pydata.org/pandas-docs/stable/user_guide/indexing.html#returning-a-view-versus-a-copy\n",
      "  trackLyricsFeaturesTokenized_good_lyrics[['theme_token_1','theme_token_2','theme_token_3','theme_token_4','theme_token_5']] = pd.DataFrame(trackLyricsFeaturesTokenized_good_lyrics.tokenized_lyrics_top5_tokens.tolist(), index=trackLyricsFeaturesTokenized_good_lyrics.index)\n",
      "C:\\Users\\Arnav Sinha\\AppData\\Local\\Temp\\ipykernel_60252\\3855601296.py:1: SettingWithCopyWarning: \n",
      "A value is trying to be set on a copy of a slice from a DataFrame.\n",
      "Try using .loc[row_indexer,col_indexer] = value instead\n",
      "\n",
      "See the caveats in the documentation: https://pandas.pydata.org/pandas-docs/stable/user_guide/indexing.html#returning-a-view-versus-a-copy\n",
      "  trackLyricsFeaturesTokenized_good_lyrics[['theme_token_1','theme_token_2','theme_token_3','theme_token_4','theme_token_5']] = pd.DataFrame(trackLyricsFeaturesTokenized_good_lyrics.tokenized_lyrics_top5_tokens.tolist(), index=trackLyricsFeaturesTokenized_good_lyrics.index)\n",
      "C:\\Users\\Arnav Sinha\\AppData\\Local\\Temp\\ipykernel_60252\\3855601296.py:1: SettingWithCopyWarning: \n",
      "A value is trying to be set on a copy of a slice from a DataFrame.\n",
      "Try using .loc[row_indexer,col_indexer] = value instead\n",
      "\n",
      "See the caveats in the documentation: https://pandas.pydata.org/pandas-docs/stable/user_guide/indexing.html#returning-a-view-versus-a-copy\n",
      "  trackLyricsFeaturesTokenized_good_lyrics[['theme_token_1','theme_token_2','theme_token_3','theme_token_4','theme_token_5']] = pd.DataFrame(trackLyricsFeaturesTokenized_good_lyrics.tokenized_lyrics_top5_tokens.tolist(), index=trackLyricsFeaturesTokenized_good_lyrics.index)\n",
      "C:\\Users\\Arnav Sinha\\AppData\\Local\\Temp\\ipykernel_60252\\3855601296.py:1: SettingWithCopyWarning: \n",
      "A value is trying to be set on a copy of a slice from a DataFrame.\n",
      "Try using .loc[row_indexer,col_indexer] = value instead\n",
      "\n",
      "See the caveats in the documentation: https://pandas.pydata.org/pandas-docs/stable/user_guide/indexing.html#returning-a-view-versus-a-copy\n",
      "  trackLyricsFeaturesTokenized_good_lyrics[['theme_token_1','theme_token_2','theme_token_3','theme_token_4','theme_token_5']] = pd.DataFrame(trackLyricsFeaturesTokenized_good_lyrics.tokenized_lyrics_top5_tokens.tolist(), index=trackLyricsFeaturesTokenized_good_lyrics.index)\n"
     ]
    }
   ],
   "source": [
    "trackLyricsFeaturesTokenized_good_lyrics[['theme_token_1','theme_token_2','theme_token_3','theme_token_4','theme_token_5']] = pd.DataFrame(trackLyricsFeaturesTokenized_good_lyrics.tokenized_lyrics_top5_tokens.tolist(), index=trackLyricsFeaturesTokenized_good_lyrics.index)"
   ]
  },
  {
   "cell_type": "code",
   "execution_count": 17,
   "metadata": {
    "slideshow": {
     "slide_type": "subslide"
    }
   },
   "outputs": [
    {
     "data": {
      "text/html": [
       "<div>\n",
       "<style scoped>\n",
       "    .dataframe tbody tr th:only-of-type {\n",
       "        vertical-align: middle;\n",
       "    }\n",
       "\n",
       "    .dataframe tbody tr th {\n",
       "        vertical-align: top;\n",
       "    }\n",
       "\n",
       "    .dataframe thead th {\n",
       "        text-align: right;\n",
       "    }\n",
       "</style>\n",
       "<table border=\"1\" class=\"dataframe\">\n",
       "  <thead>\n",
       "    <tr style=\"text-align: right;\">\n",
       "      <th></th>\n",
       "      <th>id</th>\n",
       "      <th>track</th>\n",
       "      <th>trackArtist</th>\n",
       "      <th>genre</th>\n",
       "      <th>lyrics</th>\n",
       "      <th>top_lang_identified</th>\n",
       "      <th>top_lang_identified_prob</th>\n",
       "      <th>regex_cleaned_lyrics</th>\n",
       "      <th>tokenized_lyrics</th>\n",
       "      <th>tokenized_lyrics_no_stop</th>\n",
       "      <th>tokenized_lyrics_top5_tokens</th>\n",
       "      <th>theme_token_1</th>\n",
       "      <th>theme_token_2</th>\n",
       "      <th>theme_token_3</th>\n",
       "      <th>theme_token_4</th>\n",
       "      <th>theme_token_5</th>\n",
       "    </tr>\n",
       "  </thead>\n",
       "  <tbody>\n",
       "    <tr>\n",
       "      <th>0</th>\n",
       "      <td>2</td>\n",
       "      <td>Food</td>\n",
       "      <td>AWOL</td>\n",
       "      <td>Hip-Hop</td>\n",
       "      <td>The Waking Blind LyricsThe waking blind, embra...</td>\n",
       "      <td>__label__en</td>\n",
       "      <td>0.932648</td>\n",
       "      <td>The waking blind, embraced the dark\\nThey made...</td>\n",
       "      <td>[the, waking, blind, embraced, the, dark, they...</td>\n",
       "      <td>[waking, blind, embraced, dark, made, us, figh...</td>\n",
       "      <td>[us, fight, sky, made, blind]</td>\n",
       "      <td>us</td>\n",
       "      <td>fight</td>\n",
       "      <td>sky</td>\n",
       "      <td>made</td>\n",
       "      <td>blind</td>\n",
       "    </tr>\n",
       "    <tr>\n",
       "      <th>1</th>\n",
       "      <td>5</td>\n",
       "      <td>This World</td>\n",
       "      <td>AWOL</td>\n",
       "      <td>Hip-Hop</td>\n",
       "      <td>E.T. Lyrics[Verse One: Mickey Factz]\\nSee, I s...</td>\n",
       "      <td>__label__en</td>\n",
       "      <td>0.949876</td>\n",
       "      <td>\\nSee, I seen so many faces\\nI've been to many...</td>\n",
       "      <td>[see, seen, so, many, faces, ve, been, to, man...</td>\n",
       "      <td>[see, seen, many, faces, many, places, get, ti...</td>\n",
       "      <td>[world, say, see, get, girl]</td>\n",
       "      <td>world</td>\n",
       "      <td>say</td>\n",
       "      <td>see</td>\n",
       "      <td>get</td>\n",
       "      <td>girl</td>\n",
       "    </tr>\n",
       "    <tr>\n",
       "      <th>2</th>\n",
       "      <td>10</td>\n",
       "      <td>Freeway</td>\n",
       "      <td>Kurt Vile</td>\n",
       "      <td>Pop</td>\n",
       "      <td>Freeway LyricsI got a freeway in mind, let go ...</td>\n",
       "      <td>__label__en</td>\n",
       "      <td>0.960411</td>\n",
       "      <td>I got a freeway in mind, let go of my head\\nWa...</td>\n",
       "      <td>[got, freeway, in, mind, let, go, of, my, head...</td>\n",
       "      <td>[got, freeway, mind, let, go, head, walk, line...</td>\n",
       "      <td>[got, know, go, dump, freeway]</td>\n",
       "      <td>got</td>\n",
       "      <td>know</td>\n",
       "      <td>go</td>\n",
       "      <td>dump</td>\n",
       "      <td>freeway</td>\n",
       "    </tr>\n",
       "    <tr>\n",
       "      <th>3</th>\n",
       "      <td>148</td>\n",
       "      <td>Blackout 2</td>\n",
       "      <td>Contradiction</td>\n",
       "      <td>Experimental</td>\n",
       "      <td>Blackout Lyrics(Verse 1: Noelz Vedere)\\nAnatom...</td>\n",
       "      <td>__label__en</td>\n",
       "      <td>0.900489</td>\n",
       "      <td>\\nAnatomic, catastrophic\\nMy profits probably ...</td>\n",
       "      <td>[anatomic, catastrophic, my, profits, probably...</td>\n",
       "      <td>[anatomic, catastrophic, profits, probably, pa...</td>\n",
       "      <td>[better, blackout, gonna, take, never]</td>\n",
       "      <td>better</td>\n",
       "      <td>blackout</td>\n",
       "      <td>gonna</td>\n",
       "      <td>take</td>\n",
       "      <td>never</td>\n",
       "    </tr>\n",
       "  </tbody>\n",
       "</table>\n",
       "</div>"
      ],
      "text/plain": [
       "    id       track    trackArtist         genre  \\\n",
       "0    2        Food           AWOL       Hip-Hop   \n",
       "1    5  This World           AWOL       Hip-Hop   \n",
       "2   10     Freeway      Kurt Vile           Pop   \n",
       "3  148  Blackout 2  Contradiction  Experimental   \n",
       "\n",
       "                                              lyrics top_lang_identified  \\\n",
       "0  The Waking Blind LyricsThe waking blind, embra...         __label__en   \n",
       "1  E.T. Lyrics[Verse One: Mickey Factz]\\nSee, I s...         __label__en   \n",
       "2  Freeway LyricsI got a freeway in mind, let go ...         __label__en   \n",
       "3  Blackout Lyrics(Verse 1: Noelz Vedere)\\nAnatom...         __label__en   \n",
       "\n",
       "   top_lang_identified_prob  \\\n",
       "0                  0.932648   \n",
       "1                  0.949876   \n",
       "2                  0.960411   \n",
       "3                  0.900489   \n",
       "\n",
       "                                regex_cleaned_lyrics  \\\n",
       "0  The waking blind, embraced the dark\\nThey made...   \n",
       "1  \\nSee, I seen so many faces\\nI've been to many...   \n",
       "2  I got a freeway in mind, let go of my head\\nWa...   \n",
       "3  \\nAnatomic, catastrophic\\nMy profits probably ...   \n",
       "\n",
       "                                    tokenized_lyrics  \\\n",
       "0  [the, waking, blind, embraced, the, dark, they...   \n",
       "1  [see, seen, so, many, faces, ve, been, to, man...   \n",
       "2  [got, freeway, in, mind, let, go, of, my, head...   \n",
       "3  [anatomic, catastrophic, my, profits, probably...   \n",
       "\n",
       "                            tokenized_lyrics_no_stop  \\\n",
       "0  [waking, blind, embraced, dark, made, us, figh...   \n",
       "1  [see, seen, many, faces, many, places, get, ti...   \n",
       "2  [got, freeway, mind, let, go, head, walk, line...   \n",
       "3  [anatomic, catastrophic, profits, probably, pa...   \n",
       "\n",
       "             tokenized_lyrics_top5_tokens theme_token_1 theme_token_2  \\\n",
       "0           [us, fight, sky, made, blind]            us         fight   \n",
       "1            [world, say, see, get, girl]         world           say   \n",
       "2          [got, know, go, dump, freeway]           got          know   \n",
       "3  [better, blackout, gonna, take, never]        better      blackout   \n",
       "\n",
       "  theme_token_3 theme_token_4 theme_token_5  \n",
       "0           sky          made         blind  \n",
       "1           see           get          girl  \n",
       "2            go          dump       freeway  \n",
       "3         gonna          take         never  "
      ]
     },
     "execution_count": 17,
     "metadata": {},
     "output_type": "execute_result"
    }
   ],
   "source": [
    "trackLyricsFeaturesTokenized_good_lyrics.head(4)"
   ]
  },
  {
   "cell_type": "code",
   "execution_count": 18,
   "metadata": {
    "slideshow": {
     "slide_type": "subslide"
    }
   },
   "outputs": [],
   "source": [
    "trackLyricsFeaturesTokenized_good_lyrics_cp = trackLyricsFeaturesTokenized_good_lyrics"
   ]
  },
  {
   "cell_type": "markdown",
   "metadata": {
    "slideshow": {
     "slide_type": "slide"
    }
   },
   "source": [
    "Load the Word2Vec model of 250 vector size"
   ]
  },
  {
   "cell_type": "code",
   "execution_count": 69,
   "metadata": {
    "slideshow": {
     "slide_type": "subslide"
    }
   },
   "outputs": [],
   "source": [
    "lyrics_dictionary_model = gensim.models.Word2Vec.load(\"./tracksLyricFeatures/Lyrics_Dictionary_Word2Vec.model\")"
   ]
  },
  {
   "cell_type": "code",
   "execution_count": 70,
   "metadata": {
    "slideshow": {
     "slide_type": "subslide"
    }
   },
   "outputs": [
    {
     "data": {
      "text/plain": [
       "[('passion', 0.4768434166908264),\n",
       " ('loved', 0.4057614803314209),\n",
       " ('happiness', 0.3845676779747009),\n",
       " ('lover', 0.3454592525959015),\n",
       " ('affection', 0.3384852111339569),\n",
       " ('dreams', 0.33796426653862),\n",
       " ('hate', 0.33684098720550537),\n",
       " ('lovin', 0.3353321850299835),\n",
       " ('hope', 0.3316356837749481),\n",
       " ('dance', 0.3286251723766327)]"
      ]
     },
     "execution_count": 70,
     "metadata": {},
     "output_type": "execute_result"
    }
   ],
   "source": [
    "lyrics_dictionary_model.wv.most_similar(\"love\")"
   ]
  },
  {
   "cell_type": "markdown",
   "metadata": {
    "slideshow": {
     "slide_type": "slide"
    }
   },
   "source": [
    "vectorize() function to get the vectorized value of the theme words using the Word2Vec model"
   ]
  },
  {
   "cell_type": "code",
   "execution_count": 71,
   "metadata": {
    "slideshow": {
     "slide_type": "subslide"
    }
   },
   "outputs": [],
   "source": [
    "def vectorize(x):\n",
    "    return lyrics_dictionary_model.wv[x]"
   ]
  },
  {
   "cell_type": "markdown",
   "metadata": {
    "slideshow": {
     "slide_type": "slide"
    }
   },
   "source": [
    "Call vectorize() and save the returned values in new columns"
   ]
  },
  {
   "cell_type": "code",
   "execution_count": 73,
   "metadata": {
    "slideshow": {
     "slide_type": "subslide"
    }
   },
   "outputs": [
    {
     "name": "stderr",
     "output_type": "stream",
     "text": [
      "C:\\Users\\Arnav Sinha\\AppData\\Local\\Temp\\ipykernel_83520\\1578450707.py:5: SettingWithCopyWarning: \n",
      "A value is trying to be set on a copy of a slice from a DataFrame.\n",
      "Try using .loc[row_indexer,col_indexer] = value instead\n",
      "\n",
      "See the caveats in the documentation: https://pandas.pydata.org/pandas-docs/stable/user_guide/indexing.html#returning-a-view-versus-a-copy\n",
      "  trackLyricsFeaturesTokenized_good_lyrics[i_vec] = trackLyricsFeaturesTokenized_good_lyrics[i].apply(vectorize)\n",
      "C:\\Users\\Arnav Sinha\\AppData\\Local\\Temp\\ipykernel_83520\\1578450707.py:5: SettingWithCopyWarning: \n",
      "A value is trying to be set on a copy of a slice from a DataFrame.\n",
      "Try using .loc[row_indexer,col_indexer] = value instead\n",
      "\n",
      "See the caveats in the documentation: https://pandas.pydata.org/pandas-docs/stable/user_guide/indexing.html#returning-a-view-versus-a-copy\n",
      "  trackLyricsFeaturesTokenized_good_lyrics[i_vec] = trackLyricsFeaturesTokenized_good_lyrics[i].apply(vectorize)\n",
      "C:\\Users\\Arnav Sinha\\AppData\\Local\\Temp\\ipykernel_83520\\1578450707.py:5: SettingWithCopyWarning: \n",
      "A value is trying to be set on a copy of a slice from a DataFrame.\n",
      "Try using .loc[row_indexer,col_indexer] = value instead\n",
      "\n",
      "See the caveats in the documentation: https://pandas.pydata.org/pandas-docs/stable/user_guide/indexing.html#returning-a-view-versus-a-copy\n",
      "  trackLyricsFeaturesTokenized_good_lyrics[i_vec] = trackLyricsFeaturesTokenized_good_lyrics[i].apply(vectorize)\n",
      "C:\\Users\\Arnav Sinha\\AppData\\Local\\Temp\\ipykernel_83520\\1578450707.py:5: SettingWithCopyWarning: \n",
      "A value is trying to be set on a copy of a slice from a DataFrame.\n",
      "Try using .loc[row_indexer,col_indexer] = value instead\n",
      "\n",
      "See the caveats in the documentation: https://pandas.pydata.org/pandas-docs/stable/user_guide/indexing.html#returning-a-view-versus-a-copy\n",
      "  trackLyricsFeaturesTokenized_good_lyrics[i_vec] = trackLyricsFeaturesTokenized_good_lyrics[i].apply(vectorize)\n",
      "C:\\Users\\Arnav Sinha\\AppData\\Local\\Temp\\ipykernel_83520\\1578450707.py:5: SettingWithCopyWarning: \n",
      "A value is trying to be set on a copy of a slice from a DataFrame.\n",
      "Try using .loc[row_indexer,col_indexer] = value instead\n",
      "\n",
      "See the caveats in the documentation: https://pandas.pydata.org/pandas-docs/stable/user_guide/indexing.html#returning-a-view-versus-a-copy\n",
      "  trackLyricsFeaturesTokenized_good_lyrics[i_vec] = trackLyricsFeaturesTokenized_good_lyrics[i].apply(vectorize)\n"
     ]
    },
    {
     "data": {
      "text/html": [
       "<div>\n",
       "<style scoped>\n",
       "    .dataframe tbody tr th:only-of-type {\n",
       "        vertical-align: middle;\n",
       "    }\n",
       "\n",
       "    .dataframe tbody tr th {\n",
       "        vertical-align: top;\n",
       "    }\n",
       "\n",
       "    .dataframe thead th {\n",
       "        text-align: right;\n",
       "    }\n",
       "</style>\n",
       "<table border=\"1\" class=\"dataframe\">\n",
       "  <thead>\n",
       "    <tr style=\"text-align: right;\">\n",
       "      <th></th>\n",
       "      <th>id</th>\n",
       "      <th>track</th>\n",
       "      <th>trackArtist</th>\n",
       "      <th>genre</th>\n",
       "      <th>lyrics</th>\n",
       "      <th>top_lang_identified</th>\n",
       "      <th>top_lang_identified_prob</th>\n",
       "      <th>regex_cleaned_lyrics</th>\n",
       "      <th>tokenized_lyrics</th>\n",
       "      <th>tokenized_lyrics_no_stop</th>\n",
       "      <th>...</th>\n",
       "      <th>theme_token_1</th>\n",
       "      <th>theme_token_2</th>\n",
       "      <th>theme_token_3</th>\n",
       "      <th>theme_token_4</th>\n",
       "      <th>theme_token_5</th>\n",
       "      <th>theme_token_1_vec</th>\n",
       "      <th>theme_token_2_vec</th>\n",
       "      <th>theme_token_3_vec</th>\n",
       "      <th>theme_token_4_vec</th>\n",
       "      <th>theme_token_5_vec</th>\n",
       "    </tr>\n",
       "  </thead>\n",
       "  <tbody>\n",
       "    <tr>\n",
       "      <th>0</th>\n",
       "      <td>2</td>\n",
       "      <td>Food</td>\n",
       "      <td>AWOL</td>\n",
       "      <td>Hip-Hop</td>\n",
       "      <td>The Waking Blind LyricsThe waking blind, embra...</td>\n",
       "      <td>__label__en</td>\n",
       "      <td>0.932648</td>\n",
       "      <td>The waking blind, embraced the dark\\nThey made...</td>\n",
       "      <td>[the, waking, blind, embraced, the, dark, they...</td>\n",
       "      <td>[waking, blind, embraced, dark, made, us, figh...</td>\n",
       "      <td>...</td>\n",
       "      <td>us</td>\n",
       "      <td>fight</td>\n",
       "      <td>sky</td>\n",
       "      <td>made</td>\n",
       "      <td>blind</td>\n",
       "      <td>[-0.7368858, -0.48690912, -0.6822355, 0.237681...</td>\n",
       "      <td>[-0.65264344, -0.86627525, -0.95098966, -1.614...</td>\n",
       "      <td>[-1.9216352, 0.29534137, 0.22540647, -0.280238...</td>\n",
       "      <td>[0.9126966, -0.17673089, -2.4622324, -0.719030...</td>\n",
       "      <td>[0.29462576, -0.4674098, -0.42534876, 1.163112...</td>\n",
       "    </tr>\n",
       "    <tr>\n",
       "      <th>1</th>\n",
       "      <td>5</td>\n",
       "      <td>This World</td>\n",
       "      <td>AWOL</td>\n",
       "      <td>Hip-Hop</td>\n",
       "      <td>E.T. Lyrics[Verse One: Mickey Factz]\\nSee, I s...</td>\n",
       "      <td>__label__en</td>\n",
       "      <td>0.949876</td>\n",
       "      <td>\\nSee, I seen so many faces\\nI've been to many...</td>\n",
       "      <td>[see, seen, so, many, faces, ve, been, to, man...</td>\n",
       "      <td>[see, seen, many, faces, many, places, get, ti...</td>\n",
       "      <td>...</td>\n",
       "      <td>world</td>\n",
       "      <td>say</td>\n",
       "      <td>see</td>\n",
       "      <td>get</td>\n",
       "      <td>girl</td>\n",
       "      <td>[3.1807659, -0.5182738, -2.3499858, 2.371013, ...</td>\n",
       "      <td>[0.7124076, -0.25377122, -0.56789577, -1.42382...</td>\n",
       "      <td>[-1.0426443, 2.3224962, -1.6050172, 1.5430597,...</td>\n",
       "      <td>[-1.1066152, -0.6201647, -1.9317, 1.1186424, -...</td>\n",
       "      <td>[2.0542653, -1.348139, 2.0537117, -1.4452268, ...</td>\n",
       "    </tr>\n",
       "    <tr>\n",
       "      <th>2</th>\n",
       "      <td>10</td>\n",
       "      <td>Freeway</td>\n",
       "      <td>Kurt Vile</td>\n",
       "      <td>Pop</td>\n",
       "      <td>Freeway LyricsI got a freeway in mind, let go ...</td>\n",
       "      <td>__label__en</td>\n",
       "      <td>0.960411</td>\n",
       "      <td>I got a freeway in mind, let go of my head\\nWa...</td>\n",
       "      <td>[got, freeway, in, mind, let, go, of, my, head...</td>\n",
       "      <td>[got, freeway, mind, let, go, head, walk, line...</td>\n",
       "      <td>...</td>\n",
       "      <td>got</td>\n",
       "      <td>know</td>\n",
       "      <td>go</td>\n",
       "      <td>dump</td>\n",
       "      <td>freeway</td>\n",
       "      <td>[0.59052515, -1.4287226, -2.8578434, 0.3214650...</td>\n",
       "      <td>[0.06573162, 0.6512165, -2.1585948, -1.1851531...</td>\n",
       "      <td>[-0.5467437, -0.81637454, 0.032996584, 2.33412...</td>\n",
       "      <td>[0.3819906, -0.30425143, 1.3380872, -0.1257418...</td>\n",
       "      <td>[0.35344937, -0.31860176, 0.41144308, -0.01509...</td>\n",
       "    </tr>\n",
       "    <tr>\n",
       "      <th>3</th>\n",
       "      <td>148</td>\n",
       "      <td>Blackout 2</td>\n",
       "      <td>Contradiction</td>\n",
       "      <td>Experimental</td>\n",
       "      <td>Blackout Lyrics(Verse 1: Noelz Vedere)\\nAnatom...</td>\n",
       "      <td>__label__en</td>\n",
       "      <td>0.900489</td>\n",
       "      <td>\\nAnatomic, catastrophic\\nMy profits probably ...</td>\n",
       "      <td>[anatomic, catastrophic, my, profits, probably...</td>\n",
       "      <td>[anatomic, catastrophic, profits, probably, pa...</td>\n",
       "      <td>...</td>\n",
       "      <td>better</td>\n",
       "      <td>blackout</td>\n",
       "      <td>gonna</td>\n",
       "      <td>take</td>\n",
       "      <td>never</td>\n",
       "      <td>[-0.36204743, 0.86772096, -0.8309755, -1.83883...</td>\n",
       "      <td>[0.21543865, -0.9045766, 0.73628676, -0.296150...</td>\n",
       "      <td>[-1.3718919, -1.2975837, 0.0046721785, -2.2206...</td>\n",
       "      <td>[-1.1461269, -0.28182548, 0.0060873674, 0.9467...</td>\n",
       "      <td>[-0.32878348, 3.0885634, -0.984712, 0.9389313,...</td>\n",
       "    </tr>\n",
       "  </tbody>\n",
       "</table>\n",
       "<p>4 rows × 21 columns</p>\n",
       "</div>"
      ],
      "text/plain": [
       "    id       track    trackArtist         genre  \\\n",
       "0    2        Food           AWOL       Hip-Hop   \n",
       "1    5  This World           AWOL       Hip-Hop   \n",
       "2   10     Freeway      Kurt Vile           Pop   \n",
       "3  148  Blackout 2  Contradiction  Experimental   \n",
       "\n",
       "                                              lyrics top_lang_identified  \\\n",
       "0  The Waking Blind LyricsThe waking blind, embra...         __label__en   \n",
       "1  E.T. Lyrics[Verse One: Mickey Factz]\\nSee, I s...         __label__en   \n",
       "2  Freeway LyricsI got a freeway in mind, let go ...         __label__en   \n",
       "3  Blackout Lyrics(Verse 1: Noelz Vedere)\\nAnatom...         __label__en   \n",
       "\n",
       "   top_lang_identified_prob  \\\n",
       "0                  0.932648   \n",
       "1                  0.949876   \n",
       "2                  0.960411   \n",
       "3                  0.900489   \n",
       "\n",
       "                                regex_cleaned_lyrics  \\\n",
       "0  The waking blind, embraced the dark\\nThey made...   \n",
       "1  \\nSee, I seen so many faces\\nI've been to many...   \n",
       "2  I got a freeway in mind, let go of my head\\nWa...   \n",
       "3  \\nAnatomic, catastrophic\\nMy profits probably ...   \n",
       "\n",
       "                                    tokenized_lyrics  \\\n",
       "0  [the, waking, blind, embraced, the, dark, they...   \n",
       "1  [see, seen, so, many, faces, ve, been, to, man...   \n",
       "2  [got, freeway, in, mind, let, go, of, my, head...   \n",
       "3  [anatomic, catastrophic, my, profits, probably...   \n",
       "\n",
       "                            tokenized_lyrics_no_stop  ... theme_token_1  \\\n",
       "0  [waking, blind, embraced, dark, made, us, figh...  ...            us   \n",
       "1  [see, seen, many, faces, many, places, get, ti...  ...         world   \n",
       "2  [got, freeway, mind, let, go, head, walk, line...  ...           got   \n",
       "3  [anatomic, catastrophic, profits, probably, pa...  ...        better   \n",
       "\n",
       "  theme_token_2 theme_token_3 theme_token_4 theme_token_5  \\\n",
       "0         fight           sky          made         blind   \n",
       "1           say           see           get          girl   \n",
       "2          know            go          dump       freeway   \n",
       "3      blackout         gonna          take         never   \n",
       "\n",
       "                                   theme_token_1_vec  \\\n",
       "0  [-0.7368858, -0.48690912, -0.6822355, 0.237681...   \n",
       "1  [3.1807659, -0.5182738, -2.3499858, 2.371013, ...   \n",
       "2  [0.59052515, -1.4287226, -2.8578434, 0.3214650...   \n",
       "3  [-0.36204743, 0.86772096, -0.8309755, -1.83883...   \n",
       "\n",
       "                                   theme_token_2_vec  \\\n",
       "0  [-0.65264344, -0.86627525, -0.95098966, -1.614...   \n",
       "1  [0.7124076, -0.25377122, -0.56789577, -1.42382...   \n",
       "2  [0.06573162, 0.6512165, -2.1585948, -1.1851531...   \n",
       "3  [0.21543865, -0.9045766, 0.73628676, -0.296150...   \n",
       "\n",
       "                                   theme_token_3_vec  \\\n",
       "0  [-1.9216352, 0.29534137, 0.22540647, -0.280238...   \n",
       "1  [-1.0426443, 2.3224962, -1.6050172, 1.5430597,...   \n",
       "2  [-0.5467437, -0.81637454, 0.032996584, 2.33412...   \n",
       "3  [-1.3718919, -1.2975837, 0.0046721785, -2.2206...   \n",
       "\n",
       "                                   theme_token_4_vec  \\\n",
       "0  [0.9126966, -0.17673089, -2.4622324, -0.719030...   \n",
       "1  [-1.1066152, -0.6201647, -1.9317, 1.1186424, -...   \n",
       "2  [0.3819906, -0.30425143, 1.3380872, -0.1257418...   \n",
       "3  [-1.1461269, -0.28182548, 0.0060873674, 0.9467...   \n",
       "\n",
       "                                   theme_token_5_vec  \n",
       "0  [0.29462576, -0.4674098, -0.42534876, 1.163112...  \n",
       "1  [2.0542653, -1.348139, 2.0537117, -1.4452268, ...  \n",
       "2  [0.35344937, -0.31860176, 0.41144308, -0.01509...  \n",
       "3  [-0.32878348, 3.0885634, -0.984712, 0.9389313,...  \n",
       "\n",
       "[4 rows x 21 columns]"
      ]
     },
     "execution_count": 73,
     "metadata": {},
     "output_type": "execute_result"
    }
   ],
   "source": [
    "arr = ['theme_token_1','theme_token_2','theme_token_3','theme_token_4','theme_token_5']\n",
    "\n",
    "for i in arr:\n",
    "    i_vec = i+\"_vec\"\n",
    "    trackLyricsFeaturesTokenized_good_lyrics[i_vec] = trackLyricsFeaturesTokenized_good_lyrics[i].apply(vectorize)\n",
    "\n",
    "trackLyricsFeaturesTokenized_good_lyrics.head(4)"
   ]
  },
  {
   "cell_type": "code",
   "execution_count": 74,
   "metadata": {
    "slideshow": {
     "slide_type": "subslide"
    }
   },
   "outputs": [
    {
     "data": {
      "text/plain": [
       "array([-7.3688579e-01, -4.8690912e-01, -6.8223548e-01,  2.3768100e-01,\n",
       "       -1.9561019e+00,  1.9184388e-01, -5.2804232e-01, -4.0862875e+00,\n",
       "        2.5918359e-01, -4.3167898e-01, -1.9687415e+00, -1.7977568e+00,\n",
       "        1.0085567e+00, -1.6839849e+00, -8.4392041e-02, -1.3700677e+00,\n",
       "        3.4134750e+00,  1.2074479e+00,  1.1471809e-01, -9.5125008e-01,\n",
       "        4.8479915e-01, -9.9488795e-02,  3.1531608e-01,  1.2446588e+00,\n",
       "        1.2877927e+00, -1.6323663e-02, -6.3703501e-01,  2.7935192e-01,\n",
       "       -4.0926725e-01,  1.7880853e+00,  1.3745763e+00, -5.8682066e-01,\n",
       "       -2.2150755e+00,  5.3085464e-01,  1.1443494e-01, -4.4122070e-01,\n",
       "       -8.8140202e-01, -2.4638457e+00, -4.8468471e-01,  1.9053366e+00,\n",
       "        8.5188669e-01, -7.9409224e-01, -1.4330336e+00,  1.9398315e+00,\n",
       "        1.4239583e-02,  1.3069561e+00, -2.0439343e+00, -1.4490843e+00,\n",
       "       -1.1134715e+00,  7.0423394e-01,  7.8106147e-01, -8.9247674e-01,\n",
       "        6.4587885e-01, -1.9743184e+00, -7.7339923e-01, -1.1423810e+00,\n",
       "        1.7315130e+00,  4.3826392e-01,  3.5035315e-01,  1.5191120e+00,\n",
       "        1.3053663e+00,  2.2808185e+00, -7.8408849e-01, -2.2623296e+00,\n",
       "       -5.3131539e-01, -1.2053113e+00,  1.1881843e+00, -5.8764160e-01,\n",
       "       -1.4473118e+00, -1.3346593e+00, -3.8426673e+00, -1.8749341e+00,\n",
       "       -1.4650302e+00, -8.2805532e-01, -1.1107525e+00,  1.7925917e+00,\n",
       "       -2.2107801e+00, -1.2248873e+00,  1.3019694e+00,  1.8732582e-01,\n",
       "       -1.0617508e+00, -4.3571945e-02,  1.2916520e+00,  5.1978850e-01,\n",
       "       -7.5483453e-01, -1.5716697e+00, -1.5186470e+00, -1.5796363e+00,\n",
       "       -1.5398206e-01, -3.6904174e-01,  1.4305855e+00, -1.1806549e+00,\n",
       "        3.0687448e-02,  1.5020404e+00,  2.0295634e+00, -5.9125262e-01,\n",
       "       -1.6736783e+00, -2.0350113e+00,  1.2894213e+00,  2.5002456e+00,\n",
       "        2.6310308e+00,  1.4449974e+00, -8.6190587e-01, -7.6305466e-03,\n",
       "        3.1044397e+00,  2.4204478e+00,  2.4234636e+00, -2.1719677e+00,\n",
       "       -1.7463993e+00, -9.8653369e-02,  1.1670712e+00,  2.0033896e+00,\n",
       "       -1.2967662e+00, -1.7545960e+00,  2.9010355e-02, -1.8943692e+00,\n",
       "        1.1083956e+00, -5.7761818e-01,  2.3449321e-01,  9.6226794e-01,\n",
       "        1.0704933e+00,  5.5673456e-01, -4.6667406e-01,  1.1246760e+00,\n",
       "       -3.1459279e+00, -2.3365860e-01, -4.9520805e-01, -2.2031159e+00,\n",
       "        4.6064895e-01,  1.9831713e+00, -9.4921017e-01, -1.1450272e+00,\n",
       "       -1.7466379e+00,  9.9223936e-01,  1.6506320e+00, -1.8642271e+00,\n",
       "       -9.5045257e-01,  1.0761813e+00,  2.6349020e+00,  6.1836565e-01,\n",
       "       -5.0087005e-01,  3.0327952e-01,  1.2332436e+00, -1.7037021e+00,\n",
       "       -1.3376063e+00,  1.2909751e+00, -3.7752006e+00,  1.6827859e+00,\n",
       "       -1.4227843e+00, -7.4260026e-01,  1.0560855e+00,  1.3312806e+00,\n",
       "       -4.1850829e-01,  1.1977450e+00,  3.1883756e-03, -3.0692711e+00,\n",
       "       -1.8685925e+00,  8.7341946e-01, -2.0118283e-01, -1.1242095e+00,\n",
       "       -6.2023085e-01,  4.3818858e-01,  1.0337369e+00,  2.3860500e+00,\n",
       "        1.0082666e+00,  1.0431116e+00, -1.1396655e+00,  3.0232805e-01,\n",
       "       -2.2996907e+00, -2.4448142e+00,  1.5819438e+00,  1.7982708e+00,\n",
       "       -1.6783550e+00, -3.0307978e-01,  2.0365095e+00, -5.2332234e-01,\n",
       "        3.6497101e-01,  1.0683547e+00, -7.0482486e-01,  2.9688735e+00,\n",
       "       -1.3913847e+00,  7.8078878e-01,  9.4842279e-01, -1.4572031e+00,\n",
       "        7.8257442e-02,  1.2779732e+00,  1.1664339e+00, -1.2342572e+00,\n",
       "       -5.8175373e-01, -3.9450622e+00, -2.5565991e+00,  2.5742283e-01,\n",
       "        1.8489705e-01, -1.5997994e+00, -1.0414023e+00,  1.7805072e+00,\n",
       "       -9.6861392e-02, -1.9445572e+00, -1.4777344e+00,  1.4291110e+00,\n",
       "       -6.4135247e-01, -1.3804634e+00, -8.4283036e-01,  2.2693694e+00,\n",
       "       -2.3461944e-01,  3.1376728e-01, -1.3046020e+00,  8.6133271e-01,\n",
       "       -7.9627335e-01,  1.4752150e+00, -1.8427608e+00,  3.0797968e+00,\n",
       "        5.7946593e-01, -1.5207229e+00,  1.5543206e+00,  1.2739457e+00,\n",
       "        1.9540493e-01,  2.3084342e+00,  4.2795144e-02, -7.0391524e-01,\n",
       "        3.9750090e-01, -3.4910345e+00, -3.5451078e+00, -1.3468552e+00,\n",
       "        1.9029562e+00, -1.4414244e+00,  5.8438098e-01, -1.4736999e+00,\n",
       "       -2.4078751e+00, -4.0597826e-01,  5.0629979e-01,  5.6507415e-01,\n",
       "       -1.2212205e+00, -1.0411606e+00, -1.1265848e+00,  2.7031853e+00,\n",
       "       -9.7739363e-01, -2.1547399e+00, -3.3721381e-01, -1.0348594e+00,\n",
       "        8.0290127e-01,  1.8903321e+00, -2.4246797e-01, -3.5865372e-01,\n",
       "       -2.4410162e+00,  1.6093308e+00,  1.4891211e+00,  5.5202305e-01,\n",
       "       -2.7362996e-01,  7.6637352e-01], dtype=float32)"
      ]
     },
     "execution_count": 74,
     "metadata": {},
     "output_type": "execute_result"
    }
   ],
   "source": [
    "lyrics_dictionary_model.wv[\"us\"]"
   ]
  },
  {
   "cell_type": "markdown",
   "metadata": {
    "slideshow": {
     "slide_type": "slide"
    }
   },
   "source": [
    "Verify length of theme token vectors"
   ]
  },
  {
   "cell_type": "code",
   "execution_count": 64,
   "metadata": {
    "slideshow": {
     "slide_type": "subslide"
    }
   },
   "outputs": [
    {
     "data": {
      "text/plain": [
       "(250,)"
      ]
     },
     "execution_count": 64,
     "metadata": {},
     "output_type": "execute_result"
    }
   ],
   "source": [
    "trackLyricsFeaturesTokenized_good_lyrics.iloc[0,17].shape"
   ]
  },
  {
   "cell_type": "code",
   "execution_count": 75,
   "metadata": {
    "slideshow": {
     "slide_type": "subslide"
    }
   },
   "outputs": [],
   "source": [
    "trackLyricsFeaturesTokenized_good_lyrics.to_csv(\"./tracksLyricFeatures/tracksLyricThemeVectorized.csv\")"
   ]
  },
  {
   "cell_type": "markdown",
   "metadata": {
    "slideshow": {
     "slide_type": "slide"
    }
   },
   "source": [
    "Repeat the above process for 125 vector size Word2Vec model"
   ]
  },
  {
   "cell_type": "code",
   "execution_count": 20,
   "metadata": {
    "slideshow": {
     "slide_type": "subslide"
    }
   },
   "outputs": [],
   "source": [
    "lyrics_dictionary_model_125 = gensim.models.Word2Vec.load(\"./tracksLyricFeatures/Lyrics_Dictionary_Word2Vec_125.model\")"
   ]
  },
  {
   "cell_type": "code",
   "execution_count": 22,
   "metadata": {
    "slideshow": {
     "slide_type": "subslide"
    }
   },
   "outputs": [
    {
     "data": {
      "text/html": [
       "<div>\n",
       "<style scoped>\n",
       "    .dataframe tbody tr th:only-of-type {\n",
       "        vertical-align: middle;\n",
       "    }\n",
       "\n",
       "    .dataframe tbody tr th {\n",
       "        vertical-align: top;\n",
       "    }\n",
       "\n",
       "    .dataframe thead th {\n",
       "        text-align: right;\n",
       "    }\n",
       "</style>\n",
       "<table border=\"1\" class=\"dataframe\">\n",
       "  <thead>\n",
       "    <tr style=\"text-align: right;\">\n",
       "      <th></th>\n",
       "      <th>id</th>\n",
       "      <th>track</th>\n",
       "      <th>trackArtist</th>\n",
       "      <th>genre</th>\n",
       "      <th>lyrics</th>\n",
       "      <th>top_lang_identified</th>\n",
       "      <th>top_lang_identified_prob</th>\n",
       "      <th>regex_cleaned_lyrics</th>\n",
       "      <th>tokenized_lyrics</th>\n",
       "      <th>tokenized_lyrics_no_stop</th>\n",
       "      <th>tokenized_lyrics_top5_tokens</th>\n",
       "      <th>theme_token_1</th>\n",
       "      <th>theme_token_2</th>\n",
       "      <th>theme_token_3</th>\n",
       "      <th>theme_token_4</th>\n",
       "      <th>theme_token_5</th>\n",
       "    </tr>\n",
       "  </thead>\n",
       "  <tbody>\n",
       "    <tr>\n",
       "      <th>0</th>\n",
       "      <td>2</td>\n",
       "      <td>Food</td>\n",
       "      <td>AWOL</td>\n",
       "      <td>Hip-Hop</td>\n",
       "      <td>The Waking Blind LyricsThe waking blind, embra...</td>\n",
       "      <td>__label__en</td>\n",
       "      <td>0.932648</td>\n",
       "      <td>The waking blind, embraced the dark\\nThey made...</td>\n",
       "      <td>[the, waking, blind, embraced, the, dark, they...</td>\n",
       "      <td>[waking, blind, embraced, dark, made, us, figh...</td>\n",
       "      <td>[us, fight, sky, made, blind]</td>\n",
       "      <td>us</td>\n",
       "      <td>fight</td>\n",
       "      <td>sky</td>\n",
       "      <td>made</td>\n",
       "      <td>blind</td>\n",
       "    </tr>\n",
       "    <tr>\n",
       "      <th>1</th>\n",
       "      <td>5</td>\n",
       "      <td>This World</td>\n",
       "      <td>AWOL</td>\n",
       "      <td>Hip-Hop</td>\n",
       "      <td>E.T. Lyrics[Verse One: Mickey Factz]\\nSee, I s...</td>\n",
       "      <td>__label__en</td>\n",
       "      <td>0.949876</td>\n",
       "      <td>\\nSee, I seen so many faces\\nI've been to many...</td>\n",
       "      <td>[see, seen, so, many, faces, ve, been, to, man...</td>\n",
       "      <td>[see, seen, many, faces, many, places, get, ti...</td>\n",
       "      <td>[world, say, see, get, girl]</td>\n",
       "      <td>world</td>\n",
       "      <td>say</td>\n",
       "      <td>see</td>\n",
       "      <td>get</td>\n",
       "      <td>girl</td>\n",
       "    </tr>\n",
       "    <tr>\n",
       "      <th>2</th>\n",
       "      <td>10</td>\n",
       "      <td>Freeway</td>\n",
       "      <td>Kurt Vile</td>\n",
       "      <td>Pop</td>\n",
       "      <td>Freeway LyricsI got a freeway in mind, let go ...</td>\n",
       "      <td>__label__en</td>\n",
       "      <td>0.960411</td>\n",
       "      <td>I got a freeway in mind, let go of my head\\nWa...</td>\n",
       "      <td>[got, freeway, in, mind, let, go, of, my, head...</td>\n",
       "      <td>[got, freeway, mind, let, go, head, walk, line...</td>\n",
       "      <td>[got, know, go, dump, freeway]</td>\n",
       "      <td>got</td>\n",
       "      <td>know</td>\n",
       "      <td>go</td>\n",
       "      <td>dump</td>\n",
       "      <td>freeway</td>\n",
       "    </tr>\n",
       "    <tr>\n",
       "      <th>3</th>\n",
       "      <td>148</td>\n",
       "      <td>Blackout 2</td>\n",
       "      <td>Contradiction</td>\n",
       "      <td>Experimental</td>\n",
       "      <td>Blackout Lyrics(Verse 1: Noelz Vedere)\\nAnatom...</td>\n",
       "      <td>__label__en</td>\n",
       "      <td>0.900489</td>\n",
       "      <td>\\nAnatomic, catastrophic\\nMy profits probably ...</td>\n",
       "      <td>[anatomic, catastrophic, my, profits, probably...</td>\n",
       "      <td>[anatomic, catastrophic, profits, probably, pa...</td>\n",
       "      <td>[better, blackout, gonna, take, never]</td>\n",
       "      <td>better</td>\n",
       "      <td>blackout</td>\n",
       "      <td>gonna</td>\n",
       "      <td>take</td>\n",
       "      <td>never</td>\n",
       "    </tr>\n",
       "  </tbody>\n",
       "</table>\n",
       "</div>"
      ],
      "text/plain": [
       "    id       track    trackArtist         genre  \\\n",
       "0    2        Food           AWOL       Hip-Hop   \n",
       "1    5  This World           AWOL       Hip-Hop   \n",
       "2   10     Freeway      Kurt Vile           Pop   \n",
       "3  148  Blackout 2  Contradiction  Experimental   \n",
       "\n",
       "                                              lyrics top_lang_identified  \\\n",
       "0  The Waking Blind LyricsThe waking blind, embra...         __label__en   \n",
       "1  E.T. Lyrics[Verse One: Mickey Factz]\\nSee, I s...         __label__en   \n",
       "2  Freeway LyricsI got a freeway in mind, let go ...         __label__en   \n",
       "3  Blackout Lyrics(Verse 1: Noelz Vedere)\\nAnatom...         __label__en   \n",
       "\n",
       "   top_lang_identified_prob  \\\n",
       "0                  0.932648   \n",
       "1                  0.949876   \n",
       "2                  0.960411   \n",
       "3                  0.900489   \n",
       "\n",
       "                                regex_cleaned_lyrics  \\\n",
       "0  The waking blind, embraced the dark\\nThey made...   \n",
       "1  \\nSee, I seen so many faces\\nI've been to many...   \n",
       "2  I got a freeway in mind, let go of my head\\nWa...   \n",
       "3  \\nAnatomic, catastrophic\\nMy profits probably ...   \n",
       "\n",
       "                                    tokenized_lyrics  \\\n",
       "0  [the, waking, blind, embraced, the, dark, they...   \n",
       "1  [see, seen, so, many, faces, ve, been, to, man...   \n",
       "2  [got, freeway, in, mind, let, go, of, my, head...   \n",
       "3  [anatomic, catastrophic, my, profits, probably...   \n",
       "\n",
       "                            tokenized_lyrics_no_stop  \\\n",
       "0  [waking, blind, embraced, dark, made, us, figh...   \n",
       "1  [see, seen, many, faces, many, places, get, ti...   \n",
       "2  [got, freeway, mind, let, go, head, walk, line...   \n",
       "3  [anatomic, catastrophic, profits, probably, pa...   \n",
       "\n",
       "             tokenized_lyrics_top5_tokens theme_token_1 theme_token_2  \\\n",
       "0           [us, fight, sky, made, blind]            us         fight   \n",
       "1            [world, say, see, get, girl]         world           say   \n",
       "2          [got, know, go, dump, freeway]           got          know   \n",
       "3  [better, blackout, gonna, take, never]        better      blackout   \n",
       "\n",
       "  theme_token_3 theme_token_4 theme_token_5  \n",
       "0           sky          made         blind  \n",
       "1           see           get          girl  \n",
       "2            go          dump       freeway  \n",
       "3         gonna          take         never  "
      ]
     },
     "execution_count": 22,
     "metadata": {},
     "output_type": "execute_result"
    }
   ],
   "source": [
    "trackLyricsFeaturesTokenized_good_lyrics = trackLyricsFeaturesTokenized_good_lyrics_cp\n",
    "trackLyricsFeaturesTokenized_good_lyrics.head(4)"
   ]
  },
  {
   "cell_type": "code",
   "execution_count": 23,
   "metadata": {
    "slideshow": {
     "slide_type": "subslide"
    }
   },
   "outputs": [],
   "source": [
    "def vectorize_125(x):\n",
    "    return lyrics_dictionary_model_125.wv[x]"
   ]
  },
  {
   "cell_type": "code",
   "execution_count": 24,
   "metadata": {
    "slideshow": {
     "slide_type": "subslide"
    }
   },
   "outputs": [
    {
     "name": "stderr",
     "output_type": "stream",
     "text": [
      "C:\\Users\\Arnav Sinha\\AppData\\Local\\Temp\\ipykernel_60252\\2329128753.py:5: SettingWithCopyWarning: \n",
      "A value is trying to be set on a copy of a slice from a DataFrame.\n",
      "Try using .loc[row_indexer,col_indexer] = value instead\n",
      "\n",
      "See the caveats in the documentation: https://pandas.pydata.org/pandas-docs/stable/user_guide/indexing.html#returning-a-view-versus-a-copy\n",
      "  trackLyricsFeaturesTokenized_good_lyrics[i_vec] = trackLyricsFeaturesTokenized_good_lyrics[i].apply(vectorize_125)\n",
      "C:\\Users\\Arnav Sinha\\AppData\\Local\\Temp\\ipykernel_60252\\2329128753.py:5: SettingWithCopyWarning: \n",
      "A value is trying to be set on a copy of a slice from a DataFrame.\n",
      "Try using .loc[row_indexer,col_indexer] = value instead\n",
      "\n",
      "See the caveats in the documentation: https://pandas.pydata.org/pandas-docs/stable/user_guide/indexing.html#returning-a-view-versus-a-copy\n",
      "  trackLyricsFeaturesTokenized_good_lyrics[i_vec] = trackLyricsFeaturesTokenized_good_lyrics[i].apply(vectorize_125)\n",
      "C:\\Users\\Arnav Sinha\\AppData\\Local\\Temp\\ipykernel_60252\\2329128753.py:5: SettingWithCopyWarning: \n",
      "A value is trying to be set on a copy of a slice from a DataFrame.\n",
      "Try using .loc[row_indexer,col_indexer] = value instead\n",
      "\n",
      "See the caveats in the documentation: https://pandas.pydata.org/pandas-docs/stable/user_guide/indexing.html#returning-a-view-versus-a-copy\n",
      "  trackLyricsFeaturesTokenized_good_lyrics[i_vec] = trackLyricsFeaturesTokenized_good_lyrics[i].apply(vectorize_125)\n",
      "C:\\Users\\Arnav Sinha\\AppData\\Local\\Temp\\ipykernel_60252\\2329128753.py:5: SettingWithCopyWarning: \n",
      "A value is trying to be set on a copy of a slice from a DataFrame.\n",
      "Try using .loc[row_indexer,col_indexer] = value instead\n",
      "\n",
      "See the caveats in the documentation: https://pandas.pydata.org/pandas-docs/stable/user_guide/indexing.html#returning-a-view-versus-a-copy\n",
      "  trackLyricsFeaturesTokenized_good_lyrics[i_vec] = trackLyricsFeaturesTokenized_good_lyrics[i].apply(vectorize_125)\n",
      "C:\\Users\\Arnav Sinha\\AppData\\Local\\Temp\\ipykernel_60252\\2329128753.py:5: SettingWithCopyWarning: \n",
      "A value is trying to be set on a copy of a slice from a DataFrame.\n",
      "Try using .loc[row_indexer,col_indexer] = value instead\n",
      "\n",
      "See the caveats in the documentation: https://pandas.pydata.org/pandas-docs/stable/user_guide/indexing.html#returning-a-view-versus-a-copy\n",
      "  trackLyricsFeaturesTokenized_good_lyrics[i_vec] = trackLyricsFeaturesTokenized_good_lyrics[i].apply(vectorize_125)\n"
     ]
    },
    {
     "data": {
      "text/html": [
       "<div>\n",
       "<style scoped>\n",
       "    .dataframe tbody tr th:only-of-type {\n",
       "        vertical-align: middle;\n",
       "    }\n",
       "\n",
       "    .dataframe tbody tr th {\n",
       "        vertical-align: top;\n",
       "    }\n",
       "\n",
       "    .dataframe thead th {\n",
       "        text-align: right;\n",
       "    }\n",
       "</style>\n",
       "<table border=\"1\" class=\"dataframe\">\n",
       "  <thead>\n",
       "    <tr style=\"text-align: right;\">\n",
       "      <th></th>\n",
       "      <th>id</th>\n",
       "      <th>track</th>\n",
       "      <th>trackArtist</th>\n",
       "      <th>genre</th>\n",
       "      <th>lyrics</th>\n",
       "      <th>top_lang_identified</th>\n",
       "      <th>top_lang_identified_prob</th>\n",
       "      <th>regex_cleaned_lyrics</th>\n",
       "      <th>tokenized_lyrics</th>\n",
       "      <th>tokenized_lyrics_no_stop</th>\n",
       "      <th>...</th>\n",
       "      <th>theme_token_1</th>\n",
       "      <th>theme_token_2</th>\n",
       "      <th>theme_token_3</th>\n",
       "      <th>theme_token_4</th>\n",
       "      <th>theme_token_5</th>\n",
       "      <th>theme_token_1_vec</th>\n",
       "      <th>theme_token_2_vec</th>\n",
       "      <th>theme_token_3_vec</th>\n",
       "      <th>theme_token_4_vec</th>\n",
       "      <th>theme_token_5_vec</th>\n",
       "    </tr>\n",
       "  </thead>\n",
       "  <tbody>\n",
       "    <tr>\n",
       "      <th>0</th>\n",
       "      <td>2</td>\n",
       "      <td>Food</td>\n",
       "      <td>AWOL</td>\n",
       "      <td>Hip-Hop</td>\n",
       "      <td>The Waking Blind LyricsThe waking blind, embra...</td>\n",
       "      <td>__label__en</td>\n",
       "      <td>0.932648</td>\n",
       "      <td>The waking blind, embraced the dark\\nThey made...</td>\n",
       "      <td>[the, waking, blind, embraced, the, dark, they...</td>\n",
       "      <td>[waking, blind, embraced, dark, made, us, figh...</td>\n",
       "      <td>...</td>\n",
       "      <td>us</td>\n",
       "      <td>fight</td>\n",
       "      <td>sky</td>\n",
       "      <td>made</td>\n",
       "      <td>blind</td>\n",
       "      <td>[0.644366, -1.8408995, -0.36924273, 0.48891515...</td>\n",
       "      <td>[-1.6862539, 2.0813553, -0.75358343, -0.413386...</td>\n",
       "      <td>[-0.16251208, 1.049491, 1.8228607, -2.8737357,...</td>\n",
       "      <td>[0.42628798, -0.22753428, -1.9290991, 1.566466...</td>\n",
       "      <td>[-0.7847691, 2.0510666, -2.613047, -0.6102007,...</td>\n",
       "    </tr>\n",
       "    <tr>\n",
       "      <th>1</th>\n",
       "      <td>5</td>\n",
       "      <td>This World</td>\n",
       "      <td>AWOL</td>\n",
       "      <td>Hip-Hop</td>\n",
       "      <td>E.T. Lyrics[Verse One: Mickey Factz]\\nSee, I s...</td>\n",
       "      <td>__label__en</td>\n",
       "      <td>0.949876</td>\n",
       "      <td>\\nSee, I seen so many faces\\nI've been to many...</td>\n",
       "      <td>[see, seen, so, many, faces, ve, been, to, man...</td>\n",
       "      <td>[see, seen, many, faces, many, places, get, ti...</td>\n",
       "      <td>...</td>\n",
       "      <td>world</td>\n",
       "      <td>say</td>\n",
       "      <td>see</td>\n",
       "      <td>get</td>\n",
       "      <td>girl</td>\n",
       "      <td>[-0.13129893, -1.2346379, 2.8603253, 1.2410786...</td>\n",
       "      <td>[-0.5285235, 0.8967087, -1.753356, -0.55411255...</td>\n",
       "      <td>[-2.2611797, 2.8824058, -1.6390867, -2.0671778...</td>\n",
       "      <td>[0.2112657, 2.286089, -2.550711, 0.1377382, 2....</td>\n",
       "      <td>[0.19001627, 1.3540837, -0.6024195, -0.4582716...</td>\n",
       "    </tr>\n",
       "    <tr>\n",
       "      <th>2</th>\n",
       "      <td>10</td>\n",
       "      <td>Freeway</td>\n",
       "      <td>Kurt Vile</td>\n",
       "      <td>Pop</td>\n",
       "      <td>Freeway LyricsI got a freeway in mind, let go ...</td>\n",
       "      <td>__label__en</td>\n",
       "      <td>0.960411</td>\n",
       "      <td>I got a freeway in mind, let go of my head\\nWa...</td>\n",
       "      <td>[got, freeway, in, mind, let, go, of, my, head...</td>\n",
       "      <td>[got, freeway, mind, let, go, head, walk, line...</td>\n",
       "      <td>...</td>\n",
       "      <td>got</td>\n",
       "      <td>know</td>\n",
       "      <td>go</td>\n",
       "      <td>dump</td>\n",
       "      <td>freeway</td>\n",
       "      <td>[-0.1946999, 2.6564999, -0.8294583, -0.4025004...</td>\n",
       "      <td>[-1.4553922, 3.8754973, -1.6874942, -1.1240348...</td>\n",
       "      <td>[-0.33381423, 3.078735, -1.3531779, 0.06115425...</td>\n",
       "      <td>[0.013161531, -0.9392986, -0.471028, 0.1687076...</td>\n",
       "      <td>[1.0677713, -0.119711965, 0.10461726, 0.206433...</td>\n",
       "    </tr>\n",
       "    <tr>\n",
       "      <th>3</th>\n",
       "      <td>148</td>\n",
       "      <td>Blackout 2</td>\n",
       "      <td>Contradiction</td>\n",
       "      <td>Experimental</td>\n",
       "      <td>Blackout Lyrics(Verse 1: Noelz Vedere)\\nAnatom...</td>\n",
       "      <td>__label__en</td>\n",
       "      <td>0.900489</td>\n",
       "      <td>\\nAnatomic, catastrophic\\nMy profits probably ...</td>\n",
       "      <td>[anatomic, catastrophic, my, profits, probably...</td>\n",
       "      <td>[anatomic, catastrophic, profits, probably, pa...</td>\n",
       "      <td>...</td>\n",
       "      <td>better</td>\n",
       "      <td>blackout</td>\n",
       "      <td>gonna</td>\n",
       "      <td>take</td>\n",
       "      <td>never</td>\n",
       "      <td>[0.4509398, 1.6939244, -1.8020959, -0.9481517,...</td>\n",
       "      <td>[0.19974507, 0.235193, 0.22889362, 0.3196816, ...</td>\n",
       "      <td>[-1.8374147, 1.4321458, 2.168696, -1.3679633, ...</td>\n",
       "      <td>[2.5032115, 1.12036, -2.1712477, -0.68210334, ...</td>\n",
       "      <td>[-2.0304005, 0.40059865, 0.18482238, -1.408464...</td>\n",
       "    </tr>\n",
       "  </tbody>\n",
       "</table>\n",
       "<p>4 rows × 21 columns</p>\n",
       "</div>"
      ],
      "text/plain": [
       "    id       track    trackArtist         genre  \\\n",
       "0    2        Food           AWOL       Hip-Hop   \n",
       "1    5  This World           AWOL       Hip-Hop   \n",
       "2   10     Freeway      Kurt Vile           Pop   \n",
       "3  148  Blackout 2  Contradiction  Experimental   \n",
       "\n",
       "                                              lyrics top_lang_identified  \\\n",
       "0  The Waking Blind LyricsThe waking blind, embra...         __label__en   \n",
       "1  E.T. Lyrics[Verse One: Mickey Factz]\\nSee, I s...         __label__en   \n",
       "2  Freeway LyricsI got a freeway in mind, let go ...         __label__en   \n",
       "3  Blackout Lyrics(Verse 1: Noelz Vedere)\\nAnatom...         __label__en   \n",
       "\n",
       "   top_lang_identified_prob  \\\n",
       "0                  0.932648   \n",
       "1                  0.949876   \n",
       "2                  0.960411   \n",
       "3                  0.900489   \n",
       "\n",
       "                                regex_cleaned_lyrics  \\\n",
       "0  The waking blind, embraced the dark\\nThey made...   \n",
       "1  \\nSee, I seen so many faces\\nI've been to many...   \n",
       "2  I got a freeway in mind, let go of my head\\nWa...   \n",
       "3  \\nAnatomic, catastrophic\\nMy profits probably ...   \n",
       "\n",
       "                                    tokenized_lyrics  \\\n",
       "0  [the, waking, blind, embraced, the, dark, they...   \n",
       "1  [see, seen, so, many, faces, ve, been, to, man...   \n",
       "2  [got, freeway, in, mind, let, go, of, my, head...   \n",
       "3  [anatomic, catastrophic, my, profits, probably...   \n",
       "\n",
       "                            tokenized_lyrics_no_stop  ... theme_token_1  \\\n",
       "0  [waking, blind, embraced, dark, made, us, figh...  ...            us   \n",
       "1  [see, seen, many, faces, many, places, get, ti...  ...         world   \n",
       "2  [got, freeway, mind, let, go, head, walk, line...  ...           got   \n",
       "3  [anatomic, catastrophic, profits, probably, pa...  ...        better   \n",
       "\n",
       "  theme_token_2 theme_token_3 theme_token_4 theme_token_5  \\\n",
       "0         fight           sky          made         blind   \n",
       "1           say           see           get          girl   \n",
       "2          know            go          dump       freeway   \n",
       "3      blackout         gonna          take         never   \n",
       "\n",
       "                                   theme_token_1_vec  \\\n",
       "0  [0.644366, -1.8408995, -0.36924273, 0.48891515...   \n",
       "1  [-0.13129893, -1.2346379, 2.8603253, 1.2410786...   \n",
       "2  [-0.1946999, 2.6564999, -0.8294583, -0.4025004...   \n",
       "3  [0.4509398, 1.6939244, -1.8020959, -0.9481517,...   \n",
       "\n",
       "                                   theme_token_2_vec  \\\n",
       "0  [-1.6862539, 2.0813553, -0.75358343, -0.413386...   \n",
       "1  [-0.5285235, 0.8967087, -1.753356, -0.55411255...   \n",
       "2  [-1.4553922, 3.8754973, -1.6874942, -1.1240348...   \n",
       "3  [0.19974507, 0.235193, 0.22889362, 0.3196816, ...   \n",
       "\n",
       "                                   theme_token_3_vec  \\\n",
       "0  [-0.16251208, 1.049491, 1.8228607, -2.8737357,...   \n",
       "1  [-2.2611797, 2.8824058, -1.6390867, -2.0671778...   \n",
       "2  [-0.33381423, 3.078735, -1.3531779, 0.06115425...   \n",
       "3  [-1.8374147, 1.4321458, 2.168696, -1.3679633, ...   \n",
       "\n",
       "                                   theme_token_4_vec  \\\n",
       "0  [0.42628798, -0.22753428, -1.9290991, 1.566466...   \n",
       "1  [0.2112657, 2.286089, -2.550711, 0.1377382, 2....   \n",
       "2  [0.013161531, -0.9392986, -0.471028, 0.1687076...   \n",
       "3  [2.5032115, 1.12036, -2.1712477, -0.68210334, ...   \n",
       "\n",
       "                                   theme_token_5_vec  \n",
       "0  [-0.7847691, 2.0510666, -2.613047, -0.6102007,...  \n",
       "1  [0.19001627, 1.3540837, -0.6024195, -0.4582716...  \n",
       "2  [1.0677713, -0.119711965, 0.10461726, 0.206433...  \n",
       "3  [-2.0304005, 0.40059865, 0.18482238, -1.408464...  \n",
       "\n",
       "[4 rows x 21 columns]"
      ]
     },
     "execution_count": 24,
     "metadata": {},
     "output_type": "execute_result"
    }
   ],
   "source": [
    "arr = ['theme_token_1','theme_token_2','theme_token_3','theme_token_4','theme_token_5']\n",
    "\n",
    "for i in arr:\n",
    "    i_vec = i+\"_vec\"\n",
    "    trackLyricsFeaturesTokenized_good_lyrics[i_vec] = trackLyricsFeaturesTokenized_good_lyrics[i].apply(vectorize_125)\n",
    "\n",
    "trackLyricsFeaturesTokenized_good_lyrics.head(4)"
   ]
  },
  {
   "cell_type": "markdown",
   "metadata": {
    "slideshow": {
     "slide_type": "slide"
    }
   },
   "source": [
    "Verify the length of the theme token vector"
   ]
  },
  {
   "cell_type": "code",
   "execution_count": 25,
   "metadata": {
    "slideshow": {
     "slide_type": "subslide"
    }
   },
   "outputs": [
    {
     "data": {
      "text/plain": [
       "(125,)"
      ]
     },
     "execution_count": 25,
     "metadata": {},
     "output_type": "execute_result"
    }
   ],
   "source": [
    "trackLyricsFeaturesTokenized_good_lyrics.iloc[0,17].shape"
   ]
  },
  {
   "cell_type": "markdown",
   "metadata": {
    "slideshow": {
     "slide_type": "slide"
    }
   },
   "source": [
    "Save the 125 vector size data"
   ]
  },
  {
   "cell_type": "code",
   "execution_count": 26,
   "metadata": {
    "slideshow": {
     "slide_type": "subslide"
    }
   },
   "outputs": [],
   "source": [
    "trackLyricsFeaturesTokenized_good_lyrics.to_csv(\"./tracksLyricFeatures/tracksLyricThemeVectorized_125Vec.csv\")"
   ]
  },
  {
   "cell_type": "markdown",
   "metadata": {
    "slideshow": {
     "slide_type": "slide"
    }
   },
   "source": [
    "This data will be combined the Audio MFCC features to get the final dataset to be used in the Genre detection models"
   ]
  }
 ],
 "metadata": {
  "celltoolbar": "Slideshow",
  "kernelspec": {
   "display_name": "Python 3 (ipykernel)",
   "language": "python",
   "name": "python3"
  },
  "language_info": {
   "codemirror_mode": {
    "name": "ipython",
    "version": 3
   },
   "file_extension": ".py",
   "mimetype": "text/x-python",
   "name": "python",
   "nbconvert_exporter": "python",
   "pygments_lexer": "ipython3",
   "version": "3.9.7"
  },
  "vscode": {
   "interpreter": {
    "hash": "4699a25f376d65a513f5cdbbe338e0837a12cbc5eae8a3725f0e413f2e7c51eb"
   }
  }
 },
 "nbformat": 4,
 "nbformat_minor": 2
}
